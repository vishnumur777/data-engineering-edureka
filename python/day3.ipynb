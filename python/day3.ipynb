{
 "cells": [
  {
   "cell_type": "markdown",
   "id": "40d5d362-afcd-494e-829c-3f7ce1d27104",
   "metadata": {},
   "source": [
    "# Exceptional Handling"
   ]
  },
  {
   "cell_type": "markdown",
   "id": "146f41d0-b118-4f6b-b6b8-cb1f94ad3463",
   "metadata": {},
   "source": [
    "- **Error:** errors can be fixed easily (eg: `SynTax Error:` can be fixed anyways)\n",
    "\n",
    "- **Exceptions:** We can't fix exceptions (eg: `2/0` = No Solution)"
   ]
  },
  {
   "cell_type": "markdown",
   "id": "131a4bdb-1dd7-4d9d-90e5-5eae11558e74",
   "metadata": {},
   "source": [
    "## Syntax for exception handling"
   ]
  },
  {
   "cell_type": "markdown",
   "id": "2ec2de3b-cb76-4461-bd2d-7f51e2d3e834",
   "metadata": {},
   "source": [
    "```python\n",
    "try:\n",
    "    raise Exception\n",
    "except obj.Except:\n",
    "    # code to handle exception\n",
    "```"
   ]
  },
  {
   "cell_type": "markdown",
   "id": "08fed825-c26c-40fa-bc02-ae962c318480",
   "metadata": {
    "tags": []
   },
   "source": [
    "### Multiple `Except` Block\n",
    "\n",
    "```python\n",
    "try:\n",
    "    raise Exception:\n",
    "except 1:\n",
    "    #code handle exp1\n",
    "except 2:\n",
    "    #code handle exp2\n",
    "except 3:\n",
    "    #code handle exp3\n",
    "```"
   ]
  },
  {
   "cell_type": "markdown",
   "id": "41a9f8ab-7e75-4dca-b3e5-3995cf3e2a65",
   "metadata": {},
   "source": [
    "### `Else` and `Finally` Block\n",
    "\n",
    "```python\n",
    "try:\n",
    "    raise Exception\n",
    "except obj.Except:\n",
    "    # code to handle exception\n",
    "else:\n",
    "    # code if there is no exception\n",
    "finally:\n",
    "    # code runs at last of exception handling (always executed)\n",
    "```\n"
   ]
  },
  {
   "cell_type": "markdown",
   "id": "4b6da86a-968a-468d-85a8-f2e3c82b7c7b",
   "metadata": {},
   "source": [
    "### Examples of Exception"
   ]
  },
  {
   "cell_type": "code",
   "execution_count": 2,
   "id": "10b3f775-96c8-401e-834b-d89ecaf62306",
   "metadata": {},
   "outputs": [],
   "source": [
    "a=10\n",
    "b = 2"
   ]
  },
  {
   "cell_type": "code",
   "execution_count": 3,
   "id": "89cff088-0c1e-4cb8-801a-ad88e967198b",
   "metadata": {},
   "outputs": [
    {
     "ename": "ZeroDivisionError",
     "evalue": "division by zero",
     "output_type": "error",
     "traceback": [
      "\u001b[0;31m---------------------------------------------------------------------------\u001b[0m",
      "\u001b[0;31mZeroDivisionError\u001b[0m                         Traceback (most recent call last)",
      "\u001b[0;32m/tmp/ipykernel_1700563/4102073204.py\u001b[0m in \u001b[0;36m<module>\u001b[0;34m\u001b[0m\n\u001b[0;32m----> 1\u001b[0;31m \u001b[0ma\u001b[0m\u001b[0;34m/\u001b[0m\u001b[0;36m0\u001b[0m\u001b[0;34m\u001b[0m\u001b[0;34m\u001b[0m\u001b[0m\n\u001b[0m",
      "\u001b[0;31mZeroDivisionError\u001b[0m: division by zero"
     ]
    }
   ],
   "source": [
    "a/0"
   ]
  },
  {
   "cell_type": "code",
   "execution_count": 4,
   "id": "2351e879-0c22-421e-be23-ed53f7b0cfcf",
   "metadata": {},
   "outputs": [
    {
     "ename": "NameError",
     "evalue": "name 'c' is not defined",
     "output_type": "error",
     "traceback": [
      "\u001b[0;31m---------------------------------------------------------------------------\u001b[0m",
      "\u001b[0;31mNameError\u001b[0m                                 Traceback (most recent call last)",
      "\u001b[0;32m/tmp/ipykernel_1700563/3235490055.py\u001b[0m in \u001b[0;36m<module>\u001b[0;34m\u001b[0m\n\u001b[0;32m----> 1\u001b[0;31m \u001b[0mc\u001b[0m\u001b[0;34m\u001b[0m\u001b[0;34m\u001b[0m\u001b[0m\n\u001b[0m",
      "\u001b[0;31mNameError\u001b[0m: name 'c' is not defined"
     ]
    }
   ],
   "source": [
    "c"
   ]
  },
  {
   "cell_type": "code",
   "execution_count": 6,
   "id": "4e2d7def-35a7-48a5-91d6-624f3d902b47",
   "metadata": {},
   "outputs": [],
   "source": [
    "a=[1,2,3,4]"
   ]
  },
  {
   "cell_type": "code",
   "execution_count": 7,
   "id": "b9c16ac2-e9c1-4974-9d06-0b650cf2dd68",
   "metadata": {},
   "outputs": [
    {
     "ename": "IndexError",
     "evalue": "list index out of range",
     "output_type": "error",
     "traceback": [
      "\u001b[0;31m---------------------------------------------------------------------------\u001b[0m",
      "\u001b[0;31mIndexError\u001b[0m                                Traceback (most recent call last)",
      "\u001b[0;32m/tmp/ipykernel_1700563/2657792343.py\u001b[0m in \u001b[0;36m<module>\u001b[0;34m\u001b[0m\n\u001b[0;32m----> 1\u001b[0;31m \u001b[0ma\u001b[0m\u001b[0;34m[\u001b[0m\u001b[0;36m5\u001b[0m\u001b[0;34m]\u001b[0m\u001b[0;34m\u001b[0m\u001b[0;34m\u001b[0m\u001b[0m\n\u001b[0m",
      "\u001b[0;31mIndexError\u001b[0m: list index out of range"
     ]
    }
   ],
   "source": [
    "a[5]"
   ]
  },
  {
   "cell_type": "code",
   "execution_count": 8,
   "id": "d1350226-1298-4d22-845b-c4c9eed220ab",
   "metadata": {},
   "outputs": [
    {
     "ename": "IndexError",
     "evalue": "tuple index out of range",
     "output_type": "error",
     "traceback": [
      "\u001b[0;31m---------------------------------------------------------------------------\u001b[0m",
      "\u001b[0;31mIndexError\u001b[0m                                Traceback (most recent call last)",
      "\u001b[0;32m/tmp/ipykernel_1700563/3958870754.py\u001b[0m in \u001b[0;36m<module>\u001b[0;34m\u001b[0m\n\u001b[1;32m      1\u001b[0m \u001b[0ma\u001b[0m\u001b[0;34m=\u001b[0m\u001b[0;34m(\u001b[0m\u001b[0;36m1\u001b[0m\u001b[0;34m,\u001b[0m\u001b[0;36m2\u001b[0m\u001b[0;34m,\u001b[0m\u001b[0;36m3\u001b[0m\u001b[0;34m)\u001b[0m\u001b[0;34m;\u001b[0m\u001b[0mb\u001b[0m\u001b[0;34m=\u001b[0m\u001b[0;34m(\u001b[0m\u001b[0;36m4\u001b[0m\u001b[0;34m,\u001b[0m\u001b[0;36m5\u001b[0m\u001b[0;34m,\u001b[0m\u001b[0;36m6\u001b[0m\u001b[0;34m)\u001b[0m\u001b[0;34m\u001b[0m\u001b[0;34m\u001b[0m\u001b[0m\n\u001b[0;32m----> 2\u001b[0;31m \u001b[0ma\u001b[0m\u001b[0;34m[\u001b[0m\u001b[0;36m5\u001b[0m\u001b[0;34m]\u001b[0m\u001b[0;34m;\u001b[0m\u001b[0mb\u001b[0m\u001b[0;34m[\u001b[0m\u001b[0;36m10\u001b[0m\u001b[0;34m]\u001b[0m\u001b[0;34m\u001b[0m\u001b[0;34m\u001b[0m\u001b[0m\n\u001b[0m",
      "\u001b[0;31mIndexError\u001b[0m: tuple index out of range"
     ]
    }
   ],
   "source": [
    "a=(1,2,3);b=(4,5,6)\n",
    "a[5];b[10]"
   ]
  },
  {
   "cell_type": "code",
   "execution_count": 9,
   "id": "b0eb7f5d-2a2b-405a-80f0-989c62ad4c74",
   "metadata": {},
   "outputs": [],
   "source": [
    "population = {\"India\":35345, \"US\":93495349}"
   ]
  },
  {
   "cell_type": "code",
   "execution_count": 10,
   "id": "f19d5a2e-7ba4-43e5-ac81-18db1cf24b15",
   "metadata": {},
   "outputs": [
    {
     "ename": "KeyError",
     "evalue": "'UK'",
     "output_type": "error",
     "traceback": [
      "\u001b[0;31m---------------------------------------------------------------------------\u001b[0m",
      "\u001b[0;31mKeyError\u001b[0m                                  Traceback (most recent call last)",
      "\u001b[0;32m/tmp/ipykernel_1700563/446877524.py\u001b[0m in \u001b[0;36m<module>\u001b[0;34m\u001b[0m\n\u001b[0;32m----> 1\u001b[0;31m \u001b[0mpopulation\u001b[0m\u001b[0;34m[\u001b[0m\u001b[0;34m\"UK\"\u001b[0m\u001b[0;34m]\u001b[0m\u001b[0;34m\u001b[0m\u001b[0;34m\u001b[0m\u001b[0m\n\u001b[0m",
      "\u001b[0;31mKeyError\u001b[0m: 'UK'"
     ]
    }
   ],
   "source": [
    "population[\"UK\"]"
   ]
  },
  {
   "cell_type": "markdown",
   "id": "61ab392d-7dd4-475f-9568-553ead1a0c89",
   "metadata": {},
   "source": [
    "### Examples of error"
   ]
  },
  {
   "cell_type": "code",
   "execution_count": 11,
   "id": "2eade9c0-4d93-4419-b640-fcccf9921476",
   "metadata": {},
   "outputs": [
    {
     "ename": "FileNotFoundError",
     "evalue": "[Errno 2] No such file or directory: 'test.csv'",
     "output_type": "error",
     "traceback": [
      "\u001b[0;31m---------------------------------------------------------------------------\u001b[0m",
      "\u001b[0;31mFileNotFoundError\u001b[0m                         Traceback (most recent call last)",
      "\u001b[0;32m/tmp/ipykernel_1700563/1346269920.py\u001b[0m in \u001b[0;36m<module>\u001b[0;34m\u001b[0m\n\u001b[0;32m----> 1\u001b[0;31m \u001b[0mopen\u001b[0m\u001b[0;34m(\u001b[0m\u001b[0;34m\"test.csv\"\u001b[0m\u001b[0;34m)\u001b[0m\u001b[0;34m\u001b[0m\u001b[0;34m\u001b[0m\u001b[0m\n\u001b[0m",
      "\u001b[0;31mFileNotFoundError\u001b[0m: [Errno 2] No such file or directory: 'test.csv'"
     ]
    }
   ],
   "source": [
    "open(\"test.csv\")"
   ]
  },
  {
   "cell_type": "code",
   "execution_count": 5,
   "id": "e287af92-6b7e-4fac-a7a0-ebca2574a7b2",
   "metadata": {},
   "outputs": [
    {
     "ename": "SyntaxError",
     "evalue": "invalid syntax (3320917452.py, line 1)",
     "output_type": "error",
     "traceback": [
      "\u001b[0;36m  File \u001b[0;32m\"/tmp/ipykernel_1700563/3320917452.py\"\u001b[0;36m, line \u001b[0;32m1\u001b[0m\n\u001b[0;31m    if a\u001b[0m\n\u001b[0m        ^\u001b[0m\n\u001b[0;31mSyntaxError\u001b[0m\u001b[0;31m:\u001b[0m invalid syntax\n"
     ]
    }
   ],
   "source": [
    "if a"
   ]
  },
  {
   "cell_type": "markdown",
   "id": "b6fc91ef-9d60-4f3b-9fe2-959eef1de57e",
   "metadata": {},
   "source": [
    "### Exception Handling (Example)"
   ]
  },
  {
   "cell_type": "code",
   "execution_count": 47,
   "id": "7cd38e66-fc35-4b4f-b3f3-9896da654244",
   "metadata": {},
   "outputs": [],
   "source": [
    "a=10"
   ]
  },
  {
   "cell_type": "code",
   "execution_count": 48,
   "id": "efa6d506-d060-4c1f-ba70-806d4df212c7",
   "metadata": {},
   "outputs": [],
   "source": [
    "b=0"
   ]
  },
  {
   "cell_type": "code",
   "execution_count": 49,
   "id": "3f334713-ed80-4478-9570-339eacb1aa05",
   "metadata": {},
   "outputs": [
    {
     "name": "stdout",
     "output_type": "stream",
     "text": [
      "Zero Div error: division by zero\n",
      "Finally block executed....\n"
     ]
    }
   ],
   "source": [
    "try:\n",
    "    c=a/b\n",
    "    print(\"result: \",c)\n",
    "except ZeroDivisionError as ze:\n",
    "    print(f\"Zero Div error: {ze}\")\n",
    "except TypeError as te:\n",
    "    print(f\"Type got mismatched: {te}\")\n",
    "except Exception as e:\n",
    "    print(\"Mistake:\", e, sep=\" \")\n",
    "except IndexError as ie:\n",
    "    print(f\"Index got out of space\")\n",
    "else:\n",
    "    print(\"Code executed successfully..........\")\n",
    "finally:\n",
    "    print(\"Finally block executed....\")"
   ]
  },
  {
   "cell_type": "code",
   "execution_count": 50,
   "id": "1bfb88cb-fc29-40c1-ac1f-e20738b44eaf",
   "metadata": {},
   "outputs": [
    {
     "name": "stdout",
     "output_type": "stream",
     "text": [
      "1\n",
      "2\n",
      "3\n",
      "Index got out of space\n"
     ]
    }
   ],
   "source": [
    "try:\n",
    "    a=[1,2,3,]\n",
    "    for x in range(5):\n",
    "        print(a[x])\n",
    "except IndexError as ie:\n",
    "    print(f\"Index got out of space\")"
   ]
  },
  {
   "cell_type": "markdown",
   "id": "d4dfc680-6835-4919-8fbe-3ecd1ecaaa36",
   "metadata": {},
   "source": [
    "### Explicit exception `raise` keyword"
   ]
  },
  {
   "cell_type": "code",
   "execution_count": 54,
   "id": "1912497f-9ea6-44f8-bced-21cfc1b728f1",
   "metadata": {},
   "outputs": [],
   "source": [
    "age=9"
   ]
  },
  {
   "cell_type": "code",
   "execution_count": 57,
   "id": "0f04457b-3608-4f8a-96cd-7cd29343c3f8",
   "metadata": {},
   "outputs": [
    {
     "name": "stdout",
     "output_type": "stream",
     "text": [
      "Not excepted to vote this age.\n",
      "<class 'Exception'>\n"
     ]
    }
   ],
   "source": [
    "try:\n",
    "    if age>=18:\n",
    "        print(\"OK\")\n",
    "    else:\n",
    "        raise Exception\n",
    "except Exception as e:\n",
    "    print(\"Not excepted to vote this age.\")\n",
    "    print(e.__class__)"
   ]
  },
  {
   "cell_type": "markdown",
   "id": "0702dc8e-1089-4c87-86a0-84b4558bdb53",
   "metadata": {},
   "source": [
    "but we have to raise error `Not excepted to vote this age.` as a real-customized-exception. For that we use,\n",
    "\n",
    "### Custom Exception creation"
   ]
  },
  {
   "cell_type": "code",
   "execution_count": 82,
   "id": "c0f63e7b-1771-4322-b7c1-e29e18b3e195",
   "metadata": {},
   "outputs": [],
   "source": [
    "class CustomException(Exception):\n",
    "    def __init__(self, msg, errorcode):\n",
    "        super().__init__(msg)\n",
    "        self.message = msg\n",
    "        self.errorcode = errorcode\n",
    "    def __str__(self):\n",
    "        return f\"{self.message}: Error code {self.errorcode}\""
   ]
  },
  {
   "cell_type": "code",
   "execution_count": 83,
   "id": "50ea0136-10da-4b49-9068-6fda6a4347c9",
   "metadata": {},
   "outputs": [
    {
     "name": "stdout",
     "output_type": "stream",
     "text": [
      "Not expected to vote: Error code 900\n"
     ]
    }
   ],
   "source": [
    "try:\n",
    "    if age>=18:\n",
    "        print(\"OK\")\n",
    "    else:\n",
    "        raise CustomException(\"Not expected to vote\", 900)\n",
    "except CustomException as e:\n",
    "    print(e)"
   ]
  },
  {
   "cell_type": "code",
   "execution_count": 77,
   "id": "007500f9-2457-4f9e-bd42-7d8ba0dcc8de",
   "metadata": {},
   "outputs": [
    {
     "name": "stdout",
     "output_type": "stream",
     "text": [
      "Help on class Exception in module builtins:\n",
      "\n",
      "class Exception(BaseException)\n",
      " |  Common base class for all non-exit exceptions.\n",
      " |  \n",
      " |  Method resolution order:\n",
      " |      Exception\n",
      " |      BaseException\n",
      " |      object\n",
      " |  \n",
      " |  Built-in subclasses:\n",
      " |      ArithmeticError\n",
      " |      AssertionError\n",
      " |      AttributeError\n",
      " |      BufferError\n",
      " |      ... and 15 other subclasses\n",
      " |  \n",
      " |  Methods defined here:\n",
      " |  \n",
      " |  __init__(self, /, *args, **kwargs)\n",
      " |      Initialize self.  See help(type(self)) for accurate signature.\n",
      " |  \n",
      " |  ----------------------------------------------------------------------\n",
      " |  Static methods defined here:\n",
      " |  \n",
      " |  __new__(*args, **kwargs) from builtins.type\n",
      " |      Create and return a new object.  See help(type) for accurate signature.\n",
      " |  \n",
      " |  ----------------------------------------------------------------------\n",
      " |  Methods inherited from BaseException:\n",
      " |  \n",
      " |  __delattr__(self, name, /)\n",
      " |      Implement delattr(self, name).\n",
      " |  \n",
      " |  __getattribute__(self, name, /)\n",
      " |      Return getattr(self, name).\n",
      " |  \n",
      " |  __reduce__(...)\n",
      " |      Helper for pickle.\n",
      " |  \n",
      " |  __repr__(self, /)\n",
      " |      Return repr(self).\n",
      " |  \n",
      " |  __setattr__(self, name, value, /)\n",
      " |      Implement setattr(self, name, value).\n",
      " |  \n",
      " |  __setstate__(...)\n",
      " |  \n",
      " |  __str__(self, /)\n",
      " |      Return str(self).\n",
      " |  \n",
      " |  with_traceback(...)\n",
      " |      Exception.with_traceback(tb) --\n",
      " |      set self.__traceback__ to tb and return self.\n",
      " |  \n",
      " |  ----------------------------------------------------------------------\n",
      " |  Data descriptors inherited from BaseException:\n",
      " |  \n",
      " |  __cause__\n",
      " |      exception cause\n",
      " |  \n",
      " |  __context__\n",
      " |      exception context\n",
      " |  \n",
      " |  __dict__\n",
      " |  \n",
      " |  __suppress_context__\n",
      " |  \n",
      " |  __traceback__\n",
      " |  \n",
      " |  args\n",
      "\n"
     ]
    }
   ],
   "source": [
    "help(Exception)"
   ]
  },
  {
   "cell_type": "markdown",
   "id": "66b000be-58c5-4f2a-ace2-d68f25fc3de7",
   "metadata": {},
   "source": [
    "# `modules` and `packages`"
   ]
  },
  {
   "cell_type": "markdown",
   "id": "b579fa4e-8274-4787-8779-19d5289c0d83",
   "metadata": {},
   "source": [
    "- `modules` are the python files with functions and classes\n",
    "- `packages` are collection of python files which are stored in a folder."
   ]
  },
  {
   "cell_type": "code",
   "execution_count": 84,
   "id": "98e970d3-09dc-4530-acd9-60c8c72c6fce",
   "metadata": {},
   "outputs": [],
   "source": [
    "import sys"
   ]
  },
  {
   "cell_type": "code",
   "execution_count": 85,
   "id": "81b5fcba-a520-4ea9-b2bb-fc30db64a698",
   "metadata": {},
   "outputs": [
    {
     "data": {
      "text/plain": [
       "['/home/varunm15t38hedu',\n",
       " '/opt/anaconda3/lib/python39.zip',\n",
       " '/opt/anaconda3/lib/python3.9',\n",
       " '/opt/anaconda3/lib/python3.9/lib-dynload',\n",
       " '',\n",
       " '/opt/anaconda3/lib/python3.9/site-packages',\n",
       " '/opt/anaconda3/lib/python3.9/site-packages/IPython/extensions',\n",
       " '/home/varunm15t38hedu/.ipython']"
      ]
     },
     "execution_count": 85,
     "metadata": {},
     "output_type": "execute_result"
    }
   ],
   "source": [
    "sys.path"
   ]
  },
  {
   "cell_type": "code",
   "execution_count": 86,
   "id": "77d6c110-011c-4279-9956-fffeb2489fc6",
   "metadata": {},
   "outputs": [],
   "source": [
    "import os"
   ]
  },
  {
   "cell_type": "code",
   "execution_count": 97,
   "id": "21f69fd9-cc4f-4d30-b3e9-b0f0a3b34585",
   "metadata": {},
   "outputs": [],
   "source": [
    "import hello"
   ]
  },
  {
   "cell_type": "code",
   "execution_count": 98,
   "id": "575fe117-8b08-4406-8be8-3b623ac02a45",
   "metadata": {},
   "outputs": [
    {
     "data": {
      "text/plain": [
       "24"
      ]
     },
     "execution_count": 98,
     "metadata": {},
     "output_type": "execute_result"
    }
   ],
   "source": [
    "hello.add(12,12)"
   ]
  },
  {
   "cell_type": "code",
   "execution_count": 93,
   "id": "ef8ac90f-4635-47e8-bb1c-d0fc66435245",
   "metadata": {},
   "outputs": [
    {
     "data": {
      "text/plain": [
       "144"
      ]
     },
     "execution_count": 93,
     "metadata": {},
     "output_type": "execute_result"
    }
   ],
   "source": [
    "hello.multiply(12,12)"
   ]
  },
  {
   "cell_type": "code",
   "execution_count": 94,
   "id": "bcffc651-1202-4a87-9057-199245302dba",
   "metadata": {},
   "outputs": [],
   "source": [
    "from hello import add"
   ]
  },
  {
   "cell_type": "code",
   "execution_count": 95,
   "id": "a7b60216-9093-4092-969b-39634a89d473",
   "metadata": {},
   "outputs": [
    {
     "data": {
      "text/plain": [
       "24"
      ]
     },
     "execution_count": 95,
     "metadata": {},
     "output_type": "execute_result"
    }
   ],
   "source": [
    "add(12,12)"
   ]
  },
  {
   "cell_type": "markdown",
   "id": "7ea1d3ef-57b2-499b-8581-adcd9d7ef3ed",
   "metadata": {},
   "source": [
    "# `datetime` library"
   ]
  },
  {
   "cell_type": "code",
   "execution_count": 131,
   "id": "20c7baa3-d68b-4e8a-9253-3f9cdbc91643",
   "metadata": {},
   "outputs": [],
   "source": [
    "from datetime import datetime\n",
    "from datetime import timedelta\n",
    "from datetime import date"
   ]
  },
  {
   "cell_type": "code",
   "execution_count": 108,
   "id": "23d5114e-ebd3-4418-9bb7-06c6295426a6",
   "metadata": {},
   "outputs": [
    {
     "data": {
      "text/plain": [
       "datetime.datetime(2025, 5, 21, 7, 50, 56, 478132)"
      ]
     },
     "execution_count": 108,
     "metadata": {},
     "output_type": "execute_result"
    }
   ],
   "source": [
    "datetime.now()"
   ]
  },
  {
   "cell_type": "code",
   "execution_count": 117,
   "id": "a3deed77-296b-44fd-9f75-b0386f92928b",
   "metadata": {},
   "outputs": [
    {
     "data": {
      "text/plain": [
       "datetime.IsoCalendarDate(year=2025, week=21, weekday=3)"
      ]
     },
     "execution_count": 117,
     "metadata": {},
     "output_type": "execute_result"
    }
   ],
   "source": [
    "datetime.now().isocalendar()"
   ]
  },
  {
   "cell_type": "code",
   "execution_count": 120,
   "id": "770d8da7-dc56-46cc-a905-3725a400ae0c",
   "metadata": {},
   "outputs": [],
   "source": [
    "d=date(2025,1,20)"
   ]
  },
  {
   "cell_type": "code",
   "execution_count": 121,
   "id": "91e3a1e5-9ad6-4363-837e-1fa89846aafd",
   "metadata": {},
   "outputs": [
    {
     "data": {
      "text/plain": [
       "datetime.date(2025, 1, 20)"
      ]
     },
     "execution_count": 121,
     "metadata": {},
     "output_type": "execute_result"
    }
   ],
   "source": [
    "d"
   ]
  },
  {
   "cell_type": "code",
   "execution_count": 112,
   "id": "ffee0d3f-dece-4268-8b35-43c9af466e8c",
   "metadata": {},
   "outputs": [
    {
     "data": {
      "text/plain": [
       "datetime.datetime(2025, 5, 20, 7, 51, 56, 248316)"
      ]
     },
     "execution_count": 112,
     "metadata": {},
     "output_type": "execute_result"
    }
   ],
   "source": [
    "datetime.now() - timedelta(days=1)"
   ]
  },
  {
   "cell_type": "code",
   "execution_count": 113,
   "id": "83301363-3915-4c4f-95cc-49f759eba4ee",
   "metadata": {},
   "outputs": [
    {
     "data": {
      "text/plain": [
       "datetime.datetime(2025, 5, 14, 7, 52, 9, 487988)"
      ]
     },
     "execution_count": 113,
     "metadata": {},
     "output_type": "execute_result"
    }
   ],
   "source": [
    "datetime.now() - timedelta(weeks=1)"
   ]
  },
  {
   "cell_type": "code",
   "execution_count": 116,
   "id": "d452aae8-9b48-4a4b-beb0-179b2b44303a",
   "metadata": {},
   "outputs": [
    {
     "data": {
      "text/plain": [
       "datetime.datetime(2025, 4, 21, 7, 53, 41, 615926)"
      ]
     },
     "execution_count": 116,
     "metadata": {},
     "output_type": "execute_result"
    }
   ],
   "source": [
    "datetime.now() - timedelta(days=30)"
   ]
  },
  {
   "cell_type": "code",
   "execution_count": 122,
   "id": "3da6d3d0-00c0-46aa-92df-e584a33286a5",
   "metadata": {},
   "outputs": [
    {
     "data": {
      "text/plain": [
       "datetime.datetime(2025, 6, 20, 7, 57, 18, 350330)"
      ]
     },
     "execution_count": 122,
     "metadata": {},
     "output_type": "execute_result"
    }
   ],
   "source": [
    "datetime.now() + timedelta(days=30)"
   ]
  },
  {
   "cell_type": "code",
   "execution_count": 124,
   "id": "f4e14340-3a02-4d15-95e5-7b309d5a84be",
   "metadata": {},
   "outputs": [],
   "source": [
    "import datetime"
   ]
  },
  {
   "cell_type": "code",
   "execution_count": 126,
   "id": "53f35857-2b50-4ec0-ad95-6cee63b02e11",
   "metadata": {},
   "outputs": [
    {
     "data": {
      "text/plain": [
       "9999"
      ]
     },
     "execution_count": 126,
     "metadata": {},
     "output_type": "execute_result"
    }
   ],
   "source": [
    "datetime.MAXYEAR"
   ]
  },
  {
   "cell_type": "code",
   "execution_count": 127,
   "id": "deff90b0-1721-47d0-b921-904d661f7c6f",
   "metadata": {},
   "outputs": [
    {
     "data": {
      "text/plain": [
       "1"
      ]
     },
     "execution_count": 127,
     "metadata": {},
     "output_type": "execute_result"
    }
   ],
   "source": [
    "datetime.MINYEAR"
   ]
  },
  {
   "cell_type": "code",
   "execution_count": 128,
   "id": "cbb9d2c9-28c8-4e26-bbc3-022241e383ca",
   "metadata": {},
   "outputs": [
    {
     "data": {
      "text/plain": [
       "datetime.time"
      ]
     },
     "execution_count": 128,
     "metadata": {},
     "output_type": "execute_result"
    }
   ],
   "source": [
    "datetime.time"
   ]
  },
  {
   "cell_type": "code",
   "execution_count": 132,
   "id": "435b6272-6c60-4dd8-bbde-2d4abc7e3be2",
   "metadata": {},
   "outputs": [],
   "source": [
    "current_date = datetime.now()"
   ]
  },
  {
   "cell_type": "code",
   "execution_count": 135,
   "id": "77cf25e4-7ea9-4f86-ba46-ba6261ac9a90",
   "metadata": {},
   "outputs": [
    {
     "data": {
      "text/plain": [
       "'20-Wednesday-May'"
      ]
     },
     "execution_count": 135,
     "metadata": {},
     "output_type": "execute_result"
    }
   ],
   "source": [
    "current_date.strftime(\"%C-%A-%B\")"
   ]
  },
  {
   "cell_type": "markdown",
   "id": "4fab9239-a80e-440a-a5db-b1e8c33f7e49",
   "metadata": {},
   "source": [
    "# `Numpy` Module"
   ]
  },
  {
   "cell_type": "markdown",
   "id": "631406c3-5eee-4031-a9bb-90768b022291",
   "metadata": {},
   "source": [
    "- ### **_Arrays_**\n",
    "    - homogenous data type\n",
    "    - memory allocaation (continuous)\n",
    "    - arrays on immutable\n",
    "- ### **_Uses_**\n",
    "    - used for faster computation and linear algebra operations\n",
    "    - able to do operations in array"
   ]
  },
  {
   "cell_type": "code",
   "execution_count": 2,
   "id": "12ae34db-0344-4a99-90ae-a11d4ac5f657",
   "metadata": {},
   "outputs": [],
   "source": [
    "import numpy as np"
   ]
  },
  {
   "cell_type": "code",
   "execution_count": 159,
   "id": "1d13ef2f-6c2c-4501-9c1d-2e012f01b3ba",
   "metadata": {},
   "outputs": [],
   "source": [
    "a = np.array([1,2,3,4,5,6,7,8,9,10])"
   ]
  },
  {
   "cell_type": "code",
   "execution_count": 140,
   "id": "affd5910-4207-4a7f-ae11-da6236460661",
   "metadata": {},
   "outputs": [
    {
     "data": {
      "text/plain": [
       "array([2, 3, 4, 5])"
      ]
     },
     "execution_count": 140,
     "metadata": {},
     "output_type": "execute_result"
    }
   ],
   "source": [
    "a[1:5]"
   ]
  },
  {
   "cell_type": "code",
   "execution_count": 144,
   "id": "27bfa233-3c7b-40d2-87bf-be282df0fcfd",
   "metadata": {},
   "outputs": [],
   "source": [
    "a = np.average(a)"
   ]
  },
  {
   "cell_type": "code",
   "execution_count": 190,
   "id": "5fbe3d50-20f5-447e-bbd2-47ad6be67e1c",
   "metadata": {},
   "outputs": [],
   "source": [
    "ze = np.zeros((555,555,555))"
   ]
  },
  {
   "cell_type": "code",
   "execution_count": null,
   "id": "961380d4-fdc1-4540-82e7-7af95459585c",
   "metadata": {},
   "outputs": [],
   "source": []
  },
  {
   "cell_type": "code",
   "execution_count": 191,
   "id": "d59fb33d-ab51-40c6-b1d3-a500236cd672",
   "metadata": {},
   "outputs": [
    {
     "data": {
      "text/plain": [
       "array([[[0., 0., 0., ..., 0., 0., 0.],\n",
       "        [0., 0., 0., ..., 0., 0., 0.],\n",
       "        [0., 0., 0., ..., 0., 0., 0.],\n",
       "        ...,\n",
       "        [0., 0., 0., ..., 0., 0., 0.],\n",
       "        [0., 0., 0., ..., 0., 0., 0.],\n",
       "        [0., 0., 0., ..., 0., 0., 0.]],\n",
       "\n",
       "       [[0., 0., 0., ..., 0., 0., 0.],\n",
       "        [0., 0., 0., ..., 0., 0., 0.],\n",
       "        [0., 0., 0., ..., 0., 0., 0.],\n",
       "        ...,\n",
       "        [0., 0., 0., ..., 0., 0., 0.],\n",
       "        [0., 0., 0., ..., 0., 0., 0.],\n",
       "        [0., 0., 0., ..., 0., 0., 0.]],\n",
       "\n",
       "       [[0., 0., 0., ..., 0., 0., 0.],\n",
       "        [0., 0., 0., ..., 0., 0., 0.],\n",
       "        [0., 0., 0., ..., 0., 0., 0.],\n",
       "        ...,\n",
       "        [0., 0., 0., ..., 0., 0., 0.],\n",
       "        [0., 0., 0., ..., 0., 0., 0.],\n",
       "        [0., 0., 0., ..., 0., 0., 0.]],\n",
       "\n",
       "       ...,\n",
       "\n",
       "       [[0., 0., 0., ..., 0., 0., 0.],\n",
       "        [0., 0., 0., ..., 0., 0., 0.],\n",
       "        [0., 0., 0., ..., 0., 0., 0.],\n",
       "        ...,\n",
       "        [0., 0., 0., ..., 0., 0., 0.],\n",
       "        [0., 0., 0., ..., 0., 0., 0.],\n",
       "        [0., 0., 0., ..., 0., 0., 0.]],\n",
       "\n",
       "       [[0., 0., 0., ..., 0., 0., 0.],\n",
       "        [0., 0., 0., ..., 0., 0., 0.],\n",
       "        [0., 0., 0., ..., 0., 0., 0.],\n",
       "        ...,\n",
       "        [0., 0., 0., ..., 0., 0., 0.],\n",
       "        [0., 0., 0., ..., 0., 0., 0.],\n",
       "        [0., 0., 0., ..., 0., 0., 0.]],\n",
       "\n",
       "       [[0., 0., 0., ..., 0., 0., 0.],\n",
       "        [0., 0., 0., ..., 0., 0., 0.],\n",
       "        [0., 0., 0., ..., 0., 0., 0.],\n",
       "        ...,\n",
       "        [0., 0., 0., ..., 0., 0., 0.],\n",
       "        [0., 0., 0., ..., 0., 0., 0.],\n",
       "        [0., 0., 0., ..., 0., 0., 0.]]])"
      ]
     },
     "execution_count": 191,
     "metadata": {},
     "output_type": "execute_result"
    }
   ],
   "source": [
    "ze"
   ]
  },
  {
   "cell_type": "code",
   "execution_count": 151,
   "id": "c79e7ad8-fb49-494e-9ae2-7f940e53cfd7",
   "metadata": {},
   "outputs": [
    {
     "data": {
      "text/plain": [
       "dtype('float64')"
      ]
     },
     "execution_count": 151,
     "metadata": {},
     "output_type": "execute_result"
    }
   ],
   "source": [
    "ze.dtype"
   ]
  },
  {
   "cell_type": "code",
   "execution_count": 152,
   "id": "2b7cb63f-6518-4c18-9681-fc9748e2cf39",
   "metadata": {},
   "outputs": [
    {
     "data": {
      "text/plain": [
       "8"
      ]
     },
     "execution_count": 152,
     "metadata": {},
     "output_type": "execute_result"
    }
   ],
   "source": [
    "ze.itemsize"
   ]
  },
  {
   "cell_type": "code",
   "execution_count": 188,
   "id": "f9cb7031-9444-4598-8cf1-71efd4fafe8a",
   "metadata": {},
   "outputs": [],
   "source": [
    "fl=np.array([\"marigold\",\"sunflower\"], dtype='<U10')"
   ]
  },
  {
   "cell_type": "code",
   "execution_count": 189,
   "id": "1dba4f44-634a-45b4-9b95-2b74ece7a5e1",
   "metadata": {},
   "outputs": [
    {
     "data": {
      "text/plain": [
       "array(['marigold', 'sunflower'], dtype='<U10')"
      ]
     },
     "execution_count": 189,
     "metadata": {},
     "output_type": "execute_result"
    }
   ],
   "source": [
    "fl"
   ]
  },
  {
   "cell_type": "code",
   "execution_count": 184,
   "id": "ce476193-41b9-4420-b2b7-cca0b999bcfc",
   "metadata": {},
   "outputs": [
    {
     "data": {
      "text/plain": [
       "36"
      ]
     },
     "execution_count": 184,
     "metadata": {},
     "output_type": "execute_result"
    }
   ],
   "source": [
    "fl.itemsize"
   ]
  },
  {
   "cell_type": "code",
   "execution_count": 185,
   "id": "0f4f54ff-502f-412f-8fab-3535726c61b0",
   "metadata": {},
   "outputs": [
    {
     "data": {
      "text/plain": [
       "72"
      ]
     },
     "execution_count": 185,
     "metadata": {},
     "output_type": "execute_result"
    }
   ],
   "source": [
    "fl.nbytes"
   ]
  },
  {
   "cell_type": "code",
   "execution_count": 192,
   "id": "a3b9e810-25be-46a3-874f-92ff0031832f",
   "metadata": {},
   "outputs": [
    {
     "data": {
      "text/plain": [
       "array([[[1., 1., 1., 1., 1.],\n",
       "        [1., 1., 1., 1., 1.],\n",
       "        [1., 1., 1., 1., 1.],\n",
       "        [1., 1., 1., 1., 1.],\n",
       "        [1., 1., 1., 1., 1.]],\n",
       "\n",
       "       [[1., 1., 1., 1., 1.],\n",
       "        [1., 1., 1., 1., 1.],\n",
       "        [1., 1., 1., 1., 1.],\n",
       "        [1., 1., 1., 1., 1.],\n",
       "        [1., 1., 1., 1., 1.]],\n",
       "\n",
       "       [[1., 1., 1., 1., 1.],\n",
       "        [1., 1., 1., 1., 1.],\n",
       "        [1., 1., 1., 1., 1.],\n",
       "        [1., 1., 1., 1., 1.],\n",
       "        [1., 1., 1., 1., 1.]],\n",
       "\n",
       "       [[1., 1., 1., 1., 1.],\n",
       "        [1., 1., 1., 1., 1.],\n",
       "        [1., 1., 1., 1., 1.],\n",
       "        [1., 1., 1., 1., 1.],\n",
       "        [1., 1., 1., 1., 1.]],\n",
       "\n",
       "       [[1., 1., 1., 1., 1.],\n",
       "        [1., 1., 1., 1., 1.],\n",
       "        [1., 1., 1., 1., 1.],\n",
       "        [1., 1., 1., 1., 1.],\n",
       "        [1., 1., 1., 1., 1.]]])"
      ]
     },
     "execution_count": 192,
     "metadata": {},
     "output_type": "execute_result"
    }
   ],
   "source": [
    "np.ones((5,5,5))"
   ]
  },
  {
   "cell_type": "code",
   "execution_count": 203,
   "id": "907c9dcd-657a-4088-8813-d38dd192c277",
   "metadata": {},
   "outputs": [],
   "source": [
    "rng = np.random.default_rng(seed=1298)"
   ]
  },
  {
   "cell_type": "code",
   "execution_count": 222,
   "id": "e0d1c098-ca45-4dba-91bb-d00b3f7e85b3",
   "metadata": {},
   "outputs": [
    {
     "ename": "ValueError",
     "evalue": "high <= 0",
     "output_type": "error",
     "traceback": [
      "\u001b[0;31m---------------------------------------------------------------------------\u001b[0m",
      "\u001b[0;31mValueError\u001b[0m                                Traceback (most recent call last)",
      "\u001b[0;32m/tmp/ipykernel_1700563/158670.py\u001b[0m in \u001b[0;36m<module>\u001b[0;34m\u001b[0m\n\u001b[0;32m----> 1\u001b[0;31m \u001b[0mu1\u001b[0m \u001b[0;34m=\u001b[0m \u001b[0mrng\u001b[0m\u001b[0;34m.\u001b[0m\u001b[0mintegers\u001b[0m\u001b[0;34m(\u001b[0m\u001b[0mlow\u001b[0m\u001b[0;34m=\u001b[0m\u001b[0;36m0\u001b[0m\u001b[0;34m,\u001b[0m \u001b[0msize\u001b[0m\u001b[0;34m=\u001b[0m\u001b[0;34m(\u001b[0m\u001b[0;36m55\u001b[0m\u001b[0;34m,\u001b[0m\u001b[0;36m55\u001b[0m\u001b[0;34m)\u001b[0m\u001b[0;34m)\u001b[0m\u001b[0;34m\u001b[0m\u001b[0;34m\u001b[0m\u001b[0m\n\u001b[0m",
      "\u001b[0;32m_generator.pyx\u001b[0m in \u001b[0;36mnumpy.random._generator.Generator.integers\u001b[0;34m()\u001b[0m\n",
      "\u001b[0;32m_bounded_integers.pyx\u001b[0m in \u001b[0;36mnumpy.random._bounded_integers._rand_int64\u001b[0;34m()\u001b[0m\n",
      "\u001b[0;31mValueError\u001b[0m: high <= 0"
     ]
    }
   ],
   "source": [
    "u1 = rng.integers(low=0,h, size=(55,55))"
   ]
  },
  {
   "cell_type": "code",
   "execution_count": 209,
   "id": "3f090a04-70ad-420c-8f39-dacf04f8b78b",
   "metadata": {},
   "outputs": [],
   "source": [
    "u2 = rng.integers(low=500, high=10000, size=(55,55))"
   ]
  },
  {
   "cell_type": "code",
   "execution_count": 210,
   "id": "77854038-a97a-4b38-a931-8bf774fe412a",
   "metadata": {},
   "outputs": [
    {
     "data": {
      "text/plain": [
       "array([[ 130398, 3075807, 3854823, ..., 3463336,  373412, 3755836],\n",
       "       [1012910,  787580, 2112506, ..., 9626084,   12048,  115425],\n",
       "       [7392425,  199400, 2259390, ..., 2183892,  110565,  177672],\n",
       "       ...,\n",
       "       [4022207, 1251780, 4813584, ..., 1516991,   43056,  168462],\n",
       "       [6507592, 7708248, 5079536, ...,  761760, 2128930,  438128],\n",
       "       [3664625, 8816400,  973660, ..., 8535615,  137084, 5063355]])"
      ]
     },
     "execution_count": 210,
     "metadata": {},
     "output_type": "execute_result"
    }
   ],
   "source": [
    "u1*u2"
   ]
  },
  {
   "cell_type": "code",
   "execution_count": 211,
   "id": "29e7d91b-95e7-4b55-a81a-7791985cd241",
   "metadata": {},
   "outputs": [
    {
     "data": {
      "text/plain": [
       "array([[180582153, 131496525, 145694739, ..., 160925677, 146464585,\n",
       "        181605316],\n",
       "       [150100431, 103545821, 146086476, ..., 131145807, 111893652,\n",
       "        150392984],\n",
       "       [163720409, 140262639, 156325532, ..., 163976984, 145624082,\n",
       "        176438825],\n",
       "       ...,\n",
       "       [150320735, 123891903, 136402561, ..., 134802783, 120241331,\n",
       "        144162780],\n",
       "       [157537014, 123103067, 140897323, ..., 154214404, 121620164,\n",
       "        164701003],\n",
       "       [160996821, 139588787, 147298500, ..., 162968969, 134422719,\n",
       "        169360256]])"
      ]
     },
     "execution_count": 211,
     "metadata": {},
     "output_type": "execute_result"
    }
   ],
   "source": [
    "u1@u2"
   ]
  },
  {
   "cell_type": "code",
   "execution_count": 213,
   "id": "4a072178-d3ff-4bd3-9e1d-b49f3ed506a0",
   "metadata": {},
   "outputs": [
    {
     "data": {
      "text/plain": [
       "array([[180582153, 131496525, 145694739, ..., 160925677, 146464585,\n",
       "        181605316],\n",
       "       [150100431, 103545821, 146086476, ..., 131145807, 111893652,\n",
       "        150392984],\n",
       "       [163720409, 140262639, 156325532, ..., 163976984, 145624082,\n",
       "        176438825],\n",
       "       ...,\n",
       "       [150320735, 123891903, 136402561, ..., 134802783, 120241331,\n",
       "        144162780],\n",
       "       [157537014, 123103067, 140897323, ..., 154214404, 121620164,\n",
       "        164701003],\n",
       "       [160996821, 139588787, 147298500, ..., 162968969, 134422719,\n",
       "        169360256]])"
      ]
     },
     "execution_count": 213,
     "metadata": {},
     "output_type": "execute_result"
    }
   ],
   "source": [
    "np.dot(u1,u2)"
   ]
  },
  {
   "cell_type": "code",
   "execution_count": 223,
   "id": "274e575c-b903-4d49-8388-3d0aeb145486",
   "metadata": {},
   "outputs": [
    {
     "data": {
      "text/plain": [
       "array([[ 130398, 3075807, 3854823, ..., 3463336,  373412, 3755836],\n",
       "       [1012910,  787580, 2112506, ..., 9626084,   12048,  115425],\n",
       "       [7392425,  199400, 2259390, ..., 2183892,  110565,  177672],\n",
       "       ...,\n",
       "       [4022207, 1251780, 4813584, ..., 1516991,   43056,  168462],\n",
       "       [6507592, 7708248, 5079536, ...,  761760, 2128930,  438128],\n",
       "       [3664625, 8816400,  973660, ..., 8535615,  137084, 5063355]])"
      ]
     },
     "execution_count": 223,
     "metadata": {},
     "output_type": "execute_result"
    }
   ],
   "source": [
    "np.multiply(u1,u2)"
   ]
  },
  {
   "cell_type": "code",
   "execution_count": 228,
   "id": "32b0892d-2610-4e26-b38d-84bb5b002748",
   "metadata": {},
   "outputs": [
    {
     "data": {
      "text/plain": [
       "array([-3,  6, -3])"
      ]
     },
     "execution_count": 228,
     "metadata": {},
     "output_type": "execute_result"
    }
   ],
   "source": [
    "np.cross(np.array([1,2,3]),np.array([4,5,6]))"
   ]
  },
  {
   "cell_type": "code",
   "execution_count": 215,
   "id": "9adab336-d08d-439e-9ad1-3245fe5a18b3",
   "metadata": {},
   "outputs": [
    {
     "data": {
      "text/plain": [
       "2"
      ]
     },
     "execution_count": 215,
     "metadata": {},
     "output_type": "execute_result"
    }
   ],
   "source": [
    "u1.ndim"
   ]
  },
  {
   "cell_type": "code",
   "execution_count": 216,
   "id": "f205de33-4735-4a70-9bfb-9c102c4c3175",
   "metadata": {},
   "outputs": [
    {
     "data": {
      "text/plain": [
       "2"
      ]
     },
     "execution_count": 216,
     "metadata": {},
     "output_type": "execute_result"
    }
   ],
   "source": [
    "u2.ndim"
   ]
  },
  {
   "cell_type": "code",
   "execution_count": 217,
   "id": "770d7a3e-0af5-467d-b899-5f17116d4fb1",
   "metadata": {},
   "outputs": [
    {
     "data": {
      "text/plain": [
       "3025"
      ]
     },
     "execution_count": 217,
     "metadata": {},
     "output_type": "execute_result"
    }
   ],
   "source": [
    "u1.size"
   ]
  },
  {
   "cell_type": "code",
   "execution_count": 218,
   "id": "e6be8cd7-c59b-4d0c-9204-9e4fc0453da3",
   "metadata": {},
   "outputs": [
    {
     "data": {
      "text/plain": [
       "3025"
      ]
     },
     "execution_count": 218,
     "metadata": {},
     "output_type": "execute_result"
    }
   ],
   "source": [
    "u2.size"
   ]
  },
  {
   "cell_type": "code",
   "execution_count": 219,
   "id": "af718119-57dd-43fe-91f4-c09c0754a687",
   "metadata": {},
   "outputs": [
    {
     "data": {
      "text/plain": [
       "(55, 55)"
      ]
     },
     "execution_count": 219,
     "metadata": {},
     "output_type": "execute_result"
    }
   ],
   "source": [
    "u1.shape"
   ]
  },
  {
   "cell_type": "code",
   "execution_count": 220,
   "id": "6382d88c-1940-4a5f-9463-09abe178ed4f",
   "metadata": {},
   "outputs": [
    {
     "data": {
      "text/plain": [
       "(55, 55)"
      ]
     },
     "execution_count": 220,
     "metadata": {},
     "output_type": "execute_result"
    }
   ],
   "source": [
    "u2.shape"
   ]
  },
  {
   "cell_type": "markdown",
   "id": "56d86c90-a12f-45d5-af45-f9853d2329a7",
   "metadata": {},
   "source": [
    "### Get numpy array from dataset"
   ]
  },
  {
   "cell_type": "code",
   "execution_count": 231,
   "id": "3d7f8166-e4e9-4cab-817c-cd60f92f4970",
   "metadata": {},
   "outputs": [],
   "source": [
    "data = np.genfromtxt(\"assets/datarray.txt\", delimiter=\",\")"
   ]
  },
  {
   "cell_type": "code",
   "execution_count": 232,
   "id": "ce41d775-0487-4b35-ad7a-8c3130aeecc9",
   "metadata": {},
   "outputs": [
    {
     "data": {
      "text/plain": [
       "array([[  1.,  13.,  21.,  11., 196.,  75.,   4.,   3.,  34.,   6.,   7.,\n",
       "          8.,   0.,   1.,   2.,   3.,   4.,   5.],\n",
       "       [  3.,  42.,  12.,  33., 766.,  75.,   4.,  55.,   6.,   4.,   3.,\n",
       "          4.,   5.,   6.,   7.,   0.,  11.,  12.],\n",
       "       [  1.,  22.,  33.,  11., 999.,  11.,   2.,   1.,  78.,   0.,   1.,\n",
       "          2.,   9.,   8.,   7.,   1.,  76.,  88.]])"
      ]
     },
     "execution_count": 232,
     "metadata": {},
     "output_type": "execute_result"
    }
   ],
   "source": [
    "data"
   ]
  },
  {
   "cell_type": "code",
   "execution_count": 233,
   "id": "ea0b470d-be54-4a5f-bb48-4c5c65ed2b52",
   "metadata": {},
   "outputs": [
    {
     "data": {
      "text/plain": [
       "array([  1.,  13.,  21.,  11., 196.,  75.,   4.,   3.,  34.,   6.,   7.,\n",
       "         8.,   0.,   1.,   2.,   3.,   4.,   5.])"
      ]
     },
     "execution_count": 233,
     "metadata": {},
     "output_type": "execute_result"
    }
   ],
   "source": [
    "data[0]"
   ]
  },
  {
   "cell_type": "code",
   "execution_count": 234,
   "id": "ea6a3c53-15de-4564-8e7e-5ef47ab3fc49",
   "metadata": {},
   "outputs": [
    {
     "data": {
      "text/plain": [
       "196.0"
      ]
     },
     "execution_count": 234,
     "metadata": {},
     "output_type": "execute_result"
    }
   ],
   "source": [
    "data[0][4]"
   ]
  },
  {
   "cell_type": "code",
   "execution_count": 235,
   "id": "996a41e3-8ae6-4d57-a8b2-65c167cc2217",
   "metadata": {},
   "outputs": [
    {
     "data": {
      "text/plain": [
       "(3, 18)"
      ]
     },
     "execution_count": 235,
     "metadata": {},
     "output_type": "execute_result"
    }
   ],
   "source": [
    "data.shape"
   ]
  },
  {
   "cell_type": "code",
   "execution_count": 236,
   "id": "f4f8f706-d9aa-4ede-a556-01c072988773",
   "metadata": {},
   "outputs": [
    {
     "data": {
      "text/plain": [
       "array([196.,  75.,   4.,   3.,  34.])"
      ]
     },
     "execution_count": 236,
     "metadata": {},
     "output_type": "execute_result"
    }
   ],
   "source": [
    "data[0][4:9]"
   ]
  },
  {
   "cell_type": "code",
   "execution_count": 237,
   "id": "92f5c75d-2d79-4d3d-b890-6ed993593da4",
   "metadata": {},
   "outputs": [
    {
     "data": {
      "text/plain": [
       "999.0"
      ]
     },
     "execution_count": 237,
     "metadata": {},
     "output_type": "execute_result"
    }
   ],
   "source": [
    "data[2][4]"
   ]
  },
  {
   "cell_type": "code",
   "execution_count": 239,
   "id": "c43d2d11-2ebb-4896-91a8-865f0fdd7fdf",
   "metadata": {},
   "outputs": [
    {
     "data": {
      "text/plain": [
       "array([[1., 0., 0., 0., 0., 0., 0., 0., 0., 0.],\n",
       "       [0., 1., 0., 0., 0., 0., 0., 0., 0., 0.],\n",
       "       [0., 0., 1., 0., 0., 0., 0., 0., 0., 0.],\n",
       "       [0., 0., 0., 1., 0., 0., 0., 0., 0., 0.],\n",
       "       [0., 0., 0., 0., 1., 0., 0., 0., 0., 0.],\n",
       "       [0., 0., 0., 0., 0., 1., 0., 0., 0., 0.],\n",
       "       [0., 0., 0., 0., 0., 0., 1., 0., 0., 0.],\n",
       "       [0., 0., 0., 0., 0., 0., 0., 1., 0., 0.],\n",
       "       [0., 0., 0., 0., 0., 0., 0., 0., 1., 0.],\n",
       "       [0., 0., 0., 0., 0., 0., 0., 0., 0., 1.]])"
      ]
     },
     "execution_count": 239,
     "metadata": {},
     "output_type": "execute_result"
    }
   ],
   "source": [
    "np.identity(10)"
   ]
  },
  {
   "cell_type": "code",
   "execution_count": 242,
   "id": "b47693d9-ae86-4d5a-90aa-20aae7913fdb",
   "metadata": {},
   "outputs": [
    {
     "data": {
      "text/plain": [
       "array([ 1,  2,  3,  4,  5,  6,  7,  8,  9, 10, 11, 12, 13, 14, 15, 16, 17,\n",
       "       18, 19, 20, 21, 22, 23, 24, 25, 26, 27, 28, 29, 30, 31, 32, 33, 34,\n",
       "       35, 36, 37, 38, 39, 40])"
      ]
     },
     "execution_count": 242,
     "metadata": {},
     "output_type": "execute_result"
    }
   ],
   "source": [
    "np.arange(1,41)"
   ]
  },
  {
   "cell_type": "code",
   "execution_count": 252,
   "id": "55745d3d-4f14-48c7-972c-6978d72e749f",
   "metadata": {},
   "outputs": [
    {
     "data": {
      "text/plain": [
       "array([ 0., 10., 20., 30., 40.])"
      ]
     },
     "execution_count": 252,
     "metadata": {},
     "output_type": "execute_result"
    }
   ],
   "source": [
    "np.linspace(0,40,5)"
   ]
  },
  {
   "cell_type": "code",
   "execution_count": 255,
   "id": "6fee3b88-7a5c-4e6f-8fcf-8d873f67f5a0",
   "metadata": {},
   "outputs": [
    {
     "data": {
      "text/plain": [
       "array([[1, 2, 3],\n",
       "       [4, 5, 6],\n",
       "       [7, 8, 9]])"
      ]
     },
     "execution_count": 255,
     "metadata": {},
     "output_type": "execute_result"
    }
   ],
   "source": [
    "np.arange(1,10).reshape(3,3)"
   ]
  },
  {
   "cell_type": "code",
   "execution_count": 257,
   "id": "e8fe24f3-9efb-4186-9fd2-4b01fae79d8a",
   "metadata": {},
   "outputs": [],
   "source": [
    "arr1=np.array([1,2,3])"
   ]
  },
  {
   "cell_type": "code",
   "execution_count": 278,
   "id": "246b9c06-2b91-46d4-b31a-40e3d12f7e61",
   "metadata": {},
   "outputs": [],
   "source": [
    "a1=np.repeat(arr1,10,axis=0).reshape(10,3)"
   ]
  },
  {
   "cell_type": "code",
   "execution_count": 279,
   "id": "41151106-ffef-4e77-bea7-8793058c129c",
   "metadata": {},
   "outputs": [
    {
     "data": {
      "text/plain": [
       "array([[1, 1, 1],\n",
       "       [1, 1, 1],\n",
       "       [1, 1, 1],\n",
       "       [1, 2, 2],\n",
       "       [2, 2, 2],\n",
       "       [2, 2, 2],\n",
       "       [2, 2, 3],\n",
       "       [3, 3, 3],\n",
       "       [3, 3, 3],\n",
       "       [3, 3, 3]])"
      ]
     },
     "execution_count": 279,
     "metadata": {},
     "output_type": "execute_result"
    }
   ],
   "source": [
    "a1"
   ]
  },
  {
   "cell_type": "code",
   "execution_count": 281,
   "id": "9d3c3fe2-f963-489b-bd5e-f9efa6f78914",
   "metadata": {},
   "outputs": [
    {
     "data": {
      "text/plain": [
       "array([[1, 1, 1],\n",
       "       [1, 1, 1],\n",
       "       [1, 1, 1],\n",
       "       [1, 1, 1],\n",
       "       [1, 1, 1],\n",
       "       [1, 1, 1],\n",
       "       [1, 2, 2],\n",
       "       [1, 2, 2],\n",
       "       [2, 2, 2],\n",
       "       [2, 2, 2],\n",
       "       [2, 2, 2],\n",
       "       [2, 2, 2],\n",
       "       [2, 2, 3],\n",
       "       [2, 2, 3],\n",
       "       [3, 3, 3],\n",
       "       [3, 3, 3],\n",
       "       [3, 3, 3],\n",
       "       [3, 3, 3],\n",
       "       [3, 3, 3],\n",
       "       [3, 3, 3]])"
      ]
     },
     "execution_count": 281,
     "metadata": {},
     "output_type": "execute_result"
    }
   ],
   "source": [
    "np.repeat(a1,2,axis=0)"
   ]
  },
  {
   "cell_type": "code",
   "execution_count": 61,
   "id": "1e362be9-f265-4c0a-b800-54b535cccfc4",
   "metadata": {},
   "outputs": [],
   "source": [
    "a1 = np.arange(1,1000001).reshape(1000,1000)\n",
    "a2 = np.arange(1,1000001).reshape(1000,1000)\n",
    "a2 = a2.transpose()"
   ]
  },
  {
   "cell_type": "code",
   "execution_count": 4,
   "id": "aa5c0251-c0f8-4488-8b78-dfbfb626ff2c",
   "metadata": {},
   "outputs": [
    {
     "data": {
      "text/plain": [
       "array([[      2,    1003,    2004, ...,  997999,  999000, 1000001],\n",
       "       [   1003,    2004,    3005, ...,  999000, 1000001, 1001002],\n",
       "       [   2004,    3005,    4006, ..., 1000001, 1001002, 1002003],\n",
       "       ...,\n",
       "       [ 997999,  999000, 1000001, ..., 1995996, 1996997, 1997998],\n",
       "       [ 999000, 1000001, 1001002, ..., 1996997, 1997998, 1998999],\n",
       "       [1000001, 1001002, 1002003, ..., 1997998, 1998999, 2000000]])"
      ]
     },
     "execution_count": 4,
     "metadata": {},
     "output_type": "execute_result"
    }
   ],
   "source": [
    "a1+a2"
   ]
  },
  {
   "cell_type": "code",
   "execution_count": 5,
   "id": "3a125e4d-c396-45e4-9b02-210bca2bb448",
   "metadata": {},
   "outputs": [
    {
     "data": {
      "text/plain": [
       "array([[      0,     999,    1998, ...,  996003,  997002,  998001],\n",
       "       [   -999,       0,     999, ...,  995004,  996003,  997002],\n",
       "       [  -1998,    -999,       0, ...,  994005,  995004,  996003],\n",
       "       ...,\n",
       "       [-996003, -995004, -994005, ...,       0,     999,    1998],\n",
       "       [-997002, -996003, -995004, ...,    -999,       0,     999],\n",
       "       [-998001, -997002, -996003, ...,   -1998,    -999,       0]])"
      ]
     },
     "execution_count": 5,
     "metadata": {},
     "output_type": "execute_result"
    }
   ],
   "source": [
    "a2 - a1"
   ]
  },
  {
   "cell_type": "code",
   "execution_count": 6,
   "id": "4a36799b-d11c-43b6-acc9-b1c193d78bd3",
   "metadata": {},
   "outputs": [
    {
     "data": {
      "text/plain": [
       "array([[            1,          2002,          6003, ...,     995006998,\n",
       "            997002999,     999001000],\n",
       "       [         2002,       1004004,       2008006, ...,    1992009996,\n",
       "           1995005998,    1998004000],\n",
       "       [         6003,       2008006,       4012009, ...,    2989014994,\n",
       "           2993010997,    2997009000],\n",
       "       ...,\n",
       "       [    995006998,    1992009996,    2989014994, ...,  996000008004,\n",
       "         996999005002,  997998004000],\n",
       "       [    997002999,    1995005998,    2993010997, ...,  996999005002,\n",
       "         997999002001,  998999001000],\n",
       "       [    999001000,    1998004000,    2997009000, ...,  997998004000,\n",
       "         998999001000, 1000000000000]])"
      ]
     },
     "execution_count": 6,
     "metadata": {},
     "output_type": "execute_result"
    }
   ],
   "source": [
    "a1*a2"
   ]
  },
  {
   "cell_type": "code",
   "execution_count": 7,
   "id": "fb28c384-999f-468b-bd16-8d1ee3034836",
   "metadata": {},
   "outputs": [
    {
     "data": {
      "text/plain": [
       "array([[1.00000000e+00, 5.00500000e+02, 6.67000000e+02, ...,\n",
       "        9.98998998e+02, 9.99000000e+02, 9.99001000e+02],\n",
       "       [1.99800200e-03, 1.00000000e+00, 1.99601196e+00, ...,\n",
       "        4.99000000e+02, 4.99250625e+02, 4.99501000e+02],\n",
       "       [1.49925037e-03, 5.00999001e-01, 1.00000000e+00, ...,\n",
       "        3.32556037e+02, 3.32778593e+02, 3.33001000e+02],\n",
       "       ...,\n",
       "       [1.00100201e-03, 2.00400802e-03, 3.00701202e-03, ...,\n",
       "        1.00000000e+00, 1.00100100e+00, 1.00200200e+00],\n",
       "       [1.00100100e-03, 2.00300200e-03, 3.00500099e-03, ...,\n",
       "        9.98999998e-01, 1.00000000e+00, 1.00100000e+00],\n",
       "       [1.00100000e-03, 2.00199799e-03, 3.00299399e-03, ...,\n",
       "        9.98001996e-01, 9.99000999e-01, 1.00000000e+00]])"
      ]
     },
     "execution_count": 7,
     "metadata": {},
     "output_type": "execute_result"
    }
   ],
   "source": [
    "a2/a1"
   ]
  },
  {
   "cell_type": "code",
   "execution_count": 8,
   "id": "6bafc267-b86d-4496-8f05-8919060547ab",
   "metadata": {},
   "outputs": [
    {
     "data": {
      "text/plain": [
       "array([[  1,   0,   0, ...,   0,   0,   0],\n",
       "       [500,   1,   0, ...,   0,   0,   0],\n",
       "       [667,   1,   1, ...,   0,   0,   0],\n",
       "       ...,\n",
       "       [998, 499, 332, ...,   1,   0,   0],\n",
       "       [999, 499, 332, ...,   1,   1,   0],\n",
       "       [999, 499, 333, ...,   1,   1,   1]])"
      ]
     },
     "execution_count": 8,
     "metadata": {},
     "output_type": "execute_result"
    }
   ],
   "source": [
    "a1//a2"
   ]
  },
  {
   "cell_type": "code",
   "execution_count": 9,
   "id": "698ccfca-9c1d-435b-8c48-6168f1a1c708",
   "metadata": {},
   "outputs": [
    {
     "data": {
      "text/plain": [
       "array([[  1, 500, 667, ..., 998, 999, 999],\n",
       "       [  0,   1,   1, ..., 499, 499, 499],\n",
       "       [  0,   0,   1, ..., 332, 332, 333],\n",
       "       ...,\n",
       "       [  0,   0,   0, ...,   1,   1,   1],\n",
       "       [  0,   0,   0, ...,   0,   1,   1],\n",
       "       [  0,   0,   0, ...,   0,   0,   1]])"
      ]
     },
     "execution_count": 9,
     "metadata": {},
     "output_type": "execute_result"
    }
   ],
   "source": [
    "a2//a1"
   ]
  },
  {
   "cell_type": "code",
   "execution_count": 10,
   "id": "e0bb42be-0481-4d92-bc6b-e75bc27fe48c",
   "metadata": {},
   "outputs": [
    {
     "data": {
      "text/plain": [
       "array([[     0,   1003,   2002, ..., 996719, 997782, 998833],\n",
       "       [  1003,      0,   1081, ..., 995652, 998845, 997770],\n",
       "       [  2002,   1081,      0, ..., 998717, 995780, 996835],\n",
       "       ...,\n",
       "       [996719, 995652, 998717, ...,      0,   1081,  30798],\n",
       "       [997782, 998845, 995780, ...,   1081,      0,  31847],\n",
       "       [998833, 997770, 996835, ...,  30798,  31847,      0]])"
      ]
     },
     "execution_count": 10,
     "metadata": {},
     "output_type": "execute_result"
    }
   ],
   "source": [
    "a1^a2"
   ]
  },
  {
   "cell_type": "code",
   "execution_count": 11,
   "id": "8136c0c9-435b-42ab-9530-8724b0919042",
   "metadata": {},
   "outputs": [
    {
     "data": {
      "text/plain": [
       "array([[      333833500,       834333500,      1334833500, ...,\n",
       "           499332333500,    499832833500,    500333333500],\n",
       "       [      834333500,      2334833500,      3835333500, ...,\n",
       "          1496832833500,   1498333333500,   1499833833500],\n",
       "       [     1334833500,      3835333500,      6335833500, ...,\n",
       "          2494333333500,   2496833833500,   2499334333500],\n",
       "       ...,\n",
       "       [   499332333500,   1496832833500,   2494333333500, ...,\n",
       "        995007330833500, 996004831333500, 997002331833500],\n",
       "       [   499832833500,   1498333333500,   2496833833500, ...,\n",
       "        996004831333500, 997003331833500, 998001832333500],\n",
       "       [   500333333500,   1499833833500,   2499334333500, ...,\n",
       "        997002331833500, 998001832333500, 999001332833500]])"
      ]
     },
     "execution_count": 11,
     "metadata": {},
     "output_type": "execute_result"
    }
   ],
   "source": [
    "a1@a2"
   ]
  },
  {
   "cell_type": "code",
   "execution_count": 12,
   "id": "33b04444-449c-472b-8656-efdc7d6136f9",
   "metadata": {},
   "outputs": [
    {
     "data": {
      "text/plain": [
       "500000.5"
      ]
     },
     "execution_count": 12,
     "metadata": {},
     "output_type": "execute_result"
    }
   ],
   "source": [
    "np.average(a1)"
   ]
  },
  {
   "cell_type": "code",
   "execution_count": 13,
   "id": "5abadd84-5bb2-4c17-92d7-9355ad5c2fdb",
   "metadata": {},
   "outputs": [
    {
     "data": {
      "text/plain": [
       "500000.5"
      ]
     },
     "execution_count": 13,
     "metadata": {},
     "output_type": "execute_result"
    }
   ],
   "source": [
    "np.average(a2)"
   ]
  },
  {
   "cell_type": "code",
   "execution_count": 14,
   "id": "1ab83a19-874b-4cad-98fe-a9ea5d9ac2a9",
   "metadata": {},
   "outputs": [
    {
     "data": {
      "text/plain": [
       "500000.5"
      ]
     },
     "execution_count": 14,
     "metadata": {},
     "output_type": "execute_result"
    }
   ],
   "source": [
    "np.mean(a1)"
   ]
  },
  {
   "cell_type": "code",
   "execution_count": 16,
   "id": "e874e218-10ff-4c8d-b7bb-7e27315c67f2",
   "metadata": {},
   "outputs": [
    {
     "data": {
      "text/plain": [
       "array([5.005000e+02, 1.500500e+03, 2.500500e+03, 3.500500e+03,\n",
       "       4.500500e+03, 5.500500e+03, 6.500500e+03, 7.500500e+03,\n",
       "       8.500500e+03, 9.500500e+03, 1.050050e+04, 1.150050e+04,\n",
       "       1.250050e+04, 1.350050e+04, 1.450050e+04, 1.550050e+04,\n",
       "       1.650050e+04, 1.750050e+04, 1.850050e+04, 1.950050e+04,\n",
       "       2.050050e+04, 2.150050e+04, 2.250050e+04, 2.350050e+04,\n",
       "       2.450050e+04, 2.550050e+04, 2.650050e+04, 2.750050e+04,\n",
       "       2.850050e+04, 2.950050e+04, 3.050050e+04, 3.150050e+04,\n",
       "       3.250050e+04, 3.350050e+04, 3.450050e+04, 3.550050e+04,\n",
       "       3.650050e+04, 3.750050e+04, 3.850050e+04, 3.950050e+04,\n",
       "       4.050050e+04, 4.150050e+04, 4.250050e+04, 4.350050e+04,\n",
       "       4.450050e+04, 4.550050e+04, 4.650050e+04, 4.750050e+04,\n",
       "       4.850050e+04, 4.950050e+04, 5.050050e+04, 5.150050e+04,\n",
       "       5.250050e+04, 5.350050e+04, 5.450050e+04, 5.550050e+04,\n",
       "       5.650050e+04, 5.750050e+04, 5.850050e+04, 5.950050e+04,\n",
       "       6.050050e+04, 6.150050e+04, 6.250050e+04, 6.350050e+04,\n",
       "       6.450050e+04, 6.550050e+04, 6.650050e+04, 6.750050e+04,\n",
       "       6.850050e+04, 6.950050e+04, 7.050050e+04, 7.150050e+04,\n",
       "       7.250050e+04, 7.350050e+04, 7.450050e+04, 7.550050e+04,\n",
       "       7.650050e+04, 7.750050e+04, 7.850050e+04, 7.950050e+04,\n",
       "       8.050050e+04, 8.150050e+04, 8.250050e+04, 8.350050e+04,\n",
       "       8.450050e+04, 8.550050e+04, 8.650050e+04, 8.750050e+04,\n",
       "       8.850050e+04, 8.950050e+04, 9.050050e+04, 9.150050e+04,\n",
       "       9.250050e+04, 9.350050e+04, 9.450050e+04, 9.550050e+04,\n",
       "       9.650050e+04, 9.750050e+04, 9.850050e+04, 9.950050e+04,\n",
       "       1.005005e+05, 1.015005e+05, 1.025005e+05, 1.035005e+05,\n",
       "       1.045005e+05, 1.055005e+05, 1.065005e+05, 1.075005e+05,\n",
       "       1.085005e+05, 1.095005e+05, 1.105005e+05, 1.115005e+05,\n",
       "       1.125005e+05, 1.135005e+05, 1.145005e+05, 1.155005e+05,\n",
       "       1.165005e+05, 1.175005e+05, 1.185005e+05, 1.195005e+05,\n",
       "       1.205005e+05, 1.215005e+05, 1.225005e+05, 1.235005e+05,\n",
       "       1.245005e+05, 1.255005e+05, 1.265005e+05, 1.275005e+05,\n",
       "       1.285005e+05, 1.295005e+05, 1.305005e+05, 1.315005e+05,\n",
       "       1.325005e+05, 1.335005e+05, 1.345005e+05, 1.355005e+05,\n",
       "       1.365005e+05, 1.375005e+05, 1.385005e+05, 1.395005e+05,\n",
       "       1.405005e+05, 1.415005e+05, 1.425005e+05, 1.435005e+05,\n",
       "       1.445005e+05, 1.455005e+05, 1.465005e+05, 1.475005e+05,\n",
       "       1.485005e+05, 1.495005e+05, 1.505005e+05, 1.515005e+05,\n",
       "       1.525005e+05, 1.535005e+05, 1.545005e+05, 1.555005e+05,\n",
       "       1.565005e+05, 1.575005e+05, 1.585005e+05, 1.595005e+05,\n",
       "       1.605005e+05, 1.615005e+05, 1.625005e+05, 1.635005e+05,\n",
       "       1.645005e+05, 1.655005e+05, 1.665005e+05, 1.675005e+05,\n",
       "       1.685005e+05, 1.695005e+05, 1.705005e+05, 1.715005e+05,\n",
       "       1.725005e+05, 1.735005e+05, 1.745005e+05, 1.755005e+05,\n",
       "       1.765005e+05, 1.775005e+05, 1.785005e+05, 1.795005e+05,\n",
       "       1.805005e+05, 1.815005e+05, 1.825005e+05, 1.835005e+05,\n",
       "       1.845005e+05, 1.855005e+05, 1.865005e+05, 1.875005e+05,\n",
       "       1.885005e+05, 1.895005e+05, 1.905005e+05, 1.915005e+05,\n",
       "       1.925005e+05, 1.935005e+05, 1.945005e+05, 1.955005e+05,\n",
       "       1.965005e+05, 1.975005e+05, 1.985005e+05, 1.995005e+05,\n",
       "       2.005005e+05, 2.015005e+05, 2.025005e+05, 2.035005e+05,\n",
       "       2.045005e+05, 2.055005e+05, 2.065005e+05, 2.075005e+05,\n",
       "       2.085005e+05, 2.095005e+05, 2.105005e+05, 2.115005e+05,\n",
       "       2.125005e+05, 2.135005e+05, 2.145005e+05, 2.155005e+05,\n",
       "       2.165005e+05, 2.175005e+05, 2.185005e+05, 2.195005e+05,\n",
       "       2.205005e+05, 2.215005e+05, 2.225005e+05, 2.235005e+05,\n",
       "       2.245005e+05, 2.255005e+05, 2.265005e+05, 2.275005e+05,\n",
       "       2.285005e+05, 2.295005e+05, 2.305005e+05, 2.315005e+05,\n",
       "       2.325005e+05, 2.335005e+05, 2.345005e+05, 2.355005e+05,\n",
       "       2.365005e+05, 2.375005e+05, 2.385005e+05, 2.395005e+05,\n",
       "       2.405005e+05, 2.415005e+05, 2.425005e+05, 2.435005e+05,\n",
       "       2.445005e+05, 2.455005e+05, 2.465005e+05, 2.475005e+05,\n",
       "       2.485005e+05, 2.495005e+05, 2.505005e+05, 2.515005e+05,\n",
       "       2.525005e+05, 2.535005e+05, 2.545005e+05, 2.555005e+05,\n",
       "       2.565005e+05, 2.575005e+05, 2.585005e+05, 2.595005e+05,\n",
       "       2.605005e+05, 2.615005e+05, 2.625005e+05, 2.635005e+05,\n",
       "       2.645005e+05, 2.655005e+05, 2.665005e+05, 2.675005e+05,\n",
       "       2.685005e+05, 2.695005e+05, 2.705005e+05, 2.715005e+05,\n",
       "       2.725005e+05, 2.735005e+05, 2.745005e+05, 2.755005e+05,\n",
       "       2.765005e+05, 2.775005e+05, 2.785005e+05, 2.795005e+05,\n",
       "       2.805005e+05, 2.815005e+05, 2.825005e+05, 2.835005e+05,\n",
       "       2.845005e+05, 2.855005e+05, 2.865005e+05, 2.875005e+05,\n",
       "       2.885005e+05, 2.895005e+05, 2.905005e+05, 2.915005e+05,\n",
       "       2.925005e+05, 2.935005e+05, 2.945005e+05, 2.955005e+05,\n",
       "       2.965005e+05, 2.975005e+05, 2.985005e+05, 2.995005e+05,\n",
       "       3.005005e+05, 3.015005e+05, 3.025005e+05, 3.035005e+05,\n",
       "       3.045005e+05, 3.055005e+05, 3.065005e+05, 3.075005e+05,\n",
       "       3.085005e+05, 3.095005e+05, 3.105005e+05, 3.115005e+05,\n",
       "       3.125005e+05, 3.135005e+05, 3.145005e+05, 3.155005e+05,\n",
       "       3.165005e+05, 3.175005e+05, 3.185005e+05, 3.195005e+05,\n",
       "       3.205005e+05, 3.215005e+05, 3.225005e+05, 3.235005e+05,\n",
       "       3.245005e+05, 3.255005e+05, 3.265005e+05, 3.275005e+05,\n",
       "       3.285005e+05, 3.295005e+05, 3.305005e+05, 3.315005e+05,\n",
       "       3.325005e+05, 3.335005e+05, 3.345005e+05, 3.355005e+05,\n",
       "       3.365005e+05, 3.375005e+05, 3.385005e+05, 3.395005e+05,\n",
       "       3.405005e+05, 3.415005e+05, 3.425005e+05, 3.435005e+05,\n",
       "       3.445005e+05, 3.455005e+05, 3.465005e+05, 3.475005e+05,\n",
       "       3.485005e+05, 3.495005e+05, 3.505005e+05, 3.515005e+05,\n",
       "       3.525005e+05, 3.535005e+05, 3.545005e+05, 3.555005e+05,\n",
       "       3.565005e+05, 3.575005e+05, 3.585005e+05, 3.595005e+05,\n",
       "       3.605005e+05, 3.615005e+05, 3.625005e+05, 3.635005e+05,\n",
       "       3.645005e+05, 3.655005e+05, 3.665005e+05, 3.675005e+05,\n",
       "       3.685005e+05, 3.695005e+05, 3.705005e+05, 3.715005e+05,\n",
       "       3.725005e+05, 3.735005e+05, 3.745005e+05, 3.755005e+05,\n",
       "       3.765005e+05, 3.775005e+05, 3.785005e+05, 3.795005e+05,\n",
       "       3.805005e+05, 3.815005e+05, 3.825005e+05, 3.835005e+05,\n",
       "       3.845005e+05, 3.855005e+05, 3.865005e+05, 3.875005e+05,\n",
       "       3.885005e+05, 3.895005e+05, 3.905005e+05, 3.915005e+05,\n",
       "       3.925005e+05, 3.935005e+05, 3.945005e+05, 3.955005e+05,\n",
       "       3.965005e+05, 3.975005e+05, 3.985005e+05, 3.995005e+05,\n",
       "       4.005005e+05, 4.015005e+05, 4.025005e+05, 4.035005e+05,\n",
       "       4.045005e+05, 4.055005e+05, 4.065005e+05, 4.075005e+05,\n",
       "       4.085005e+05, 4.095005e+05, 4.105005e+05, 4.115005e+05,\n",
       "       4.125005e+05, 4.135005e+05, 4.145005e+05, 4.155005e+05,\n",
       "       4.165005e+05, 4.175005e+05, 4.185005e+05, 4.195005e+05,\n",
       "       4.205005e+05, 4.215005e+05, 4.225005e+05, 4.235005e+05,\n",
       "       4.245005e+05, 4.255005e+05, 4.265005e+05, 4.275005e+05,\n",
       "       4.285005e+05, 4.295005e+05, 4.305005e+05, 4.315005e+05,\n",
       "       4.325005e+05, 4.335005e+05, 4.345005e+05, 4.355005e+05,\n",
       "       4.365005e+05, 4.375005e+05, 4.385005e+05, 4.395005e+05,\n",
       "       4.405005e+05, 4.415005e+05, 4.425005e+05, 4.435005e+05,\n",
       "       4.445005e+05, 4.455005e+05, 4.465005e+05, 4.475005e+05,\n",
       "       4.485005e+05, 4.495005e+05, 4.505005e+05, 4.515005e+05,\n",
       "       4.525005e+05, 4.535005e+05, 4.545005e+05, 4.555005e+05,\n",
       "       4.565005e+05, 4.575005e+05, 4.585005e+05, 4.595005e+05,\n",
       "       4.605005e+05, 4.615005e+05, 4.625005e+05, 4.635005e+05,\n",
       "       4.645005e+05, 4.655005e+05, 4.665005e+05, 4.675005e+05,\n",
       "       4.685005e+05, 4.695005e+05, 4.705005e+05, 4.715005e+05,\n",
       "       4.725005e+05, 4.735005e+05, 4.745005e+05, 4.755005e+05,\n",
       "       4.765005e+05, 4.775005e+05, 4.785005e+05, 4.795005e+05,\n",
       "       4.805005e+05, 4.815005e+05, 4.825005e+05, 4.835005e+05,\n",
       "       4.845005e+05, 4.855005e+05, 4.865005e+05, 4.875005e+05,\n",
       "       4.885005e+05, 4.895005e+05, 4.905005e+05, 4.915005e+05,\n",
       "       4.925005e+05, 4.935005e+05, 4.945005e+05, 4.955005e+05,\n",
       "       4.965005e+05, 4.975005e+05, 4.985005e+05, 4.995005e+05,\n",
       "       5.005005e+05, 5.015005e+05, 5.025005e+05, 5.035005e+05,\n",
       "       5.045005e+05, 5.055005e+05, 5.065005e+05, 5.075005e+05,\n",
       "       5.085005e+05, 5.095005e+05, 5.105005e+05, 5.115005e+05,\n",
       "       5.125005e+05, 5.135005e+05, 5.145005e+05, 5.155005e+05,\n",
       "       5.165005e+05, 5.175005e+05, 5.185005e+05, 5.195005e+05,\n",
       "       5.205005e+05, 5.215005e+05, 5.225005e+05, 5.235005e+05,\n",
       "       5.245005e+05, 5.255005e+05, 5.265005e+05, 5.275005e+05,\n",
       "       5.285005e+05, 5.295005e+05, 5.305005e+05, 5.315005e+05,\n",
       "       5.325005e+05, 5.335005e+05, 5.345005e+05, 5.355005e+05,\n",
       "       5.365005e+05, 5.375005e+05, 5.385005e+05, 5.395005e+05,\n",
       "       5.405005e+05, 5.415005e+05, 5.425005e+05, 5.435005e+05,\n",
       "       5.445005e+05, 5.455005e+05, 5.465005e+05, 5.475005e+05,\n",
       "       5.485005e+05, 5.495005e+05, 5.505005e+05, 5.515005e+05,\n",
       "       5.525005e+05, 5.535005e+05, 5.545005e+05, 5.555005e+05,\n",
       "       5.565005e+05, 5.575005e+05, 5.585005e+05, 5.595005e+05,\n",
       "       5.605005e+05, 5.615005e+05, 5.625005e+05, 5.635005e+05,\n",
       "       5.645005e+05, 5.655005e+05, 5.665005e+05, 5.675005e+05,\n",
       "       5.685005e+05, 5.695005e+05, 5.705005e+05, 5.715005e+05,\n",
       "       5.725005e+05, 5.735005e+05, 5.745005e+05, 5.755005e+05,\n",
       "       5.765005e+05, 5.775005e+05, 5.785005e+05, 5.795005e+05,\n",
       "       5.805005e+05, 5.815005e+05, 5.825005e+05, 5.835005e+05,\n",
       "       5.845005e+05, 5.855005e+05, 5.865005e+05, 5.875005e+05,\n",
       "       5.885005e+05, 5.895005e+05, 5.905005e+05, 5.915005e+05,\n",
       "       5.925005e+05, 5.935005e+05, 5.945005e+05, 5.955005e+05,\n",
       "       5.965005e+05, 5.975005e+05, 5.985005e+05, 5.995005e+05,\n",
       "       6.005005e+05, 6.015005e+05, 6.025005e+05, 6.035005e+05,\n",
       "       6.045005e+05, 6.055005e+05, 6.065005e+05, 6.075005e+05,\n",
       "       6.085005e+05, 6.095005e+05, 6.105005e+05, 6.115005e+05,\n",
       "       6.125005e+05, 6.135005e+05, 6.145005e+05, 6.155005e+05,\n",
       "       6.165005e+05, 6.175005e+05, 6.185005e+05, 6.195005e+05,\n",
       "       6.205005e+05, 6.215005e+05, 6.225005e+05, 6.235005e+05,\n",
       "       6.245005e+05, 6.255005e+05, 6.265005e+05, 6.275005e+05,\n",
       "       6.285005e+05, 6.295005e+05, 6.305005e+05, 6.315005e+05,\n",
       "       6.325005e+05, 6.335005e+05, 6.345005e+05, 6.355005e+05,\n",
       "       6.365005e+05, 6.375005e+05, 6.385005e+05, 6.395005e+05,\n",
       "       6.405005e+05, 6.415005e+05, 6.425005e+05, 6.435005e+05,\n",
       "       6.445005e+05, 6.455005e+05, 6.465005e+05, 6.475005e+05,\n",
       "       6.485005e+05, 6.495005e+05, 6.505005e+05, 6.515005e+05,\n",
       "       6.525005e+05, 6.535005e+05, 6.545005e+05, 6.555005e+05,\n",
       "       6.565005e+05, 6.575005e+05, 6.585005e+05, 6.595005e+05,\n",
       "       6.605005e+05, 6.615005e+05, 6.625005e+05, 6.635005e+05,\n",
       "       6.645005e+05, 6.655005e+05, 6.665005e+05, 6.675005e+05,\n",
       "       6.685005e+05, 6.695005e+05, 6.705005e+05, 6.715005e+05,\n",
       "       6.725005e+05, 6.735005e+05, 6.745005e+05, 6.755005e+05,\n",
       "       6.765005e+05, 6.775005e+05, 6.785005e+05, 6.795005e+05,\n",
       "       6.805005e+05, 6.815005e+05, 6.825005e+05, 6.835005e+05,\n",
       "       6.845005e+05, 6.855005e+05, 6.865005e+05, 6.875005e+05,\n",
       "       6.885005e+05, 6.895005e+05, 6.905005e+05, 6.915005e+05,\n",
       "       6.925005e+05, 6.935005e+05, 6.945005e+05, 6.955005e+05,\n",
       "       6.965005e+05, 6.975005e+05, 6.985005e+05, 6.995005e+05,\n",
       "       7.005005e+05, 7.015005e+05, 7.025005e+05, 7.035005e+05,\n",
       "       7.045005e+05, 7.055005e+05, 7.065005e+05, 7.075005e+05,\n",
       "       7.085005e+05, 7.095005e+05, 7.105005e+05, 7.115005e+05,\n",
       "       7.125005e+05, 7.135005e+05, 7.145005e+05, 7.155005e+05,\n",
       "       7.165005e+05, 7.175005e+05, 7.185005e+05, 7.195005e+05,\n",
       "       7.205005e+05, 7.215005e+05, 7.225005e+05, 7.235005e+05,\n",
       "       7.245005e+05, 7.255005e+05, 7.265005e+05, 7.275005e+05,\n",
       "       7.285005e+05, 7.295005e+05, 7.305005e+05, 7.315005e+05,\n",
       "       7.325005e+05, 7.335005e+05, 7.345005e+05, 7.355005e+05,\n",
       "       7.365005e+05, 7.375005e+05, 7.385005e+05, 7.395005e+05,\n",
       "       7.405005e+05, 7.415005e+05, 7.425005e+05, 7.435005e+05,\n",
       "       7.445005e+05, 7.455005e+05, 7.465005e+05, 7.475005e+05,\n",
       "       7.485005e+05, 7.495005e+05, 7.505005e+05, 7.515005e+05,\n",
       "       7.525005e+05, 7.535005e+05, 7.545005e+05, 7.555005e+05,\n",
       "       7.565005e+05, 7.575005e+05, 7.585005e+05, 7.595005e+05,\n",
       "       7.605005e+05, 7.615005e+05, 7.625005e+05, 7.635005e+05,\n",
       "       7.645005e+05, 7.655005e+05, 7.665005e+05, 7.675005e+05,\n",
       "       7.685005e+05, 7.695005e+05, 7.705005e+05, 7.715005e+05,\n",
       "       7.725005e+05, 7.735005e+05, 7.745005e+05, 7.755005e+05,\n",
       "       7.765005e+05, 7.775005e+05, 7.785005e+05, 7.795005e+05,\n",
       "       7.805005e+05, 7.815005e+05, 7.825005e+05, 7.835005e+05,\n",
       "       7.845005e+05, 7.855005e+05, 7.865005e+05, 7.875005e+05,\n",
       "       7.885005e+05, 7.895005e+05, 7.905005e+05, 7.915005e+05,\n",
       "       7.925005e+05, 7.935005e+05, 7.945005e+05, 7.955005e+05,\n",
       "       7.965005e+05, 7.975005e+05, 7.985005e+05, 7.995005e+05,\n",
       "       8.005005e+05, 8.015005e+05, 8.025005e+05, 8.035005e+05,\n",
       "       8.045005e+05, 8.055005e+05, 8.065005e+05, 8.075005e+05,\n",
       "       8.085005e+05, 8.095005e+05, 8.105005e+05, 8.115005e+05,\n",
       "       8.125005e+05, 8.135005e+05, 8.145005e+05, 8.155005e+05,\n",
       "       8.165005e+05, 8.175005e+05, 8.185005e+05, 8.195005e+05,\n",
       "       8.205005e+05, 8.215005e+05, 8.225005e+05, 8.235005e+05,\n",
       "       8.245005e+05, 8.255005e+05, 8.265005e+05, 8.275005e+05,\n",
       "       8.285005e+05, 8.295005e+05, 8.305005e+05, 8.315005e+05,\n",
       "       8.325005e+05, 8.335005e+05, 8.345005e+05, 8.355005e+05,\n",
       "       8.365005e+05, 8.375005e+05, 8.385005e+05, 8.395005e+05,\n",
       "       8.405005e+05, 8.415005e+05, 8.425005e+05, 8.435005e+05,\n",
       "       8.445005e+05, 8.455005e+05, 8.465005e+05, 8.475005e+05,\n",
       "       8.485005e+05, 8.495005e+05, 8.505005e+05, 8.515005e+05,\n",
       "       8.525005e+05, 8.535005e+05, 8.545005e+05, 8.555005e+05,\n",
       "       8.565005e+05, 8.575005e+05, 8.585005e+05, 8.595005e+05,\n",
       "       8.605005e+05, 8.615005e+05, 8.625005e+05, 8.635005e+05,\n",
       "       8.645005e+05, 8.655005e+05, 8.665005e+05, 8.675005e+05,\n",
       "       8.685005e+05, 8.695005e+05, 8.705005e+05, 8.715005e+05,\n",
       "       8.725005e+05, 8.735005e+05, 8.745005e+05, 8.755005e+05,\n",
       "       8.765005e+05, 8.775005e+05, 8.785005e+05, 8.795005e+05,\n",
       "       8.805005e+05, 8.815005e+05, 8.825005e+05, 8.835005e+05,\n",
       "       8.845005e+05, 8.855005e+05, 8.865005e+05, 8.875005e+05,\n",
       "       8.885005e+05, 8.895005e+05, 8.905005e+05, 8.915005e+05,\n",
       "       8.925005e+05, 8.935005e+05, 8.945005e+05, 8.955005e+05,\n",
       "       8.965005e+05, 8.975005e+05, 8.985005e+05, 8.995005e+05,\n",
       "       9.005005e+05, 9.015005e+05, 9.025005e+05, 9.035005e+05,\n",
       "       9.045005e+05, 9.055005e+05, 9.065005e+05, 9.075005e+05,\n",
       "       9.085005e+05, 9.095005e+05, 9.105005e+05, 9.115005e+05,\n",
       "       9.125005e+05, 9.135005e+05, 9.145005e+05, 9.155005e+05,\n",
       "       9.165005e+05, 9.175005e+05, 9.185005e+05, 9.195005e+05,\n",
       "       9.205005e+05, 9.215005e+05, 9.225005e+05, 9.235005e+05,\n",
       "       9.245005e+05, 9.255005e+05, 9.265005e+05, 9.275005e+05,\n",
       "       9.285005e+05, 9.295005e+05, 9.305005e+05, 9.315005e+05,\n",
       "       9.325005e+05, 9.335005e+05, 9.345005e+05, 9.355005e+05,\n",
       "       9.365005e+05, 9.375005e+05, 9.385005e+05, 9.395005e+05,\n",
       "       9.405005e+05, 9.415005e+05, 9.425005e+05, 9.435005e+05,\n",
       "       9.445005e+05, 9.455005e+05, 9.465005e+05, 9.475005e+05,\n",
       "       9.485005e+05, 9.495005e+05, 9.505005e+05, 9.515005e+05,\n",
       "       9.525005e+05, 9.535005e+05, 9.545005e+05, 9.555005e+05,\n",
       "       9.565005e+05, 9.575005e+05, 9.585005e+05, 9.595005e+05,\n",
       "       9.605005e+05, 9.615005e+05, 9.625005e+05, 9.635005e+05,\n",
       "       9.645005e+05, 9.655005e+05, 9.665005e+05, 9.675005e+05,\n",
       "       9.685005e+05, 9.695005e+05, 9.705005e+05, 9.715005e+05,\n",
       "       9.725005e+05, 9.735005e+05, 9.745005e+05, 9.755005e+05,\n",
       "       9.765005e+05, 9.775005e+05, 9.785005e+05, 9.795005e+05,\n",
       "       9.805005e+05, 9.815005e+05, 9.825005e+05, 9.835005e+05,\n",
       "       9.845005e+05, 9.855005e+05, 9.865005e+05, 9.875005e+05,\n",
       "       9.885005e+05, 9.895005e+05, 9.905005e+05, 9.915005e+05,\n",
       "       9.925005e+05, 9.935005e+05, 9.945005e+05, 9.955005e+05,\n",
       "       9.965005e+05, 9.975005e+05, 9.985005e+05, 9.995005e+05])"
      ]
     },
     "execution_count": 16,
     "metadata": {},
     "output_type": "execute_result"
    }
   ],
   "source": [
    "np.average(a2,axis=0)"
   ]
  },
  {
   "cell_type": "code",
   "execution_count": 17,
   "id": "99ec349d-bf68-4ec2-b3c5-178f942443ea",
   "metadata": {},
   "outputs": [
    {
     "data": {
      "text/plain": [
       "array([[      333833500,       834333500,      1334833500, ...,\n",
       "           499332333500,    499832833500,    500333333500],\n",
       "       [      834333500,      2334833500,      3835333500, ...,\n",
       "          1496832833500,   1498333333500,   1499833833500],\n",
       "       [     1334833500,      3835333500,      6335833500, ...,\n",
       "          2494333333500,   2496833833500,   2499334333500],\n",
       "       ...,\n",
       "       [   499332333500,   1496832833500,   2494333333500, ...,\n",
       "        995007330833500, 996004831333500, 997002331833500],\n",
       "       [   499832833500,   1498333333500,   2496833833500, ...,\n",
       "        996004831333500, 997003331833500, 998001832333500],\n",
       "       [   500333333500,   1499833833500,   2499334333500, ...,\n",
       "        997002331833500, 998001832333500, 999001332833500]])"
      ]
     },
     "execution_count": 17,
     "metadata": {},
     "output_type": "execute_result"
    }
   ],
   "source": [
    "np.matmul(a1,a2)"
   ]
  },
  {
   "cell_type": "code",
   "execution_count": 27,
   "id": "0f98cc53-ac50-4530-80f7-aef513567bad",
   "metadata": {},
   "outputs": [
    {
     "data": {
      "text/plain": [
       "array([False, False])"
      ]
     },
     "execution_count": 27,
     "metadata": {},
     "output_type": "execute_result"
    }
   ],
   "source": [
    "np.all([np.array([True, True, False, True, False]),np.array([False, True, False, False, False])], axis=1)"
   ]
  },
  {
   "cell_type": "code",
   "execution_count": 28,
   "id": "b96b27d4-a447-4b21-b42e-7e3d84a4c0e5",
   "metadata": {},
   "outputs": [
    {
     "data": {
      "text/plain": [
       "True"
      ]
     },
     "execution_count": 28,
     "metadata": {},
     "output_type": "execute_result"
    }
   ],
   "source": [
    "np.all([1,1,1])"
   ]
  },
  {
   "cell_type": "code",
   "execution_count": 36,
   "id": "eeb43541-4246-4ee3-95d3-84ac5041d7c5",
   "metadata": {},
   "outputs": [],
   "source": [
    "a=[2,4,6,8,10,12,14,16,18,20]"
   ]
  },
  {
   "cell_type": "code",
   "execution_count": 37,
   "id": "8c1a567d-d4ef-451d-af26-f3605ad22652",
   "metadata": {},
   "outputs": [
    {
     "data": {
      "text/plain": [
       "True"
      ]
     },
     "execution_count": 37,
     "metadata": {},
     "output_type": "execute_result"
    }
   ],
   "source": [
    "np.all(np.array(a)%2==0,axis=0)"
   ]
  },
  {
   "cell_type": "code",
   "execution_count": 38,
   "id": "df8fd69f-fbcc-4432-961b-afe3584bc4f1",
   "metadata": {},
   "outputs": [
    {
     "data": {
      "text/plain": [
       "array([[False,  True, False, ..., False, False, False],\n",
       "       [False, False, False, ..., False, False, False],\n",
       "       [False, False, False, ..., False, False, False],\n",
       "       ...,\n",
       "       [False, False, False, ..., False, False, False],\n",
       "       [False, False, False, ..., False, False, False],\n",
       "       [False, False, False, ..., False, False, False]])"
      ]
     },
     "execution_count": 38,
     "metadata": {},
     "output_type": "execute_result"
    }
   ],
   "source": [
    "np.equal(a1,2)"
   ]
  },
  {
   "cell_type": "code",
   "execution_count": 39,
   "id": "8e76bf60-0cf2-43bf-816c-175095c3d9ac",
   "metadata": {},
   "outputs": [
    {
     "data": {
      "text/plain": [
       "array([[False, False, False, ..., False, False, False],\n",
       "       [ True, False, False, ..., False, False, False],\n",
       "       [False, False, False, ..., False, False, False],\n",
       "       ...,\n",
       "       [False, False, False, ..., False, False, False],\n",
       "       [False, False, False, ..., False, False, False],\n",
       "       [False, False, False, ..., False, False, False]])"
      ]
     },
     "execution_count": 39,
     "metadata": {},
     "output_type": "execute_result"
    }
   ],
   "source": [
    "np.equal(a2,2)"
   ]
  },
  {
   "cell_type": "code",
   "execution_count": 41,
   "id": "eda253f7-33bb-440c-b2a6-5fdeedc61047",
   "metadata": {},
   "outputs": [
    {
     "data": {
      "text/plain": [
       "array([[False, False, False, ...,  True,  True,  True],\n",
       "       [ True,  True,  True, ...,  True,  True,  True],\n",
       "       [ True,  True,  True, ...,  True,  True,  True],\n",
       "       ...,\n",
       "       [ True,  True,  True, ...,  True,  True,  True],\n",
       "       [ True,  True,  True, ...,  True,  True,  True],\n",
       "       [ True,  True,  True, ...,  True,  True,  True]])"
      ]
     },
     "execution_count": 41,
     "metadata": {},
     "output_type": "execute_result"
    }
   ],
   "source": [
    "np.greater(a1,100)"
   ]
  },
  {
   "cell_type": "code",
   "execution_count": 42,
   "id": "8f0e5c24-8b56-4dc6-b8b2-1f4366baf06f",
   "metadata": {},
   "outputs": [
    {
     "data": {
      "text/plain": [
       "array([[False,  True,  True, ...,  True,  True,  True],\n",
       "       [False,  True,  True, ...,  True,  True,  True],\n",
       "       [False,  True,  True, ...,  True,  True,  True],\n",
       "       ...,\n",
       "       [ True,  True,  True, ...,  True,  True,  True],\n",
       "       [ True,  True,  True, ...,  True,  True,  True],\n",
       "       [ True,  True,  True, ...,  True,  True,  True]])"
      ]
     },
     "execution_count": 42,
     "metadata": {},
     "output_type": "execute_result"
    }
   ],
   "source": [
    "np.greater(a2,100)"
   ]
  },
  {
   "cell_type": "code",
   "execution_count": 43,
   "id": "cf95906a-3f12-45c7-90cc-81c82ff01d24",
   "metadata": {},
   "outputs": [
    {
     "data": {
      "text/plain": [
       "array([[ True,  True,  True, ..., False, False, False],\n",
       "       [False, False, False, ..., False, False, False],\n",
       "       [False, False, False, ..., False, False, False],\n",
       "       ...,\n",
       "       [False, False, False, ..., False, False, False],\n",
       "       [False, False, False, ..., False, False, False],\n",
       "       [False, False, False, ..., False, False, False]])"
      ]
     },
     "execution_count": 43,
     "metadata": {},
     "output_type": "execute_result"
    }
   ],
   "source": [
    "np.less(a1,100)"
   ]
  },
  {
   "cell_type": "code",
   "execution_count": 44,
   "id": "6a460454-fb83-4bd8-99d0-46eb8134d8d7",
   "metadata": {},
   "outputs": [
    {
     "data": {
      "text/plain": [
       "array([[ True, False, False, ..., False, False, False],\n",
       "       [ True, False, False, ..., False, False, False],\n",
       "       [ True, False, False, ..., False, False, False],\n",
       "       ...,\n",
       "       [False, False, False, ..., False, False, False],\n",
       "       [False, False, False, ..., False, False, False],\n",
       "       [False, False, False, ..., False, False, False]])"
      ]
     },
     "execution_count": 44,
     "metadata": {},
     "output_type": "execute_result"
    }
   ],
   "source": [
    "np.less(a2,100)"
   ]
  },
  {
   "cell_type": "code",
   "execution_count": 45,
   "id": "373e0e4d-1f6a-4aac-8d35-a188e1193798",
   "metadata": {},
   "outputs": [
    {
     "data": {
      "text/plain": [
       "array([[ 0.84147098,  0.90929743,  0.14112001, ..., -0.85547315,\n",
       "        -0.02646075,  0.82687954],\n",
       "       [ 0.9199906 ,  0.16726654, -0.7392416 , ..., -0.05290298,\n",
       "         0.81170904,  0.9300395 ],\n",
       "       [ 0.19329594, -0.72116302, -0.97258803, ...,  0.7959701 ,\n",
       "         0.93943711,  0.21918997],\n",
       "       ...,\n",
       "       [-0.76006947, -0.95749033, -0.274599  , ...,  0.91801438,\n",
       "         0.16232242, -0.74260803],\n",
       "       [-0.96478808, -0.29994642,  0.6406646 , ...,  0.1883754 ,\n",
       "        -0.72462655, -0.97141019],\n",
       "       [-0.32508379,  0.62012315,  0.99519172, ..., -0.70613761,\n",
       "        -0.97735203, -0.3499935 ]])"
      ]
     },
     "execution_count": 45,
     "metadata": {},
     "output_type": "execute_result"
    }
   ],
   "source": [
    "np.sin(a1)"
   ]
  },
  {
   "cell_type": "code",
   "execution_count": 46,
   "id": "1de09632-86e3-4dc2-a4af-ece539f031f7",
   "metadata": {},
   "outputs": [
    {
     "data": {
      "text/plain": [
       "array([[ 0.54030231, -0.41614684, -0.9899925 , ...,  0.51784716,\n",
       "         0.99964985,  0.56237908],\n",
       "       [-0.39194043, -0.98591171, -0.67344031, ...,  0.99859966,\n",
       "         0.58406202, -0.36745955],\n",
       "       [-0.9811405 , -0.6927654 ,  0.23253501, ...,  0.60533594,\n",
       "        -0.34272134, -0.9756822 ],\n",
       "       ...,\n",
       "       [-0.64984183,  0.28846537,  0.96155883, ..., -0.39654709,\n",
       "        -0.98673777, -0.6697263 ],\n",
       "       [ 0.26302845,  0.95395605,  0.76782086, ..., -0.9820971 ,\n",
       "        -0.68914176,  0.23740733],\n",
       "       [ 0.94568522,  0.78450448, -0.09794606, ..., -0.70807463,\n",
       "         0.21161996,  0.93675213]])"
      ]
     },
     "execution_count": 46,
     "metadata": {},
     "output_type": "execute_result"
    }
   ],
   "source": [
    "np.cos(a1)"
   ]
  },
  {
   "cell_type": "code",
   "execution_count": 47,
   "id": "ab03b06a-537b-4a54-ab79-7d25c0706b58",
   "metadata": {},
   "outputs": [
    {
     "data": {
      "text/plain": [
       "array([[  1.55740772,  -2.18503986,  -0.14254654, ...,  -1.65197999,\n",
       "         -0.02647002,   1.47032416],\n",
       "       [ -2.34727149,  -0.16965671,   1.09770916, ...,  -0.05297716,\n",
       "          1.38976515,  -2.53099833],\n",
       "       [ -0.19701148,   1.04099168,  -4.18254442, ...,   1.31492291,\n",
       "         -2.74111064,  -0.22465304],\n",
       "       ...,\n",
       "       [  1.16962226,  -3.31925575,  -0.28557691, ...,  -2.31501984,\n",
       "         -0.16450411,   1.10882316],\n",
       "       [ -3.66799899,  -0.31442373,   0.83439332, ...,  -0.19180935,\n",
       "          1.05149127,  -4.09174473],\n",
       "       [ -0.34375475,   0.79046477, -10.16060995, ...,   0.99726439,\n",
       "         -4.61843033,  -0.37362445]])"
      ]
     },
     "execution_count": 47,
     "metadata": {},
     "output_type": "execute_result"
    }
   ],
   "source": [
    "np.tan(a1)"
   ]
  },
  {
   "cell_type": "code",
   "execution_count": 50,
   "id": "066b9869-4a79-4420-989b-885af51f4ac5",
   "metadata": {},
   "outputs": [
    {
     "data": {
      "text/plain": [
       "array([[  1.18839511,   1.09975017,   7.0861674 , ...,  -1.16894376,\n",
       "        -37.79181983,   1.209366  ],\n",
       "       [  1.08696763,   5.97848194,  -1.35273772, ..., -18.90252858,\n",
       "          1.23196854,   1.07522314],\n",
       "       [  5.1734144 ,  -1.38664903,  -1.02818457, ...,   1.2563286 ,\n",
       "          1.06446721,   4.56225246],\n",
       "       ...,\n",
       "       [ -1.31566921,  -1.04439697,  -3.64167391, ...,   1.08930755,\n",
       "          6.16057857,  -1.34660542],\n",
       "       [ -1.03649705,  -3.33392881,   1.56087913, ...,   5.30854867,\n",
       "         -1.38002121,  -1.02943124],\n",
       "       [ -3.07613004,   1.61258291,   1.00483151, ...,  -1.41615456,\n",
       "         -1.02317278,  -2.8571959 ]])"
      ]
     },
     "execution_count": 50,
     "metadata": {},
     "output_type": "execute_result"
    }
   ],
   "source": [
    "1/np.sin(a1)"
   ]
  },
  {
   "cell_type": "code",
   "execution_count": 51,
   "id": "33a768d6-f876-45be-aca1-4a089a34a965",
   "metadata": {},
   "outputs": [
    {
     "data": {
      "text/plain": [
       "array([[      1,       2,       3, ...,     998,     999,    1000],\n",
       "       [   1001,    1002,    1003, ...,    1998,    1999,    2000],\n",
       "       [   2001,    2002,    2003, ...,    2998,    2999,    3000],\n",
       "       ...,\n",
       "       [ 997001,  997002,  997003, ...,  997998,  997999,  998000],\n",
       "       [ 998001,  998002,  998003, ...,  998998,  998999,  999000],\n",
       "       [ 999001,  999002,  999003, ...,  999998,  999999, 1000000]])"
      ]
     },
     "execution_count": 51,
     "metadata": {},
     "output_type": "execute_result"
    }
   ],
   "source": [
    "a1"
   ]
  },
  {
   "cell_type": "code",
   "execution_count": 53,
   "id": "f411c666-48e3-4e62-818c-e964dbd1a5d8",
   "metadata": {},
   "outputs": [
    {
     "data": {
      "text/plain": [
       "array([[ True,  True,  True, ...,  True,  True,  True],\n",
       "       [ True,  True,  True, ...,  True,  True,  True],\n",
       "       [ True,  True,  True, ...,  True,  True,  True],\n",
       "       ...,\n",
       "       [ True,  True,  True, ...,  True,  True,  True],\n",
       "       [ True,  True,  True, ...,  True,  True,  True],\n",
       "       [ True,  True,  True, ...,  True,  True,  True]])"
      ]
     },
     "execution_count": 53,
     "metadata": {},
     "output_type": "execute_result"
    }
   ],
   "source": [
    "np.logical_and(a1,a2)"
   ]
  },
  {
   "cell_type": "code",
   "execution_count": 55,
   "id": "5da26a14-20f5-46c7-a140-1a8371c81277",
   "metadata": {},
   "outputs": [
    {
     "data": {
      "text/plain": [
       "array([[ True,  True,  True, ...,  True,  True,  True],\n",
       "       [ True,  True,  True, ...,  True,  True,  True],\n",
       "       [ True,  True,  True, ...,  True,  True,  True],\n",
       "       ...,\n",
       "       [ True,  True,  True, ...,  True,  True,  True],\n",
       "       [ True,  True,  True, ...,  True,  True,  True],\n",
       "       [ True,  True,  True, ...,  True,  True,  True]])"
      ]
     },
     "execution_count": 55,
     "metadata": {},
     "output_type": "execute_result"
    }
   ],
   "source": [
    "np.logical_or(a1,a2)"
   ]
  },
  {
   "cell_type": "code",
   "execution_count": 56,
   "id": "ab9053d2-f61c-449f-9167-cb6272051d76",
   "metadata": {},
   "outputs": [
    {
     "data": {
      "text/plain": [
       "array([[False, False, False, ..., False, False, False],\n",
       "       [False, False, False, ..., False, False, False],\n",
       "       [False, False, False, ..., False, False, False],\n",
       "       ...,\n",
       "       [False, False, False, ..., False, False, False],\n",
       "       [False, False, False, ..., False, False, False],\n",
       "       [False, False, False, ..., False, False, False]])"
      ]
     },
     "execution_count": 56,
     "metadata": {},
     "output_type": "execute_result"
    }
   ],
   "source": [
    "np.logical_not(a1)"
   ]
  },
  {
   "cell_type": "code",
   "execution_count": 58,
   "id": "3b2a4c2a-4a71-43e2-8214-31e949a5dc00",
   "metadata": {},
   "outputs": [
    {
     "data": {
      "text/plain": [
       "array([[False, False, False, ..., False, False, False],\n",
       "       [False, False, False, ..., False, False, False],\n",
       "       [False, False, False, ..., False, False, False],\n",
       "       ...,\n",
       "       [False, False, False, ..., False, False, False],\n",
       "       [False, False, False, ..., False, False, False],\n",
       "       [False, False, False, ..., False, False, False]])"
      ]
     },
     "execution_count": 58,
     "metadata": {},
     "output_type": "execute_result"
    }
   ],
   "source": [
    "np.logical_xor(a1,a2)"
   ]
  },
  {
   "cell_type": "markdown",
   "id": "688fd9d2-f7d9-4067-91e4-692bde211ac4",
   "metadata": {},
   "source": [
    "### Fancy indexing\n",
    "\n",
    "**Syntax**\n",
    "```python\n",
    "array[[row1,row2,row3,row4],[col1,col2,col3,col4]]\n",
    "```"
   ]
  },
  {
   "cell_type": "code",
   "execution_count": 64,
   "id": "4f64661c-855c-40f9-a4f9-53f7921dab0b",
   "metadata": {},
   "outputs": [
    {
     "data": {
      "text/plain": [
       "array([   1, 1002, 2003, 3004, 4005, 5006, 6007])"
      ]
     },
     "execution_count": 64,
     "metadata": {},
     "output_type": "execute_result"
    }
   ],
   "source": [
    "a1[[0,1,2,3,4,5,6],[0,1,2,3,4,5,6]]"
   ]
  },
  {
   "cell_type": "code",
   "execution_count": 65,
   "id": "6740b157-c82d-40eb-b53c-f53d649f54a7",
   "metadata": {},
   "outputs": [
    {
     "data": {
      "text/plain": [
       "array([[      1,       2,       3, ...,     998,     999,    1000],\n",
       "       [   1001,    1002,    1003, ...,    1998,    1999,    2000],\n",
       "       [   2001,    2002,    2003, ...,    2998,    2999,    3000],\n",
       "       ...,\n",
       "       [ 997001,  997002,  997003, ...,  997998,  997999,  998000],\n",
       "       [ 998001,  998002,  998003, ...,  998998,  998999,  999000],\n",
       "       [ 999001,  999002,  999003, ...,  999998,  999999, 1000000]])"
      ]
     },
     "execution_count": 65,
     "metadata": {},
     "output_type": "execute_result"
    }
   ],
   "source": [
    "a1"
   ]
  },
  {
   "cell_type": "code",
   "execution_count": 70,
   "id": "f51445bc-00f6-49cb-a092-c1cd43544609",
   "metadata": {},
   "outputs": [],
   "source": [
    "c1 = np.arange(0,20).reshape(4,5)"
   ]
  },
  {
   "cell_type": "code",
   "execution_count": 71,
   "id": "f7710c80-19a8-4de9-8949-0cd58767d099",
   "metadata": {},
   "outputs": [
    {
     "data": {
      "text/plain": [
       "array([[ 0,  1,  2,  3,  4],\n",
       "       [ 5,  6,  7,  8,  9],\n",
       "       [10, 11, 12, 13, 14],\n",
       "       [15, 16, 17, 18, 19]])"
      ]
     },
     "execution_count": 71,
     "metadata": {},
     "output_type": "execute_result"
    }
   ],
   "source": [
    "c1"
   ]
  },
  {
   "cell_type": "code",
   "execution_count": 74,
   "id": "0a9eb4fb-b629-4b3e-9bfc-83181a170f9f",
   "metadata": {},
   "outputs": [
    {
     "data": {
      "text/plain": [
       "array([[ 6,  7],\n",
       "       [11, 12]])"
      ]
     },
     "execution_count": 74,
     "metadata": {},
     "output_type": "execute_result"
    }
   ],
   "source": [
    "c1[1:3,1:3]"
   ]
  },
  {
   "cell_type": "code",
   "execution_count": 76,
   "id": "32f2bb10-9260-473c-9d11-d8292ca88149",
   "metadata": {},
   "outputs": [
    {
     "data": {
      "text/plain": [
       "array([[ 0,  1],\n",
       "       [ 5,  6],\n",
       "       [10, 11]])"
      ]
     },
     "execution_count": 76,
     "metadata": {},
     "output_type": "execute_result"
    }
   ],
   "source": [
    "c1[:3,:2]"
   ]
  },
  {
   "cell_type": "code",
   "execution_count": 87,
   "id": "00cf8c9f-3bc9-47db-9546-28785f739c70",
   "metadata": {},
   "outputs": [
    {
     "data": {
      "text/plain": [
       "array([[ 7,  8,  9],\n",
       "       [12, 13, 14],\n",
       "       [17, 18, 19]])"
      ]
     },
     "execution_count": 87,
     "metadata": {},
     "output_type": "execute_result"
    }
   ],
   "source": [
    "c1[[[1,1,1],[2,2,2],[3,3,3]],[[2,3,4],[2,3,4],[2,3,4]]]"
   ]
  },
  {
   "cell_type": "code",
   "execution_count": 89,
   "id": "448f9923-11df-4dd7-99a5-db3f3d54e804",
   "metadata": {},
   "outputs": [
    {
     "data": {
      "text/plain": [
       "[array([[     1,      2,      3, ...,    248,    249,    250],\n",
       "        [  1001,   1002,   1003, ...,   1248,   1249,   1250],\n",
       "        [  2001,   2002,   2003, ...,   2248,   2249,   2250],\n",
       "        ...,\n",
       "        [997001, 997002, 997003, ..., 997248, 997249, 997250],\n",
       "        [998001, 998002, 998003, ..., 998248, 998249, 998250],\n",
       "        [999001, 999002, 999003, ..., 999248, 999249, 999250]]),\n",
       " array([[   251,    252,    253, ...,    498,    499,    500],\n",
       "        [  1251,   1252,   1253, ...,   1498,   1499,   1500],\n",
       "        [  2251,   2252,   2253, ...,   2498,   2499,   2500],\n",
       "        ...,\n",
       "        [997251, 997252, 997253, ..., 997498, 997499, 997500],\n",
       "        [998251, 998252, 998253, ..., 998498, 998499, 998500],\n",
       "        [999251, 999252, 999253, ..., 999498, 999499, 999500]]),\n",
       " array([[   501,    502,    503, ...,    748,    749,    750],\n",
       "        [  1501,   1502,   1503, ...,   1748,   1749,   1750],\n",
       "        [  2501,   2502,   2503, ...,   2748,   2749,   2750],\n",
       "        ...,\n",
       "        [997501, 997502, 997503, ..., 997748, 997749, 997750],\n",
       "        [998501, 998502, 998503, ..., 998748, 998749, 998750],\n",
       "        [999501, 999502, 999503, ..., 999748, 999749, 999750]]),\n",
       " array([[    751,     752,     753, ...,     998,     999,    1000],\n",
       "        [   1751,    1752,    1753, ...,    1998,    1999,    2000],\n",
       "        [   2751,    2752,    2753, ...,    2998,    2999,    3000],\n",
       "        ...,\n",
       "        [ 997751,  997752,  997753, ...,  997998,  997999,  998000],\n",
       "        [ 998751,  998752,  998753, ...,  998998,  998999,  999000],\n",
       "        [ 999751,  999752,  999753, ...,  999998,  999999, 1000000]])]"
      ]
     },
     "execution_count": 89,
     "metadata": {},
     "output_type": "execute_result"
    }
   ],
   "source": [
    "np.hsplit(a1,4)"
   ]
  },
  {
   "cell_type": "code",
   "execution_count": 105,
   "id": "8514f671-ad7b-4e7d-8528-fb0487419ba8",
   "metadata": {},
   "outputs": [
    {
     "data": {
      "text/plain": [
       "(100, 1000)"
      ]
     },
     "execution_count": 105,
     "metadata": {},
     "output_type": "execute_result"
    }
   ],
   "source": [
    "np.vsplit(a1,10)[0].shape"
   ]
  },
  {
   "cell_type": "code",
   "execution_count": 106,
   "id": "1b5de3e4-53e0-4a0b-a0ab-985e2f24c6cc",
   "metadata": {},
   "outputs": [
    {
     "data": {
      "text/plain": [
       "(1000, 100)"
      ]
     },
     "execution_count": 106,
     "metadata": {},
     "output_type": "execute_result"
    }
   ],
   "source": [
    "np.hsplit(a1,10)[0].shape"
   ]
  },
  {
   "cell_type": "code",
   "execution_count": 118,
   "id": "40929898-37f7-4968-b1d0-caef31f7edef",
   "metadata": {},
   "outputs": [],
   "source": [
    "np.savetxt('assets/arr.txt',a1,fmt='%.1d')"
   ]
  },
  {
   "cell_type": "code",
   "execution_count": 119,
   "id": "54eaa2e7-5a12-4dc0-99aa-17509565843c",
   "metadata": {},
   "outputs": [],
   "source": [
    "a31 = np.genfromtxt('assets/arr.txt')"
   ]
  },
  {
   "cell_type": "code",
   "execution_count": 120,
   "id": "b7a9d53c-ffd7-43e7-8bec-409c77ede2d0",
   "metadata": {},
   "outputs": [
    {
     "data": {
      "text/plain": [
       "array([[1.00000e+00, 2.00000e+00, 3.00000e+00, ..., 9.98000e+02,\n",
       "        9.99000e+02, 1.00000e+03],\n",
       "       [1.00100e+03, 1.00200e+03, 1.00300e+03, ..., 1.99800e+03,\n",
       "        1.99900e+03, 2.00000e+03],\n",
       "       [2.00100e+03, 2.00200e+03, 2.00300e+03, ..., 2.99800e+03,\n",
       "        2.99900e+03, 3.00000e+03],\n",
       "       ...,\n",
       "       [9.97001e+05, 9.97002e+05, 9.97003e+05, ..., 9.97998e+05,\n",
       "        9.97999e+05, 9.98000e+05],\n",
       "       [9.98001e+05, 9.98002e+05, 9.98003e+05, ..., 9.98998e+05,\n",
       "        9.98999e+05, 9.99000e+05],\n",
       "       [9.99001e+05, 9.99002e+05, 9.99003e+05, ..., 9.99998e+05,\n",
       "        9.99999e+05, 1.00000e+06]])"
      ]
     },
     "execution_count": 120,
     "metadata": {},
     "output_type": "execute_result"
    }
   ],
   "source": [
    "a31"
   ]
  },
  {
   "cell_type": "code",
   "execution_count": 2,
   "id": "5d01fcc4-1a6d-442e-bae1-0da9977e0020",
   "metadata": {},
   "outputs": [],
   "source": [
    "import numpy as np"
   ]
  },
  {
   "cell_type": "code",
   "execution_count": 3,
   "id": "f1ef65ed-8bd1-4f66-b908-83cb71873f8c",
   "metadata": {},
   "outputs": [],
   "source": [
    "datas = np.genfromtxt('assets/data_subplot.csv',delimiter=',',skip_header=True)"
   ]
  },
  {
   "cell_type": "code",
   "execution_count": 4,
   "id": "cacd52a9-7021-4489-8c4f-d180dcb2c29d",
   "metadata": {},
   "outputs": [
    {
     "data": {
      "text/plain": [
       "array([[1.80000e+01, 1.77840e+04, 2.00460e+04, 1.64460e+04],\n",
       "       [1.90000e+01, 1.65000e+04, 1.71000e+04, 1.67910e+04],\n",
       "       [2.00000e+01, 1.80120e+04, 2.00000e+04, 1.89420e+04],\n",
       "       [2.10000e+01, 2.06280e+04, 2.47440e+04, 2.17800e+04],\n",
       "       [2.20000e+01, 2.52060e+04, 3.05000e+04, 2.57040e+04],\n",
       "       [2.30000e+01, 3.02520e+04, 3.77320e+04, 2.90000e+04],\n",
       "       [2.40000e+01, 3.43680e+04, 4.12470e+04, 3.43720e+04],\n",
       "       [2.50000e+01, 3.84960e+04, 4.53720e+04, 3.78100e+04],\n",
       "       [2.60000e+01, 4.20000e+04, 4.88760e+04, 4.35150e+04],\n",
       "       [2.70000e+01, 4.67520e+04, 5.38500e+04, 4.68230e+04],\n",
       "       [2.80000e+01, 4.93200e+04, 5.72870e+04, 4.92930e+04],\n",
       "       [2.90000e+01, 5.32000e+04, 6.30160e+04, 5.34370e+04],\n",
       "       [3.00000e+01, 5.60000e+04, 6.59980e+04, 5.63730e+04],\n",
       "       [3.10000e+01, 6.23160e+04, 7.00030e+04, 6.23750e+04],\n",
       "       [3.20000e+01, 6.49280e+04, 7.00000e+04, 6.66740e+04],\n",
       "       [3.30000e+01, 6.73170e+04, 7.14960e+04, 6.87450e+04],\n",
       "       [3.40000e+01, 6.87480e+04, 7.53700e+04, 6.87460e+04],\n",
       "       [3.50000e+01, 7.37520e+04, 8.36400e+04, 7.45830e+04],\n",
       "       [3.60000e+01, 7.72320e+04, 8.46660e+04, 7.90000e+04],\n",
       "       [3.70000e+01, 7.80000e+04, 8.43920e+04, 7.85080e+04],\n",
       "       [3.80000e+01, 7.85080e+04, 7.82540e+04, 7.99960e+04],\n",
       "       [3.90000e+01, 7.95360e+04, 8.50000e+04, 8.04030e+04],\n",
       "       [4.00000e+01, 8.24880e+04, 8.70380e+04, 8.38200e+04],\n",
       "       [4.10000e+01, 8.89350e+04, 9.19910e+04, 8.88330e+04],\n",
       "       [4.20000e+01, 9.00000e+04, 1.00000e+05, 9.16600e+04],\n",
       "       [4.30000e+01, 9.00560e+04, 9.47960e+04, 8.78920e+04],\n",
       "       [4.40000e+01, 9.50000e+04, 9.79620e+04, 9.62430e+04],\n",
       "       [4.50000e+01, 9.00000e+04, 9.33020e+04, 9.00000e+04],\n",
       "       [4.60000e+01, 9.16330e+04, 9.92400e+04, 9.93130e+04],\n",
       "       [4.70000e+01, 9.16600e+04, 1.02736e+05, 9.16600e+04],\n",
       "       [4.80000e+01, 9.81500e+04, 1.12285e+05, 1.02264e+05],\n",
       "       [4.90000e+01, 9.89640e+04, 1.00771e+05, 1.00000e+05],\n",
       "       [5.00000e+01, 1.00000e+05, 1.04708e+05, 1.00000e+05],\n",
       "       [5.10000e+01, 9.89880e+04, 1.08423e+05, 9.16600e+04],\n",
       "       [5.20000e+01, 1.00000e+05, 1.01407e+05, 9.92400e+04],\n",
       "       [5.30000e+01, 1.08923e+05, 1.12542e+05, 1.08000e+05],\n",
       "       [5.40000e+01, 1.05000e+05, 1.22870e+05, 1.05000e+05],\n",
       "       [5.50000e+01, 1.03117e+05, 1.20000e+05, 1.04000e+05]])"
      ]
     },
     "execution_count": 4,
     "metadata": {},
     "output_type": "execute_result"
    }
   ],
   "source": [
    "datas"
   ]
  },
  {
   "cell_type": "code",
   "execution_count": 131,
   "id": "e1e95ea6-8d97-4904-adc2-1ef3223b0de7",
   "metadata": {},
   "outputs": [
    {
     "data": {
      "text/plain": [
       "75754.21052631579"
      ]
     },
     "execution_count": 131,
     "metadata": {},
     "output_type": "execute_result"
    }
   ],
   "source": [
    "np.average(datas,axis=0)[2]"
   ]
  },
  {
   "cell_type": "code",
   "execution_count": 159,
   "id": "71e62855-ad2b-481f-88e3-30b740b37a35",
   "metadata": {},
   "outputs": [
    {
     "name": "stdout",
     "output_type": "stream",
     "text": [
      "17100.0\n",
      "16446.0\n"
     ]
    }
   ],
   "source": [
    "mins=np.min(datas,axis=0)\n",
    "print(mins[2],mins[3],sep=\"\\n\")"
   ]
  },
  {
   "cell_type": "code",
   "execution_count": 135,
   "id": "3a838fcb-b50d-434e-96d9-359db59880d5",
   "metadata": {},
   "outputs": [
    {
     "name": "stdout",
     "output_type": "stream",
     "text": [
      "122870.0\n",
      "108000.0\n"
     ]
    }
   ],
   "source": [
    "maxs=np.max(datas,axis=0)\n",
    "print(maxs[2],maxs[3],sep=\"\\n\")"
   ]
  },
  {
   "cell_type": "code",
   "execution_count": 194,
   "id": "6a7c40e5-097a-45fd-83e1-edd827e721dc",
   "metadata": {},
   "outputs": [],
   "source": [
    "ages=datas[:,:1]"
   ]
  },
  {
   "cell_type": "code",
   "execution_count": 199,
   "id": "4bb0c800-9039-4ce0-900d-2ca4d6601e2a",
   "metadata": {},
   "outputs": [],
   "source": [
    "boolean=np.greater(ages,25).flatten()"
   ]
  },
  {
   "cell_type": "code",
   "execution_count": 201,
   "id": "6ad87158-f43c-4e57-aa14-0072c79b0cb5",
   "metadata": {},
   "outputs": [
    {
     "data": {
      "text/plain": [
       "array([[2.60000e+01, 4.20000e+04, 4.88760e+04, 4.35150e+04],\n",
       "       [2.70000e+01, 4.67520e+04, 5.38500e+04, 4.68230e+04],\n",
       "       [2.80000e+01, 4.93200e+04, 5.72870e+04, 4.92930e+04],\n",
       "       [2.90000e+01, 5.32000e+04, 6.30160e+04, 5.34370e+04],\n",
       "       [3.00000e+01, 5.60000e+04, 6.59980e+04, 5.63730e+04],\n",
       "       [3.10000e+01, 6.23160e+04, 7.00030e+04, 6.23750e+04],\n",
       "       [3.20000e+01, 6.49280e+04, 7.00000e+04, 6.66740e+04],\n",
       "       [3.30000e+01, 6.73170e+04, 7.14960e+04, 6.87450e+04],\n",
       "       [3.40000e+01, 6.87480e+04, 7.53700e+04, 6.87460e+04],\n",
       "       [3.50000e+01, 7.37520e+04, 8.36400e+04, 7.45830e+04],\n",
       "       [3.60000e+01, 7.72320e+04, 8.46660e+04, 7.90000e+04],\n",
       "       [3.70000e+01, 7.80000e+04, 8.43920e+04, 7.85080e+04],\n",
       "       [3.80000e+01, 7.85080e+04, 7.82540e+04, 7.99960e+04],\n",
       "       [3.90000e+01, 7.95360e+04, 8.50000e+04, 8.04030e+04],\n",
       "       [4.00000e+01, 8.24880e+04, 8.70380e+04, 8.38200e+04],\n",
       "       [4.10000e+01, 8.89350e+04, 9.19910e+04, 8.88330e+04],\n",
       "       [4.20000e+01, 9.00000e+04, 1.00000e+05, 9.16600e+04],\n",
       "       [4.30000e+01, 9.00560e+04, 9.47960e+04, 8.78920e+04],\n",
       "       [4.40000e+01, 9.50000e+04, 9.79620e+04, 9.62430e+04],\n",
       "       [4.50000e+01, 9.00000e+04, 9.33020e+04, 9.00000e+04],\n",
       "       [4.60000e+01, 9.16330e+04, 9.92400e+04, 9.93130e+04],\n",
       "       [4.70000e+01, 9.16600e+04, 1.02736e+05, 9.16600e+04],\n",
       "       [4.80000e+01, 9.81500e+04, 1.12285e+05, 1.02264e+05],\n",
       "       [4.90000e+01, 9.89640e+04, 1.00771e+05, 1.00000e+05],\n",
       "       [5.00000e+01, 1.00000e+05, 1.04708e+05, 1.00000e+05],\n",
       "       [5.10000e+01, 9.89880e+04, 1.08423e+05, 9.16600e+04],\n",
       "       [5.20000e+01, 1.00000e+05, 1.01407e+05, 9.92400e+04],\n",
       "       [5.30000e+01, 1.08923e+05, 1.12542e+05, 1.08000e+05],\n",
       "       [5.40000e+01, 1.05000e+05, 1.22870e+05, 1.05000e+05],\n",
       "       [5.50000e+01, 1.03117e+05, 1.20000e+05, 1.04000e+05]])"
      ]
     },
     "execution_count": 201,
     "metadata": {},
     "output_type": "execute_result"
    }
   ],
   "source": [
    "datas[boolean]"
   ]
  },
  {
   "cell_type": "code",
   "execution_count": 191,
   "id": "3ef10425-acf1-4b06-a417-6b1d965d2965",
   "metadata": {},
   "outputs": [
    {
     "data": {
      "text/plain": [
       "array([[2.60000e+01, 4.20000e+04, 4.88760e+04, 4.35150e+04],\n",
       "       [2.70000e+01, 4.67520e+04, 5.38500e+04, 4.68230e+04],\n",
       "       [2.80000e+01, 4.93200e+04, 5.72870e+04, 4.92930e+04],\n",
       "       [2.90000e+01, 5.32000e+04, 6.30160e+04, 5.34370e+04],\n",
       "       [3.00000e+01, 5.60000e+04, 6.59980e+04, 5.63730e+04],\n",
       "       [3.10000e+01, 6.23160e+04, 7.00030e+04, 6.23750e+04],\n",
       "       [3.20000e+01, 6.49280e+04, 7.00000e+04, 6.66740e+04],\n",
       "       [3.30000e+01, 6.73170e+04, 7.14960e+04, 6.87450e+04],\n",
       "       [3.40000e+01, 6.87480e+04, 7.53700e+04, 6.87460e+04],\n",
       "       [3.50000e+01, 7.37520e+04, 8.36400e+04, 7.45830e+04],\n",
       "       [3.60000e+01, 7.72320e+04, 8.46660e+04, 7.90000e+04],\n",
       "       [3.70000e+01, 7.80000e+04, 8.43920e+04, 7.85080e+04],\n",
       "       [3.80000e+01, 7.85080e+04, 7.82540e+04, 7.99960e+04],\n",
       "       [3.90000e+01, 7.95360e+04, 8.50000e+04, 8.04030e+04],\n",
       "       [4.00000e+01, 8.24880e+04, 8.70380e+04, 8.38200e+04],\n",
       "       [4.10000e+01, 8.89350e+04, 9.19910e+04, 8.88330e+04],\n",
       "       [4.20000e+01, 9.00000e+04, 1.00000e+05, 9.16600e+04],\n",
       "       [4.30000e+01, 9.00560e+04, 9.47960e+04, 8.78920e+04],\n",
       "       [4.40000e+01, 9.50000e+04, 9.79620e+04, 9.62430e+04],\n",
       "       [4.50000e+01, 9.00000e+04, 9.33020e+04, 9.00000e+04],\n",
       "       [4.60000e+01, 9.16330e+04, 9.92400e+04, 9.93130e+04],\n",
       "       [4.70000e+01, 9.16600e+04, 1.02736e+05, 9.16600e+04],\n",
       "       [4.80000e+01, 9.81500e+04, 1.12285e+05, 1.02264e+05],\n",
       "       [4.90000e+01, 9.89640e+04, 1.00771e+05, 1.00000e+05],\n",
       "       [5.00000e+01, 1.00000e+05, 1.04708e+05, 1.00000e+05],\n",
       "       [5.10000e+01, 9.89880e+04, 1.08423e+05, 9.16600e+04],\n",
       "       [5.20000e+01, 1.00000e+05, 1.01407e+05, 9.92400e+04],\n",
       "       [5.30000e+01, 1.08923e+05, 1.12542e+05, 1.08000e+05],\n",
       "       [5.40000e+01, 1.05000e+05, 1.22870e+05, 1.05000e+05],\n",
       "       [5.50000e+01, 1.03117e+05, 1.20000e+05, 1.04000e+05]])"
      ]
     },
     "execution_count": 191,
     "metadata": {},
     "output_type": "execute_result"
    }
   ],
   "source": [
    "datas[8:,:]"
   ]
  },
  {
   "cell_type": "code",
   "execution_count": 177,
   "id": "44ed8be9-faea-4160-868b-e14db958e302",
   "metadata": {},
   "outputs": [
    {
     "data": {
      "text/plain": [
       "69257.07894736843"
      ]
     },
     "execution_count": 177,
     "metadata": {},
     "output_type": "execute_result"
    }
   ],
   "source": [
    "np.average(datas[:,1:2])"
   ]
  },
  {
   "cell_type": "code",
   "execution_count": 188,
   "id": "c0257558-fa38-4ab3-a16b-3b1c0a58fee0",
   "metadata": {},
   "outputs": [],
   "source": [
    "filters = datas[(datas[:,0]>=25)&(datas[:,0]<=30),1]"
   ]
  },
  {
   "cell_type": "code",
   "execution_count": 187,
   "id": "4e5f6dec-8cc6-49d2-81bf-adc0bd0725eb",
   "metadata": {},
   "outputs": [
    {
     "data": {
      "text/plain": [
       "array([[2.5000e+01, 3.8496e+04, 4.5372e+04, 3.7810e+04],\n",
       "       [2.6000e+01, 4.2000e+04, 4.8876e+04, 4.3515e+04],\n",
       "       [2.7000e+01, 4.6752e+04, 5.3850e+04, 4.6823e+04],\n",
       "       [2.8000e+01, 4.9320e+04, 5.7287e+04, 4.9293e+04],\n",
       "       [2.9000e+01, 5.3200e+04, 6.3016e+04, 5.3437e+04],\n",
       "       [3.0000e+01, 5.6000e+04, 6.5998e+04, 5.6373e+04]])"
      ]
     },
     "execution_count": 187,
     "metadata": {},
     "output_type": "execute_result"
    }
   ],
   "source": [
    "filters"
   ]
  },
  {
   "cell_type": "code",
   "execution_count": 186,
   "id": "b8ae3a14-ccab-408e-a735-25be400b3517",
   "metadata": {},
   "outputs": [
    {
     "data": {
      "text/plain": [
       "65998.0"
      ]
     },
     "execution_count": 186,
     "metadata": {},
     "output_type": "execute_result"
    }
   ],
   "source": [
    "np.max(filters)"
   ]
  },
  {
   "cell_type": "code",
   "execution_count": 203,
   "id": "5d30829a-314b-4aa3-a05a-2eef15bb5365",
   "metadata": {},
   "outputs": [
    {
     "name": "stdout",
     "output_type": "stream",
     "text": [
      "122870.0\n"
     ]
    }
   ],
   "source": [
    "print(maxs[3] if maxs[3]>maxs[2] else maxs[2])"
   ]
  },
  {
   "cell_type": "code",
   "execution_count": 205,
   "id": "56068c7c-30d8-4653-97ec-b97ca365dc0c",
   "metadata": {},
   "outputs": [
    {
     "name": "stdout",
     "output_type": "stream",
     "text": [
      "18.0\n",
      "17784.0\n",
      "20046.0\n",
      "16446.0\n",
      "19.0\n",
      "16500.0\n",
      "17100.0\n",
      "16791.0\n",
      "20.0\n",
      "18012.0\n",
      "20000.0\n",
      "18942.0\n",
      "21.0\n",
      "20628.0\n",
      "24744.0\n",
      "21780.0\n",
      "22.0\n",
      "25206.0\n",
      "30500.0\n",
      "25704.0\n",
      "23.0\n",
      "30252.0\n",
      "37732.0\n",
      "29000.0\n",
      "24.0\n",
      "34368.0\n",
      "41247.0\n",
      "34372.0\n",
      "25.0\n",
      "38496.0\n",
      "45372.0\n",
      "37810.0\n",
      "26.0\n",
      "42000.0\n",
      "48876.0\n",
      "43515.0\n",
      "27.0\n",
      "46752.0\n",
      "53850.0\n",
      "46823.0\n",
      "28.0\n",
      "49320.0\n",
      "57287.0\n",
      "49293.0\n",
      "29.0\n",
      "53200.0\n",
      "63016.0\n",
      "53437.0\n",
      "30.0\n",
      "56000.0\n",
      "65998.0\n",
      "56373.0\n",
      "31.0\n",
      "62316.0\n",
      "70003.0\n",
      "62375.0\n",
      "32.0\n",
      "64928.0\n",
      "70000.0\n",
      "66674.0\n",
      "33.0\n",
      "67317.0\n",
      "71496.0\n",
      "68745.0\n",
      "34.0\n",
      "68748.0\n",
      "75370.0\n",
      "68746.0\n",
      "35.0\n",
      "73752.0\n",
      "83640.0\n",
      "74583.0\n",
      "36.0\n",
      "77232.0\n",
      "84666.0\n",
      "79000.0\n",
      "37.0\n",
      "78000.0\n",
      "84392.0\n",
      "78508.0\n",
      "38.0\n",
      "78508.0\n",
      "78254.0\n",
      "79996.0\n",
      "39.0\n",
      "79536.0\n",
      "85000.0\n",
      "80403.0\n",
      "40.0\n",
      "82488.0\n",
      "87038.0\n",
      "83820.0\n",
      "41.0\n",
      "88935.0\n",
      "91991.0\n",
      "88833.0\n",
      "42.0\n",
      "90000.0\n",
      "100000.0\n",
      "91660.0\n",
      "43.0\n",
      "90056.0\n",
      "94796.0\n",
      "87892.0\n",
      "44.0\n",
      "95000.0\n",
      "97962.0\n",
      "96243.0\n",
      "45.0\n",
      "90000.0\n",
      "93302.0\n",
      "90000.0\n",
      "46.0\n",
      "91633.0\n",
      "99240.0\n",
      "99313.0\n",
      "47.0\n",
      "91660.0\n",
      "102736.0\n",
      "91660.0\n",
      "48.0\n",
      "98150.0\n",
      "112285.0\n",
      "102264.0\n",
      "49.0\n",
      "98964.0\n",
      "100771.0\n",
      "100000.0\n",
      "50.0\n",
      "100000.0\n",
      "104708.0\n",
      "100000.0\n",
      "51.0\n",
      "98988.0\n",
      "108423.0\n",
      "91660.0\n",
      "52.0\n",
      "100000.0\n",
      "101407.0\n",
      "99240.0\n",
      "53.0\n",
      "108923.0\n",
      "112542.0\n",
      "108000.0\n",
      "54.0\n",
      "105000.0\n",
      "122870.0\n",
      "105000.0\n",
      "55.0\n",
      "103117.0\n",
      "120000.0\n",
      "104000.0\n"
     ]
    }
   ],
   "source": [
    "for x in np.nditer(datas):\n",
    "    print(x,sep=\" \")"
   ]
  },
  {
   "cell_type": "code",
   "execution_count": 210,
   "id": "dd8560f2-a4d2-455a-a336-e465cf324cc5",
   "metadata": {},
   "outputs": [],
   "source": [
    "a = np.array([[1,2],[3,4]])\n",
    "b = np.array([[5,6]])"
   ]
  },
  {
   "cell_type": "code",
   "execution_count": 211,
   "id": "6cfcaaa3-697c-401a-b676-38c671757c49",
   "metadata": {},
   "outputs": [
    {
     "data": {
      "text/plain": [
       "array([1, 2, 3, 4, 5, 6])"
      ]
     },
     "execution_count": 211,
     "metadata": {},
     "output_type": "execute_result"
    }
   ],
   "source": [
    "np.concatenate((a,b), axis=None)"
   ]
  },
  {
   "cell_type": "code",
   "execution_count": 212,
   "id": "9147b57d-5e5e-4a9b-b2e8-2e3d6ae5d97c",
   "metadata": {},
   "outputs": [
    {
     "data": {
      "text/plain": [
       "array([[1, 2],\n",
       "       [3, 4],\n",
       "       [5, 6]])"
      ]
     },
     "execution_count": 212,
     "metadata": {},
     "output_type": "execute_result"
    }
   ],
   "source": [
    "np.concatenate((a,b), axis=0)"
   ]
  },
  {
   "cell_type": "code",
   "execution_count": 214,
   "id": "28cf39d5-c9a1-4427-8f8f-debfedcab57e",
   "metadata": {},
   "outputs": [
    {
     "data": {
      "text/plain": [
       "array([[1, 2, 5],\n",
       "       [3, 4, 6]])"
      ]
     },
     "execution_count": 214,
     "metadata": {},
     "output_type": "execute_result"
    }
   ],
   "source": [
    "np.concatenate((a,b.T), axis=1)"
   ]
  },
  {
   "cell_type": "code",
   "execution_count": 216,
   "id": "54ddc846-79b8-4866-9154-0ed27d46dabf",
   "metadata": {},
   "outputs": [],
   "source": [
    "a = np.array([1,2,3,4])\n",
    "b = np.array([5,6,7,8])"
   ]
  },
  {
   "cell_type": "code",
   "execution_count": 218,
   "id": "2b3fa515-0593-40ad-b68a-08aae04d9491",
   "metadata": {},
   "outputs": [
    {
     "data": {
      "text/plain": [
       "array([[1, 2, 3, 4],\n",
       "       [5, 6, 7, 8]])"
      ]
     },
     "execution_count": 218,
     "metadata": {},
     "output_type": "execute_result"
    }
   ],
   "source": [
    "np.stack((a,b))"
   ]
  },
  {
   "cell_type": "code",
   "execution_count": 219,
   "id": "b166c6fe-4502-40ad-bd9a-f6d3fa9613a4",
   "metadata": {},
   "outputs": [
    {
     "data": {
      "text/plain": [
       "array([[1, 5],\n",
       "       [2, 6],\n",
       "       [3, 7],\n",
       "       [4, 8]])"
      ]
     },
     "execution_count": 219,
     "metadata": {},
     "output_type": "execute_result"
    }
   ],
   "source": [
    "np.column_stack((a,b))"
   ]
  },
  {
   "cell_type": "code",
   "execution_count": 220,
   "id": "aec6319c-7803-4b66-bb4d-ed664d6b5bc9",
   "metadata": {},
   "outputs": [
    {
     "data": {
      "text/plain": [
       "array([1, 2, 3, 4, 5, 6, 7, 8])"
      ]
     },
     "execution_count": 220,
     "metadata": {},
     "output_type": "execute_result"
    }
   ],
   "source": [
    "np.hstack((a,b))"
   ]
  },
  {
   "cell_type": "code",
   "execution_count": 221,
   "id": "3b9b9bf1-b7ae-42a4-9ff0-6e880c24080b",
   "metadata": {},
   "outputs": [
    {
     "data": {
      "text/plain": [
       "array([[1, 2, 3, 4],\n",
       "       [5, 6, 7, 8]])"
      ]
     },
     "execution_count": 221,
     "metadata": {},
     "output_type": "execute_result"
    }
   ],
   "source": [
    "np.vstack((a,b))"
   ]
  },
  {
   "cell_type": "markdown",
   "id": "78b68ccc-3bfa-4034-9dcb-85ee822d5ffd",
   "metadata": {},
   "source": [
    "- single arr = age -> 18-25; 30-35\n",
    "- single arr = age, python, JS"
   ]
  },
  {
   "cell_type": "code",
   "execution_count": 7,
   "id": "a19a3d42-8411-4136-89ff-c18950d70963",
   "metadata": {},
   "outputs": [],
   "source": [
    "age1825 = np.logical_and(datas[:,:1]>=18,datas[:,:1]<=25)\n",
    "age3035 = np.logical_and(datas[:,:1]>=30,datas[:,:1]<=35)"
   ]
  },
  {
   "cell_type": "code",
   "execution_count": 8,
   "id": "b9a703fe-c055-41b1-ad01-9451f72dae2a",
   "metadata": {},
   "outputs": [],
   "source": [
    "resbool = np.logical_or(age1825,age3035)"
   ]
  },
  {
   "cell_type": "code",
   "execution_count": 10,
   "id": "63f3c4cf-57b4-4781-b948-1c03d0c331dd",
   "metadata": {},
   "outputs": [],
   "source": [
    "resbool = resbool.flatten()"
   ]
  },
  {
   "cell_type": "code",
   "execution_count": 20,
   "id": "7b4bfd36-6db3-44eb-a72e-250d5ce4b579",
   "metadata": {},
   "outputs": [],
   "source": [
    "result = np.hsplit(datas[resbool],4)"
   ]
  },
  {
   "cell_type": "code",
   "execution_count": 39,
   "id": "5251ae9b-059b-4733-863d-5392f33b387d",
   "metadata": {},
   "outputs": [],
   "source": [
    "result1 = np.concatenate((result[0],result[2],result[3]),axis=1)"
   ]
  },
  {
   "cell_type": "code",
   "execution_count": 47,
   "id": "30775ce6-0666-4ff1-9a1d-e2fc4e86b441",
   "metadata": {},
   "outputs": [
    {
     "data": {
      "text/plain": [
       "array([[   18, 20046, 16446],\n",
       "       [   19, 17100, 16791],\n",
       "       [   20, 20000, 18942],\n",
       "       [   21, 24744, 21780],\n",
       "       [   22, 30500, 25704],\n",
       "       [   23, 37732, 29000],\n",
       "       [   24, 41247, 34372],\n",
       "       [   25, 45372, 37810],\n",
       "       [   30, 65998, 56373],\n",
       "       [   31, 70003, 62375],\n",
       "       [   32, 70000, 66674],\n",
       "       [   33, 71496, 68745],\n",
       "       [   34, 75370, 68746],\n",
       "       [   35, 83640, 74583]])"
      ]
     },
     "execution_count": 47,
     "metadata": {},
     "output_type": "execute_result"
    }
   ],
   "source": [
    "result1.astype(int)"
   ]
  },
  {
   "cell_type": "code",
   "execution_count": 51,
   "id": "bc3b9532-bcc2-43d0-9e39-28dcae85cb60",
   "metadata": {},
   "outputs": [],
   "source": [
    "np.savetxt(\"result.txt\",result1.astype(int))"
   ]
  },
  {
   "cell_type": "markdown",
   "id": "2c60d2be-20db-411b-be26-dec631ea032e",
   "metadata": {},
   "source": [
    "### Changing shape results to address remains same in the same array"
   ]
  },
  {
   "cell_type": "code",
   "execution_count": 23,
   "id": "63a3b68c-10be-4a2a-8f53-1d0199a8b1de",
   "metadata": {},
   "outputs": [],
   "source": [
    "a = np.array([1,2,3,4,5,6,7,8,9,10])"
   ]
  },
  {
   "cell_type": "code",
   "execution_count": 41,
   "id": "4867c8fa-126f-49ee-9265-488dc9758fe6",
   "metadata": {},
   "outputs": [
    {
     "data": {
      "text/plain": [
       "140264108109872"
      ]
     },
     "execution_count": 41,
     "metadata": {},
     "output_type": "execute_result"
    }
   ],
   "source": [
    "id(a.reshape(5,2))"
   ]
  },
  {
   "cell_type": "code",
   "execution_count": 42,
   "id": "357aec29-49b3-427b-befe-012347c4d8a7",
   "metadata": {},
   "outputs": [
    {
     "data": {
      "text/plain": [
       "140263914764400"
      ]
     },
     "execution_count": 42,
     "metadata": {},
     "output_type": "execute_result"
    }
   ],
   "source": [
    "id(a)"
   ]
  },
  {
   "cell_type": "code",
   "execution_count": 43,
   "id": "3ceb78b9-bfea-4dc4-b407-8b3aa5270352",
   "metadata": {},
   "outputs": [],
   "source": [
    "np.shape = (2,5)"
   ]
  },
  {
   "cell_type": "code",
   "execution_count": 44,
   "id": "554e7771-4f35-49cf-b6cb-326910a8b3de",
   "metadata": {},
   "outputs": [],
   "source": [
    "a.shape = (2,5)"
   ]
  },
  {
   "cell_type": "code",
   "execution_count": 45,
   "id": "3cdb75e3-456f-4f93-b3b9-51ba19d84618",
   "metadata": {},
   "outputs": [
    {
     "data": {
      "text/plain": [
       "array([[ 1,  2,  3,  4,  5],\n",
       "       [ 6,  7,  8,  9, 10]])"
      ]
     },
     "execution_count": 45,
     "metadata": {},
     "output_type": "execute_result"
    }
   ],
   "source": [
    "a"
   ]
  },
  {
   "cell_type": "code",
   "execution_count": 46,
   "id": "fdd591a0-0d86-4b7b-a1dd-f0cbf6815ffe",
   "metadata": {},
   "outputs": [
    {
     "data": {
      "text/plain": [
       "140263914764400"
      ]
     },
     "execution_count": 46,
     "metadata": {},
     "output_type": "execute_result"
    }
   ],
   "source": [
    "id(a)"
   ]
  },
  {
   "cell_type": "code",
   "execution_count": null,
   "id": "d317815c-0391-42bc-8e8c-46695ad62b73",
   "metadata": {},
   "outputs": [],
   "source": []
  }
 ],
 "metadata": {
  "kernelspec": {
   "display_name": "Python 3 (ipykernel)",
   "language": "python",
   "name": "python3"
  },
  "language_info": {
   "codemirror_mode": {
    "name": "ipython",
    "version": 3
   },
   "file_extension": ".py",
   "mimetype": "text/x-python",
   "name": "python",
   "nbconvert_exporter": "python",
   "pygments_lexer": "ipython3",
   "version": "3.9.13"
  }
 },
 "nbformat": 4,
 "nbformat_minor": 5
}
