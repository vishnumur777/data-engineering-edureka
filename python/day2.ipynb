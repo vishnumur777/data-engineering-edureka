{
 "cells": [
  {
   "cell_type": "markdown",
   "id": "2796bc86-d7d1-4aa0-b7e5-e66e92350ad7",
   "metadata": {},
   "source": [
    "## Varying Number of Arguments"
   ]
  },
  {
   "cell_type": "code",
   "execution_count": 23,
   "id": "2e001c87-8780-4a45-80a8-49f39a27a027",
   "metadata": {},
   "outputs": [],
   "source": [
    "def hi(*argv):\n",
    "    s=0\n",
    "    v=argv\n",
    "    print(v[1])\n",
    "    for x in v:\n",
    "        s+=x\n",
    "    print(s)"
   ]
  },
  {
   "cell_type": "code",
   "execution_count": 24,
   "id": "792d02b7-fcd7-44e4-a92f-c24d228b6029",
   "metadata": {},
   "outputs": [
    {
     "name": "stdout",
     "output_type": "stream",
     "text": [
      "2\n",
      "55\n"
     ]
    }
   ],
   "source": [
    "hi(1,2,3,4,5,6,7,8,9,10)"
   ]
  },
  {
   "cell_type": "code",
   "execution_count": 25,
   "id": "9c7aaf99-3848-4867-a1f2-f5bc99c630a6",
   "metadata": {},
   "outputs": [],
   "source": [
    "def h1(*argv):\n",
    "    for x in argv:\n",
    "        print(x)"
   ]
  },
  {
   "cell_type": "code",
   "execution_count": 26,
   "id": "8800c6f1-0e34-4b30-8caa-838f45bfe3f8",
   "metadata": {},
   "outputs": [
    {
     "name": "stdout",
     "output_type": "stream",
     "text": [
      "1\n",
      "2\n",
      "93.43\n",
      "94.13\n",
      "9439.34342\n",
      "jsiefhi\n",
      "jsfsis\n",
      "iuwrjiwfoo\n"
     ]
    }
   ],
   "source": [
    "h1(1,2,93.43,94.13,9439.34342,\"jsiefhi\",\"jsfsis\",\"iuwrjiwfoo\")"
   ]
  },
  {
   "cell_type": "code",
   "execution_count": 33,
   "id": "6c89654c-23d0-42fa-967e-0e137ba6decd",
   "metadata": {},
   "outputs": [],
   "source": [
    "def kwargtests(**kwargs):\n",
    "    for x in kwargs:\n",
    "        print(x,kwargs[x])\n",
    "        print(\"\\n\")"
   ]
  },
  {
   "cell_type": "code",
   "execution_count": 34,
   "id": "8e53b46a-1740-4ab0-ac26-8d9d1a1cf38c",
   "metadata": {},
   "outputs": [
    {
     "name": "stdout",
     "output_type": "stream",
     "text": [
      "a 1\n",
      "\n",
      "\n",
      "b 2\n",
      "\n",
      "\n",
      "c 3\n",
      "\n",
      "\n",
      "d 4\n",
      "\n",
      "\n",
      "e 5\n",
      "\n",
      "\n"
     ]
    }
   ],
   "source": [
    "kwargtests(a=1,b=2,c=3,d=4,e=5)"
   ]
  },
  {
   "cell_type": "code",
   "execution_count": 41,
   "id": "c45f93e3-3269-49a2-9d30-27f9f76eaa71",
   "metadata": {},
   "outputs": [],
   "source": [
    "def bothargs(*args,**kwargs):\n",
    "    for x in args:\n",
    "        print(x)\n",
    "    for x,y in kwargs.items():\n",
    "        print(x,y)"
   ]
  },
  {
   "cell_type": "code",
   "execution_count": 42,
   "id": "30f9288a-706b-4079-a25c-f8207fd75071",
   "metadata": {},
   "outputs": [
    {
     "name": "stdout",
     "output_type": "stream",
     "text": [
      "1\n",
      "2\n",
      "3\n",
      "4\n",
      "5\n",
      "6\n",
      "a 1\n",
      "b 2\n",
      "c 3\n",
      "d 4\n"
     ]
    }
   ],
   "source": [
    "bothargs(1,2,3,4,5,6,a=1,b=2,c=3,d=4)"
   ]
  },
  {
   "cell_type": "markdown",
   "id": "33047394-ccf6-4d24-a00e-fdcb7c7832cb",
   "metadata": {},
   "source": [
    "### Pure Funtions"
   ]
  },
  {
   "cell_type": "code",
   "execution_count": 43,
   "id": "52f2d752-3e45-4bc4-b731-12e6df99b40f",
   "metadata": {},
   "outputs": [],
   "source": [
    "def add(a,b):\n",
    "    c=a+b\n",
    "    return c"
   ]
  },
  {
   "cell_type": "code",
   "execution_count": 44,
   "id": "933db833-36a6-4eed-9dd2-5ae7f43e7112",
   "metadata": {},
   "outputs": [],
   "source": [
    "def multiply(e,f):\n",
    "    g=e*f\n",
    "    return g"
   ]
  },
  {
   "cell_type": "code",
   "execution_count": 45,
   "id": "c1f1d2a1-45c2-476d-8ca0-b602bea63c9f",
   "metadata": {},
   "outputs": [],
   "source": [
    "a=add(34,45)\n",
    "b=multiply(93,45)"
   ]
  },
  {
   "cell_type": "code",
   "execution_count": 46,
   "id": "67349125-7023-4a50-af45-f87cf1fd232a",
   "metadata": {},
   "outputs": [
    {
     "name": "stdout",
     "output_type": "stream",
     "text": [
      "79 4185\n"
     ]
    }
   ],
   "source": [
    "print(a,b)"
   ]
  },
  {
   "cell_type": "markdown",
   "id": "2f4184ae-aa8f-48e8-a2f2-dcdf3a21be21",
   "metadata": {},
   "source": [
    "## Higher order functions"
   ]
  },
  {
   "cell_type": "code",
   "execution_count": 48,
   "id": "6bb0e767-848b-4e6d-b432-fcd69a356fa3",
   "metadata": {},
   "outputs": [
    {
     "data": {
      "text/plain": [
       "<function __main__.multiply(e, f)>"
      ]
     },
     "execution_count": 48,
     "metadata": {},
     "output_type": "execute_result"
    }
   ],
   "source": [
    "multiply"
   ]
  },
  {
   "cell_type": "code",
   "execution_count": 51,
   "id": "e169d0b9-3dfa-421a-afd4-e9435557fc9a",
   "metadata": {},
   "outputs": [],
   "source": [
    "def volume(multi, depth):\n",
    "    return multi(12,23)*depth"
   ]
  },
  {
   "cell_type": "code",
   "execution_count": 52,
   "id": "2defadab-2a18-4281-b658-31ac9698b538",
   "metadata": {},
   "outputs": [
    {
     "data": {
      "text/plain": [
       "8004"
      ]
     },
     "execution_count": 52,
     "metadata": {},
     "output_type": "execute_result"
    }
   ],
   "source": [
    "volume(multiply,29)"
   ]
  },
  {
   "cell_type": "markdown",
   "id": "8ab3ccb8-00e7-4346-9d7b-f730254643e7",
   "metadata": {},
   "source": [
    "## map, filter functions"
   ]
  },
  {
   "cell_type": "code",
   "execution_count": 87,
   "id": "aadee4c4-81d4-4a34-8c09-c3300236aeae",
   "metadata": {},
   "outputs": [],
   "source": [
    "l=[\"123\",\"456\",\"789\",\"220\",\"945\"]"
   ]
  },
  {
   "cell_type": "code",
   "execution_count": 90,
   "id": "fa81d92a-db46-4ede-8250-af15964accf9",
   "metadata": {},
   "outputs": [],
   "source": [
    "l1 = map(int,l)\n",
    "l2=list(l1)"
   ]
  },
  {
   "cell_type": "code",
   "execution_count": 91,
   "id": "fdc0b9c7-4bba-4595-920c-4096b73b8221",
   "metadata": {},
   "outputs": [
    {
     "data": {
      "text/plain": [
       "[126, 459, 792, 223, 948]"
      ]
     },
     "execution_count": 91,
     "metadata": {},
     "output_type": "execute_result"
    }
   ],
   "source": [
    "list(map(lambda x2: x2+3, l2))"
   ]
  },
  {
   "cell_type": "code",
   "execution_count": 92,
   "id": "718ee805-2b22-4528-aa2e-9a83f94110f4",
   "metadata": {},
   "outputs": [],
   "source": [
    "lst = [\"marigold\",\"lily\",\"rose\",\"jasmine\",\"lotus\"]"
   ]
  },
  {
   "cell_type": "code",
   "execution_count": 93,
   "id": "34aa34d2-096f-4577-a675-b029dffa7008",
   "metadata": {},
   "outputs": [
    {
     "data": {
      "text/plain": [
       "['MARIGOLD', 'LILY', 'ROSE', 'JASMINE', 'LOTUS']"
      ]
     },
     "execution_count": 93,
     "metadata": {},
     "output_type": "execute_result"
    }
   ],
   "source": [
    "list(map(lambda x: x.upper(),lst))"
   ]
  },
  {
   "cell_type": "code",
   "execution_count": 94,
   "id": "2c43ff02-ce3b-4fbc-9e3c-68444a6508e9",
   "metadata": {},
   "outputs": [
    {
     "data": {
      "text/plain": [
       "['marigold', 'lily', 'rose', 'jasmine', 'lotus']"
      ]
     },
     "execution_count": 94,
     "metadata": {},
     "output_type": "execute_result"
    }
   ],
   "source": [
    "lst"
   ]
  },
  {
   "cell_type": "code",
   "execution_count": 95,
   "id": "199db585-d673-44eb-ac56-fee0cdbdd299",
   "metadata": {},
   "outputs": [
    {
     "data": {
      "text/plain": [
       "[('MARIGOLD', 8), ('LILY', 4), ('ROSE', 4), ('JASMINE', 7), ('LOTUS', 5)]"
      ]
     },
     "execution_count": 95,
     "metadata": {},
     "output_type": "execute_result"
    }
   ],
   "source": [
    "list(map(lambda x: (x.upper(),len(x)),lst))"
   ]
  },
  {
   "cell_type": "code",
   "execution_count": 96,
   "id": "c93da43f-b103-4d01-a8a8-5e72bd5cb085",
   "metadata": {},
   "outputs": [],
   "source": [
    "lst1 = [ x for x in range(1,1000)]"
   ]
  },
  {
   "cell_type": "code",
   "execution_count": 100,
   "id": "79532889-fb60-48d9-b7ee-cca06cea1e82",
   "metadata": {},
   "outputs": [],
   "source": [
    "s=list(map(lambda x: x%2==0,lst1))"
   ]
  },
  {
   "cell_type": "code",
   "execution_count": 101,
   "id": "1d3d4114-5dad-431d-85da-6d1c15e5ee14",
   "metadata": {},
   "outputs": [
    {
     "data": {
      "text/plain": [
       "[False, True, False, True, False, True, False, True, False, True]"
      ]
     },
     "execution_count": 101,
     "metadata": {},
     "output_type": "execute_result"
    }
   ],
   "source": [
    "s[:10]"
   ]
  },
  {
   "cell_type": "markdown",
   "id": "c1e3156c-9a0b-4b95-b3bc-23e1c5a75382",
   "metadata": {},
   "source": [
    "this returns only booleans, for returning numbers we need `filter()` function"
   ]
  },
  {
   "cell_type": "code",
   "execution_count": 103,
   "id": "504fde60-ee93-4f74-808a-b0a5947d8550",
   "metadata": {},
   "outputs": [],
   "source": [
    "s1=list(filter(lambda x: x%2==0,lst1))"
   ]
  },
  {
   "cell_type": "code",
   "execution_count": 105,
   "id": "4c3e9faa-78b0-4c95-b05f-d69f6f09a67a",
   "metadata": {},
   "outputs": [
    {
     "data": {
      "text/plain": [
       "[2, 4, 6, 8, 10, 12, 14, 16, 18, 20]"
      ]
     },
     "execution_count": 105,
     "metadata": {},
     "output_type": "execute_result"
    }
   ],
   "source": [
    "s1[:10]"
   ]
  },
  {
   "cell_type": "markdown",
   "id": "806822c3-f100-4cbe-970c-ca064a430ff2",
   "metadata": {},
   "source": [
    "## `dir` and `help` for knowing classes and methods in a datatype"
   ]
  },
  {
   "cell_type": "code",
   "execution_count": 1,
   "id": "12f2aa33-26f6-48f4-84c0-65db6cc2ce85",
   "metadata": {},
   "outputs": [
    {
     "data": {
      "text/plain": [
       "['__add__',\n",
       " '__class__',\n",
       " '__class_getitem__',\n",
       " '__contains__',\n",
       " '__delattr__',\n",
       " '__delitem__',\n",
       " '__dir__',\n",
       " '__doc__',\n",
       " '__eq__',\n",
       " '__format__',\n",
       " '__ge__',\n",
       " '__getattribute__',\n",
       " '__getitem__',\n",
       " '__gt__',\n",
       " '__hash__',\n",
       " '__iadd__',\n",
       " '__imul__',\n",
       " '__init__',\n",
       " '__init_subclass__',\n",
       " '__iter__',\n",
       " '__le__',\n",
       " '__len__',\n",
       " '__lt__',\n",
       " '__mul__',\n",
       " '__ne__',\n",
       " '__new__',\n",
       " '__reduce__',\n",
       " '__reduce_ex__',\n",
       " '__repr__',\n",
       " '__reversed__',\n",
       " '__rmul__',\n",
       " '__setattr__',\n",
       " '__setitem__',\n",
       " '__sizeof__',\n",
       " '__str__',\n",
       " '__subclasshook__',\n",
       " 'append',\n",
       " 'clear',\n",
       " 'copy',\n",
       " 'count',\n",
       " 'extend',\n",
       " 'index',\n",
       " 'insert',\n",
       " 'pop',\n",
       " 'remove',\n",
       " 'reverse',\n",
       " 'sort']"
      ]
     },
     "execution_count": 1,
     "metadata": {},
     "output_type": "execute_result"
    }
   ],
   "source": [
    "dir(list)"
   ]
  },
  {
   "cell_type": "code",
   "execution_count": 2,
   "id": "e815cd91-71a6-4097-88e7-32bdc051132e",
   "metadata": {},
   "outputs": [
    {
     "name": "stdout",
     "output_type": "stream",
     "text": [
      "Help on class list in module builtins:\n",
      "\n",
      "class list(object)\n",
      " |  list(iterable=(), /)\n",
      " |  \n",
      " |  Built-in mutable sequence.\n",
      " |  \n",
      " |  If no argument is given, the constructor creates a new empty list.\n",
      " |  The argument must be an iterable if specified.\n",
      " |  \n",
      " |  Methods defined here:\n",
      " |  \n",
      " |  __add__(self, value, /)\n",
      " |      Return self+value.\n",
      " |  \n",
      " |  __contains__(self, key, /)\n",
      " |      Return key in self.\n",
      " |  \n",
      " |  __delitem__(self, key, /)\n",
      " |      Delete self[key].\n",
      " |  \n",
      " |  __eq__(self, value, /)\n",
      " |      Return self==value.\n",
      " |  \n",
      " |  __ge__(self, value, /)\n",
      " |      Return self>=value.\n",
      " |  \n",
      " |  __getattribute__(self, name, /)\n",
      " |      Return getattr(self, name).\n",
      " |  \n",
      " |  __getitem__(...)\n",
      " |      x.__getitem__(y) <==> x[y]\n",
      " |  \n",
      " |  __gt__(self, value, /)\n",
      " |      Return self>value.\n",
      " |  \n",
      " |  __iadd__(self, value, /)\n",
      " |      Implement self+=value.\n",
      " |  \n",
      " |  __imul__(self, value, /)\n",
      " |      Implement self*=value.\n",
      " |  \n",
      " |  __init__(self, /, *args, **kwargs)\n",
      " |      Initialize self.  See help(type(self)) for accurate signature.\n",
      " |  \n",
      " |  __iter__(self, /)\n",
      " |      Implement iter(self).\n",
      " |  \n",
      " |  __le__(self, value, /)\n",
      " |      Return self<=value.\n",
      " |  \n",
      " |  __len__(self, /)\n",
      " |      Return len(self).\n",
      " |  \n",
      " |  __lt__(self, value, /)\n",
      " |      Return self<value.\n",
      " |  \n",
      " |  __mul__(self, value, /)\n",
      " |      Return self*value.\n",
      " |  \n",
      " |  __ne__(self, value, /)\n",
      " |      Return self!=value.\n",
      " |  \n",
      " |  __repr__(self, /)\n",
      " |      Return repr(self).\n",
      " |  \n",
      " |  __reversed__(self, /)\n",
      " |      Return a reverse iterator over the list.\n",
      " |  \n",
      " |  __rmul__(self, value, /)\n",
      " |      Return value*self.\n",
      " |  \n",
      " |  __setitem__(self, key, value, /)\n",
      " |      Set self[key] to value.\n",
      " |  \n",
      " |  __sizeof__(self, /)\n",
      " |      Return the size of the list in memory, in bytes.\n",
      " |  \n",
      " |  append(self, object, /)\n",
      " |      Append object to the end of the list.\n",
      " |  \n",
      " |  clear(self, /)\n",
      " |      Remove all items from list.\n",
      " |  \n",
      " |  copy(self, /)\n",
      " |      Return a shallow copy of the list.\n",
      " |  \n",
      " |  count(self, value, /)\n",
      " |      Return number of occurrences of value.\n",
      " |  \n",
      " |  extend(self, iterable, /)\n",
      " |      Extend list by appending elements from the iterable.\n",
      " |  \n",
      " |  index(self, value, start=0, stop=9223372036854775807, /)\n",
      " |      Return first index of value.\n",
      " |      \n",
      " |      Raises ValueError if the value is not present.\n",
      " |  \n",
      " |  insert(self, index, object, /)\n",
      " |      Insert object before index.\n",
      " |  \n",
      " |  pop(self, index=-1, /)\n",
      " |      Remove and return item at index (default last).\n",
      " |      \n",
      " |      Raises IndexError if list is empty or index is out of range.\n",
      " |  \n",
      " |  remove(self, value, /)\n",
      " |      Remove first occurrence of value.\n",
      " |      \n",
      " |      Raises ValueError if the value is not present.\n",
      " |  \n",
      " |  reverse(self, /)\n",
      " |      Reverse *IN PLACE*.\n",
      " |  \n",
      " |  sort(self, /, *, key=None, reverse=False)\n",
      " |      Sort the list in ascending order and return None.\n",
      " |      \n",
      " |      The sort is in-place (i.e. the list itself is modified) and stable (i.e. the\n",
      " |      order of two equal elements is maintained).\n",
      " |      \n",
      " |      If a key function is given, apply it once to each list item and sort them,\n",
      " |      ascending or descending, according to their function values.\n",
      " |      \n",
      " |      The reverse flag can be set to sort in descending order.\n",
      " |  \n",
      " |  ----------------------------------------------------------------------\n",
      " |  Class methods defined here:\n",
      " |  \n",
      " |  __class_getitem__(...) from builtins.type\n",
      " |      See PEP 585\n",
      " |  \n",
      " |  ----------------------------------------------------------------------\n",
      " |  Static methods defined here:\n",
      " |  \n",
      " |  __new__(*args, **kwargs) from builtins.type\n",
      " |      Create and return a new object.  See help(type) for accurate signature.\n",
      " |  \n",
      " |  ----------------------------------------------------------------------\n",
      " |  Data and other attributes defined here:\n",
      " |  \n",
      " |  __hash__ = None\n",
      "\n"
     ]
    }
   ],
   "source": [
    "help(list)"
   ]
  },
  {
   "cell_type": "markdown",
   "id": "6119a23d-d4dc-45ea-813a-52a5a48dde02",
   "metadata": {},
   "source": [
    "# Object Oriented Programming (OOPs) in Python"
   ]
  },
  {
   "cell_type": "markdown",
   "id": "31608623-9aab-4f8e-938a-92edc8b093a9",
   "metadata": {},
   "source": [
    "\n",
    "## 1. Classes\n",
    "\n",
    "A class can be viewed as a custom category or template that organizes related data and behaviors under a single name. It's a way to define a new type, grouping together attributes (data) and methods (functionality), which serves as the foundational mold for producing multiple similar entities called objects.\n",
    "\n",
    "## 2. Objects\n",
    "\n",
    "An object is a concrete instance created from a class. Think of it as an individual entity that embodies the structure and behaviors described by its class, but with its own unique values and state for its attributes. Each object operates independently, even though it's based on the same blueprint as others of its class.\n",
    "\n",
    "## 3. State\n",
    "\n",
    "State are the values of instance variable"
   ]
  },
  {
   "cell_type": "markdown",
   "id": "66b737c7-8bd1-4791-8a47-9f755fa7eb40",
   "metadata": {
    "tags": []
   },
   "source": [
    "### **classes contains**\n",
    "\n",
    "- Instance variable(s) or attributes\n",
    "- class variables\n",
    "- constructor\n",
    "- destructor\n",
    "- methods\n",
    "    - General / Instance method\n",
    "    - class methods\n",
    "    - static methods\n",
    "- dender methods"
   ]
  },
  {
   "cell_type": "markdown",
   "id": "c5fe4d1f-c03d-4c30-b3aa-d621537554f3",
   "metadata": {},
   "source": [
    "#### clases can be classified into\n",
    "\n",
    "- `'N'` of object -> Concrete class\n",
    "- `'No'` object -> abstract class"
   ]
  },
  {
   "cell_type": "markdown",
   "id": "88189e29-c09b-4811-b304-de22a4e4dbc9",
   "metadata": {},
   "source": [
    "#### Syntax"
   ]
  },
  {
   "cell_type": "code",
   "execution_count": 7,
   "id": "3dce3d97-4b83-4d13-8475-42e2626491b9",
   "metadata": {},
   "outputs": [],
   "source": [
    "class FirstClass:\n",
    "    pass"
   ]
  },
  {
   "cell_type": "code",
   "execution_count": 9,
   "id": "b75b693e-35e4-4a35-a944-440a1da7639f",
   "metadata": {},
   "outputs": [
    {
     "data": {
      "text/plain": [
       "type"
      ]
     },
     "execution_count": 9,
     "metadata": {},
     "output_type": "execute_result"
    }
   ],
   "source": [
    "type(FirstClass)"
   ]
  },
  {
   "cell_type": "code",
   "execution_count": 10,
   "id": "96b8eabe-1ec9-4381-b9a6-987d881952a0",
   "metadata": {},
   "outputs": [
    {
     "data": {
      "text/plain": [
       "__main__.FirstClass"
      ]
     },
     "execution_count": 10,
     "metadata": {},
     "output_type": "execute_result"
    }
   ],
   "source": [
    "fc =  FirstClass()\n",
    "type(fc)"
   ]
  },
  {
   "cell_type": "code",
   "execution_count": 13,
   "id": "d9f37efb-125a-42d0-a5bb-3b99003dfbe7",
   "metadata": {},
   "outputs": [
    {
     "data": {
      "text/plain": [
       "['__class__',\n",
       " '__delattr__',\n",
       " '__dict__',\n",
       " '__dir__',\n",
       " '__doc__',\n",
       " '__eq__',\n",
       " '__format__',\n",
       " '__ge__',\n",
       " '__getattribute__',\n",
       " '__gt__',\n",
       " '__hash__',\n",
       " '__init__',\n",
       " '__init_subclass__',\n",
       " '__le__',\n",
       " '__lt__',\n",
       " '__module__',\n",
       " '__ne__',\n",
       " '__new__',\n",
       " '__reduce__',\n",
       " '__reduce_ex__',\n",
       " '__repr__',\n",
       " '__setattr__',\n",
       " '__sizeof__',\n",
       " '__str__',\n",
       " '__subclasshook__',\n",
       " '__weakref__']"
      ]
     },
     "execution_count": 13,
     "metadata": {},
     "output_type": "execute_result"
    }
   ],
   "source": [
    "dir(fc)"
   ]
  },
  {
   "cell_type": "code",
   "execution_count": 12,
   "id": "97b23d13-d9ec-4c5a-9411-c863a7aa063e",
   "metadata": {},
   "outputs": [
    {
     "name": "stdout",
     "output_type": "stream",
     "text": [
      "Help on FirstClass in module __main__ object:\n",
      "\n",
      "class FirstClass(builtins.object)\n",
      " |  Data descriptors defined here:\n",
      " |  \n",
      " |  __dict__\n",
      " |      dictionary for instance variables (if defined)\n",
      " |  \n",
      " |  __weakref__\n",
      " |      list of weak references to the object (if defined)\n",
      "\n"
     ]
    }
   ],
   "source": [
    "help(fc)"
   ]
  },
  {
   "cell_type": "code",
   "execution_count": 14,
   "id": "cc72d976-ed92-439b-b482-f1c970cd2cff",
   "metadata": {},
   "outputs": [],
   "source": [
    "class Employee:\n",
    "    pass"
   ]
  },
  {
   "cell_type": "code",
   "execution_count": 16,
   "id": "0d689b39-d216-4687-822e-a7538f5c43a1",
   "metadata": {},
   "outputs": [],
   "source": [
    "emp1 = Employee()\n",
    "emp2 = Employee()"
   ]
  },
  {
   "cell_type": "code",
   "execution_count": 18,
   "id": "e2a4c597-9689-4473-8c37-8b6d112ffcd3",
   "metadata": {},
   "outputs": [
    {
     "name": "stdout",
     "output_type": "stream",
     "text": [
      "<__main__.Employee object at 0x7efd514c3af0>\n",
      "<__main__.Employee object at 0x7efd514c2f10>\n"
     ]
    }
   ],
   "source": [
    "print(emp1)\n",
    "print(emp2)"
   ]
  },
  {
   "cell_type": "markdown",
   "id": "a2ca15a8-c991-4d8f-abcf-8ce66d8ca0b1",
   "metadata": {},
   "source": [
    "### General / Instance variable"
   ]
  },
  {
   "cell_type": "code",
   "execution_count": 19,
   "id": "2a4034a7-5cd1-4caa-bba5-20b493ef77a6",
   "metadata": {},
   "outputs": [],
   "source": [
    "emp1.id = 1"
   ]
  },
  {
   "cell_type": "code",
   "execution_count": 20,
   "id": "a8f55908-96cd-4781-9747-0eaa15005475",
   "metadata": {},
   "outputs": [
    {
     "data": {
      "text/plain": [
       "{}"
      ]
     },
     "execution_count": 20,
     "metadata": {},
     "output_type": "execute_result"
    }
   ],
   "source": [
    "emp2.__dict__"
   ]
  },
  {
   "cell_type": "code",
   "execution_count": 21,
   "id": "5c06952a-dbe3-4eb1-9c17-501a3f1d58b1",
   "metadata": {},
   "outputs": [
    {
     "data": {
      "text/plain": [
       "{'id': 1}"
      ]
     },
     "execution_count": 21,
     "metadata": {},
     "output_type": "execute_result"
    }
   ],
   "source": [
    "emp1.__dict__"
   ]
  },
  {
   "cell_type": "code",
   "execution_count": 24,
   "id": "6acd1772-a856-4428-9f29-4873506e6764",
   "metadata": {},
   "outputs": [
    {
     "data": {
      "text/plain": [
       "mappingproxy({'__module__': '__main__',\n",
       "              '__dict__': <attribute '__dict__' of 'Employee' objects>,\n",
       "              '__weakref__': <attribute '__weakref__' of 'Employee' objects>,\n",
       "              '__doc__': None})"
      ]
     },
     "execution_count": 24,
     "metadata": {},
     "output_type": "execute_result"
    }
   ],
   "source": [
    "Employee.__dict__"
   ]
  },
  {
   "cell_type": "code",
   "execution_count": 25,
   "id": "bf0ac44c-dc08-487f-805d-68ed12fa0c4d",
   "metadata": {},
   "outputs": [
    {
     "data": {
      "text/plain": [
       "{'first': 'Ram', 'last': 'Kumar'}"
      ]
     },
     "execution_count": 25,
     "metadata": {},
     "output_type": "execute_result"
    }
   ],
   "source": [
    "emp2.first = \"Ram\"\n",
    "emp2.last = \"Kumar\"\n",
    "emp2.__dict__"
   ]
  },
  {
   "cell_type": "code",
   "execution_count": 26,
   "id": "11acc99b-94dc-47ca-9ff0-a62ebc6a8cfa",
   "metadata": {},
   "outputs": [
    {
     "data": {
      "text/plain": [
       "'Ram'"
      ]
     },
     "execution_count": 26,
     "metadata": {},
     "output_type": "execute_result"
    }
   ],
   "source": [
    "emp2.first"
   ]
  },
  {
   "cell_type": "markdown",
   "id": "d8a87917-83d1-4609-9323-502d5ab02b37",
   "metadata": {},
   "source": [
    "### Dender method\n",
    "\n",
    "dender methods starts with __ and ends with __ . eg:- `__init__`, `__repr__`"
   ]
  },
  {
   "cell_type": "markdown",
   "id": "480f2bd6-9034-4809-9d7e-b33d1030ecf8",
   "metadata": {},
   "source": [
    "### class variables"
   ]
  },
  {
   "cell_type": "code",
   "execution_count": 102,
   "id": "9811cc01-bfa5-4b93-836d-254c53b07ad9",
   "metadata": {},
   "outputs": [],
   "source": [
    "class Employee:\n",
    "    #class variable\n",
    "    raise_amt = 1.04\n",
    "    def __init__(self, ids, first, last, pay):\n",
    "        self.id = ids\n",
    "        self.first = first\n",
    "        self.last = last\n",
    "        self.pay = pay\n",
    "        self.full_name = first+\" \"+last\n",
    "        self.email = first+\".\"+last+\"@tcs.com\"\n",
    "        \n",
    "    def get_full_name(self):\n",
    "        return \"{} {}\".format(self.first, self.last)\n",
    "    \n",
    "    def raise_salary(self):\n",
    "        self.pay = self.pay*Employee.raise_amt\n",
    "        \n",
    "    def get_Emp_raiseamt(self):\n",
    "        print(Employee.raise_amt)"
   ]
  },
  {
   "cell_type": "code",
   "execution_count": 103,
   "id": "37f9ef18-855f-4f5b-b91c-c1523bbf9416",
   "metadata": {},
   "outputs": [
    {
     "data": {
      "text/plain": [
       "mappingproxy({'__module__': '__main__',\n",
       "              'raise_amt': 1.04,\n",
       "              '__init__': <function __main__.Employee.__init__(self, ids, first, last, pay)>,\n",
       "              'get_full_name': <function __main__.Employee.get_full_name(self)>,\n",
       "              'raise_salary': <function __main__.Employee.raise_salary(self)>,\n",
       "              'get_Emp_raiseamt': <function __main__.Employee.get_Emp_raiseamt(self)>,\n",
       "              '__dict__': <attribute '__dict__' of 'Employee' objects>,\n",
       "              '__weakref__': <attribute '__weakref__' of 'Employee' objects>,\n",
       "              '__doc__': None})"
      ]
     },
     "execution_count": 103,
     "metadata": {},
     "output_type": "execute_result"
    }
   ],
   "source": [
    "Employee.__dict__"
   ]
  },
  {
   "cell_type": "code",
   "execution_count": 104,
   "id": "1f53029e-55c6-43da-b836-9c45bc6c5b29",
   "metadata": {},
   "outputs": [],
   "source": [
    "emp1 = Employee(1,\"abc\",\"def\",934593)\n",
    "emp2 = Employee(2, \"def\", \"ghi\", 934589)"
   ]
  },
  {
   "cell_type": "code",
   "execution_count": 105,
   "id": "018a2a87-3067-49b1-8dd6-6a2e0e5e0ad4",
   "metadata": {},
   "outputs": [
    {
     "data": {
      "text/plain": [
       "{'id': 1,\n",
       " 'first': 'abc',\n",
       " 'last': 'def',\n",
       " 'pay': 934593,\n",
       " 'full_name': 'abc def',\n",
       " 'email': 'abc.def@tcs.com'}"
      ]
     },
     "execution_count": 105,
     "metadata": {},
     "output_type": "execute_result"
    }
   ],
   "source": [
    "emp1.__dict__"
   ]
  },
  {
   "cell_type": "code",
   "execution_count": 106,
   "id": "8175dd5a-d864-4576-a7cb-3d4de9a65c0b",
   "metadata": {},
   "outputs": [
    {
     "data": {
      "text/plain": [
       "{'id': 2,\n",
       " 'first': 'def',\n",
       " 'last': 'ghi',\n",
       " 'pay': 934589,\n",
       " 'full_name': 'def ghi',\n",
       " 'email': 'def.ghi@tcs.com'}"
      ]
     },
     "execution_count": 106,
     "metadata": {},
     "output_type": "execute_result"
    }
   ],
   "source": [
    "emp2.__dict__"
   ]
  },
  {
   "cell_type": "code",
   "execution_count": 107,
   "id": "0bb3debb-8963-4785-9574-b72401bfc0ee",
   "metadata": {},
   "outputs": [
    {
     "name": "stdout",
     "output_type": "stream",
     "text": [
      "139626456311744 139626456313088\n"
     ]
    }
   ],
   "source": [
    "print(id(emp1),id(emp2),end=\"\\n\")"
   ]
  },
  {
   "cell_type": "code",
   "execution_count": 108,
   "id": "65a98b1e-e792-42d9-b36b-fff2388242a0",
   "metadata": {},
   "outputs": [
    {
     "name": "stdout",
     "output_type": "stream",
     "text": [
      "abc def def ghi\n"
     ]
    }
   ],
   "source": [
    "print(emp1.get_full_name(), emp2.get_full_name())"
   ]
  },
  {
   "cell_type": "code",
   "execution_count": 109,
   "id": "5f1ddddc-072d-4558-b7d1-3c23bf8b3778",
   "metadata": {},
   "outputs": [
    {
     "data": {
      "text/plain": [
       "934593"
      ]
     },
     "execution_count": 109,
     "metadata": {},
     "output_type": "execute_result"
    }
   ],
   "source": [
    "emp1.pay"
   ]
  },
  {
   "cell_type": "code",
   "execution_count": 110,
   "id": "e4e91d6f-7b24-4d9e-a207-8dc9576afb39",
   "metadata": {},
   "outputs": [],
   "source": [
    "emp1.raise_salary()"
   ]
  },
  {
   "cell_type": "code",
   "execution_count": 111,
   "id": "6f8348f6-37d9-4d48-8c3d-d3b408772c5a",
   "metadata": {},
   "outputs": [
    {
     "data": {
      "text/plain": [
       "971976.7200000001"
      ]
     },
     "execution_count": 111,
     "metadata": {},
     "output_type": "execute_result"
    }
   ],
   "source": [
    "emp1.pay"
   ]
  },
  {
   "cell_type": "code",
   "execution_count": 115,
   "id": "3a9eac94-d73a-41a8-a26b-04090bcdbba5",
   "metadata": {},
   "outputs": [],
   "source": [
    "emp1.raise_amt = 3.0"
   ]
  },
  {
   "cell_type": "code",
   "execution_count": 116,
   "id": "52a7d465-fa77-4c02-9829-b9e7a5bcc1bd",
   "metadata": {},
   "outputs": [
    {
     "data": {
      "text/plain": [
       "{'id': 1,\n",
       " 'first': 'abc',\n",
       " 'last': 'def',\n",
       " 'pay': 971976.7200000001,\n",
       " 'full_name': 'abc def',\n",
       " 'email': 'abc.def@tcs.com',\n",
       " 'raise_amt': 3.0}"
      ]
     },
     "execution_count": 116,
     "metadata": {},
     "output_type": "execute_result"
    }
   ],
   "source": [
    "emp1.__dict__"
   ]
  },
  {
   "cell_type": "code",
   "execution_count": 117,
   "id": "9617b086-ba37-478d-bd04-ca7d51b78956",
   "metadata": {},
   "outputs": [
    {
     "name": "stdout",
     "output_type": "stream",
     "text": [
      "1.04\n"
     ]
    }
   ],
   "source": [
    "emp1.get_Emp_raiseamt()"
   ]
  },
  {
   "cell_type": "code",
   "execution_count": 97,
   "id": "f3a7fbdd-3f19-4f28-8a98-383edacfaf3d",
   "metadata": {},
   "outputs": [],
   "source": [
    "Employee.raise_amt = 2.04"
   ]
  },
  {
   "cell_type": "code",
   "execution_count": 98,
   "id": "6336e8ba-28b9-4fd1-84b5-525eea24e3d4",
   "metadata": {},
   "outputs": [
    {
     "data": {
      "text/plain": [
       "{'id': 1,\n",
       " 'first': 'abc',\n",
       " 'last': 'def',\n",
       " 'pay': 1906569.72,\n",
       " 'full_name': 'abc def',\n",
       " 'email': 'abc.def@tcs.com'}"
      ]
     },
     "execution_count": 98,
     "metadata": {},
     "output_type": "execute_result"
    }
   ],
   "source": [
    "emp1.__dict__"
   ]
  },
  {
   "cell_type": "code",
   "execution_count": 157,
   "id": "773fd55d-4a4f-4e68-a3d1-ebef09e73c98",
   "metadata": {},
   "outputs": [],
   "source": [
    "class Employee:\n",
    "    #class variable\n",
    "    raise_amt = 1.04\n",
    "    def __init__(self, ids, first, last, pay):\n",
    "        self.id = ids\n",
    "        self.first = first\n",
    "        self.last = last\n",
    "        self.pay = pay\n",
    "        self.full_name = first+\" \"+last\n",
    "        self.email = first+\".\"+last+\"@tcs.com\"\n",
    "        \n",
    "    def get_full_name(self):\n",
    "        return \"{} {}\".format(self.first, self.last)\n",
    "    \n",
    "    def raise_salary(self):\n",
    "        self.pay = self.pay*Employee.raise_amt\n",
    "    \n",
    "    @classmethod\n",
    "    def set_raise_amt(self, amt):\n",
    "        self.raise_amt = amt"
   ]
  },
  {
   "cell_type": "code",
   "execution_count": 158,
   "id": "d68289ac-524e-40d5-9d62-4099747ac3cf",
   "metadata": {},
   "outputs": [],
   "source": [
    "e1 = Employee(1,\"abc\",\"def\",90000)"
   ]
  },
  {
   "cell_type": "code",
   "execution_count": 159,
   "id": "5b217913-1bcb-41eb-93aa-c381ebcdd98f",
   "metadata": {},
   "outputs": [
    {
     "data": {
      "text/plain": [
       "1.04"
      ]
     },
     "execution_count": 159,
     "metadata": {},
     "output_type": "execute_result"
    }
   ],
   "source": [
    "e1.raise_amt"
   ]
  },
  {
   "cell_type": "code",
   "execution_count": 160,
   "id": "d3914638-c3c5-41f8-a458-74f986487300",
   "metadata": {},
   "outputs": [],
   "source": [
    "e1.set_raise_amt(4.0)"
   ]
  },
  {
   "cell_type": "code",
   "execution_count": 161,
   "id": "52ee7482-a147-48e4-818f-41357d942c4d",
   "metadata": {},
   "outputs": [
    {
     "data": {
      "text/plain": [
       "4.0"
      ]
     },
     "execution_count": 161,
     "metadata": {},
     "output_type": "execute_result"
    }
   ],
   "source": [
    "e1.raise_amt"
   ]
  },
  {
   "cell_type": "code",
   "execution_count": 162,
   "id": "b75e70aa-93de-4218-a96e-bbe665de77e7",
   "metadata": {},
   "outputs": [
    {
     "data": {
      "text/plain": [
       "{'id': 1,\n",
       " 'first': 'abc',\n",
       " 'last': 'def',\n",
       " 'pay': 90000,\n",
       " 'full_name': 'abc def',\n",
       " 'email': 'abc.def@tcs.com'}"
      ]
     },
     "execution_count": 162,
     "metadata": {},
     "output_type": "execute_result"
    }
   ],
   "source": [
    "e1.__dict__"
   ]
  },
  {
   "cell_type": "code",
   "execution_count": 163,
   "id": "fd89e851-133f-41af-a977-3adfd1713221",
   "metadata": {},
   "outputs": [
    {
     "data": {
      "text/plain": [
       "4.0"
      ]
     },
     "execution_count": 163,
     "metadata": {},
     "output_type": "execute_result"
    }
   ],
   "source": [
    "Employee.raise_amt"
   ]
  },
  {
   "cell_type": "markdown",
   "id": "49f9b3fc-21f5-4cfc-9036-d7f7f653cb58",
   "metadata": {},
   "source": [
    "### Static method"
   ]
  },
  {
   "cell_type": "code",
   "execution_count": 165,
   "id": "52f4553f-9bc7-4b32-8f39-8dd299ee075f",
   "metadata": {},
   "outputs": [],
   "source": [
    "from datetime import date"
   ]
  },
  {
   "cell_type": "code",
   "execution_count": 174,
   "id": "251cf9c7-23e7-435b-aaaf-f618b9ed87df",
   "metadata": {},
   "outputs": [],
   "source": [
    "class Employee:\n",
    "    #class variable\n",
    "    raise_amt = 1.04\n",
    "    def __init__(self, ids, first, last, pay):\n",
    "        self.id = ids\n",
    "        self.first = first\n",
    "        self.last = last\n",
    "        self.pay = pay\n",
    "        self.full_name = first+\" \"+last\n",
    "        self.email = first+\".\"+last+\"@tcs.com\"\n",
    "        \n",
    "    def get_full_name(self):\n",
    "        return \"{} {}\".format(self.first, self.last)\n",
    "    \n",
    "    def raise_salary(self):\n",
    "        self.pay = self.pay*Employee.raise_amt\n",
    "    \n",
    "    @classmethod\n",
    "    def set_raise_amt(self, amt):\n",
    "        self.raise_amt = amt\n",
    "        \n",
    "    def is_working_day(self,day):\n",
    "        if day.weekday()>=1 or day.weekday()<=5:\n",
    "            return True\n",
    "        return False"
   ]
  },
  {
   "cell_type": "code",
   "execution_count": 175,
   "id": "d134c137-dbfa-4606-99c1-549290d79f10",
   "metadata": {},
   "outputs": [],
   "source": [
    "emp1 = Employee(1,\"abc\",\"def\",83477)"
   ]
  },
  {
   "cell_type": "code",
   "execution_count": 176,
   "id": "0ae99217-b23a-4d98-a36a-ed92b743a4c6",
   "metadata": {},
   "outputs": [],
   "source": [
    "dt = date(2025,5,20)"
   ]
  },
  {
   "cell_type": "code",
   "execution_count": 177,
   "id": "8f643826-bfee-4cc0-9d60-2bd475f71706",
   "metadata": {},
   "outputs": [
    {
     "data": {
      "text/plain": [
       "True"
      ]
     },
     "execution_count": 177,
     "metadata": {},
     "output_type": "execute_result"
    }
   ],
   "source": [
    "emp1.is_working_day(dt)"
   ]
  },
  {
   "cell_type": "markdown",
   "id": "85a521ed-06e3-4517-ba6c-cd8e38a8c753",
   "metadata": {},
   "source": [
    "## 1. Encapsulation\n",
    "\n",
    "implementation of classes is encapsulation"
   ]
  },
  {
   "cell_type": "markdown",
   "id": "198a254b-84ee-48ce-abdf-4799d8e3ead9",
   "metadata": {
    "tags": []
   },
   "source": [
    "## 2. Abstraction"
   ]
  },
  {
   "cell_type": "markdown",
   "id": "0f892bf7-722b-4573-83b4-61cc0870ee89",
   "metadata": {},
   "source": [
    "### **Decorators**\n",
    "\n",
    "- Python decorators allow you to modify or extend the behavior of functions and methods without changing their actual code. When you use a Python decorator, you wrap a function with another function, which takes the original function as an argument and returns its modified version.\n",
    "- It was declared with `@` before a function name.\n",
    "\n",
    "Example:\n",
    "\n",
    "`@abstractclass` is a decorator\n"
   ]
  },
  {
   "cell_type": "code",
   "execution_count": 293,
   "id": "b86f744d-079f-4d11-a395-e5bd0ec947c6",
   "metadata": {},
   "outputs": [],
   "source": [
    "from abc import ABC, abstractclassmethod"
   ]
  },
  {
   "cell_type": "code",
   "execution_count": 306,
   "id": "dcb24161-7a5c-445f-83f8-d27984bfc157",
   "metadata": {},
   "outputs": [],
   "source": [
    "class Emp(ABC):\n",
    "    def __init__(self, fname, lname):\n",
    "        self.first=fname\n",
    "        self.last=lname\n",
    "    @abstractclassmethod\n",
    "    def cal_salary(self,pay):\n",
    "        return pay"
   ]
  },
  {
   "cell_type": "code",
   "execution_count": 307,
   "id": "eb24ff44-ea89-414f-9b6c-cf5e115f245f",
   "metadata": {},
   "outputs": [
    {
     "ename": "TypeError",
     "evalue": "Can't instantiate abstract class Emp with abstract method cal_salary",
     "output_type": "error",
     "traceback": [
      "\u001b[0;31m---------------------------------------------------------------------------\u001b[0m",
      "\u001b[0;31mTypeError\u001b[0m                                 Traceback (most recent call last)",
      "\u001b[0;32m/tmp/ipykernel_378838/1845492577.py\u001b[0m in \u001b[0;36m<module>\u001b[0;34m\u001b[0m\n\u001b[0;32m----> 1\u001b[0;31m \u001b[0memp1\u001b[0m \u001b[0;34m=\u001b[0m \u001b[0mEmp\u001b[0m\u001b[0;34m(\u001b[0m\u001b[0;34m\"ram\"\u001b[0m\u001b[0;34m,\u001b[0m\u001b[0;34m\"kumar\"\u001b[0m\u001b[0;34m)\u001b[0m\u001b[0;34m\u001b[0m\u001b[0;34m\u001b[0m\u001b[0m\n\u001b[0m",
      "\u001b[0;31mTypeError\u001b[0m: Can't instantiate abstract class Emp with abstract method cal_salary"
     ]
    }
   ],
   "source": [
    "emp1 = Emp(\"ram\",\"kumar\")"
   ]
  },
  {
   "cell_type": "code",
   "execution_count": 308,
   "id": "e3006876-887c-49bf-982d-b19b3179724c",
   "metadata": {},
   "outputs": [
    {
     "data": {
      "text/plain": [
       "mappingproxy({'__module__': '__main__',\n",
       "              '__init__': <function __main__.Emp.__init__(self, fname, lname)>,\n",
       "              'cal_salary': <abc.abstractclassmethod at 0x7efd328452c0>,\n",
       "              '__dict__': <attribute '__dict__' of 'Emp' objects>,\n",
       "              '__weakref__': <attribute '__weakref__' of 'Emp' objects>,\n",
       "              '__doc__': None,\n",
       "              '__abstractmethods__': frozenset({'cal_salary'}),\n",
       "              '_abc_impl': <_abc._abc_data at 0x7efd32851b00>})"
      ]
     },
     "execution_count": 308,
     "metadata": {},
     "output_type": "execute_result"
    }
   ],
   "source": [
    "Emp.__dict__"
   ]
  },
  {
   "cell_type": "code",
   "execution_count": 309,
   "id": "cc7eeb39-9eee-4d3c-a4b6-1fd1a20f9503",
   "metadata": {},
   "outputs": [
    {
     "name": "stdout",
     "output_type": "stream",
     "text": [
      "Help on class Emp in module __main__:\n",
      "\n",
      "class Emp(abc.ABC)\n",
      " |  Emp(fname, lname)\n",
      " |  \n",
      " |  Method resolution order:\n",
      " |      Emp\n",
      " |      abc.ABC\n",
      " |      builtins.object\n",
      " |  \n",
      " |  Methods defined here:\n",
      " |  \n",
      " |  __init__(self, fname, lname)\n",
      " |      Initialize self.  See help(type(self)) for accurate signature.\n",
      " |  \n",
      " |  ----------------------------------------------------------------------\n",
      " |  Class methods defined here:\n",
      " |  \n",
      " |  cal_salary(pay) from abc.ABCMeta\n",
      " |  \n",
      " |  ----------------------------------------------------------------------\n",
      " |  Data descriptors defined here:\n",
      " |  \n",
      " |  __dict__\n",
      " |      dictionary for instance variables (if defined)\n",
      " |  \n",
      " |  __weakref__\n",
      " |      list of weak references to the object (if defined)\n",
      " |  \n",
      " |  ----------------------------------------------------------------------\n",
      " |  Data and other attributes defined here:\n",
      " |  \n",
      " |  __abstractmethods__ = frozenset({'cal_salary'})\n",
      "\n"
     ]
    }
   ],
   "source": [
    "help(Emp)"
   ]
  },
  {
   "cell_type": "code",
   "execution_count": 323,
   "id": "f1ffecf6-16b8-44f4-a54b-2f2e20d9ae23",
   "metadata": {},
   "outputs": [],
   "source": [
    "class FullTimeEmployee(Emp):\n",
    "    def __init__(self, first, last, pay):\n",
    "        super().__init__(first, last)\n",
    "        self.pay = pay\n",
    "        \n",
    "    def cal_salary(self):\n",
    "        return pay"
   ]
  },
  {
   "cell_type": "code",
   "execution_count": 324,
   "id": "ab68f017-7520-4c69-a001-b54a3b35d71e",
   "metadata": {},
   "outputs": [],
   "source": [
    "class PartTimeEmployee(Emp):\n",
    "    def __init__(self, first, last, pay, days):\n",
    "        super().__init__(first, last)\n",
    "        self.pay = pay\n",
    "        self.days = days\n",
    "        \n",
    "    def cal_salary(self):\n",
    "        return self.days * self.pay"
   ]
  },
  {
   "cell_type": "code",
   "execution_count": 325,
   "id": "549548af-4a06-4100-bfb8-e70731e0e743",
   "metadata": {},
   "outputs": [],
   "source": [
    "pte = PartTimeEmployee(\"abc\",\"def\",945,12)"
   ]
  },
  {
   "cell_type": "code",
   "execution_count": 326,
   "id": "50f9c328-f07f-4489-9643-bfc0ecbcb6b8",
   "metadata": {},
   "outputs": [],
   "source": [
    "fte = FullTimeEmployee(\"abc\",\"def\",34534)"
   ]
  },
  {
   "cell_type": "code",
   "execution_count": 327,
   "id": "083b39e6-1afc-44b1-869f-a1d7868d26ff",
   "metadata": {},
   "outputs": [
    {
     "data": {
      "text/plain": [
       "{'first': 'abc', 'last': 'def', 'pay': 34534}"
      ]
     },
     "execution_count": 327,
     "metadata": {},
     "output_type": "execute_result"
    }
   ],
   "source": [
    "fte.__dict__"
   ]
  },
  {
   "cell_type": "code",
   "execution_count": 328,
   "id": "2a7a080b-890c-4506-b50c-d952b3aecee0",
   "metadata": {},
   "outputs": [
    {
     "name": "stdout",
     "output_type": "stream",
     "text": [
      "Help on FullTimeEmployee in module __main__ object:\n",
      "\n",
      "class FullTimeEmployee(Emp)\n",
      " |  FullTimeEmployee(first, last, pay)\n",
      " |  \n",
      " |  Method resolution order:\n",
      " |      FullTimeEmployee\n",
      " |      Emp\n",
      " |      abc.ABC\n",
      " |      builtins.object\n",
      " |  \n",
      " |  Methods defined here:\n",
      " |  \n",
      " |  __init__(self, first, last, pay)\n",
      " |      Initialize self.  See help(type(self)) for accurate signature.\n",
      " |  \n",
      " |  cal_salary(self)\n",
      " |  \n",
      " |  ----------------------------------------------------------------------\n",
      " |  Data and other attributes defined here:\n",
      " |  \n",
      " |  __abstractmethods__ = frozenset()\n",
      " |  \n",
      " |  ----------------------------------------------------------------------\n",
      " |  Data descriptors inherited from Emp:\n",
      " |  \n",
      " |  __dict__\n",
      " |      dictionary for instance variables (if defined)\n",
      " |  \n",
      " |  __weakref__\n",
      " |      list of weak references to the object (if defined)\n",
      "\n"
     ]
    }
   ],
   "source": [
    "help(fte)"
   ]
  },
  {
   "cell_type": "code",
   "execution_count": 329,
   "id": "7356d022-c2e3-4b6d-8c2d-ed74e6cec24a",
   "metadata": {},
   "outputs": [
    {
     "data": {
      "text/plain": [
       "11340"
      ]
     },
     "execution_count": 329,
     "metadata": {},
     "output_type": "execute_result"
    }
   ],
   "source": [
    "pte.cal_salary()"
   ]
  },
  {
   "cell_type": "code",
   "execution_count": 330,
   "id": "dd1ece15-d566-43da-af18-78a846818c0d",
   "metadata": {},
   "outputs": [
    {
     "name": "stdout",
     "output_type": "stream",
     "text": [
      "Help on PartTimeEmployee in module __main__ object:\n",
      "\n",
      "class PartTimeEmployee(Emp)\n",
      " |  PartTimeEmployee(first, last, pay, days)\n",
      " |  \n",
      " |  Method resolution order:\n",
      " |      PartTimeEmployee\n",
      " |      Emp\n",
      " |      abc.ABC\n",
      " |      builtins.object\n",
      " |  \n",
      " |  Methods defined here:\n",
      " |  \n",
      " |  __init__(self, first, last, pay, days)\n",
      " |      Initialize self.  See help(type(self)) for accurate signature.\n",
      " |  \n",
      " |  cal_salary(self)\n",
      " |  \n",
      " |  ----------------------------------------------------------------------\n",
      " |  Data and other attributes defined here:\n",
      " |  \n",
      " |  __abstractmethods__ = frozenset()\n",
      " |  \n",
      " |  ----------------------------------------------------------------------\n",
      " |  Data descriptors inherited from Emp:\n",
      " |  \n",
      " |  __dict__\n",
      " |      dictionary for instance variables (if defined)\n",
      " |  \n",
      " |  __weakref__\n",
      " |      list of weak references to the object (if defined)\n",
      "\n"
     ]
    }
   ],
   "source": [
    "help(pte)"
   ]
  },
  {
   "cell_type": "markdown",
   "id": "ad585a0c-877c-4291-b797-3fcb1c0ff543",
   "metadata": {},
   "source": [
    "## 3. Polymorphism\n",
    "\n",
    "classes with multiple forms"
   ]
  },
  {
   "cell_type": "markdown",
   "id": "34ae5b96-0db6-45cb-a1cf-fbafa1ac4284",
   "metadata": {},
   "source": [
    "It has two types\n",
    "\n",
    "- overloading (X) in python\n",
    "- overriding (v) in python"
   ]
  },
  {
   "cell_type": "markdown",
   "id": "57583e40-4a16-47f0-930b-b7b9bf4be693",
   "metadata": {
    "tags": []
   },
   "source": [
    "## 4. Inheritance"
   ]
  },
  {
   "cell_type": "markdown",
   "id": "10e52367-7dbb-4ad4-98ce-85b1cd552489",
   "metadata": {},
   "source": [
    "#### Types of inheritance\n",
    "\n",
    "- **Based on Number of parent**\n",
    "    - single inheritance\n",
    "    - multiple inheritance\n",
    "- **Based on Number of levels**\n",
    "    - single-leve inheritance\n",
    "    - multi-level inheritance (hierarchial inheritance)"
   ]
  },
  {
   "cell_type": "code",
   "execution_count": 259,
   "id": "afff70d9-1728-4a12-a2dd-0df2434f82c1",
   "metadata": {},
   "outputs": [],
   "source": [
    "class Employee:\n",
    "    #class variable\n",
    "    raise_amt = 1.04\n",
    "    def __init__(self, ids, first, last, pay):\n",
    "        self.ids = ids\n",
    "        self.first = first\n",
    "        self.last = last\n",
    "        self.pay = pay\n",
    "        self.full_name = first+\" \"+last\n",
    "        self.email = first+\".\"+last+\"@tcs.com\"\n",
    "        \n",
    "    def get_full_name(self):\n",
    "        return \"{} {}\".format(self.first, self.last)\n",
    "    \n",
    "    def raise_salary(self):\n",
    "        self.pay = self.pay*Employee.raise_amt\n",
    "    \n",
    "    @classmethod\n",
    "    def set_raise_amt(self, amt):\n",
    "        self.raise_amt = amt"
   ]
  },
  {
   "cell_type": "code",
   "execution_count": 260,
   "id": "cea4f451-0be4-4671-9715-708779cff178",
   "metadata": {},
   "outputs": [],
   "source": [
    "class Developer(Employee):\n",
    "    pass"
   ]
  },
  {
   "cell_type": "code",
   "execution_count": 261,
   "id": "f633829e-8b9f-46b1-ad6f-9a80b693060d",
   "metadata": {},
   "outputs": [
    {
     "name": "stdout",
     "output_type": "stream",
     "text": [
      "Help on class Developer in module __main__:\n",
      "\n",
      "class Developer(Employee)\n",
      " |  Developer(ids, first, last, pay)\n",
      " |  \n",
      " |  Method resolution order:\n",
      " |      Developer\n",
      " |      Employee\n",
      " |      builtins.object\n",
      " |  \n",
      " |  Methods inherited from Employee:\n",
      " |  \n",
      " |  __init__(self, ids, first, last, pay)\n",
      " |      Initialize self.  See help(type(self)) for accurate signature.\n",
      " |  \n",
      " |  get_full_name(self)\n",
      " |  \n",
      " |  raise_salary(self)\n",
      " |  \n",
      " |  ----------------------------------------------------------------------\n",
      " |  Class methods inherited from Employee:\n",
      " |  \n",
      " |  set_raise_amt(amt) from builtins.type\n",
      " |  \n",
      " |  ----------------------------------------------------------------------\n",
      " |  Data descriptors inherited from Employee:\n",
      " |  \n",
      " |  __dict__\n",
      " |      dictionary for instance variables (if defined)\n",
      " |  \n",
      " |  __weakref__\n",
      " |      list of weak references to the object (if defined)\n",
      " |  \n",
      " |  ----------------------------------------------------------------------\n",
      " |  Data and other attributes inherited from Employee:\n",
      " |  \n",
      " |  raise_amt = 1.04\n",
      "\n"
     ]
    }
   ],
   "source": [
    "help(Developer)"
   ]
  },
  {
   "cell_type": "code",
   "execution_count": 262,
   "id": "e58a64b1-ae78-438c-818c-3f53060f8d0c",
   "metadata": {},
   "outputs": [],
   "source": [
    "dev1 = Developer(12,\"abc\",\"def\",90000)"
   ]
  },
  {
   "cell_type": "code",
   "execution_count": 263,
   "id": "a904a7d3-4ab3-4abc-bd0f-77e92244fcbd",
   "metadata": {},
   "outputs": [],
   "source": [
    "class Developer(Employee):\n",
    "    def __init__(self,ids, first, last, pay, lang):\n",
    "        super().__init__(ids, first, last, pay)\n",
    "        self.lang = lang"
   ]
  },
  {
   "cell_type": "code",
   "execution_count": 264,
   "id": "ae03517d-3761-4e3d-b677-9f05e9890e51",
   "metadata": {},
   "outputs": [],
   "source": [
    "dev1 = Developer(12,\"abc\",\"def\",90000,[\"python\",\"pyspark\"])\n",
    "dev2 = Developer(13,\"abd\",\"dea\",90300,[\"python\",\"pyspark\",\"SQL\"])"
   ]
  },
  {
   "cell_type": "code",
   "execution_count": 284,
   "id": "d106d567-ac39-491e-b6df-0f2140f45f3f",
   "metadata": {},
   "outputs": [],
   "source": [
    "class Manager(Employee):\n",
    "    def __init__(self, ids, first, last, pay, dev_ids=None):\n",
    "        super().__init__(ids, first, last, pay)\n",
    "        if dev_ids is None:\n",
    "            self.dev_ids = []\n",
    "        else:\n",
    "            self.dev_ids = dev_ids\n",
    "    \n",
    "    def show_emps(self):\n",
    "        if not self.dev_ids:\n",
    "            print(\"No employees found\")\n",
    "        else:\n",
    "            for x in self.dev_ids:\n",
    "                print(x.ids)\n",
    "                print(x.full_name)\n",
    "                print(\"=\"*30)\n",
    "            \n",
    "    def add_emps(self,v):\n",
    "        ids1 = [ x.ids for x in self.dev_ids]\n",
    "        if v.ids in ids1:\n",
    "            print(f\"{v.full_name} was already managing by {self.first} {self.last}\")\n",
    "            return\n",
    "        return self.dev_ids.append(v)\n",
    "            \n",
    "    def remove_emps(self,v):\n",
    "        if v not in self.dev_ids:\n",
    "            print(f\"Developer was not managed by {self.first} {self.last}\")\n",
    "            return\n",
    "        return self.dev_ids.remove(v)"
   ]
  },
  {
   "cell_type": "code",
   "execution_count": 285,
   "id": "62acf7ae-f8e8-441f-83f8-7fd3fc29d59f",
   "metadata": {},
   "outputs": [],
   "source": [
    "m1 = Manager(12,\"abc\",\"def\", 90000, [dev1,dev2])"
   ]
  },
  {
   "cell_type": "code",
   "execution_count": 286,
   "id": "34887347-41bb-4efa-92e1-4daf7bb76a61",
   "metadata": {},
   "outputs": [
    {
     "name": "stdout",
     "output_type": "stream",
     "text": [
      "12\n",
      "abc def\n",
      "==============================\n",
      "13\n",
      "abd dea\n",
      "==============================\n"
     ]
    }
   ],
   "source": [
    "m1.show_emps()"
   ]
  },
  {
   "cell_type": "code",
   "execution_count": 287,
   "id": "809a9142-b7c0-4558-a0ed-bbddaa338884",
   "metadata": {},
   "outputs": [
    {
     "name": "stdout",
     "output_type": "stream",
     "text": [
      "Developer was not managed by abc def\n"
     ]
    }
   ],
   "source": [
    "m1.remove_emps(267)"
   ]
  },
  {
   "cell_type": "code",
   "execution_count": 288,
   "id": "0f101926-b9ff-45b9-b6c8-a5acf0dae67b",
   "metadata": {},
   "outputs": [
    {
     "name": "stdout",
     "output_type": "stream",
     "text": [
      "12\n",
      "abc def\n",
      "==============================\n",
      "13\n",
      "abd dea\n",
      "==============================\n"
     ]
    }
   ],
   "source": [
    "m1.show_emps()"
   ]
  },
  {
   "cell_type": "code",
   "execution_count": 289,
   "id": "acffccfa-2242-487a-9f01-891e514feec9",
   "metadata": {},
   "outputs": [],
   "source": [
    "dev3 = Developer(3,\"ier\",\"jse\",90349,[\"Java\",\"Hadoop\"])"
   ]
  },
  {
   "cell_type": "code",
   "execution_count": 292,
   "id": "fb3bb02b-408a-4e84-8027-584f62e5049c",
   "metadata": {},
   "outputs": [
    {
     "name": "stdout",
     "output_type": "stream",
     "text": [
      "ier jse was already managing by abc def\n"
     ]
    }
   ],
   "source": [
    "m1.add_emps(dev3)"
   ]
  },
  {
   "cell_type": "code",
   "execution_count": 291,
   "id": "4f4badd9-538b-40ca-94bf-3202aa27a5dc",
   "metadata": {},
   "outputs": [
    {
     "name": "stdout",
     "output_type": "stream",
     "text": [
      "12\n",
      "abc def\n",
      "==============================\n",
      "13\n",
      "abd dea\n",
      "==============================\n",
      "3\n",
      "ier jse\n",
      "==============================\n"
     ]
    }
   ],
   "source": [
    "m1.show_emps()"
   ]
  },
  {
   "cell_type": "markdown",
   "id": "776d0f65-756b-4287-b0b1-088263c9cd8f",
   "metadata": {},
   "source": [
    "### Multiple Inheritance"
   ]
  },
  {
   "cell_type": "code",
   "execution_count": 375,
   "id": "207f1dff-a4f7-4a91-b06e-e42a1d062485",
   "metadata": {},
   "outputs": [],
   "source": [
    "class Student:\n",
    "    def __init__(self, ids, first, last):\n",
    "        self.ids = ids\n",
    "        self.first = first\n",
    "        self.last = last\n",
    "        \n",
    "    def show(self):\n",
    "        return f\"Id: {self.ids}\\nFirst name: {self.first}\\nLast Name: {self.last}\""
   ]
  },
  {
   "cell_type": "code",
   "execution_count": 376,
   "id": "1cf93fcb-8f0b-4bb6-8b41-6ab6d06e4f0e",
   "metadata": {},
   "outputs": [],
   "source": [
    "class Book:\n",
    "    def __init__(self, bid, title, price):\n",
    "        self.bid = bid\n",
    "        self.title = title\n",
    "        self.price = price\n",
    "        \n",
    "    def display(self):\n",
    "        return f\"{self.title} - costs {self.price}\""
   ]
  },
  {
   "cell_type": "code",
   "execution_count": 377,
   "id": "c475e007-7005-477b-bc2d-776d47238a5c",
   "metadata": {},
   "outputs": [],
   "source": [
    "class IssueBook(Book, Student):\n",
    "    def __init__(self, bid, title, price, ids, first, last, days):\n",
    "        Book.__init__(self,bid, title, price)\n",
    "        Student.__init__(self, ids, first, last)\n",
    "        self.no_of_days = days\n",
    "        \n",
    "    def show1(self):\n",
    "        print(self.show())\n",
    "        print(self.display())\n",
    "        print(self.no_of_days)"
   ]
  },
  {
   "cell_type": "code",
   "execution_count": 378,
   "id": "c2dc39f3-581b-47b0-9ede-b75327849cb3",
   "metadata": {},
   "outputs": [],
   "source": [
    "ib = IssueBook(23, \"Jungle book\", 234, 1, \"hello\", \"world\", 10)"
   ]
  },
  {
   "cell_type": "code",
   "execution_count": 379,
   "id": "4ec32cbc-6b9a-48e5-b951-3114f6a68673",
   "metadata": {},
   "outputs": [
    {
     "name": "stdout",
     "output_type": "stream",
     "text": [
      "Id: 1\n",
      "First name: hello\n",
      "Last Name: world\n",
      "Jungle book - costs 234\n",
      "10\n"
     ]
    }
   ],
   "source": [
    "ib.show1()"
   ]
  },
  {
   "cell_type": "code",
   "execution_count": 373,
   "id": "1d3c0dee-1717-4aa6-9596-e0d28738ff0b",
   "metadata": {},
   "outputs": [
    {
     "data": {
      "text/plain": [
       "mappingproxy({'__module__': '__main__',\n",
       "              '__init__': <function __main__.IssueBook.__init__(self, bid, title, price, ids, first, last, days)>,\n",
       "              'show1': <function __main__.IssueBook.show1(self)>,\n",
       "              '__doc__': None})"
      ]
     },
     "execution_count": 373,
     "metadata": {},
     "output_type": "execute_result"
    }
   ],
   "source": [
    "IssueBook.__dict__"
   ]
  },
  {
   "cell_type": "code",
   "execution_count": 374,
   "id": "0b1c33e1-31b2-4734-b777-47a6c8982d32",
   "metadata": {},
   "outputs": [
    {
     "name": "stdout",
     "output_type": "stream",
     "text": [
      "Help on class IssueBook in module __main__:\n",
      "\n",
      "class IssueBook(Book, Student)\n",
      " |  IssueBook(bid, title, price, ids, first, last, days)\n",
      " |  \n",
      " |  Method resolution order:\n",
      " |      IssueBook\n",
      " |      Book\n",
      " |      Student\n",
      " |      builtins.object\n",
      " |  \n",
      " |  Methods defined here:\n",
      " |  \n",
      " |  __init__(self, bid, title, price, ids, first, last, days)\n",
      " |      Initialize self.  See help(type(self)) for accurate signature.\n",
      " |  \n",
      " |  show1(self)\n",
      " |  \n",
      " |  ----------------------------------------------------------------------\n",
      " |  Methods inherited from Book:\n",
      " |  \n",
      " |  display(self)\n",
      " |  \n",
      " |  ----------------------------------------------------------------------\n",
      " |  Data descriptors inherited from Book:\n",
      " |  \n",
      " |  __dict__\n",
      " |      dictionary for instance variables (if defined)\n",
      " |  \n",
      " |  __weakref__\n",
      " |      list of weak references to the object (if defined)\n",
      " |  \n",
      " |  ----------------------------------------------------------------------\n",
      " |  Methods inherited from Student:\n",
      " |  \n",
      " |  show(self)\n",
      "\n"
     ]
    }
   ],
   "source": [
    "help(IssueBook)"
   ]
  },
  {
   "cell_type": "markdown",
   "id": "ec13f80c-2a7d-419f-a72f-657139341004",
   "metadata": {},
   "source": [
    "### Diamond problem (resolve with MRO automatically)"
   ]
  },
  {
   "cell_type": "code",
   "execution_count": 386,
   "id": "8f1060db-f926-4a07-9929-25b74013d31b",
   "metadata": {},
   "outputs": [
    {
     "name": "stdout",
     "output_type": "stream",
     "text": [
      "I am GP\n",
      "I'm Parent1\n",
      "I'm Parent2\n",
      "I'm a Child\n"
     ]
    }
   ],
   "source": [
    "class GrandParent:\n",
    "    print(\"I am GP\")\n",
    "    def show(self):\n",
    "        return \"Grapd called\"\n",
    "\n",
    "class Parent1(GrandParent):\n",
    "    print(\"I'm Parent1\")\n",
    "    def show_p1(self):\n",
    "        return \"Parent1 called\"\n",
    "    \n",
    "class Parent2(GrandParent):\n",
    "    print(\"I'm Parent2\")\n",
    "    def show_p2(self):\n",
    "        return \"Parent2 called\"\n",
    "    \n",
    "class Child(Parent1, Parent2):\n",
    "    print(\"I'm a Child\")\n",
    "    def disp(self):\n",
    "        print(self.show())\n",
    "        return \"Child called\""
   ]
  },
  {
   "cell_type": "code",
   "execution_count": 387,
   "id": "8d0f634e-0472-4ad7-a3d6-4fb7aad94f3e",
   "metadata": {},
   "outputs": [
    {
     "name": "stdout",
     "output_type": "stream",
     "text": [
      "Grapd called\n",
      "Child called\n"
     ]
    }
   ],
   "source": [
    "ch = Child()\n",
    "print(ch.disp())"
   ]
  },
  {
   "cell_type": "markdown",
   "id": "76866df4-71e4-46e5-bd1a-a4fdb8fdf270",
   "metadata": {},
   "source": [
    "**MRO Order**\n",
    "\n",
    "Child -> Parent1 -> GrandParent\n",
    "\n",
    "clasess"
   ]
  },
  {
   "cell_type": "code",
   "execution_count": 382,
   "id": "224d20b4-8fbe-45c4-82d9-e9f7bd2d5a73",
   "metadata": {},
   "outputs": [
    {
     "name": "stdout",
     "output_type": "stream",
     "text": [
      "Help on class Child in module __main__:\n",
      "\n",
      "class Child(Parent1, Parent2)\n",
      " |  Method resolution order:\n",
      " |      Child\n",
      " |      Parent1\n",
      " |      Parent2\n",
      " |      GrandParent\n",
      " |      builtins.object\n",
      " |  \n",
      " |  Methods defined here:\n",
      " |  \n",
      " |  disp(self)\n",
      " |  \n",
      " |  ----------------------------------------------------------------------\n",
      " |  Methods inherited from Parent1:\n",
      " |  \n",
      " |  show_p1(self)\n",
      " |  \n",
      " |  ----------------------------------------------------------------------\n",
      " |  Methods inherited from Parent2:\n",
      " |  \n",
      " |  show_p2(self)\n",
      " |  \n",
      " |  ----------------------------------------------------------------------\n",
      " |  Methods inherited from GrandParent:\n",
      " |  \n",
      " |  show(self)\n",
      " |  \n",
      " |  ----------------------------------------------------------------------\n",
      " |  Data descriptors inherited from GrandParent:\n",
      " |  \n",
      " |  __dict__\n",
      " |      dictionary for instance variables (if defined)\n",
      " |  \n",
      " |  __weakref__\n",
      " |      list of weak references to the object (if defined)\n",
      "\n"
     ]
    }
   ],
   "source": [
    "help(Child)"
   ]
  },
  {
   "cell_type": "code",
   "execution_count": 393,
   "id": "52c319d3-1304-4dc2-9c9b-638127a8b233",
   "metadata": {},
   "outputs": [
    {
     "name": "stdout",
     "output_type": "stream",
     "text": [
      "I am GP\n",
      "I'm Parent1\n",
      "I'm Parent2\n",
      "I'm a Child\n"
     ]
    }
   ],
   "source": [
    "class GrandParent:\n",
    "    print(\"I am GP\")\n",
    "    def show(self):\n",
    "        return \"Grapd called\"\n",
    "\n",
    "class Parent1(GrandParent):\n",
    "    print(\"I'm Parent1\")\n",
    "    def show(self):\n",
    "        return \"Parent1 called\"\n",
    "    \n",
    "class Parent2(GrandParent):\n",
    "    print(\"I'm Parent2\")\n",
    "    def show(self):\n",
    "        return \"Parent2 called\"\n",
    "    \n",
    "class Child(Parent1, Parent2):\n",
    "    print(\"I'm a Child\")\n",
    "    def disp(self):\n",
    "        print(Parent1.show(self))\n",
    "        print(Parent2.show(self))\n",
    "        print(GrandParent.show(self))\n",
    "        return \"Child called\""
   ]
  },
  {
   "cell_type": "code",
   "execution_count": 394,
   "id": "ff66730a-1989-418b-9061-a019d94e43b7",
   "metadata": {},
   "outputs": [],
   "source": [
    "ch = Child()"
   ]
  },
  {
   "cell_type": "code",
   "execution_count": 395,
   "id": "e9f2befa-e6ea-418c-9c0f-2815c25f12e9",
   "metadata": {},
   "outputs": [
    {
     "name": "stdout",
     "output_type": "stream",
     "text": [
      "Parent1 called\n",
      "Parent2 called\n",
      "Grapd called\n"
     ]
    },
    {
     "data": {
      "text/plain": [
       "'Child called'"
      ]
     },
     "execution_count": 395,
     "metadata": {},
     "output_type": "execute_result"
    }
   ],
   "source": [
    "ch.disp()"
   ]
  },
  {
   "cell_type": "markdown",
   "id": "e87fb363-f3af-44b7-b24b-d21be0662077",
   "metadata": {},
   "source": [
    "## Working with multiple classes"
   ]
  },
  {
   "cell_type": "markdown",
   "id": "d00d80b9-9d69-4533-88a3-88e0227a5f9d",
   "metadata": {},
   "source": [
    "### Types of Relationship\n",
    "\n",
    "- [ is a ] -> Inheritance / Generalization\n",
    "- [ has a ] -> composition"
   ]
  },
  {
   "cell_type": "code",
   "execution_count": 396,
   "id": "7d255a2f-2318-4632-a548-59145079d7ab",
   "metadata": {},
   "outputs": [
    {
     "data": {
      "text/plain": [
       "True"
      ]
     },
     "execution_count": 396,
     "metadata": {},
     "output_type": "execute_result"
    }
   ],
   "source": [
    "isinstance(ch,Parent1)"
   ]
  },
  {
   "cell_type": "code",
   "execution_count": 397,
   "id": "88f5053d-1613-4d45-8162-222914127ac9",
   "metadata": {},
   "outputs": [
    {
     "data": {
      "text/plain": [
       "True"
      ]
     },
     "execution_count": 397,
     "metadata": {},
     "output_type": "execute_result"
    }
   ],
   "source": [
    "issubclass(Child, Parent1)"
   ]
  },
  {
   "cell_type": "code",
   "execution_count": 399,
   "id": "59937fe9-0858-4ee2-aa46-baead89aa83e",
   "metadata": {},
   "outputs": [
    {
     "data": {
      "text/plain": [
       "True"
      ]
     },
     "execution_count": 399,
     "metadata": {},
     "output_type": "execute_result"
    }
   ],
   "source": [
    "issubclass(Child, GrandParent)"
   ]
  },
  {
   "cell_type": "code",
   "execution_count": 401,
   "id": "5cae2e7d-8713-464a-94ec-be031a42b372",
   "metadata": {},
   "outputs": [],
   "source": [
    "class Points:\n",
    "    def __init__(self, x, y):\n",
    "        self.x = x\n",
    "        self.y = y\n",
    "        \n",
    "    def __str__(self):\n",
    "        return f\"Point:\\n x: {str(self.x)}\\n y: {str(self.y)}\""
   ]
  },
  {
   "cell_type": "code",
   "execution_count": 402,
   "id": "0b32000c-e5d6-468d-aa2f-70ad9322d44b",
   "metadata": {},
   "outputs": [],
   "source": [
    "P1=Points(2,3)"
   ]
  },
  {
   "cell_type": "code",
   "execution_count": 403,
   "id": "38cb3b36-4344-4919-a22c-04c33e1fa03c",
   "metadata": {},
   "outputs": [
    {
     "name": "stdout",
     "output_type": "stream",
     "text": [
      "Point:\n",
      " x: 2\n",
      " y: 3\n"
     ]
    }
   ],
   "source": [
    "print(P1)"
   ]
  },
  {
   "cell_type": "code",
   "execution_count": 422,
   "id": "fe06e229-74fc-4585-a2bd-aa2265179b71",
   "metadata": {},
   "outputs": [],
   "source": [
    "class Shapes:\n",
    "    def __init__(self, points):\n",
    "        self.points = points\n",
    "        \n",
    "    def __repr__(self):\n",
    "        t=\"\"\n",
    "        for x in self.points:\n",
    "            t+=f\"({str(x.x)}, {str(x.y)})\"\n",
    "        return t"
   ]
  },
  {
   "cell_type": "code",
   "execution_count": 423,
   "id": "f0cb16bc-a974-42ff-bc23-4760397ad0b6",
   "metadata": {},
   "outputs": [],
   "source": [
    "triangle = Shapes([Points(1,1), Points(6,1), Points(3,8)])"
   ]
  },
  {
   "cell_type": "code",
   "execution_count": 424,
   "id": "65991f6b-3000-46ec-a6c7-1d5c3770b065",
   "metadata": {},
   "outputs": [
    {
     "data": {
      "text/plain": [
       "(1, 1)(6, 1)(3, 8)"
      ]
     },
     "execution_count": 424,
     "metadata": {},
     "output_type": "execute_result"
    }
   ],
   "source": [
    "triangle"
   ]
  },
  {
   "cell_type": "markdown",
   "id": "04cb89a2-0180-4601-b0e3-1a8496db2146",
   "metadata": {},
   "source": [
    "# File Handling in Python"
   ]
  },
  {
   "cell_type": "markdown",
   "id": "6a9f2225-4647-4ffa-a44c-a2dc6f489df7",
   "metadata": {},
   "source": [
    "**_File Handling_**\n",
    "- Read (r)\n",
    "- Write (w)\n",
    "- Append (a)\n",
    "- Read (Binary)\n",
    "- Write (Binary)\n",
    "- Read and write (r+)\n",
    "- Write and Read (w+)"
   ]
  },
  {
   "cell_type": "markdown",
   "id": "a79fcdd2-59f4-4cc1-84a1-d8917cb00114",
   "metadata": {},
   "source": [
    "#### Read a text file"
   ]
  },
  {
   "cell_type": "code",
   "execution_count": 4,
   "id": "1def0d89-58f4-4634-9249-1bdaad8c6040",
   "metadata": {},
   "outputs": [],
   "source": [
    "s=\"\"\" \"\"\"\n",
    "with open(\"assets/blog.txt\",\"r\") as f:\n",
    "    s=f.read()"
   ]
  },
  {
   "cell_type": "code",
   "execution_count": 5,
   "id": "53d828c6-8bd4-4cd3-86d5-f47dbbb88a22",
   "metadata": {},
   "outputs": [
    {
     "data": {
      "text/plain": [
       "'Display Medium Articles on Your Personal Site Using the RSS Feed\\nDo you want to show your medium stories on your site? Or do you want to integrate the Medium platform with your personal portfolio site dynamically?\\nMuhammad Usman\\nMuhammad Usman\\n\\nFollow\\n4 min read\\n·\\nMay 10, 2022\\n2022\\n\\nPhoto by Nick Fewings on Unsplash\\nYes, Medium supports the different ways to fetch the feed and get your Medium metadata.\\n\\nWhy do I need to fetch a Medium feed?\\nMedium is a third-party platform where you can publish your stories/articles. If you want to show these stories on your site or personal portfolio, you need to fetch the medium stories and display them on your website. It helps you to dynamically integrate the medium with your personal website. So in the future, if you publish any new article, it will automatically display on your site. You don’t need to do redundant work on both platforms.\\n\\nHow can I integrate Medium with my personal portfolio?\\nAccording to the official documentation of the Medium and the author ‘Cndro’ published his article ‘How to Get Data from Medium API’. Both the official documentation and article present the way how to get the medium data through API, which requires the authentication of the user through an integration token. Also, the Stackoverflow question ‘How to retrieve Medium stories for a user from the API?’ explains how to fetch the medium stories through the API.\\n\\nOur Goal\\nThe aim of this article is to fetch the medium feeds/data without user authentication and display them on your personal site.\\n\\nConnect Medium without Medium API\\nMedium provides RSS feeds for user profiles, publications, and topic pages. Using an RSS feed URL, you can integrate the feed of your own profile or publication on Medium with your own website to show your latest stories.\\n\\nWhat is RSS?\\nRSS (RDF Site Summary or Really Simple Syndication) is a web feed that allows users and applications to access updates to websites in a standardized, computer-readable format. Subscribing to RSS feeds can allow a user to keep track of different websites in a single news aggregator, which constantly monitors sites for new content, removing the need for the user to manually check them. Websites usually use RSS feeds to publish frequently updated information, such as blog entries, news headlines, episodes of audio and video series, or for distributing podcasts. An RSS document (called “feed”, “web feed”, or “channel”) includes full or summarized text, and metadata, like the publishing date and author’s name. RSS formats are specified using a generic XML file.\\n\\nSupported RSS feeds\\nMedium supports different types of RSS feeds for users’ profiles, publications, topics, etc. You can get the details in the official documentation of RSS feeds on Medium. In this article, I am only using the profile page feed. RSS feed URL: https://medium.com/feed/@username\\n\\n\\nGo into your medium profile and copy your username. My username is engrmuhammadusman108. So RSS feed URL becomes:\\n\\nhttps://medium.com/feed/@engrmuhammadusman108\\nGo into the browser and put the above URL, and it will return an RSS document in XML format as shown in figure-1.\\n\\n\\nFigure-1: RSS document in XML format\\nConvert RSS to JSON\\nThe Rss2Json API allows developers to convert an RSS feed to JSON by submitting its URL. The items in a feed can be sorted by publication date, title, or author in ascending or descending order.\\n\\nOpen the Rss2Json.com and put your RSS URL and click on the convert button. It will give you the output in JSON format as illustrated in figure-2. Copy the highlighted API call URL, which is used later to call the API from JavaScript code and get the JSON response.\\n\\n\\nFigure-2: RSS to JSON\\nDeveloping web page\\nLet’s develop a simple HTML page using CSS and JavaScript. Call the API and get the JSON data to display it on your site. Here, I am creating a dummy application. You can use the same thing in your existing portfolio/personal site.\\n\\nThe API URL of my profile is shown below. You can replace my username ‘engrmuhammadusman108’ with your username and put the same URL in the below code as well.\\n\\nAPI URL: https://api.rss2json.com/v1/api.json?rss_url=https://medium.com/feed/@engrmuhammadusman108\\nThe below code have comment documentation. So the code itself explains everything.\\n\\nI used the sample code from W3Schools and modify the code accordingly.\\n\\nSimilar to displaying the Medium article on your personal portfolio, you can also show “Stack Overflow” profile data (reputation, badges, questions, answers etc.). Please checkout my article “Displaying Stackoverflow reputation & badges on your portfolio”.\\n\\nThank you for following my article. Have a nice day!\\n\\nUpdate on 27.05.2024:\\nI created a npm package for medium named ‘medium-article-api’ and published it on npmjs.com. You can now directly use the package. Details will be found in my other article, ‘Enhance Your Website with Medium Content: Introducing medium-article-api’.\\nNpm Package: https://www.npmjs.com/package/medium-article-api\\n\\nUpdate on 28.05.2024:\\nThe python library for medium is also published on pypi.org named ‘medium-article-py’ . You can follow the usage details in the following links.\\n\\nPyPi Library: https://pypi.org/project/medium-article-py/\\n\\nGithub Repository: https://github.com/muhammad-usman-108/medium-article-py'"
      ]
     },
     "execution_count": 5,
     "metadata": {},
     "output_type": "execute_result"
    }
   ],
   "source": [
    "s"
   ]
  },
  {
   "cell_type": "code",
   "execution_count": 35,
   "id": "7a657e9a-d651-4108-b86c-f83cef0695da",
   "metadata": {},
   "outputs": [],
   "source": [
    "f1=open(\"assets/test_vhzq9.txt\")"
   ]
  },
  {
   "cell_type": "code",
   "execution_count": 36,
   "id": "13032d92-5b61-4c67-b382-ca32a421a9df",
   "metadata": {},
   "outputs": [
    {
     "data": {
      "text/plain": [
       "_io.TextIOWrapper"
      ]
     },
     "execution_count": 36,
     "metadata": {},
     "output_type": "execute_result"
    }
   ],
   "source": [
    "type(f1)"
   ]
  },
  {
   "cell_type": "code",
   "execution_count": 37,
   "id": "5f6d5ef8-36e6-427a-ad49-3855b53cf26e",
   "metadata": {},
   "outputs": [
    {
     "data": {
      "text/plain": [
       "'r'"
      ]
     },
     "execution_count": 37,
     "metadata": {},
     "output_type": "execute_result"
    }
   ],
   "source": [
    "f1.mode"
   ]
  },
  {
   "cell_type": "code",
   "execution_count": 38,
   "id": "18ea7bb1-03ca-496c-a1d7-705703e72958",
   "metadata": {},
   "outputs": [
    {
     "data": {
      "text/plain": [
       "'assets/test_vhzq9.txt'"
      ]
     },
     "execution_count": 38,
     "metadata": {},
     "output_type": "execute_result"
    }
   ],
   "source": [
    "f1.name"
   ]
  },
  {
   "cell_type": "code",
   "execution_count": 39,
   "id": "243ee4d3-7087-42ce-b585-2398056871a1",
   "metadata": {},
   "outputs": [
    {
     "data": {
      "text/plain": [
       "'1) This is a test file\\n2) With multiple lines of data...\\n3) Third line\\n4) Fourth line\\n5) Fifth line\\n6) Sixth line\\n7) Seventh line\\n8) Eighth line\\n9) Ninth line\\n10) Tenth line'"
      ]
     },
     "execution_count": 39,
     "metadata": {},
     "output_type": "execute_result"
    }
   ],
   "source": [
    "f1.read()"
   ]
  },
  {
   "cell_type": "code",
   "execution_count": 40,
   "id": "d1a26997-b498-4767-8b55-d5a9e40028ab",
   "metadata": {},
   "outputs": [
    {
     "data": {
      "text/plain": [
       "0"
      ]
     },
     "execution_count": 40,
     "metadata": {},
     "output_type": "execute_result"
    }
   ],
   "source": [
    "f1.seek(0)"
   ]
  },
  {
   "cell_type": "code",
   "execution_count": 41,
   "id": "dfdd1db5-1e95-42ef-90c3-4dbcb54225ea",
   "metadata": {},
   "outputs": [
    {
     "data": {
      "text/plain": [
       "'1) This is a test file\\n'"
      ]
     },
     "execution_count": 41,
     "metadata": {},
     "output_type": "execute_result"
    }
   ],
   "source": [
    "f1.readline()"
   ]
  },
  {
   "cell_type": "code",
   "execution_count": 42,
   "id": "c1cdebaf-6fe1-4693-97ce-f857630de672",
   "metadata": {},
   "outputs": [
    {
     "data": {
      "text/plain": [
       "'2) With multiple lines of data...\\n'"
      ]
     },
     "execution_count": 42,
     "metadata": {},
     "output_type": "execute_result"
    }
   ],
   "source": [
    "f1.readline()"
   ]
  },
  {
   "cell_type": "code",
   "execution_count": 43,
   "id": "20e87ede-8731-4b72-9730-54c63fd5e74b",
   "metadata": {},
   "outputs": [],
   "source": [
    "f1.close()"
   ]
  },
  {
   "cell_type": "code",
   "execution_count": 45,
   "id": "12958264-8be9-4770-9d2e-10bf0bb723f9",
   "metadata": {},
   "outputs": [
    {
     "data": {
      "text/plain": [
       "True"
      ]
     },
     "execution_count": 45,
     "metadata": {},
     "output_type": "execute_result"
    }
   ],
   "source": [
    "f1.closed"
   ]
  },
  {
   "cell_type": "markdown",
   "id": "f83800c7-00cc-4ba1-b639-be20e4ff4c73",
   "metadata": {},
   "source": [
    "### Context manager"
   ]
  },
  {
   "cell_type": "code",
   "execution_count": 47,
   "id": "bda5ac37-70e1-4968-bd12-bb74ac02a914",
   "metadata": {},
   "outputs": [
    {
     "name": "stdout",
     "output_type": "stream",
     "text": [
      "1) This is a test file\n",
      "2) With multiple lines of data...\n",
      "3) Third line\n",
      "4) Fourth line\n",
      "5) Fifth line\n",
      "6) Sixth line\n",
      "7) Seventh line\n",
      "8) Eighth line\n",
      "9) Ninth line\n",
      "10) Tenth line\n"
     ]
    }
   ],
   "source": [
    "with open(\"assets/test_vhzq9.txt\", 'r') as f:\n",
    "    print(f.read())"
   ]
  },
  {
   "cell_type": "code",
   "execution_count": 48,
   "id": "5dc88e13-2abe-4fc5-85bc-fca166c9454f",
   "metadata": {},
   "outputs": [
    {
     "data": {
      "text/plain": [
       "True"
      ]
     },
     "execution_count": 48,
     "metadata": {},
     "output_type": "execute_result"
    }
   ],
   "source": [
    "f.closed"
   ]
  },
  {
   "cell_type": "code",
   "execution_count": 50,
   "id": "dc0173fb-2bf4-46bc-ac17-c9b1eedaf4cb",
   "metadata": {},
   "outputs": [
    {
     "name": "stdout",
     "output_type": "stream",
     "text": [
      "1) This is a test file\n",
      "\n",
      "2) With multiple lines of data...\n",
      "\n",
      "3) Third line\n",
      "\n",
      "4) Fourth line\n",
      "\n",
      "5) Fifth line\n",
      "\n",
      "6) Sixth line\n",
      "\n",
      "7) Seventh line\n",
      "\n",
      "8) Eighth line\n",
      "\n",
      "9) Ninth line\n",
      "\n",
      "10) Tenth line\n"
     ]
    }
   ],
   "source": [
    "with open(\"assets/test_vhzq9.txt\") as f:\n",
    "    for lines in f:\n",
    "        print(lines)"
   ]
  },
  {
   "cell_type": "code",
   "execution_count": 51,
   "id": "4225a772-9cf0-47aa-9744-5ad88d44065c",
   "metadata": {},
   "outputs": [
    {
     "name": "stdout",
     "output_type": "stream",
     "text": [
      "1) This is\n"
     ]
    }
   ],
   "source": [
    "with open(\"assets/test_vhzq9.txt\", 'r') as f:\n",
    "    size = 10\n",
    "    print(f.read(size))"
   ]
  },
  {
   "cell_type": "code",
   "execution_count": 2,
   "id": "a3b66e4f-5382-4135-b914-904097c54a82",
   "metadata": {},
   "outputs": [
    {
     "name": "stdout",
     "output_type": "stream",
     "text": [
      "1) This is10\n",
      " a test fi20\n",
      "le\n",
      "2) With30\n",
      " multiple 40\n",
      "lines of d50\n",
      "ata...\n",
      "3) 60\n",
      "Third line70\n",
      "\n",
      "4) Fourth80\n",
      " line\n",
      "5) F90\n",
      "ifth line\n",
      "100\n",
      "6) Sixth l110\n",
      "ine\n",
      "7) Sev120\n",
      "enth line\n",
      "130\n",
      "8) Eighth 140\n",
      "line\n",
      "9) Ni150\n",
      "nth line\n",
      "1160\n",
      "0) Tenth l170\n",
      "ine173\n"
     ]
    }
   ],
   "source": [
    "with open(\"assets/test_vhzq9.txt\", 'r') as f:\n",
    "    size = 10\n",
    "    f_content = f.read(size)\n",
    "    while len(f_content) > 0:\n",
    "        print(f_content, end=\"\")\n",
    "        print(f.tell())\n",
    "        f_content = f.read(size)"
   ]
  },
  {
   "cell_type": "markdown",
   "id": "d53d46d5-ce81-48a3-809e-03a885094029",
   "metadata": {},
   "source": [
    "### Writing a file"
   ]
  },
  {
   "cell_type": "code",
   "execution_count": 4,
   "id": "adf9146e-b8df-4aa7-a1e1-9835e966ae94",
   "metadata": {},
   "outputs": [],
   "source": [
    "s = \"jsdkf\\nsdfjsaldfjasldfj\\nasdfjasdjfas\\nfdlakjfas\\nfajfas fasfjsflfdj faaskjfda djfasfd asdfjasfjaslfjasdfjaslf afdalsdkfjasdfajsfas dfalsdfjasldfjsaldfj safdajsfdasldf a\\n ijafjadfasdfijasf\\nsidfpsdfoifdo \\oiksdfpsdfksd\\nsksdfsfdkasdfksf\""
   ]
  },
  {
   "cell_type": "code",
   "execution_count": 5,
   "id": "c4151795-ebd7-4342-9616-f54396c441ef",
   "metadata": {},
   "outputs": [],
   "source": [
    "s1 = s.replace(\" \",\" \\n\")"
   ]
  },
  {
   "cell_type": "code",
   "execution_count": 6,
   "id": "b3c63d93-9fa5-42d9-9ca4-21a4fe0c1bc8",
   "metadata": {},
   "outputs": [],
   "source": [
    "with open(\"assets/writefile.txt\",\"w\") as f:\n",
    "    f.write(s1)"
   ]
  },
  {
   "cell_type": "markdown",
   "id": "fb05edec-2eaa-4bc5-8476-78e9fd2a50bf",
   "metadata": {},
   "source": [
    "### Appending content in a file"
   ]
  },
  {
   "cell_type": "code",
   "execution_count": 7,
   "id": "c149a79b-82d4-441f-8ac7-978b341ea5f6",
   "metadata": {},
   "outputs": [],
   "source": [
    "with open(\"assets/writefile.txt\",\"a\") as f:\n",
    "    f.write(s1)"
   ]
  },
  {
   "cell_type": "markdown",
   "id": "136efbdb-cc96-43ce-9d9a-cb4604534ca7",
   "metadata": {},
   "source": [
    "### Copy a file"
   ]
  },
  {
   "cell_type": "code",
   "execution_count": 8,
   "id": "388f1c1b-707f-463d-9793-475fa12a665f",
   "metadata": {},
   "outputs": [],
   "source": [
    "sa=\"\""
   ]
  },
  {
   "cell_type": "code",
   "execution_count": 10,
   "id": "df0b450c-33ae-4164-a550-5e6c904e4a1a",
   "metadata": {},
   "outputs": [],
   "source": [
    "with open(\"assets/test_vhzq9.txt\",\"r\") as f:\n",
    "    sa=f.read()"
   ]
  },
  {
   "cell_type": "code",
   "execution_count": 11,
   "id": "48546941-d458-4973-a4c0-7aee7d3b1970",
   "metadata": {},
   "outputs": [],
   "source": [
    "with open(\"assets/test_copy.txt\",\"w\") as f:\n",
    "    f.write(sa)"
   ]
  },
  {
   "cell_type": "code",
   "execution_count": 13,
   "id": "97f3492f-b673-4d2a-999c-3223fed3d0b9",
   "metadata": {},
   "outputs": [
    {
     "data": {
      "text/plain": [
       "True"
      ]
     },
     "execution_count": 13,
     "metadata": {},
     "output_type": "execute_result"
    }
   ],
   "source": [
    "f.closed"
   ]
  },
  {
   "cell_type": "code",
   "execution_count": 14,
   "id": "b6a30242-dae1-4e51-b2e5-0a420644f305",
   "metadata": {},
   "outputs": [],
   "source": [
    "with open(\"assets/Dog_Breeds.jpg\",\"rb\") as f1:\n",
    "    with open(\"assets/mydata.jpg\",\"wb\") as f2:\n",
    "        for l in f1:\n",
    "            f2.write(l)"
   ]
  },
  {
   "cell_type": "markdown",
   "id": "1147922a-3049-4d20-8d5f-446b3d1f3a93",
   "metadata": {},
   "source": [
    "## Text IO Wrapper methods and attributes"
   ]
  },
  {
   "cell_type": "code",
   "execution_count": 31,
   "id": "0b56693b-9f92-4699-89eb-e75b4d2b5eac",
   "metadata": {},
   "outputs": [
    {
     "name": "stdout",
     "output_type": "stream",
     "text": [
      "Help on TextIOWrapper object:\n",
      "\n",
      "class TextIOWrapper(_TextIOBase)\n",
      " |  TextIOWrapper(buffer, encoding=None, errors=None, newline=None, line_buffering=False, write_through=False)\n",
      " |  \n",
      " |  Character and line based layer over a BufferedIOBase object, buffer.\n",
      " |  \n",
      " |  encoding gives the name of the encoding that the stream will be\n",
      " |  decoded or encoded with. It defaults to locale.getpreferredencoding(False).\n",
      " |  \n",
      " |  errors determines the strictness of encoding and decoding (see\n",
      " |  help(codecs.Codec) or the documentation for codecs.register) and\n",
      " |  defaults to \"strict\".\n",
      " |  \n",
      " |  newline controls how line endings are handled. It can be None, '',\n",
      " |  '\\n', '\\r', and '\\r\\n'.  It works as follows:\n",
      " |  \n",
      " |  * On input, if newline is None, universal newlines mode is\n",
      " |    enabled. Lines in the input can end in '\\n', '\\r', or '\\r\\n', and\n",
      " |    these are translated into '\\n' before being returned to the\n",
      " |    caller. If it is '', universal newline mode is enabled, but line\n",
      " |    endings are returned to the caller untranslated. If it has any of\n",
      " |    the other legal values, input lines are only terminated by the given\n",
      " |    string, and the line ending is returned to the caller untranslated.\n",
      " |  \n",
      " |  * On output, if newline is None, any '\\n' characters written are\n",
      " |    translated to the system default line separator, os.linesep. If\n",
      " |    newline is '' or '\\n', no translation takes place. If newline is any\n",
      " |    of the other legal values, any '\\n' characters written are translated\n",
      " |    to the given string.\n",
      " |  \n",
      " |  If line_buffering is True, a call to flush is implied when a call to\n",
      " |  write contains a newline character.\n",
      " |  \n",
      " |  Method resolution order:\n",
      " |      TextIOWrapper\n",
      " |      _TextIOBase\n",
      " |      _IOBase\n",
      " |      builtins.object\n",
      " |  \n",
      " |  Methods defined here:\n",
      " |  \n",
      " |  __init__(self, /, *args, **kwargs)\n",
      " |      Initialize self.  See help(type(self)) for accurate signature.\n",
      " |  \n",
      " |  __next__(self, /)\n",
      " |      Implement next(self).\n",
      " |  \n",
      " |  __repr__(self, /)\n",
      " |      Return repr(self).\n",
      " |  \n",
      " |  close(self, /)\n",
      " |      Flush and close the IO object.\n",
      " |      \n",
      " |      This method has no effect if the file is already closed.\n",
      " |  \n",
      " |  detach(self, /)\n",
      " |      Separate the underlying buffer from the TextIOBase and return it.\n",
      " |      \n",
      " |      After the underlying buffer has been detached, the TextIO is in an\n",
      " |      unusable state.\n",
      " |  \n",
      " |  fileno(self, /)\n",
      " |      Returns underlying file descriptor if one exists.\n",
      " |      \n",
      " |      OSError is raised if the IO object does not use a file descriptor.\n",
      " |  \n",
      " |  flush(self, /)\n",
      " |      Flush write buffers, if applicable.\n",
      " |      \n",
      " |      This is not implemented for read-only and non-blocking streams.\n",
      " |  \n",
      " |  isatty(self, /)\n",
      " |      Return whether this is an 'interactive' stream.\n",
      " |      \n",
      " |      Return False if it can't be determined.\n",
      " |  \n",
      " |  read(self, size=-1, /)\n",
      " |      Read at most n characters from stream.\n",
      " |      \n",
      " |      Read from underlying buffer until we have n characters or we hit EOF.\n",
      " |      If n is negative or omitted, read until EOF.\n",
      " |  \n",
      " |  readable(self, /)\n",
      " |      Return whether object was opened for reading.\n",
      " |      \n",
      " |      If False, read() will raise OSError.\n",
      " |  \n",
      " |  readline(self, size=-1, /)\n",
      " |      Read until newline or EOF.\n",
      " |      \n",
      " |      Returns an empty string if EOF is hit immediately.\n",
      " |  \n",
      " |  reconfigure(self, /, *, encoding=None, errors=None, newline=None, line_buffering=None, write_through=None)\n",
      " |      Reconfigure the text stream with new parameters.\n",
      " |      \n",
      " |      This also does an implicit stream flush.\n",
      " |  \n",
      " |  seek(self, cookie, whence=0, /)\n",
      " |      Change stream position.\n",
      " |      \n",
      " |      Change the stream position to the given byte offset. The offset is\n",
      " |      interpreted relative to the position indicated by whence.  Values\n",
      " |      for whence are:\n",
      " |      \n",
      " |      * 0 -- start of stream (the default); offset should be zero or positive\n",
      " |      * 1 -- current stream position; offset may be negative\n",
      " |      * 2 -- end of stream; offset is usually negative\n",
      " |      \n",
      " |      Return the new absolute position.\n",
      " |  \n",
      " |  seekable(self, /)\n",
      " |      Return whether object supports random access.\n",
      " |      \n",
      " |      If False, seek(), tell() and truncate() will raise OSError.\n",
      " |      This method may need to do a test seek().\n",
      " |  \n",
      " |  tell(self, /)\n",
      " |      Return current stream position.\n",
      " |  \n",
      " |  truncate(self, pos=None, /)\n",
      " |      Truncate file to size bytes.\n",
      " |      \n",
      " |      File pointer is left unchanged.  Size defaults to the current IO\n",
      " |      position as reported by tell().  Returns the new size.\n",
      " |  \n",
      " |  writable(self, /)\n",
      " |      Return whether object was opened for writing.\n",
      " |      \n",
      " |      If False, write() will raise OSError.\n",
      " |  \n",
      " |  write(self, text, /)\n",
      " |      Write string to stream.\n",
      " |      Returns the number of characters written (which is always equal to\n",
      " |      the length of the string).\n",
      " |  \n",
      " |  ----------------------------------------------------------------------\n",
      " |  Static methods defined here:\n",
      " |  \n",
      " |  __new__(*args, **kwargs) from builtins.type\n",
      " |      Create and return a new object.  See help(type) for accurate signature.\n",
      " |  \n",
      " |  ----------------------------------------------------------------------\n",
      " |  Data descriptors defined here:\n",
      " |  \n",
      " |  buffer\n",
      " |  \n",
      " |  closed\n",
      " |  \n",
      " |  encoding\n",
      " |      Encoding of the text stream.\n",
      " |      \n",
      " |      Subclasses should override.\n",
      " |  \n",
      " |  errors\n",
      " |      The error setting of the decoder or encoder.\n",
      " |      \n",
      " |      Subclasses should override.\n",
      " |  \n",
      " |  line_buffering\n",
      " |  \n",
      " |  name\n",
      " |  \n",
      " |  newlines\n",
      " |      Line endings translated so far.\n",
      " |      \n",
      " |      Only line endings translated during reading are considered.\n",
      " |      \n",
      " |      Subclasses should override.\n",
      " |  \n",
      " |  write_through\n",
      " |  \n",
      " |  ----------------------------------------------------------------------\n",
      " |  Methods inherited from _IOBase:\n",
      " |  \n",
      " |  __del__(...)\n",
      " |  \n",
      " |  __enter__(...)\n",
      " |  \n",
      " |  __exit__(...)\n",
      " |  \n",
      " |  __iter__(self, /)\n",
      " |      Implement iter(self).\n",
      " |  \n",
      " |  readlines(self, hint=-1, /)\n",
      " |      Return a list of lines from the stream.\n",
      " |      \n",
      " |      hint can be specified to control the number of lines read: no more\n",
      " |      lines will be read if the total size (in bytes/characters) of all\n",
      " |      lines so far exceeds hint.\n",
      " |  \n",
      " |  writelines(self, lines, /)\n",
      " |      Write a list of lines to stream.\n",
      " |      \n",
      " |      Line separators are not added, so it is usual for each of the\n",
      " |      lines provided to have a line separator at the end.\n",
      " |  \n",
      " |  ----------------------------------------------------------------------\n",
      " |  Data descriptors inherited from _IOBase:\n",
      " |  \n",
      " |  __dict__\n",
      "\n"
     ]
    }
   ],
   "source": [
    "help(f1)"
   ]
  },
  {
   "cell_type": "code",
   "execution_count": null,
   "id": "3ddec8a9-880b-48a1-81a0-286a26ea91e0",
   "metadata": {},
   "outputs": [],
   "source": []
  }
 ],
 "metadata": {
  "kernelspec": {
   "display_name": "Python 3 (ipykernel)",
   "language": "python",
   "name": "python3"
  },
  "language_info": {
   "codemirror_mode": {
    "name": "ipython",
    "version": 3
   },
   "file_extension": ".py",
   "mimetype": "text/x-python",
   "name": "python",
   "nbconvert_exporter": "python",
   "pygments_lexer": "ipython3",
   "version": "3.9.13"
  }
 },
 "nbformat": 4,
 "nbformat_minor": 5
}
