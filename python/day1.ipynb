{
 "cells": [
  {
   "cell_type": "code",
   "execution_count": 1,
   "id": "816bce6f-ba54-4eea-818a-04b9ed33ac69",
   "metadata": {},
   "outputs": [],
   "source": [
    "a=20"
   ]
  },
  {
   "cell_type": "code",
   "execution_count": 2,
   "id": "57a0963c-5fe4-4d13-8751-8dd4e68311d3",
   "metadata": {},
   "outputs": [
    {
     "data": {
      "text/plain": [
       "int"
      ]
     },
     "execution_count": 2,
     "metadata": {},
     "output_type": "execute_result"
    }
   ],
   "source": [
    "type(a)"
   ]
  },
  {
   "cell_type": "code",
   "execution_count": 3,
   "id": "304c9cfd-06ca-4017-a96a-902c766de28f",
   "metadata": {},
   "outputs": [
    {
     "data": {
      "text/plain": [
       "str"
      ]
     },
     "execution_count": 3,
     "metadata": {},
     "output_type": "execute_result"
    }
   ],
   "source": [
    "type(\"India\")"
   ]
  },
  {
   "cell_type": "code",
   "execution_count": 4,
   "id": "7ccc97fe-7010-4ce4-9e95-1bd03ea09510",
   "metadata": {},
   "outputs": [
    {
     "data": {
      "text/plain": [
       "float"
      ]
     },
     "execution_count": 4,
     "metadata": {},
     "output_type": "execute_result"
    }
   ],
   "source": [
    "type(9.34)"
   ]
  },
  {
   "cell_type": "markdown",
   "id": "36ccb5b9-30ee-4ce8-8e39-b6cd1511f5a1",
   "metadata": {},
   "source": [
    "## Details of python\n",
    "\n",
    "- Pure object oriented\n",
    "- Implicit\n",
    "- Not type safe / loosely type"
   ]
  },
  {
   "cell_type": "code",
   "execution_count": 5,
   "id": "0d49b3ab-c1b5-44fa-bcbd-6bd19b1db49f",
   "metadata": {},
   "outputs": [
    {
     "data": {
      "text/plain": [
       "str"
      ]
     },
     "execution_count": 5,
     "metadata": {},
     "output_type": "execute_result"
    }
   ],
   "source": [
    "a: str = \"hello\"\n",
    "type(a)"
   ]
  },
  {
   "cell_type": "code",
   "execution_count": 6,
   "id": "7becf933-0b2d-4846-82a9-398b3c36c6c2",
   "metadata": {},
   "outputs": [],
   "source": [
    "a=1"
   ]
  },
  {
   "cell_type": "code",
   "execution_count": 7,
   "id": "51b4badd-08cf-457c-8b32-c1fe51c34b57",
   "metadata": {},
   "outputs": [
    {
     "data": {
      "text/plain": [
       "1"
      ]
     },
     "execution_count": 7,
     "metadata": {},
     "output_type": "execute_result"
    }
   ],
   "source": [
    "a"
   ]
  },
  {
   "cell_type": "markdown",
   "id": "05c67d76-4a15-4adb-8815-544705a60e05",
   "metadata": {},
   "source": [
    "## Datatypes\n",
    "\n",
    "### 1. Simple\n",
    "- int\n",
    "- float\n",
    "\n",
    "### 2. Complex\n",
    "- str\n",
    "- list\n",
    "- dict\n",
    "- set\n",
    "- tuple"
   ]
  },
  {
   "cell_type": "code",
   "execution_count": 8,
   "id": "eaaa0574-03eb-438d-8d04-b5035ce975aa",
   "metadata": {},
   "outputs": [],
   "source": [
    "z='a'"
   ]
  },
  {
   "cell_type": "code",
   "execution_count": 10,
   "id": "ab3c54a7-7717-4865-a6ca-ef83aa65f96a",
   "metadata": {},
   "outputs": [
    {
     "data": {
      "text/plain": [
       "str"
      ]
     },
     "execution_count": 10,
     "metadata": {},
     "output_type": "execute_result"
    }
   ],
   "source": [
    "type(z)"
   ]
  },
  {
   "cell_type": "code",
   "execution_count": 11,
   "id": "ec3496b0-464e-49c0-bb1c-d24007707662",
   "metadata": {},
   "outputs": [
    {
     "data": {
      "text/plain": [
       "bool"
      ]
     },
     "execution_count": 11,
     "metadata": {},
     "output_type": "execute_result"
    }
   ],
   "source": [
    "type(True)"
   ]
  },
  {
   "cell_type": "code",
   "execution_count": 14,
   "id": "094674a4-692a-4c6f-a474-9535910f91b2",
   "metadata": {},
   "outputs": [],
   "source": [
    "l=-10"
   ]
  },
  {
   "cell_type": "code",
   "execution_count": 15,
   "id": "f9b1fe30-11ed-43d4-8d03-026d439f3a2d",
   "metadata": {},
   "outputs": [
    {
     "name": "stdout",
     "output_type": "stream",
     "text": [
      "-10 is a negative number\n"
     ]
    }
   ],
   "source": [
    "if l>0:\n",
    "    print(f\"{l} is a positive number\")\n",
    "else:\n",
    "    print(f\"{l} is a negative number\")"
   ]
  },
  {
   "cell_type": "code",
   "execution_count": 19,
   "id": "ba3fe867-b21b-4d76-8eec-e27a5851c63e",
   "metadata": {},
   "outputs": [],
   "source": [
    "s=\"HELLO\""
   ]
  },
  {
   "cell_type": "code",
   "execution_count": 21,
   "id": "98dcaff6-d3e9-4f01-8fa5-0a49211b49fd",
   "metadata": {},
   "outputs": [
    {
     "name": "stdout",
     "output_type": "stream",
     "text": [
      "Upper case found\n"
     ]
    }
   ],
   "source": [
    "if s.isupper():\n",
    "    print(\"Upper case found\")\n",
    "else:\n",
    "    print(\"noupper case found\")"
   ]
  },
  {
   "cell_type": "code",
   "execution_count": 16,
   "id": "22a6dfab-1989-440b-b9d3-9d5a7b6e3984",
   "metadata": {},
   "outputs": [
    {
     "name": "stdout",
     "output_type": "stream",
     "text": [
      "5\n",
      "4\n",
      "3\n",
      "2\n",
      "1\n",
      "Loop completed\n"
     ]
    }
   ],
   "source": [
    "count=5\n",
    "while count>0:\n",
    "    print(count)\n",
    "    count-=1\n",
    "else:\n",
    "    print(\"Loop completed\")"
   ]
  },
  {
   "cell_type": "code",
   "execution_count": 24,
   "id": "021bd7c8-db14-4f90-b828-45509372c445",
   "metadata": {},
   "outputs": [],
   "source": [
    "a=\"100\""
   ]
  },
  {
   "cell_type": "code",
   "execution_count": 25,
   "id": "bf4260e7-4843-4a93-9d83-e78e64b093d5",
   "metadata": {},
   "outputs": [
    {
     "data": {
      "text/plain": [
       "'100hello'"
      ]
     },
     "execution_count": 25,
     "metadata": {},
     "output_type": "execute_result"
    }
   ],
   "source": [
    "a+\"hello\""
   ]
  },
  {
   "cell_type": "code",
   "execution_count": 36,
   "id": "50126e32-700d-435b-96de-d2f52240a058",
   "metadata": {},
   "outputs": [
    {
     "name": "stdout",
     "output_type": "stream",
     "text": [
      "Hello  100\n"
     ]
    }
   ],
   "source": [
    "print(\"Hello % u\" % 100)"
   ]
  },
  {
   "cell_type": "code",
   "execution_count": 49,
   "id": "fcc21c90-9220-4ddb-a8ea-0ce10944b46a",
   "metadata": {},
   "outputs": [
    {
     "name": "stdout",
     "output_type": "stream",
     "text": [
      "Hello  700\n"
     ]
    }
   ],
   "source": [
    "print(\"Hello % i\" % 700)"
   ]
  },
  {
   "cell_type": "code",
   "execution_count": 33,
   "id": "dea3bcd8-efdc-41a6-a7fa-b0e624ebb86f",
   "metadata": {},
   "outputs": [
    {
     "data": {
      "text/plain": [
       "[1, 2, 3, 4]"
      ]
     },
     "execution_count": 33,
     "metadata": {},
     "output_type": "execute_result"
    }
   ],
   "source": [
    "[1,2]+[3,4]"
   ]
  },
  {
   "cell_type": "code",
   "execution_count": 37,
   "id": "d1d0af05-f052-4e48-af12-d8482e1cc9e1",
   "metadata": {},
   "outputs": [
    {
     "name": "stdout",
     "output_type": "stream",
     "text": [
      "hello world\n"
     ]
    }
   ],
   "source": [
    "print(\"{} {}\".format(\"hello\",\"world\"))"
   ]
  },
  {
   "cell_type": "code",
   "execution_count": 38,
   "id": "ee1071e3-4d19-491e-987a-a2a877b55ad6",
   "metadata": {},
   "outputs": [
    {
     "name": "stdout",
     "output_type": "stream",
     "text": [
      "hello 1234\n"
     ]
    }
   ],
   "source": [
    "print(\"{} {}\".format(\"hello\",1234))"
   ]
  },
  {
   "cell_type": "code",
   "execution_count": 39,
   "id": "ceea26f1-0269-4afa-804e-446e8cad4c45",
   "metadata": {},
   "outputs": [
    {
     "name": "stdout",
     "output_type": "stream",
     "text": [
      "hello [1, 2, 3]\n"
     ]
    }
   ],
   "source": [
    "print(\"{} {}\".format(\"hello\",[1,2,3]))"
   ]
  },
  {
   "cell_type": "code",
   "execution_count": 40,
   "id": "4593eab9-1af2-49c3-92f9-6f1b2504fa38",
   "metadata": {},
   "outputs": [
    {
     "name": "stdout",
     "output_type": "stream",
     "text": [
      "hello {'abc': 123}\n"
     ]
    }
   ],
   "source": [
    "print(\"{} {}\".format(\"hello\",{\"abc\":123}))"
   ]
  },
  {
   "cell_type": "code",
   "execution_count": 50,
   "id": "b69929af-74a2-4215-8881-9bbcfb806eca",
   "metadata": {},
   "outputs": [],
   "source": [
    "n1=\"Edureka\"\n",
    "n2=\"Hello\""
   ]
  },
  {
   "cell_type": "code",
   "execution_count": 51,
   "id": "61ae5a4d-a2c6-4d8d-9bc6-e03166cde1ff",
   "metadata": {},
   "outputs": [
    {
     "name": "stdout",
     "output_type": "stream",
     "text": [
      "Hello This is Edureka\n"
     ]
    }
   ],
   "source": [
    "print(f\"{n2} This is {n1}\")"
   ]
  },
  {
   "cell_type": "code",
   "execution_count": 54,
   "id": "44c7bdd0-e0ee-4823-9a48-b1d1f83445e8",
   "metadata": {},
   "outputs": [],
   "source": [
    "from string import Template\n",
    "\n",
    "n1=\"Hello\"\n",
    "n2=\"edureka\"\n",
    "\n",
    "n= Template(\"$n2 This is $n3\")"
   ]
  },
  {
   "cell_type": "code",
   "execution_count": 56,
   "id": "d5a19850-7e83-4aa5-ab9e-318a0ff07d83",
   "metadata": {},
   "outputs": [
    {
     "data": {
      "text/plain": [
       "'Hello This is edureka'"
      ]
     },
     "execution_count": 56,
     "metadata": {},
     "output_type": "execute_result"
    }
   ],
   "source": [
    "n.substitute(n2=n1,n3=n2)"
   ]
  },
  {
   "cell_type": "code",
   "execution_count": 57,
   "id": "f811992a-037e-43d1-a355-b60d7626fe7d",
   "metadata": {},
   "outputs": [
    {
     "data": {
      "text/plain": [
       "140668191550528"
      ]
     },
     "execution_count": 57,
     "metadata": {},
     "output_type": "execute_result"
    }
   ],
   "source": [
    "id(n)"
   ]
  },
  {
   "cell_type": "code",
   "execution_count": 58,
   "id": "ce408d0d-0c2f-4b76-bc8f-01c69f033d3f",
   "metadata": {},
   "outputs": [
    {
     "data": {
      "text/plain": [
       "140668236073552"
      ]
     },
     "execution_count": 58,
     "metadata": {},
     "output_type": "execute_result"
    }
   ],
   "source": [
    "a=10\n",
    "id(a)"
   ]
  },
  {
   "cell_type": "code",
   "execution_count": 59,
   "id": "07819933-b0c3-43f5-a087-6d0c05a8ddcb",
   "metadata": {},
   "outputs": [
    {
     "data": {
      "text/plain": [
       "140668236073712"
      ]
     },
     "execution_count": 59,
     "metadata": {},
     "output_type": "execute_result"
    }
   ],
   "source": [
    "a=15\n",
    "id(a)"
   ]
  },
  {
   "cell_type": "code",
   "execution_count": 68,
   "id": "7bb0f619-fd4b-41d2-8165-048a57bbb6e6",
   "metadata": {},
   "outputs": [
    {
     "data": {
      "text/plain": [
       "7637952"
      ]
     },
     "execution_count": 68,
     "metadata": {},
     "output_type": "execute_result"
    }
   ],
   "source": [
    "o=True\n",
    "id(o)"
   ]
  },
  {
   "cell_type": "code",
   "execution_count": 69,
   "id": "c3175fe4-29c9-4fcf-a7df-52f7b7177891",
   "metadata": {},
   "outputs": [
    {
     "data": {
      "text/plain": [
       "7637920"
      ]
     },
     "execution_count": 69,
     "metadata": {},
     "output_type": "execute_result"
    }
   ],
   "source": [
    "o=False\n",
    "id(o)"
   ]
  },
  {
   "cell_type": "code",
   "execution_count": 70,
   "id": "438ef23f-34a5-46a3-ba67-86eae2075435",
   "metadata": {},
   "outputs": [
    {
     "data": {
      "text/plain": [
       "140668169780224"
      ]
     },
     "execution_count": 70,
     "metadata": {},
     "output_type": "execute_result"
    }
   ],
   "source": [
    "il=[1,2,3,4]\n",
    "id(il)"
   ]
  },
  {
   "cell_type": "code",
   "execution_count": 71,
   "id": "c0b5b98e-2885-4e59-8599-2d7fbe2dac8c",
   "metadata": {},
   "outputs": [
    {
     "data": {
      "text/plain": [
       "140668169780224"
      ]
     },
     "execution_count": 71,
     "metadata": {},
     "output_type": "execute_result"
    }
   ],
   "source": [
    "il.append(5)\n",
    "id(il)"
   ]
  },
  {
   "cell_type": "code",
   "execution_count": 77,
   "id": "33d02255-1982-4b9c-9f9c-0686eb96035e",
   "metadata": {},
   "outputs": [
    {
     "data": {
      "text/plain": [
       "140668187716880"
      ]
     },
     "execution_count": 77,
     "metadata": {},
     "output_type": "execute_result"
    }
   ],
   "source": [
    "it=(1,2,3,4,5)\n",
    "id(it)"
   ]
  },
  {
   "cell_type": "code",
   "execution_count": 78,
   "id": "1095c1fd-83f7-45aa-a63f-52592919f05b",
   "metadata": {},
   "outputs": [
    {
     "data": {
      "text/plain": [
       "140668210596768"
      ]
     },
     "execution_count": 78,
     "metadata": {},
     "output_type": "execute_result"
    }
   ],
   "source": [
    "it+=(7,8,9,)\n",
    "id(it)"
   ]
  },
  {
   "cell_type": "code",
   "execution_count": 79,
   "id": "c764516c-f21e-49ae-b151-d4a9b17a4833",
   "metadata": {},
   "outputs": [],
   "source": [
    "nums = [1,4,5,6,-100,100,4,39]"
   ]
  },
  {
   "cell_type": "code",
   "execution_count": 80,
   "id": "63e88e8d-5caa-4ede-8944-902e541253da",
   "metadata": {},
   "outputs": [],
   "source": [
    "nums.append(23)"
   ]
  },
  {
   "cell_type": "code",
   "execution_count": 90,
   "id": "d227bb85-c8b1-47bd-a439-8632c92ca48a",
   "metadata": {},
   "outputs": [],
   "source": [
    "nums.insert(1,93)"
   ]
  },
  {
   "cell_type": "code",
   "execution_count": 91,
   "id": "e3b7596f-26e2-4dde-8bd3-86cc6a2f2032",
   "metadata": {},
   "outputs": [
    {
     "data": {
      "text/plain": [
       "[1, 93, 4, 5, 6, 1, -100, 100, 4, 39, 23, 2, 2, 2]"
      ]
     },
     "execution_count": 91,
     "metadata": {},
     "output_type": "execute_result"
    }
   ],
   "source": [
    "nums"
   ]
  },
  {
   "cell_type": "code",
   "execution_count": 92,
   "id": "a29d7e1e-6602-4da2-b508-ea37aade5d89",
   "metadata": {},
   "outputs": [],
   "source": [
    "nums.insert(3,[1,2,-90])"
   ]
  },
  {
   "cell_type": "code",
   "execution_count": 93,
   "id": "aba8dc85-aa91-4bb3-8271-8c2a90cd00b9",
   "metadata": {},
   "outputs": [
    {
     "data": {
      "text/plain": [
       "[1, 93, 4, [1, 2, -90], 5, 6, 1, -100, 100, 4, 39, 23, 2, 2, 2]"
      ]
     },
     "execution_count": 93,
     "metadata": {},
     "output_type": "execute_result"
    }
   ],
   "source": [
    "nums"
   ]
  },
  {
   "cell_type": "code",
   "execution_count": 96,
   "id": "d7cafdd5-2c0b-40ba-9c63-cd358ed1b51a",
   "metadata": {},
   "outputs": [
    {
     "data": {
      "text/plain": [
       "2"
      ]
     },
     "execution_count": 96,
     "metadata": {},
     "output_type": "execute_result"
    }
   ],
   "source": [
    "nums[3].pop(1)"
   ]
  },
  {
   "cell_type": "code",
   "execution_count": 97,
   "id": "3b3137c5-54b1-4042-80cb-84df9cd64fa2",
   "metadata": {},
   "outputs": [
    {
     "data": {
      "text/plain": [
       "[1, 93, 4, [1], 5, 6, 1, -100, 100, 4, 39, 23, 2, 2, 2]"
      ]
     },
     "execution_count": 97,
     "metadata": {},
     "output_type": "execute_result"
    }
   ],
   "source": [
    "nums"
   ]
  },
  {
   "cell_type": "code",
   "execution_count": 98,
   "id": "67a88a3f-edbd-4d59-be49-80c066c4c853",
   "metadata": {},
   "outputs": [],
   "source": [
    "del nums[3]"
   ]
  },
  {
   "cell_type": "code",
   "execution_count": 99,
   "id": "eb98d4a3-f6c6-4460-8227-3a3e7e6ce20a",
   "metadata": {},
   "outputs": [
    {
     "data": {
      "text/plain": [
       "[1, 93, 4, 5, 6, 1, -100, 100, 4, 39, 23, 2, 2, 2]"
      ]
     },
     "execution_count": 99,
     "metadata": {},
     "output_type": "execute_result"
    }
   ],
   "source": [
    "nums"
   ]
  },
  {
   "cell_type": "code",
   "execution_count": 101,
   "id": "bf6c7e86-3b9f-4c9d-b09d-f7e9ae4e20db",
   "metadata": {},
   "outputs": [
    {
     "name": "stdout",
     "output_type": "stream",
     "text": [
      "1\n",
      "93\n",
      "4\n",
      "5\n",
      "6\n",
      "1\n",
      "-100\n",
      "100\n",
      "4\n",
      "39\n",
      "23\n",
      "2\n",
      "2\n",
      "2\n",
      "Loop ended successfully ..................................\n"
     ]
    }
   ],
   "source": [
    "for i in nums:\n",
    "    print(i)\n",
    "else:\n",
    "    print(\"Loop ended successfully\",\".\"*34)"
   ]
  },
  {
   "cell_type": "markdown",
   "id": "ac2d0acd-c84b-4ace-9da6-40aea981fcc7",
   "metadata": {},
   "source": [
    "## List slicing"
   ]
  },
  {
   "cell_type": "code",
   "execution_count": 102,
   "id": "eead9985-4e8b-4be5-80bb-c2eba31319da",
   "metadata": {},
   "outputs": [
    {
     "data": {
      "text/plain": [
       "[4, 5, 6]"
      ]
     },
     "execution_count": 102,
     "metadata": {},
     "output_type": "execute_result"
    }
   ],
   "source": [
    "nums[2:5]"
   ]
  },
  {
   "cell_type": "code",
   "execution_count": 103,
   "id": "5220245c-0eb3-4a99-ab5a-380b2d2ad0a3",
   "metadata": {},
   "outputs": [
    {
     "data": {
      "text/plain": [
       "[4, 5, 6, 1, -100, 100, 4, 39, 23, 2, 2, 2]"
      ]
     },
     "execution_count": 103,
     "metadata": {},
     "output_type": "execute_result"
    }
   ],
   "source": [
    "nums[2:]"
   ]
  },
  {
   "cell_type": "code",
   "execution_count": 104,
   "id": "16a68053-1deb-4ddc-8687-f282930f067a",
   "metadata": {},
   "outputs": [
    {
     "data": {
      "text/plain": [
       "[1, 93, 4, 5, 6, 1, -100, 100, 4]"
      ]
     },
     "execution_count": 104,
     "metadata": {},
     "output_type": "execute_result"
    }
   ],
   "source": [
    "nums[:9]"
   ]
  },
  {
   "cell_type": "code",
   "execution_count": 105,
   "id": "87e54f77-3773-4cff-886e-6f9033341975",
   "metadata": {},
   "outputs": [
    {
     "data": {
      "text/plain": [
       "[2, 2, 2, 23, 39, 4, 100, -100, 1, 6, 5, 4, 93, 1]"
      ]
     },
     "execution_count": 105,
     "metadata": {},
     "output_type": "execute_result"
    }
   ],
   "source": [
    "nums[::-1]"
   ]
  },
  {
   "cell_type": "code",
   "execution_count": 106,
   "id": "ad01d9aa-bd62-4929-86f3-94e702a29556",
   "metadata": {},
   "outputs": [
    {
     "data": {
      "text/plain": [
       "[1, 93, 4, 5, 6, 1, -100, 100, 4, 39, 23, 2, 2, 2]"
      ]
     },
     "execution_count": 106,
     "metadata": {},
     "output_type": "execute_result"
    }
   ],
   "source": [
    "nums"
   ]
  },
  {
   "cell_type": "code",
   "execution_count": 107,
   "id": "2ca9bdd8-cf88-4c38-98cb-875677207d9b",
   "metadata": {},
   "outputs": [
    {
     "data": {
      "text/plain": [
       "[2, 2, 39, 100, 1, 5, 93]"
      ]
     },
     "execution_count": 107,
     "metadata": {},
     "output_type": "execute_result"
    }
   ],
   "source": [
    "nums[::-2]"
   ]
  },
  {
   "cell_type": "code",
   "execution_count": 108,
   "id": "3dc6617c-9189-46c2-b794-d65ea87dedcc",
   "metadata": {},
   "outputs": [],
   "source": [
    "nums[0]=200"
   ]
  },
  {
   "cell_type": "code",
   "execution_count": 110,
   "id": "5b3044f0-7c3c-4f6e-8b57-a83fd2228f27",
   "metadata": {},
   "outputs": [],
   "source": [
    "nums.clear()"
   ]
  },
  {
   "cell_type": "code",
   "execution_count": 111,
   "id": "80ca404f-8688-4af9-b538-321dd31ea064",
   "metadata": {},
   "outputs": [
    {
     "data": {
      "text/plain": [
       "[]"
      ]
     },
     "execution_count": 111,
     "metadata": {},
     "output_type": "execute_result"
    }
   ],
   "source": [
    "nums"
   ]
  },
  {
   "cell_type": "code",
   "execution_count": 113,
   "id": "7944de58-bad5-471a-b38b-e56a875d6656",
   "metadata": {},
   "outputs": [
    {
     "data": {
      "text/plain": [
       "[1, 2, 3, 4, 5, 6, 7, 8, 9, 10]"
      ]
     },
     "execution_count": 113,
     "metadata": {},
     "output_type": "execute_result"
    }
   ],
   "source": [
    "[i for i in range(1,11)]"
   ]
  },
  {
   "cell_type": "code",
   "execution_count": 116,
   "id": "42fbffff-58f0-4503-b1f9-8a81c56ad32d",
   "metadata": {},
   "outputs": [
    {
     "data": {
      "text/plain": [
       "[1, 2, 3, 5]"
      ]
     },
     "execution_count": 116,
     "metadata": {},
     "output_type": "execute_result"
    }
   ],
   "source": [
    "a=[1,2,3]\n",
    "b=a\n",
    "b.append(5)\n",
    "a"
   ]
  },
  {
   "cell_type": "code",
   "execution_count": 118,
   "id": "e454d9ca-992f-4d32-9f12-aee15391fb31",
   "metadata": {},
   "outputs": [
    {
     "name": "stdout",
     "output_type": "stream",
     "text": [
      "140668170251840 140668170251840\n"
     ]
    }
   ],
   "source": [
    "print(id(a), id(b))"
   ]
  },
  {
   "cell_type": "code",
   "execution_count": 126,
   "id": "d795fa15-569a-4777-9ce4-ec5f0586419a",
   "metadata": {},
   "outputs": [],
   "source": [
    "fl = [\"jasmine\", \"rose\", \"sunflower\", \"lily\", \"lotus\",\"als\"]\n",
    "f3 = [ x for x in fl ]"
   ]
  },
  {
   "cell_type": "code",
   "execution_count": 121,
   "id": "f1ce6b30-7fde-492a-af58-0d76c8241c46",
   "metadata": {},
   "outputs": [
    {
     "data": {
      "text/plain": [
       "['jasmine', 'rose', 'sunflower', 'lily', 'lotus']"
      ]
     },
     "execution_count": 121,
     "metadata": {},
     "output_type": "execute_result"
    }
   ],
   "source": [
    "f3"
   ]
  },
  {
   "cell_type": "code",
   "execution_count": 124,
   "id": "782cfd90-cd5d-4dbe-9fc2-76bd5db472d0",
   "metadata": {},
   "outputs": [
    {
     "data": {
      "text/plain": [
       "['JASMINE', 'ROSE', 'SUNFLOWER', 'LILY', 'LOTUS']"
      ]
     },
     "execution_count": 124,
     "metadata": {},
     "output_type": "execute_result"
    }
   ],
   "source": [
    "f4 = [ x.upper() for x in fl ]\n",
    "f4"
   ]
  },
  {
   "cell_type": "code",
   "execution_count": 125,
   "id": "5b7de6e1-6648-4730-8d8d-a985e51ce34b",
   "metadata": {},
   "outputs": [
    {
     "data": {
      "text/plain": [
       "[-1, -2, -3, -4, -5]"
      ]
     },
     "execution_count": 125,
     "metadata": {},
     "output_type": "execute_result"
    }
   ],
   "source": [
    "l1 = [1,2,3,4,5,-1,-2,-3,-4,-5]\n",
    "[x for x in l1 if x<0]"
   ]
  },
  {
   "cell_type": "code",
   "execution_count": 128,
   "id": "4af5ebc4-943f-4805-8f13-bd16ca4f93f2",
   "metadata": {},
   "outputs": [
    {
     "data": {
      "text/plain": [
       "['als']"
      ]
     },
     "execution_count": 128,
     "metadata": {},
     "output_type": "execute_result"
    }
   ],
   "source": [
    "[x for x in fl if x[0]=='a']"
   ]
  },
  {
   "cell_type": "code",
   "execution_count": 129,
   "id": "5471cfdc-f992-4f19-8b02-873d384d6f32",
   "metadata": {},
   "outputs": [
    {
     "data": {
      "text/plain": [
       "['jasmine', 'sunflower', 'lotus']"
      ]
     },
     "execution_count": 129,
     "metadata": {},
     "output_type": "execute_result"
    }
   ],
   "source": [
    "[x for x in fl if len(x)>4]"
   ]
  },
  {
   "cell_type": "markdown",
   "id": "becdd283-3f05-44c0-bf30-cb5186957c59",
   "metadata": {},
   "source": [
    "## Check `in` operator"
   ]
  },
  {
   "cell_type": "code",
   "execution_count": 131,
   "id": "b7097bbf-42f2-427c-b14a-733d4c8066c4",
   "metadata": {},
   "outputs": [
    {
     "data": {
      "text/plain": [
       "True"
      ]
     },
     "execution_count": 131,
     "metadata": {},
     "output_type": "execute_result"
    }
   ],
   "source": [
    "\"2\" in \"12\""
   ]
  },
  {
   "cell_type": "code",
   "execution_count": 134,
   "id": "d6494c7c-950a-437e-ae27-8ab6c57eaedf",
   "metadata": {},
   "outputs": [
    {
     "data": {
      "text/plain": [
       "[]"
      ]
     },
     "execution_count": 134,
     "metadata": {},
     "output_type": "execute_result"
    }
   ],
   "source": [
    "nums"
   ]
  },
  {
   "cell_type": "code",
   "execution_count": 133,
   "id": "a30318e7-4d25-469d-b459-80bb5ba31009",
   "metadata": {},
   "outputs": [
    {
     "data": {
      "text/plain": [
       "True"
      ]
     },
     "execution_count": 133,
     "metadata": {},
     "output_type": "execute_result"
    }
   ],
   "source": [
    "-100 not in nums"
   ]
  },
  {
   "cell_type": "markdown",
   "id": "9ed1989a-d372-4a31-a7aa-0b8ca0524cf4",
   "metadata": {},
   "source": [
    "## tuple"
   ]
  },
  {
   "cell_type": "code",
   "execution_count": 135,
   "id": "5d569a9d-c1b3-41e5-b36b-e2af29f0fd4d",
   "metadata": {},
   "outputs": [],
   "source": [
    "a=(12, 12, 12, 34, 34, 34, 34, 56, 56, 89)"
   ]
  },
  {
   "cell_type": "code",
   "execution_count": 136,
   "id": "6ab931cc-1029-4124-842d-a466fe3adc35",
   "metadata": {},
   "outputs": [
    {
     "data": {
      "text/plain": [
       "(12, 12, 12, 34, 34, 34, 34, 56, 56, 89)"
      ]
     },
     "execution_count": 136,
     "metadata": {},
     "output_type": "execute_result"
    }
   ],
   "source": [
    "a"
   ]
  },
  {
   "cell_type": "code",
   "execution_count": 139,
   "id": "022d86e7-4df4-4bac-a5d8-6ac1e03c09f9",
   "metadata": {},
   "outputs": [
    {
     "data": {
      "text/plain": [
       "3"
      ]
     },
     "execution_count": 139,
     "metadata": {},
     "output_type": "execute_result"
    }
   ],
   "source": [
    "a.index(34)"
   ]
  },
  {
   "cell_type": "code",
   "execution_count": 140,
   "id": "d465279b-6a48-4136-aeee-5ba20eb6e2e1",
   "metadata": {},
   "outputs": [
    {
     "data": {
      "text/plain": [
       "(12, 34, 34)"
      ]
     },
     "execution_count": 140,
     "metadata": {},
     "output_type": "execute_result"
    }
   ],
   "source": [
    "a[2:5]"
   ]
  },
  {
   "cell_type": "code",
   "execution_count": 141,
   "id": "6ba03c15-8444-4ca4-b768-098bb4a4033e",
   "metadata": {},
   "outputs": [
    {
     "data": {
      "text/plain": [
       "(89, 56, 56, 34, 34, 34, 34, 12, 12, 12)"
      ]
     },
     "execution_count": 141,
     "metadata": {},
     "output_type": "execute_result"
    }
   ],
   "source": [
    "a[::-1]"
   ]
  },
  {
   "cell_type": "code",
   "execution_count": 142,
   "id": "ba3dbc1b-4aa2-4ab7-b4a5-add611a27f9e",
   "metadata": {},
   "outputs": [
    {
     "data": {
      "text/plain": [
       "(23, 34, 45, 45)"
      ]
     },
     "execution_count": 142,
     "metadata": {},
     "output_type": "execute_result"
    }
   ],
   "source": [
    "(23,34)+(45,45)"
   ]
  },
  {
   "cell_type": "code",
   "execution_count": 145,
   "id": "079cc945-6751-42d9-800a-87fc14ecf5fd",
   "metadata": {},
   "outputs": [
    {
     "data": {
      "text/plain": [
       "[23, 23]"
      ]
     },
     "execution_count": 145,
     "metadata": {},
     "output_type": "execute_result"
    }
   ],
   "source": [
    "list((23,23))"
   ]
  },
  {
   "cell_type": "code",
   "execution_count": 149,
   "id": "7ab719bf-9e93-47b4-af43-6a0caebc828e",
   "metadata": {},
   "outputs": [
    {
     "data": {
      "text/plain": [
       "[('jasmine', 7),\n",
       " ('rose', 4),\n",
       " ('sunflower', 9),\n",
       " ('lily', 4),\n",
       " ('lotus', 5),\n",
       " ('als', 3)]"
      ]
     },
     "execution_count": 149,
     "metadata": {},
     "output_type": "execute_result"
    }
   ],
   "source": [
    "[(x,len(x)) for x in fl]"
   ]
  },
  {
   "cell_type": "code",
   "execution_count": 153,
   "id": "fb91dc97-c816-4047-925d-5a56429aace8",
   "metadata": {},
   "outputs": [
    {
     "data": {
      "text/plain": [
       "['jasmine',\n",
       " 'rose',\n",
       " 'sunflower',\n",
       " 'lily',\n",
       " 'lotus',\n",
       " 'als',\n",
       " 'lily',\n",
       " 'sunflower',\n",
       " 'sunflower',\n",
       " 'sunflower',\n",
       " 'lily',\n",
       " 'rose',\n",
       " 'lily',\n",
       " 'sunflower',\n",
       " 'sunflower',\n",
       " 'sunflower',\n",
       " 'lily',\n",
       " 'rose',\n",
       " 'lily',\n",
       " 'sunflower',\n",
       " 'sunflower',\n",
       " 'sunflower',\n",
       " 'lily',\n",
       " 'rose']"
      ]
     },
     "execution_count": 153,
     "metadata": {},
     "output_type": "execute_result"
    }
   ],
   "source": [
    "fl.append(\"lily\")\n",
    "fl.append(\"sunflower\")\n",
    "fl.append(\"sunflower\")\n",
    "fl.append(\"sunflower\")\n",
    "fl.append(\"lily\")\n",
    "fl.append(\"rose\")\n",
    "fl"
   ]
  },
  {
   "cell_type": "code",
   "execution_count": 156,
   "id": "f03978f9-d70c-4fb3-8a79-df328fc96926",
   "metadata": {},
   "outputs": [
    {
     "data": {
      "text/plain": [
       "[('lily', 7),\n",
       " ('rose', 4),\n",
       " ('sunflower', 10),\n",
       " ('als', 1),\n",
       " ('lotus', 1),\n",
       " ('jasmine', 1)]"
      ]
     },
     "execution_count": 156,
     "metadata": {},
     "output_type": "execute_result"
    }
   ],
   "source": [
    "list(set([(x,tuple(fl).count(x)) for x in fl ]))"
   ]
  },
  {
   "cell_type": "code",
   "execution_count": 162,
   "id": "5aadf545-1d2a-4cb4-99ab-5c146b5653b7",
   "metadata": {},
   "outputs": [],
   "source": [
    "a = {1,2,3,4,5}\n",
    "b = {2,3,4,5,6,7,9}"
   ]
  },
  {
   "cell_type": "code",
   "execution_count": 158,
   "id": "b59a9304-c83c-47a6-8fe9-fc1e02531be9",
   "metadata": {},
   "outputs": [
    {
     "data": {
      "text/plain": [
       "{1, 2, 3, 4, 5, 6, 7, 9}"
      ]
     },
     "execution_count": 158,
     "metadata": {},
     "output_type": "execute_result"
    }
   ],
   "source": [
    "a.union(b)"
   ]
  },
  {
   "cell_type": "code",
   "execution_count": 159,
   "id": "1cd677a7-3241-4356-82fc-ff9623a677a3",
   "metadata": {},
   "outputs": [
    {
     "data": {
      "text/plain": [
       "{2, 3, 4, 5}"
      ]
     },
     "execution_count": 159,
     "metadata": {},
     "output_type": "execute_result"
    }
   ],
   "source": [
    "a.intersection(b)"
   ]
  },
  {
   "cell_type": "code",
   "execution_count": 163,
   "id": "cbef2731-6a56-41a9-bb50-d2c9cb94506c",
   "metadata": {},
   "outputs": [
    {
     "data": {
      "text/plain": [
       "{2, 3, 4, 5}"
      ]
     },
     "execution_count": 163,
     "metadata": {},
     "output_type": "execute_result"
    }
   ],
   "source": [
    "a.intersection(b)"
   ]
  },
  {
   "cell_type": "code",
   "execution_count": 164,
   "id": "993b12e4-d67c-43a2-b48b-a9756b01ddf2",
   "metadata": {},
   "outputs": [
    {
     "data": {
      "text/plain": [
       "{2, 3, 4, 5}"
      ]
     },
     "execution_count": 164,
     "metadata": {},
     "output_type": "execute_result"
    }
   ],
   "source": [
    "a&b"
   ]
  },
  {
   "cell_type": "code",
   "execution_count": 165,
   "id": "2069731e-0811-4045-bbb2-83d490d44be1",
   "metadata": {},
   "outputs": [
    {
     "data": {
      "text/plain": [
       "{1, 2, 3, 4, 5, 6, 7, 9}"
      ]
     },
     "execution_count": 165,
     "metadata": {},
     "output_type": "execute_result"
    }
   ],
   "source": [
    "a|b"
   ]
  },
  {
   "cell_type": "code",
   "execution_count": 168,
   "id": "7f36bd95-3cb8-4a36-b22c-74cef5b529e1",
   "metadata": {},
   "outputs": [
    {
     "data": {
      "text/plain": [
       "{6, 7, 9}"
      ]
     },
     "execution_count": 168,
     "metadata": {},
     "output_type": "execute_result"
    }
   ],
   "source": [
    "b-a"
   ]
  },
  {
   "cell_type": "code",
   "execution_count": 169,
   "id": "20263a95-9aab-4bd2-a97a-52e619971272",
   "metadata": {},
   "outputs": [
    {
     "data": {
      "text/plain": [
       "{1}"
      ]
     },
     "execution_count": 169,
     "metadata": {},
     "output_type": "execute_result"
    }
   ],
   "source": [
    "a-b"
   ]
  },
  {
   "cell_type": "code",
   "execution_count": 171,
   "id": "42b30b96-8b8d-4a72-bd38-fb6d953cf348",
   "metadata": {},
   "outputs": [
    {
     "data": {
      "text/plain": [
       "{6, 7, 9}"
      ]
     },
     "execution_count": 171,
     "metadata": {},
     "output_type": "execute_result"
    }
   ],
   "source": [
    "b.difference(a)"
   ]
  },
  {
   "cell_type": "code",
   "execution_count": 173,
   "id": "c203e496-aba8-4158-83f8-12b602d32851",
   "metadata": {},
   "outputs": [
    {
     "data": {
      "text/plain": [
       "{1, 6, 7, 9}"
      ]
     },
     "execution_count": 173,
     "metadata": {},
     "output_type": "execute_result"
    }
   ],
   "source": [
    "b^a"
   ]
  },
  {
   "cell_type": "code",
   "execution_count": 174,
   "id": "bcfe712e-27c7-4997-ac2d-a5f4175d0b83",
   "metadata": {},
   "outputs": [
    {
     "data": {
      "text/plain": [
       "{1, 6, 7, 9}"
      ]
     },
     "execution_count": 174,
     "metadata": {},
     "output_type": "execute_result"
    }
   ],
   "source": [
    "a.symmetric_difference(b)"
   ]
  },
  {
   "cell_type": "code",
   "execution_count": 175,
   "id": "906ea7fa-8408-48c9-9692-e6dc9978bd9d",
   "metadata": {},
   "outputs": [
    {
     "data": {
      "text/plain": [
       "{1, 6, 7, 9}"
      ]
     },
     "execution_count": 175,
     "metadata": {},
     "output_type": "execute_result"
    }
   ],
   "source": [
    "a^b"
   ]
  },
  {
   "cell_type": "code",
   "execution_count": 177,
   "id": "19ac4724-e07c-48cd-b884-cb067f4ecbd4",
   "metadata": {},
   "outputs": [
    {
     "data": {
      "text/plain": [
       "{'als', 'jasmine', 'lily', 'lotus', 'rose', 'sunflower'}"
      ]
     },
     "execution_count": 177,
     "metadata": {},
     "output_type": "execute_result"
    }
   ],
   "source": [
    "set(fl)"
   ]
  },
  {
   "cell_type": "code",
   "execution_count": 179,
   "id": "d68650af-d1c5-4b14-b987-0ed6f1a9854e",
   "metadata": {},
   "outputs": [
    {
     "ename": "AttributeError",
     "evalue": "'set' object has no attribute 'index'",
     "output_type": "error",
     "traceback": [
      "\u001b[0;31m---------------------------------------------------------------------------\u001b[0m",
      "\u001b[0;31mAttributeError\u001b[0m                            Traceback (most recent call last)",
      "\u001b[0;32m/tmp/ipykernel_149651/21800715.py\u001b[0m in \u001b[0;36m<module>\u001b[0;34m\u001b[0m\n\u001b[0;32m----> 1\u001b[0;31m \u001b[0ma\u001b[0m\u001b[0;34m.\u001b[0m\u001b[0mindex\u001b[0m\u001b[0;34m(\u001b[0m\u001b[0;36m1\u001b[0m\u001b[0;34m)\u001b[0m\u001b[0;34m\u001b[0m\u001b[0;34m\u001b[0m\u001b[0m\n\u001b[0m",
      "\u001b[0;31mAttributeError\u001b[0m: 'set' object has no attribute 'index'"
     ]
    }
   ],
   "source": [
    "a.index(1)"
   ]
  },
  {
   "cell_type": "markdown",
   "id": "9dc04dd1-d8fb-4fa4-bca1-5268542f358d",
   "metadata": {},
   "source": [
    "## Dictionary"
   ]
  },
  {
   "cell_type": "code",
   "execution_count": 180,
   "id": "f3df06a2-bdd5-4807-8179-60db323fc53f",
   "metadata": {},
   "outputs": [],
   "source": [
    "population = {\"India\":98348304, \"America\": 92439492, \"Japan\": 9349932}"
   ]
  },
  {
   "cell_type": "code",
   "execution_count": 181,
   "id": "08c2cdc0-ae74-457e-b4c0-7a144d6c73da",
   "metadata": {},
   "outputs": [
    {
     "data": {
      "text/plain": [
       "dict"
      ]
     },
     "execution_count": 181,
     "metadata": {},
     "output_type": "execute_result"
    }
   ],
   "source": [
    "type(population)"
   ]
  },
  {
   "cell_type": "code",
   "execution_count": 182,
   "id": "ee073e4f-f47c-4484-acf7-ff1c8550dd45",
   "metadata": {},
   "outputs": [],
   "source": [
    "population[\"UK\"]=94958467"
   ]
  },
  {
   "cell_type": "code",
   "execution_count": 183,
   "id": "251236eb-6f17-4a13-8449-bf961df3de06",
   "metadata": {},
   "outputs": [],
   "source": [
    "population[\"New Zeland\"]=93458834"
   ]
  },
  {
   "cell_type": "code",
   "execution_count": 184,
   "id": "f39de2c8-dae8-4746-b8ff-d9014806b8df",
   "metadata": {},
   "outputs": [
    {
     "data": {
      "text/plain": [
       "{'India': 98348304,\n",
       " 'America': 92439492,\n",
       " 'Japan': 9349932,\n",
       " 'UK': 94958467,\n",
       " 'New Zeland': 93458834}"
      ]
     },
     "execution_count": 184,
     "metadata": {},
     "output_type": "execute_result"
    }
   ],
   "source": [
    "population"
   ]
  },
  {
   "cell_type": "code",
   "execution_count": 186,
   "id": "cd021f82-0439-41cf-bf6e-6d2a2c081f26",
   "metadata": {},
   "outputs": [
    {
     "data": {
      "text/plain": [
       "dict_keys(['India', 'America', 'Japan', 'UK', 'New Zeland'])"
      ]
     },
     "execution_count": 186,
     "metadata": {},
     "output_type": "execute_result"
    }
   ],
   "source": [
    "population.keys()"
   ]
  },
  {
   "cell_type": "code",
   "execution_count": 187,
   "id": "7780423e-eb13-4272-9123-3448e4e7b334",
   "metadata": {},
   "outputs": [
    {
     "data": {
      "text/plain": [
       "dict_values([98348304, 92439492, 9349932, 94958467, 93458834])"
      ]
     },
     "execution_count": 187,
     "metadata": {},
     "output_type": "execute_result"
    }
   ],
   "source": [
    "population.values()"
   ]
  },
  {
   "cell_type": "code",
   "execution_count": 193,
   "id": "f2814b02-a64e-4cff-a619-8a84790e6a74",
   "metadata": {},
   "outputs": [
    {
     "data": {
      "text/plain": [
       "[('India', 98348304),\n",
       " ('UK', 94958467),\n",
       " ('New Zeland', 93458834),\n",
       " ('America', 92439492),\n",
       " ('Japan', 9349932)]"
      ]
     },
     "execution_count": 193,
     "metadata": {},
     "output_type": "execute_result"
    }
   ],
   "source": [
    "sorted(population.items(), key=lambda x: x[1], reverse=True)"
   ]
  },
  {
   "cell_type": "code",
   "execution_count": 195,
   "id": "291fbd6e-59d4-40c6-b153-55977db62e3d",
   "metadata": {},
   "outputs": [
    {
     "ename": "NameError",
     "evalue": "name '__version__' is not defined",
     "output_type": "error",
     "traceback": [
      "\u001b[0;31m---------------------------------------------------------------------------\u001b[0m",
      "\u001b[0;31mNameError\u001b[0m                                 Traceback (most recent call last)",
      "\u001b[0;32m/tmp/ipykernel_149651/2562772036.py\u001b[0m in \u001b[0;36m<module>\u001b[0;34m\u001b[0m\n\u001b[0;32m----> 1\u001b[0;31m \u001b[0mprint\u001b[0m\u001b[0;34m(\u001b[0m\u001b[0m__version__\u001b[0m\u001b[0;34m)\u001b[0m\u001b[0;34m\u001b[0m\u001b[0;34m\u001b[0m\u001b[0m\n\u001b[0m",
      "\u001b[0;31mNameError\u001b[0m: name '__version__' is not defined"
     ]
    }
   ],
   "source": [
    "print()"
   ]
  },
  {
   "cell_type": "code",
   "execution_count": 202,
   "id": "a3e25384-4dc1-447d-abf3-9ce5f3f77fec",
   "metadata": {},
   "outputs": [],
   "source": [
    "def hello():\n",
    "    return \"hello world\"\n",
    "\n",
    "def h2():\n",
    "    pass\n",
    "\n",
    "def h3(x):\n",
    "    return x.upper(), len(x)"
   ]
  },
  {
   "cell_type": "code",
   "execution_count": 199,
   "id": "5be3550d-64a5-4157-a694-58500ee81344",
   "metadata": {},
   "outputs": [],
   "source": [
    "h=hello()"
   ]
  },
  {
   "cell_type": "code",
   "execution_count": 200,
   "id": "a424cddb-07d9-4a10-aa43-bd89d8cfdf58",
   "metadata": {},
   "outputs": [],
   "source": [
    "h1=h"
   ]
  },
  {
   "cell_type": "code",
   "execution_count": 204,
   "id": "2978d596-64b2-461c-87e5-10a419767eb1",
   "metadata": {},
   "outputs": [],
   "source": [
    "a,v = h3(\"helo\")"
   ]
  },
  {
   "cell_type": "code",
   "execution_count": 205,
   "id": "3764b9cc-6fc4-4471-9d84-5a0746fb1e46",
   "metadata": {},
   "outputs": [
    {
     "data": {
      "text/plain": [
       "'HELO'"
      ]
     },
     "execution_count": 205,
     "metadata": {},
     "output_type": "execute_result"
    }
   ],
   "source": [
    "a"
   ]
  },
  {
   "cell_type": "code",
   "execution_count": 206,
   "id": "2ab3e7c5-8fbc-4709-8667-264a04cfe525",
   "metadata": {},
   "outputs": [
    {
     "data": {
      "text/plain": [
       "4"
      ]
     },
     "execution_count": 206,
     "metadata": {},
     "output_type": "execute_result"
    }
   ],
   "source": [
    "v"
   ]
  },
  {
   "cell_type": "code",
   "execution_count": 209,
   "id": "27d7a47a-c549-4c40-a6e0-171cb6dfce00",
   "metadata": {},
   "outputs": [],
   "source": [
    "f1 = lambda x: (x.upper(),len(x))"
   ]
  },
  {
   "cell_type": "code",
   "execution_count": 210,
   "id": "865d654b-bf13-4b5a-b92d-8fc676217170",
   "metadata": {},
   "outputs": [
    {
     "data": {
      "text/plain": [
       "('HELLO WORLD', 11)"
      ]
     },
     "execution_count": 210,
     "metadata": {},
     "output_type": "execute_result"
    }
   ],
   "source": [
    "f1(\"Hello world\")"
   ]
  },
  {
   "cell_type": "code",
   "execution_count": 211,
   "id": "ef2dc395-3df3-45f5-add0-701491a18a60",
   "metadata": {},
   "outputs": [],
   "source": [
    "f2 = lambda x: x**x"
   ]
  },
  {
   "cell_type": "code",
   "execution_count": 212,
   "id": "c4d3033f-c185-42fd-a967-80d3569223e2",
   "metadata": {},
   "outputs": [],
   "source": [
    "f3 = lambda x: f2(x)"
   ]
  },
  {
   "cell_type": "code",
   "execution_count": 214,
   "id": "863b4159-0496-4e0f-b04e-78ddf89e736f",
   "metadata": {},
   "outputs": [
    {
     "data": {
      "text/plain": [
       "256"
      ]
     },
     "execution_count": 214,
     "metadata": {},
     "output_type": "execute_result"
    }
   ],
   "source": [
    "f3(4)"
   ]
  },
  {
   "cell_type": "code",
   "execution_count": 216,
   "id": "4978dc25-f9f9-489a-9658-c057fb2baa74",
   "metadata": {},
   "outputs": [
    {
     "ename": "SyntaxError",
     "evalue": "non-default argument follows default argument (2080718056.py, line 1)",
     "output_type": "error",
     "traceback": [
      "\u001b[0;36m  File \u001b[0;32m\"/tmp/ipykernel_149651/2080718056.py\"\u001b[0;36m, line \u001b[0;32m1\u001b[0m\n\u001b[0;31m    def sample(a=199,b,c):\u001b[0m\n\u001b[0m                       ^\u001b[0m\n\u001b[0;31mSyntaxError\u001b[0m\u001b[0;31m:\u001b[0m non-default argument follows default argument\n"
     ]
    }
   ],
   "source": [
    "def sample(a=199,b,c):\n",
    "    pass"
   ]
  },
  {
   "cell_type": "code",
   "execution_count": null,
   "id": "6b05ca55-65d8-4f65-9670-e3c5c8699fed",
   "metadata": {},
   "outputs": [],
   "source": []
  },
  {
   "cell_type": "code",
   "execution_count": null,
   "id": "d57af0e0-7fa2-4650-a707-9ec55d1d9818",
   "metadata": {},
   "outputs": [],
   "source": []
  }
 ],
 "metadata": {
  "kernelspec": {
   "display_name": "Python 3 (ipykernel)",
   "language": "python",
   "name": "python3"
  },
  "language_info": {
   "codemirror_mode": {
    "name": "ipython",
    "version": 3
   },
   "file_extension": ".py",
   "mimetype": "text/x-python",
   "name": "python",
   "nbconvert_exporter": "python",
   "pygments_lexer": "ipython3",
   "version": "3.9.13"
  }
 },
 "nbformat": 4,
 "nbformat_minor": 5
}
