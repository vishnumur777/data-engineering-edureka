{
 "cells": [
  {
   "cell_type": "code",
   "execution_count": 4,
   "id": "8c1abfc7-265d-452f-b02d-1714e08c5703",
   "metadata": {},
   "outputs": [],
   "source": [
    "from pyspark.sql import SparkSession"
   ]
  },
  {
   "cell_type": "code",
   "execution_count": 5,
   "id": "3eb7b41f-cd8e-452e-ba28-16a0703e03fd",
   "metadata": {},
   "outputs": [
    {
     "name": "stderr",
     "output_type": "stream",
     "text": [
      "25/06/19 09:34:34 WARN NativeCodeLoader: Unable to load native-hadoop library for your platform... using builtin-java classes where applicable\n",
      "Setting default log level to \"WARN\".\n",
      "To adjust logging level use sc.setLogLevel(newLevel). For SparkR, use setLogLevel(newLevel).\n",
      "25/06/19 09:34:37 WARN Utils: Service 'SparkUI' could not bind on port 4040. Attempting port 4041.\n",
      "25/06/19 09:34:37 WARN Utils: Service 'SparkUI' could not bind on port 4041. Attempting port 4042.\n",
      "25/06/19 09:34:37 WARN Utils: Service 'SparkUI' could not bind on port 4042. Attempting port 4043.\n",
      "25/06/19 09:34:37 WARN Utils: Service 'SparkUI' could not bind on port 4043. Attempting port 4044.\n",
      "25/06/19 09:34:37 WARN Utils: Service 'SparkUI' could not bind on port 4044. Attempting port 4045.\n",
      "25/06/19 09:34:37 WARN Utils: Service 'SparkUI' could not bind on port 4045. Attempting port 4046.\n",
      "25/06/19 09:34:37 WARN Utils: Service 'SparkUI' could not bind on port 4046. Attempting port 4047.\n",
      "25/06/19 09:34:37 WARN Utils: Service 'SparkUI' could not bind on port 4047. Attempting port 4048.\n",
      "25/06/19 09:34:37 WARN Utils: Service 'SparkUI' could not bind on port 4048. Attempting port 4049.\n",
      "25/06/19 09:34:37 WARN Utils: Service 'SparkUI' could not bind on port 4049. Attempting port 4050.\n",
      "25/06/19 09:34:37 WARN Utils: Service 'SparkUI' could not bind on port 4050. Attempting port 4051.\n",
      "25/06/19 09:34:37 WARN Utils: Service 'SparkUI' could not bind on port 4051. Attempting port 4052.\n",
      "25/06/19 09:34:37 WARN Utils: Service 'SparkUI' could not bind on port 4052. Attempting port 4053.\n",
      "25/06/19 09:34:37 WARN Utils: Service 'SparkUI' could not bind on port 4053. Attempting port 4054.\n",
      "25/06/19 09:34:37 WARN Utils: Service 'SparkUI' could not bind on port 4054. Attempting port 4055.\n",
      "25/06/19 09:34:37 WARN Utils: Service 'SparkUI' could not bind on port 4055. Attempting port 4056.\n",
      "25/06/19 09:34:37 WARN Utils: Service 'SparkUI' could not bind on port 4056. Attempting port 4057.\n",
      "25/06/19 09:34:37 WARN Utils: Service 'SparkUI' could not bind on port 4057. Attempting port 4058.\n",
      "25/06/19 09:34:37 WARN Utils: Service 'SparkUI' could not bind on port 4058. Attempting port 4059.\n",
      "25/06/19 09:34:37 WARN Utils: Service 'SparkUI' could not bind on port 4059. Attempting port 4060.\n",
      "25/06/19 09:34:37 WARN Utils: Service 'SparkUI' could not bind on port 4060. Attempting port 4061.\n",
      "25/06/19 09:34:37 WARN Utils: Service 'SparkUI' could not bind on port 4061. Attempting port 4062.\n",
      "25/06/19 09:34:37 WARN Utils: Service 'SparkUI' could not bind on port 4062. Attempting port 4063.\n",
      "25/06/19 09:34:37 WARN Utils: Service 'SparkUI' could not bind on port 4063. Attempting port 4064.\n",
      "25/06/19 09:34:37 WARN Utils: Service 'SparkUI' could not bind on port 4064. Attempting port 4065.\n",
      "25/06/19 09:34:37 WARN Utils: Service 'SparkUI' could not bind on port 4065. Attempting port 4066.\n",
      "25/06/19 09:34:37 WARN Utils: Service 'SparkUI' could not bind on port 4066. Attempting port 4067.\n",
      "25/06/19 09:34:37 WARN Utils: Service 'SparkUI' could not bind on port 4067. Attempting port 4068.\n",
      "25/06/19 09:34:37 WARN Utils: Service 'SparkUI' could not bind on port 4068. Attempting port 4069.\n",
      "25/06/19 09:34:37 WARN Utils: Service 'SparkUI' could not bind on port 4069. Attempting port 4070.\n",
      "25/06/19 09:34:37 WARN Utils: Service 'SparkUI' could not bind on port 4070. Attempting port 4071.\n",
      "25/06/19 09:34:37 WARN Utils: Service 'SparkUI' could not bind on port 4071. Attempting port 4072.\n",
      "25/06/19 09:34:37 WARN Utils: Service 'SparkUI' could not bind on port 4072. Attempting port 4073.\n",
      "25/06/19 09:34:37 WARN Utils: Service 'SparkUI' could not bind on port 4073. Attempting port 4074.\n",
      "25/06/19 09:34:37 WARN Utils: Service 'SparkUI' could not bind on port 4074. Attempting port 4075.\n",
      "25/06/19 09:34:37 WARN Utils: Service 'SparkUI' could not bind on port 4075. Attempting port 4076.\n",
      "25/06/19 09:34:37 WARN Utils: Service 'SparkUI' could not bind on port 4076. Attempting port 4077.\n",
      "25/06/19 09:34:37 WARN Utils: Service 'SparkUI' could not bind on port 4077. Attempting port 4078.\n",
      "25/06/19 09:34:37 WARN Utils: Service 'SparkUI' could not bind on port 4078. Attempting port 4079.\n",
      "25/06/19 09:34:37 WARN Utils: Service 'SparkUI' could not bind on port 4079. Attempting port 4080.\n",
      "25/06/19 09:34:37 WARN Utils: Service 'SparkUI' could not bind on port 4080. Attempting port 4081.\n",
      "25/06/19 09:34:37 WARN Utils: Service 'SparkUI' could not bind on port 4081. Attempting port 4082.\n",
      "25/06/19 09:34:37 WARN Utils: Service 'SparkUI' could not bind on port 4082. Attempting port 4083.\n",
      "25/06/19 09:34:37 WARN Utils: Service 'SparkUI' could not bind on port 4083. Attempting port 4084.\n",
      "25/06/19 09:34:37 WARN Utils: Service 'SparkUI' could not bind on port 4084. Attempting port 4085.\n",
      "25/06/19 09:34:37 WARN Utils: Service 'SparkUI' could not bind on port 4085. Attempting port 4086.\n",
      "25/06/19 09:34:37 WARN Utils: Service 'SparkUI' could not bind on port 4086. Attempting port 4087.\n",
      "25/06/19 09:34:37 WARN Utils: Service 'SparkUI' could not bind on port 4087. Attempting port 4088.\n",
      "25/06/19 09:34:37 WARN Utils: Service 'SparkUI' could not bind on port 4088. Attempting port 4089.\n",
      "25/06/19 09:34:37 WARN Utils: Service 'SparkUI' could not bind on port 4089. Attempting port 4090.\n"
     ]
    }
   ],
   "source": [
    "spark = SparkSession.builder \\\n",
    " .appName(\"RealTimeLogAnalysis\") \\\n",
    " .master(\"local[5]\").getOrCreate()"
   ]
  },
  {
   "cell_type": "code",
   "execution_count": 6,
   "id": "7fb918cb-e5ce-4da5-842b-0e8c4537c5f9",
   "metadata": {},
   "outputs": [],
   "source": [
    "from pyspark.sql.types import *"
   ]
  },
  {
   "cell_type": "code",
   "execution_count": 7,
   "id": "58ae67ae-0558-4560-aacf-64233bbfffa6",
   "metadata": {},
   "outputs": [],
   "source": [
    "log_schema = StructType() \\\n",
    " .add(\"timestamps\", TimestampType(), True) \\\n",
    " .add(\"user_id\", StringType(), True) \\\n",
    " .add(\"action\", StringType(), True) \\\n",
    " .add(\"status_code\", StringType(),  True)"
   ]
  },
  {
   "cell_type": "code",
   "execution_count": 8,
   "id": "ef584868-2cb5-4d97-abfa-e44b5834a2ca",
   "metadata": {},
   "outputs": [],
   "source": [
    "streaming_logs = spark.readStream \\\n",
    " .schema(log_schema) \\\n",
    " .format(\"json\")\\\n",
    " .load(\"sparkstream/streaminputs\")"
   ]
  },
  {
   "cell_type": "code",
   "execution_count": 11,
   "id": "ce155c51-d54f-4281-995c-73d2d2946104",
   "metadata": {},
   "outputs": [],
   "source": [
    "filtered_logs = streaming_logs.filter(\"status_code < '400'\")"
   ]
  },
  {
   "cell_type": "code",
   "execution_count": 9,
   "id": "0936212c-cacd-4d88-bd06-a66b17ae7ffa",
   "metadata": {},
   "outputs": [
    {
     "name": "stderr",
     "output_type": "stream",
     "text": [
      "                                                                                \r"
     ]
    }
   ],
   "source": [
    "profiles = spark.read.csv(\"user_profiles.csv\", header=True, inferSchema=True)"
   ]
  },
  {
   "cell_type": "code",
   "execution_count": 12,
   "id": "ce7d8f8e-8b7f-4735-83e9-98c8102adddf",
   "metadata": {},
   "outputs": [],
   "source": [
    "joined_logs = filtered_logs.join(profiles, on=\"user_id\", how=\"inner\")"
   ]
  },
  {
   "cell_type": "code",
   "execution_count": 13,
   "id": "cc32eb9b-3e6d-4918-a72b-6836577f34ee",
   "metadata": {},
   "outputs": [],
   "source": [
    "from pyspark.sql.functions import window"
   ]
  },
  {
   "cell_type": "code",
   "execution_count": 18,
   "id": "e1ea9896-305d-4b0b-8c91-f380808f0a12",
   "metadata": {},
   "outputs": [],
   "source": [
    "aggregated = joined_logs \\\n",
    " .withWatermark(\"timestamps\", \"10 minutes\") \\\n",
    " .groupBy(window(\"timestamps\", \"5 minutes\"), \"user_type\") \\\n",
    " .count()"
   ]
  },
  {
   "cell_type": "code",
   "execution_count": null,
   "id": "354ab1c8-28f8-4568-9181-51de4501840d",
   "metadata": {},
   "outputs": [
    {
     "name": "stderr",
     "output_type": "stream",
     "text": [
      "25/06/19 09:47:08 WARN StreamingQueryManager: Temporary checkpoint location created which is deleted normally when the query didn't fail: /tmp/temporary-9f204955-46d4-40d0-a84f-998de230dee2. If it's required to delete it under any circumstances, please set spark.sql.streaming.forceDeleteTempCheckpointLocation to true. Important to know deleting temp checkpoint folder is best effort.\n",
      "                                                                                \r"
     ]
    },
    {
     "name": "stdout",
     "output_type": "stream",
     "text": [
      "-------------------------------------------\n",
      "Batch: 0\n",
      "-------------------------------------------\n",
      "+--------------------+----------+-----+\n",
      "|              window| user_type|count|\n",
      "+--------------------+----------+-----+\n",
      "|{2025-06-19 09:35...|      free|   49|\n",
      "|{2025-06-19 09:45...|      free|   29|\n",
      "|{2025-06-19 09:15...|      free|   62|\n",
      "|{2025-06-19 09:25...|      free|   82|\n",
      "|{2025-06-19 09:30...|      free|   97|\n",
      "|{2025-06-19 09:45...|enterprise|   32|\n",
      "|{2025-06-19 09:40...|      free|   23|\n",
      "|{2025-06-19 09:35...|enterprise|   52|\n",
      "|{2025-06-19 09:40...|   premium|   24|\n",
      "|{2025-06-19 09:15...|enterprise|   58|\n",
      "|{2025-06-19 09:35...|   premium|   59|\n",
      "|{2025-06-19 09:45...|   premium|   35|\n",
      "|{2025-06-19 09:15...|   premium|   66|\n",
      "|{2025-06-19 09:30...|   premium|   71|\n",
      "|{2025-06-19 09:40...|enterprise|   17|\n",
      "|{2025-06-19 09:25...|   premium|   68|\n",
      "|{2025-06-19 09:20...|      free|   72|\n",
      "|{2025-06-19 09:30...|enterprise|   58|\n",
      "|{2025-06-19 09:20...|enterprise|   69|\n",
      "|{2025-06-19 09:25...|enterprise|   61|\n",
      "+--------------------+----------+-----+\n",
      "only showing top 20 rows\n",
      "\n"
     ]
    },
    {
     "name": "stderr",
     "output_type": "stream",
     "text": [
      "                                                                                \r"
     ]
    },
    {
     "name": "stdout",
     "output_type": "stream",
     "text": [
      "-------------------------------------------\n",
      "Batch: 1\n",
      "-------------------------------------------\n",
      "+--------------------+----------+-----+\n",
      "|              window| user_type|count|\n",
      "+--------------------+----------+-----+\n",
      "|{2025-06-19 09:45...|      free|   33|\n",
      "|{2025-06-19 09:45...|enterprise|   40|\n",
      "|{2025-06-19 09:45...|   premium|   41|\n",
      "+--------------------+----------+-----+\n",
      "\n"
     ]
    },
    {
     "name": "stderr",
     "output_type": "stream",
     "text": [
      "                                                                                \r"
     ]
    },
    {
     "name": "stdout",
     "output_type": "stream",
     "text": [
      "-------------------------------------------\n",
      "Batch: 2\n",
      "-------------------------------------------\n",
      "+--------------------+----------+-----+\n",
      "|              window| user_type|count|\n",
      "+--------------------+----------+-----+\n",
      "|{2025-06-19 09:45...|      free|   34|\n",
      "|{2025-06-19 09:45...|enterprise|   41|\n",
      "|{2025-06-19 09:45...|   premium|   43|\n",
      "+--------------------+----------+-----+\n",
      "\n"
     ]
    },
    {
     "name": "stderr",
     "output_type": "stream",
     "text": [
      "                                                                                \r"
     ]
    },
    {
     "name": "stdout",
     "output_type": "stream",
     "text": [
      "-------------------------------------------\n",
      "Batch: 3\n",
      "-------------------------------------------\n",
      "+--------------------+----------+-----+\n",
      "|              window| user_type|count|\n",
      "+--------------------+----------+-----+\n",
      "|{2025-06-19 09:45...|      free|   37|\n",
      "|{2025-06-19 09:45...|enterprise|   43|\n",
      "|{2025-06-19 09:45...|   premium|   46|\n",
      "+--------------------+----------+-----+\n",
      "\n"
     ]
    },
    {
     "name": "stderr",
     "output_type": "stream",
     "text": [
      "                                                                                \r"
     ]
    },
    {
     "name": "stdout",
     "output_type": "stream",
     "text": [
      "-------------------------------------------\n",
      "Batch: 4\n",
      "-------------------------------------------\n",
      "+--------------------+----------+-----+\n",
      "|              window| user_type|count|\n",
      "+--------------------+----------+-----+\n",
      "|{2025-06-19 09:45...|      free|   40|\n",
      "|{2025-06-19 09:45...|enterprise|   45|\n",
      "|{2025-06-19 09:45...|   premium|   49|\n",
      "+--------------------+----------+-----+\n",
      "\n"
     ]
    },
    {
     "name": "stderr",
     "output_type": "stream",
     "text": [
      "                                                                                \r"
     ]
    },
    {
     "name": "stdout",
     "output_type": "stream",
     "text": [
      "-------------------------------------------\n",
      "Batch: 5\n",
      "-------------------------------------------\n",
      "+--------------------+----------+-----+\n",
      "|              window| user_type|count|\n",
      "+--------------------+----------+-----+\n",
      "|{2025-06-19 09:45...|      free|   46|\n",
      "|{2025-06-19 09:45...|enterprise|   46|\n",
      "|{2025-06-19 09:45...|   premium|   50|\n",
      "+--------------------+----------+-----+\n",
      "\n"
     ]
    },
    {
     "name": "stderr",
     "output_type": "stream",
     "text": [
      "                                                                                \r"
     ]
    },
    {
     "name": "stdout",
     "output_type": "stream",
     "text": [
      "-------------------------------------------\n",
      "Batch: 6\n",
      "-------------------------------------------\n",
      "+--------------------+----------+-----+\n",
      "|              window| user_type|count|\n",
      "+--------------------+----------+-----+\n",
      "|{2025-06-19 09:45...|enterprise|   47|\n",
      "|{2025-06-19 09:45...|   premium|   54|\n",
      "+--------------------+----------+-----+\n",
      "\n"
     ]
    },
    {
     "name": "stderr",
     "output_type": "stream",
     "text": [
      "                                                                                \r"
     ]
    },
    {
     "name": "stdout",
     "output_type": "stream",
     "text": [
      "-------------------------------------------\n",
      "Batch: 7\n",
      "-------------------------------------------\n",
      "+--------------------+----------+-----+\n",
      "|              window| user_type|count|\n",
      "+--------------------+----------+-----+\n",
      "|{2025-06-19 09:45...|      free|   49|\n",
      "|{2025-06-19 09:45...|enterprise|   48|\n",
      "|{2025-06-19 09:45...|   premium|   59|\n",
      "+--------------------+----------+-----+\n",
      "\n"
     ]
    },
    {
     "name": "stderr",
     "output_type": "stream",
     "text": [
      "                                                                                \r"
     ]
    },
    {
     "name": "stdout",
     "output_type": "stream",
     "text": [
      "-------------------------------------------\n",
      "Batch: 8\n",
      "-------------------------------------------\n",
      "+--------------------+----------+-----+\n",
      "|              window| user_type|count|\n",
      "+--------------------+----------+-----+\n",
      "|{2025-06-19 09:45...|      free|   52|\n",
      "|{2025-06-19 09:45...|enterprise|   49|\n",
      "+--------------------+----------+-----+\n",
      "\n"
     ]
    },
    {
     "name": "stderr",
     "output_type": "stream",
     "text": [
      "                                                                                \r"
     ]
    },
    {
     "name": "stdout",
     "output_type": "stream",
     "text": [
      "-------------------------------------------\n",
      "Batch: 9\n",
      "-------------------------------------------\n",
      "+--------------------+----------+-----+\n",
      "|              window| user_type|count|\n",
      "+--------------------+----------+-----+\n",
      "|{2025-06-19 09:45...|      free|   57|\n",
      "|{2025-06-19 09:45...|enterprise|   52|\n",
      "|{2025-06-19 09:45...|   premium|   62|\n",
      "+--------------------+----------+-----+\n",
      "\n"
     ]
    },
    {
     "name": "stderr",
     "output_type": "stream",
     "text": [
      "                                                                                \r"
     ]
    },
    {
     "name": "stdout",
     "output_type": "stream",
     "text": [
      "-------------------------------------------\n",
      "Batch: 10\n",
      "-------------------------------------------\n",
      "+--------------------+----------+-----+\n",
      "|              window| user_type|count|\n",
      "+--------------------+----------+-----+\n",
      "|{2025-06-19 09:45...|      free|   59|\n",
      "|{2025-06-19 09:45...|enterprise|   53|\n",
      "+--------------------+----------+-----+\n",
      "\n"
     ]
    },
    {
     "name": "stderr",
     "output_type": "stream",
     "text": [
      "                                                                                \r"
     ]
    },
    {
     "name": "stdout",
     "output_type": "stream",
     "text": [
      "-------------------------------------------\n",
      "Batch: 11\n",
      "-------------------------------------------\n",
      "+--------------------+---------+-----+\n",
      "|              window|user_type|count|\n",
      "+--------------------+---------+-----+\n",
      "|{2025-06-19 09:45...|  premium|   63|\n",
      "+--------------------+---------+-----+\n",
      "\n"
     ]
    },
    {
     "name": "stderr",
     "output_type": "stream",
     "text": [
      "                                                                                \r"
     ]
    },
    {
     "name": "stdout",
     "output_type": "stream",
     "text": [
      "-------------------------------------------\n",
      "Batch: 12\n",
      "-------------------------------------------\n",
      "+--------------------+----------+-----+\n",
      "|              window| user_type|count|\n",
      "+--------------------+----------+-----+\n",
      "|{2025-06-19 09:45...|      free|   63|\n",
      "|{2025-06-19 09:45...|enterprise|   56|\n",
      "|{2025-06-19 09:45...|   premium|   64|\n",
      "+--------------------+----------+-----+\n",
      "\n"
     ]
    },
    {
     "name": "stderr",
     "output_type": "stream",
     "text": [
      "                                                                                \r"
     ]
    },
    {
     "name": "stdout",
     "output_type": "stream",
     "text": [
      "-------------------------------------------\n",
      "Batch: 13\n",
      "-------------------------------------------\n",
      "+--------------------+----------+-----+\n",
      "|              window| user_type|count|\n",
      "+--------------------+----------+-----+\n",
      "|{2025-06-19 09:45...|      free|   64|\n",
      "|{2025-06-19 09:45...|enterprise|   58|\n",
      "|{2025-06-19 09:45...|   premium|   66|\n",
      "+--------------------+----------+-----+\n",
      "\n"
     ]
    },
    {
     "name": "stderr",
     "output_type": "stream",
     "text": [
      "                                                                                \r"
     ]
    },
    {
     "name": "stdout",
     "output_type": "stream",
     "text": [
      "-------------------------------------------\n",
      "Batch: 14\n",
      "-------------------------------------------\n",
      "+--------------------+----------+-----+\n",
      "|              window| user_type|count|\n",
      "+--------------------+----------+-----+\n",
      "|{2025-06-19 09:45...|      free|   68|\n",
      "|{2025-06-19 09:45...|enterprise|   61|\n",
      "|{2025-06-19 09:45...|   premium|   70|\n",
      "+--------------------+----------+-----+\n",
      "\n"
     ]
    },
    {
     "name": "stderr",
     "output_type": "stream",
     "text": [
      "                                                                                \r"
     ]
    },
    {
     "name": "stdout",
     "output_type": "stream",
     "text": [
      "-------------------------------------------\n",
      "Batch: 15\n",
      "-------------------------------------------\n",
      "+--------------------+----------+-----+\n",
      "|              window| user_type|count|\n",
      "+--------------------+----------+-----+\n",
      "|{2025-06-19 09:50...|   premium|    1|\n",
      "|{2025-06-19 09:50...|      free|    1|\n",
      "|{2025-06-19 09:50...|enterprise|    1|\n",
      "+--------------------+----------+-----+\n",
      "\n"
     ]
    },
    {
     "name": "stderr",
     "output_type": "stream",
     "text": [
      "                                                                                \r"
     ]
    },
    {
     "name": "stdout",
     "output_type": "stream",
     "text": [
      "-------------------------------------------\n",
      "Batch: 16\n",
      "-------------------------------------------\n",
      "+--------------------+----------+-----+\n",
      "|              window| user_type|count|\n",
      "+--------------------+----------+-----+\n",
      "|{2025-06-19 09:50...|   premium|    2|\n",
      "|{2025-06-19 09:50...|      free|    2|\n",
      "|{2025-06-19 09:50...|enterprise|    3|\n",
      "+--------------------+----------+-----+\n",
      "\n"
     ]
    },
    {
     "name": "stderr",
     "output_type": "stream",
     "text": [
      "                                                                                \r"
     ]
    },
    {
     "name": "stdout",
     "output_type": "stream",
     "text": [
      "-------------------------------------------\n",
      "Batch: 17\n",
      "-------------------------------------------\n",
      "+--------------------+----------+-----+\n",
      "|              window| user_type|count|\n",
      "+--------------------+----------+-----+\n",
      "|{2025-06-19 09:50...|   premium|    4|\n",
      "|{2025-06-19 09:50...|      free|    3|\n",
      "|{2025-06-19 09:50...|enterprise|    6|\n",
      "+--------------------+----------+-----+\n",
      "\n"
     ]
    },
    {
     "name": "stderr",
     "output_type": "stream",
     "text": [
      "                                                                                \r"
     ]
    },
    {
     "name": "stdout",
     "output_type": "stream",
     "text": [
      "-------------------------------------------\n",
      "Batch: 18\n",
      "-------------------------------------------\n",
      "+--------------------+----------+-----+\n",
      "|              window| user_type|count|\n",
      "+--------------------+----------+-----+\n",
      "|{2025-06-19 09:50...|   premium|    5|\n",
      "|{2025-06-19 09:50...|      free|    6|\n",
      "|{2025-06-19 09:50...|enterprise|   10|\n",
      "+--------------------+----------+-----+\n",
      "\n"
     ]
    },
    {
     "name": "stderr",
     "output_type": "stream",
     "text": [
      "                                                                                \r"
     ]
    },
    {
     "name": "stdout",
     "output_type": "stream",
     "text": [
      "-------------------------------------------\n",
      "Batch: 19\n",
      "-------------------------------------------\n",
      "+--------------------+----------+-----+\n",
      "|              window| user_type|count|\n",
      "+--------------------+----------+-----+\n",
      "|{2025-06-19 09:50...|   premium|    7|\n",
      "|{2025-06-19 09:50...|      free|    8|\n",
      "|{2025-06-19 09:50...|enterprise|   11|\n",
      "+--------------------+----------+-----+\n",
      "\n"
     ]
    },
    {
     "name": "stderr",
     "output_type": "stream",
     "text": [
      "                                                                                \r"
     ]
    },
    {
     "name": "stdout",
     "output_type": "stream",
     "text": [
      "-------------------------------------------\n",
      "Batch: 20\n",
      "-------------------------------------------\n",
      "+--------------------+----------+-----+\n",
      "|              window| user_type|count|\n",
      "+--------------------+----------+-----+\n",
      "|{2025-06-19 09:50...|   premium|   11|\n",
      "|{2025-06-19 09:50...|enterprise|   14|\n",
      "+--------------------+----------+-----+\n",
      "\n"
     ]
    },
    {
     "name": "stderr",
     "output_type": "stream",
     "text": [
      "                                                                                \r"
     ]
    },
    {
     "name": "stdout",
     "output_type": "stream",
     "text": [
      "-------------------------------------------\n",
      "Batch: 21\n",
      "-------------------------------------------\n",
      "+--------------------+---------+-----+\n",
      "|              window|user_type|count|\n",
      "+--------------------+---------+-----+\n",
      "|{2025-06-19 09:50...|  premium|   14|\n",
      "|{2025-06-19 09:50...|     free|   10|\n",
      "+--------------------+---------+-----+\n",
      "\n"
     ]
    },
    {
     "name": "stderr",
     "output_type": "stream",
     "text": [
      "                                                                                \r"
     ]
    },
    {
     "name": "stdout",
     "output_type": "stream",
     "text": [
      "-------------------------------------------\n",
      "Batch: 22\n",
      "-------------------------------------------\n",
      "+--------------------+----------+-----+\n",
      "|              window| user_type|count|\n",
      "+--------------------+----------+-----+\n",
      "|{2025-06-19 09:50...|   premium|   20|\n",
      "|{2025-06-19 09:50...|      free|   13|\n",
      "|{2025-06-19 09:50...|enterprise|   19|\n",
      "+--------------------+----------+-----+\n",
      "\n"
     ]
    },
    {
     "name": "stderr",
     "output_type": "stream",
     "text": [
      "                                                                                \r"
     ]
    },
    {
     "name": "stdout",
     "output_type": "stream",
     "text": [
      "-------------------------------------------\n",
      "Batch: 23\n",
      "-------------------------------------------\n",
      "+--------------------+----------+-----+\n",
      "|              window| user_type|count|\n",
      "+--------------------+----------+-----+\n",
      "|{2025-06-19 09:50...|   premium|   23|\n",
      "|{2025-06-19 09:50...|      free|   16|\n",
      "|{2025-06-19 09:50...|enterprise|   25|\n",
      "+--------------------+----------+-----+\n",
      "\n"
     ]
    },
    {
     "name": "stderr",
     "output_type": "stream",
     "text": [
      "                                                                                \r"
     ]
    },
    {
     "name": "stdout",
     "output_type": "stream",
     "text": [
      "-------------------------------------------\n",
      "Batch: 24\n",
      "-------------------------------------------\n",
      "+--------------------+----------+-----+\n",
      "|              window| user_type|count|\n",
      "+--------------------+----------+-----+\n",
      "|{2025-06-19 09:50...|   premium|   26|\n",
      "|{2025-06-19 09:50...|      free|   18|\n",
      "|{2025-06-19 09:50...|enterprise|   28|\n",
      "+--------------------+----------+-----+\n",
      "\n"
     ]
    },
    {
     "name": "stderr",
     "output_type": "stream",
     "text": [
      "                                                                                \r"
     ]
    },
    {
     "name": "stdout",
     "output_type": "stream",
     "text": [
      "-------------------------------------------\n",
      "Batch: 25\n",
      "-------------------------------------------\n",
      "+--------------------+----------+-----+\n",
      "|              window| user_type|count|\n",
      "+--------------------+----------+-----+\n",
      "|{2025-06-19 09:50...|      free|   20|\n",
      "|{2025-06-19 09:50...|enterprise|   29|\n",
      "+--------------------+----------+-----+\n",
      "\n"
     ]
    },
    {
     "name": "stderr",
     "output_type": "stream",
     "text": [
      "                                                                                \r"
     ]
    },
    {
     "name": "stdout",
     "output_type": "stream",
     "text": [
      "-------------------------------------------\n",
      "Batch: 26\n",
      "-------------------------------------------\n",
      "+--------------------+----------+-----+\n",
      "|              window| user_type|count|\n",
      "+--------------------+----------+-----+\n",
      "|{2025-06-19 09:50...|   premium|   30|\n",
      "|{2025-06-19 09:50...|      free|   23|\n",
      "|{2025-06-19 09:50...|enterprise|   33|\n",
      "+--------------------+----------+-----+\n",
      "\n"
     ]
    },
    {
     "name": "stderr",
     "output_type": "stream",
     "text": [
      "                                                                                \r"
     ]
    },
    {
     "name": "stdout",
     "output_type": "stream",
     "text": [
      "-------------------------------------------\n",
      "Batch: 27\n",
      "-------------------------------------------\n",
      "+--------------------+----------+-----+\n",
      "|              window| user_type|count|\n",
      "+--------------------+----------+-----+\n",
      "|{2025-06-19 09:50...|   premium|   34|\n",
      "|{2025-06-19 09:50...|      free|   27|\n",
      "|{2025-06-19 09:50...|enterprise|   36|\n",
      "+--------------------+----------+-----+\n",
      "\n"
     ]
    },
    {
     "name": "stderr",
     "output_type": "stream",
     "text": [
      "                                                                                \r"
     ]
    },
    {
     "name": "stdout",
     "output_type": "stream",
     "text": [
      "-------------------------------------------\n",
      "Batch: 28\n",
      "-------------------------------------------\n",
      "+--------------------+---------+-----+\n",
      "|              window|user_type|count|\n",
      "+--------------------+---------+-----+\n",
      "|{2025-06-19 09:50...|  premium|   36|\n",
      "|{2025-06-19 09:50...|     free|   30|\n",
      "+--------------------+---------+-----+\n",
      "\n"
     ]
    },
    {
     "name": "stderr",
     "output_type": "stream",
     "text": [
      "                                                                                \r"
     ]
    },
    {
     "name": "stdout",
     "output_type": "stream",
     "text": [
      "-------------------------------------------\n",
      "Batch: 29\n",
      "-------------------------------------------\n",
      "+--------------------+---------+-----+\n",
      "|              window|user_type|count|\n",
      "+--------------------+---------+-----+\n",
      "|{2025-06-19 09:50...|  premium|   37|\n",
      "|{2025-06-19 09:50...|     free|   31|\n",
      "+--------------------+---------+-----+\n",
      "\n"
     ]
    },
    {
     "name": "stderr",
     "output_type": "stream",
     "text": [
      "                                                                                \r"
     ]
    },
    {
     "name": "stdout",
     "output_type": "stream",
     "text": [
      "-------------------------------------------\n",
      "Batch: 30\n",
      "-------------------------------------------\n",
      "+--------------------+----------+-----+\n",
      "|              window| user_type|count|\n",
      "+--------------------+----------+-----+\n",
      "|{2025-06-19 09:50...|   premium|   39|\n",
      "|{2025-06-19 09:50...|      free|   35|\n",
      "|{2025-06-19 09:50...|enterprise|   38|\n",
      "+--------------------+----------+-----+\n",
      "\n"
     ]
    },
    {
     "name": "stderr",
     "output_type": "stream",
     "text": [
      "                                                                                \r"
     ]
    },
    {
     "name": "stdout",
     "output_type": "stream",
     "text": [
      "-------------------------------------------\n",
      "Batch: 31\n",
      "-------------------------------------------\n",
      "+--------------------+---------+-----+\n",
      "|              window|user_type|count|\n",
      "+--------------------+---------+-----+\n",
      "|{2025-06-19 09:50...|  premium|   40|\n",
      "|{2025-06-19 09:50...|     free|   36|\n",
      "+--------------------+---------+-----+\n",
      "\n"
     ]
    },
    {
     "name": "stderr",
     "output_type": "stream",
     "text": [
      "                                                                                \r"
     ]
    },
    {
     "name": "stdout",
     "output_type": "stream",
     "text": [
      "-------------------------------------------\n",
      "Batch: 32\n",
      "-------------------------------------------\n",
      "+--------------------+----------+-----+\n",
      "|              window| user_type|count|\n",
      "+--------------------+----------+-----+\n",
      "|{2025-06-19 09:50...|   premium|   41|\n",
      "|{2025-06-19 09:50...|      free|   39|\n",
      "|{2025-06-19 09:50...|enterprise|   42|\n",
      "+--------------------+----------+-----+\n",
      "\n"
     ]
    },
    {
     "name": "stderr",
     "output_type": "stream",
     "text": [
      "                                                                                \r"
     ]
    },
    {
     "name": "stdout",
     "output_type": "stream",
     "text": [
      "-------------------------------------------\n",
      "Batch: 33\n",
      "-------------------------------------------\n",
      "+--------------------+----------+-----+\n",
      "|              window| user_type|count|\n",
      "+--------------------+----------+-----+\n",
      "|{2025-06-19 09:50...|      free|   43|\n",
      "|{2025-06-19 09:50...|enterprise|   43|\n",
      "+--------------------+----------+-----+\n",
      "\n"
     ]
    },
    {
     "name": "stderr",
     "output_type": "stream",
     "text": [
      "                                                                                \r"
     ]
    },
    {
     "name": "stdout",
     "output_type": "stream",
     "text": [
      "-------------------------------------------\n",
      "Batch: 34\n",
      "-------------------------------------------\n",
      "+--------------------+----------+-----+\n",
      "|              window| user_type|count|\n",
      "+--------------------+----------+-----+\n",
      "|{2025-06-19 09:50...|   premium|   44|\n",
      "|{2025-06-19 09:50...|      free|   45|\n",
      "|{2025-06-19 09:50...|enterprise|   45|\n",
      "+--------------------+----------+-----+\n",
      "\n"
     ]
    },
    {
     "name": "stderr",
     "output_type": "stream",
     "text": [
      "                                                                                \r"
     ]
    },
    {
     "name": "stdout",
     "output_type": "stream",
     "text": [
      "-------------------------------------------\n",
      "Batch: 35\n",
      "-------------------------------------------\n",
      "+--------------------+----------+-----+\n",
      "|              window| user_type|count|\n",
      "+--------------------+----------+-----+\n",
      "|{2025-06-19 09:50...|   premium|   48|\n",
      "|{2025-06-19 09:50...|      free|   48|\n",
      "|{2025-06-19 09:50...|enterprise|   52|\n",
      "+--------------------+----------+-----+\n",
      "\n"
     ]
    },
    {
     "name": "stderr",
     "output_type": "stream",
     "text": [
      "                                                                                \r"
     ]
    },
    {
     "name": "stdout",
     "output_type": "stream",
     "text": [
      "-------------------------------------------\n",
      "Batch: 36\n",
      "-------------------------------------------\n",
      "+--------------------+----------+-----+\n",
      "|              window| user_type|count|\n",
      "+--------------------+----------+-----+\n",
      "|{2025-06-19 09:50...|   premium|   49|\n",
      "|{2025-06-19 09:50...|      free|   52|\n",
      "|{2025-06-19 09:50...|enterprise|   56|\n",
      "+--------------------+----------+-----+\n",
      "\n"
     ]
    },
    {
     "name": "stderr",
     "output_type": "stream",
     "text": [
      "                                                                                \r"
     ]
    },
    {
     "name": "stdout",
     "output_type": "stream",
     "text": [
      "-------------------------------------------\n",
      "Batch: 37\n",
      "-------------------------------------------\n",
      "+--------------------+----------+-----+\n",
      "|              window| user_type|count|\n",
      "+--------------------+----------+-----+\n",
      "|{2025-06-19 09:50...|   premium|   53|\n",
      "|{2025-06-19 09:50...|      free|   57|\n",
      "|{2025-06-19 09:50...|enterprise|   57|\n",
      "+--------------------+----------+-----+\n",
      "\n"
     ]
    },
    {
     "name": "stderr",
     "output_type": "stream",
     "text": [
      "                                                                                \r"
     ]
    },
    {
     "name": "stdout",
     "output_type": "stream",
     "text": [
      "-------------------------------------------\n",
      "Batch: 38\n",
      "-------------------------------------------\n",
      "+--------------------+----------+-----+\n",
      "|              window| user_type|count|\n",
      "+--------------------+----------+-----+\n",
      "|{2025-06-19 09:50...|   premium|   54|\n",
      "|{2025-06-19 09:50...|      free|   58|\n",
      "|{2025-06-19 09:50...|enterprise|   59|\n",
      "+--------------------+----------+-----+\n",
      "\n"
     ]
    },
    {
     "name": "stderr",
     "output_type": "stream",
     "text": [
      "                                                                                \r"
     ]
    },
    {
     "name": "stdout",
     "output_type": "stream",
     "text": [
      "-------------------------------------------\n",
      "Batch: 39\n",
      "-------------------------------------------\n",
      "+--------------------+----------+-----+\n",
      "|              window| user_type|count|\n",
      "+--------------------+----------+-----+\n",
      "|{2025-06-19 09:50...|   premium|   60|\n",
      "|{2025-06-19 09:50...|      free|   62|\n",
      "|{2025-06-19 09:50...|enterprise|   60|\n",
      "+--------------------+----------+-----+\n",
      "\n"
     ]
    },
    {
     "name": "stderr",
     "output_type": "stream",
     "text": [
      "                                                                                \r"
     ]
    },
    {
     "name": "stdout",
     "output_type": "stream",
     "text": [
      "-------------------------------------------\n",
      "Batch: 40\n",
      "-------------------------------------------\n",
      "+--------------------+----------+-----+\n",
      "|              window| user_type|count|\n",
      "+--------------------+----------+-----+\n",
      "|{2025-06-19 09:50...|   premium|   61|\n",
      "|{2025-06-19 09:50...|      free|   63|\n",
      "|{2025-06-19 09:50...|enterprise|   61|\n",
      "+--------------------+----------+-----+\n",
      "\n"
     ]
    },
    {
     "name": "stderr",
     "output_type": "stream",
     "text": [
      "                                                                                \r"
     ]
    },
    {
     "name": "stdout",
     "output_type": "stream",
     "text": [
      "-------------------------------------------\n",
      "Batch: 41\n",
      "-------------------------------------------\n",
      "+--------------------+----------+-----+\n",
      "|              window| user_type|count|\n",
      "+--------------------+----------+-----+\n",
      "|{2025-06-19 09:50...|   premium|   63|\n",
      "|{2025-06-19 09:50...|      free|   64|\n",
      "|{2025-06-19 09:55...|enterprise|    3|\n",
      "|{2025-06-19 09:50...|enterprise|   63|\n",
      "|{2025-06-19 09:55...|      free|    2|\n",
      "+--------------------+----------+-----+\n",
      "\n"
     ]
    },
    {
     "name": "stderr",
     "output_type": "stream",
     "text": [
      "                                                                                \r"
     ]
    },
    {
     "name": "stdout",
     "output_type": "stream",
     "text": [
      "-------------------------------------------\n",
      "Batch: 42\n",
      "-------------------------------------------\n",
      "+--------------------+---------+-----+\n",
      "|              window|user_type|count|\n",
      "+--------------------+---------+-----+\n",
      "|{2025-06-19 09:55...|     free|    3|\n",
      "+--------------------+---------+-----+\n",
      "\n"
     ]
    }
   ],
   "source": [
    "query = aggregated.writeStream \\\n",
    " .outputMode(\"update\") \\\n",
    " .format(\"console\") \\\n",
    " .start()\n",
    "query.awaitTermination()"
   ]
  },
  {
   "cell_type": "code",
   "execution_count": null,
   "id": "608351dd-58f4-4a25-9194-2488bd715d44",
   "metadata": {},
   "outputs": [],
   "source": []
  }
 ],
 "metadata": {
  "kernelspec": {
   "display_name": "Python 3 (ipykernel)",
   "language": "python",
   "name": "python3"
  },
  "language_info": {
   "codemirror_mode": {
    "name": "ipython",
    "version": 3
   },
   "file_extension": ".py",
   "mimetype": "text/x-python",
   "name": "python",
   "nbconvert_exporter": "python",
   "pygments_lexer": "ipython3",
   "version": "3.9.13"
  }
 },
 "nbformat": 4,
 "nbformat_minor": 5
}
