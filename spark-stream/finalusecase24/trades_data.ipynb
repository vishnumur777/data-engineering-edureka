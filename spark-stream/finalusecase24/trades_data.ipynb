{
 "cells": [
  {
   "cell_type": "code",
   "execution_count": 1,
   "id": "b5718d0d-7a3b-4c1a-9b68-3d105d22f6d3",
   "metadata": {},
   "outputs": [],
   "source": [
    "from pyspark.sql import SparkSession"
   ]
  },
  {
   "cell_type": "code",
   "execution_count": 2,
   "id": "33eeab16-7443-4d3d-b0c6-79c83d074abe",
   "metadata": {},
   "outputs": [
    {
     "name": "stderr",
     "output_type": "stream",
     "text": [
      "25/06/19 11:58:29 WARN NativeCodeLoader: Unable to load native-hadoop library for your platform... using builtin-java classes where applicable\n",
      "Setting default log level to \"WARN\".\n",
      "To adjust logging level use sc.setLogLevel(newLevel). For SparkR, use setLogLevel(newLevel).\n",
      "25/06/19 11:58:31 WARN Utils: Service 'SparkUI' could not bind on port 4040. Attempting port 4041.\n",
      "25/06/19 11:58:31 WARN Utils: Service 'SparkUI' could not bind on port 4041. Attempting port 4042.\n",
      "25/06/19 11:58:31 WARN Utils: Service 'SparkUI' could not bind on port 4042. Attempting port 4043.\n",
      "25/06/19 11:58:31 WARN Utils: Service 'SparkUI' could not bind on port 4043. Attempting port 4044.\n",
      "25/06/19 11:58:31 WARN Utils: Service 'SparkUI' could not bind on port 4044. Attempting port 4045.\n",
      "25/06/19 11:58:31 WARN Utils: Service 'SparkUI' could not bind on port 4045. Attempting port 4046.\n",
      "25/06/19 11:58:31 WARN Utils: Service 'SparkUI' could not bind on port 4046. Attempting port 4047.\n",
      "25/06/19 11:58:31 WARN Utils: Service 'SparkUI' could not bind on port 4047. Attempting port 4048.\n",
      "25/06/19 11:58:31 WARN Utils: Service 'SparkUI' could not bind on port 4048. Attempting port 4049.\n",
      "25/06/19 11:58:31 WARN Utils: Service 'SparkUI' could not bind on port 4049. Attempting port 4050.\n",
      "25/06/19 11:58:31 WARN Utils: Service 'SparkUI' could not bind on port 4050. Attempting port 4051.\n",
      "25/06/19 11:58:31 WARN Utils: Service 'SparkUI' could not bind on port 4051. Attempting port 4052.\n",
      "25/06/19 11:58:31 WARN Utils: Service 'SparkUI' could not bind on port 4052. Attempting port 4053.\n",
      "25/06/19 11:58:31 WARN Utils: Service 'SparkUI' could not bind on port 4053. Attempting port 4054.\n",
      "25/06/19 11:58:31 WARN Utils: Service 'SparkUI' could not bind on port 4054. Attempting port 4055.\n",
      "25/06/19 11:58:31 WARN Utils: Service 'SparkUI' could not bind on port 4055. Attempting port 4056.\n",
      "25/06/19 11:58:31 WARN Utils: Service 'SparkUI' could not bind on port 4056. Attempting port 4057.\n",
      "25/06/19 11:58:31 WARN Utils: Service 'SparkUI' could not bind on port 4057. Attempting port 4058.\n",
      "25/06/19 11:58:31 WARN Utils: Service 'SparkUI' could not bind on port 4058. Attempting port 4059.\n",
      "25/06/19 11:58:31 WARN Utils: Service 'SparkUI' could not bind on port 4059. Attempting port 4060.\n",
      "25/06/19 11:58:31 WARN Utils: Service 'SparkUI' could not bind on port 4060. Attempting port 4061.\n",
      "25/06/19 11:58:31 WARN Utils: Service 'SparkUI' could not bind on port 4061. Attempting port 4062.\n",
      "25/06/19 11:58:31 WARN Utils: Service 'SparkUI' could not bind on port 4062. Attempting port 4063.\n",
      "25/06/19 11:58:31 WARN Utils: Service 'SparkUI' could not bind on port 4063. Attempting port 4064.\n",
      "25/06/19 11:58:31 WARN Utils: Service 'SparkUI' could not bind on port 4064. Attempting port 4065.\n",
      "25/06/19 11:58:31 WARN Utils: Service 'SparkUI' could not bind on port 4065. Attempting port 4066.\n",
      "25/06/19 11:58:31 WARN Utils: Service 'SparkUI' could not bind on port 4066. Attempting port 4067.\n",
      "25/06/19 11:58:31 WARN Utils: Service 'SparkUI' could not bind on port 4067. Attempting port 4068.\n",
      "25/06/19 11:58:31 WARN Utils: Service 'SparkUI' could not bind on port 4068. Attempting port 4069.\n",
      "25/06/19 11:58:31 WARN Utils: Service 'SparkUI' could not bind on port 4069. Attempting port 4070.\n",
      "25/06/19 11:58:31 WARN Utils: Service 'SparkUI' could not bind on port 4070. Attempting port 4071.\n",
      "25/06/19 11:58:31 WARN Utils: Service 'SparkUI' could not bind on port 4071. Attempting port 4072.\n",
      "25/06/19 11:58:31 WARN Utils: Service 'SparkUI' could not bind on port 4072. Attempting port 4073.\n",
      "25/06/19 11:58:31 WARN Utils: Service 'SparkUI' could not bind on port 4073. Attempting port 4074.\n",
      "25/06/19 11:58:31 WARN Utils: Service 'SparkUI' could not bind on port 4074. Attempting port 4075.\n",
      "25/06/19 11:58:31 WARN Utils: Service 'SparkUI' could not bind on port 4075. Attempting port 4076.\n",
      "25/06/19 11:58:31 WARN Utils: Service 'SparkUI' could not bind on port 4076. Attempting port 4077.\n",
      "25/06/19 11:58:31 WARN Utils: Service 'SparkUI' could not bind on port 4077. Attempting port 4078.\n",
      "25/06/19 11:58:31 WARN Utils: Service 'SparkUI' could not bind on port 4078. Attempting port 4079.\n",
      "25/06/19 11:58:31 WARN Utils: Service 'SparkUI' could not bind on port 4079. Attempting port 4080.\n",
      "25/06/19 11:58:31 WARN Utils: Service 'SparkUI' could not bind on port 4080. Attempting port 4081.\n",
      "25/06/19 11:58:31 WARN Utils: Service 'SparkUI' could not bind on port 4081. Attempting port 4082.\n",
      "25/06/19 11:58:31 WARN Utils: Service 'SparkUI' could not bind on port 4082. Attempting port 4083.\n",
      "25/06/19 11:58:31 WARN Utils: Service 'SparkUI' could not bind on port 4083. Attempting port 4084.\n",
      "25/06/19 11:58:31 WARN Utils: Service 'SparkUI' could not bind on port 4084. Attempting port 4085.\n",
      "25/06/19 11:58:31 WARN Utils: Service 'SparkUI' could not bind on port 4085. Attempting port 4086.\n",
      "25/06/19 11:58:31 WARN Utils: Service 'SparkUI' could not bind on port 4086. Attempting port 4087.\n",
      "25/06/19 11:58:31 WARN Utils: Service 'SparkUI' could not bind on port 4087. Attempting port 4088.\n",
      "25/06/19 11:58:31 WARN Utils: Service 'SparkUI' could not bind on port 4088. Attempting port 4089.\n",
      "25/06/19 11:58:31 WARN Utils: Service 'SparkUI' could not bind on port 4089. Attempting port 4090.\n",
      "25/06/19 11:58:31 WARN Utils: Service 'SparkUI' could not bind on port 4090. Attempting port 4091.\n",
      "25/06/19 11:58:31 WARN Utils: Service 'SparkUI' could not bind on port 4091. Attempting port 4092.\n",
      "25/06/19 11:58:31 WARN Utils: Service 'SparkUI' could not bind on port 4092. Attempting port 4093.\n",
      "25/06/19 11:58:31 WARN Utils: Service 'SparkUI' could not bind on port 4093. Attempting port 4094.\n",
      "25/06/19 11:58:31 WARN Utils: Service 'SparkUI' could not bind on port 4094. Attempting port 4095.\n",
      "25/06/19 11:58:31 WARN Utils: Service 'SparkUI' could not bind on port 4095. Attempting port 4096.\n",
      "25/06/19 11:58:31 WARN Utils: Service 'SparkUI' could not bind on port 4096. Attempting port 4097.\n",
      "25/06/19 11:58:31 WARN Utils: Service 'SparkUI' could not bind on port 4097. Attempting port 4098.\n",
      "25/06/19 11:58:31 WARN Utils: Service 'SparkUI' could not bind on port 4098. Attempting port 4099.\n",
      "25/06/19 11:58:31 WARN Utils: Service 'SparkUI' could not bind on port 4099. Attempting port 4100.\n",
      "25/06/19 11:58:31 WARN Utils: Service 'SparkUI' could not bind on port 4100. Attempting port 4101.\n",
      "25/06/19 11:58:31 WARN Utils: Service 'SparkUI' could not bind on port 4101. Attempting port 4102.\n",
      "25/06/19 11:58:31 WARN Utils: Service 'SparkUI' could not bind on port 4102. Attempting port 4103.\n",
      "25/06/19 11:58:31 WARN Utils: Service 'SparkUI' could not bind on port 4103. Attempting port 4104.\n",
      "25/06/19 11:58:31 WARN Utils: Service 'SparkUI' could not bind on port 4104. Attempting port 4105.\n",
      "25/06/19 11:58:31 WARN Utils: Service 'SparkUI' could not bind on port 4105. Attempting port 4106.\n",
      "25/06/19 11:58:31 WARN Utils: Service 'SparkUI' could not bind on port 4106. Attempting port 4107.\n",
      "25/06/19 11:58:31 WARN Utils: Service 'SparkUI' could not bind on port 4107. Attempting port 4108.\n",
      "25/06/19 11:58:31 WARN Utils: Service 'SparkUI' could not bind on port 4108. Attempting port 4109.\n",
      "25/06/19 11:58:31 WARN Utils: Service 'SparkUI' could not bind on port 4109. Attempting port 4110.\n",
      "25/06/19 11:58:31 WARN Utils: Service 'SparkUI' could not bind on port 4110. Attempting port 4111.\n",
      "25/06/19 11:58:31 WARN Utils: Service 'SparkUI' could not bind on port 4111. Attempting port 4112.\n",
      "25/06/19 11:58:31 WARN Utils: Service 'SparkUI' could not bind on port 4112. Attempting port 4113.\n",
      "25/06/19 11:58:31 WARN Utils: Service 'SparkUI' could not bind on port 4113. Attempting port 4114.\n",
      "25/06/19 11:58:31 WARN Utils: Service 'SparkUI' could not bind on port 4114. Attempting port 4115.\n",
      "25/06/19 11:58:31 WARN Utils: Service 'SparkUI' could not bind on port 4115. Attempting port 4116.\n",
      "25/06/19 11:58:31 WARN Utils: Service 'SparkUI' could not bind on port 4116. Attempting port 4117.\n"
     ]
    }
   ],
   "source": [
    "spark = SparkSession.builder.master(\"local[6]\").appName(\"VarunTrades\").getOrCreate()"
   ]
  },
  {
   "cell_type": "code",
   "execution_count": null,
   "id": "10be0b7e-64cb-4c70-8c24-aa40d6169fc7",
   "metadata": {},
   "outputs": [],
   "source": [
    "df = spark.read"
   ]
  }
 ],
 "metadata": {
  "kernelspec": {
   "display_name": "PySpark 3",
   "language": "python",
   "name": "pyspark3_env"
  },
  "language_info": {
   "codemirror_mode": {
    "name": "ipython",
    "version": 3
   },
   "file_extension": ".py",
   "mimetype": "text/x-python",
   "name": "python",
   "nbconvert_exporter": "python",
   "pygments_lexer": "ipython3",
   "version": "3.9.13"
  }
 },
 "nbformat": 4,
 "nbformat_minor": 5
}
