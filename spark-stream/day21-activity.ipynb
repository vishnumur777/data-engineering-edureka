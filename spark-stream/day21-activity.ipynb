{
 "cells": [
  {
   "cell_type": "code",
   "execution_count": 7,
   "id": "2310b4ff-0f16-4605-a142-94772699d4cf",
   "metadata": {},
   "outputs": [],
   "source": [
    "from pyspark.sql import SparkSession"
   ]
  },
  {
   "cell_type": "code",
   "execution_count": 8,
   "id": "e4e48c96-f785-4d60-b8d0-fe26caf9b355",
   "metadata": {},
   "outputs": [
    {
     "name": "stderr",
     "output_type": "stream",
     "text": [
      "25/06/16 12:21:43 WARN NativeCodeLoader: Unable to load native-hadoop library for your platform... using builtin-java classes where applicable\n",
      "Setting default log level to \"WARN\".\n",
      "To adjust logging level use sc.setLogLevel(newLevel). For SparkR, use setLogLevel(newLevel).\n",
      "25/06/16 12:21:45 WARN Utils: Service 'SparkUI' could not bind on port 4040. Attempting port 4041.\n",
      "25/06/16 12:21:45 WARN Utils: Service 'SparkUI' could not bind on port 4041. Attempting port 4042.\n",
      "25/06/16 12:21:45 WARN Utils: Service 'SparkUI' could not bind on port 4042. Attempting port 4043.\n",
      "25/06/16 12:21:45 WARN Utils: Service 'SparkUI' could not bind on port 4043. Attempting port 4044.\n",
      "25/06/16 12:21:45 WARN Utils: Service 'SparkUI' could not bind on port 4044. Attempting port 4045.\n",
      "25/06/16 12:21:45 WARN Utils: Service 'SparkUI' could not bind on port 4045. Attempting port 4046.\n",
      "25/06/16 12:21:45 WARN Utils: Service 'SparkUI' could not bind on port 4046. Attempting port 4047.\n",
      "25/06/16 12:21:45 WARN Utils: Service 'SparkUI' could not bind on port 4047. Attempting port 4048.\n",
      "25/06/16 12:21:45 WARN Utils: Service 'SparkUI' could not bind on port 4048. Attempting port 4049.\n",
      "25/06/16 12:21:45 WARN Utils: Service 'SparkUI' could not bind on port 4049. Attempting port 4050.\n",
      "25/06/16 12:21:45 WARN Utils: Service 'SparkUI' could not bind on port 4050. Attempting port 4051.\n",
      "25/06/16 12:21:45 WARN Utils: Service 'SparkUI' could not bind on port 4051. Attempting port 4052.\n",
      "25/06/16 12:21:45 WARN Utils: Service 'SparkUI' could not bind on port 4052. Attempting port 4053.\n",
      "25/06/16 12:21:45 WARN Utils: Service 'SparkUI' could not bind on port 4053. Attempting port 4054.\n",
      "25/06/16 12:21:45 WARN Utils: Service 'SparkUI' could not bind on port 4054. Attempting port 4055.\n",
      "25/06/16 12:21:45 WARN Utils: Service 'SparkUI' could not bind on port 4055. Attempting port 4056.\n",
      "25/06/16 12:21:45 WARN Utils: Service 'SparkUI' could not bind on port 4056. Attempting port 4057.\n",
      "25/06/16 12:21:45 WARN Utils: Service 'SparkUI' could not bind on port 4057. Attempting port 4058.\n",
      "25/06/16 12:21:45 WARN Utils: Service 'SparkUI' could not bind on port 4058. Attempting port 4059.\n",
      "25/06/16 12:21:45 WARN Utils: Service 'SparkUI' could not bind on port 4059. Attempting port 4060.\n",
      "25/06/16 12:21:45 WARN Utils: Service 'SparkUI' could not bind on port 4060. Attempting port 4061.\n",
      "25/06/16 12:21:45 WARN Utils: Service 'SparkUI' could not bind on port 4061. Attempting port 4062.\n",
      "25/06/16 12:21:45 WARN Utils: Service 'SparkUI' could not bind on port 4062. Attempting port 4063.\n",
      "25/06/16 12:21:45 WARN Utils: Service 'SparkUI' could not bind on port 4063. Attempting port 4064.\n",
      "25/06/16 12:21:45 WARN Utils: Service 'SparkUI' could not bind on port 4064. Attempting port 4065.\n",
      "25/06/16 12:21:45 WARN Utils: Service 'SparkUI' could not bind on port 4065. Attempting port 4066.\n",
      "25/06/16 12:21:45 WARN Utils: Service 'SparkUI' could not bind on port 4066. Attempting port 4067.\n",
      "25/06/16 12:21:45 WARN Utils: Service 'SparkUI' could not bind on port 4067. Attempting port 4068.\n",
      "25/06/16 12:21:45 WARN Utils: Service 'SparkUI' could not bind on port 4068. Attempting port 4069.\n",
      "25/06/16 12:21:45 WARN Utils: Service 'SparkUI' could not bind on port 4069. Attempting port 4070.\n",
      "25/06/16 12:21:45 WARN Utils: Service 'SparkUI' could not bind on port 4070. Attempting port 4071.\n",
      "25/06/16 12:21:45 WARN Utils: Service 'SparkUI' could not bind on port 4071. Attempting port 4072.\n",
      "25/06/16 12:21:45 WARN Utils: Service 'SparkUI' could not bind on port 4072. Attempting port 4073.\n",
      "25/06/16 12:21:45 WARN Utils: Service 'SparkUI' could not bind on port 4073. Attempting port 4074.\n",
      "25/06/16 12:21:45 WARN Utils: Service 'SparkUI' could not bind on port 4074. Attempting port 4075.\n",
      "25/06/16 12:21:45 WARN Utils: Service 'SparkUI' could not bind on port 4075. Attempting port 4076.\n",
      "25/06/16 12:21:45 WARN Utils: Service 'SparkUI' could not bind on port 4076. Attempting port 4077.\n",
      "25/06/16 12:21:45 WARN Utils: Service 'SparkUI' could not bind on port 4077. Attempting port 4078.\n",
      "25/06/16 12:21:45 WARN Utils: Service 'SparkUI' could not bind on port 4078. Attempting port 4079.\n",
      "25/06/16 12:21:45 WARN Utils: Service 'SparkUI' could not bind on port 4079. Attempting port 4080.\n",
      "25/06/16 12:21:45 WARN Utils: Service 'SparkUI' could not bind on port 4080. Attempting port 4081.\n",
      "25/06/16 12:21:45 WARN Utils: Service 'SparkUI' could not bind on port 4081. Attempting port 4082.\n",
      "25/06/16 12:21:45 WARN Utils: Service 'SparkUI' could not bind on port 4082. Attempting port 4083.\n",
      "25/06/16 12:21:45 WARN Utils: Service 'SparkUI' could not bind on port 4083. Attempting port 4084.\n",
      "25/06/16 12:21:45 WARN Utils: Service 'SparkUI' could not bind on port 4084. Attempting port 4085.\n",
      "25/06/16 12:21:45 WARN Utils: Service 'SparkUI' could not bind on port 4085. Attempting port 4086.\n"
     ]
    }
   ],
   "source": [
    "spark = SparkSession.builder.master(\"local[5]\").appName(\"VarunMSpark\").getOrCreate()"
   ]
  },
  {
   "cell_type": "code",
   "execution_count": 9,
   "id": "dffbd8aa-0f18-4714-b95b-435288701b9b",
   "metadata": {},
   "outputs": [
    {
     "data": {
      "text/html": [
       "\n",
       "            <div>\n",
       "                <p><b>SparkSession - in-memory</b></p>\n",
       "                \n",
       "        <div>\n",
       "            <p><b>SparkContext</b></p>\n",
       "\n",
       "            <p><a href=\"http://ip-172-31-14-209.ap-south-1.compute.internal:4086\">Spark UI</a></p>\n",
       "\n",
       "            <dl>\n",
       "              <dt>Version</dt>\n",
       "                <dd><code>v3.1.2</code></dd>\n",
       "              <dt>Master</dt>\n",
       "                <dd><code>local[5]</code></dd>\n",
       "              <dt>AppName</dt>\n",
       "                <dd><code>VarunMSpark</code></dd>\n",
       "            </dl>\n",
       "        </div>\n",
       "        \n",
       "            </div>\n",
       "        "
      ],
      "text/plain": [
       "<pyspark.sql.session.SparkSession at 0x7f16141f1a00>"
      ]
     },
     "execution_count": 9,
     "metadata": {},
     "output_type": "execute_result"
    }
   ],
   "source": [
    "spark"
   ]
  },
  {
   "cell_type": "code",
   "execution_count": 10,
   "id": "c7e05e74-fb1b-42d1-9dc5-056eb05d13bc",
   "metadata": {},
   "outputs": [],
   "source": [
    "from pyspark.sql.types import *\n",
    "from pyspark.sql.functions import split, explode"
   ]
  },
  {
   "cell_type": "code",
   "execution_count": 11,
   "id": "d6bad17b-0d64-4e28-9eb2-8dd725fd0635",
   "metadata": {},
   "outputs": [],
   "source": [
    "sch = StructType([ StructField('words',StringType(),False),StructField('value',LongType(),False)])"
   ]
  },
  {
   "cell_type": "code",
   "execution_count": 12,
   "id": "bc7f01b9-c528-4215-b340-63b1591d3cf5",
   "metadata": {},
   "outputs": [
    {
     "name": "stderr",
     "output_type": "stream",
     "text": [
      "25/06/16 12:21:57 WARN TextSocketSourceProvider: The socket source should not be used for production applications! It does not support recovery.\n"
     ]
    }
   ],
   "source": [
    "df = spark.readStream.format('socket').option('host','localhost').option('port',9940).load('purplecow.txt')"
   ]
  },
  {
   "cell_type": "code",
   "execution_count": 13,
   "id": "5e8b916b-58eb-4dbe-9dd7-2562d58b0538",
   "metadata": {},
   "outputs": [
    {
     "name": "stdout",
     "output_type": "stream",
     "text": [
      "root\n",
      " |-- value: string (nullable = true)\n",
      "\n"
     ]
    }
   ],
   "source": [
    "df.printSchema()"
   ]
  },
  {
   "cell_type": "code",
   "execution_count": 14,
   "id": "5f626c23-c3fa-405a-b103-4108bf44d429",
   "metadata": {},
   "outputs": [],
   "source": [
    "wc = df.select(explode(split('value',' ')).alias('words')).groupBy('words').count()"
   ]
  },
  {
   "cell_type": "code",
   "execution_count": null,
   "id": "f8990796-7f13-4d5d-a975-6ce031c4a386",
   "metadata": {},
   "outputs": [
    {
     "name": "stderr",
     "output_type": "stream",
     "text": [
      "25/06/16 12:22:01 WARN StreamingQueryManager: Temporary checkpoint location created which is deleted normally when the query didn't fail: /tmp/temporary-cc8fc005-91b5-4c4d-a746-f7b344d7dba6. If it's required to delete it under any circumstances, please set spark.sql.streaming.forceDeleteTempCheckpointLocation to true. Important to know deleting temp checkpoint folder is best effort.\n",
      "                                                                                \r"
     ]
    },
    {
     "name": "stdout",
     "output_type": "stream",
     "text": [
      "-------------------------------------------\n",
      "Batch: 0\n",
      "-------------------------------------------\n",
      "+-----+-----+\n",
      "|words|count|\n",
      "+-----+-----+\n",
      "+-----+-----+\n",
      "\n"
     ]
    },
    {
     "name": "stderr",
     "output_type": "stream",
     "text": [
      "                                                                                \r"
     ]
    },
    {
     "name": "stdout",
     "output_type": "stream",
     "text": [
      "-------------------------------------------\n",
      "Batch: 1\n",
      "-------------------------------------------\n",
      "+--------------------+-----+\n",
      "|               words|count|\n",
      "+--------------------+-----+\n",
      "|{\"department_id\":...|    1|\n",
      "|{\"department_id\":...|    1|\n",
      "|{\"department_id\":...|    1|\n",
      "+--------------------+-----+\n",
      "\n"
     ]
    },
    {
     "name": "stderr",
     "output_type": "stream",
     "text": [
      "                                                                                \r"
     ]
    },
    {
     "name": "stdout",
     "output_type": "stream",
     "text": [
      "-------------------------------------------\n",
      "Batch: 2\n",
      "-------------------------------------------\n",
      "+--------------------+-----+\n",
      "|               words|count|\n",
      "+--------------------+-----+\n",
      "|{\"department_id\":...|    1|\n",
      "|{\"department_id\":...|    1|\n",
      "|{\"department_id\":...|    2|\n",
      "+--------------------+-----+\n",
      "\n"
     ]
    },
    {
     "name": "stderr",
     "output_type": "stream",
     "text": [
      "                                                                                \r"
     ]
    },
    {
     "name": "stdout",
     "output_type": "stream",
     "text": [
      "-------------------------------------------\n",
      "Batch: 3\n",
      "-------------------------------------------\n",
      "+--------------------+-----+\n",
      "|               words|count|\n",
      "+--------------------+-----+\n",
      "|{\"department_id\":...|    1|\n",
      "|{\"department_id\":...|    1|\n",
      "|{\"department_id\":...|    1|\n",
      "|{\"department_id\":...|    2|\n",
      "+--------------------+-----+\n",
      "\n"
     ]
    }
   ],
   "source": [
    "wc.writeStream.format('console').outputMode('complete').start().awaitTermination()"
   ]
  },
  {
   "cell_type": "code",
   "execution_count": null,
   "id": "e08642dc-4d02-457a-a1be-214c8cc708c1",
   "metadata": {},
   "outputs": [],
   "source": []
  }
 ],
 "metadata": {
  "kernelspec": {
   "display_name": "Python 3 (ipykernel)",
   "language": "python",
   "name": "python3"
  },
  "language_info": {
   "codemirror_mode": {
    "name": "ipython",
    "version": 3
   },
   "file_extension": ".py",
   "mimetype": "text/x-python",
   "name": "python",
   "nbconvert_exporter": "python",
   "pygments_lexer": "ipython3",
   "version": "3.9.13"
  }
 },
 "nbformat": 4,
 "nbformat_minor": 5
}
