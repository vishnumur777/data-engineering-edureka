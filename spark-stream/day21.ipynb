{
 "cells": [
  {
   "cell_type": "code",
   "execution_count": null,
   "id": "7a3e8453-91d8-474e-ac46-77ce0102e590",
   "metadata": {},
   "outputs": [],
   "source": [
    "from pyspark import SparkConf, SparkContext\n",
    "from pyspark.streaming import StreamingContext"
   ]
  },
  {
   "cell_type": "code",
   "execution_count": null,
   "id": "8685f3bf-8cf0-43b2-ba2d-f53d54d46876",
   "metadata": {},
   "outputs": [],
   "source": [
    "conf = SparkConf().setMaster('local[5]').setAppName(\"VarunStreaming\")"
   ]
  },
  {
   "cell_type": "code",
   "execution_count": null,
   "id": "845122c6-ee52-4e26-a41b-d25a934d4355",
   "metadata": {},
   "outputs": [],
   "source": [
    "sc = SparkContext(conf=conf)"
   ]
  },
  {
   "cell_type": "code",
   "execution_count": null,
   "id": "4c765aa3-bb49-4a8f-9e54-8bd739a6894f",
   "metadata": {},
   "outputs": [],
   "source": [
    "ssc = StreamingContext(sc, 1)"
   ]
  },
  {
   "cell_type": "code",
   "execution_count": null,
   "id": "1374248e-8938-4889-b080-aca0eb0b7189",
   "metadata": {},
   "outputs": [],
   "source": [
    "ds = ssc.socketTextStream(\"0.0.0.0\",9941)"
   ]
  },
  {
   "cell_type": "code",
   "execution_count": null,
   "id": "a545166b-af13-4ec4-8eea-26c46a631b19",
   "metadata": {},
   "outputs": [],
   "source": [
    "words = ds.flatMap(lambda x: x.split()).map(lambda x: (x, 1))"
   ]
  },
  {
   "cell_type": "code",
   "execution_count": null,
   "id": "8781ebb2-37f9-4be6-8092-a05761c8bd28",
   "metadata": {},
   "outputs": [],
   "source": [
    "wc = words.reduceByKey(lambda x, y: x+y)"
   ]
  },
  {
   "cell_type": "code",
   "execution_count": null,
   "id": "f254957b-444d-4a03-b518-8d06e5cdd3fc",
   "metadata": {},
   "outputs": [],
   "source": [
    "wc.pprint()\n",
    "ssc.start()\n",
    "ssc.awaitTermination()\n",
    "sc.close()"
   ]
  },
  {
   "cell_type": "markdown",
   "id": "bff5ea31-ca4c-4ca5-b8da-b46dd1c91f61",
   "metadata": {},
   "source": [
    "### Windowing in DStreams\n",
    "\n",
    "- storing more than 1 DStreams is calledd as windowing in DStreams\n",
    "- it has wiindow size\n",
    "e.g: window size: 3, \n",
    "then 3x5sec = 15sec\n",
    "\n",
    "which repeats every 15 sec\n",
    "\n",
    "### Tumbling window\n",
    "\n",
    "where Dstreams create more than one window after each time interval related to window"
   ]
  },
  {
   "cell_type": "markdown",
   "id": "0112622a-c468-4f50-9097-3e949580f03f",
   "metadata": {},
   "source": [
    "### Sliding window"
   ]
  },
  {
   "cell_type": "markdown",
   "id": "22e9ad26-ba56-46d3-9365-b5a86df15d5b",
   "metadata": {},
   "source": [
    "- 5sec -> checkpointing\n",
    "- 10 sec -> checkpointing\n",
    "- 15 sec -> checkpointing -> processing\n",
    "- 20 sec -> checkpoint\n",
    "- 25 sec -> checkpoint\n",
    "- 30 sec -> checkpointing -> processing"
   ]
  },
  {
   "cell_type": "markdown",
   "id": "b3fd37b4-4a33-41de-aaf7-cdf6685a1021",
   "metadata": {},
   "source": [
    "### Windowing is a stateful operation"
   ]
  },
  {
   "cell_type": "code",
   "execution_count": null,
   "id": "4aa0c172-8e87-4288-ac98-659f02c4567c",
   "metadata": {},
   "outputs": [],
   "source": [
    "words.reduceByKeyAndWindow()"
   ]
  }
 ],
 "metadata": {
  "kernelspec": {
   "display_name": "PySpark 3",
   "language": "python",
   "name": "pyspark3_env"
  },
  "language_info": {
   "codemirror_mode": {
    "name": "ipython",
    "version": 3
   },
   "file_extension": ".py",
   "mimetype": "text/x-python",
   "name": "python",
   "nbconvert_exporter": "python",
   "pygments_lexer": "ipython3",
   "version": "3.9.13"
  }
 },
 "nbformat": 4,
 "nbformat_minor": 5
}
