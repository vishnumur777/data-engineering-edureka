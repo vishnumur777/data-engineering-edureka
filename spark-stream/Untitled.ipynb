{
 "cells": [
  {
   "cell_type": "code",
   "execution_count": 1,
   "id": "2674b2e8-8b57-4a49-a507-ee55ac06c342",
   "metadata": {},
   "outputs": [],
   "source": [
    "from pyspark.sql import SparkSession"
   ]
  },
  {
   "cell_type": "code",
   "execution_count": null,
   "id": "ad5de1fe-2a9e-4ec6-84b8-911dbaed0bbf",
   "metadata": {},
   "outputs": [],
   "source": [
    "spark = SparkSession.builder.appName('VarunMYSQL').config('spark.jars.packages','mysql:mysql-connector-java:8.0.28').master('yarn').getOrCreate()"
   ]
  },
  {
   "cell_type": "code",
   "execution_count": null,
   "id": "ce602275-06b0-430b-a710-81e638f6c179",
   "metadata": {},
   "outputs": [],
   "source": [
    "employees = spark.read.format('jdbc').option('url','jdbc:mysql://master:3306/varunm15t38hedu')\\\n",
    "        .option('user','varunm15t38hedu')\\\n",
    "        .option('password','PlumWaspbca52@')\\\n",
    "        .option('dbtable','employees')\\\n",
    "        .option('driver','com.mysql.cj.jdbc.Driver').load()"
   ]
  },
  {
   "cell_type": "code",
   "execution_count": 4,
   "id": "5b023a95-5645-4136-b09e-179486bdb7ad",
   "metadata": {},
   "outputs": [
    {
     "name": "stderr",
     "output_type": "stream",
     "text": [
      "                                                                                \r"
     ]
    },
    {
     "name": "stdout",
     "output_type": "stream",
     "text": [
      "+-----------+-----------+----------+--------+------------+----------+----------+--------+--------------+----------+-------------+\n",
      "|employee_id| first_name| last_name|   email|phone_number| hire_date|    job_id|  salary|commission_pct|manager_id|department_id|\n",
      "+-----------+-----------+----------+--------+------------+----------+----------+--------+--------------+----------+-------------+\n",
      "|        100|     Steven|      King|   SKING|515.123.4567|1987-06-17|   AD_PRES|24000.00|          null|      null|           90|\n",
      "|        101|      Neena|   Kochhar|NKOCHHAR|515.123.4568|1989-09-21|     AD_VP|17000.00|          null|       100|           90|\n",
      "|        102|        Lex|   De Haan| LDEHAAN|515.123.4569|1993-01-13|     AD_VP|17000.00|          null|       100|           90|\n",
      "|        103|  Alexander|    Hunold| AHUNOLD|590.423.4567|1990-01-03|   IT_PROG| 9000.00|          null|       102|           60|\n",
      "|        104|      Bruce|     Ernst|  BERNST|590.423.4568|1991-05-21|   IT_PROG| 6000.00|          null|       103|           60|\n",
      "|        105|      David|    Austin| DAUSTIN|590.423.4569|1997-06-25|   IT_PROG| 4800.00|          null|       103|           60|\n",
      "|        106|      Valli| Pataballa|VPATABAL|590.423.4560|1998-02-05|   IT_PROG| 4800.00|          null|       103|           60|\n",
      "|        107|      Diana|   Lorentz|DLORENTZ|590.423.5567|1999-02-07|   IT_PROG| 4200.00|          null|       103|           60|\n",
      "|        108|      Nancy| Greenberg|NGREENBE|515.124.4569|1994-08-17|    FI_MGR|12000.00|          null|       101|          100|\n",
      "|        109|     Daniel|    Faviet| DFAVIET|515.124.4169|1994-08-16|FI_ACCOUNT| 9000.00|          null|       108|          100|\n",
      "|        110|       John|      Chen|   JCHEN|515.124.4269|1997-09-28|FI_ACCOUNT| 8200.00|          null|       108|          100|\n",
      "|        111|     Ismael|   Sciarra|ISCIARRA|515.124.4369|1997-09-30|FI_ACCOUNT| 7700.00|          null|       108|          100|\n",
      "|        112|Jose Manuel|     Urman| JMURMAN|515.124.4469|1998-03-07|FI_ACCOUNT| 7800.00|          null|       108|          100|\n",
      "|        113|       Luis|      Popp|   LPOPP|515.124.4567|1999-12-07|FI_ACCOUNT| 6900.00|          null|       108|          100|\n",
      "|        114|        Den|  Raphaely|DRAPHEAL|515.127.4561|1994-12-07|    PU_MAN|11000.00|          null|       100|           30|\n",
      "|        115|  Alexander|      Khoo|   AKHOO|515.127.4562|1995-05-18|  PU_CLERK| 3100.00|          null|       114|           30|\n",
      "|        116|     Shelli|     Baida|  SBAIDA|515.127.4563|1997-12-24|  PU_CLERK| 2900.00|          null|       114|           30|\n",
      "|        117|      Sigal|    Tobias| STOBIAS|515.127.4564|1997-07-24|  PU_CLERK| 2800.00|          null|       114|           30|\n",
      "|        118|        Guy|    Himuro| GHIMURO|515.127.4565|1998-11-15|  PU_CLERK| 2600.00|          null|       114|           30|\n",
      "|        119|      Karen|Colmenares|KCOLMENA|515.127.4566|1999-08-10|  PU_CLERK| 2500.00|          null|       114|           30|\n",
      "+-----------+-----------+----------+--------+------------+----------+----------+--------+--------------+----------+-------------+\n",
      "only showing top 20 rows\n",
      "\n"
     ]
    }
   ],
   "source": [
    "employees.show()"
   ]
  },
  {
   "cell_type": "code",
   "execution_count": 5,
   "id": "35ae473c-29cf-4ede-88db-23f8d63447b6",
   "metadata": {},
   "outputs": [],
   "source": [
    "from pyspark.sql.types import *\n",
    "from pyspark.sql.functions import *"
   ]
  },
  {
   "cell_type": "code",
   "execution_count": 6,
   "id": "0273ec43-eb17-4764-be88-c48914934f79",
   "metadata": {},
   "outputs": [],
   "source": [
    "sch = StructType([ StructField('department_id',IntegerType(),False),StructField('dname',StringType(),False),StructField('manager_id',IntegerType(),False),StructField('location_id',IntegerType(),False)])"
   ]
  },
  {
   "cell_type": "code",
   "execution_count": 7,
   "id": "7b7ea968-a674-4fcc-a9a6-f944a1ffb4bf",
   "metadata": {},
   "outputs": [
    {
     "name": "stderr",
     "output_type": "stream",
     "text": [
      "25/06/16 12:26:08 WARN TextSocketSourceProvider: The socket source should not be used for production applications! It does not support recovery.\n"
     ]
    }
   ],
   "source": [
    "departments = spark.readStream.format('socket').option('host','localhost').option('port',9940).load()"
   ]
  },
  {
   "cell_type": "code",
   "execution_count": 8,
   "id": "7889013a-e312-4ef4-b925-e097ab8af626",
   "metadata": {},
   "outputs": [],
   "source": [
    "deptdata=departments.select(from_json(col('value').cast('string'),sch).alias('value'))"
   ]
  },
  {
   "cell_type": "code",
   "execution_count": 9,
   "id": "11e4db1b-c4d2-4ae3-b956-81bb4518ef40",
   "metadata": {},
   "outputs": [
    {
     "name": "stdout",
     "output_type": "stream",
     "text": [
      "root\n",
      " |-- value: struct (nullable = true)\n",
      " |    |-- department_id: integer (nullable = true)\n",
      " |    |-- dname: string (nullable = true)\n",
      " |    |-- manager_id: integer (nullable = true)\n",
      " |    |-- location_id: integer (nullable = true)\n",
      "\n"
     ]
    }
   ],
   "source": [
    "deptdata.printSchema()"
   ]
  },
  {
   "cell_type": "markdown",
   "id": "fdcb9d45-fd55-47aa-97bf-5360daaab67a",
   "metadata": {},
   "source": [
    "### Joining batch vs stream data"
   ]
  },
  {
   "cell_type": "code",
   "execution_count": 10,
   "id": "7e2232b8-1bb7-4cc6-bd57-54f8e5ee96f2",
   "metadata": {},
   "outputs": [],
   "source": [
    "tradeDF=deptdata.select(\"value.*\")"
   ]
  },
  {
   "cell_type": "code",
   "execution_count": 11,
   "id": "673d1b30-4e4e-4f71-b639-69b413cd09c7",
   "metadata": {},
   "outputs": [],
   "source": [
    "j1=employees.join(tradeDF,employees.department_id==tradeDF.department_id,'inner')"
   ]
  },
  {
   "cell_type": "code",
   "execution_count": null,
   "id": "1b44e854-5222-484e-b447-5ea8a06841d9",
   "metadata": {},
   "outputs": [],
   "source": [
    "j1.writeStream.format('console').outputMode('update').option('checkpointLocation','chk134').trigger(processingTime='1 minute').start().awaitTermination()"
   ]
  },
  {
   "cell_type": "code",
   "execution_count": null,
   "id": "1b4a5033-4ba1-4b3a-8f9d-262c7bf0bc00",
   "metadata": {},
   "outputs": [],
   "source": []
  }
 ],
 "metadata": {
  "kernelspec": {
   "display_name": "PySpark 3",
   "language": "python",
   "name": "pyspark3_env"
  },
  "language_info": {
   "codemirror_mode": {
    "name": "ipython",
    "version": 3
   },
   "file_extension": ".py",
   "mimetype": "text/x-python",
   "name": "python",
   "nbconvert_exporter": "python",
   "pygments_lexer": "ipython3",
   "version": "3.9.13"
  }
 },
 "nbformat": 4,
 "nbformat_minor": 5
}
