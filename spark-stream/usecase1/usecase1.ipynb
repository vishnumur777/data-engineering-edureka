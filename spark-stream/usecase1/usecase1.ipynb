{
 "cells": [
  {
   "cell_type": "code",
   "execution_count": 2,
   "id": "6ed9d26c-b327-4282-aafb-e75010367012",
   "metadata": {},
   "outputs": [],
   "source": [
    "from pyspark.sql import SparkSession"
   ]
  },
  {
   "cell_type": "code",
   "execution_count": 3,
   "id": "dc308107-0326-4b27-a12b-4a599a04ffee",
   "metadata": {},
   "outputs": [
    {
     "name": "stderr",
     "output_type": "stream",
     "text": [
      "25/06/16 16:19:46 WARN NativeCodeLoader: Unable to load native-hadoop library for your platform... using builtin-java classes where applicable\n",
      "Setting default log level to \"WARN\".\n",
      "To adjust logging level use sc.setLogLevel(newLevel). For SparkR, use setLogLevel(newLevel).\n",
      "25/06/16 16:19:50 WARN Utils: Service 'SparkUI' could not bind on port 4040. Attempting port 4041.\n",
      "25/06/16 16:19:50 WARN Utils: Service 'SparkUI' could not bind on port 4041. Attempting port 4042.\n",
      "25/06/16 16:19:50 WARN Utils: Service 'SparkUI' could not bind on port 4042. Attempting port 4043.\n",
      "25/06/16 16:19:50 WARN Utils: Service 'SparkUI' could not bind on port 4043. Attempting port 4044.\n",
      "25/06/16 16:19:50 WARN Utils: Service 'SparkUI' could not bind on port 4044. Attempting port 4045.\n",
      "25/06/16 16:19:50 WARN Utils: Service 'SparkUI' could not bind on port 4045. Attempting port 4046.\n",
      "25/06/16 16:19:50 WARN Utils: Service 'SparkUI' could not bind on port 4046. Attempting port 4047.\n",
      "25/06/16 16:19:50 WARN Utils: Service 'SparkUI' could not bind on port 4047. Attempting port 4048.\n",
      "25/06/16 16:19:50 WARN Utils: Service 'SparkUI' could not bind on port 4048. Attempting port 4049.\n",
      "25/06/16 16:19:50 WARN Utils: Service 'SparkUI' could not bind on port 4049. Attempting port 4050.\n",
      "25/06/16 16:19:50 WARN Utils: Service 'SparkUI' could not bind on port 4050. Attempting port 4051.\n",
      "25/06/16 16:19:50 WARN Utils: Service 'SparkUI' could not bind on port 4051. Attempting port 4052.\n",
      "25/06/16 16:19:50 WARN Utils: Service 'SparkUI' could not bind on port 4052. Attempting port 4053.\n",
      "25/06/16 16:19:50 WARN Utils: Service 'SparkUI' could not bind on port 4053. Attempting port 4054.\n",
      "25/06/16 16:19:51 WARN Client: Neither spark.yarn.jars nor spark.yarn.archive is set, falling back to uploading libraries under SPARK_HOME.\n"
     ]
    }
   ],
   "source": [
    "spark = SparkSession.builder \\\n",
    " .appName(\"RideEventsStreaming\") \\\n",
    " .getOrCreate()"
   ]
  },
  {
   "cell_type": "code",
   "execution_count": 4,
   "id": "2e90f839-f8b7-41c1-a396-5b94d7daa21a",
   "metadata": {},
   "outputs": [],
   "source": [
    "from pyspark.sql.types import *"
   ]
  },
  {
   "cell_type": "code",
   "execution_count": 5,
   "id": "041ccf3b-ca56-424a-9ed0-e3575fcdcbcc",
   "metadata": {},
   "outputs": [],
   "source": [
    "schema = StructType([\n",
    " StructField(\"ride_id\", StringType()),\n",
    " StructField(\"tpep_pickup_datetime\", StringType()),\n",
    " StructField(\"PULocationID\", IntegerType()),\n",
    " StructField(\"driver_id\", StringType())\n",
    "])"
   ]
  },
  {
   "cell_type": "code",
   "execution_count": 6,
   "id": "a7ce3908-0274-4c78-9e06-1bd13ad5a601",
   "metadata": {},
   "outputs": [],
   "source": [
    "rides_df = spark.readStream \\\n",
    "    .schema(schema) \\\n",
    "    .format(\"json\") \\\n",
    "    .option(\"maxFilesPerTrigger\", 1) \\\n",
    "    .load(\"sparkstream/streaminputs/\")"
   ]
  },
  {
   "cell_type": "code",
   "execution_count": 7,
   "id": "c6d0cbb1-900a-49ea-8244-50bfc53c404e",
   "metadata": {},
   "outputs": [],
   "source": [
    "from pyspark.sql.functions import to_timestamp"
   ]
  },
  {
   "cell_type": "code",
   "execution_count": 8,
   "id": "51586239-bdcb-43c3-8e54-a52a3ef0c1d1",
   "metadata": {},
   "outputs": [],
   "source": [
    "rides_df = rides_df.withColumn(\"event_time\", to_timestamp(\"tpep_pickup_datetime\"))"
   ]
  },
  {
   "cell_type": "code",
   "execution_count": 9,
   "id": "01ac3546-3e7b-485f-8c7d-bd7d835d3475",
   "metadata": {},
   "outputs": [],
   "source": [
    "from pyspark.sql.functions import window, count"
   ]
  },
  {
   "cell_type": "code",
   "execution_count": 10,
   "id": "6e5735dd-3449-4d46-9e7f-d865feb30383",
   "metadata": {},
   "outputs": [],
   "source": [
    "windowed_df = rides_df \\\n",
    " .withWatermark(\"event_time\", \"5 minutes\") \\\n",
    " .groupBy(window(\"event_time\", \"10 minutes\"), \"PULocationID\") \\\n",
    " .agg(count(\"*\").alias(\"ride_count\"))"
   ]
  },
  {
   "cell_type": "code",
   "execution_count": 11,
   "id": "39d79691-5d46-4f07-b4b3-c691d9b26fdb",
   "metadata": {},
   "outputs": [
    {
     "name": "stderr",
     "output_type": "stream",
     "text": [
      "                                                                                \r"
     ]
    }
   ],
   "source": [
    "drivers_df = spark.read.csv(\"driver_profies.csv\", header=True, inferSchema=True)"
   ]
  },
  {
   "cell_type": "code",
   "execution_count": 12,
   "id": "92536d45-9823-4cc1-b322-7a28b5c5e6aa",
   "metadata": {},
   "outputs": [],
   "source": [
    "enriched_df = rides_df.join(drivers_df, on=\"driver_id\", how=\"left\")"
   ]
  },
  {
   "cell_type": "code",
   "execution_count": 13,
   "id": "a54422aa-92e3-4ce4-b5c8-11662d918a3f",
   "metadata": {},
   "outputs": [],
   "source": [
    "low_rated_df = enriched_df.filter(\"driver_rating < 4.0\")"
   ]
  },
  {
   "cell_type": "code",
   "execution_count": 14,
   "id": "3ce1e53d-94b0-4038-ae64-94658fe011e6",
   "metadata": {},
   "outputs": [
    {
     "name": "stderr",
     "output_type": "stream",
     "text": [
      "                                                                                \r"
     ]
    },
    {
     "name": "stdout",
     "output_type": "stream",
     "text": [
      "-------------------------------------------\n",
      "Batch: 0\n",
      "-------------------------------------------\n",
      "+--------------------+------------+----------+\n",
      "|              window|PULocationID|ride_count|\n",
      "+--------------------+------------+----------+\n",
      "|{2025-06-10 10:20...|          29|         1|\n",
      "|{2025-06-10 06:00...|          98|         1|\n",
      "|{2025-06-10 08:00...|           4|         1|\n",
      "|{2025-06-10 06:20...|          72|         1|\n",
      "|{2025-06-10 07:50...|          87|         1|\n",
      "|{2025-06-10 06:30...|           4|         1|\n",
      "|{2025-06-10 14:10...|          76|         1|\n",
      "|{2025-06-10 07:30...|          76|         1|\n",
      "|{2025-06-10 15:50...|          54|         1|\n",
      "|{2025-06-10 09:50...|          30|         1|\n",
      "+--------------------+------------+----------+\n",
      "\n"
     ]
    },
    {
     "name": "stderr",
     "output_type": "stream",
     "text": [
      "                                                                                \r"
     ]
    },
    {
     "name": "stdout",
     "output_type": "stream",
     "text": [
      "-------------------------------------------\n",
      "Batch: 1\n",
      "-------------------------------------------\n",
      "+--------------------+------------+----------+\n",
      "|              window|PULocationID|ride_count|\n",
      "+--------------------+------------+----------+\n",
      "|{2025-06-10 10:40...|           6|         1|\n",
      "|{2025-06-10 08:40...|          28|         1|\n",
      "|{2025-06-10 10:20...|          29|         1|\n",
      "|{2025-06-10 07:50...|          12|         1|\n",
      "|{2025-06-10 06:00...|          98|         1|\n",
      "|{2025-06-10 08:00...|           4|         1|\n",
      "|{2025-06-10 06:20...|          72|         1|\n",
      "|{2025-06-10 07:20...|          71|         1|\n",
      "|{2025-06-10 12:30...|          74|         1|\n",
      "|{2025-06-10 07:50...|          87|         1|\n",
      "|{2025-06-10 06:30...|           4|         1|\n",
      "|{2025-06-10 15:40...|          16|         1|\n",
      "|{2025-06-10 07:40...|          46|         1|\n",
      "|{2025-06-10 14:10...|          76|         1|\n",
      "|{2025-06-10 07:30...|          76|         1|\n",
      "|{2025-06-10 11:10...|          11|         1|\n",
      "|{2025-06-10 15:50...|          54|         1|\n",
      "|{2025-06-10 09:50...|          30|         1|\n",
      "|{2025-06-10 13:40...|          44|         1|\n",
      "|{2025-06-10 07:10...|           6|         1|\n",
      "+--------------------+------------+----------+\n",
      "\n"
     ]
    },
    {
     "name": "stderr",
     "output_type": "stream",
     "text": [
      "                                                                                \r"
     ]
    },
    {
     "name": "stdout",
     "output_type": "stream",
     "text": [
      "-------------------------------------------\n",
      "Batch: 2\n",
      "-------------------------------------------\n",
      "+--------------------+------------+----------+\n",
      "|              window|PULocationID|ride_count|\n",
      "+--------------------+------------+----------+\n",
      "|{2025-06-10 15:40...|          94|         1|\n",
      "|{2025-06-10 10:40...|           6|         1|\n",
      "|{2025-06-10 08:40...|          28|         1|\n",
      "|{2025-06-10 10:20...|          29|         1|\n",
      "|{2025-06-10 07:50...|          12|         1|\n",
      "|{2025-06-10 06:00...|          98|         1|\n",
      "|{2025-06-10 10:50...|          82|         1|\n",
      "|{2025-06-10 08:00...|           4|         1|\n",
      "|{2025-06-10 14:10...|          82|         1|\n",
      "|{2025-06-10 06:20...|          72|         1|\n",
      "|{2025-06-10 07:50...|          49|         1|\n",
      "|{2025-06-10 07:20...|          71|         1|\n",
      "|{2025-06-10 12:30...|          74|         1|\n",
      "|{2025-06-10 07:50...|          87|         1|\n",
      "|{2025-06-10 06:30...|           4|         1|\n",
      "|{2025-06-10 15:40...|          16|         1|\n",
      "|{2025-06-10 07:00...|          30|         1|\n",
      "|{2025-06-10 07:40...|          46|         1|\n",
      "|{2025-06-10 14:10...|          76|         1|\n",
      "|{2025-06-10 08:50...|          60|         1|\n",
      "+--------------------+------------+----------+\n",
      "only showing top 20 rows\n",
      "\n"
     ]
    },
    {
     "name": "stderr",
     "output_type": "stream",
     "text": [
      "[Stage 9:==============================>                        (110 + 1) / 200]\r"
     ]
    },
    {
     "ename": "KeyboardInterrupt",
     "evalue": "",
     "output_type": "error",
     "traceback": [
      "\u001b[0;31m---------------------------------------------------------------------------\u001b[0m",
      "\u001b[0;31mKeyboardInterrupt\u001b[0m                         Traceback (most recent call last)",
      "\u001b[0;32m/tmp/ipykernel_1536146/3025614861.py\u001b[0m in \u001b[0;36m<module>\u001b[0;34m\u001b[0m\n\u001b[0;32m----> 1\u001b[0;31m \u001b[0mwindowed_df\u001b[0m\u001b[0;34m.\u001b[0m\u001b[0mwriteStream\u001b[0m\u001b[0;31m \u001b[0m\u001b[0;31m\\\u001b[0m\u001b[0;34m\u001b[0m\u001b[0;34m\u001b[0m\u001b[0m\n\u001b[0m\u001b[1;32m      2\u001b[0m  \u001b[0;34m.\u001b[0m\u001b[0moutputMode\u001b[0m\u001b[0;34m(\u001b[0m\u001b[0;34m\"complete\"\u001b[0m\u001b[0;34m)\u001b[0m\u001b[0;31m\\\u001b[0m\u001b[0;34m\u001b[0m\u001b[0;34m\u001b[0m\u001b[0m\n\u001b[1;32m      3\u001b[0m  \u001b[0;34m.\u001b[0m\u001b[0mformat\u001b[0m\u001b[0;34m(\u001b[0m\u001b[0;34m\"console\"\u001b[0m\u001b[0;34m)\u001b[0m\u001b[0;31m \u001b[0m\u001b[0;31m\\\u001b[0m\u001b[0;34m\u001b[0m\u001b[0;34m\u001b[0m\u001b[0m\n\u001b[1;32m      4\u001b[0m  \u001b[0;34m.\u001b[0m\u001b[0moption\u001b[0m\u001b[0;34m(\u001b[0m\u001b[0;34m\"checkpointLocation\"\u001b[0m\u001b[0;34m,\u001b[0m \u001b[0;34m\"checkpoints/\"\u001b[0m\u001b[0;34m)\u001b[0m\u001b[0;31m \u001b[0m\u001b[0;31m\\\u001b[0m\u001b[0;34m\u001b[0m\u001b[0;34m\u001b[0m\u001b[0m\n\u001b[1;32m      5\u001b[0m  \u001b[0;34m.\u001b[0m\u001b[0mstart\u001b[0m\u001b[0;34m(\u001b[0m\u001b[0;34m)\u001b[0m\u001b[0;34m.\u001b[0m\u001b[0mawaitTermination\u001b[0m\u001b[0;34m(\u001b[0m\u001b[0;34m)\u001b[0m\u001b[0;34m\u001b[0m\u001b[0;34m\u001b[0m\u001b[0m\n",
      "\u001b[0;32m/opt/anaconda3/lib/python3.9/site-packages/pyspark/sql/streaming.py\u001b[0m in \u001b[0;36mawaitTermination\u001b[0;34m(self, timeout)\u001b[0m\n\u001b[1;32m     99\u001b[0m             \u001b[0;32mreturn\u001b[0m \u001b[0mself\u001b[0m\u001b[0;34m.\u001b[0m\u001b[0m_jsq\u001b[0m\u001b[0;34m.\u001b[0m\u001b[0mawaitTermination\u001b[0m\u001b[0;34m(\u001b[0m\u001b[0mint\u001b[0m\u001b[0;34m(\u001b[0m\u001b[0mtimeout\u001b[0m \u001b[0;34m*\u001b[0m \u001b[0;36m1000\u001b[0m\u001b[0;34m)\u001b[0m\u001b[0;34m)\u001b[0m\u001b[0;34m\u001b[0m\u001b[0;34m\u001b[0m\u001b[0m\n\u001b[1;32m    100\u001b[0m         \u001b[0;32melse\u001b[0m\u001b[0;34m:\u001b[0m\u001b[0;34m\u001b[0m\u001b[0;34m\u001b[0m\u001b[0m\n\u001b[0;32m--> 101\u001b[0;31m             \u001b[0;32mreturn\u001b[0m \u001b[0mself\u001b[0m\u001b[0;34m.\u001b[0m\u001b[0m_jsq\u001b[0m\u001b[0;34m.\u001b[0m\u001b[0mawaitTermination\u001b[0m\u001b[0;34m(\u001b[0m\u001b[0;34m)\u001b[0m\u001b[0;34m\u001b[0m\u001b[0;34m\u001b[0m\u001b[0m\n\u001b[0m\u001b[1;32m    102\u001b[0m \u001b[0;34m\u001b[0m\u001b[0m\n\u001b[1;32m    103\u001b[0m     \u001b[0;34m@\u001b[0m\u001b[0mproperty\u001b[0m\u001b[0;34m\u001b[0m\u001b[0;34m\u001b[0m\u001b[0m\n",
      "\u001b[0;32m/opt/anaconda3/lib/python3.9/site-packages/py4j/java_gateway.py\u001b[0m in \u001b[0;36m__call__\u001b[0;34m(self, *args)\u001b[0m\n\u001b[1;32m   1306\u001b[0m             \u001b[0mproto\u001b[0m\u001b[0;34m.\u001b[0m\u001b[0mEND_COMMAND_PART\u001b[0m\u001b[0;34m\u001b[0m\u001b[0;34m\u001b[0m\u001b[0m\n\u001b[1;32m   1307\u001b[0m \u001b[0;34m\u001b[0m\u001b[0m\n\u001b[0;32m-> 1308\u001b[0;31m         \u001b[0manswer\u001b[0m \u001b[0;34m=\u001b[0m \u001b[0mself\u001b[0m\u001b[0;34m.\u001b[0m\u001b[0mgateway_client\u001b[0m\u001b[0;34m.\u001b[0m\u001b[0msend_command\u001b[0m\u001b[0;34m(\u001b[0m\u001b[0mcommand\u001b[0m\u001b[0;34m)\u001b[0m\u001b[0;34m\u001b[0m\u001b[0;34m\u001b[0m\u001b[0m\n\u001b[0m\u001b[1;32m   1309\u001b[0m         return_value = get_return_value(\n\u001b[1;32m   1310\u001b[0m             answer, self.gateway_client, self.target_id, self.name)\n",
      "\u001b[0;32m/opt/anaconda3/lib/python3.9/site-packages/py4j/java_gateway.py\u001b[0m in \u001b[0;36msend_command\u001b[0;34m(self, command, retry, binary)\u001b[0m\n\u001b[1;32m   1036\u001b[0m         \u001b[0mconnection\u001b[0m \u001b[0;34m=\u001b[0m \u001b[0mself\u001b[0m\u001b[0;34m.\u001b[0m\u001b[0m_get_connection\u001b[0m\u001b[0;34m(\u001b[0m\u001b[0;34m)\u001b[0m\u001b[0;34m\u001b[0m\u001b[0;34m\u001b[0m\u001b[0m\n\u001b[1;32m   1037\u001b[0m         \u001b[0;32mtry\u001b[0m\u001b[0;34m:\u001b[0m\u001b[0;34m\u001b[0m\u001b[0;34m\u001b[0m\u001b[0m\n\u001b[0;32m-> 1038\u001b[0;31m             \u001b[0mresponse\u001b[0m \u001b[0;34m=\u001b[0m \u001b[0mconnection\u001b[0m\u001b[0;34m.\u001b[0m\u001b[0msend_command\u001b[0m\u001b[0;34m(\u001b[0m\u001b[0mcommand\u001b[0m\u001b[0;34m)\u001b[0m\u001b[0;34m\u001b[0m\u001b[0;34m\u001b[0m\u001b[0m\n\u001b[0m\u001b[1;32m   1039\u001b[0m             \u001b[0;32mif\u001b[0m \u001b[0mbinary\u001b[0m\u001b[0;34m:\u001b[0m\u001b[0;34m\u001b[0m\u001b[0;34m\u001b[0m\u001b[0m\n\u001b[1;32m   1040\u001b[0m                 \u001b[0;32mreturn\u001b[0m \u001b[0mresponse\u001b[0m\u001b[0;34m,\u001b[0m \u001b[0mself\u001b[0m\u001b[0;34m.\u001b[0m\u001b[0m_create_connection_guard\u001b[0m\u001b[0;34m(\u001b[0m\u001b[0mconnection\u001b[0m\u001b[0;34m)\u001b[0m\u001b[0;34m\u001b[0m\u001b[0;34m\u001b[0m\u001b[0m\n",
      "\u001b[0;32m/opt/anaconda3/lib/python3.9/site-packages/py4j/java_gateway.py\u001b[0m in \u001b[0;36msend_command\u001b[0;34m(self, command)\u001b[0m\n\u001b[1;32m   1203\u001b[0m \u001b[0;34m\u001b[0m\u001b[0m\n\u001b[1;32m   1204\u001b[0m         \u001b[0;32mtry\u001b[0m\u001b[0;34m:\u001b[0m\u001b[0;34m\u001b[0m\u001b[0;34m\u001b[0m\u001b[0m\n\u001b[0;32m-> 1205\u001b[0;31m             \u001b[0manswer\u001b[0m \u001b[0;34m=\u001b[0m \u001b[0msmart_decode\u001b[0m\u001b[0;34m(\u001b[0m\u001b[0mself\u001b[0m\u001b[0;34m.\u001b[0m\u001b[0mstream\u001b[0m\u001b[0;34m.\u001b[0m\u001b[0mreadline\u001b[0m\u001b[0;34m(\u001b[0m\u001b[0;34m)\u001b[0m\u001b[0;34m[\u001b[0m\u001b[0;34m:\u001b[0m\u001b[0;34m-\u001b[0m\u001b[0;36m1\u001b[0m\u001b[0;34m]\u001b[0m\u001b[0;34m)\u001b[0m\u001b[0;34m\u001b[0m\u001b[0;34m\u001b[0m\u001b[0m\n\u001b[0m\u001b[1;32m   1206\u001b[0m             \u001b[0mlogger\u001b[0m\u001b[0;34m.\u001b[0m\u001b[0mdebug\u001b[0m\u001b[0;34m(\u001b[0m\u001b[0;34m\"Answer received: {0}\"\u001b[0m\u001b[0;34m.\u001b[0m\u001b[0mformat\u001b[0m\u001b[0;34m(\u001b[0m\u001b[0manswer\u001b[0m\u001b[0;34m)\u001b[0m\u001b[0;34m)\u001b[0m\u001b[0;34m\u001b[0m\u001b[0;34m\u001b[0m\u001b[0m\n\u001b[1;32m   1207\u001b[0m             \u001b[0;32mif\u001b[0m \u001b[0manswer\u001b[0m\u001b[0;34m.\u001b[0m\u001b[0mstartswith\u001b[0m\u001b[0;34m(\u001b[0m\u001b[0mproto\u001b[0m\u001b[0;34m.\u001b[0m\u001b[0mRETURN_MESSAGE\u001b[0m\u001b[0;34m)\u001b[0m\u001b[0;34m:\u001b[0m\u001b[0;34m\u001b[0m\u001b[0;34m\u001b[0m\u001b[0m\n",
      "\u001b[0;32m/opt/anaconda3/lib/python3.9/socket.py\u001b[0m in \u001b[0;36mreadinto\u001b[0;34m(self, b)\u001b[0m\n\u001b[1;32m    702\u001b[0m         \u001b[0;32mwhile\u001b[0m \u001b[0;32mTrue\u001b[0m\u001b[0;34m:\u001b[0m\u001b[0;34m\u001b[0m\u001b[0;34m\u001b[0m\u001b[0m\n\u001b[1;32m    703\u001b[0m             \u001b[0;32mtry\u001b[0m\u001b[0;34m:\u001b[0m\u001b[0;34m\u001b[0m\u001b[0;34m\u001b[0m\u001b[0m\n\u001b[0;32m--> 704\u001b[0;31m                 \u001b[0;32mreturn\u001b[0m \u001b[0mself\u001b[0m\u001b[0;34m.\u001b[0m\u001b[0m_sock\u001b[0m\u001b[0;34m.\u001b[0m\u001b[0mrecv_into\u001b[0m\u001b[0;34m(\u001b[0m\u001b[0mb\u001b[0m\u001b[0;34m)\u001b[0m\u001b[0;34m\u001b[0m\u001b[0;34m\u001b[0m\u001b[0m\n\u001b[0m\u001b[1;32m    705\u001b[0m             \u001b[0;32mexcept\u001b[0m \u001b[0mtimeout\u001b[0m\u001b[0;34m:\u001b[0m\u001b[0;34m\u001b[0m\u001b[0;34m\u001b[0m\u001b[0m\n\u001b[1;32m    706\u001b[0m                 \u001b[0mself\u001b[0m\u001b[0;34m.\u001b[0m\u001b[0m_timeout_occurred\u001b[0m \u001b[0;34m=\u001b[0m \u001b[0;32mTrue\u001b[0m\u001b[0;34m\u001b[0m\u001b[0;34m\u001b[0m\u001b[0m\n",
      "\u001b[0;31mKeyboardInterrupt\u001b[0m: "
     ]
    },
    {
     "name": "stderr",
     "output_type": "stream",
     "text": [
      "                                                                                \r"
     ]
    },
    {
     "name": "stdout",
     "output_type": "stream",
     "text": [
      "-------------------------------------------\n",
      "Batch: 3\n",
      "-------------------------------------------\n",
      "+--------------------+------------+----------+\n",
      "|              window|PULocationID|ride_count|\n",
      "+--------------------+------------+----------+\n",
      "|{2025-06-10 07:10...|          28|         1|\n",
      "|{2025-06-10 15:40...|          94|         1|\n",
      "|{2025-06-10 10:40...|           6|         1|\n",
      "|{2025-06-10 08:40...|          28|         1|\n",
      "|{2025-06-10 10:20...|          29|         1|\n",
      "|{2025-06-10 07:50...|          12|         1|\n",
      "|{2025-06-10 12:30...|          29|         1|\n",
      "|{2025-06-10 06:00...|          98|         1|\n",
      "|{2025-06-10 13:10...|          83|         1|\n",
      "|{2025-06-10 10:50...|          82|         1|\n",
      "|{2025-06-10 08:00...|           4|         1|\n",
      "|{2025-06-10 14:10...|          82|         1|\n",
      "|{2025-06-10 15:10...|          64|         1|\n",
      "|{2025-06-10 08:30...|          34|         1|\n",
      "|{2025-06-10 06:20...|          72|         1|\n",
      "|{2025-06-10 07:50...|          49|         1|\n",
      "|{2025-06-10 07:20...|          71|         1|\n",
      "|{2025-06-10 12:30...|          74|         1|\n",
      "|{2025-06-10 11:40...|          52|         1|\n",
      "|{2025-06-10 07:50...|          87|         1|\n",
      "+--------------------+------------+----------+\n",
      "only showing top 20 rows\n",
      "\n"
     ]
    },
    {
     "name": "stderr",
     "output_type": "stream",
     "text": [
      "                                                                                \r"
     ]
    },
    {
     "name": "stdout",
     "output_type": "stream",
     "text": [
      "-------------------------------------------\n",
      "Batch: 4\n",
      "-------------------------------------------\n",
      "+--------------------+------------+----------+\n",
      "|              window|PULocationID|ride_count|\n",
      "+--------------------+------------+----------+\n",
      "|{2025-06-10 07:10...|          28|         1|\n",
      "|{2025-06-10 15:40...|          94|         1|\n",
      "|{2025-06-10 15:00...|          98|         1|\n",
      "|{2025-06-10 06:50...|          15|         1|\n",
      "|{2025-06-10 10:40...|           6|         1|\n",
      "|{2025-06-10 07:00...|          50|         1|\n",
      "|{2025-06-10 14:30...|          68|         1|\n",
      "|{2025-06-10 08:40...|          28|         1|\n",
      "|{2025-06-10 10:20...|          29|         1|\n",
      "|{2025-06-10 07:50...|          12|         1|\n",
      "|{2025-06-10 12:30...|          29|         1|\n",
      "|{2025-06-10 06:00...|          98|         1|\n",
      "|{2025-06-10 13:10...|          83|         1|\n",
      "|{2025-06-10 10:50...|          82|         1|\n",
      "|{2025-06-10 08:00...|           4|         1|\n",
      "|{2025-06-10 14:10...|          82|         1|\n",
      "|{2025-06-10 13:50...|          21|         1|\n",
      "|{2025-06-10 15:10...|          64|         1|\n",
      "|{2025-06-10 08:30...|          34|         1|\n",
      "|{2025-06-10 06:20...|          72|         1|\n",
      "+--------------------+------------+----------+\n",
      "only showing top 20 rows\n",
      "\n"
     ]
    }
   ],
   "source": [
    "windowed_df.writeStream \\\n",
    " .outputMode(\"complete\")\\\n",
    " .format(\"console\") \\\n",
    " .option(\"checkpointLocation\", \"checkpoints/\") \\\n",
    " .start().awaitTermination()"
   ]
  },
  {
   "cell_type": "code",
   "execution_count": 14,
   "id": "1503189e-9015-4890-a89d-545322fbc686",
   "metadata": {},
   "outputs": [],
   "source": [
    "from pyspark.sql.functions import desc"
   ]
  },
  {
   "cell_type": "code",
   "execution_count": 15,
   "id": "3b425b6c-bdb8-464d-b26f-c05138d5b1fb",
   "metadata": {},
   "outputs": [
    {
     "data": {
      "text/plain": [
       "DataFrame[window: struct<start:timestamp,end:timestamp>, PULocationID: int, ride_count: bigint]"
      ]
     },
     "execution_count": 15,
     "metadata": {},
     "output_type": "execute_result"
    }
   ],
   "source": [
    "windowed_df.orderBy(desc(\"ride_count\")).limit(5)"
   ]
  },
  {
   "cell_type": "code",
   "execution_count": 16,
   "id": "de9d1012-e567-455a-ae83-6cb51a14e7d1",
   "metadata": {},
   "outputs": [],
   "source": [
    "filtered_df = enriched_df.filter(\"driver_rating < 4.0\")"
   ]
  },
  {
   "cell_type": "code",
   "execution_count": 17,
   "id": "bbe742a5-bcf6-4497-9ebf-1a17f821c5c0",
   "metadata": {},
   "outputs": [],
   "source": [
    "from pyspark.sql.functions import current_timestamp"
   ]
  },
  {
   "cell_type": "code",
   "execution_count": 17,
   "id": "b417b6a7-6b62-4b74-b5a9-09f61d0d0aaf",
   "metadata": {},
   "outputs": [
    {
     "name": "stderr",
     "output_type": "stream",
     "text": [
      "25/06/16 16:19:03 WARN StreamingQueryManager: Temporary checkpoint location created which is deleted normally when the query didn't fail: /tmp/temporary-4484ff58-9001-4ff9-960b-86b370cee274. If it's required to delete it under any circumstances, please set spark.sql.streaming.forceDeleteTempCheckpointLocation to true. Important to know deleting temp checkpoint folder is best effort.\n"
     ]
    },
    {
     "data": {
      "text/plain": [
       "<pyspark.sql.streaming.StreamingQuery at 0x7f4caa728c10>"
      ]
     },
     "execution_count": 17,
     "metadata": {},
     "output_type": "execute_result"
    },
    {
     "name": "stdout",
     "output_type": "stream",
     "text": [
      "-------------------------------------------\n",
      "Batch: 0\n",
      "-------------------------------------------\n",
      "+-------------------+--------------------+---------+\n",
      "|         event_time|     processing_time|driver_id|\n",
      "+-------------------+--------------------+---------+\n",
      "|2025-06-10 08:01:36|2025-06-16 16:19:...|     D009|\n",
      "|2025-06-10 10:27:29|2025-06-16 16:19:...|     D005|\n",
      "|2025-06-10 07:51:57|2025-06-16 16:19:...|     D018|\n",
      "|2025-06-10 07:34:57|2025-06-16 16:19:...|     D014|\n",
      "|2025-06-10 06:34:42|2025-06-16 16:19:...|     D003|\n",
      "|2025-06-10 09:58:48|2025-06-16 16:19:...|     D017|\n",
      "|2025-06-10 06:28:59|2025-06-16 16:19:...|     D007|\n",
      "|2025-06-10 15:55:13|2025-06-16 16:19:...|     D008|\n",
      "|2025-06-10 14:10:39|2025-06-16 16:19:...|     D009|\n",
      "|2025-06-10 06:07:05|2025-06-16 16:19:...|     D006|\n",
      "+-------------------+--------------------+---------+\n",
      "\n",
      "-------------------------------------------\n",
      "Batch: 1\n",
      "-------------------------------------------\n",
      "+-------------------+--------------------+---------+\n",
      "|         event_time|     processing_time|driver_id|\n",
      "+-------------------+--------------------+---------+\n",
      "|2025-06-10 13:41:36|2025-06-16 16:19:...|     D009|\n",
      "|2025-06-10 08:49:49|2025-06-16 16:19:...|     D011|\n",
      "|2025-06-10 07:51:38|2025-06-16 16:19:...|     D013|\n",
      "|2025-06-10 07:45:38|2025-06-16 16:19:...|     D012|\n",
      "|2025-06-10 10:48:55|2025-06-16 16:19:...|     D015|\n",
      "|2025-06-10 15:45:42|2025-06-16 16:19:...|     D013|\n",
      "|2025-06-10 07:26:04|2025-06-16 16:19:...|     D010|\n",
      "|2025-06-10 12:35:00|2025-06-16 16:19:...|     D007|\n",
      "|2025-06-10 07:15:58|2025-06-16 16:19:...|     D008|\n",
      "|2025-06-10 11:16:05|2025-06-16 16:19:...|     D008|\n",
      "+-------------------+--------------------+---------+\n",
      "\n",
      "-------------------------------------------\n",
      "Batch: 2\n",
      "-------------------------------------------\n",
      "+-------------------+--------------------+---------+\n",
      "|         event_time|     processing_time|driver_id|\n",
      "+-------------------+--------------------+---------+\n",
      "|2025-06-10 07:50:19|2025-06-16 16:19:...|     D009|\n",
      "|2025-06-10 14:15:14|2025-06-16 16:19:...|     D012|\n",
      "|2025-06-10 08:57:39|2025-06-16 16:19:...|     D012|\n",
      "|2025-06-10 09:48:50|2025-06-16 16:19:...|     D009|\n",
      "|2025-06-10 07:17:59|2025-06-16 16:19:...|     D006|\n",
      "|2025-06-10 15:43:25|2025-06-16 16:19:...|     D008|\n",
      "|2025-06-10 08:58:28|2025-06-16 16:19:...|     D013|\n",
      "|2025-06-10 10:54:51|2025-06-16 16:19:...|     D018|\n",
      "|2025-06-10 09:59:52|2025-06-16 16:19:...|     D011|\n",
      "|2025-06-10 07:01:05|2025-06-16 16:19:...|     D002|\n",
      "+-------------------+--------------------+---------+\n",
      "\n",
      "-------------------------------------------\n",
      "Batch: 3\n",
      "-------------------------------------------\n",
      "+-------------------+--------------------+---------+\n",
      "|         event_time|     processing_time|driver_id|\n",
      "+-------------------+--------------------+---------+\n",
      "|2025-06-10 11:44:33|2025-06-16 16:19:...|     D009|\n",
      "|2025-06-10 07:12:17|2025-06-16 16:19:...|     D019|\n",
      "|2025-06-10 11:43:42|2025-06-16 16:19:...|     D016|\n",
      "|2025-06-10 13:12:08|2025-06-16 16:19:...|     D015|\n",
      "|2025-06-10 08:36:03|2025-06-16 16:19:...|     D005|\n",
      "|2025-06-10 10:29:22|2025-06-16 16:19:...|     D018|\n",
      "|2025-06-10 15:48:42|2025-06-16 16:19:...|     D019|\n",
      "|2025-06-10 13:47:57|2025-06-16 16:19:...|     D013|\n",
      "|2025-06-10 12:35:23|2025-06-16 16:19:...|     D005|\n",
      "|2025-06-10 15:16:32|2025-06-16 16:19:...|     D003|\n",
      "+-------------------+--------------------+---------+\n",
      "\n",
      "-------------------------------------------\n",
      "Batch: 4\n",
      "-------------------------------------------\n",
      "+-------------------+--------------------+---------+\n",
      "|         event_time|     processing_time|driver_id|\n",
      "+-------------------+--------------------+---------+\n",
      "|2025-06-10 06:51:27|2025-06-16 16:19:...|     D005|\n",
      "|2025-06-10 08:54:44|2025-06-16 16:19:...|     D014|\n",
      "|2025-06-10 07:09:23|2025-06-16 16:19:...|     D013|\n",
      "|2025-06-10 14:31:14|2025-06-16 16:19:...|     D009|\n",
      "|2025-06-10 06:12:32|2025-06-16 16:19:...|     D004|\n",
      "|2025-06-10 15:46:30|2025-06-16 16:19:...|     D009|\n",
      "|2025-06-10 12:11:33|2025-06-16 16:19:...|     D010|\n",
      "|2025-06-10 13:54:52|2025-06-16 16:19:...|     D015|\n",
      "|2025-06-10 06:03:32|2025-06-16 16:19:...|     D009|\n",
      "|2025-06-10 15:06:46|2025-06-16 16:19:...|     D006|\n",
      "+-------------------+--------------------+---------+\n",
      "\n",
      "-------------------------------------------\n",
      "Batch: 5\n",
      "-------------------------------------------\n",
      "+-------------------+--------------------+---------+\n",
      "|         event_time|     processing_time|driver_id|\n",
      "+-------------------+--------------------+---------+\n",
      "|2025-06-10 15:14:31|2025-06-16 16:19:...|     D010|\n",
      "|2025-06-10 15:14:30|2025-06-16 16:19:...|     D007|\n",
      "|2025-06-10 08:46:56|2025-06-16 16:19:...|     D006|\n",
      "|2025-06-10 15:49:08|2025-06-16 16:19:...|     D017|\n",
      "|2025-06-10 06:00:37|2025-06-16 16:19:...|     D011|\n",
      "|2025-06-10 14:53:41|2025-06-16 16:19:...|     D004|\n",
      "|2025-06-10 12:36:28|2025-06-16 16:19:...|     D008|\n",
      "|2025-06-10 07:03:16|2025-06-16 16:19:...|     D019|\n",
      "|2025-06-10 07:26:01|2025-06-16 16:19:...|     D016|\n",
      "|2025-06-10 07:15:35|2025-06-16 16:19:...|     D018|\n",
      "+-------------------+--------------------+---------+\n",
      "\n",
      "-------------------------------------------\n",
      "Batch: 6\n",
      "-------------------------------------------\n",
      "+-------------------+--------------------+---------+\n",
      "|         event_time|     processing_time|driver_id|\n",
      "+-------------------+--------------------+---------+\n",
      "|2025-06-10 08:17:21|2025-06-16 16:19:...|     D016|\n",
      "|2025-06-10 09:00:21|2025-06-16 16:19:...|     D017|\n",
      "|2025-06-10 13:42:10|2025-06-16 16:19:...|     D018|\n",
      "|2025-06-10 09:39:42|2025-06-16 16:19:...|     D010|\n",
      "|2025-06-10 13:15:48|2025-06-16 16:19:...|     D012|\n",
      "|2025-06-10 13:58:31|2025-06-16 16:19:...|     D015|\n",
      "|2025-06-10 08:12:10|2025-06-16 16:19:...|     D008|\n",
      "|2025-06-10 07:09:56|2025-06-16 16:19:...|     D001|\n",
      "|2025-06-10 10:11:20|2025-06-16 16:19:...|     D008|\n",
      "|2025-06-10 06:07:51|2025-06-16 16:19:...|     D002|\n",
      "+-------------------+--------------------+---------+\n",
      "\n",
      "-------------------------------------------\n",
      "Batch: 7\n",
      "-------------------------------------------\n",
      "+-------------------+--------------------+---------+\n",
      "|         event_time|     processing_time|driver_id|\n",
      "+-------------------+--------------------+---------+\n",
      "|2025-06-10 10:10:03|2025-06-16 16:19:...|     D002|\n",
      "|2025-06-10 12:00:54|2025-06-16 16:19:...|     D017|\n",
      "|2025-06-10 10:19:57|2025-06-16 16:19:...|     D016|\n",
      "|2025-06-10 09:54:00|2025-06-16 16:19:...|     D005|\n",
      "|2025-06-10 14:36:16|2025-06-16 16:19:...|     D016|\n",
      "|2025-06-10 13:24:37|2025-06-16 16:19:...|     D004|\n",
      "|2025-06-10 07:45:52|2025-06-16 16:19:...|     D014|\n",
      "|2025-06-10 12:26:59|2025-06-16 16:19:...|     D014|\n",
      "|2025-06-10 14:30:06|2025-06-16 16:19:...|     D002|\n",
      "|2025-06-10 07:47:29|2025-06-16 16:19:...|     D013|\n",
      "+-------------------+--------------------+---------+\n",
      "\n",
      "-------------------------------------------\n",
      "Batch: 8\n",
      "-------------------------------------------\n",
      "+-------------------+--------------------+---------+\n",
      "|         event_time|     processing_time|driver_id|\n",
      "+-------------------+--------------------+---------+\n",
      "|2025-06-10 12:10:36|2025-06-16 16:19:...|     D008|\n",
      "|2025-06-10 09:29:16|2025-06-16 16:19:...|     D018|\n",
      "|2025-06-10 14:10:00|2025-06-16 16:19:...|     D014|\n",
      "|2025-06-10 09:20:25|2025-06-16 16:19:...|     D015|\n",
      "|2025-06-10 10:32:51|2025-06-16 16:19:...|     D015|\n",
      "|2025-06-10 07:46:56|2025-06-16 16:19:...|     D018|\n",
      "|2025-06-10 06:16:07|2025-06-16 16:19:...|     D008|\n",
      "|2025-06-10 09:01:39|2025-06-16 16:19:...|     D016|\n",
      "|2025-06-10 14:45:46|2025-06-16 16:19:...|     D013|\n",
      "|2025-06-10 07:04:02|2025-06-16 16:19:...|     D013|\n",
      "+-------------------+--------------------+---------+\n",
      "\n",
      "-------------------------------------------\n",
      "Batch: 9\n",
      "-------------------------------------------\n",
      "+-------------------+--------------------+---------+\n",
      "|         event_time|     processing_time|driver_id|\n",
      "+-------------------+--------------------+---------+\n",
      "|2025-06-10 06:02:21|2025-06-16 16:19:...|     D009|\n",
      "|2025-06-10 14:16:59|2025-06-16 16:19:...|     D014|\n",
      "|2025-06-10 14:51:34|2025-06-16 16:19:...|     D007|\n",
      "|2025-06-10 11:24:05|2025-06-16 16:19:...|     D002|\n",
      "|2025-06-10 15:52:13|2025-06-16 16:19:...|     D011|\n",
      "|2025-06-10 07:02:26|2025-06-16 16:19:...|     D019|\n",
      "|2025-06-10 14:40:46|2025-06-16 16:19:...|     D017|\n",
      "|2025-06-10 08:51:57|2025-06-16 16:19:...|     D017|\n",
      "|2025-06-10 07:27:30|2025-06-16 16:19:...|     D003|\n",
      "|2025-06-10 07:14:13|2025-06-16 16:19:...|     D008|\n",
      "+-------------------+--------------------+---------+\n",
      "\n",
      "-------------------------------------------\n",
      "Batch: 10\n",
      "-------------------------------------------\n",
      "+-------------------+--------------------+---------+\n",
      "|         event_time|     processing_time|driver_id|\n",
      "+-------------------+--------------------+---------+\n",
      "|2025-06-10 13:21:01|2025-06-16 16:19:...|     D019|\n",
      "|2025-06-10 10:28:55|2025-06-16 16:19:...|     D020|\n",
      "|2025-06-10 06:43:24|2025-06-16 16:19:...|     D003|\n",
      "|2025-06-10 13:37:54|2025-06-16 16:19:...|     D019|\n",
      "|2025-06-10 15:31:01|2025-06-16 16:19:...|     D009|\n",
      "|2025-06-10 09:43:06|2025-06-16 16:19:...|     D011|\n",
      "|2025-06-10 10:20:42|2025-06-16 16:19:...|     D013|\n",
      "|2025-06-10 08:22:57|2025-06-16 16:19:...|     D010|\n",
      "|2025-06-10 14:19:24|2025-06-16 16:19:...|     D003|\n",
      "|2025-06-10 06:10:10|2025-06-16 16:19:...|     D020|\n",
      "+-------------------+--------------------+---------+\n",
      "\n"
     ]
    },
    {
     "name": "stderr",
     "output_type": "stream",
     "text": [
      "25/06/16 16:19:19 ERROR TransportResponseHandler: Still have 1 requests outstanding when connection from /172.31.64.14:56132 is closed\n",
      "25/06/16 16:19:19 WARN YarnSchedulerBackend$YarnSchedulerEndpoint: Attempted to get executor loss reason for executor id 1 at RPC address 172.31.64.14:56154, but got no response. Marking as agent lost.\n",
      "java.io.IOException: Connection from /172.31.64.14:56132 closed\n",
      "\tat org.apache.spark.network.client.TransportResponseHandler.channelInactive(TransportResponseHandler.java:146)\n",
      "\tat org.apache.spark.network.server.TransportChannelHandler.channelInactive(TransportChannelHandler.java:117)\n",
      "\tat io.netty.channel.AbstractChannelHandlerContext.invokeChannelInactive(AbstractChannelHandlerContext.java:262)\n",
      "\tat io.netty.channel.AbstractChannelHandlerContext.invokeChannelInactive(AbstractChannelHandlerContext.java:248)\n",
      "\tat io.netty.channel.AbstractChannelHandlerContext.fireChannelInactive(AbstractChannelHandlerContext.java:241)\n",
      "\tat io.netty.channel.ChannelInboundHandlerAdapter.channelInactive(ChannelInboundHandlerAdapter.java:81)\n",
      "\tat io.netty.handler.timeout.IdleStateHandler.channelInactive(IdleStateHandler.java:277)\n",
      "\tat io.netty.channel.AbstractChannelHandlerContext.invokeChannelInactive(AbstractChannelHandlerContext.java:262)\n",
      "\tat io.netty.channel.AbstractChannelHandlerContext.invokeChannelInactive(AbstractChannelHandlerContext.java:248)\n",
      "\tat io.netty.channel.AbstractChannelHandlerContext.fireChannelInactive(AbstractChannelHandlerContext.java:241)\n",
      "\tat io.netty.channel.ChannelInboundHandlerAdapter.channelInactive(ChannelInboundHandlerAdapter.java:81)\n",
      "\tat org.apache.spark.network.util.TransportFrameDecoder.channelInactive(TransportFrameDecoder.java:225)\n",
      "\tat io.netty.channel.AbstractChannelHandlerContext.invokeChannelInactive(AbstractChannelHandlerContext.java:262)\n",
      "\tat io.netty.channel.AbstractChannelHandlerContext.invokeChannelInactive(AbstractChannelHandlerContext.java:248)\n",
      "\tat io.netty.channel.AbstractChannelHandlerContext.fireChannelInactive(AbstractChannelHandlerContext.java:241)\n",
      "\tat io.netty.channel.DefaultChannelPipeline$HeadContext.channelInactive(DefaultChannelPipeline.java:1405)\n",
      "\tat io.netty.channel.AbstractChannelHandlerContext.invokeChannelInactive(AbstractChannelHandlerContext.java:262)\n",
      "\tat io.netty.channel.AbstractChannelHandlerContext.invokeChannelInactive(AbstractChannelHandlerContext.java:248)\n",
      "\tat io.netty.channel.DefaultChannelPipeline.fireChannelInactive(DefaultChannelPipeline.java:901)\n",
      "\tat io.netty.channel.AbstractChannel$AbstractUnsafe$8.run(AbstractChannel.java:818)\n",
      "\tat io.netty.util.concurrent.AbstractEventExecutor.safeExecute(AbstractEventExecutor.java:164)\n",
      "\tat io.netty.util.concurrent.SingleThreadEventExecutor.runAllTasksFrom(SingleThreadEventExecutor.java:428)\n",
      "\tat io.netty.util.concurrent.SingleThreadEventExecutor.runAllTasks(SingleThreadEventExecutor.java:377)\n",
      "\tat io.netty.util.concurrent.SingleThreadEventExecutor.confirmShutdown(SingleThreadEventExecutor.java:763)\n",
      "\tat io.netty.channel.nio.NioEventLoop.run(NioEventLoop.java:525)\n",
      "\tat io.netty.util.concurrent.SingleThreadEventExecutor$4.run(SingleThreadEventExecutor.java:989)\n",
      "\tat io.netty.util.internal.ThreadExecutorMap$2.run(ThreadExecutorMap.java:74)\n",
      "\tat io.netty.util.concurrent.FastThreadLocalRunnable.run(FastThreadLocalRunnable.java:30)\n",
      "\tat java.lang.Thread.run(Thread.java:750)\n"
     ]
    }
   ],
   "source": [
    "enriched_df.withColumn(\"processing_time\", current_timestamp()) \\\n",
    " .select(\"event_time\", \"processing_time\", \"driver_id\") \\\n",
    " .writeStream.format(\"console\") \\\n",
    " .start()"
   ]
  },
  {
   "cell_type": "code",
   "execution_count": 18,
   "id": "8356da15-637b-4438-b9cb-21b7b820e852",
   "metadata": {},
   "outputs": [],
   "source": [
    "running_counts = enriched_df.groupBy(\"driver_id\").count()"
   ]
  },
  {
   "cell_type": "code",
   "execution_count": 20,
   "id": "8aa6fa0f-705a-4464-85b9-a398c5005c57",
   "metadata": {},
   "outputs": [
    {
     "ename": "AnalysisException",
     "evalue": "Queries with streaming sources must be executed with writeStream.start();\nFileSource[sparkstream/streaminputs/]",
     "output_type": "error",
     "traceback": [
      "\u001b[0;31m---------------------------------------------------------------------------\u001b[0m",
      "\u001b[0;31mAnalysisException\u001b[0m                         Traceback (most recent call last)",
      "\u001b[0;32m/tmp/ipykernel_1569405/168109114.py\u001b[0m in \u001b[0;36m<module>\u001b[0;34m\u001b[0m\n\u001b[0;32m----> 1\u001b[0;31m \u001b[0mrunning_counts\u001b[0m\u001b[0;34m.\u001b[0m\u001b[0mshow\u001b[0m\u001b[0;34m(\u001b[0m\u001b[0;34m)\u001b[0m\u001b[0;34m\u001b[0m\u001b[0;34m\u001b[0m\u001b[0m\n\u001b[0m",
      "\u001b[0;32m/opt/anaconda3/lib/python3.9/site-packages/pyspark/sql/dataframe.py\u001b[0m in \u001b[0;36mshow\u001b[0;34m(self, n, truncate, vertical)\u001b[0m\n\u001b[1;32m    482\u001b[0m         \"\"\"\n\u001b[1;32m    483\u001b[0m         \u001b[0;32mif\u001b[0m \u001b[0misinstance\u001b[0m\u001b[0;34m(\u001b[0m\u001b[0mtruncate\u001b[0m\u001b[0;34m,\u001b[0m \u001b[0mbool\u001b[0m\u001b[0;34m)\u001b[0m \u001b[0;32mand\u001b[0m \u001b[0mtruncate\u001b[0m\u001b[0;34m:\u001b[0m\u001b[0;34m\u001b[0m\u001b[0;34m\u001b[0m\u001b[0m\n\u001b[0;32m--> 484\u001b[0;31m             \u001b[0mprint\u001b[0m\u001b[0;34m(\u001b[0m\u001b[0mself\u001b[0m\u001b[0;34m.\u001b[0m\u001b[0m_jdf\u001b[0m\u001b[0;34m.\u001b[0m\u001b[0mshowString\u001b[0m\u001b[0;34m(\u001b[0m\u001b[0mn\u001b[0m\u001b[0;34m,\u001b[0m \u001b[0;36m20\u001b[0m\u001b[0;34m,\u001b[0m \u001b[0mvertical\u001b[0m\u001b[0;34m)\u001b[0m\u001b[0;34m)\u001b[0m\u001b[0;34m\u001b[0m\u001b[0;34m\u001b[0m\u001b[0m\n\u001b[0m\u001b[1;32m    485\u001b[0m         \u001b[0;32melse\u001b[0m\u001b[0;34m:\u001b[0m\u001b[0;34m\u001b[0m\u001b[0;34m\u001b[0m\u001b[0m\n\u001b[1;32m    486\u001b[0m             \u001b[0mprint\u001b[0m\u001b[0;34m(\u001b[0m\u001b[0mself\u001b[0m\u001b[0;34m.\u001b[0m\u001b[0m_jdf\u001b[0m\u001b[0;34m.\u001b[0m\u001b[0mshowString\u001b[0m\u001b[0;34m(\u001b[0m\u001b[0mn\u001b[0m\u001b[0;34m,\u001b[0m \u001b[0mint\u001b[0m\u001b[0;34m(\u001b[0m\u001b[0mtruncate\u001b[0m\u001b[0;34m)\u001b[0m\u001b[0;34m,\u001b[0m \u001b[0mvertical\u001b[0m\u001b[0;34m)\u001b[0m\u001b[0;34m)\u001b[0m\u001b[0;34m\u001b[0m\u001b[0;34m\u001b[0m\u001b[0m\n",
      "\u001b[0;32m/opt/anaconda3/lib/python3.9/site-packages/py4j/java_gateway.py\u001b[0m in \u001b[0;36m__call__\u001b[0;34m(self, *args)\u001b[0m\n\u001b[1;32m   1307\u001b[0m \u001b[0;34m\u001b[0m\u001b[0m\n\u001b[1;32m   1308\u001b[0m         \u001b[0manswer\u001b[0m \u001b[0;34m=\u001b[0m \u001b[0mself\u001b[0m\u001b[0;34m.\u001b[0m\u001b[0mgateway_client\u001b[0m\u001b[0;34m.\u001b[0m\u001b[0msend_command\u001b[0m\u001b[0;34m(\u001b[0m\u001b[0mcommand\u001b[0m\u001b[0;34m)\u001b[0m\u001b[0;34m\u001b[0m\u001b[0;34m\u001b[0m\u001b[0m\n\u001b[0;32m-> 1309\u001b[0;31m         return_value = get_return_value(\n\u001b[0m\u001b[1;32m   1310\u001b[0m             answer, self.gateway_client, self.target_id, self.name)\n\u001b[1;32m   1311\u001b[0m \u001b[0;34m\u001b[0m\u001b[0m\n",
      "\u001b[0;32m/opt/anaconda3/lib/python3.9/site-packages/pyspark/sql/utils.py\u001b[0m in \u001b[0;36mdeco\u001b[0;34m(*a, **kw)\u001b[0m\n\u001b[1;32m    115\u001b[0m                 \u001b[0;31m# Hide where the exception came from that shows a non-Pythonic\u001b[0m\u001b[0;34m\u001b[0m\u001b[0;34m\u001b[0m\u001b[0m\n\u001b[1;32m    116\u001b[0m                 \u001b[0;31m# JVM exception message.\u001b[0m\u001b[0;34m\u001b[0m\u001b[0;34m\u001b[0m\u001b[0m\n\u001b[0;32m--> 117\u001b[0;31m                 \u001b[0;32mraise\u001b[0m \u001b[0mconverted\u001b[0m \u001b[0;32mfrom\u001b[0m \u001b[0;32mNone\u001b[0m\u001b[0;34m\u001b[0m\u001b[0;34m\u001b[0m\u001b[0m\n\u001b[0m\u001b[1;32m    118\u001b[0m             \u001b[0;32melse\u001b[0m\u001b[0;34m:\u001b[0m\u001b[0;34m\u001b[0m\u001b[0;34m\u001b[0m\u001b[0m\n\u001b[1;32m    119\u001b[0m                 \u001b[0;32mraise\u001b[0m\u001b[0;34m\u001b[0m\u001b[0;34m\u001b[0m\u001b[0m\n",
      "\u001b[0;31mAnalysisException\u001b[0m: Queries with streaming sources must be executed with writeStream.start();\nFileSource[sparkstream/streaminputs/]"
     ]
    }
   ],
   "source": []
  },
  {
   "cell_type": "code",
   "execution_count": null,
   "id": "65dfa5fe-ec61-472d-8efc-57176977eda3",
   "metadata": {},
   "outputs": [],
   "source": []
  }
 ],
 "metadata": {
  "kernelspec": {
   "display_name": "Python 3 (ipykernel)",
   "language": "python",
   "name": "python3"
  },
  "language_info": {
   "codemirror_mode": {
    "name": "ipython",
    "version": 3
   },
   "file_extension": ".py",
   "mimetype": "text/x-python",
   "name": "python",
   "nbconvert_exporter": "python",
   "pygments_lexer": "ipython3",
   "version": "3.9.13"
  }
 },
 "nbformat": 4,
 "nbformat_minor": 5
}
