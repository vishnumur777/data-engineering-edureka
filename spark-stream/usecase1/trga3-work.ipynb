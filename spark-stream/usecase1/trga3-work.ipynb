{
 "cells": [
  {
   "cell_type": "code",
   "execution_count": 1,
   "id": "7582466f-6e85-4106-b92e-66b0c37d27d8",
   "metadata": {},
   "outputs": [],
   "source": [
    "from pyspark.sql import SparkSession"
   ]
  },
  {
   "cell_type": "code",
   "execution_count": 2,
   "id": "8dd14392-72d4-401b-8db2-0680f75b8c49",
   "metadata": {},
   "outputs": [
    {
     "name": "stderr",
     "output_type": "stream",
     "text": [
      "25/06/19 11:45:57 WARN NativeCodeLoader: Unable to load native-hadoop library for your platform... using builtin-java classes where applicable\n",
      "Setting default log level to \"WARN\".\n",
      "To adjust logging level use sc.setLogLevel(newLevel). For SparkR, use setLogLevel(newLevel).\n",
      "25/06/19 11:46:00 WARN Utils: Service 'SparkUI' could not bind on port 4040. Attempting port 4041.\n",
      "25/06/19 11:46:00 WARN Utils: Service 'SparkUI' could not bind on port 4041. Attempting port 4042.\n",
      "25/06/19 11:46:00 WARN Utils: Service 'SparkUI' could not bind on port 4042. Attempting port 4043.\n",
      "25/06/19 11:46:00 WARN Utils: Service 'SparkUI' could not bind on port 4043. Attempting port 4044.\n",
      "25/06/19 11:46:00 WARN Utils: Service 'SparkUI' could not bind on port 4044. Attempting port 4045.\n",
      "25/06/19 11:46:00 WARN Utils: Service 'SparkUI' could not bind on port 4045. Attempting port 4046.\n",
      "25/06/19 11:46:00 WARN Utils: Service 'SparkUI' could not bind on port 4046. Attempting port 4047.\n",
      "25/06/19 11:46:00 WARN Utils: Service 'SparkUI' could not bind on port 4047. Attempting port 4048.\n",
      "25/06/19 11:46:00 WARN Utils: Service 'SparkUI' could not bind on port 4048. Attempting port 4049.\n",
      "25/06/19 11:46:00 WARN Utils: Service 'SparkUI' could not bind on port 4049. Attempting port 4050.\n",
      "25/06/19 11:46:00 WARN Utils: Service 'SparkUI' could not bind on port 4050. Attempting port 4051.\n",
      "25/06/19 11:46:00 WARN Utils: Service 'SparkUI' could not bind on port 4051. Attempting port 4052.\n",
      "25/06/19 11:46:00 WARN Utils: Service 'SparkUI' could not bind on port 4052. Attempting port 4053.\n",
      "25/06/19 11:46:00 WARN Utils: Service 'SparkUI' could not bind on port 4053. Attempting port 4054.\n",
      "25/06/19 11:46:00 WARN Utils: Service 'SparkUI' could not bind on port 4054. Attempting port 4055.\n",
      "25/06/19 11:46:00 WARN Utils: Service 'SparkUI' could not bind on port 4055. Attempting port 4056.\n",
      "25/06/19 11:46:00 WARN Utils: Service 'SparkUI' could not bind on port 4056. Attempting port 4057.\n",
      "25/06/19 11:46:00 WARN Utils: Service 'SparkUI' could not bind on port 4057. Attempting port 4058.\n",
      "25/06/19 11:46:00 WARN Utils: Service 'SparkUI' could not bind on port 4058. Attempting port 4059.\n",
      "25/06/19 11:46:00 WARN Utils: Service 'SparkUI' could not bind on port 4059. Attempting port 4060.\n",
      "25/06/19 11:46:00 WARN Utils: Service 'SparkUI' could not bind on port 4060. Attempting port 4061.\n",
      "25/06/19 11:46:00 WARN Utils: Service 'SparkUI' could not bind on port 4061. Attempting port 4062.\n",
      "25/06/19 11:46:00 WARN Utils: Service 'SparkUI' could not bind on port 4062. Attempting port 4063.\n",
      "25/06/19 11:46:00 WARN Utils: Service 'SparkUI' could not bind on port 4063. Attempting port 4064.\n",
      "25/06/19 11:46:00 WARN Utils: Service 'SparkUI' could not bind on port 4064. Attempting port 4065.\n",
      "25/06/19 11:46:00 WARN Utils: Service 'SparkUI' could not bind on port 4065. Attempting port 4066.\n",
      "25/06/19 11:46:00 WARN Utils: Service 'SparkUI' could not bind on port 4066. Attempting port 4067.\n",
      "25/06/19 11:46:00 WARN Utils: Service 'SparkUI' could not bind on port 4067. Attempting port 4068.\n",
      "25/06/19 11:46:00 WARN Utils: Service 'SparkUI' could not bind on port 4068. Attempting port 4069.\n",
      "25/06/19 11:46:00 WARN Utils: Service 'SparkUI' could not bind on port 4069. Attempting port 4070.\n",
      "25/06/19 11:46:00 WARN Utils: Service 'SparkUI' could not bind on port 4070. Attempting port 4071.\n",
      "25/06/19 11:46:00 WARN Utils: Service 'SparkUI' could not bind on port 4071. Attempting port 4072.\n",
      "25/06/19 11:46:00 WARN Utils: Service 'SparkUI' could not bind on port 4072. Attempting port 4073.\n",
      "25/06/19 11:46:00 WARN Utils: Service 'SparkUI' could not bind on port 4073. Attempting port 4074.\n",
      "25/06/19 11:46:00 WARN Utils: Service 'SparkUI' could not bind on port 4074. Attempting port 4075.\n",
      "25/06/19 11:46:00 WARN Utils: Service 'SparkUI' could not bind on port 4075. Attempting port 4076.\n",
      "25/06/19 11:46:00 WARN Utils: Service 'SparkUI' could not bind on port 4076. Attempting port 4077.\n",
      "25/06/19 11:46:00 WARN Utils: Service 'SparkUI' could not bind on port 4077. Attempting port 4078.\n",
      "25/06/19 11:46:00 WARN Utils: Service 'SparkUI' could not bind on port 4078. Attempting port 4079.\n",
      "25/06/19 11:46:00 WARN Utils: Service 'SparkUI' could not bind on port 4079. Attempting port 4080.\n",
      "25/06/19 11:46:00 WARN Utils: Service 'SparkUI' could not bind on port 4080. Attempting port 4081.\n",
      "25/06/19 11:46:00 WARN Utils: Service 'SparkUI' could not bind on port 4081. Attempting port 4082.\n",
      "25/06/19 11:46:00 WARN Utils: Service 'SparkUI' could not bind on port 4082. Attempting port 4083.\n",
      "25/06/19 11:46:00 WARN Utils: Service 'SparkUI' could not bind on port 4083. Attempting port 4084.\n",
      "25/06/19 11:46:00 WARN Utils: Service 'SparkUI' could not bind on port 4084. Attempting port 4085.\n",
      "25/06/19 11:46:00 WARN Utils: Service 'SparkUI' could not bind on port 4085. Attempting port 4086.\n",
      "25/06/19 11:46:00 WARN Utils: Service 'SparkUI' could not bind on port 4086. Attempting port 4087.\n",
      "25/06/19 11:46:00 WARN Utils: Service 'SparkUI' could not bind on port 4087. Attempting port 4088.\n",
      "25/06/19 11:46:00 WARN Utils: Service 'SparkUI' could not bind on port 4088. Attempting port 4089.\n",
      "25/06/19 11:46:00 WARN Utils: Service 'SparkUI' could not bind on port 4089. Attempting port 4090.\n",
      "25/06/19 11:46:00 WARN Utils: Service 'SparkUI' could not bind on port 4090. Attempting port 4091.\n",
      "25/06/19 11:46:00 WARN Utils: Service 'SparkUI' could not bind on port 4091. Attempting port 4092.\n",
      "25/06/19 11:46:00 WARN Utils: Service 'SparkUI' could not bind on port 4092. Attempting port 4093.\n",
      "25/06/19 11:46:00 WARN Utils: Service 'SparkUI' could not bind on port 4093. Attempting port 4094.\n",
      "25/06/19 11:46:00 WARN Utils: Service 'SparkUI' could not bind on port 4094. Attempting port 4095.\n",
      "25/06/19 11:46:00 WARN Utils: Service 'SparkUI' could not bind on port 4095. Attempting port 4096.\n",
      "25/06/19 11:46:00 WARN Utils: Service 'SparkUI' could not bind on port 4096. Attempting port 4097.\n",
      "25/06/19 11:46:00 WARN Utils: Service 'SparkUI' could not bind on port 4097. Attempting port 4098.\n",
      "25/06/19 11:46:00 WARN Utils: Service 'SparkUI' could not bind on port 4098. Attempting port 4099.\n",
      "25/06/19 11:46:00 WARN Utils: Service 'SparkUI' could not bind on port 4099. Attempting port 4100.\n",
      "25/06/19 11:46:00 WARN Utils: Service 'SparkUI' could not bind on port 4100. Attempting port 4101.\n",
      "25/06/19 11:46:00 WARN Utils: Service 'SparkUI' could not bind on port 4101. Attempting port 4102.\n",
      "25/06/19 11:46:00 WARN Utils: Service 'SparkUI' could not bind on port 4102. Attempting port 4103.\n",
      "25/06/19 11:46:00 WARN Utils: Service 'SparkUI' could not bind on port 4103. Attempting port 4104.\n"
     ]
    }
   ],
   "source": [
    "spark = SparkSession.builder.master(\"local[5]\").appName(\"VarunBatches\").getOrCreate()"
   ]
  },
  {
   "cell_type": "code",
   "execution_count": 7,
   "id": "8e945c15-f883-473f-966f-ba90124c9233",
   "metadata": {},
   "outputs": [
    {
     "name": "stderr",
     "output_type": "stream",
     "text": [
      "                                                                                \r"
     ]
    }
   ],
   "source": [
    "rides = spark.read.csv(\"sparkstream/rides.csv\", inferSchema=True, header=True, sep=',')"
   ]
  },
  {
   "cell_type": "code",
   "execution_count": 8,
   "id": "1a5798df-3391-490e-a4ae-fed91cc831c1",
   "metadata": {},
   "outputs": [
    {
     "name": "stdout",
     "output_type": "stream",
     "text": [
      "root\n",
      " |-- _c0: integer (nullable = true)\n",
      " |-- ride_id: string (nullable = true)\n",
      " |-- tpep_pickup_datetime: timestamp (nullable = true)\n",
      " |-- PULocationID: integer (nullable = true)\n",
      " |-- driver_id: string (nullable = true)\n",
      "\n"
     ]
    }
   ],
   "source": [
    "rides.printSchema()"
   ]
  },
  {
   "cell_type": "code",
   "execution_count": 18,
   "id": "bbb32ce7-9a24-4a58-8ef3-3b5ff442dc29",
   "metadata": {},
   "outputs": [
    {
     "name": "stdout",
     "output_type": "stream",
     "text": [
      "+--------------------+--------------------+------------+---------+\n",
      "|             ride_id|tpep_pickup_datetime|PULocationID|driver_id|\n",
      "+--------------------+--------------------+------------+---------+\n",
      "|39028a1a-417c-486...| 2025-06-10 08:01:36|           4|     D009|\n",
      "|4fa830d2-8ea2-48a...| 2025-06-10 10:27:29|          29|     D005|\n",
      "|2ea3af67-15ee-48e...| 2025-06-10 07:51:57|          87|     D018|\n",
      "|d45b00db-819a-4dd...| 2025-06-10 07:34:57|          76|     D014|\n",
      "|8c4ee6d3-efd0-4c3...| 2025-06-10 06:34:42|           4|     D003|\n",
      "+--------------------+--------------------+------------+---------+\n",
      "only showing top 5 rows\n",
      "\n"
     ]
    }
   ],
   "source": [
    "rides.show(5)"
   ]
  },
  {
   "cell_type": "code",
   "execution_count": 15,
   "id": "5d9ab4b7-b56c-472b-84db-c85da39ed0b2",
   "metadata": {},
   "outputs": [],
   "source": [
    "rides = rides.drop(\"_c0\")"
   ]
  },
  {
   "cell_type": "code",
   "execution_count": 21,
   "id": "4462e238-fa13-4e2c-8144-a84d0e04ffcd",
   "metadata": {},
   "outputs": [],
   "source": [
    "rides.createTempView(\"rides_data\")"
   ]
  },
  {
   "cell_type": "code",
   "execution_count": 22,
   "id": "26240e04-6935-4a93-b45c-ec3e6381319d",
   "metadata": {},
   "outputs": [],
   "source": [
    "ride_count = spark.sql(\"select driver_id, count(*) as rides_count from rides_data group by driver_id order by rides_count desc\")"
   ]
  },
  {
   "cell_type": "code",
   "execution_count": 23,
   "id": "8b9020d7-e1b7-43cd-ac84-ef9ad2cb7d91",
   "metadata": {},
   "outputs": [
    {
     "name": "stderr",
     "output_type": "stream",
     "text": [
      "[Stage 24:====================================>                 (137 + 8) / 200]\r"
     ]
    },
    {
     "name": "stdout",
     "output_type": "stream",
     "text": [
      "+---------+-----------+\n",
      "|driver_id|rides_count|\n",
      "+---------+-----------+\n",
      "|     D013|        435|\n",
      "|     D005|        431|\n",
      "|     D019|        427|\n",
      "|     D004|        423|\n",
      "|     D016|        414|\n",
      "|     D018|        414|\n",
      "|     D006|        410|\n",
      "|     D009|        408|\n",
      "|     D020|        406|\n",
      "|     D011|        405|\n",
      "|     D014|        400|\n",
      "|     D015|        399|\n",
      "|     D002|        397|\n",
      "|     D008|        392|\n",
      "|     D010|        388|\n",
      "|     D012|        388|\n",
      "|     D003|        387|\n",
      "|     D007|        362|\n",
      "|     D017|        359|\n",
      "|     D001|        355|\n",
      "+---------+-----------+\n",
      "\n"
     ]
    },
    {
     "name": "stderr",
     "output_type": "stream",
     "text": [
      "                                                                                \r"
     ]
    }
   ],
   "source": [
    "ride_count.show()"
   ]
  },
  {
   "cell_type": "code",
   "execution_count": 35,
   "id": "a081ab20-ab94-4479-9026-e021278a4c94",
   "metadata": {},
   "outputs": [
    {
     "name": "stdout",
     "output_type": "stream",
     "text": [
      "+---------+--------+---+\n",
      "|driver_id|count(1)| hr|\n",
      "+---------+--------+---+\n",
      "|     D009|      45| 14|\n",
      "|     D016|      43| 15|\n",
      "|     D017|      27| 10|\n",
      "|     D004|      45| 13|\n",
      "|     D011|      39|  7|\n",
      "|     D004|      43| 11|\n",
      "|     D011|      36| 12|\n",
      "|     D019|      49| 11|\n",
      "|     D009|      41| 13|\n",
      "|     D015|      38| 10|\n",
      "|     D018|      44|  7|\n",
      "|     D003|      38| 14|\n",
      "|     D010|      37| 14|\n",
      "|     D013|      29| 10|\n",
      "|     D016|      36| 11|\n",
      "|     D014|      45| 14|\n",
      "|     D008|      49| 11|\n",
      "|     D014|      42|  7|\n",
      "|     D013|      53| 12|\n",
      "|     D016|      33| 10|\n",
      "+---------+--------+---+\n",
      "only showing top 20 rows\n",
      "\n"
     ]
    }
   ],
   "source": [
    "spark.sql(\"select driver_id,count(*),hour(tpep_pickup_datetime) as hr from rides_data group by driver_id,hr\").show()"
   ]
  },
  {
   "cell_type": "code",
   "execution_count": 37,
   "id": "f82e56e7-9085-4b34-89b4-1cbf1ed9961f",
   "metadata": {},
   "outputs": [
    {
     "name": "stdout",
     "output_type": "stream",
     "text": [
      "+---------+--------+----+\n",
      "|driver_id|count(1)|  yy|\n",
      "+---------+--------+----+\n",
      "|     D020|     406|2025|\n",
      "|     D008|     392|2025|\n",
      "|     D012|     388|2025|\n",
      "|     D002|     397|2025|\n",
      "|     D015|     399|2025|\n",
      "|     D009|     408|2025|\n",
      "|     D007|     362|2025|\n",
      "|     D001|     355|2025|\n",
      "|     D006|     410|2025|\n",
      "|     D018|     414|2025|\n",
      "|     D004|     423|2025|\n",
      "|     D011|     405|2025|\n",
      "|     D017|     359|2025|\n",
      "|     D016|     414|2025|\n",
      "|     D005|     431|2025|\n",
      "|     D014|     400|2025|\n",
      "|     D003|     387|2025|\n",
      "|     D013|     435|2025|\n",
      "|     D010|     388|2025|\n",
      "|     D019|     427|2025|\n",
      "+---------+--------+----+\n",
      "\n"
     ]
    }
   ],
   "source": [
    "spark.sql(\"select driver_id,count(*),year(tpep_pickup_datetime) as yy from rides_data group by driver_id,yy\").show()"
   ]
  },
  {
   "cell_type": "code",
   "execution_count": 3,
   "id": "8d035c5c-7c50-4c1c-9ef3-be79132f912d",
   "metadata": {},
   "outputs": [],
   "source": [
    "from pyspark.sql.types import *"
   ]
  },
  {
   "cell_type": "code",
   "execution_count": 4,
   "id": "882ba8cd-792c-4b7a-aebd-84f849bdfe80",
   "metadata": {},
   "outputs": [],
   "source": [
    "sch = StructType([\\\n",
    "                  StructField(\"ride_id\", StringType(), True),\\\n",
    "                  StructField(\"tpep_pickup_datetime\", TimestampType(), True),\\\n",
    "                  StructField(\"PULocationID\", IntegerType(), True),\\\n",
    "                  StructField(\"driver_id\", StringType(), True)])"
   ]
  },
  {
   "cell_type": "code",
   "execution_count": 5,
   "id": "6627d667-8cd5-4dad-9a28-431eda8f6f59",
   "metadata": {},
   "outputs": [],
   "source": [
    "rides_stream = spark.readStream.format(\"json\").schema(sch).load(\"sparkstream/streaminputs\")"
   ]
  },
  {
   "cell_type": "code",
   "execution_count": 6,
   "id": "0944539d-155a-4ce9-9471-dd7b6e19c4a6",
   "metadata": {},
   "outputs": [
    {
     "name": "stdout",
     "output_type": "stream",
     "text": [
      "root\n",
      " |-- ride_id: string (nullable = true)\n",
      " |-- tpep_pickup_datetime: timestamp (nullable = true)\n",
      " |-- PULocationID: integer (nullable = true)\n",
      " |-- driver_id: string (nullable = true)\n",
      "\n"
     ]
    }
   ],
   "source": [
    "rides_stream.printSchema()"
   ]
  },
  {
   "cell_type": "code",
   "execution_count": 7,
   "id": "24ee9480-adbf-4c6c-9a74-67db4237c1fe",
   "metadata": {},
   "outputs": [],
   "source": [
    "from pyspark.sql.functions import *"
   ]
  },
  {
   "cell_type": "code",
   "execution_count": 8,
   "id": "06e57685-74fe-440b-98e6-0e43b32d2dd3",
   "metadata": {},
   "outputs": [],
   "source": [
    "ride_stream_gr = rides_stream.withWatermark(\"tpep_pickup_datetime\",\"20 minutes\").groupBy(window(rides_stream.tpep_pickup_datetime,'10 minutes'), rides_stream.driver_id).count()"
   ]
  },
  {
   "cell_type": "code",
   "execution_count": 9,
   "id": "83054c21-ef7b-45b2-a109-411b8a707c71",
   "metadata": {},
   "outputs": [
    {
     "data": {
      "text/plain": [
       "True"
      ]
     },
     "execution_count": 9,
     "metadata": {},
     "output_type": "execute_result"
    }
   ],
   "source": [
    "ride_stream_gr.isStreaming"
   ]
  },
  {
   "cell_type": "code",
   "execution_count": null,
   "id": "136d7ddb-d742-446a-8135-dd08a5a06080",
   "metadata": {},
   "outputs": [
    {
     "name": "stderr",
     "output_type": "stream",
     "text": [
      "25/06/19 11:48:39 WARN StreamingQueryManager: Temporary checkpoint location created which is deleted normally when the query didn't fail: /tmp/temporary-11477bd7-e7a5-4ffe-b3be-e85d0d3cc548. If it's required to delete it under any circumstances, please set spark.sql.streaming.forceDeleteTempCheckpointLocation to true. Important to know deleting temp checkpoint folder is best effort.\n",
      "                                                                                \r"
     ]
    },
    {
     "name": "stdout",
     "output_type": "stream",
     "text": [
      "-------------------------------------------\n",
      "Batch: 0\n",
      "-------------------------------------------\n",
      "+--------------------+---------+-----+\n",
      "|              window|driver_id|count|\n",
      "+--------------------+---------+-----+\n",
      "|{2025-06-10 13:30...|     D005|    7|\n",
      "|{2025-06-10 12:50...|     D007|    3|\n",
      "|{2025-06-10 10:50...|     D014|    6|\n",
      "|{2025-06-10 07:50...|     D012|    5|\n",
      "|{2025-06-10 12:00...|     D013|    2|\n",
      "|{2025-06-10 10:50...|     D016|    1|\n",
      "|{2025-06-10 14:40...|     D008|    5|\n",
      "|{2025-06-10 11:30...|     D009|    4|\n",
      "|{2025-06-10 07:20...|     D008|    5|\n",
      "|{2025-06-10 13:10...|     D013|    2|\n",
      "|{2025-06-10 13:40...|     D016|    5|\n",
      "|{2025-06-10 11:10...|     D012|    2|\n",
      "|{2025-06-10 09:50...|     D009|    5|\n",
      "|{2025-06-10 09:00...|     D006|    3|\n",
      "|{2025-06-10 11:20...|     D007|    3|\n",
      "|{2025-06-10 12:20...|     D017|    5|\n",
      "|{2025-06-10 15:30...|     D005|    5|\n",
      "|{2025-06-10 15:00...|     D002|    1|\n",
      "|{2025-06-10 14:20...|     D006|    5|\n",
      "|{2025-06-10 08:40...|     D015|    4|\n",
      "+--------------------+---------+-----+\n",
      "only showing top 20 rows\n",
      "\n"
     ]
    },
    {
     "name": "stderr",
     "output_type": "stream",
     "text": [
      "                                                                                \r"
     ]
    },
    {
     "name": "stdout",
     "output_type": "stream",
     "text": [
      "-------------------------------------------\n",
      "Batch: 1\n",
      "-------------------------------------------\n",
      "+--------------------+---------+-----+\n",
      "|              window|driver_id|count|\n",
      "+--------------------+---------+-----+\n",
      "|{2025-06-10 11:20...|     D007|    4|\n",
      "|{2025-06-10 11:50...|     D018|    4|\n",
      "|{2025-06-10 10:40...|     D017|    2|\n",
      "|{2025-06-10 13:30...|     D013|    5|\n",
      "|{2025-06-10 14:30...|     D013|    2|\n",
      "|{2025-06-10 07:50...|     D008|    6|\n",
      "|{2025-06-10 11:30...|     D012|    5|\n",
      "|{2025-06-10 07:40...|     D011|    5|\n",
      "|{2025-06-10 08:00...|     D006|    7|\n",
      "|{2025-06-10 14:50...|     D011|   10|\n",
      "|{2025-06-10 15:10...|     D016|    7|\n",
      "|{2025-06-10 10:00...|     D016|    1|\n",
      "|{2025-06-10 11:30...|     D005|    3|\n",
      "|{2025-06-10 13:40...|     D013|    8|\n",
      "|{2025-06-10 15:20...|     D010|    1|\n",
      "|{2025-06-10 10:40...|     D020|    4|\n",
      "|{2025-06-10 13:10...|     D006|    2|\n",
      "|{2025-06-10 12:30...|     D007|    6|\n",
      "|{2025-06-10 15:40...|     D007|    8|\n",
      "|{2025-06-10 14:30...|     D003|    5|\n",
      "+--------------------+---------+-----+\n",
      "only showing top 20 rows\n",
      "\n"
     ]
    },
    {
     "name": "stderr",
     "output_type": "stream",
     "text": [
      "                                                                                \r"
     ]
    },
    {
     "name": "stdout",
     "output_type": "stream",
     "text": [
      "-------------------------------------------\n",
      "Batch: 2\n",
      "-------------------------------------------\n",
      "+--------------------+---------+-----+\n",
      "|              window|driver_id|count|\n",
      "+--------------------+---------+-----+\n",
      "|{2025-06-10 14:30...|     D007|    3|\n",
      "|{2025-06-10 07:50...|     D018|    9|\n",
      "|{2025-06-10 06:10...|     D014|    6|\n",
      "|{2025-06-10 08:00...|     D006|    8|\n",
      "|{2025-06-10 08:40...|     D005|    5|\n",
      "|{2025-06-10 11:00...|     D015|    3|\n",
      "|{2025-06-10 14:50...|     D017|    5|\n",
      "|{2025-06-10 15:20...|     D019|    3|\n",
      "|{2025-06-10 13:00...|     D001|    2|\n",
      "|{2025-06-10 07:20...|     D003|    4|\n",
      "|{2025-06-10 12:00...|     D003|    6|\n",
      "|{2025-06-10 11:20...|     D020|    3|\n",
      "|{2025-06-10 09:40...|     D010|    3|\n",
      "|{2025-06-10 07:00...|     D012|    6|\n",
      "|{2025-06-10 11:50...|     D008|    4|\n",
      "|{2025-06-10 09:40...|     D006|    6|\n",
      "|{2025-06-10 08:40...|     D011|    7|\n",
      "|{2025-06-10 06:30...|     D011|    7|\n",
      "|{2025-06-10 07:10...|     D014|    8|\n",
      "|{2025-06-10 08:40...|     D008|    6|\n",
      "+--------------------+---------+-----+\n",
      "only showing top 20 rows\n",
      "\n"
     ]
    },
    {
     "name": "stderr",
     "output_type": "stream",
     "text": [
      "                                                                                \r"
     ]
    },
    {
     "name": "stdout",
     "output_type": "stream",
     "text": [
      "-------------------------------------------\n",
      "Batch: 3\n",
      "-------------------------------------------\n",
      "+--------------------+---------+-----+\n",
      "|              window|driver_id|count|\n",
      "+--------------------+---------+-----+\n",
      "|{2025-06-10 12:50...|     D015|    8|\n",
      "|{2025-06-10 10:10...|     D012|    4|\n",
      "|{2025-06-10 09:40...|     D013|    6|\n",
      "|{2025-06-10 13:10...|     D012|    4|\n",
      "|{2025-06-10 12:30...|     D011|    4|\n",
      "|{2025-06-10 08:10...|     D001|    3|\n",
      "|{2025-06-10 08:10...|     D005|    9|\n",
      "|{2025-06-10 14:40...|     D017|    7|\n",
      "|{2025-06-10 08:10...|     D007|    5|\n",
      "|{2025-06-10 13:00...|     D001|    3|\n",
      "|{2025-06-10 08:30...|     D016|    9|\n",
      "|{2025-06-10 07:30...|     D012|    5|\n",
      "|{2025-06-10 13:50...|     D010|    6|\n",
      "|{2025-06-10 09:40...|     D010|    4|\n",
      "|{2025-06-10 13:30...|     D007|    6|\n",
      "|{2025-06-10 06:00...|     D014|    4|\n",
      "|{2025-06-10 12:30...|     D003|    8|\n",
      "|{2025-06-10 08:50...|     D009|    4|\n",
      "|{2025-06-10 11:00...|     D011|    3|\n",
      "|{2025-06-10 08:00...|     D001|    3|\n",
      "+--------------------+---------+-----+\n",
      "only showing top 20 rows\n",
      "\n"
     ]
    },
    {
     "name": "stderr",
     "output_type": "stream",
     "text": [
      "                                                                                \r"
     ]
    },
    {
     "name": "stdout",
     "output_type": "stream",
     "text": [
      "-------------------------------------------\n",
      "Batch: 4\n",
      "-------------------------------------------\n",
      "+--------------------+---------+-----+\n",
      "|              window|driver_id|count|\n",
      "+--------------------+---------+-----+\n",
      "|{2025-06-10 14:40...|     D019|    6|\n",
      "|{2025-06-10 06:00...|     D016|    5|\n",
      "|{2025-06-10 14:00...|     D020|    7|\n",
      "|{2025-06-10 11:50...|     D018|    5|\n",
      "|{2025-06-10 09:40...|     D013|    7|\n",
      "|{2025-06-10 12:40...|     D014|    7|\n",
      "|{2025-06-10 13:20...|     D018|    5|\n",
      "|{2025-06-10 09:30...|     D008|    5|\n",
      "|{2025-06-10 14:30...|     D005|    7|\n",
      "|{2025-06-10 09:10...|     D004|    4|\n",
      "|{2025-06-10 06:30...|     D005|    7|\n",
      "|{2025-06-10 09:20...|     D010|    5|\n",
      "|{2025-06-10 11:50...|     D001|    6|\n",
      "|{2025-06-10 14:20...|     D018|    7|\n",
      "|{2025-06-10 12:30...|     D004|    2|\n",
      "|{2025-06-10 12:00...|     D016|    6|\n",
      "|{2025-06-10 07:40...|     D012|    6|\n",
      "|{2025-06-10 10:30...|     D009|    7|\n",
      "|{2025-06-10 10:00...|     D003|    7|\n",
      "|{2025-06-10 15:30...|     D006|    3|\n",
      "+--------------------+---------+-----+\n",
      "only showing top 20 rows\n",
      "\n"
     ]
    },
    {
     "name": "stderr",
     "output_type": "stream",
     "text": [
      "                                                                                \r"
     ]
    },
    {
     "name": "stdout",
     "output_type": "stream",
     "text": [
      "-------------------------------------------\n",
      "Batch: 5\n",
      "-------------------------------------------\n",
      "+--------------------+---------+-----+\n",
      "|              window|driver_id|count|\n",
      "+--------------------+---------+-----+\n",
      "|{2025-06-10 09:00...|     D006|    4|\n",
      "|{2025-06-10 15:30...|     D005|    6|\n",
      "|{2025-06-10 13:00...|     D002|    2|\n",
      "|{2025-06-10 10:10...|     D017|    3|\n",
      "|{2025-06-10 15:50...|     D014|    3|\n",
      "|{2025-06-10 06:10...|     D012|    9|\n",
      "|{2025-06-10 10:50...|     D005|    4|\n",
      "|{2025-06-10 10:00...|     D004|    3|\n",
      "|{2025-06-10 08:30...|     D002|    6|\n",
      "|{2025-06-10 10:40...|     D012|    7|\n",
      "|{2025-06-10 09:20...|     D019|    5|\n",
      "|{2025-06-10 15:50...|     D004|    6|\n",
      "|{2025-06-10 08:10...|     D010|    6|\n",
      "|{2025-06-10 15:20...|     D019|    4|\n",
      "|{2025-06-10 13:20...|     D007|    5|\n",
      "|{2025-06-10 11:00...|     D017|    5|\n",
      "|{2025-06-10 15:40...|     D018|    2|\n",
      "|{2025-06-10 14:10...|     D009|    7|\n",
      "|{2025-06-10 14:10...|     D018|    4|\n",
      "|{2025-06-10 07:30...|     D006|    1|\n",
      "+--------------------+---------+-----+\n",
      "only showing top 20 rows\n",
      "\n"
     ]
    },
    {
     "name": "stderr",
     "output_type": "stream",
     "text": [
      "                                                                                \r"
     ]
    },
    {
     "name": "stdout",
     "output_type": "stream",
     "text": [
      "-------------------------------------------\n",
      "Batch: 6\n",
      "-------------------------------------------\n",
      "+--------------------+---------+-----+\n",
      "|              window|driver_id|count|\n",
      "+--------------------+---------+-----+\n",
      "|{2025-06-10 13:10...|     D013|    3|\n",
      "|{2025-06-10 08:40...|     D015|    5|\n",
      "|{2025-06-10 14:20...|     D019|    5|\n",
      "|{2025-06-10 13:50...|     D002|    7|\n",
      "|{2025-06-10 15:20...|     D017|    3|\n",
      "|{2025-06-10 10:30...|     D018|    4|\n",
      "|{2025-06-10 09:00...|     D016|    6|\n",
      "|{2025-06-10 11:50...|     D004|    3|\n",
      "|{2025-06-10 14:30...|     D005|    8|\n",
      "|{2025-06-10 14:10...|     D003|    3|\n",
      "|{2025-06-10 08:30...|     D016|   10|\n",
      "|{2025-06-10 08:50...|     D008|    4|\n",
      "|{2025-06-10 13:10...|     D019|    9|\n",
      "|{2025-06-10 13:00...|     D014|    4|\n",
      "|{2025-06-10 07:50...|     D020|    7|\n",
      "|{2025-06-10 10:30...|     D003|    5|\n",
      "|{2025-06-10 11:10...|     D017|    3|\n",
      "|{2025-06-10 12:10...|     D002|    3|\n",
      "|{2025-06-10 15:20...|     D016|    5|\n",
      "|{2025-06-10 11:20...|     D003|    7|\n",
      "+--------------------+---------+-----+\n",
      "only showing top 20 rows\n",
      "\n"
     ]
    },
    {
     "name": "stderr",
     "output_type": "stream",
     "text": [
      "                                                                                \r"
     ]
    },
    {
     "name": "stdout",
     "output_type": "stream",
     "text": [
      "-------------------------------------------\n",
      "Batch: 7\n",
      "-------------------------------------------\n",
      "+--------------------+---------+-----+\n",
      "|              window|driver_id|count|\n",
      "+--------------------+---------+-----+\n",
      "|{2025-06-10 10:50...|     D016|    2|\n",
      "|{2025-06-10 09:20...|     D013|    2|\n",
      "|{2025-06-10 14:00...|     D011|    7|\n",
      "|{2025-06-10 06:30...|     D015|    3|\n",
      "|{2025-06-10 09:00...|     D001|    6|\n",
      "|{2025-06-10 13:10...|     D012|    5|\n",
      "|{2025-06-10 13:40...|     D002|    4|\n",
      "|{2025-06-10 12:30...|     D020|    2|\n",
      "|{2025-06-10 08:50...|     D018|    8|\n",
      "|{2025-06-10 11:50...|     D009|    3|\n",
      "|{2025-06-10 15:40...|     D008|    8|\n",
      "|{2025-06-10 11:40...|     D016|    3|\n",
      "|{2025-06-10 09:10...|     D011|    4|\n",
      "|{2025-06-10 12:50...|     D017|    5|\n",
      "|{2025-06-10 11:00...|     D017|    6|\n",
      "|{2025-06-10 15:50...|     D011|   10|\n",
      "|{2025-06-10 11:40...|     D004|    7|\n",
      "|{2025-06-10 09:00...|     D003|    7|\n",
      "|{2025-06-10 06:40...|     D014|    3|\n",
      "|{2025-06-10 07:40...|     D014|    6|\n",
      "+--------------------+---------+-----+\n",
      "only showing top 20 rows\n",
      "\n"
     ]
    },
    {
     "name": "stderr",
     "output_type": "stream",
     "text": [
      "                                                                                \r"
     ]
    },
    {
     "name": "stdout",
     "output_type": "stream",
     "text": [
      "-------------------------------------------\n",
      "Batch: 8\n",
      "-------------------------------------------\n",
      "+--------------------+---------+-----+\n",
      "|              window|driver_id|count|\n",
      "+--------------------+---------+-----+\n",
      "|{2025-06-10 07:20...|     D008|    6|\n",
      "|{2025-06-10 13:10...|     D013|    4|\n",
      "|{2025-06-10 09:20...|     D006|    4|\n",
      "|{2025-06-10 10:00...|     D012|    5|\n",
      "|{2025-06-10 10:20...|     D020|    9|\n",
      "|{2025-06-10 13:20...|     D005|    4|\n",
      "|{2025-06-10 14:00...|     D008|    4|\n",
      "|{2025-06-10 07:20...|     D003|    5|\n",
      "|{2025-06-10 09:50...|     D008|    6|\n",
      "|{2025-06-10 11:50...|     D008|    5|\n",
      "|{2025-06-10 07:20...|     D005|    6|\n",
      "|{2025-06-10 12:40...|     D008|    2|\n",
      "|{2025-06-10 15:40...|     D013|   10|\n",
      "|{2025-06-10 13:00...|     D009|    4|\n",
      "|{2025-06-10 12:30...|     D014|    5|\n",
      "|{2025-06-10 15:40...|     D004|    7|\n",
      "|{2025-06-10 15:50...|     D009|    2|\n",
      "|{2025-06-10 07:40...|     D016|    3|\n",
      "|{2025-06-10 06:20...|     D008|    4|\n",
      "|{2025-06-10 15:20...|     D013|    9|\n",
      "+--------------------+---------+-----+\n",
      "only showing top 20 rows\n",
      "\n"
     ]
    },
    {
     "name": "stderr",
     "output_type": "stream",
     "text": [
      "                                                                                \r"
     ]
    },
    {
     "name": "stdout",
     "output_type": "stream",
     "text": [
      "-------------------------------------------\n",
      "Batch: 9\n",
      "-------------------------------------------\n",
      "+--------------------+---------+-----+\n",
      "|              window|driver_id|count|\n",
      "+--------------------+---------+-----+\n",
      "|{2025-06-10 09:20...|     D013|    3|\n",
      "|{2025-06-10 07:40...|     D019|    8|\n",
      "|{2025-06-10 11:30...|     D010|    2|\n",
      "|{2025-06-10 10:30...|     D006|    3|\n",
      "|{2025-06-10 07:00...|     D016|    2|\n",
      "|{2025-06-10 08:40...|     D012|    5|\n",
      "|{2025-06-10 12:00...|     D019|    7|\n",
      "|{2025-06-10 10:30...|     D001|    2|\n",
      "|{2025-06-10 08:10...|     D003|    6|\n",
      "|{2025-06-10 13:10...|     D015|    4|\n",
      "|{2025-06-10 07:00...|     D014|    2|\n",
      "|{2025-06-10 15:10...|     D005|    7|\n",
      "|{2025-06-10 13:50...|     D006|    4|\n",
      "|{2025-06-10 10:30...|     D003|    6|\n",
      "|{2025-06-10 14:30...|     D011|    7|\n",
      "|{2025-06-10 13:50...|     D019|    6|\n",
      "|{2025-06-10 06:50...|     D012|    3|\n",
      "|{2025-06-10 10:00...|     D009|    6|\n",
      "|{2025-06-10 15:40...|     D019|    3|\n",
      "|{2025-06-10 09:10...|     D016|    5|\n",
      "+--------------------+---------+-----+\n",
      "only showing top 20 rows\n",
      "\n"
     ]
    },
    {
     "name": "stderr",
     "output_type": "stream",
     "text": [
      "                                                                                \r"
     ]
    },
    {
     "name": "stdout",
     "output_type": "stream",
     "text": [
      "-------------------------------------------\n",
      "Batch: 10\n",
      "-------------------------------------------\n",
      "+--------------------+---------+-----+\n",
      "|              window|driver_id|count|\n",
      "+--------------------+---------+-----+\n",
      "|{2025-06-10 11:10...|     D012|    3|\n",
      "|{2025-06-10 14:40...|     D019|    7|\n",
      "|{2025-06-10 07:10...|     D008|    6|\n",
      "|{2025-06-10 09:00...|     D016|    7|\n",
      "|{2025-06-10 08:40...|     D012|    6|\n",
      "|{2025-06-10 09:30...|     D005|    6|\n",
      "|{2025-06-10 12:30...|     D008|    8|\n",
      "|{2025-06-10 15:00...|     D018|    9|\n",
      "|{2025-06-10 07:20...|     D015|    9|\n",
      "|{2025-06-10 15:30...|     D001|    5|\n",
      "|{2025-06-10 07:40...|     D001|    5|\n",
      "|{2025-06-10 09:10...|     D006|    4|\n",
      "|{2025-06-10 09:50...|     D004|    6|\n",
      "|{2025-06-10 07:00...|     D012|    7|\n",
      "|{2025-06-10 15:10...|     D015|    4|\n",
      "|{2025-06-10 11:50...|     D010|    8|\n",
      "|{2025-06-10 06:30...|     D019|    5|\n",
      "|{2025-06-10 06:30...|     D002|    6|\n",
      "|{2025-06-10 09:10...|     D017|    3|\n",
      "|{2025-06-10 13:00...|     D004|    7|\n",
      "+--------------------+---------+-----+\n",
      "only showing top 20 rows\n",
      "\n"
     ]
    },
    {
     "name": "stderr",
     "output_type": "stream",
     "text": [
      "                                                                                \r"
     ]
    },
    {
     "name": "stdout",
     "output_type": "stream",
     "text": [
      "-------------------------------------------\n",
      "Batch: 11\n",
      "-------------------------------------------\n",
      "+--------------------+---------+-----+\n",
      "|              window|driver_id|count|\n",
      "+--------------------+---------+-----+\n",
      "|{2025-06-10 14:50...|     D011|   11|\n",
      "|{2025-06-10 11:00...|     D005|    7|\n",
      "|{2025-06-10 13:20...|     D013|    2|\n",
      "|{2025-06-10 11:10...|     D014|    2|\n",
      "|{2025-06-10 07:20...|     D001|    4|\n",
      "|{2025-06-10 15:40...|     D013|   11|\n",
      "|{2025-06-10 14:40...|     D013|    9|\n",
      "|{2025-06-10 15:50...|     D007|    4|\n",
      "|{2025-06-10 11:50...|     D019|    7|\n",
      "|{2025-06-10 14:00...|     D007|    8|\n",
      "+--------------------+---------+-----+\n",
      "\n"
     ]
    }
   ],
   "source": [
    "ride_stream_gr.writeStream.outputMode(\"update\").format(\"console\").start().awaitTermination()"
   ]
  },
  {
   "cell_type": "code",
   "execution_count": null,
   "id": "ee34551d-e6ef-4221-946e-fe22ed365013",
   "metadata": {},
   "outputs": [],
   "source": []
  }
 ],
 "metadata": {
  "kernelspec": {
   "display_name": "Python 3 (ipykernel)",
   "language": "python",
   "name": "python3"
  },
  "language_info": {
   "codemirror_mode": {
    "name": "ipython",
    "version": 3
   },
   "file_extension": ".py",
   "mimetype": "text/x-python",
   "name": "python",
   "nbconvert_exporter": "python",
   "pygments_lexer": "ipython3",
   "version": "3.9.13"
  }
 },
 "nbformat": 4,
 "nbformat_minor": 5
}
