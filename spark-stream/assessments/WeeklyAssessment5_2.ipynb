{
 "cells": [
  {
   "cell_type": "code",
   "execution_count": 1,
   "id": "733c45de-57f3-44b8-bd43-96f499c5fdbc",
   "metadata": {},
   "outputs": [],
   "source": [
    "from pyspark.sql import SparkSession"
   ]
  },
  {
   "cell_type": "code",
   "execution_count": 2,
   "id": "cb521478-ed3a-4b95-9421-e8b477831388",
   "metadata": {},
   "outputs": [],
   "source": [
    "import os\n",
    "os.environ['PYSPARK_SUBMIT_ARGS'] = '--packages org.apache.spark:spark-sql-kafka-0-10_2.12:3.1.2 pyspark-shell'"
   ]
  },
  {
   "cell_type": "code",
   "execution_count": 3,
   "id": "e711d30f-b1c7-46b7-9b18-448347743960",
   "metadata": {},
   "outputs": [
    {
     "name": "stdout",
     "output_type": "stream",
     "text": [
      ":: loading settings :: url = jar:file:/opt/anaconda3/lib/python3.9/site-packages/pyspark/jars/ivy-2.4.0.jar!/org/apache/ivy/core/settings/ivysettings.xml\n"
     ]
    },
    {
     "name": "stderr",
     "output_type": "stream",
     "text": [
      "Ivy Default Cache set to: /home/varunm15t38hedu/.ivy2/cache\n",
      "The jars for the packages stored in: /home/varunm15t38hedu/.ivy2/jars\n",
      "org.apache.spark#spark-sql-kafka-0-10_2.12 added as a dependency\n",
      ":: resolving dependencies :: org.apache.spark#spark-submit-parent-53c679bf-b826-4cc8-8537-593fb4d048d9;1.0\n",
      "\tconfs: [default]\n",
      "\tfound org.apache.spark#spark-sql-kafka-0-10_2.12;3.1.2 in central\n",
      "\tfound org.apache.spark#spark-token-provider-kafka-0-10_2.12;3.1.2 in central\n",
      "\tfound org.apache.kafka#kafka-clients;2.6.0 in central\n",
      "\tfound com.github.luben#zstd-jni;1.4.8-1 in central\n",
      "\tfound org.lz4#lz4-java;1.7.1 in central\n",
      "\tfound org.xerial.snappy#snappy-java;1.1.8.2 in central\n",
      "\tfound org.slf4j#slf4j-api;1.7.30 in central\n",
      "\tfound org.spark-project.spark#unused;1.0.0 in central\n",
      "\tfound org.apache.commons#commons-pool2;2.6.2 in central\n",
      ":: resolution report :: resolve 998ms :: artifacts dl 38ms\n",
      "\t:: modules in use:\n",
      "\tcom.github.luben#zstd-jni;1.4.8-1 from central in [default]\n",
      "\torg.apache.commons#commons-pool2;2.6.2 from central in [default]\n",
      "\torg.apache.kafka#kafka-clients;2.6.0 from central in [default]\n",
      "\torg.apache.spark#spark-sql-kafka-0-10_2.12;3.1.2 from central in [default]\n",
      "\torg.apache.spark#spark-token-provider-kafka-0-10_2.12;3.1.2 from central in [default]\n",
      "\torg.lz4#lz4-java;1.7.1 from central in [default]\n",
      "\torg.slf4j#slf4j-api;1.7.30 from central in [default]\n",
      "\torg.spark-project.spark#unused;1.0.0 from central in [default]\n",
      "\torg.xerial.snappy#snappy-java;1.1.8.2 from central in [default]\n",
      "\t---------------------------------------------------------------------\n",
      "\t|                  |            modules            ||   artifacts   |\n",
      "\t|       conf       | number| search|dwnlded|evicted|| number|dwnlded|\n",
      "\t---------------------------------------------------------------------\n",
      "\t|      default     |   9   |   0   |   0   |   0   ||   9   |   0   |\n",
      "\t---------------------------------------------------------------------\n",
      ":: retrieving :: org.apache.spark#spark-submit-parent-53c679bf-b826-4cc8-8537-593fb4d048d9\n",
      "\tconfs: [default]\n",
      "\t0 artifacts copied, 9 already retrieved (0kB/37ms)\n",
      "25/06/20 09:12:23 WARN NativeCodeLoader: Unable to load native-hadoop library for your platform... using builtin-java classes where applicable\n",
      "Setting default log level to \"WARN\".\n",
      "To adjust logging level use sc.setLogLevel(newLevel). For SparkR, use setLogLevel(newLevel).\n",
      "25/06/20 09:12:25 WARN Utils: Service 'SparkUI' could not bind on port 4040. Attempting port 4041.\n",
      "25/06/20 09:12:25 WARN Utils: Service 'SparkUI' could not bind on port 4041. Attempting port 4042.\n",
      "25/06/20 09:12:25 WARN Utils: Service 'SparkUI' could not bind on port 4042. Attempting port 4043.\n",
      "25/06/20 09:12:25 WARN Utils: Service 'SparkUI' could not bind on port 4043. Attempting port 4044.\n",
      "25/06/20 09:12:25 WARN Utils: Service 'SparkUI' could not bind on port 4044. Attempting port 4045.\n"
     ]
    }
   ],
   "source": [
    "spark = SparkSession.builder.master(\"local[1]\").appName(\"VarunAssessment52\").getOrCreate()"
   ]
  },
  {
   "cell_type": "code",
   "execution_count": 4,
   "id": "0a7ff604-541c-4cbc-a8fb-f0d3c8f55130",
   "metadata": {},
   "outputs": [],
   "source": [
    "from pyspark.sql.types import *\n",
    "from pyspark.sql.functions import *"
   ]
  },
  {
   "cell_type": "code",
   "execution_count": 5,
   "id": "0c0e497c-3362-4c50-9f6b-139f320369db",
   "metadata": {},
   "outputs": [],
   "source": [
    "order = spark.readStream.format(\"kafka\").option('kafka.bootstrap.servers', 'master:9092').option('subscribe', 'varun_muralidhar').load()"
   ]
  },
  {
   "cell_type": "code",
   "execution_count": 6,
   "id": "9bc345c7-e3ac-474f-ace6-3e485d8f9108",
   "metadata": {},
   "outputs": [],
   "source": [
    "order_data = order.selectExpr(\"CAST(value AS STRING)\") \\\n",
    "    .withColumn(\"timestamp\", split(col(\"value\"), \",\")[0].cast(\"timestamp\")) \\\n",
    "    .withColumn(\"order_id\", split(col(\"value\"), \",\")[1].cast(\"string\")) \\\n",
    "    .withColumn(\"user_id\", split(col(\"value\"), \",\")[2].cast(\"string\")) \\\n",
    "    .withColumn(\"product_id\", split(col(\"value\"), \",\")[3].cast(\"string\")) \\\n",
    "    .withColumn(\"category\", split(col(\"value\"), \",\")[4].cast(\"string\")) \\\n",
    "    .withColumn(\"price\", split(col(\"value\"), \",\")[5].cast(\"double\")) \\\n",
    "    .withColumn(\"quantity\",split(col(\"value\"), \",\")[6].cast(\"integer\"))"
   ]
  },
  {
   "cell_type": "markdown",
   "id": "3f29b7a3-0caf-4822-9ad7-d10c3884605b",
   "metadata": {},
   "source": [
    "### 1. Total revenue per 5-minute tumbling window"
   ]
  },
  {
   "cell_type": "code",
   "execution_count": 7,
   "id": "cc187c7a-6d7c-4034-93d7-d7e86eeb31fc",
   "metadata": {},
   "outputs": [],
   "source": [
    "total_revenue = order_data.groupBy(window(\"timestamp\", \"5 minutes\")) \\\n",
    "    .agg(sum(order_data.price*order_data.quantity).alias(\"total_revenue\"))"
   ]
  },
  {
   "cell_type": "code",
   "execution_count": null,
   "id": "aa32dc87-6b31-461c-bc2e-8cf1b6d41ade",
   "metadata": {},
   "outputs": [
    {
     "name": "stderr",
     "output_type": "stream",
     "text": [
      "25/06/20 08:57:38 WARN StreamingQueryManager: Temporary checkpoint location created which is deleted normally when the query didn't fail: /tmp/temporary-709a6a9f-c7c5-4c7c-b191-cd05947ae282. If it's required to delete it under any circumstances, please set spark.sql.streaming.forceDeleteTempCheckpointLocation to true. Important to know deleting temp checkpoint folder is best effort.\n",
      "                                                                                \r"
     ]
    },
    {
     "name": "stdout",
     "output_type": "stream",
     "text": [
      "-------------------------------------------\n",
      "Batch: 0\n",
      "-------------------------------------------\n",
      "+------+-------------+\n",
      "|window|total_revenue|\n",
      "+------+-------------+\n",
      "+------+-------------+\n",
      "\n"
     ]
    },
    {
     "name": "stderr",
     "output_type": "stream",
     "text": [
      "                                                                                \r"
     ]
    },
    {
     "name": "stdout",
     "output_type": "stream",
     "text": [
      "-------------------------------------------\n",
      "Batch: 1\n",
      "-------------------------------------------\n",
      "+--------------------+-------------+\n",
      "|              window|total_revenue|\n",
      "+--------------------+-------------+\n",
      "|{2025-06-19 00:05...|      4586.85|\n",
      "|{2025-06-19 00:10...|      4265.69|\n",
      "+--------------------+-------------+\n",
      "\n"
     ]
    },
    {
     "name": "stderr",
     "output_type": "stream",
     "text": [
      "                                                                                \r"
     ]
    },
    {
     "name": "stdout",
     "output_type": "stream",
     "text": [
      "-------------------------------------------\n",
      "Batch: 2\n",
      "-------------------------------------------\n",
      "+--------------------+-------------+\n",
      "|              window|total_revenue|\n",
      "+--------------------+-------------+\n",
      "|{2025-06-19 00:05...|      4586.85|\n",
      "|{2025-06-19 00:10...|     10404.59|\n",
      "|{2025-06-19 00:15...|       2776.0|\n",
      "+--------------------+-------------+\n",
      "\n"
     ]
    },
    {
     "name": "stderr",
     "output_type": "stream",
     "text": [
      "                                                                                \r"
     ]
    },
    {
     "name": "stdout",
     "output_type": "stream",
     "text": [
      "-------------------------------------------\n",
      "Batch: 3\n",
      "-------------------------------------------\n",
      "+--------------------+-----------------+\n",
      "|              window|    total_revenue|\n",
      "+--------------------+-----------------+\n",
      "|{2025-06-19 00:05...|          4586.85|\n",
      "|{2025-06-19 00:10...|         10404.59|\n",
      "|{2025-06-19 00:15...|8975.029999999999|\n",
      "+--------------------+-----------------+\n",
      "\n"
     ]
    },
    {
     "name": "stderr",
     "output_type": "stream",
     "text": [
      "                                                                                \r"
     ]
    },
    {
     "name": "stdout",
     "output_type": "stream",
     "text": [
      "-------------------------------------------\n",
      "Batch: 4\n",
      "-------------------------------------------\n",
      "+--------------------+-----------------+\n",
      "|              window|    total_revenue|\n",
      "+--------------------+-----------------+\n",
      "|{2025-06-19 00:05...|          4586.85|\n",
      "|{2025-06-19 00:20...|7207.070000000001|\n",
      "|{2025-06-19 00:10...|         10404.59|\n",
      "|{2025-06-19 00:15...|8975.029999999999|\n",
      "+--------------------+-----------------+\n",
      "\n"
     ]
    },
    {
     "name": "stderr",
     "output_type": "stream",
     "text": [
      "                                                                                \r"
     ]
    },
    {
     "name": "stdout",
     "output_type": "stream",
     "text": [
      "-------------------------------------------\n",
      "Batch: 5\n",
      "-------------------------------------------\n",
      "+--------------------+------------------+\n",
      "|              window|     total_revenue|\n",
      "+--------------------+------------------+\n",
      "|{2025-06-19 00:05...|           4586.85|\n",
      "|{2025-06-19 00:25...|3903.2200000000003|\n",
      "|{2025-06-19 00:20...|           9954.19|\n",
      "|{2025-06-19 00:10...|          10404.59|\n",
      "|{2025-06-19 00:15...| 8975.029999999999|\n",
      "+--------------------+------------------+\n",
      "\n"
     ]
    },
    {
     "name": "stderr",
     "output_type": "stream",
     "text": [
      "                                                                                \r"
     ]
    },
    {
     "name": "stdout",
     "output_type": "stream",
     "text": [
      "-------------------------------------------\n",
      "Batch: 6\n",
      "-------------------------------------------\n",
      "+--------------------+-----------------+\n",
      "|              window|    total_revenue|\n",
      "+--------------------+-----------------+\n",
      "|{2025-06-19 00:05...|          4586.85|\n",
      "|{2025-06-19 00:25...|          11317.5|\n",
      "|{2025-06-19 00:20...|          9954.19|\n",
      "|{2025-06-19 00:10...|         10404.59|\n",
      "|{2025-06-19 00:15...|8975.029999999999|\n",
      "+--------------------+-----------------+\n",
      "\n"
     ]
    },
    {
     "name": "stderr",
     "output_type": "stream",
     "text": [
      "[Stage 15:===>                                                   (12 + 1) / 200]\r"
     ]
    }
   ],
   "source": [
    "query = total_revenue.writeStream.outputMode(\"complete\").format(\"console\").start()\n",
    "query.awaitTermination()"
   ]
  },
  {
   "cell_type": "code",
   "execution_count": 8,
   "id": "06e43d36-6355-4a5f-903b-4053a394ff16",
   "metadata": {},
   "outputs": [],
   "source": [
    "from pyspark.sql.functions import row_number\n",
    "from pyspark.sql.window import Window"
   ]
  },
  {
   "cell_type": "markdown",
   "id": "98109d56-4080-452d-ae49-74bd251b9628",
   "metadata": {},
   "source": [
    "### 2. Top 3 categories by revenue in a 10-minute sliding window (slide interval = 5 minutes)."
   ]
  },
  {
   "cell_type": "code",
   "execution_count": 9,
   "id": "f6dd7aad-a6e4-4f22-880c-da7a2041083f",
   "metadata": {
    "tags": []
   },
   "outputs": [],
   "source": [
    "revenue_df = order_data.groupBy(window(\"timestamp\", \"10 minutes\", \"5 minutes\"), col(\"category\")) \\\n",
    "    .agg(sum(order_data.price*order_data.quantity).alias(\"revenue\"))"
   ]
  },
  {
   "cell_type": "code",
   "execution_count": 10,
   "id": "5f349f70-5769-4ffb-b6bb-ab4c83539a1d",
   "metadata": {},
   "outputs": [],
   "source": [
    "order_win = revenue_df.orderBy(col(\"revenue\").desc()).limit(3)"
   ]
  },
  {
   "cell_type": "code",
   "execution_count": null,
   "id": "0a16a91c-fa2b-40dd-b8c7-92d91b66abc4",
   "metadata": {},
   "outputs": [
    {
     "name": "stderr",
     "output_type": "stream",
     "text": [
      "25/06/20 09:04:03 WARN StreamingQueryManager: Temporary checkpoint location created which is deleted normally when the query didn't fail: /tmp/temporary-922ff620-cb6d-4c8d-b7ef-b97532a65521. If it's required to delete it under any circumstances, please set spark.sql.streaming.forceDeleteTempCheckpointLocation to true. Important to know deleting temp checkpoint folder is best effort.\n",
      "                                                                                \r"
     ]
    },
    {
     "name": "stdout",
     "output_type": "stream",
     "text": [
      "-------------------------------------------\n",
      "Batch: 0\n",
      "-------------------------------------------\n",
      "+------+--------+-------+\n",
      "|window|category|revenue|\n",
      "+------+--------+-------+\n",
      "+------+--------+-------+\n",
      "\n"
     ]
    },
    {
     "name": "stderr",
     "output_type": "stream",
     "text": [
      "                                                                                \r"
     ]
    },
    {
     "name": "stdout",
     "output_type": "stream",
     "text": [
      "-------------------------------------------\n",
      "Batch: 1\n",
      "-------------------------------------------\n",
      "+--------------------+--------+-------+\n",
      "|              window|category|revenue|\n",
      "+--------------------+--------+-------+\n",
      "|{2025-06-19 00:45...|   Books|3439.66|\n",
      "|{2025-06-19 00:50...|   Books|3439.66|\n",
      "|{2025-06-19 00:45...|    Toys|2277.58|\n",
      "+--------------------+--------+-------+\n",
      "\n"
     ]
    },
    {
     "name": "stderr",
     "output_type": "stream",
     "text": [
      "                                                                                \r"
     ]
    },
    {
     "name": "stdout",
     "output_type": "stream",
     "text": [
      "-------------------------------------------\n",
      "Batch: 2\n",
      "-------------------------------------------\n",
      "+--------------------+--------+-------+\n",
      "|              window|category|revenue|\n",
      "+--------------------+--------+-------+\n",
      "|{2025-06-19 00:50...|   Books|4510.28|\n",
      "|{2025-06-19 00:50...|    Toys|3667.75|\n",
      "|{2025-06-19 00:45...|   Books|3439.66|\n",
      "+--------------------+--------+-------+\n",
      "\n"
     ]
    },
    {
     "name": "stderr",
     "output_type": "stream",
     "text": [
      "                                                                                \r"
     ]
    },
    {
     "name": "stdout",
     "output_type": "stream",
     "text": [
      "-------------------------------------------\n",
      "Batch: 3\n",
      "-------------------------------------------\n",
      "+--------------------+-----------+-----------------+\n",
      "|              window|   category|          revenue|\n",
      "+--------------------+-----------+-----------------+\n",
      "|{2025-06-19 00:50...|      Books|6000.379999999999|\n",
      "|{2025-06-19 00:55...|Electronics|           5594.3|\n",
      "|{2025-06-19 00:50...|       Toys|          3667.75|\n",
      "+--------------------+-----------+-----------------+\n",
      "\n"
     ]
    },
    {
     "name": "stderr",
     "output_type": "stream",
     "text": [
      "                                                                                \r"
     ]
    },
    {
     "name": "stdout",
     "output_type": "stream",
     "text": [
      "-------------------------------------------\n",
      "Batch: 4\n",
      "-------------------------------------------\n",
      "+--------------------+-----------+-----------------+\n",
      "|              window|   category|          revenue|\n",
      "+--------------------+-----------+-----------------+\n",
      "|{2025-06-19 00:55...|Electronics|           7402.3|\n",
      "|{2025-06-19 00:50...|      Books|6000.379999999999|\n",
      "|{2025-06-19 00:55...|   Clothing|          5155.27|\n",
      "+--------------------+-----------+-----------------+\n",
      "\n"
     ]
    },
    {
     "name": "stderr",
     "output_type": "stream",
     "text": [
      "                                                                                \r"
     ]
    },
    {
     "name": "stdout",
     "output_type": "stream",
     "text": [
      "-------------------------------------------\n",
      "Batch: 5\n",
      "-------------------------------------------\n",
      "+--------------------+-----------+-----------------+\n",
      "|              window|   category|          revenue|\n",
      "+--------------------+-----------+-----------------+\n",
      "|{2025-06-19 00:55...|Electronics|           7402.3|\n",
      "|{2025-06-19 01:00...|       Toys|          6732.62|\n",
      "|{2025-06-19 00:50...|      Books|6000.379999999999|\n",
      "+--------------------+-----------+-----------------+\n",
      "\n"
     ]
    },
    {
     "name": "stderr",
     "output_type": "stream",
     "text": [
      "[Stage 19:===>                                                   (14 + 1) / 200]\r"
     ]
    }
   ],
   "source": [
    "order_win.writeStream.outputMode(\"complete\").format(\"console\").start().awaitTermination()"
   ]
  },
  {
   "cell_type": "markdown",
   "id": "7e2febdc-fa70-4f97-8df6-43eca00733b2",
   "metadata": {},
   "source": [
    "### 3. Average Order Value (AOV) per user in 1-minute tumbling windows."
   ]
  },
  {
   "cell_type": "code",
   "execution_count": 7,
   "id": "8c0c20d9-aa47-4923-a40a-e24fe156ee3d",
   "metadata": {},
   "outputs": [],
   "source": [
    "average = order_data.groupBy(window(\"timestamp\", \"1 minutes\"), col(\"user_id\")) \\\n",
    "    .agg(avg(order_data.price*order_data.quantity)).orderBy('user_id').alias(\"average\")"
   ]
  },
  {
   "cell_type": "code",
   "execution_count": null,
   "id": "e0cf9274-ad58-49ad-bf5c-b7fd01d7df16",
   "metadata": {},
   "outputs": [
    {
     "name": "stderr",
     "output_type": "stream",
     "text": [
      "25/06/20 09:08:18 WARN StreamingQueryManager: Temporary checkpoint location created which is deleted normally when the query didn't fail: /tmp/temporary-b34616b4-3645-4fda-8514-0174d84cfabc. If it's required to delete it under any circumstances, please set spark.sql.streaming.forceDeleteTempCheckpointLocation to true. Important to know deleting temp checkpoint folder is best effort.\n",
      "                                                                                \r"
     ]
    },
    {
     "name": "stdout",
     "output_type": "stream",
     "text": [
      "-------------------------------------------\n",
      "Batch: 0\n",
      "-------------------------------------------\n",
      "+------+-------+-----------------------+\n",
      "|window|user_id|avg((price * quantity))|\n",
      "+------+-------+-----------------------+\n",
      "+------+-------+-----------------------+\n",
      "\n"
     ]
    },
    {
     "name": "stderr",
     "output_type": "stream",
     "text": [
      "                                                                                \r"
     ]
    },
    {
     "name": "stdout",
     "output_type": "stream",
     "text": [
      "-------------------------------------------\n",
      "Batch: 1\n",
      "-------------------------------------------\n",
      "+--------------------+-------+-----------------------+\n",
      "|              window|user_id|avg((price * quantity))|\n",
      "+--------------------+-------+-----------------------+\n",
      "|{2025-06-19 01:24...|  U1001|                 2159.2|\n",
      "|{2025-06-19 01:22...|  U1008|                 990.16|\n",
      "|{2025-06-19 01:19...|  U1015|                1561.85|\n",
      "|{2025-06-19 01:23...|  U1020|                1640.05|\n",
      "|{2025-06-19 01:25...|  U1040|                1982.55|\n",
      "|{2025-06-19 01:21...|  U1043|                 504.36|\n",
      "|{2025-06-19 01:20...|  U1047|                 132.81|\n",
      "|{2025-06-19 01:25...|  U1053|                 121.32|\n",
      "|{2025-06-19 01:22...|  U1061|                  964.1|\n",
      "|{2025-06-19 01:19...|  U1061|                 350.44|\n",
      "|{2025-06-19 01:23...|  U1062|                 1035.8|\n",
      "|{2025-06-19 01:23...|  U1067|                1065.69|\n",
      "|{2025-06-19 01:24...|  U1078|                1083.24|\n",
      "|{2025-06-19 01:19...|  U1079|                 354.06|\n",
      "|{2025-06-19 01:22...|  U1081|                 789.81|\n",
      "|{2025-06-19 01:20...|  U1084|                 466.98|\n",
      "|{2025-06-19 01:20...|  U1090|     1069.8999999999999|\n",
      "|{2025-06-19 01:21...|  U1091|                1224.68|\n",
      "|{2025-06-19 01:21...|  U1095|                1706.16|\n",
      "|{2025-06-19 01:24...|  U1099|                 216.16|\n",
      "+--------------------+-------+-----------------------+\n",
      "\n"
     ]
    },
    {
     "name": "stderr",
     "output_type": "stream",
     "text": [
      "                                                                                \r"
     ]
    },
    {
     "name": "stdout",
     "output_type": "stream",
     "text": [
      "-------------------------------------------\n",
      "Batch: 2\n",
      "-------------------------------------------\n",
      "+--------------------+-------+-----------------------+\n",
      "|              window|user_id|avg((price * quantity))|\n",
      "+--------------------+-------+-----------------------+\n",
      "|{2025-06-19 01:24...|  U1001|                 2159.2|\n",
      "|{2025-06-19 01:28...|  U1005|                 598.04|\n",
      "|{2025-06-19 01:27...|  U1006|     1106.3500000000001|\n",
      "|{2025-06-19 01:31...|  U1007|                  520.2|\n",
      "|{2025-06-19 01:30...|  U1008|                 704.05|\n",
      "|{2025-06-19 01:22...|  U1008|                 990.16|\n",
      "|{2025-06-19 01:30...|  U1012|                 986.68|\n",
      "|{2025-06-19 01:26...|  U1012|     1294.8600000000001|\n",
      "|{2025-06-19 01:19...|  U1015|                1561.85|\n",
      "|{2025-06-19 01:28...|  U1016|                 451.84|\n",
      "|{2025-06-19 01:23...|  U1020|                1640.05|\n",
      "|{2025-06-19 01:25...|  U1023|                 404.69|\n",
      "|{2025-06-19 01:27...|  U1036|                  920.1|\n",
      "|{2025-06-19 01:29...|  U1037|                 819.46|\n",
      "|{2025-06-19 01:25...|  U1040|                1982.55|\n",
      "|{2025-06-19 01:21...|  U1043|                 504.36|\n",
      "|{2025-06-19 01:30...|  U1046|                  286.0|\n",
      "|{2025-06-19 01:20...|  U1047|                 132.81|\n",
      "|{2025-06-19 01:28...|  U1051|                 490.86|\n",
      "|{2025-06-19 01:25...|  U1053|                 121.32|\n",
      "+--------------------+-------+-----------------------+\n",
      "only showing top 20 rows\n",
      "\n"
     ]
    },
    {
     "name": "stderr",
     "output_type": "stream",
     "text": [
      "                                                                                \r"
     ]
    },
    {
     "name": "stdout",
     "output_type": "stream",
     "text": [
      "-------------------------------------------\n",
      "Batch: 3\n",
      "-------------------------------------------\n",
      "+--------------------+-------+-----------------------+\n",
      "|              window|user_id|avg((price * quantity))|\n",
      "+--------------------+-------+-----------------------+\n",
      "|{2025-06-19 01:24...|  U1001|                 2159.2|\n",
      "|{2025-06-19 01:37...|  U1002|                 745.11|\n",
      "|{2025-06-19 01:35...|  U1002|                 1255.5|\n",
      "|{2025-06-19 01:28...|  U1005|                 598.04|\n",
      "|{2025-06-19 01:34...|  U1005|                 112.92|\n",
      "|{2025-06-19 01:27...|  U1006|     1106.3500000000001|\n",
      "|{2025-06-19 01:31...|  U1007|                  520.2|\n",
      "|{2025-06-19 01:30...|  U1008|                 704.05|\n",
      "|{2025-06-19 01:22...|  U1008|                 990.16|\n",
      "|{2025-06-19 01:33...|  U1009|                1881.44|\n",
      "|{2025-06-19 01:30...|  U1012|                 986.68|\n",
      "|{2025-06-19 01:37...|  U1012|                 294.45|\n",
      "|{2025-06-19 01:26...|  U1012|     1294.8600000000001|\n",
      "|{2025-06-19 01:19...|  U1015|                1561.85|\n",
      "|{2025-06-19 01:28...|  U1016|                 451.84|\n",
      "|{2025-06-19 01:23...|  U1020|                1640.05|\n",
      "|{2025-06-19 01:25...|  U1023|                 404.69|\n",
      "|{2025-06-19 01:33...|  U1027|                1858.52|\n",
      "|{2025-06-19 01:32...|  U1032|                  39.74|\n",
      "|{2025-06-19 01:27...|  U1036|                  920.1|\n",
      "+--------------------+-------+-----------------------+\n",
      "only showing top 20 rows\n",
      "\n"
     ]
    },
    {
     "name": "stderr",
     "output_type": "stream",
     "text": [
      "[Stage 21:========>                                              (31 + 1) / 200]\r"
     ]
    }
   ],
   "source": [
    "query = average.writeStream.outputMode(\"complete\").format(\"console\").start()\n",
    "query.awaitTermination()"
   ]
  },
  {
   "cell_type": "markdown",
   "id": "b405011a-d14c-4fd7-9942-c60d2cdbc716",
   "metadata": {},
   "source": [
    "### 4. Cumulative order count per product."
   ]
  },
  {
   "cell_type": "code",
   "execution_count": 7,
   "id": "60a0a19f-98c9-4a1b-8043-73e918832fa9",
   "metadata": {},
   "outputs": [],
   "source": [
    "order_count_pid = order_data.groupBy(order_data.product_id).count()"
   ]
  },
  {
   "cell_type": "code",
   "execution_count": null,
   "id": "66bbde7e-2339-43be-b4c2-00dfa9612d01",
   "metadata": {},
   "outputs": [
    {
     "name": "stderr",
     "output_type": "stream",
     "text": [
      "25/06/20 09:12:57 WARN StreamingQueryManager: Temporary checkpoint location created which is deleted normally when the query didn't fail: /tmp/temporary-dbff9536-317f-4bd3-a8e6-707048cb812d. If it's required to delete it under any circumstances, please set spark.sql.streaming.forceDeleteTempCheckpointLocation to true. Important to know deleting temp checkpoint folder is best effort.\n",
      "                                                                                \r"
     ]
    },
    {
     "name": "stdout",
     "output_type": "stream",
     "text": [
      "-------------------------------------------\n",
      "Batch: 0\n",
      "-------------------------------------------\n",
      "+----------+-----+\n",
      "|product_id|count|\n",
      "+----------+-----+\n",
      "+----------+-----+\n",
      "\n"
     ]
    },
    {
     "name": "stderr",
     "output_type": "stream",
     "text": [
      "                                                                                \r"
     ]
    },
    {
     "name": "stdout",
     "output_type": "stream",
     "text": [
      "-------------------------------------------\n",
      "Batch: 1\n",
      "-------------------------------------------\n",
      "+----------+-----+\n",
      "|product_id|count|\n",
      "+----------+-----+\n",
      "|     P5001|    2|\n",
      "|     P2002|    3|\n",
      "|     P4001|    2|\n",
      "|     P4002|    2|\n",
      "|     P2001|    1|\n",
      "|     P3001|    1|\n",
      "+----------+-----+\n",
      "\n"
     ]
    },
    {
     "name": "stderr",
     "output_type": "stream",
     "text": [
      "                                                                                \r"
     ]
    },
    {
     "name": "stdout",
     "output_type": "stream",
     "text": [
      "-------------------------------------------\n",
      "Batch: 2\n",
      "-------------------------------------------\n",
      "+----------+-----+\n",
      "|product_id|count|\n",
      "+----------+-----+\n",
      "|     P5001|    5|\n",
      "|     P1002|    1|\n",
      "|     P2002|    6|\n",
      "|     P4001|    3|\n",
      "|     P4002|    2|\n",
      "|     P3002|    1|\n",
      "|     P2001|    2|\n",
      "|     P3001|    1|\n",
      "+----------+-----+\n",
      "\n"
     ]
    },
    {
     "name": "stderr",
     "output_type": "stream",
     "text": [
      "                                                                                \r"
     ]
    },
    {
     "name": "stdout",
     "output_type": "stream",
     "text": [
      "-------------------------------------------\n",
      "Batch: 3\n",
      "-------------------------------------------\n",
      "+----------+-----+\n",
      "|product_id|count|\n",
      "+----------+-----+\n",
      "|     P5001|    6|\n",
      "|     P1001|    1|\n",
      "|     P1002|    1|\n",
      "|     P2002|    8|\n",
      "|     P4001|    3|\n",
      "|     P4002|    3|\n",
      "|     P3002|    3|\n",
      "|     P2001|    4|\n",
      "|     P3001|    2|\n",
      "+----------+-----+\n",
      "\n"
     ]
    },
    {
     "name": "stderr",
     "output_type": "stream",
     "text": [
      "                                                                                \r"
     ]
    },
    {
     "name": "stdout",
     "output_type": "stream",
     "text": [
      "-------------------------------------------\n",
      "Batch: 4\n",
      "-------------------------------------------\n",
      "+----------+-----+\n",
      "|product_id|count|\n",
      "+----------+-----+\n",
      "|     P5001|    8|\n",
      "|     P1001|    3|\n",
      "|     P1002|    2|\n",
      "|     P2002|    8|\n",
      "|     P5002|    3|\n",
      "|     P4001|    3|\n",
      "|     P4002|    3|\n",
      "|     P3002|    3|\n",
      "|     P2001|    5|\n",
      "|     P3001|    2|\n",
      "+----------+-----+\n",
      "\n"
     ]
    },
    {
     "name": "stderr",
     "output_type": "stream",
     "text": [
      "[Stage 11:============>                                          (45 + 1) / 200]\r"
     ]
    }
   ],
   "source": [
    "query = order_count_pid.writeStream.outputMode(\"complete\").format(\"console\").start()\n",
    "query.awaitTermination()"
   ]
  },
  {
   "cell_type": "code",
   "execution_count": null,
   "id": "f169b577-6214-417f-9dd3-a652acaa21c9",
   "metadata": {},
   "outputs": [],
   "source": []
  }
 ],
 "metadata": {
  "kernelspec": {
   "display_name": "Python 3 (ipykernel)",
   "language": "python",
   "name": "python3"
  },
  "language_info": {
   "codemirror_mode": {
    "name": "ipython",
    "version": 3
   },
   "file_extension": ".py",
   "mimetype": "text/x-python",
   "name": "python",
   "nbconvert_exporter": "python",
   "pygments_lexer": "ipython3",
   "version": "3.9.13"
  }
 },
 "nbformat": 4,
 "nbformat_minor": 5
}
