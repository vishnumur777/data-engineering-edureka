{
 "cells": [
  {
   "cell_type": "code",
   "execution_count": 1,
   "id": "1bddcaa6-ca2f-43aa-bb18-bbeac7c86f75",
   "metadata": {},
   "outputs": [],
   "source": [
    "from pyspark.sql import SparkSession"
   ]
  },
  {
   "cell_type": "code",
   "execution_count": 2,
   "id": "7723f67d-1fed-479e-9997-124a7e42711d",
   "metadata": {},
   "outputs": [
    {
     "name": "stderr",
     "output_type": "stream",
     "text": [
      "25/06/12 11:52:40 WARN NativeCodeLoader: Unable to load native-hadoop library for your platform... using builtin-java classes where applicable\n",
      "Setting default log level to \"WARN\".\n",
      "To adjust logging level use sc.setLogLevel(newLevel). For SparkR, use setLogLevel(newLevel).\n",
      "25/06/12 11:52:41 WARN Utils: Service 'SparkUI' could not bind on port 4040. Attempting port 4041.\n",
      "25/06/12 11:52:41 WARN Utils: Service 'SparkUI' could not bind on port 4041. Attempting port 4042.\n",
      "25/06/12 11:52:41 WARN Utils: Service 'SparkUI' could not bind on port 4042. Attempting port 4043.\n",
      "25/06/12 11:52:41 WARN Utils: Service 'SparkUI' could not bind on port 4043. Attempting port 4044.\n",
      "25/06/12 11:52:41 WARN Utils: Service 'SparkUI' could not bind on port 4044. Attempting port 4045.\n",
      "25/06/12 11:52:41 WARN Utils: Service 'SparkUI' could not bind on port 4045. Attempting port 4046.\n",
      "25/06/12 11:52:41 WARN Utils: Service 'SparkUI' could not bind on port 4046. Attempting port 4047.\n",
      "25/06/12 11:52:41 WARN Utils: Service 'SparkUI' could not bind on port 4047. Attempting port 4048.\n",
      "25/06/12 11:52:41 WARN Utils: Service 'SparkUI' could not bind on port 4048. Attempting port 4049.\n",
      "25/06/12 11:52:41 WARN Utils: Service 'SparkUI' could not bind on port 4049. Attempting port 4050.\n",
      "25/06/12 11:52:41 WARN Utils: Service 'SparkUI' could not bind on port 4050. Attempting port 4051.\n",
      "25/06/12 11:52:41 WARN Utils: Service 'SparkUI' could not bind on port 4051. Attempting port 4052.\n",
      "25/06/12 11:52:41 WARN Utils: Service 'SparkUI' could not bind on port 4052. Attempting port 4053.\n",
      "25/06/12 11:52:41 WARN Utils: Service 'SparkUI' could not bind on port 4053. Attempting port 4054.\n",
      "25/06/12 11:52:41 WARN Utils: Service 'SparkUI' could not bind on port 4054. Attempting port 4055.\n",
      "25/06/12 11:52:41 WARN Utils: Service 'SparkUI' could not bind on port 4055. Attempting port 4056.\n",
      "25/06/12 11:52:41 WARN Utils: Service 'SparkUI' could not bind on port 4056. Attempting port 4057.\n",
      "25/06/12 11:52:41 WARN Utils: Service 'SparkUI' could not bind on port 4057. Attempting port 4058.\n",
      "25/06/12 11:52:41 WARN Utils: Service 'SparkUI' could not bind on port 4058. Attempting port 4059.\n",
      "25/06/12 11:52:41 WARN Utils: Service 'SparkUI' could not bind on port 4059. Attempting port 4060.\n",
      "25/06/12 11:52:41 WARN Utils: Service 'SparkUI' could not bind on port 4060. Attempting port 4061.\n",
      "25/06/12 11:52:41 WARN Utils: Service 'SparkUI' could not bind on port 4061. Attempting port 4062.\n",
      "25/06/12 11:52:41 WARN Utils: Service 'SparkUI' could not bind on port 4062. Attempting port 4063.\n",
      "25/06/12 11:52:41 WARN Utils: Service 'SparkUI' could not bind on port 4063. Attempting port 4064.\n",
      "25/06/12 11:52:41 WARN Utils: Service 'SparkUI' could not bind on port 4064. Attempting port 4065.\n",
      "25/06/12 11:52:41 WARN Utils: Service 'SparkUI' could not bind on port 4065. Attempting port 4066.\n",
      "25/06/12 11:52:41 WARN Utils: Service 'SparkUI' could not bind on port 4066. Attempting port 4067.\n",
      "25/06/12 11:52:41 WARN Utils: Service 'SparkUI' could not bind on port 4067. Attempting port 4068.\n",
      "25/06/12 11:52:41 WARN Utils: Service 'SparkUI' could not bind on port 4068. Attempting port 4069.\n",
      "25/06/12 11:52:41 WARN Utils: Service 'SparkUI' could not bind on port 4069. Attempting port 4070.\n",
      "25/06/12 11:52:41 WARN Utils: Service 'SparkUI' could not bind on port 4070. Attempting port 4071.\n",
      "25/06/12 11:52:41 WARN Utils: Service 'SparkUI' could not bind on port 4071. Attempting port 4072.\n",
      "25/06/12 11:52:41 WARN Utils: Service 'SparkUI' could not bind on port 4072. Attempting port 4073.\n",
      "25/06/12 11:52:41 WARN Utils: Service 'SparkUI' could not bind on port 4073. Attempting port 4074.\n",
      "25/06/12 11:52:41 WARN Utils: Service 'SparkUI' could not bind on port 4074. Attempting port 4075.\n",
      "25/06/12 11:52:41 WARN Utils: Service 'SparkUI' could not bind on port 4075. Attempting port 4076.\n",
      "25/06/12 11:52:41 WARN Utils: Service 'SparkUI' could not bind on port 4076. Attempting port 4077.\n",
      "25/06/12 11:52:41 WARN Utils: Service 'SparkUI' could not bind on port 4077. Attempting port 4078.\n",
      "25/06/12 11:52:41 WARN Utils: Service 'SparkUI' could not bind on port 4078. Attempting port 4079.\n",
      "25/06/12 11:52:41 WARN Utils: Service 'SparkUI' could not bind on port 4079. Attempting port 4080.\n",
      "25/06/12 11:52:41 WARN Utils: Service 'SparkUI' could not bind on port 4080. Attempting port 4081.\n",
      "25/06/12 11:52:41 WARN Utils: Service 'SparkUI' could not bind on port 4081. Attempting port 4082.\n",
      "25/06/12 11:52:41 WARN Utils: Service 'SparkUI' could not bind on port 4082. Attempting port 4083.\n",
      "25/06/12 11:52:41 WARN Utils: Service 'SparkUI' could not bind on port 4083. Attempting port 4084.\n",
      "25/06/12 11:52:41 WARN Utils: Service 'SparkUI' could not bind on port 4084. Attempting port 4085.\n",
      "25/06/12 11:52:41 WARN Utils: Service 'SparkUI' could not bind on port 4085. Attempting port 4086.\n",
      "25/06/12 11:52:41 WARN Utils: Service 'SparkUI' could not bind on port 4086. Attempting port 4087.\n",
      "25/06/12 11:52:41 WARN Utils: Service 'SparkUI' could not bind on port 4087. Attempting port 4088.\n",
      "25/06/12 11:52:41 WARN Utils: Service 'SparkUI' could not bind on port 4088. Attempting port 4089.\n",
      "25/06/12 11:52:41 WARN Utils: Service 'SparkUI' could not bind on port 4089. Attempting port 4090.\n"
     ]
    }
   ],
   "source": [
    "spark = SparkSession.builder.appName(\"VarunAppData\").master(\"local[4]\").getOrCreate()"
   ]
  },
  {
   "cell_type": "code",
   "execution_count": 3,
   "id": "c92bcbee-8188-4474-a317-1c8f47dafd1d",
   "metadata": {},
   "outputs": [
    {
     "data": {
      "text/html": [
       "\n",
       "            <div>\n",
       "                <p><b>SparkSession - in-memory</b></p>\n",
       "                \n",
       "        <div>\n",
       "            <p><b>SparkContext</b></p>\n",
       "\n",
       "            <p><a href=\"http://ip-172-31-32-182.ap-south-1.compute.internal:4090\">Spark UI</a></p>\n",
       "\n",
       "            <dl>\n",
       "              <dt>Version</dt>\n",
       "                <dd><code>v3.1.2</code></dd>\n",
       "              <dt>Master</dt>\n",
       "                <dd><code>local[4]</code></dd>\n",
       "              <dt>AppName</dt>\n",
       "                <dd><code>VarunAppData</code></dd>\n",
       "            </dl>\n",
       "        </div>\n",
       "        \n",
       "            </div>\n",
       "        "
      ],
      "text/plain": [
       "<pyspark.sql.session.SparkSession at 0x7f1e51752c10>"
      ]
     },
     "execution_count": 3,
     "metadata": {},
     "output_type": "execute_result"
    }
   ],
   "source": [
    "spark"
   ]
  },
  {
   "cell_type": "code",
   "execution_count": 8,
   "id": "f1f9b65a-7038-41e7-a8cb-aa6f4a1cfee6",
   "metadata": {},
   "outputs": [],
   "source": [
    "data = spark.read.csv(\"appdata.csv\", header=True, inferSchema=True, sep=',')"
   ]
  },
  {
   "cell_type": "code",
   "execution_count": 10,
   "id": "57137188-afde-4290-82c5-3208480f9110",
   "metadata": {},
   "outputs": [],
   "source": [
    "data = data.repartition(30)"
   ]
  },
  {
   "cell_type": "code",
   "execution_count": 12,
   "id": "33c55121-cf0a-439e-9b86-5ee148c3963f",
   "metadata": {},
   "outputs": [
    {
     "name": "stderr",
     "output_type": "stream",
     "text": [
      "                                                                                \r"
     ]
    },
    {
     "data": {
      "text/plain": [
       "DataFrame[summary: string, SK_ID_CURR: string, TARGET: string, NAME_CONTRACT_TYPE: string, CODE_GENDER: string, FLAG_OWN_CAR: string, FLAG_OWN_REALTY: string, CNT_CHILDREN: string, AMT_INCOME_TOTAL: string, AMT_CREDIT: string, AMT_ANNUITY: string, AMT_GOODS_PRICE: string, NAME_TYPE_SUITE: string, NAME_INCOME_TYPE: string, NAME_EDUCATION_TYPE: string, NAME_FAMILY_STATUS: string, NAME_HOUSING_TYPE: string, REGION_POPULATION_RELATIVE: string, DAYS_BIRTH: string, DAYS_EMPLOYED: string, DAYS_REGISTRATION: string, DAYS_ID_PUBLISH: string, OWN_CAR_AGE: string, FLAG_MOBIL: string, FLAG_EMP_PHONE: string, FLAG_WORK_PHONE: string, FLAG_CONT_MOBILE: string, FLAG_PHONE: string, FLAG_EMAIL: string, OCCUPATION_TYPE: string, CNT_FAM_MEMBERS: string, REGION_RATING_CLIENT: string, REGION_RATING_CLIENT_W_CITY: string, WEEKDAY_APPR_PROCESS_START: string, HOUR_APPR_PROCESS_START: string, REG_REGION_NOT_LIVE_REGION: string, REG_REGION_NOT_WORK_REGION: string, LIVE_REGION_NOT_WORK_REGION: string, REG_CITY_NOT_LIVE_CITY: string, REG_CITY_NOT_WORK_CITY: string, LIVE_CITY_NOT_WORK_CITY: string, ORGANIZATION_TYPE: string, EXT_SOURCE_1: string, EXT_SOURCE_2: string, EXT_SOURCE_3: string, APARTMENTS_AVG: string, BASEMENTAREA_AVG: string, YEARS_BEGINEXPLUATATION_AVG: string, YEARS_BUILD_AVG: string, COMMONAREA_AVG: string, ELEVATORS_AVG: string, ENTRANCES_AVG: string, FLOORSMAX_AVG: string, FLOORSMIN_AVG: string, LANDAREA_AVG: string, LIVINGAPARTMENTS_AVG: string, LIVINGAREA_AVG: string, NONLIVINGAPARTMENTS_AVG: string, NONLIVINGAREA_AVG: string, APARTMENTS_MODE: string, BASEMENTAREA_MODE: string, YEARS_BEGINEXPLUATATION_MODE: string, YEARS_BUILD_MODE: string, COMMONAREA_MODE: string, ELEVATORS_MODE: string, ENTRANCES_MODE: string, FLOORSMAX_MODE: string, FLOORSMIN_MODE: string, LANDAREA_MODE: string, LIVINGAPARTMENTS_MODE: string, LIVINGAREA_MODE: string, NONLIVINGAPARTMENTS_MODE: string, NONLIVINGAREA_MODE: string, APARTMENTS_MEDI: string, BASEMENTAREA_MEDI: string, YEARS_BEGINEXPLUATATION_MEDI: string, YEARS_BUILD_MEDI: string, COMMONAREA_MEDI: string, ELEVATORS_MEDI: string, ENTRANCES_MEDI: string, FLOORSMAX_MEDI: string, FLOORSMIN_MEDI: string, LANDAREA_MEDI: string, LIVINGAPARTMENTS_MEDI: string, LIVINGAREA_MEDI: string, NONLIVINGAPARTMENTS_MEDI: string, NONLIVINGAREA_MEDI: string, FONDKAPREMONT_MODE: string, HOUSETYPE_MODE: string, TOTALAREA_MODE: string, WALLSMATERIAL_MODE: string, EMERGENCYSTATE_MODE: string, OBS_30_CNT_SOCIAL_CIRCLE: string, DEF_30_CNT_SOCIAL_CIRCLE: string, OBS_60_CNT_SOCIAL_CIRCLE: string, DEF_60_CNT_SOCIAL_CIRCLE: string, DAYS_LAST_PHONE_CHANGE: string, FLAG_DOCUMENT_2: string, FLAG_DOCUMENT_3: string, FLAG_DOCUMENT_4: string, FLAG_DOCUMENT_5: string, FLAG_DOCUMENT_6: string, FLAG_DOCUMENT_7: string, FLAG_DOCUMENT_8: string, FLAG_DOCUMENT_9: string, FLAG_DOCUMENT_10: string, FLAG_DOCUMENT_11: string, FLAG_DOCUMENT_12: string, FLAG_DOCUMENT_13: string, FLAG_DOCUMENT_14: string, FLAG_DOCUMENT_15: string, FLAG_DOCUMENT_16: string, FLAG_DOCUMENT_17: string, FLAG_DOCUMENT_18: string, FLAG_DOCUMENT_19: string, FLAG_DOCUMENT_20: string, FLAG_DOCUMENT_21: string, AMT_REQ_CREDIT_BUREAU_HOUR: string, AMT_REQ_CREDIT_BUREAU_DAY: string, AMT_REQ_CREDIT_BUREAU_WEEK: string, AMT_REQ_CREDIT_BUREAU_MON: string, AMT_REQ_CREDIT_BUREAU_QRT: string, AMT_REQ_CREDIT_BUREAU_YEAR: string]"
      ]
     },
     "execution_count": 12,
     "metadata": {},
     "output_type": "execute_result"
    }
   ],
   "source": [
    "data.describe()"
   ]
  },
  {
   "cell_type": "code",
   "execution_count": 13,
   "id": "71b8b4b5-b42e-48d2-af93-e403fafe9b3a",
   "metadata": {},
   "outputs": [
    {
     "name": "stderr",
     "output_type": "stream",
     "text": [
      "                                                                                \r"
     ]
    },
    {
     "name": "stdout",
     "output_type": "stream",
     "text": [
      "+--------------------+-----+\n",
      "|     OCCUPATION_TYPE|count|\n",
      "+--------------------+-----+\n",
      "|                null|  137|\n",
      "|            Managers|   30|\n",
      "|      Medicine staff|   13|\n",
      "|         Accountants|    9|\n",
      "|            Laborers|  101|\n",
      "|      Cleaning staff|    6|\n",
      "|Private service s...|    5|\n",
      "|             Drivers|   39|\n",
      "|         Sales staff|   59|\n",
      "|       Realty agents|    2|\n",
      "|            IT staff|    1|\n",
      "|      Security staff|    8|\n",
      "|         Secretaries|    4|\n",
      "|  Low-skill Laborers|    5|\n",
      "|          Core staff|   56|\n",
      "|       Cooking staff|    8|\n",
      "|High skill tech s...|   14|\n",
      "|Waiters/barmen staff|    2|\n",
      "+--------------------+-----+\n",
      "\n"
     ]
    }
   ],
   "source": [
    "data.groupBy(\"OCCUPATION_TYPE\").count().show()"
   ]
  },
  {
   "cell_type": "code",
   "execution_count": 14,
   "id": "d79e2b1c-a635-415d-8e0a-4965f74cb624",
   "metadata": {},
   "outputs": [
    {
     "name": "stdout",
     "output_type": "stream",
     "text": [
      "+--------------------+-----+\n",
      "|  NAME_FAMILY_STATUS|count|\n",
      "+--------------------+-----+\n",
      "|           Separated|   32|\n",
      "|             Married|  303|\n",
      "|Single / not married|   78|\n",
      "|               Widow|   32|\n",
      "|      Civil marriage|   54|\n",
      "+--------------------+-----+\n",
      "\n"
     ]
    }
   ],
   "source": [
    "data.groupBy(\"NAME_FAMILY_STATUS\").count().show()"
   ]
  },
  {
   "cell_type": "code",
   "execution_count": 26,
   "id": "e1dffb55-2f24-4676-84d4-318c6c50bd81",
   "metadata": {},
   "outputs": [
    {
     "name": "stdout",
     "output_type": "stream",
     "text": [
      "+-----------+-----+\n",
      "|CODE_GENDER|count|\n",
      "+-----------+-----+\n",
      "|          F|  221|\n",
      "|          M|  129|\n",
      "+-----------+-----+\n",
      "\n"
     ]
    }
   ],
   "source": [
    "data.where(data.FLAG_OWN_REALTY==\"Y\").groupBy('CODE_GENDER').count().show()"
   ]
  },
  {
   "cell_type": "code",
   "execution_count": 32,
   "id": "426fc4a7-5c5e-42dc-9028-37e826e987cb",
   "metadata": {},
   "outputs": [],
   "source": [
    "data.OWN_CAR_AGE = data.OWN_CAR_AGE.cast(\"int\")"
   ]
  },
  {
   "cell_type": "code",
   "execution_count": 33,
   "id": "24cb87e5-9e6e-442d-9928-7f15eef04e6d",
   "metadata": {},
   "outputs": [
    {
     "ename": "ValueError",
     "evalue": "value should be a float, int, string, bool or dict",
     "output_type": "error",
     "traceback": [
      "\u001b[0;31m---------------------------------------------------------------------------\u001b[0m",
      "\u001b[0;31mValueError\u001b[0m                                Traceback (most recent call last)",
      "\u001b[0;32m/tmp/ipykernel_1282080/420142983.py\u001b[0m in \u001b[0;36m<module>\u001b[0;34m\u001b[0m\n\u001b[0;32m----> 1\u001b[0;31m \u001b[0mdata\u001b[0m\u001b[0;34m.\u001b[0m\u001b[0mna\u001b[0m\u001b[0;34m.\u001b[0m\u001b[0mfill\u001b[0m\u001b[0;34m(\u001b[0m\u001b[0mdata\u001b[0m\u001b[0;34m.\u001b[0m\u001b[0magg\u001b[0m\u001b[0;34m(\u001b[0m\u001b[0;34m{\u001b[0m\u001b[0;34m'OWN_CAR_AGE'\u001b[0m\u001b[0;34m:\u001b[0m\u001b[0;34m'avg'\u001b[0m\u001b[0;34m}\u001b[0m\u001b[0;34m)\u001b[0m\u001b[0;34m,\u001b[0m\u001b[0msubset\u001b[0m\u001b[0;34m=\u001b[0m\u001b[0;34m\"OWN_CAR_AGE\"\u001b[0m\u001b[0;34m)\u001b[0m\u001b[0;34m.\u001b[0m\u001b[0mshow\u001b[0m\u001b[0;34m(\u001b[0m\u001b[0;34m)\u001b[0m\u001b[0;34m\u001b[0m\u001b[0;34m\u001b[0m\u001b[0m\n\u001b[0m",
      "\u001b[0;32m/opt/anaconda3/lib/python3.9/site-packages/pyspark/sql/dataframe.py\u001b[0m in \u001b[0;36mfill\u001b[0;34m(self, value, subset)\u001b[0m\n\u001b[1;32m   2701\u001b[0m \u001b[0;34m\u001b[0m\u001b[0m\n\u001b[1;32m   2702\u001b[0m     \u001b[0;32mdef\u001b[0m \u001b[0mfill\u001b[0m\u001b[0;34m(\u001b[0m\u001b[0mself\u001b[0m\u001b[0;34m,\u001b[0m \u001b[0mvalue\u001b[0m\u001b[0;34m,\u001b[0m \u001b[0msubset\u001b[0m\u001b[0;34m=\u001b[0m\u001b[0;32mNone\u001b[0m\u001b[0;34m)\u001b[0m\u001b[0;34m:\u001b[0m\u001b[0;34m\u001b[0m\u001b[0;34m\u001b[0m\u001b[0m\n\u001b[0;32m-> 2703\u001b[0;31m         \u001b[0;32mreturn\u001b[0m \u001b[0mself\u001b[0m\u001b[0;34m.\u001b[0m\u001b[0mdf\u001b[0m\u001b[0;34m.\u001b[0m\u001b[0mfillna\u001b[0m\u001b[0;34m(\u001b[0m\u001b[0mvalue\u001b[0m\u001b[0;34m=\u001b[0m\u001b[0mvalue\u001b[0m\u001b[0;34m,\u001b[0m \u001b[0msubset\u001b[0m\u001b[0;34m=\u001b[0m\u001b[0msubset\u001b[0m\u001b[0;34m)\u001b[0m\u001b[0;34m\u001b[0m\u001b[0;34m\u001b[0m\u001b[0m\n\u001b[0m\u001b[1;32m   2704\u001b[0m \u001b[0;34m\u001b[0m\u001b[0m\n\u001b[1;32m   2705\u001b[0m     \u001b[0mfill\u001b[0m\u001b[0;34m.\u001b[0m\u001b[0m__doc__\u001b[0m \u001b[0;34m=\u001b[0m \u001b[0mDataFrame\u001b[0m\u001b[0;34m.\u001b[0m\u001b[0mfillna\u001b[0m\u001b[0;34m.\u001b[0m\u001b[0m__doc__\u001b[0m\u001b[0;34m\u001b[0m\u001b[0;34m\u001b[0m\u001b[0m\n",
      "\u001b[0;32m/opt/anaconda3/lib/python3.9/site-packages/pyspark/sql/dataframe.py\u001b[0m in \u001b[0;36mfillna\u001b[0;34m(self, value, subset)\u001b[0m\n\u001b[1;32m   2066\u001b[0m         \"\"\"\n\u001b[1;32m   2067\u001b[0m         \u001b[0;32mif\u001b[0m \u001b[0;32mnot\u001b[0m \u001b[0misinstance\u001b[0m\u001b[0;34m(\u001b[0m\u001b[0mvalue\u001b[0m\u001b[0;34m,\u001b[0m \u001b[0;34m(\u001b[0m\u001b[0mfloat\u001b[0m\u001b[0;34m,\u001b[0m \u001b[0mint\u001b[0m\u001b[0;34m,\u001b[0m \u001b[0mstr\u001b[0m\u001b[0;34m,\u001b[0m \u001b[0mbool\u001b[0m\u001b[0;34m,\u001b[0m \u001b[0mdict\u001b[0m\u001b[0;34m)\u001b[0m\u001b[0;34m)\u001b[0m\u001b[0;34m:\u001b[0m\u001b[0;34m\u001b[0m\u001b[0;34m\u001b[0m\u001b[0m\n\u001b[0;32m-> 2068\u001b[0;31m             \u001b[0;32mraise\u001b[0m \u001b[0mValueError\u001b[0m\u001b[0;34m(\u001b[0m\u001b[0;34m\"value should be a float, int, string, bool or dict\"\u001b[0m\u001b[0;34m)\u001b[0m\u001b[0;34m\u001b[0m\u001b[0;34m\u001b[0m\u001b[0m\n\u001b[0m\u001b[1;32m   2069\u001b[0m \u001b[0;34m\u001b[0m\u001b[0m\n\u001b[1;32m   2070\u001b[0m         \u001b[0;31m# Note that bool validates isinstance(int), but we don't want to\u001b[0m\u001b[0;34m\u001b[0m\u001b[0;34m\u001b[0m\u001b[0m\n",
      "\u001b[0;31mValueError\u001b[0m: value should be a float, int, string, bool or dict"
     ]
    }
   ],
   "source": [
    "data.na.fill(data.agg({'OWN_CAR_AGE':'avg'}),subset=\"OWN_CAR_AGE\").show()"
   ]
  },
  {
   "cell_type": "code",
   "execution_count": null,
   "id": "e625b566-eaab-4536-8eaa-9889cf26d797",
   "metadata": {},
   "outputs": [],
   "source": []
  }
 ],
 "metadata": {
  "kernelspec": {
   "display_name": "PySpark 3",
   "language": "python",
   "name": "pyspark3_env"
  },
  "language_info": {
   "codemirror_mode": {
    "name": "ipython",
    "version": 3
   },
   "file_extension": ".py",
   "mimetype": "text/x-python",
   "name": "python",
   "nbconvert_exporter": "python",
   "pygments_lexer": "ipython3",
   "version": "3.9.13"
  }
 },
 "nbformat": 4,
 "nbformat_minor": 5
}
