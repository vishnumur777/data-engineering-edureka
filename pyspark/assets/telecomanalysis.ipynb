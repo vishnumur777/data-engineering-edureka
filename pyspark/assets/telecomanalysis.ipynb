{
 "cells": [
  {
   "cell_type": "code",
   "execution_count": 1,
   "id": "38fa948e-6dad-48ae-aa65-75d94864c00b",
   "metadata": {},
   "outputs": [],
   "source": [
    "from pyspark.sql import SparkSession"
   ]
  },
  {
   "cell_type": "code",
   "execution_count": 2,
   "id": "fd29c0dd-01e3-4564-8a25-291fcd24a949",
   "metadata": {},
   "outputs": [
    {
     "name": "stderr",
     "output_type": "stream",
     "text": [
      "25/06/12 09:47:18 WARN NativeCodeLoader: Unable to load native-hadoop library for your platform... using builtin-java classes where applicable\n",
      "Setting default log level to \"WARN\".\n",
      "To adjust logging level use sc.setLogLevel(newLevel). For SparkR, use setLogLevel(newLevel).\n",
      "25/06/12 09:47:19 WARN Utils: Service 'SparkUI' could not bind on port 4040. Attempting port 4041.\n",
      "25/06/12 09:47:19 WARN Utils: Service 'SparkUI' could not bind on port 4041. Attempting port 4042.\n",
      "25/06/12 09:47:19 WARN Utils: Service 'SparkUI' could not bind on port 4042. Attempting port 4043.\n",
      "25/06/12 09:47:19 WARN Utils: Service 'SparkUI' could not bind on port 4043. Attempting port 4044.\n",
      "25/06/12 09:47:19 WARN Utils: Service 'SparkUI' could not bind on port 4044. Attempting port 4045.\n",
      "25/06/12 09:47:19 WARN Utils: Service 'SparkUI' could not bind on port 4045. Attempting port 4046.\n",
      "25/06/12 09:47:19 WARN Utils: Service 'SparkUI' could not bind on port 4046. Attempting port 4047.\n",
      "25/06/12 09:47:19 WARN Utils: Service 'SparkUI' could not bind on port 4047. Attempting port 4048.\n",
      "25/06/12 09:47:19 WARN Utils: Service 'SparkUI' could not bind on port 4048. Attempting port 4049.\n",
      "25/06/12 09:47:19 WARN Utils: Service 'SparkUI' could not bind on port 4049. Attempting port 4050.\n",
      "25/06/12 09:47:19 WARN Utils: Service 'SparkUI' could not bind on port 4050. Attempting port 4051.\n",
      "25/06/12 09:47:19 WARN Utils: Service 'SparkUI' could not bind on port 4051. Attempting port 4052.\n",
      "25/06/12 09:47:19 WARN Utils: Service 'SparkUI' could not bind on port 4052. Attempting port 4053.\n",
      "25/06/12 09:47:19 WARN Utils: Service 'SparkUI' could not bind on port 4053. Attempting port 4054.\n",
      "25/06/12 09:47:19 WARN Utils: Service 'SparkUI' could not bind on port 4054. Attempting port 4055.\n",
      "25/06/12 09:47:19 WARN Utils: Service 'SparkUI' could not bind on port 4055. Attempting port 4056.\n",
      "25/06/12 09:47:19 WARN Utils: Service 'SparkUI' could not bind on port 4056. Attempting port 4057.\n",
      "25/06/12 09:47:19 WARN Utils: Service 'SparkUI' could not bind on port 4057. Attempting port 4058.\n",
      "25/06/12 09:47:19 WARN Utils: Service 'SparkUI' could not bind on port 4058. Attempting port 4059.\n",
      "25/06/12 09:47:19 WARN Utils: Service 'SparkUI' could not bind on port 4059. Attempting port 4060.\n",
      "25/06/12 09:47:19 WARN Utils: Service 'SparkUI' could not bind on port 4060. Attempting port 4061.\n",
      "25/06/12 09:47:19 WARN Utils: Service 'SparkUI' could not bind on port 4061. Attempting port 4062.\n",
      "25/06/12 09:47:19 WARN Utils: Service 'SparkUI' could not bind on port 4062. Attempting port 4063.\n",
      "25/06/12 09:47:19 WARN Utils: Service 'SparkUI' could not bind on port 4063. Attempting port 4064.\n",
      "25/06/12 09:47:19 WARN Utils: Service 'SparkUI' could not bind on port 4064. Attempting port 4065.\n",
      "25/06/12 09:47:19 WARN Utils: Service 'SparkUI' could not bind on port 4065. Attempting port 4066.\n",
      "25/06/12 09:47:19 WARN Utils: Service 'SparkUI' could not bind on port 4066. Attempting port 4067.\n",
      "25/06/12 09:47:19 WARN Utils: Service 'SparkUI' could not bind on port 4067. Attempting port 4068.\n",
      "25/06/12 09:47:19 WARN Utils: Service 'SparkUI' could not bind on port 4068. Attempting port 4069.\n",
      "25/06/12 09:47:19 WARN Utils: Service 'SparkUI' could not bind on port 4069. Attempting port 4070.\n",
      "25/06/12 09:47:19 WARN Utils: Service 'SparkUI' could not bind on port 4070. Attempting port 4071.\n",
      "25/06/12 09:47:19 WARN Utils: Service 'SparkUI' could not bind on port 4071. Attempting port 4072.\n",
      "25/06/12 09:47:19 WARN Utils: Service 'SparkUI' could not bind on port 4072. Attempting port 4073.\n",
      "25/06/12 09:47:19 WARN Utils: Service 'SparkUI' could not bind on port 4073. Attempting port 4074.\n",
      "25/06/12 09:47:19 WARN Utils: Service 'SparkUI' could not bind on port 4074. Attempting port 4075.\n",
      "25/06/12 09:47:19 WARN Utils: Service 'SparkUI' could not bind on port 4075. Attempting port 4076.\n",
      "25/06/12 09:47:19 WARN Utils: Service 'SparkUI' could not bind on port 4076. Attempting port 4077.\n",
      "25/06/12 09:47:19 WARN Utils: Service 'SparkUI' could not bind on port 4077. Attempting port 4078.\n",
      "25/06/12 09:47:19 WARN Utils: Service 'SparkUI' could not bind on port 4078. Attempting port 4079.\n",
      "25/06/12 09:47:19 WARN Utils: Service 'SparkUI' could not bind on port 4079. Attempting port 4080.\n",
      "25/06/12 09:47:19 WARN Utils: Service 'SparkUI' could not bind on port 4080. Attempting port 4081.\n",
      "25/06/12 09:47:19 WARN Utils: Service 'SparkUI' could not bind on port 4081. Attempting port 4082.\n",
      "25/06/12 09:47:19 WARN Utils: Service 'SparkUI' could not bind on port 4082. Attempting port 4083.\n",
      "25/06/12 09:47:19 WARN Utils: Service 'SparkUI' could not bind on port 4083. Attempting port 4084.\n",
      "25/06/12 09:47:19 WARN Utils: Service 'SparkUI' could not bind on port 4084. Attempting port 4085.\n",
      "25/06/12 09:47:19 WARN Utils: Service 'SparkUI' could not bind on port 4085. Attempting port 4086.\n"
     ]
    }
   ],
   "source": [
    "spark = SparkSession.builder.appName(\"VarunTelecomAnalysis\").master(\"local[5]\").getOrCreate()"
   ]
  },
  {
   "cell_type": "code",
   "execution_count": 5,
   "id": "bd5c38fc-d550-4f4f-8b27-c1331610c22e",
   "metadata": {},
   "outputs": [
    {
     "name": "stderr",
     "output_type": "stream",
     "text": [
      "                                                                                \r"
     ]
    }
   ],
   "source": [
    "call = spark.read.csv('call_records_synthetic.csv',sep=',', header=True, inferSchema=True)"
   ]
  },
  {
   "cell_type": "code",
   "execution_count": 8,
   "id": "fade4782-f43e-4262-94e4-33c422bc826d",
   "metadata": {},
   "outputs": [],
   "source": [
    "cust = spark.read.csv('customers_synthetic.csv',sep=',', header=True, inferSchema=True)"
   ]
  },
  {
   "cell_type": "code",
   "execution_count": 9,
   "id": "d665cb16-2c90-4805-b044-b65d32b66329",
   "metadata": {},
   "outputs": [
    {
     "name": "stdout",
     "output_type": "stream",
     "text": [
      "+---------+---------+-------------------+--------+---------+\n",
      "|caller_id|callee_id|     call_timestamp|duration|call_type|\n",
      "+---------+---------+-------------------+--------+---------+\n",
      "|CUST01250|EXT490702|2024-04-11 04:37:30|     193| domestic|\n",
      "|CUST01624|CUST04473|2024-06-13 01:11:37|     105| domestic|\n",
      "|CUST04407|CUST04407|2024-07-10 08:47:57|     398| domestic|\n",
      "|CUST02639|CUST01618|2024-05-17 10:55:51|     447| domestic|\n",
      "+---------+---------+-------------------+--------+---------+\n",
      "only showing top 4 rows\n",
      "\n"
     ]
    }
   ],
   "source": [
    "call.show(4)"
   ]
  },
  {
   "cell_type": "code",
   "execution_count": 13,
   "id": "efcd9ee2-eb68-40f9-a26f-5cf3da53556c",
   "metadata": {},
   "outputs": [
    {
     "name": "stdout",
     "output_type": "stream",
     "text": [
      "+----------+------+-------------+-------+----------+------+------------+-------------+---------------+--------------+------------+-----+\n",
      "|customerID|gender|SeniorCitizen|Partner|Dependents|tenure|PhoneService|MultipleLines|InternetService|MonthlyCharges|TotalCharges|Churn|\n",
      "+----------+------+-------------+-------+----------+------+------------+-------------+---------------+--------------+------------+-----+\n",
      "| CUST00001|  Male|            0|     No|        No|    16|         Yes|           No|            DSL|        108.22|     1724.13|   No|\n",
      "| CUST00002|Female|            0|     No|       Yes|    57|          No|           No|            DSL|         73.26|     4169.46|  Yes|\n",
      "| CUST00003|  Male|            0|    Yes|       Yes|    57|          No|           No|    Fiber optic|         79.43|     4536.19|   No|\n",
      "| CUST00004|  Male|            1|    Yes|        No|    56|         Yes|           No|    Fiber optic|        119.01|     6657.85|  Yes|\n",
      "| CUST00005|  Male|            0|     No|        No|     6|         Yes|           No|            DSL|         118.5|      715.47|   No|\n",
      "+----------+------+-------------+-------+----------+------+------------+-------------+---------------+--------------+------------+-----+\n",
      "only showing top 5 rows\n",
      "\n"
     ]
    }
   ],
   "source": [
    "cust.show(5)"
   ]
  },
  {
   "cell_type": "code",
   "execution_count": 10,
   "id": "f69201dd-dfb4-45f2-98fc-f5fa9a69ce8c",
   "metadata": {},
   "outputs": [
    {
     "name": "stdout",
     "output_type": "stream",
     "text": [
      "root\n",
      " |-- caller_id: string (nullable = true)\n",
      " |-- callee_id: string (nullable = true)\n",
      " |-- call_timestamp: string (nullable = true)\n",
      " |-- duration: integer (nullable = true)\n",
      " |-- call_type: string (nullable = true)\n",
      "\n"
     ]
    }
   ],
   "source": [
    "call.printSchema()"
   ]
  },
  {
   "cell_type": "code",
   "execution_count": 12,
   "id": "e5f37b5d-81d1-4e20-a1a2-5acf2603f26c",
   "metadata": {},
   "outputs": [
    {
     "name": "stdout",
     "output_type": "stream",
     "text": [
      "root\n",
      " |-- customerID: string (nullable = true)\n",
      " |-- gender: string (nullable = true)\n",
      " |-- SeniorCitizen: integer (nullable = true)\n",
      " |-- Partner: string (nullable = true)\n",
      " |-- Dependents: string (nullable = true)\n",
      " |-- tenure: integer (nullable = true)\n",
      " |-- PhoneService: string (nullable = true)\n",
      " |-- MultipleLines: string (nullable = true)\n",
      " |-- InternetService: string (nullable = true)\n",
      " |-- MonthlyCharges: double (nullable = true)\n",
      " |-- TotalCharges: double (nullable = true)\n",
      " |-- Churn: string (nullable = true)\n",
      "\n"
     ]
    }
   ],
   "source": [
    "cust.printSchema()"
   ]
  },
  {
   "cell_type": "code",
   "execution_count": 23,
   "id": "8b480d7c-10c9-423a-adab-9a263734f60c",
   "metadata": {},
   "outputs": [
    {
     "name": "stderr",
     "output_type": "stream",
     "text": [
      "[Stage 15:=============================>                            (1 + 1) / 2]\r"
     ]
    },
    {
     "name": "stdout",
     "output_type": "stream",
     "text": [
      "+-------+---------+---------+-------------------+------------------+-------------+\n",
      "|summary|caller_id|callee_id|     call_timestamp|          duration|    call_type|\n",
      "+-------+---------+---------+-------------------+------------------+-------------+\n",
      "|  count|   100000|   100000|             100000|            100000|       100000|\n",
      "|   mean|     null|     null|               null|         299.75911|         null|\n",
      "| stddev|     null|     null|               null|299.73074064429466|         null|\n",
      "|    min|CUST00001|CUST00001|2024-01-01 00:01:18|                 0|     domestic|\n",
      "|    max|CUST05000|EXT999969|2024-12-31 23:57:36|              3657|international|\n",
      "+-------+---------+---------+-------------------+------------------+-------------+\n",
      "\n"
     ]
    },
    {
     "name": "stderr",
     "output_type": "stream",
     "text": [
      "                                                                                \r"
     ]
    }
   ],
   "source": [
    "call.describe().show()"
   ]
  },
  {
   "cell_type": "code",
   "execution_count": 24,
   "id": "300516b4-da6c-4bee-9f20-0071b83c4507",
   "metadata": {},
   "outputs": [],
   "source": [
    "from pyspark.sql.functions import *"
   ]
  },
  {
   "cell_type": "code",
   "execution_count": 22,
   "id": "fa30dd60-031c-430b-b9e2-7692c5157fdf",
   "metadata": {},
   "outputs": [
    {
     "name": "stderr",
     "output_type": "stream",
     "text": [
      "[Stage 13:>                                                         (0 + 2) / 2]\r"
     ]
    },
    {
     "name": "stdout",
     "output_type": "stream",
     "text": [
      "+---------+-------------+\n",
      "|caller_id|sum(duration)|\n",
      "+---------+-------------+\n",
      "|CUST03236|         6399|\n",
      "|CUST02025|         7941|\n",
      "|CUST04677|         8076|\n",
      "|CUST00050|         5109|\n",
      "|CUST02589|         3345|\n",
      "|CUST00865|         5659|\n",
      "|CUST02801|         5679|\n",
      "|CUST03281|         8184|\n",
      "|CUST04132|         3065|\n",
      "|CUST01974|         5545|\n",
      "|CUST00437|         3666|\n",
      "|CUST02893|         5793|\n",
      "|CUST00166|         5061|\n",
      "|CUST00917|         6657|\n",
      "|CUST03976|         5712|\n",
      "|CUST02357|         5170|\n",
      "|CUST03693|         6126|\n",
      "|CUST02234|         6320|\n",
      "|CUST03971|         3731|\n",
      "|CUST03301|         3817|\n",
      "+---------+-------------+\n",
      "only showing top 20 rows\n",
      "\n"
     ]
    },
    {
     "name": "stderr",
     "output_type": "stream",
     "text": [
      "                                                                                \r"
     ]
    }
   ],
   "source": [
    "call.groupBy(call.caller_id).sum().show()"
   ]
  },
  {
   "cell_type": "code",
   "execution_count": 47,
   "id": "798c102f-ca80-44c1-a951-2969dcf0b090",
   "metadata": {},
   "outputs": [],
   "source": [
    "ctype = call.groupBy(call.call_type).sum(\"duration\")"
   ]
  },
  {
   "cell_type": "code",
   "execution_count": 54,
   "id": "c582b8fe-52c2-45e6-8c58-69adeca2fda1",
   "metadata": {},
   "outputs": [
    {
     "name": "stdout",
     "output_type": "stream",
     "text": [
      "+-------------+-------------+--------+\n",
      "|    call_type|sum(duration)|count(1)|\n",
      "+-------------+-------------+--------+\n",
      "|     domestic|     26961698|   89921|\n",
      "|international|      3014213|   10079|\n",
      "+-------------+-------------+--------+\n",
      "\n"
     ]
    }
   ],
   "source": [
    "call.groupBy(call.call_type).agg({'*': 'count', 'duration': 'sum'}).show()"
   ]
  },
  {
   "cell_type": "code",
   "execution_count": 58,
   "id": "119c28b5-9055-4ccb-9eaf-a756fedb8709",
   "metadata": {},
   "outputs": [
    {
     "name": "stdout",
     "output_type": "stream",
     "text": [
      "root\n",
      " |-- caller_id: string (nullable = true)\n",
      " |-- callee_id: string (nullable = true)\n",
      " |-- call_timestamp: timestamp (nullable = true)\n",
      " |-- duration: integer (nullable = true)\n",
      " |-- call_type: string (nullable = true)\n",
      "\n"
     ]
    }
   ],
   "source": [
    "call.printSchema()"
   ]
  },
  {
   "cell_type": "code",
   "execution_count": 59,
   "id": "d1d52967-de7d-408c-94ed-9f449a1432a9",
   "metadata": {},
   "outputs": [],
   "source": [
    "call = call.select(call.caller_id, call.callee_id, call.call_timestamp.cast('date'),call.duration,call.call_type)"
   ]
  },
  {
   "cell_type": "code",
   "execution_count": 85,
   "id": "4609ea2a-ecc2-44c4-82d7-569965335ae4",
   "metadata": {},
   "outputs": [],
   "source": [
    "month_duration = call.groupBy(month(call.call_timestamp)).sum(\"duration\")"
   ]
  },
  {
   "cell_type": "code",
   "execution_count": 86,
   "id": "8cecfe6c-69f7-4eaa-b44f-551d03ac725a",
   "metadata": {},
   "outputs": [
    {
     "name": "stdout",
     "output_type": "stream",
     "text": [
      "+---------------------+-------------+\n",
      "|month(call_timestamp)|sum(duration)|\n",
      "+---------------------+-------------+\n",
      "|                   12|      2561212|\n",
      "|                    1|      2534368|\n",
      "|                    6|      2498837|\n",
      "|                    3|      2558459|\n",
      "|                    5|      2497744|\n",
      "|                    9|      2462890|\n",
      "|                    4|      2426105|\n",
      "|                    8|      2521196|\n",
      "|                    7|      2570048|\n",
      "|                   10|      2511335|\n",
      "|                   11|      2470201|\n",
      "|                    2|      2363516|\n",
      "+---------------------+-------------+\n",
      "\n"
     ]
    }
   ],
   "source": [
    "month_duration.show()"
   ]
  },
  {
   "cell_type": "code",
   "execution_count": 65,
   "id": "b6168286-718c-437b-bbab-7d09c785d3a9",
   "metadata": {},
   "outputs": [],
   "source": [
    "from pyspark.sql.functions import *\n",
    "from pyspark.sql.window import *"
   ]
  },
  {
   "cell_type": "code",
   "execution_count": 77,
   "id": "4c694dc8-e17d-4e5a-b82b-34c1681e52dc",
   "metadata": {},
   "outputs": [],
   "source": [
    "win_dif = Window.orderBy(col('month(call_timestamp)').asc())"
   ]
  },
  {
   "cell_type": "code",
   "execution_count": 80,
   "id": "73379acb-9e7d-40ad-a36f-d3a7993611f2",
   "metadata": {},
   "outputs": [
    {
     "name": "stderr",
     "output_type": "stream",
     "text": [
      "25/06/12 11:23:30 WARN WindowExec: No Partition Defined for Window operation! Moving all data to a single partition, this can cause serious performance degradation.\n",
      "[Stage 141:=================================>                   (126 + 5) / 200]\r"
     ]
    },
    {
     "name": "stdout",
     "output_type": "stream",
     "text": [
      "+---------------------+-------------+----------+\n",
      "|month(call_timestamp)|sum(duration)|difference|\n",
      "+---------------------+-------------+----------+\n",
      "|                    1|      2534368|    170852|\n",
      "|                    2|      2363516|   -194943|\n",
      "|                    3|      2558459|    132354|\n",
      "|                    4|      2426105|    -71639|\n",
      "|                    5|      2497744|     -1093|\n",
      "|                    6|      2498837|    -71211|\n",
      "|                    7|      2570048|     48852|\n",
      "|                    8|      2521196|     58306|\n",
      "|                    9|      2462890|    -48445|\n",
      "|                   10|      2511335|     41134|\n",
      "|                   11|      2470201|    -91011|\n",
      "|                   12|      2561212|      null|\n",
      "+---------------------+-------------+----------+\n",
      "\n"
     ]
    },
    {
     "name": "stderr",
     "output_type": "stream",
     "text": [
      "                                                                                \r"
     ]
    }
   ],
   "source": [
    "month_duration.withColumn('difference',  col('sum(duration)') - lead(col('sum(duration)')).over(win_dif)).show()"
   ]
  },
  {
   "cell_type": "code",
   "execution_count": 88,
   "id": "d0572b54-f1b4-466c-8ea9-9e5583ce5fe0",
   "metadata": {},
   "outputs": [],
   "source": [
    "call = call.withColumn('months', month('call_timestamp'))"
   ]
  },
  {
   "cell_type": "code",
   "execution_count": 89,
   "id": "a48d9376-bea8-4120-aa47-126a38a3f14d",
   "metadata": {},
   "outputs": [
    {
     "name": "stdout",
     "output_type": "stream",
     "text": [
      "+---------+---------+--------------+--------+---------+------+\n",
      "|caller_id|callee_id|call_timestamp|duration|call_type|months|\n",
      "+---------+---------+--------------+--------+---------+------+\n",
      "|CUST01250|EXT490702|    2024-04-11|     193| domestic|     4|\n",
      "|CUST01624|CUST04473|    2024-06-13|     105| domestic|     6|\n",
      "|CUST04407|CUST04407|    2024-07-10|     398| domestic|     7|\n",
      "|CUST02639|CUST01618|    2024-05-17|     447| domestic|     5|\n",
      "+---------+---------+--------------+--------+---------+------+\n",
      "only showing top 4 rows\n",
      "\n"
     ]
    }
   ],
   "source": [
    "call.show(4)"
   ]
  },
  {
   "cell_type": "code",
   "execution_count": 90,
   "id": "189b12b0-ec66-4ddb-89f0-7939e6cba818",
   "metadata": {},
   "outputs": [
    {
     "name": "stderr",
     "output_type": "stream",
     "text": [
      "                                                                                \r"
     ]
    }
   ],
   "source": [
    "call.write.format('orc').partitionBy('months').save('call_data_orc')"
   ]
  },
  {
   "cell_type": "code",
   "execution_count": null,
   "id": "2ae57cd0-c8da-4705-9161-949fdfceee4b",
   "metadata": {},
   "outputs": [],
   "source": []
  }
 ],
 "metadata": {
  "kernelspec": {
   "display_name": "PySpark 3",
   "language": "python",
   "name": "pyspark3_env"
  },
  "language_info": {
   "codemirror_mode": {
    "name": "ipython",
    "version": 3
   },
   "file_extension": ".py",
   "mimetype": "text/x-python",
   "name": "python",
   "nbconvert_exporter": "python",
   "pygments_lexer": "ipython3",
   "version": "3.9.13"
  }
 },
 "nbformat": 4,
 "nbformat_minor": 5
}
