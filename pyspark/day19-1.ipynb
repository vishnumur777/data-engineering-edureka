{
 "cells": [
  {
   "cell_type": "code",
   "execution_count": 1,
   "id": "7c213ea5-d694-40b7-9312-dcf29b940ce7",
   "metadata": {},
   "outputs": [],
   "source": [
    "from pyspark.sql import SparkSession"
   ]
  },
  {
   "cell_type": "code",
   "execution_count": 2,
   "id": "9964bf4c-c35b-4db5-8674-ea6c0e2ffebd",
   "metadata": {},
   "outputs": [
    {
     "name": "stderr",
     "output_type": "stream",
     "text": [
      "25/06/12 04:16:58 WARN NativeCodeLoader: Unable to load native-hadoop library for your platform... using builtin-java classes where applicable\n",
      "Setting default log level to \"WARN\".\n",
      "To adjust logging level use sc.setLogLevel(newLevel). For SparkR, use setLogLevel(newLevel).\n",
      "25/06/12 04:17:00 WARN Utils: Service 'SparkUI' could not bind on port 4040. Attempting port 4041.\n",
      "25/06/12 04:17:00 WARN Utils: Service 'SparkUI' could not bind on port 4041. Attempting port 4042.\n",
      "25/06/12 04:17:00 WARN Utils: Service 'SparkUI' could not bind on port 4042. Attempting port 4043.\n",
      "25/06/12 04:17:00 WARN Utils: Service 'SparkUI' could not bind on port 4043. Attempting port 4044.\n",
      "25/06/12 04:17:00 WARN Utils: Service 'SparkUI' could not bind on port 4044. Attempting port 4045.\n",
      "25/06/12 04:17:00 WARN Utils: Service 'SparkUI' could not bind on port 4045. Attempting port 4046.\n",
      "25/06/12 04:17:00 WARN Utils: Service 'SparkUI' could not bind on port 4046. Attempting port 4047.\n",
      "25/06/12 04:17:00 WARN Utils: Service 'SparkUI' could not bind on port 4047. Attempting port 4048.\n",
      "25/06/12 04:17:00 WARN Utils: Service 'SparkUI' could not bind on port 4048. Attempting port 4049.\n",
      "25/06/12 04:17:00 WARN Utils: Service 'SparkUI' could not bind on port 4049. Attempting port 4050.\n",
      "25/06/12 04:17:00 WARN Utils: Service 'SparkUI' could not bind on port 4050. Attempting port 4051.\n",
      "25/06/12 04:17:00 WARN Utils: Service 'SparkUI' could not bind on port 4051. Attempting port 4052.\n",
      "25/06/12 04:17:00 WARN Utils: Service 'SparkUI' could not bind on port 4052. Attempting port 4053.\n"
     ]
    }
   ],
   "source": [
    "spark = SparkSession.builder.appName(\"VarunHiveContext\").master('local[4]').config(\"spark.jars\",\"spark-avro_2.12-3.1.2.jar\").enableHiveSupport().getOrCreate()"
   ]
  },
  {
   "cell_type": "code",
   "execution_count": 3,
   "id": "1441ecaa-f0e2-4cc5-ada0-5ce9455f65ae",
   "metadata": {},
   "outputs": [
    {
     "data": {
      "text/html": [
       "\n",
       "            <div>\n",
       "                <p><b>SparkSession - hive</b></p>\n",
       "                \n",
       "        <div>\n",
       "            <p><b>SparkContext</b></p>\n",
       "\n",
       "            <p><a href=\"http://ip-172-31-32-182.ap-south-1.compute.internal:4053\">Spark UI</a></p>\n",
       "\n",
       "            <dl>\n",
       "              <dt>Version</dt>\n",
       "                <dd><code>v3.1.2</code></dd>\n",
       "              <dt>Master</dt>\n",
       "                <dd><code>local[4]</code></dd>\n",
       "              <dt>AppName</dt>\n",
       "                <dd><code>VarunHiveContext</code></dd>\n",
       "            </dl>\n",
       "        </div>\n",
       "        \n",
       "            </div>\n",
       "        "
      ],
      "text/plain": [
       "<pyspark.sql.session.SparkSession at 0x7f9e78205fa0>"
      ]
     },
     "execution_count": 3,
     "metadata": {},
     "output_type": "execute_result"
    }
   ],
   "source": [
    "spark"
   ]
  },
  {
   "cell_type": "code",
   "execution_count": 4,
   "id": "824bc31b-2008-4767-a10f-b266634ce209",
   "metadata": {},
   "outputs": [],
   "source": [
    "emp = spark.read.table('varunmdb.employee')"
   ]
  },
  {
   "cell_type": "code",
   "execution_count": 5,
   "id": "d2a37bdc-9975-42ae-9b27-2d500ac379f1",
   "metadata": {},
   "outputs": [
    {
     "data": {
      "text/plain": [
       "pyspark.sql.dataframe.DataFrame"
      ]
     },
     "execution_count": 5,
     "metadata": {},
     "output_type": "execute_result"
    }
   ],
   "source": [
    "type(emp)"
   ]
  },
  {
   "cell_type": "code",
   "execution_count": 5,
   "id": "66e6eb45-5515-4251-abda-fbf51c0ce519",
   "metadata": {},
   "outputs": [
    {
     "name": "stdout",
     "output_type": "stream",
     "text": [
      "root\n",
      " |-- employee_id: integer (nullable = true)\n",
      " |-- first_name: string (nullable = true)\n",
      " |-- last_name: string (nullable = true)\n",
      " |-- email: string (nullable = true)\n",
      " |-- phone: string (nullable = true)\n",
      " |-- hire_date: date (nullable = true)\n",
      " |-- job_id: string (nullable = true)\n",
      " |-- salary: integer (nullable = true)\n",
      " |-- comission_pct: integer (nullable = true)\n",
      " |-- manager_id: integer (nullable = true)\n",
      " |-- department_id: integer (nullable = true)\n",
      "\n"
     ]
    }
   ],
   "source": [
    "emp.printSchema()"
   ]
  },
  {
   "cell_type": "code",
   "execution_count": 6,
   "id": "51f6bf53-c320-482f-8706-bdf87993d02c",
   "metadata": {},
   "outputs": [
    {
     "name": "stderr",
     "output_type": "stream",
     "text": [
      "[Stage 0:>                                                          (0 + 1) / 1]\r"
     ]
    },
    {
     "name": "stdout",
     "output_type": "stream",
     "text": [
      "+-----------+----------+---------+--------+----------+----------+-------+------+-------------+----------+-------------+\n",
      "|employee_id|first_name|last_name|   email|     phone| hire_date| job_id|salary|comission_pct|manager_id|department_id|\n",
      "+-----------+----------+---------+--------+----------+----------+-------+------+-------------+----------+-------------+\n",
      "|        100|    Steven|     King|   SKING|515.123.45|1987-06-17|AD_PRES| 24000|            0|         0|           90|\n",
      "|        101|     Neena|  Kochhar|NKOCHHAR|515.123.45|1989-09-21|  AD_VP| 17000|            0|       100|           90|\n",
      "|        102|       Lex|  De Haan| LDEHAAN|515.123.45|1993-01-13|  AD_VP| 17000|            0|       100|           90|\n",
      "|        103| Alexander|   Hunold| AHUNOLD|590.423.45|1990-01-03|IT_PROG|  9000|            0|       102|           60|\n",
      "|        104|     Bruce|    Ernst|  BERNST|590.423.45|1991-05-21|IT_PROG|  6000|            0|       103|           60|\n",
      "+-----------+----------+---------+--------+----------+----------+-------+------+-------------+----------+-------------+\n",
      "only showing top 5 rows\n",
      "\n"
     ]
    },
    {
     "name": "stderr",
     "output_type": "stream",
     "text": [
      "                                                                                \r"
     ]
    }
   ],
   "source": [
    "emp.show(5)"
   ]
  },
  {
   "cell_type": "code",
   "execution_count": 7,
   "id": "e9f6668e-8fc4-4f05-9f02-86f6ae3cd462",
   "metadata": {},
   "outputs": [],
   "source": [
    "ac_avro = spark.read.format('avro').load('accounts_avro')"
   ]
  },
  {
   "cell_type": "code",
   "execution_count": null,
   "id": "9481e8ae-5a88-45e8-b1c2-54c516800555",
   "metadata": {},
   "outputs": [],
   "source": []
  },
  {
   "cell_type": "code",
   "execution_count": null,
   "id": "41af314d-4de2-4f2f-a31f-d60946a3e81f",
   "metadata": {},
   "outputs": [],
   "source": []
  }
 ],
 "metadata": {
  "kernelspec": {
   "display_name": "Python 3 (ipykernel)",
   "language": "python",
   "name": "python3"
  },
  "language_info": {
   "codemirror_mode": {
    "name": "ipython",
    "version": 3
   },
   "file_extension": ".py",
   "mimetype": "text/x-python",
   "name": "python",
   "nbconvert_exporter": "python",
   "pygments_lexer": "ipython3",
   "version": "3.9.13"
  }
 },
 "nbformat": 4,
 "nbformat_minor": 5
}
