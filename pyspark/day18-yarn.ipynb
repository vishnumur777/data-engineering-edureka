{
 "cells": [
  {
   "cell_type": "code",
   "execution_count": 1,
   "id": "b12f42a7-5ada-4904-a672-826adea2590d",
   "metadata": {},
   "outputs": [],
   "source": [
    "from pyspark import SparkConf, SparkContext"
   ]
  },
  {
   "cell_type": "code",
   "execution_count": 2,
   "id": "743fbacd-c0b5-4052-90ab-64b8f169f493",
   "metadata": {},
   "outputs": [],
   "source": [
    "sconf = SparkConf().setAppName(\"VarunYarn\").setMaster('yarn')"
   ]
  },
  {
   "cell_type": "code",
   "execution_count": null,
   "id": "b73df14c-4ba6-4510-ac68-243c2b07e805",
   "metadata": {},
   "outputs": [
    {
     "name": "stderr",
     "output_type": "stream",
     "text": [
      "25/06/10 09:06:17 WARN NativeCodeLoader: Unable to load native-hadoop library for your platform... using builtin-java classes where applicable\n",
      "Setting default log level to \"WARN\".\n",
      "To adjust logging level use sc.setLogLevel(newLevel). For SparkR, use setLogLevel(newLevel).\n",
      "25/06/10 09:06:19 WARN Utils: Service 'SparkUI' could not bind on port 4040. Attempting port 4041.\n",
      "25/06/10 09:06:19 WARN Utils: Service 'SparkUI' could not bind on port 4041. Attempting port 4042.\n",
      "25/06/10 09:06:19 WARN Utils: Service 'SparkUI' could not bind on port 4042. Attempting port 4043.\n",
      "25/06/10 09:06:19 WARN Utils: Service 'SparkUI' could not bind on port 4043. Attempting port 4044.\n",
      "25/06/10 09:06:19 WARN Utils: Service 'SparkUI' could not bind on port 4044. Attempting port 4045.\n",
      "25/06/10 09:06:19 WARN Utils: Service 'SparkUI' could not bind on port 4045. Attempting port 4046.\n",
      "25/06/10 09:06:19 WARN Utils: Service 'SparkUI' could not bind on port 4046. Attempting port 4047.\n",
      "25/06/10 09:06:19 WARN Utils: Service 'SparkUI' could not bind on port 4047. Attempting port 4048.\n",
      "25/06/10 09:06:19 WARN Utils: Service 'SparkUI' could not bind on port 4048. Attempting port 4049.\n",
      "25/06/10 09:06:19 WARN Utils: Service 'SparkUI' could not bind on port 4049. Attempting port 4050.\n",
      "25/06/10 09:06:19 WARN Utils: Service 'SparkUI' could not bind on port 4050. Attempting port 4051.\n",
      "25/06/10 09:06:19 WARN Utils: Service 'SparkUI' could not bind on port 4051. Attempting port 4052.\n",
      "25/06/10 09:06:19 WARN Utils: Service 'SparkUI' could not bind on port 4052. Attempting port 4053.\n",
      "25/06/10 09:06:19 WARN Utils: Service 'SparkUI' could not bind on port 4053. Attempting port 4054.\n",
      "25/06/10 09:06:19 WARN Utils: Service 'SparkUI' could not bind on port 4054. Attempting port 4055.\n",
      "25/06/10 09:06:19 WARN Utils: Service 'SparkUI' could not bind on port 4055. Attempting port 4056.\n",
      "25/06/10 09:06:19 WARN Utils: Service 'SparkUI' could not bind on port 4056. Attempting port 4057.\n",
      "25/06/10 09:06:19 WARN Utils: Service 'SparkUI' could not bind on port 4057. Attempting port 4058.\n",
      "25/06/10 09:06:19 WARN Utils: Service 'SparkUI' could not bind on port 4058. Attempting port 4059.\n",
      "25/06/10 09:06:19 WARN Utils: Service 'SparkUI' could not bind on port 4059. Attempting port 4060.\n",
      "25/06/10 09:06:19 WARN Utils: Service 'SparkUI' could not bind on port 4060. Attempting port 4061.\n",
      "25/06/10 09:06:19 WARN Utils: Service 'SparkUI' could not bind on port 4061. Attempting port 4062.\n",
      "25/06/10 09:06:19 WARN Utils: Service 'SparkUI' could not bind on port 4062. Attempting port 4063.\n",
      "25/06/10 09:06:19 WARN Utils: Service 'SparkUI' could not bind on port 4063. Attempting port 4064.\n",
      "25/06/10 09:06:19 WARN Utils: Service 'SparkUI' could not bind on port 4064. Attempting port 4065.\n",
      "25/06/10 09:06:19 WARN Utils: Service 'SparkUI' could not bind on port 4065. Attempting port 4066.\n",
      "25/06/10 09:06:19 WARN Utils: Service 'SparkUI' could not bind on port 4066. Attempting port 4067.\n",
      "25/06/10 09:06:19 WARN Utils: Service 'SparkUI' could not bind on port 4067. Attempting port 4068.\n",
      "25/06/10 09:06:19 WARN Utils: Service 'SparkUI' could not bind on port 4068. Attempting port 4069.\n",
      "25/06/10 09:06:19 WARN Utils: Service 'SparkUI' could not bind on port 4069. Attempting port 4070.\n",
      "25/06/10 09:06:19 WARN Utils: Service 'SparkUI' could not bind on port 4070. Attempting port 4071.\n",
      "25/06/10 09:06:19 WARN Utils: Service 'SparkUI' could not bind on port 4071. Attempting port 4072.\n",
      "25/06/10 09:06:19 WARN Utils: Service 'SparkUI' could not bind on port 4072. Attempting port 4073.\n",
      "25/06/10 09:06:19 WARN Utils: Service 'SparkUI' could not bind on port 4073. Attempting port 4074.\n",
      "25/06/10 09:06:19 WARN Utils: Service 'SparkUI' could not bind on port 4074. Attempting port 4075.\n",
      "25/06/10 09:06:19 WARN Utils: Service 'SparkUI' could not bind on port 4075. Attempting port 4076.\n",
      "25/06/10 09:06:19 WARN Utils: Service 'SparkUI' could not bind on port 4076. Attempting port 4077.\n",
      "25/06/10 09:06:19 WARN Utils: Service 'SparkUI' could not bind on port 4077. Attempting port 4078.\n",
      "25/06/10 09:06:19 WARN Utils: Service 'SparkUI' could not bind on port 4078. Attempting port 4079.\n",
      "25/06/10 09:06:19 WARN Utils: Service 'SparkUI' could not bind on port 4079. Attempting port 4080.\n",
      "25/06/10 09:06:19 WARN Utils: Service 'SparkUI' could not bind on port 4080. Attempting port 4081.\n",
      "25/06/10 09:06:19 WARN Utils: Service 'SparkUI' could not bind on port 4081. Attempting port 4082.\n",
      "25/06/10 09:06:19 WARN Utils: Service 'SparkUI' could not bind on port 4082. Attempting port 4083.\n",
      "25/06/10 09:06:19 WARN Utils: Service 'SparkUI' could not bind on port 4083. Attempting port 4084.\n",
      "25/06/10 09:06:19 WARN Utils: Service 'SparkUI' could not bind on port 4084. Attempting port 4085.\n",
      "25/06/10 09:06:19 WARN Utils: Service 'SparkUI' could not bind on port 4085. Attempting port 4086.\n",
      "25/06/10 09:06:19 WARN Utils: Service 'SparkUI' could not bind on port 4086. Attempting port 4087.\n",
      "25/06/10 09:06:19 WARN Utils: Service 'SparkUI' could not bind on port 4087. Attempting port 4088.\n",
      "25/06/10 09:06:19 WARN Utils: Service 'SparkUI' could not bind on port 4088. Attempting port 4089.\n",
      "25/06/10 09:06:19 WARN Utils: Service 'SparkUI' could not bind on port 4089. Attempting port 4090.\n",
      "25/06/10 09:06:19 WARN Utils: Service 'SparkUI' could not bind on port 4090. Attempting port 4091.\n",
      "25/06/10 09:06:19 WARN Utils: Service 'SparkUI' could not bind on port 4091. Attempting port 4092.\n",
      "25/06/10 09:06:19 WARN Utils: Service 'SparkUI' could not bind on port 4092. Attempting port 4093.\n",
      "25/06/10 09:06:19 WARN Utils: Service 'SparkUI' could not bind on port 4093. Attempting port 4094.\n",
      "25/06/10 09:06:19 WARN Utils: Service 'SparkUI' could not bind on port 4094. Attempting port 4095.\n",
      "25/06/10 09:06:19 WARN Utils: Service 'SparkUI' could not bind on port 4095. Attempting port 4096.\n",
      "25/06/10 09:06:19 WARN Utils: Service 'SparkUI' could not bind on port 4096. Attempting port 4097.\n",
      "25/06/10 09:06:19 WARN Utils: Service 'SparkUI' could not bind on port 4097. Attempting port 4098.\n",
      "25/06/10 09:06:19 WARN Utils: Service 'SparkUI' could not bind on port 4098. Attempting port 4099.\n",
      "25/06/10 09:06:19 WARN Utils: Service 'SparkUI' could not bind on port 4099. Attempting port 4100.\n",
      "25/06/10 09:06:19 WARN Utils: Service 'SparkUI' could not bind on port 4100. Attempting port 4101.\n",
      "25/06/10 09:06:19 WARN Utils: Service 'SparkUI' could not bind on port 4101. Attempting port 4102.\n",
      "25/06/10 09:06:19 WARN Utils: Service 'SparkUI' could not bind on port 4102. Attempting port 4103.\n",
      "25/06/10 09:06:19 WARN Utils: Service 'SparkUI' could not bind on port 4103. Attempting port 4104.\n",
      "25/06/10 09:06:19 WARN Utils: Service 'SparkUI' could not bind on port 4104. Attempting port 4105.\n",
      "25/06/10 09:06:24 WARN Client: Neither spark.yarn.jars nor spark.yarn.archive is set, falling back to uploading libraries under SPARK_HOME.\n",
      "25/06/10 09:08:41 WARN DataStreamer: Exception for BP-1364978691-172.31.64.10-1677754292516:blk_1075044578_1306867\n",
      "java.net.SocketTimeoutException: 75000 millis timeout while waiting for channel to be ready for read. ch : java.nio.channels.SocketChannel[connected local=/172.31.32.182:50322 remote=/172.31.64.11:9866]\n",
      "\tat org.apache.hadoop.net.SocketIOWithTimeout.doIO(SocketIOWithTimeout.java:164)\n",
      "\tat org.apache.hadoop.net.SocketInputStream.read(SocketInputStream.java:161)\n",
      "\tat org.apache.hadoop.net.SocketInputStream.read(SocketInputStream.java:131)\n",
      "\tat org.apache.hadoop.net.SocketInputStream.read(SocketInputStream.java:118)\n",
      "\tat java.io.FilterInputStream.read(FilterInputStream.java:83)\n",
      "\tat java.io.FilterInputStream.read(FilterInputStream.java:83)\n",
      "\tat org.apache.hadoop.hdfs.protocolPB.PBHelperClient.vintPrefixed(PBHelperClient.java:547)\n",
      "\tat org.apache.hadoop.hdfs.protocol.datatransfer.PipelineAck.readFields(PipelineAck.java:213)\n",
      "\tat org.apache.hadoop.hdfs.DataStreamer$ResponseProcessor.run(DataStreamer.java:1086)\n",
      "25/06/10 09:08:41 WARN DataStreamer: Error Recovery for BP-1364978691-172.31.64.10-1677754292516:blk_1075044578_1306867 in pipeline [DatanodeInfoWithStorage[172.31.64.11:9866,DS-8af7bd92-c7a4-44fb-b361-00496b8456c3,DISK], DatanodeInfoWithStorage[172.31.64.10:9866,DS-c5d3f703-fc05-45d5-9749-75d35b7c1674,DISK], DatanodeInfoWithStorage[172.31.64.14:9866,DS-f823cf84-06f8-4cdd-b6e9-29d13d0292ee,DISK]]: datanode 0(DatanodeInfoWithStorage[172.31.64.11:9866,DS-8af7bd92-c7a4-44fb-b361-00496b8456c3,DISK]) is bad.\n",
      "25/06/10 09:10:38 WARN DataStreamer: Slow waitForAckedSeqno took 39020ms (threshold=30000ms). File being written: /user/varunm15t38hedu/.sparkStaging/application_1749521358509_0115/__spark_libs__5053568129298478040.zip, block: BP-1364978691-172.31.64.10-1677754292516:blk_1075044679_1307002, Write pipeline datanodes: [DatanodeInfoWithStorage[172.31.73.191:9866,DS-e2b7285d-a9a5-47f8-bcee-e91f66a4d588,DISK], DatanodeInfoWithStorage[172.31.64.13:9866,DS-e595a26d-2fb4-4683-b8bf-ad5a6b69a54b,DISK], DatanodeInfoWithStorage[172.31.64.11:9866,DS-8af7bd92-c7a4-44fb-b361-00496b8456c3,DISK]].\n",
      "25/06/10 09:11:30 WARN DataStreamer: Slow waitForAckedSeqno took 43163ms (threshold=30000ms). File being written: /user/varunm15t38hedu/.sparkStaging/application_1749521358509_0115/pyspark.zip, block: BP-1364978691-172.31.64.10-1677754292516:blk_1075044731_1307068, Write pipeline datanodes: [DatanodeInfoWithStorage[172.31.64.12:9866,DS-c7b06f49-e29e-4fd7-8923-882da8ea1f7c,DISK], DatanodeInfoWithStorage[172.31.64.14:9866,DS-f823cf84-06f8-4cdd-b6e9-29d13d0292ee,DISK], DatanodeInfoWithStorage[172.31.64.10:9866,DS-c5d3f703-fc05-45d5-9749-75d35b7c1674,DISK]].\n"
     ]
    }
   ],
   "source": [
    "sc = SparkContext(conf=sconf)"
   ]
  },
  {
   "cell_type": "code",
   "execution_count": null,
   "id": "2f57b7de-ef23-4f87-9b9d-fa860977899d",
   "metadata": {},
   "outputs": [],
   "source": [
    "sc"
   ]
  },
  {
   "cell_type": "code",
   "execution_count": null,
   "id": "e6c78b30-4139-4d15-9319-abefaae11178",
   "metadata": {},
   "outputs": [],
   "source": []
  }
 ],
 "metadata": {
  "kernelspec": {
   "display_name": "PySpark 3",
   "language": "python",
   "name": "pyspark3_env"
  },
  "language_info": {
   "codemirror_mode": {
    "name": "ipython",
    "version": 3
   },
   "file_extension": ".py",
   "mimetype": "text/x-python",
   "name": "python",
   "nbconvert_exporter": "python",
   "pygments_lexer": "ipython3",
   "version": "3.9.13"
  }
 },
 "nbformat": 4,
 "nbformat_minor": 5
}
