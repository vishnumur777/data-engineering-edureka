{
 "cells": [
  {
   "cell_type": "markdown",
   "id": "73dd166e-30b1-4e97-89eb-97a8126f2123",
   "metadata": {},
   "source": [
    "## Pyspark - RDD"
   ]
  },
  {
   "cell_type": "code",
   "execution_count": 2,
   "id": "38e35c05-6437-4862-82ee-334cba27e741",
   "metadata": {},
   "outputs": [],
   "source": [
    "from pyspark import SparkConf, SparkContext\n",
    "import warnings"
   ]
  },
  {
   "cell_type": "code",
   "execution_count": 3,
   "id": "b3519ec7-f079-4d59-8447-c6e41226c151",
   "metadata": {},
   "outputs": [],
   "source": [
    "  warnings.filterwarnings('ignore')"
   ]
  },
  {
   "cell_type": "code",
   "execution_count": 4,
   "id": "7b9e83f9-db4a-4ad0-96e3-246e3c3f7e84",
   "metadata": {},
   "outputs": [],
   "source": [
    "sconf = SparkConf().setAppName(\"VarunCode\").setMaster(\"local[2]\")"
   ]
  },
  {
   "cell_type": "code",
   "execution_count": 5,
   "id": "445598d1-0cfc-40ae-a02b-50b029bfcd7c",
   "metadata": {},
   "outputs": [
    {
     "name": "stderr",
     "output_type": "stream",
     "text": [
      "25/06/09 11:20:50 WARN NativeCodeLoader: Unable to load native-hadoop library for your platform... using builtin-java classes where applicable\n",
      "Setting default log level to \"WARN\".\n",
      "To adjust logging level use sc.setLogLevel(newLevel). For SparkR, use setLogLevel(newLevel).\n",
      "25/06/09 11:20:51 WARN Utils: Service 'SparkUI' could not bind on port 4040. Attempting port 4041.\n",
      "25/06/09 11:20:51 WARN Utils: Service 'SparkUI' could not bind on port 4041. Attempting port 4042.\n",
      "25/06/09 11:20:51 WARN Utils: Service 'SparkUI' could not bind on port 4042. Attempting port 4043.\n",
      "25/06/09 11:20:51 WARN Utils: Service 'SparkUI' could not bind on port 4043. Attempting port 4044.\n",
      "25/06/09 11:20:51 WARN Utils: Service 'SparkUI' could not bind on port 4044. Attempting port 4045.\n",
      "25/06/09 11:20:51 WARN Utils: Service 'SparkUI' could not bind on port 4045. Attempting port 4046.\n",
      "25/06/09 11:20:51 WARN Utils: Service 'SparkUI' could not bind on port 4046. Attempting port 4047.\n",
      "25/06/09 11:20:51 WARN Utils: Service 'SparkUI' could not bind on port 4047. Attempting port 4048.\n",
      "25/06/09 11:20:51 WARN Utils: Service 'SparkUI' could not bind on port 4048. Attempting port 4049.\n",
      "25/06/09 11:20:51 WARN Utils: Service 'SparkUI' could not bind on port 4049. Attempting port 4050.\n",
      "25/06/09 11:20:51 WARN Utils: Service 'SparkUI' could not bind on port 4050. Attempting port 4051.\n",
      "25/06/09 11:20:51 WARN Utils: Service 'SparkUI' could not bind on port 4051. Attempting port 4052.\n",
      "25/06/09 11:20:51 WARN Utils: Service 'SparkUI' could not bind on port 4052. Attempting port 4053.\n",
      "25/06/09 11:20:51 WARN Utils: Service 'SparkUI' could not bind on port 4053. Attempting port 4054.\n",
      "25/06/09 11:20:51 WARN Utils: Service 'SparkUI' could not bind on port 4054. Attempting port 4055.\n",
      "25/06/09 11:20:51 WARN Utils: Service 'SparkUI' could not bind on port 4055. Attempting port 4056.\n",
      "25/06/09 11:20:51 WARN Utils: Service 'SparkUI' could not bind on port 4056. Attempting port 4057.\n",
      "25/06/09 11:20:51 WARN Utils: Service 'SparkUI' could not bind on port 4057. Attempting port 4058.\n",
      "25/06/09 11:20:51 WARN Utils: Service 'SparkUI' could not bind on port 4058. Attempting port 4059.\n",
      "25/06/09 11:20:51 WARN Utils: Service 'SparkUI' could not bind on port 4059. Attempting port 4060.\n",
      "25/06/09 11:20:51 WARN Utils: Service 'SparkUI' could not bind on port 4060. Attempting port 4061.\n",
      "25/06/09 11:20:51 WARN Utils: Service 'SparkUI' could not bind on port 4061. Attempting port 4062.\n",
      "25/06/09 11:20:51 WARN Utils: Service 'SparkUI' could not bind on port 4062. Attempting port 4063.\n",
      "25/06/09 11:20:51 WARN Utils: Service 'SparkUI' could not bind on port 4063. Attempting port 4064.\n",
      "25/06/09 11:20:51 WARN Utils: Service 'SparkUI' could not bind on port 4064. Attempting port 4065.\n",
      "25/06/09 11:20:51 WARN Utils: Service 'SparkUI' could not bind on port 4065. Attempting port 4066.\n",
      "25/06/09 11:20:51 WARN Utils: Service 'SparkUI' could not bind on port 4066. Attempting port 4067.\n",
      "25/06/09 11:20:51 WARN Utils: Service 'SparkUI' could not bind on port 4067. Attempting port 4068.\n",
      "25/06/09 11:20:51 WARN Utils: Service 'SparkUI' could not bind on port 4068. Attempting port 4069.\n",
      "25/06/09 11:20:51 WARN Utils: Service 'SparkUI' could not bind on port 4069. Attempting port 4070.\n",
      "25/06/09 11:20:51 WARN Utils: Service 'SparkUI' could not bind on port 4070. Attempting port 4071.\n",
      "25/06/09 11:20:51 WARN Utils: Service 'SparkUI' could not bind on port 4071. Attempting port 4072.\n",
      "25/06/09 11:20:51 WARN Utils: Service 'SparkUI' could not bind on port 4072. Attempting port 4073.\n",
      "25/06/09 11:20:51 WARN Utils: Service 'SparkUI' could not bind on port 4073. Attempting port 4074.\n",
      "25/06/09 11:20:51 WARN Utils: Service 'SparkUI' could not bind on port 4074. Attempting port 4075.\n",
      "25/06/09 11:20:51 WARN Utils: Service 'SparkUI' could not bind on port 4075. Attempting port 4076.\n",
      "25/06/09 11:20:51 WARN Utils: Service 'SparkUI' could not bind on port 4076. Attempting port 4077.\n",
      "25/06/09 11:20:51 WARN Utils: Service 'SparkUI' could not bind on port 4077. Attempting port 4078.\n",
      "25/06/09 11:20:51 WARN Utils: Service 'SparkUI' could not bind on port 4078. Attempting port 4079.\n"
     ]
    }
   ],
   "source": [
    "sc = SparkContext(conf=sconf)"
   ]
  },
  {
   "cell_type": "code",
   "execution_count": 6,
   "id": "ad6cefbb-d926-4edf-9424-e9605e2f4a5f",
   "metadata": {},
   "outputs": [
    {
     "data": {
      "text/plain": [
       "pyspark.context.SparkContext"
      ]
     },
     "execution_count": 6,
     "metadata": {},
     "output_type": "execute_result"
    }
   ],
   "source": [
    "type(sc)"
   ]
  },
  {
   "cell_type": "code",
   "execution_count": 7,
   "id": "66ae5268-c0ea-4147-b57f-3ecd8c8791a6",
   "metadata": {},
   "outputs": [],
   "source": [
    "a1 = [23,45,76,34,23,56,76]"
   ]
  },
  {
   "cell_type": "code",
   "execution_count": 8,
   "id": "5c6d5299-aff2-48ce-a1d2-06faf091366a",
   "metadata": {},
   "outputs": [
    {
     "data": {
      "text/plain": [
       "[23, 45, 76, 34, 23, 56, 76]"
      ]
     },
     "execution_count": 8,
     "metadata": {},
     "output_type": "execute_result"
    }
   ],
   "source": [
    "a1"
   ]
  },
  {
   "cell_type": "code",
   "execution_count": 9,
   "id": "4999f215-166e-46b7-b099-2fdbf958c459",
   "metadata": {},
   "outputs": [
    {
     "data": {
      "text/plain": [
       "list"
      ]
     },
     "execution_count": 9,
     "metadata": {},
     "output_type": "execute_result"
    }
   ],
   "source": [
    "type(a1)"
   ]
  },
  {
   "cell_type": "code",
   "execution_count": 10,
   "id": "46cb6004-f039-433b-85df-4659f68fb7ac",
   "metadata": {},
   "outputs": [],
   "source": [
    "rdd1 = sc.parallelize(a1)"
   ]
  },
  {
   "cell_type": "code",
   "execution_count": 11,
   "id": "05bd99c2-5709-4cce-8bbe-adc23553c096",
   "metadata": {},
   "outputs": [
    {
     "data": {
      "text/plain": [
       "ParallelCollectionRDD[0] at readRDDFromFile at PythonRDD.scala:274"
      ]
     },
     "execution_count": 11,
     "metadata": {},
     "output_type": "execute_result"
    }
   ],
   "source": [
    "rdd1"
   ]
  },
  {
   "cell_type": "code",
   "execution_count": 12,
   "id": "6a383427-ebd9-4fa4-95d2-b789c9ddabd4",
   "metadata": {},
   "outputs": [
    {
     "name": "stderr",
     "output_type": "stream",
     "text": [
      "                                                                                \r"
     ]
    },
    {
     "data": {
      "text/plain": [
       "[23, 45, 76, 34, 23, 56, 76]"
      ]
     },
     "execution_count": 12,
     "metadata": {},
     "output_type": "execute_result"
    }
   ],
   "source": [
    "rdd1.collect()"
   ]
  },
  {
   "cell_type": "code",
   "execution_count": 13,
   "id": "1f2911a5-52be-4fe1-bcdf-9bf500a97451",
   "metadata": {},
   "outputs": [
    {
     "data": {
      "text/plain": [
       "pyspark.rdd.RDD"
      ]
     },
     "execution_count": 13,
     "metadata": {},
     "output_type": "execute_result"
    }
   ],
   "source": [
    "type(rdd1)"
   ]
  },
  {
   "cell_type": "code",
   "execution_count": 14,
   "id": "e72f6a24-0239-4781-96ad-f10940b75478",
   "metadata": {},
   "outputs": [
    {
     "data": {
      "text/plain": [
       "list"
      ]
     },
     "execution_count": 14,
     "metadata": {},
     "output_type": "execute_result"
    }
   ],
   "source": [
    "type(rdd1.collect())"
   ]
  },
  {
   "cell_type": "code",
   "execution_count": 15,
   "id": "b372da80-fa28-4683-ab82-14a93e3704c1",
   "metadata": {},
   "outputs": [],
   "source": [
    "l2 = ['amir', 'anandu', 'varun', 'yadhu', 'prajwal']"
   ]
  },
  {
   "cell_type": "code",
   "execution_count": 16,
   "id": "ec0532e3-2caf-495c-8cae-b68c65575f4d",
   "metadata": {},
   "outputs": [
    {
     "data": {
      "text/plain": [
       "['amir', 'anandu', 'varun', 'yadhu', 'prajwal']"
      ]
     },
     "execution_count": 16,
     "metadata": {},
     "output_type": "execute_result"
    }
   ],
   "source": [
    "l2"
   ]
  },
  {
   "cell_type": "code",
   "execution_count": 17,
   "id": "65aaa840-f57c-4300-b54c-2c46dc5cdae5",
   "metadata": {},
   "outputs": [],
   "source": [
    "rdd_l2 = sc.parallelize(l2)"
   ]
  },
  {
   "cell_type": "markdown",
   "id": "1c86db61-81ff-41e1-a4e9-01499800a12c",
   "metadata": {},
   "source": [
    "### `functions` present in RDD"
   ]
  },
  {
   "cell_type": "code",
   "execution_count": 18,
   "id": "faa064e8-9f94-4d80-b197-3319016b91b6",
   "metadata": {},
   "outputs": [
    {
     "data": {
      "text/plain": [
       "['amir', 'anandu', 'varun', 'yadhu', 'prajwal']"
      ]
     },
     "execution_count": 18,
     "metadata": {},
     "output_type": "execute_result"
    }
   ],
   "source": [
    "rdd_l2.collect()"
   ]
  },
  {
   "cell_type": "code",
   "execution_count": 19,
   "id": "3ef2e19e-91d9-4337-a148-992a8f0f3d6d",
   "metadata": {},
   "outputs": [
    {
     "data": {
      "text/plain": [
       "5"
      ]
     },
     "execution_count": 19,
     "metadata": {},
     "output_type": "execute_result"
    }
   ],
   "source": [
    "rdd_l2.count()"
   ]
  },
  {
   "cell_type": "code",
   "execution_count": 20,
   "id": "728dd8ac-e181-48b8-ac15-59ecd3b40df5",
   "metadata": {},
   "outputs": [
    {
     "data": {
      "text/plain": [
       "int"
      ]
     },
     "execution_count": 20,
     "metadata": {},
     "output_type": "execute_result"
    }
   ],
   "source": [
    "type(rdd_l2.count())"
   ]
  },
  {
   "cell_type": "code",
   "execution_count": 21,
   "id": "497e8c68-3787-496e-bdfb-5407245c6107",
   "metadata": {},
   "outputs": [
    {
     "data": {
      "text/plain": [
       "'amir'"
      ]
     },
     "execution_count": 21,
     "metadata": {},
     "output_type": "execute_result"
    }
   ],
   "source": [
    "rdd_l2.first()"
   ]
  },
  {
   "cell_type": "markdown",
   "id": "388fd22c-938a-4fba-a22a-a73782b34d19",
   "metadata": {},
   "source": [
    "`.take(n)` returns how many members to return"
   ]
  },
  {
   "cell_type": "code",
   "execution_count": 22,
   "id": "602903ee-01b3-4a7d-beb7-887dfaa24eb6",
   "metadata": {},
   "outputs": [
    {
     "data": {
      "text/plain": [
       "['amir', 'anandu']"
      ]
     },
     "execution_count": 22,
     "metadata": {},
     "output_type": "execute_result"
    }
   ],
   "source": [
    "rdd_l2.take(2)"
   ]
  },
  {
   "cell_type": "code",
   "execution_count": 23,
   "id": "7fe64516-6c3e-4f31-93f1-1e1768e8174c",
   "metadata": {},
   "outputs": [
    {
     "data": {
      "text/plain": [
       "[76, 34, 56, 23, 45]"
      ]
     },
     "execution_count": 23,
     "metadata": {},
     "output_type": "execute_result"
    }
   ],
   "source": [
    "rdd1.distinct().collect()"
   ]
  },
  {
   "cell_type": "code",
   "execution_count": 24,
   "id": "6c6963c0-9e11-4bab-bec7-9be1a36320ab",
   "metadata": {},
   "outputs": [],
   "source": [
    "rdd_map1 = rdd_l2.map(lambda x: x.capitalize())"
   ]
  },
  {
   "cell_type": "code",
   "execution_count": 25,
   "id": "60d6c8a6-1966-4aaa-9889-f9209dfe1a91",
   "metadata": {},
   "outputs": [
    {
     "data": {
      "text/plain": [
       "['Amir', 'Anandu', 'Varun', 'Yadhu', 'Prajwal']"
      ]
     },
     "execution_count": 25,
     "metadata": {},
     "output_type": "execute_result"
    }
   ],
   "source": [
    "rdd_map1.collect()"
   ]
  },
  {
   "cell_type": "code",
   "execution_count": 26,
   "id": "c8c73760-207a-44d7-80a8-99467ada98b7",
   "metadata": {},
   "outputs": [
    {
     "data": {
      "text/plain": [
       "['amir', 'anandu', 'varun', 'yadhu', 'prajwal']"
      ]
     },
     "execution_count": 26,
     "metadata": {},
     "output_type": "execute_result"
    }
   ],
   "source": [
    "rdd_l2.collect()"
   ]
  },
  {
   "cell_type": "code",
   "execution_count": 27,
   "id": "2e67cbaf-9c5e-4360-a233-2440b9e87e9a",
   "metadata": {},
   "outputs": [],
   "source": [
    "rdd_map2 = rdd_l2.map(lambda x: len(x))"
   ]
  },
  {
   "cell_type": "code",
   "execution_count": 28,
   "id": "66ab181b-2cb5-413c-956e-95e536f6b13d",
   "metadata": {},
   "outputs": [
    {
     "data": {
      "text/plain": [
       "[4, 6, 5, 5, 7]"
      ]
     },
     "execution_count": 28,
     "metadata": {},
     "output_type": "execute_result"
    }
   ],
   "source": [
    "rdd_map2.collect()"
   ]
  },
  {
   "cell_type": "code",
   "execution_count": 29,
   "id": "6c3230d0-8522-4c55-af1c-b80c7aeae516",
   "metadata": {},
   "outputs": [],
   "source": [
    "rdd_filter1 = rdd_l2.filter(lambda x: len(x)>5)"
   ]
  },
  {
   "cell_type": "code",
   "execution_count": 30,
   "id": "fbe703a5-0995-4684-9bee-25ca280e6443",
   "metadata": {},
   "outputs": [
    {
     "data": {
      "text/plain": [
       "['anandu', 'prajwal']"
      ]
     },
     "execution_count": 30,
     "metadata": {},
     "output_type": "execute_result"
    }
   ],
   "source": [
    "rdd_filter1.collect()"
   ]
  },
  {
   "cell_type": "code",
   "execution_count": 31,
   "id": "84458e1c-23b9-4f83-a61b-4e89444e6c61",
   "metadata": {},
   "outputs": [],
   "source": [
    "def myfunc(n):\n",
    "    return [n-1,n,n+1]"
   ]
  },
  {
   "cell_type": "code",
   "execution_count": 32,
   "id": "6608587b-4878-4813-8a0e-611d3cc5c912",
   "metadata": {},
   "outputs": [
    {
     "data": {
      "text/plain": [
       "[[22, 23, 24],\n",
       " [44, 45, 46],\n",
       " [75, 76, 77],\n",
       " [33, 34, 35],\n",
       " [22, 23, 24],\n",
       " [55, 56, 57],\n",
       " [75, 76, 77]]"
      ]
     },
     "execution_count": 32,
     "metadata": {},
     "output_type": "execute_result"
    }
   ],
   "source": [
    "rdd1.map(lambda x:myfunc(x)).collect()"
   ]
  },
  {
   "cell_type": "code",
   "execution_count": 33,
   "id": "9f1af303-2cfd-43d0-bdf3-8b4fb765ad8c",
   "metadata": {},
   "outputs": [],
   "source": [
    "rdd_f1=rdd1.flatMap(lambda x:myfunc(x))"
   ]
  },
  {
   "cell_type": "code",
   "execution_count": 34,
   "id": "5ad01400-ad88-4761-9fcf-cd19c0a44dad",
   "metadata": {},
   "outputs": [
    {
     "data": {
      "text/plain": [
       "[22,\n",
       " 23,\n",
       " 24,\n",
       " 44,\n",
       " 45,\n",
       " 46,\n",
       " 75,\n",
       " 76,\n",
       " 77,\n",
       " 33,\n",
       " 34,\n",
       " 35,\n",
       " 22,\n",
       " 23,\n",
       " 24,\n",
       " 55,\n",
       " 56,\n",
       " 57,\n",
       " 75,\n",
       " 76,\n",
       " 77]"
      ]
     },
     "execution_count": 34,
     "metadata": {},
     "output_type": "execute_result"
    }
   ],
   "source": [
    "rdd_f1.collect()"
   ]
  },
  {
   "cell_type": "code",
   "execution_count": 35,
   "id": "7bc73978-ff16-42e1-be60-ad9bb33a515d",
   "metadata": {},
   "outputs": [
    {
     "data": {
      "text/plain": [
       "pyspark.rdd.PipelinedRDD"
      ]
     },
     "execution_count": 35,
     "metadata": {},
     "output_type": "execute_result"
    }
   ],
   "source": [
    "type(rdd_f1)"
   ]
  },
  {
   "cell_type": "markdown",
   "id": "8369e0b7-5a5a-4496-bdf6-cf45e370c6d7",
   "metadata": {},
   "source": [
    "### Reading text file"
   ]
  },
  {
   "cell_type": "markdown",
   "id": "f0dba8b8-52c3-4101-a671-e6c9e69afff2",
   "metadata": {},
   "source": [
    "Note:- Make sure file is located on hdfs"
   ]
  },
  {
   "cell_type": "code",
   "execution_count": 38,
   "id": "3b91237a-1f77-471a-a0e2-04481c581cf8",
   "metadata": {},
   "outputs": [],
   "source": [
    "purple = sc.textFile('purplecow.txt')"
   ]
  },
  {
   "cell_type": "markdown",
   "id": "20045968-452e-49d3-88c5-ddd992b9c983",
   "metadata": {},
   "source": [
    "syntax:-\n",
    "\n",
    "```python\n",
    "sc.textFile('<path-from-hdfs>')\n",
    "```"
   ]
  },
  {
   "cell_type": "code",
   "execution_count": 39,
   "id": "c63851f9-159c-4724-a40a-b836c9baf09d",
   "metadata": {},
   "outputs": [
    {
     "data": {
      "text/plain": [
       "[\"I've never seen a purple cow.\",\n",
       " 'I never hope to see one;',\n",
       " 'But I can tell you, anyhow,',\n",
       " \"I'd rather see than be one.\"]"
      ]
     },
     "execution_count": 39,
     "metadata": {},
     "output_type": "execute_result"
    }
   ],
   "source": [
    "purple.collect()"
   ]
  },
  {
   "cell_type": "code",
   "execution_count": 42,
   "id": "af08bbb0-96e5-47ec-8f74-29235d6ef69c",
   "metadata": {},
   "outputs": [],
   "source": [
    "purple_split=purple.flatMap(lambda x: x.split())"
   ]
  },
  {
   "cell_type": "code",
   "execution_count": 43,
   "id": "26ca0ce1-e3ba-43b3-9b0d-401fc55e79ce",
   "metadata": {},
   "outputs": [
    {
     "data": {
      "text/plain": [
       "[\"I've\",\n",
       " 'never',\n",
       " 'seen',\n",
       " 'a',\n",
       " 'purple',\n",
       " 'cow.',\n",
       " 'I',\n",
       " 'never',\n",
       " 'hope',\n",
       " 'to',\n",
       " 'see',\n",
       " 'one;',\n",
       " 'But',\n",
       " 'I',\n",
       " 'can',\n",
       " 'tell',\n",
       " 'you,',\n",
       " 'anyhow,',\n",
       " \"I'd\",\n",
       " 'rather',\n",
       " 'see',\n",
       " 'than',\n",
       " 'be',\n",
       " 'one.']"
      ]
     },
     "execution_count": 43,
     "metadata": {},
     "output_type": "execute_result"
    }
   ],
   "source": [
    "purple_split.collect()"
   ]
  },
  {
   "cell_type": "code",
   "execution_count": 44,
   "id": "685aa00e-2bf5-48cf-be3b-a6e19e529db5",
   "metadata": {},
   "outputs": [
    {
     "data": {
      "text/plain": [
       "[4, 5, 4, 1, 6, 4, 1, 5, 4, 2, 3, 4, 3, 1, 3, 4, 4, 7, 3, 6, 3, 4, 2, 4]"
      ]
     },
     "execution_count": 44,
     "metadata": {},
     "output_type": "execute_result"
    }
   ],
   "source": [
    "purple_split.map(lambda x: len(x)).collect()"
   ]
  },
  {
   "cell_type": "code",
   "execution_count": 45,
   "id": "c13d660e-a9e4-4d4d-9bd2-c1aab6b46d2a",
   "metadata": {},
   "outputs": [
    {
     "data": {
      "text/plain": [
       "24"
      ]
     },
     "execution_count": 45,
     "metadata": {},
     "output_type": "execute_result"
    }
   ],
   "source": [
    "purple_split.count()"
   ]
  },
  {
   "cell_type": "code",
   "execution_count": 46,
   "id": "9ac6e5c2-ee71-4f61-b325-c2263f42c584",
   "metadata": {},
   "outputs": [],
   "source": [
    "names = [\"Ram\", \"Shyam\", \"Varub\", \"Ravanan\", \"Soman\"]"
   ]
  },
  {
   "cell_type": "code",
   "execution_count": 47,
   "id": "20460a42-c17f-4278-93bd-118144de218b",
   "metadata": {},
   "outputs": [],
   "source": [
    "l1 = [1,2,3,4,5]"
   ]
  },
  {
   "cell_type": "code",
   "execution_count": 48,
   "id": "f187652e-68a8-49de-8bec-c2ad10f1dddc",
   "metadata": {},
   "outputs": [],
   "source": [
    "rddnames=sc.parallelize(names)"
   ]
  },
  {
   "cell_type": "code",
   "execution_count": 49,
   "id": "5aa38070-f968-40e9-8cae-4300ca337c47",
   "metadata": {},
   "outputs": [],
   "source": [
    "rdd1 = sc.parallelize(l1)"
   ]
  },
  {
   "cell_type": "code",
   "execution_count": 50,
   "id": "bf633cbc-d76e-4d6a-b5a7-b4286f915e3d",
   "metadata": {},
   "outputs": [],
   "source": [
    "pair1 = rddnames.map(lambda x: (x,len(x)))"
   ]
  },
  {
   "cell_type": "code",
   "execution_count": 51,
   "id": "af1db4f2-0329-4132-9143-d8efb682e4a8",
   "metadata": {},
   "outputs": [
    {
     "data": {
      "text/plain": [
       "[('Ram', 3), ('Shyam', 5), ('Varub', 5), ('Ravanan', 7), ('Soman', 5)]"
      ]
     },
     "execution_count": 51,
     "metadata": {},
     "output_type": "execute_result"
    }
   ],
   "source": [
    "pair1.collect()"
   ]
  },
  {
   "cell_type": "markdown",
   "id": "108076b3-a303-4708-a972-3b89cc76a459",
   "metadata": {},
   "source": [
    "### `latonschema.txt`"
   ]
  },
  {
   "cell_type": "code",
   "execution_count": 59,
   "id": "671ccaad-7630-4372-b458-1c183aed22ec",
   "metadata": {},
   "outputs": [],
   "source": [
    "laton = sc.textFile(\"latlonschema.txt\")"
   ]
  },
  {
   "cell_type": "code",
   "execution_count": 62,
   "id": "6c965f82-c836-4d3e-9c83-0d69a73abff0",
   "metadata": {},
   "outputs": [],
   "source": [
    "laton_split = laton.map(lambda x: x.split('\\t'))"
   ]
  },
  {
   "cell_type": "code",
   "execution_count": 67,
   "id": "dfb091e8-4e0e-4400-bb9f-bd4457dcc7bb",
   "metadata": {},
   "outputs": [],
   "source": [
    "laton_latlon = laton_split.map(lambda x:{x[0]: [x[1], x[2]]})"
   ]
  },
  {
   "cell_type": "code",
   "execution_count": 70,
   "id": "2613f885-d1d0-49ce-8e45-575b19e5360d",
   "metadata": {},
   "outputs": [
    {
     "data": {
      "text/plain": [
       "[{'0210': ['43.005895', '-71.013202']},\n",
       " {'00211': ['43.005895', '-71.013202']},\n",
       " {'00212': ['43.005895', '-71.013202']},\n",
       " {'00213': ['43.005895', '-71.013202']},\n",
       " {'00214': ['43.005895', '-71.013202']}]"
      ]
     },
     "execution_count": 70,
     "metadata": {},
     "output_type": "execute_result"
    }
   ],
   "source": [
    "laton_latlon.take(5)"
   ]
  }
 ],
 "metadata": {
  "kernelspec": {
   "display_name": "PySpark 3",
   "language": "python",
   "name": "pyspark3_env"
  },
  "language_info": {
   "codemirror_mode": {
    "name": "ipython",
    "version": 3
   },
   "file_extension": ".py",
   "mimetype": "text/x-python",
   "name": "python",
   "nbconvert_exporter": "python",
   "pygments_lexer": "ipython3",
   "version": "3.9.13"
  }
 },
 "nbformat": 4,
 "nbformat_minor": 5
}
