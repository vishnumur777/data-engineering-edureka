{
 "cells": [
  {
   "cell_type": "code",
   "execution_count": 1,
   "id": "aa63d987-8eae-46c2-b371-dd86d2c3e9d4",
   "metadata": {},
   "outputs": [],
   "source": [
    "from pyspark.sql import SparkSession"
   ]
  },
  {
   "cell_type": "code",
   "execution_count": 2,
   "id": "803b35da-a9fb-4eaf-933c-94303ff3cdcf",
   "metadata": {},
   "outputs": [
    {
     "name": "stderr",
     "output_type": "stream",
     "text": [
      "25/06/12 05:50:00 WARN NativeCodeLoader: Unable to load native-hadoop library for your platform... using builtin-java classes where applicable\n",
      "Setting default log level to \"WARN\".\n",
      "To adjust logging level use sc.setLogLevel(newLevel). For SparkR, use setLogLevel(newLevel).\n",
      "25/06/12 05:50:02 WARN Utils: Service 'SparkUI' could not bind on port 4040. Attempting port 4041.\n",
      "25/06/12 05:50:02 WARN Utils: Service 'SparkUI' could not bind on port 4041. Attempting port 4042.\n",
      "25/06/12 05:50:02 WARN Utils: Service 'SparkUI' could not bind on port 4042. Attempting port 4043.\n",
      "25/06/12 05:50:02 WARN Utils: Service 'SparkUI' could not bind on port 4043. Attempting port 4044.\n",
      "25/06/12 05:50:02 WARN Utils: Service 'SparkUI' could not bind on port 4044. Attempting port 4045.\n",
      "25/06/12 05:50:02 WARN Utils: Service 'SparkUI' could not bind on port 4045. Attempting port 4046.\n",
      "25/06/12 05:50:02 WARN Utils: Service 'SparkUI' could not bind on port 4046. Attempting port 4047.\n",
      "25/06/12 05:50:02 WARN Utils: Service 'SparkUI' could not bind on port 4047. Attempting port 4048.\n",
      "25/06/12 05:50:02 WARN Utils: Service 'SparkUI' could not bind on port 4048. Attempting port 4049.\n"
     ]
    }
   ],
   "source": [
    "spark = SparkSession.builder.appName('VarunSparkSession1').master('local[4]').getOrCreate()"
   ]
  },
  {
   "cell_type": "code",
   "execution_count": 3,
   "id": "27668199-9fb2-4393-82a3-e3c684fafd53",
   "metadata": {},
   "outputs": [
    {
     "data": {
      "text/html": [
       "\n",
       "            <div>\n",
       "                <p><b>SparkSession - in-memory</b></p>\n",
       "                \n",
       "        <div>\n",
       "            <p><b>SparkContext</b></p>\n",
       "\n",
       "            <p><a href=\"http://ip-172-31-32-182.ap-south-1.compute.internal:4049\">Spark UI</a></p>\n",
       "\n",
       "            <dl>\n",
       "              <dt>Version</dt>\n",
       "                <dd><code>v3.1.2</code></dd>\n",
       "              <dt>Master</dt>\n",
       "                <dd><code>local[4]</code></dd>\n",
       "              <dt>AppName</dt>\n",
       "                <dd><code>VarunSparkSession1</code></dd>\n",
       "            </dl>\n",
       "        </div>\n",
       "        \n",
       "            </div>\n",
       "        "
      ],
      "text/plain": [
       "<pyspark.sql.session.SparkSession at 0x7f75d022fc70>"
      ]
     },
     "execution_count": 3,
     "metadata": {},
     "output_type": "execute_result"
    }
   ],
   "source": [
    "spark"
   ]
  },
  {
   "cell_type": "code",
   "execution_count": 4,
   "id": "d4bd34e7-d638-41bb-b7f6-a8025495f53c",
   "metadata": {},
   "outputs": [
    {
     "name": "stderr",
     "output_type": "stream",
     "text": [
      "                                                                                \r"
     ]
    }
   ],
   "source": [
    "ppl = spark.read.json('pysparkasset/people.json')"
   ]
  },
  {
   "cell_type": "markdown",
   "id": "0d845c0e-9b4f-4587-9853-409c3e57fa81",
   "metadata": {},
   "source": [
    "`read` is only eager execution"
   ]
  },
  {
   "cell_type": "code",
   "execution_count": 5,
   "id": "d08660a8-2fde-4b3a-b547-163a2f67fc2f",
   "metadata": {},
   "outputs": [
    {
     "data": {
      "text/plain": [
       "pyspark.sql.dataframe.DataFrame"
      ]
     },
     "execution_count": 5,
     "metadata": {},
     "output_type": "execute_result"
    }
   ],
   "source": [
    "type(ppl)"
   ]
  },
  {
   "cell_type": "code",
   "execution_count": 6,
   "id": "ba74185c-d82a-463c-b535-e37d01eecf97",
   "metadata": {},
   "outputs": [
    {
     "name": "stdout",
     "output_type": "stream",
     "text": [
      "root\n",
      " |-- age: long (nullable = true)\n",
      " |-- name: string (nullable = true)\n",
      " |-- pcode: string (nullable = true)\n",
      "\n"
     ]
    }
   ],
   "source": [
    "ppl.printSchema()"
   ]
  },
  {
   "cell_type": "code",
   "execution_count": 7,
   "id": "76581d4a-78ff-4cf2-88f0-004a0a0eb238",
   "metadata": {},
   "outputs": [
    {
     "data": {
      "text/plain": [
       "['age', 'name', 'pcode']"
      ]
     },
     "execution_count": 7,
     "metadata": {},
     "output_type": "execute_result"
    }
   ],
   "source": [
    "ppl.columns"
   ]
  },
  {
   "cell_type": "code",
   "execution_count": 8,
   "id": "d3f11154-c7da-4a1f-bfe7-7c111792a7db",
   "metadata": {},
   "outputs": [
    {
     "name": "stdout",
     "output_type": "stream",
     "text": [
      "+----+-------+-----+\n",
      "| age|   name|pcode|\n",
      "+----+-------+-----+\n",
      "|null|  Alice|94304|\n",
      "|  30|Brayden|94304|\n",
      "|  19|  Carla|10036|\n",
      "|  46|  Diana| null|\n",
      "|null|Etienne|94104|\n",
      "+----+-------+-----+\n",
      "\n"
     ]
    }
   ],
   "source": [
    "ppl.show()"
   ]
  },
  {
   "cell_type": "code",
   "execution_count": 9,
   "id": "17a5a786-881b-4f85-ae1a-f5bbf8e5d310",
   "metadata": {},
   "outputs": [
    {
     "data": {
      "text/plain": [
       "StructType(List(StructField(age,LongType,true),StructField(name,StringType,true),StructField(pcode,StringType,true)))"
      ]
     },
     "execution_count": 9,
     "metadata": {},
     "output_type": "execute_result"
    }
   ],
   "source": [
    "ppl.schema"
   ]
  },
  {
   "cell_type": "code",
   "execution_count": 10,
   "id": "7177e3e0-a600-467c-af3d-89e6cced26fe",
   "metadata": {},
   "outputs": [
    {
     "data": {
      "text/plain": [
       "[Row(age=None, name='Alice', pcode='94304'),\n",
       " Row(age=30, name='Brayden', pcode='94304'),\n",
       " Row(age=19, name='Carla', pcode='10036'),\n",
       " Row(age=46, name='Diana', pcode=None),\n",
       " Row(age=None, name='Etienne', pcode='94104')]"
      ]
     },
     "execution_count": 10,
     "metadata": {},
     "output_type": "execute_result"
    }
   ],
   "source": [
    "ppl.collect()"
   ]
  },
  {
   "cell_type": "code",
   "execution_count": 11,
   "id": "017a0c49-8b44-4daa-9350-37fe1c58393c",
   "metadata": {},
   "outputs": [],
   "source": [
    "ppl = spark.read.format('JSON').load('pysparkasset/people.json')"
   ]
  },
  {
   "cell_type": "code",
   "execution_count": 7,
   "id": "37bfb732-4c69-47c2-bfc6-82aa68fa2643",
   "metadata": {},
   "outputs": [],
   "source": [
    "ac_par = spark.read.format('parquet').load('accounts_parquet')"
   ]
  },
  {
   "cell_type": "code",
   "execution_count": 13,
   "id": "e94a975f-7eac-48ee-a1cf-60d23f5f5f07",
   "metadata": {},
   "outputs": [
    {
     "name": "stdout",
     "output_type": "stream",
     "text": [
      "+--------+--------------+-------------+----------+---------+--------------------+-------------+-----+-------+------------+-------------+-------------+\n",
      "|acct_num|acct_create_dt|acct_close_dt|first_name|last_name|             address|         city|state|zipcode|phone_number|      created|     modified|\n",
      "+--------+--------------+-------------+----------+---------+--------------------+-------------+-----+-------+------------+-------------+-------------+\n",
      "|   32441| 1341603329000|         null|     Peter|  Zachary|  1891 Jessie Street|   Long Beach|   CA|  90743|  5628719002|1395174646000|1395174646000|\n",
      "|   32442| 1345273687000|         null|     Duane|     Ruiz| 1023 Simpson Street|     Pasadena|   CA|  91051|  6262472463|1395174646000|1395174646000|\n",
      "|   32443| 1347189332000|         null|   Desiree|    Beall|    4830 Davis Place|         Reno|   NV|  89468|  7758006922|1395174646000|1395174646000|\n",
      "|   32444| 1353649861000|         null|     Molly|   Pinder|    708 Locust Court|    Las Vegas|   NV|  89103|  7024413066|1395174646000|1395174646000|\n",
      "|   32445| 1331819465000|         null|   Melissa|  Carlson|  3842 Paradise Lane|     Torrance|   CA|  90502|  4249518440|1395174646000|1395174646000|\n",
      "|   32446| 1336860950000|1391870430000|    Oliver|    Olson|3684 Raoul Wallen...|San Francisco|   CA|  94066|  4156605386|1395174646000|1395174646000|\n",
      "|   32447| 1342578469000|         null|       Ben|McFarlane|    1574 Maloy Court|   Sacramento|   CA|  94211|  9168121038|1395174646000|1395174646000|\n",
      "|   32448| 1350883104000|         null|   Barbara|  McClure|      2902 Haul Road|       Tucson|   AZ|  85717|  9282210377|1395174646000|1395174646000|\n",
      "|   32449| 1333225574000|         null| Christina|    Smith|  2808 Ritter Avenue|    San Diego|   CA|  92139|  6197724137|1395174646000|1395174646000|\n",
      "|   32450| 1341361160000|1391664800000|      Jake|    Weber|2264 Lodgeville Road|       Eureka|   CA|  95559|  7073783873|1395174646000|1395174646000|\n",
      "|   32451| 1329524457000|         null|    Johnny|  Rodgers|  3471 Joseph Street|   Sacramento|   CA|  95734|  9165124138|1395174646000|1395174646000|\n",
      "|   32452| 1348532412000|         null|     Buddy|  Pinkard|   2913 Clair Street|    Las Vegas|   NV|  89167|  7028322546|1395174646000|1395174646000|\n",
      "|   32453| 1327154730000|         null|     Tommy|    Jones| 3730 Orchard Street|         Reno|   NV|  89497|  7754007303|1395174646000|1395174646000|\n",
      "|   32454| 1335835131000|         null|   Deborah|   Eslick|1237 Michigan Avenue|       Eugene|   OR|  97434|  5414288335|1395174646000|1395174646000|\n",
      "|   32455| 1327343339000|         null|      Rita|Rodriguez|  1320 Spring Street|   Sacramento|   CA|  95707|  9161471136|1395174646000|1395174646000|\n",
      "|   32456| 1351503504000|1385039620000| Elizabeth|   Wilson|1687 Olen Thomas ...|     Alhambra|   CA|  91850|  6261996793|1395174646000|1395174646000|\n",
      "|   32457| 1327221999000|         null|    Bobbie|    Smith|    2324 Reel Avenue|  Bakersfield|   CA|  93239|  6617991392|1395174646000|1395174646000|\n",
      "|   32458| 1345933516000|1392526106000|   Cynthia|   Norton|    1405 Tipple Road|    Santa Ana|   CA|  92742|  6571302001|1395174646000|1395174646000|\n",
      "|   32459| 1355835567000|         null|     Wanda| Ferguson| 948 Melville Street|      Salinas|   CA|  93906|  8319867172|1395174646000|1395174646000|\n",
      "|   32460| 1355368641000|1384107485000|    Carole|    Jones|  1690 Bicetown Road|     Glendale|   CA|  91245|  7472938800|1395174646000|1395174646000|\n",
      "+--------+--------------+-------------+----------+---------+--------------------+-------------+-----+-------+------------+-------------+-------------+\n",
      "only showing top 20 rows\n",
      "\n"
     ]
    }
   ],
   "source": [
    "ac_par.show()"
   ]
  },
  {
   "cell_type": "code",
   "execution_count": 8,
   "id": "62ee00f9-5cd3-4e6e-8e10-bd6a5f77d961",
   "metadata": {},
   "outputs": [
    {
     "data": {
      "text/plain": [
       "StructType(List(StructField(acct_num,IntegerType,true),StructField(acct_create_dt,LongType,true),StructField(acct_close_dt,LongType,true),StructField(first_name,StringType,true),StructField(last_name,StringType,true),StructField(address,StringType,true),StructField(city,StringType,true),StructField(state,StringType,true),StructField(zipcode,StringType,true),StructField(phone_number,StringType,true),StructField(created,LongType,true),StructField(modified,LongType,true)))"
      ]
     },
     "execution_count": 8,
     "metadata": {},
     "output_type": "execute_result"
    }
   ],
   "source": [
    "ac_par.schema"
   ]
  },
  {
   "cell_type": "code",
   "execution_count": 15,
   "id": "eb5d4d4c-b42e-4a2b-8228-2a8a723a3c62",
   "metadata": {},
   "outputs": [
    {
     "name": "stdout",
     "output_type": "stream",
     "text": [
      "root\n",
      " |-- acct_num: integer (nullable = true)\n",
      " |-- acct_create_dt: long (nullable = true)\n",
      " |-- acct_close_dt: long (nullable = true)\n",
      " |-- first_name: string (nullable = true)\n",
      " |-- last_name: string (nullable = true)\n",
      " |-- address: string (nullable = true)\n",
      " |-- city: string (nullable = true)\n",
      " |-- state: string (nullable = true)\n",
      " |-- zipcode: string (nullable = true)\n",
      " |-- phone_number: string (nullable = true)\n",
      " |-- created: long (nullable = true)\n",
      " |-- modified: long (nullable = true)\n",
      "\n"
     ]
    }
   ],
   "source": [
    "ac_par.printSchema()"
   ]
  },
  {
   "cell_type": "code",
   "execution_count": 16,
   "id": "efd462c9-bf96-421c-ac65-042000cc7d0b",
   "metadata": {},
   "outputs": [],
   "source": [
    "latlon = spark.read.csv('latlonschema.txt', sep='\\t', header=False, inferSchema=True)"
   ]
  },
  {
   "cell_type": "code",
   "execution_count": 17,
   "id": "d0f9d324-91d0-4728-93e7-9c8ca7b36776",
   "metadata": {},
   "outputs": [
    {
     "name": "stdout",
     "output_type": "stream",
     "text": [
      "root\n",
      " |-- _c0: integer (nullable = true)\n",
      " |-- _c1: double (nullable = true)\n",
      " |-- _c2: double (nullable = true)\n",
      "\n"
     ]
    }
   ],
   "source": [
    "latlon.printSchema()"
   ]
  },
  {
   "cell_type": "code",
   "execution_count": 18,
   "id": "04958115-6076-49a7-9095-29c8db3f5648",
   "metadata": {},
   "outputs": [
    {
     "name": "stdout",
     "output_type": "stream",
     "text": [
      "+----+---------+----------+\n",
      "| _c0|      _c1|       _c2|\n",
      "+----+---------+----------+\n",
      "| 210|43.005895|-71.013202|\n",
      "| 211|43.005895|-71.013202|\n",
      "| 212|43.005895|-71.013202|\n",
      "| 213|43.005895|-71.013202|\n",
      "| 214|43.005895|-71.013202|\n",
      "| 215|43.005895|-71.013202|\n",
      "| 501|40.922326|-72.637078|\n",
      "| 544|40.922326|-72.637078|\n",
      "|1001| 42.07061| -72.62029|\n",
      "|1002|42.377651| -72.50323|\n",
      "|1003|42.369562| -72.63599|\n",
      "|1004|42.384494|-72.513183|\n",
      "|1005|42.412094| -72.10443|\n",
      "|1007|42.278424|   -72.411|\n",
      "|1008|42.174313| -72.94828|\n",
      "|1009|42.206092|-72.340486|\n",
      "|1010|42.126038| -72.20552|\n",
      "|1011|42.271442| -73.01958|\n",
      "|1012|42.390836| -72.84356|\n",
      "|1013|42.161492| -72.60316|\n",
      "+----+---------+----------+\n",
      "only showing top 20 rows\n",
      "\n"
     ]
    }
   ],
   "source": [
    "latlon.show()"
   ]
  },
  {
   "cell_type": "code",
   "execution_count": 19,
   "id": "0423b5cd-f22f-4c08-b48c-d521e54423b7",
   "metadata": {},
   "outputs": [],
   "source": [
    "latlon = latlon.selectExpr(\"_c0 as City\", \"_c1 as Latitude\", \"_c2 as Longitude\")"
   ]
  },
  {
   "cell_type": "code",
   "execution_count": 20,
   "id": "c8e906e3-7757-4e29-835c-d3aab8fb2093",
   "metadata": {},
   "outputs": [
    {
     "name": "stdout",
     "output_type": "stream",
     "text": [
      "+----+---------+----------+\n",
      "|City| Latitude| Longitude|\n",
      "+----+---------+----------+\n",
      "| 210|43.005895|-71.013202|\n",
      "| 211|43.005895|-71.013202|\n",
      "| 212|43.005895|-71.013202|\n",
      "| 213|43.005895|-71.013202|\n",
      "| 214|43.005895|-71.013202|\n",
      "| 215|43.005895|-71.013202|\n",
      "| 501|40.922326|-72.637078|\n",
      "| 544|40.922326|-72.637078|\n",
      "|1001| 42.07061| -72.62029|\n",
      "|1002|42.377651| -72.50323|\n",
      "|1003|42.369562| -72.63599|\n",
      "|1004|42.384494|-72.513183|\n",
      "|1005|42.412094| -72.10443|\n",
      "|1007|42.278424|   -72.411|\n",
      "|1008|42.174313| -72.94828|\n",
      "|1009|42.206092|-72.340486|\n",
      "|1010|42.126038| -72.20552|\n",
      "|1011|42.271442| -73.01958|\n",
      "|1012|42.390836| -72.84356|\n",
      "|1013|42.161492| -72.60316|\n",
      "+----+---------+----------+\n",
      "only showing top 20 rows\n",
      "\n"
     ]
    }
   ],
   "source": [
    "latlon.show()"
   ]
  },
  {
   "cell_type": "markdown",
   "id": "cfb4a658-eac1-4591-9901-1013511cec82",
   "metadata": {},
   "source": [
    "### another method"
   ]
  },
  {
   "cell_type": "code",
   "execution_count": 21,
   "id": "788375d4-cae1-44bc-9bed-8ecd5f2296b8",
   "metadata": {},
   "outputs": [],
   "source": [
    "from pyspark.sql.types import *"
   ]
  },
  {
   "cell_type": "code",
   "execution_count": 22,
   "id": "1e0cf4ef-66d4-4c9a-bcff-8451f95baf0d",
   "metadata": {},
   "outputs": [],
   "source": [
    "sch = StructType([\\\n",
    "                  StructField(\"CityCode\",IntegerType(),True),\\\n",
    "                  StructField(\"Lattitude\",DoubleType(),True),\\\n",
    "                  StructField(\"Longitude\",DoubleType(),True)\\\n",
    "                 ])"
   ]
  },
  {
   "cell_type": "code",
   "execution_count": 23,
   "id": "d78dfadf-7b3b-4529-adbf-77103a343eb6",
   "metadata": {},
   "outputs": [],
   "source": [
    "cord = spark.read.csv(\"latlonschema.txt\", schema=sch, sep='\\t')"
   ]
  },
  {
   "cell_type": "code",
   "execution_count": 24,
   "id": "63ecc780-24a2-4863-baa1-8d601ebe9844",
   "metadata": {},
   "outputs": [
    {
     "name": "stdout",
     "output_type": "stream",
     "text": [
      "root\n",
      " |-- CityCode: integer (nullable = true)\n",
      " |-- Lattitude: double (nullable = true)\n",
      " |-- Longitude: double (nullable = true)\n",
      "\n"
     ]
    }
   ],
   "source": [
    "cord.printSchema()"
   ]
  },
  {
   "cell_type": "code",
   "execution_count": 25,
   "id": "bc1996d5-c545-4d92-90b7-3cfbc68b5b8d",
   "metadata": {},
   "outputs": [
    {
     "name": "stdout",
     "output_type": "stream",
     "text": [
      "+--------+---------+----------+\n",
      "|CityCode|Lattitude| Longitude|\n",
      "+--------+---------+----------+\n",
      "|     210|43.005895|-71.013202|\n",
      "|     211|43.005895|-71.013202|\n",
      "|     212|43.005895|-71.013202|\n",
      "+--------+---------+----------+\n",
      "only showing top 3 rows\n",
      "\n"
     ]
    }
   ],
   "source": [
    "cord.show(3)"
   ]
  },
  {
   "cell_type": "code",
   "execution_count": 26,
   "id": "5b398fbe-e3f5-48e1-a13b-c61a8cd5b978",
   "metadata": {},
   "outputs": [
    {
     "name": "stdout",
     "output_type": "stream",
     "text": [
      "root\n",
      " |-- acct_num: integer (nullable = true)\n",
      " |-- acct_create_dt: long (nullable = true)\n",
      " |-- acct_close_dt: long (nullable = true)\n",
      " |-- first_name: string (nullable = true)\n",
      " |-- last_name: string (nullable = true)\n",
      " |-- address: string (nullable = true)\n",
      " |-- city: string (nullable = true)\n",
      " |-- state: string (nullable = true)\n",
      " |-- zipcode: string (nullable = true)\n",
      " |-- phone_number: string (nullable = true)\n",
      " |-- created: long (nullable = true)\n",
      " |-- modified: long (nullable = true)\n",
      "\n"
     ]
    }
   ],
   "source": [
    "ac_par.printSchema()"
   ]
  },
  {
   "cell_type": "code",
   "execution_count": 27,
   "id": "38225b73-80f4-4bdd-ad24-9526bc3554da",
   "metadata": {},
   "outputs": [
    {
     "name": "stderr",
     "output_type": "stream",
     "text": [
      "                                                                                \r"
     ]
    }
   ],
   "source": [
    "ac_par.write.format('csv').partitionBy('state').save('account_parquet_csv')"
   ]
  },
  {
   "cell_type": "code",
   "execution_count": 28,
   "id": "e5748b1f-1178-4243-b3a0-aef2463930dc",
   "metadata": {},
   "outputs": [
    {
     "name": "stdout",
     "output_type": "stream",
     "text": [
      "+--------+--------------+-------------+----------+---------+-------------------+----------+-----+-------+------------+-------------+-------------+\n",
      "|acct_num|acct_create_dt|acct_close_dt|first_name|last_name|            address|      city|state|zipcode|phone_number|      created|     modified|\n",
      "+--------+--------------+-------------+----------+---------+-------------------+----------+-----+-------+------------+-------------+-------------+\n",
      "|   32441| 1341603329000|         null|     Peter|  Zachary| 1891 Jessie Street|Long Beach|   CA|  90743|  5628719002|1395174646000|1395174646000|\n",
      "|   32442| 1345273687000|         null|     Duane|     Ruiz|1023 Simpson Street|  Pasadena|   CA|  91051|  6262472463|1395174646000|1395174646000|\n",
      "|   32443| 1347189332000|         null|   Desiree|    Beall|   4830 Davis Place|      Reno|   NV|  89468|  7758006922|1395174646000|1395174646000|\n",
      "+--------+--------------+-------------+----------+---------+-------------------+----------+-----+-------+------------+-------------+-------------+\n",
      "only showing top 3 rows\n",
      "\n"
     ]
    }
   ],
   "source": [
    "ac_par.show(3)"
   ]
  },
  {
   "cell_type": "code",
   "execution_count": 29,
   "id": "864d03d9-5db6-41c4-8a27-9f59e79eb656",
   "metadata": {},
   "outputs": [
    {
     "name": "stdout",
     "output_type": "stream",
     "text": [
      "root\n",
      " |-- age: long (nullable = true)\n",
      " |-- name: string (nullable = true)\n",
      " |-- pcode: string (nullable = true)\n",
      "\n"
     ]
    }
   ],
   "source": [
    "ppl.printSchema()"
   ]
  },
  {
   "cell_type": "code",
   "execution_count": 30,
   "id": "6fa403c7-5c32-407e-b26e-50d3a1fc73e6",
   "metadata": {},
   "outputs": [],
   "source": [
    "res = ppl.select('name')"
   ]
  },
  {
   "cell_type": "code",
   "execution_count": 32,
   "id": "d92bee20-aff4-40e9-bfb9-b6ee9c5ead83",
   "metadata": {},
   "outputs": [
    {
     "name": "stdout",
     "output_type": "stream",
     "text": [
      "+-------+\n",
      "|   name|\n",
      "+-------+\n",
      "|  Alice|\n",
      "|Brayden|\n",
      "|  Carla|\n",
      "|  Diana|\n",
      "|Etienne|\n",
      "+-------+\n",
      "\n"
     ]
    }
   ],
   "source": [
    "res.show()"
   ]
  },
  {
   "cell_type": "code",
   "execution_count": 33,
   "id": "d45c3286-637c-42b1-8a83-dbcf782440ea",
   "metadata": {},
   "outputs": [],
   "source": [
    "res = ppl.select(ppl.age)"
   ]
  },
  {
   "cell_type": "code",
   "execution_count": 34,
   "id": "3178d0e5-e3ac-4f08-a422-9cf1123c357c",
   "metadata": {},
   "outputs": [
    {
     "name": "stdout",
     "output_type": "stream",
     "text": [
      "+----+\n",
      "| age|\n",
      "+----+\n",
      "|null|\n",
      "|  30|\n",
      "|  19|\n",
      "|  46|\n",
      "|null|\n",
      "+----+\n",
      "\n"
     ]
    }
   ],
   "source": [
    "res.show()"
   ]
  },
  {
   "cell_type": "markdown",
   "id": "b19b212d-d07b-46e0-bfd6-958808e56124",
   "metadata": {},
   "source": [
    "### Projection"
   ]
  },
  {
   "cell_type": "code",
   "execution_count": 35,
   "id": "015b9f91-8fff-480c-9dce-086447ac5640",
   "metadata": {},
   "outputs": [
    {
     "name": "stdout",
     "output_type": "stream",
     "text": [
      "+-------+----+\n",
      "|   name| age|\n",
      "+-------+----+\n",
      "|  Alice|null|\n",
      "|Brayden|  30|\n",
      "|  Carla|  19|\n",
      "|  Diana|  46|\n",
      "|Etienne|null|\n",
      "+-------+----+\n",
      "\n"
     ]
    }
   ],
   "source": [
    "ppl.select('name','age').show()"
   ]
  },
  {
   "cell_type": "markdown",
   "id": "fc1e127e-4281-4961-8baa-25753574c5ea",
   "metadata": {},
   "source": [
    "### Selection"
   ]
  },
  {
   "cell_type": "code",
   "execution_count": 38,
   "id": "b81fa7d0-8863-4409-abb2-f4c5246361af",
   "metadata": {},
   "outputs": [
    {
     "name": "stdout",
     "output_type": "stream",
     "text": [
      "+---+-------+-----+\n",
      "|age|   name|pcode|\n",
      "+---+-------+-----+\n",
      "| 30|Brayden|94304|\n",
      "| 46|  Diana| null|\n",
      "+---+-------+-----+\n",
      "\n"
     ]
    }
   ],
   "source": [
    "ppl.where(ppl.age>=30).show()"
   ]
  },
  {
   "cell_type": "code",
   "execution_count": 39,
   "id": "87a5c07f-aa92-4fd3-a4fb-9e57fe1303d5",
   "metadata": {},
   "outputs": [
    {
     "name": "stdout",
     "output_type": "stream",
     "text": [
      "+-------+\n",
      "|   name|\n",
      "+-------+\n",
      "|Brayden|\n",
      "|  Diana|\n",
      "+-------+\n",
      "\n"
     ]
    }
   ],
   "source": [
    "ppl.where(ppl.age>=30).select(ppl.name).show()"
   ]
  },
  {
   "cell_type": "code",
   "execution_count": 44,
   "id": "d801dc34-b6d5-45e1-8d5d-d3b5c5401832",
   "metadata": {},
   "outputs": [
    {
     "name": "stdout",
     "output_type": "stream",
     "text": [
      "+----+-------+-----+\n",
      "| age|   name|pcode|\n",
      "+----+-------+-----+\n",
      "|null|  Alice|94304|\n",
      "|null|Etienne|94104|\n",
      "|  19|  Carla|10036|\n",
      "|  30|Brayden|94304|\n",
      "|  46|  Diana| null|\n",
      "+----+-------+-----+\n",
      "\n"
     ]
    }
   ],
   "source": [
    "ppl.orderBy(ppl.age.asc()).show()"
   ]
  },
  {
   "cell_type": "code",
   "execution_count": 49,
   "id": "265b8890-db1c-4ca0-89c5-d72853e2d4a8",
   "metadata": {},
   "outputs": [
    {
     "name": "stdout",
     "output_type": "stream",
     "text": [
      "+----+-------+-----+\n",
      "| age|   name|pcode|\n",
      "+----+-------+-----+\n",
      "|  19|  Carla|10036|\n",
      "|  30|Brayden|94304|\n",
      "|  46|  Diana| null|\n",
      "|null|  Alice|94304|\n",
      "|null|Etienne|94104|\n",
      "+----+-------+-----+\n",
      "\n"
     ]
    }
   ],
   "source": [
    "ppl.orderBy(ppl.age.asc_nulls_last()).show()"
   ]
  },
  {
   "cell_type": "code",
   "execution_count": 48,
   "id": "4276c64c-2c6d-4298-9c4a-05349b3f379b",
   "metadata": {},
   "outputs": [
    {
     "name": "stdout",
     "output_type": "stream",
     "text": [
      "+----+-------+-----+\n",
      "| age|   name|pcode|\n",
      "+----+-------+-----+\n",
      "|null|  Alice|94304|\n",
      "|null|Etienne|94104|\n",
      "|  19|  Carla|10036|\n",
      "|  30|Brayden|94304|\n",
      "|  46|  Diana| null|\n",
      "+----+-------+-----+\n",
      "\n"
     ]
    }
   ],
   "source": [
    "ppl.orderBy(ppl.age.asc_nulls_first()).show()"
   ]
  },
  {
   "cell_type": "code",
   "execution_count": 45,
   "id": "6d967687-bb36-43e1-891a-af38e66dcbeb",
   "metadata": {},
   "outputs": [
    {
     "name": "stdout",
     "output_type": "stream",
     "text": [
      "+----+-------+-----+\n",
      "| age|   name|pcode|\n",
      "+----+-------+-----+\n",
      "|  46|  Diana| null|\n",
      "|  30|Brayden|94304|\n",
      "|  19|  Carla|10036|\n",
      "|null|  Alice|94304|\n",
      "|null|Etienne|94104|\n",
      "+----+-------+-----+\n",
      "\n"
     ]
    }
   ],
   "source": [
    "ppl.orderBy(ppl.age.desc()).show()"
   ]
  },
  {
   "cell_type": "code",
   "execution_count": 46,
   "id": "946ee547-975b-4345-b498-917835d190b1",
   "metadata": {},
   "outputs": [
    {
     "name": "stdout",
     "output_type": "stream",
     "text": [
      "+----+-------+-----+\n",
      "| age|   name|pcode|\n",
      "+----+-------+-----+\n",
      "|null|  Alice|94304|\n",
      "|null|Etienne|94104|\n",
      "|  46|  Diana| null|\n",
      "|  30|Brayden|94304|\n",
      "|  19|  Carla|10036|\n",
      "+----+-------+-----+\n",
      "\n"
     ]
    }
   ],
   "source": [
    "ppl.orderBy(ppl.age.desc_nulls_first()).show()"
   ]
  },
  {
   "cell_type": "code",
   "execution_count": 47,
   "id": "bdc2ff35-707d-4523-8558-2ea55bc98034",
   "metadata": {},
   "outputs": [
    {
     "name": "stdout",
     "output_type": "stream",
     "text": [
      "+----+-------+-----+\n",
      "| age|   name|pcode|\n",
      "+----+-------+-----+\n",
      "|  46|  Diana| null|\n",
      "|  30|Brayden|94304|\n",
      "|  19|  Carla|10036|\n",
      "|null|  Alice|94304|\n",
      "|null|Etienne|94104|\n",
      "+----+-------+-----+\n",
      "\n"
     ]
    }
   ],
   "source": [
    "ppl.orderBy(ppl.age.desc_nulls_last()).show()"
   ]
  },
  {
   "cell_type": "code",
   "execution_count": 51,
   "id": "3e1fd1a3-5472-4687-be9b-e6c97f25746d",
   "metadata": {},
   "outputs": [
    {
     "name": "stdout",
     "output_type": "stream",
     "text": [
      "+----+-------+-----+\n",
      "| age|   name|pcode|\n",
      "+----+-------+-----+\n",
      "|  30|Brayden|94304|\n",
      "|null|  Alice|94304|\n",
      "|null|Etienne|94104|\n",
      "|  19|  Carla|10036|\n",
      "|  46|  Diana| null|\n",
      "+----+-------+-----+\n",
      "\n"
     ]
    }
   ],
   "source": [
    "ppl.orderBy(ppl.pcode.desc(), ppl.name.desc()).show()"
   ]
  },
  {
   "cell_type": "code",
   "execution_count": 64,
   "id": "266e4b41-59fe-47c7-bd95-d8a02a3177e2",
   "metadata": {},
   "outputs": [],
   "source": [
    "ac_par_count = ac_par.groupBy(ac_par.state).count()"
   ]
  },
  {
   "cell_type": "code",
   "execution_count": 65,
   "id": "f8a063e4-a20f-4bdd-bbd2-16c34236cd9f",
   "metadata": {},
   "outputs": [
    {
     "name": "stdout",
     "output_type": "stream",
     "text": [
      "+-----+-----+\n",
      "|state|count|\n",
      "+-----+-----+\n",
      "|   AZ| 8614|\n",
      "|   OR|10166|\n",
      "|   NV| 8093|\n",
      "|   CA|70447|\n",
      "+-----+-----+\n",
      "\n"
     ]
    }
   ],
   "source": [
    "ac_par_count.show()"
   ]
  },
  {
   "cell_type": "code",
   "execution_count": 67,
   "id": "02444d57-a578-4d90-81d5-ea1e4befc92a",
   "metadata": {},
   "outputs": [
    {
     "name": "stdout",
     "output_type": "stream",
     "text": [
      "+-----+---------------+-----+\n",
      "|state|           city|count|\n",
      "+-----+---------------+-----+\n",
      "|   CA|        Oakland| 2718|\n",
      "|   CA|       Stockton| 2536|\n",
      "|   AZ|      Flagstaff|  804|\n",
      "|   CA|     Long Beach| 3380|\n",
      "|   NV|      Las Vegas| 3066|\n",
      "|   AZ|        Phoenix| 3142|\n",
      "|   OR|         Eugene| 1162|\n",
      "|   CA|       Torrance| 1071|\n",
      "|   CA|North Hollywood| 1126|\n",
      "|   CA|       San Jose| 2550|\n",
      "|   CA|      Palo Alto| 1372|\n",
      "|   CA|       Richmond| 1361|\n",
      "|   AZ|        Kingman|  795|\n",
      "|   CA|       Alhambra| 1106|\n",
      "|   NV|            Ely|  987|\n",
      "|   CA|         Fresno| 3342|\n",
      "|   CA|       Berkeley| 1310|\n",
      "|   CA|     Marysville| 1292|\n",
      "|   NV|           Elko| 1001|\n",
      "|   CA|         Oxnard| 1145|\n",
      "+-----+---------------+-----+\n",
      "only showing top 20 rows\n",
      "\n"
     ]
    }
   ],
   "source": [
    "ac_par.groupBy('state','city').count().show()"
   ]
  },
  {
   "cell_type": "code",
   "execution_count": 66,
   "id": "888432b3-0007-41f3-8a3d-5c33b72df3d7",
   "metadata": {},
   "outputs": [
    {
     "name": "stderr",
     "output_type": "stream",
     "text": [
      "[Stage 68:>                                                         (0 + 3) / 3]\r"
     ]
    },
    {
     "name": "stdout",
     "output_type": "stream",
     "text": [
      "+-------+------------------+--------------------+--------------------+----------+---------+----------------+--------+-----+------------------+--------------------+--------------------+-------------------+\n",
      "|summary|          acct_num|      acct_create_dt|       acct_close_dt|first_name|last_name|         address|    city|state|           zipcode|        phone_number|             created|           modified|\n",
      "+-------+------------------+--------------------+--------------------+----------+---------+----------------+--------+-----+------------------+--------------------+--------------------+-------------------+\n",
      "|  count|             97320|               97320|               34451|     97320|    97320|           97320|   97320|97320|             97320|               97320|               97320|              97320|\n",
      "|   mean|           48660.5|1.334620364141543...|1.386071826552059...|      null|     null|            null|    null| null|  92655.5422729141|6.4773899803270035E9|1.395174678845869...|1.39517467884589E12|\n",
      "| stddev|28094.008435963708|3.340818399296278...|1.363291740001203E10|      null|     null|            null|    null| null|3179.0930926230585| 1.949175108965876E9|   54055.01476833517|  54055.03844684006|\n",
      "|    min|                 1|       1224585351000|       1232834851000|     Aaron|    Aaron|   1 Andell Road|Alhambra|   AZ|             85000|          2090005703|       1395174587000|      1395174587000|\n",
      "|    max|             97320|       1383288290000|       1394866681000|    Zulema|    Zwick|999 Terra Street|Van Nuys|   OR|             97898|          9519997413|       1395174771000|      1395174771000|\n",
      "+-------+------------------+--------------------+--------------------+----------+---------+----------------+--------+-----+------------------+--------------------+--------------------+-------------------+\n",
      "\n"
     ]
    },
    {
     "name": "stderr",
     "output_type": "stream",
     "text": [
      "                                                                                \r"
     ]
    }
   ],
   "source": [
    "ac_par.describe().show()"
   ]
  },
  {
   "cell_type": "code",
   "execution_count": 69,
   "id": "0c1a7b81-3dc2-440d-b04c-0af2e1c452d2",
   "metadata": {},
   "outputs": [],
   "source": [
    "ppl1 = ppl.withColumn(\"newAge\",ppl.age+10)"
   ]
  },
  {
   "cell_type": "code",
   "execution_count": 71,
   "id": "bf87bbf1-300f-4dd7-becf-6f9ca8060dc5",
   "metadata": {},
   "outputs": [
    {
     "name": "stdout",
     "output_type": "stream",
     "text": [
      "+----+-------+-----+------+\n",
      "| age|   name|pcode|newAge|\n",
      "+----+-------+-----+------+\n",
      "|null|  Alice|94304|  null|\n",
      "|  30|Brayden|94304|    40|\n",
      "|  19|  Carla|10036|    29|\n",
      "|  46|  Diana| null|    56|\n",
      "|null|Etienne|94104|  null|\n",
      "+----+-------+-----+------+\n",
      "\n"
     ]
    }
   ],
   "source": [
    "ppl1.show()"
   ]
  },
  {
   "cell_type": "code",
   "execution_count": 75,
   "id": "ce218890-2174-4a68-afb9-bede292b5d7e",
   "metadata": {},
   "outputs": [],
   "source": [
    "pp2 = ppl1.withColumnRenamed(\"newAge\",\"old\")"
   ]
  },
  {
   "cell_type": "code",
   "execution_count": 76,
   "id": "a3fe0e76-8640-4c0a-842c-a4b29f50ce47",
   "metadata": {},
   "outputs": [
    {
     "name": "stdout",
     "output_type": "stream",
     "text": [
      "+----+-------+-----+----+\n",
      "| age|   name|pcode| old|\n",
      "+----+-------+-----+----+\n",
      "|null|  Alice|94304|null|\n",
      "|  30|Brayden|94304|  40|\n",
      "|  19|  Carla|10036|  29|\n",
      "|  46|  Diana| null|  56|\n",
      "|null|Etienne|94104|null|\n",
      "+----+-------+-----+----+\n",
      "\n"
     ]
    }
   ],
   "source": [
    "pp2.show()"
   ]
  },
  {
   "cell_type": "code",
   "execution_count": 77,
   "id": "8a0a81bb-cc79-441d-b75b-c45c4b66b8b3",
   "metadata": {},
   "outputs": [
    {
     "name": "stdout",
     "output_type": "stream",
     "text": [
      "+---+-------+-----+---+\n",
      "|age|   name|pcode|old|\n",
      "+---+-------+-----+---+\n",
      "| 30|Brayden|94304| 40|\n",
      "| 19|  Carla|10036| 29|\n",
      "+---+-------+-----+---+\n",
      "\n"
     ]
    }
   ],
   "source": [
    "pp2.na.drop().show()"
   ]
  },
  {
   "cell_type": "code",
   "execution_count": 79,
   "id": "6514a673-72c6-40af-ba8a-d222453d5586",
   "metadata": {},
   "outputs": [
    {
     "name": "stdout",
     "output_type": "stream",
     "text": [
      "+---+-------+-----+---+\n",
      "|age|   name|pcode|old|\n",
      "+---+-------+-----+---+\n",
      "| 30|Brayden|94304| 40|\n",
      "| 19|  Carla|10036| 29|\n",
      "| 46|  Diana| null| 56|\n",
      "+---+-------+-----+---+\n",
      "\n"
     ]
    }
   ],
   "source": [
    "pp2.na.drop(subset=['age']).show()"
   ]
  },
  {
   "cell_type": "code",
   "execution_count": 80,
   "id": "67fbf0ae-e99f-45c5-b74b-faba97380992",
   "metadata": {},
   "outputs": [
    {
     "name": "stdout",
     "output_type": "stream",
     "text": [
      "+---+-------+-----+---+\n",
      "|age|   name|pcode|old|\n",
      "+---+-------+-----+---+\n",
      "| 30|Brayden|94304| 40|\n",
      "| 19|  Carla|10036| 29|\n",
      "| 46|  Diana| null| 56|\n",
      "+---+-------+-----+---+\n",
      "\n"
     ]
    }
   ],
   "source": [
    "pp2.na.drop(thresh=3).show()"
   ]
  },
  {
   "cell_type": "code",
   "execution_count": 78,
   "id": "104aa950-d5d2-47a9-85a2-421bbfb976dc",
   "metadata": {},
   "outputs": [
    {
     "name": "stdout",
     "output_type": "stream",
     "text": [
      "+---+-------+-----+---+\n",
      "|age|   name|pcode|old|\n",
      "+---+-------+-----+---+\n",
      "| 23|  Alice|94304| 23|\n",
      "| 30|Brayden|94304| 40|\n",
      "| 19|  Carla|10036| 29|\n",
      "| 46|  Diana| null| 56|\n",
      "| 23|Etienne|94104| 23|\n",
      "+---+-------+-----+---+\n",
      "\n"
     ]
    }
   ],
   "source": [
    "pp2.na.fill(23).show()"
   ]
  },
  {
   "cell_type": "code",
   "execution_count": 82,
   "id": "980624a1-7acd-47f0-835b-51ab391d433a",
   "metadata": {},
   "outputs": [
    {
     "name": "stdout",
     "output_type": "stream",
     "text": [
      "+---+-------+-----+---+\n",
      "|age|   name|pcode|old|\n",
      "+---+-------+-----+---+\n",
      "|  0|  Alice|94304|  1|\n",
      "| 30|Brayden|94304| 40|\n",
      "| 19|  Carla|10036| 29|\n",
      "| 46|  Diana|    0| 56|\n",
      "|  0|Etienne|94104|  1|\n",
      "+---+-------+-----+---+\n",
      "\n"
     ]
    }
   ],
   "source": [
    "pp2.na.fill({'age':0,'old':1,'pcode':00000}).show()"
   ]
  },
  {
   "cell_type": "code",
   "execution_count": 86,
   "id": "c36a9bdf-9fd8-4c8c-b3e6-a603e980df9d",
   "metadata": {},
   "outputs": [
    {
     "name": "stdout",
     "output_type": "stream",
     "text": [
      "+----+-----------+-----+----+\n",
      "| age|       name|pcode| old|\n",
      "+----+-----------+-----+----+\n",
      "|null|Alice Smith|94304|null|\n",
      "|  30|    Brayden|94304|  40|\n",
      "|  19|      Carla|10036|  29|\n",
      "|  46|      Diana| null|  56|\n",
      "|null|    Etienne|94104|null|\n",
      "+----+-----------+-----+----+\n",
      "\n"
     ]
    }
   ],
   "source": [
    "pp2.replace('Alice','Alice Smith').show()"
   ]
  },
  {
   "cell_type": "code",
   "execution_count": 90,
   "id": "9b673bdd-5672-4395-9258-5bca4d877628",
   "metadata": {},
   "outputs": [],
   "source": [
    "pp2.createOrReplaceGlobalTempView('ppl2')"
   ]
  },
  {
   "cell_type": "code",
   "execution_count": 91,
   "id": "b5cfcca7-ec63-4e90-82ce-f20c3b3b98af",
   "metadata": {},
   "outputs": [
    {
     "name": "stdout",
     "output_type": "stream",
     "text": [
      "+-------+----+\n",
      "|   name| age|\n",
      "+-------+----+\n",
      "|  Alice|null|\n",
      "|Brayden|  30|\n",
      "|  Carla|  19|\n",
      "|  Diana|  46|\n",
      "|Etienne|null|\n",
      "+-------+----+\n",
      "\n"
     ]
    }
   ],
   "source": [
    "spark.sql('select name, age from ppl2').show()"
   ]
  },
  {
   "cell_type": "code",
   "execution_count": 94,
   "id": "7f2c0fcd-5937-4d36-ba25-74bb47c26141",
   "metadata": {},
   "outputs": [
    {
     "data": {
      "text/plain": [
       "[]"
      ]
     },
     "execution_count": 94,
     "metadata": {},
     "output_type": "execute_result"
    }
   ],
   "source": [
    "spark.catalog.listTables()"
   ]
  },
  {
   "cell_type": "code",
   "execution_count": 93,
   "id": "85f18d5c-e787-4572-8925-db9487b58d12",
   "metadata": {},
   "outputs": [],
   "source": [
    "spark.catalog.dropTempView(\"ppl2\")"
   ]
  },
  {
   "cell_type": "code",
   "execution_count": 96,
   "id": "1eb403ee-1d50-4322-8fcb-2be3cda45707",
   "metadata": {},
   "outputs": [],
   "source": [
    "ac_par.createTempView('acc_view')"
   ]
  },
  {
   "cell_type": "code",
   "execution_count": 97,
   "id": "fa330ef9-5252-4bf2-921d-3d10847e6db0",
   "metadata": {},
   "outputs": [],
   "source": [
    "df = spark.sql(\"select state, count(*) as cnt from acc_view group by state having cnt>4000\")"
   ]
  },
  {
   "cell_type": "code",
   "execution_count": 98,
   "id": "5e8c0bee-d69d-4cea-af16-245b78662d18",
   "metadata": {},
   "outputs": [
    {
     "name": "stdout",
     "output_type": "stream",
     "text": [
      "+-----+-----+\n",
      "|state|  cnt|\n",
      "+-----+-----+\n",
      "|   AZ| 8614|\n",
      "|   OR|10166|\n",
      "|   NV| 8093|\n",
      "|   CA|70447|\n",
      "+-----+-----+\n",
      "\n"
     ]
    }
   ],
   "source": [
    "df.show()"
   ]
  },
  {
   "cell_type": "code",
   "execution_count": 99,
   "id": "6a984394-5b66-49b3-bf2b-ee51c3958643",
   "metadata": {},
   "outputs": [
    {
     "name": "stdout",
     "output_type": "stream",
     "text": [
      "root\n",
      " |-- age: long (nullable = true)\n",
      " |-- name: string (nullable = true)\n",
      " |-- pcode: string (nullable = true)\n",
      "\n"
     ]
    }
   ],
   "source": [
    "ppl.printSchema()"
   ]
  },
  {
   "cell_type": "code",
   "execution_count": 100,
   "id": "df53b10d-78c4-48ae-aa89-606dc024dcdd",
   "metadata": {},
   "outputs": [
    {
     "name": "stdout",
     "output_type": "stream",
     "text": [
      "root\n",
      " |-- acct_num: integer (nullable = true)\n",
      " |-- acct_create_dt: long (nullable = true)\n",
      " |-- acct_close_dt: long (nullable = true)\n",
      " |-- first_name: string (nullable = true)\n",
      " |-- last_name: string (nullable = true)\n",
      " |-- address: string (nullable = true)\n",
      " |-- city: string (nullable = true)\n",
      " |-- state: string (nullable = true)\n",
      " |-- zipcode: string (nullable = true)\n",
      " |-- phone_number: string (nullable = true)\n",
      " |-- created: long (nullable = true)\n",
      " |-- modified: long (nullable = true)\n",
      "\n"
     ]
    }
   ],
   "source": [
    "ac_par.printSchema()"
   ]
  },
  {
   "cell_type": "code",
   "execution_count": 101,
   "id": "659ddc08-5dc6-4994-94e8-45223d2da7d4",
   "metadata": {},
   "outputs": [
    {
     "data": {
      "text/plain": [
       "5"
      ]
     },
     "execution_count": 101,
     "metadata": {},
     "output_type": "execute_result"
    }
   ],
   "source": [
    "ppl.count()"
   ]
  },
  {
   "cell_type": "code",
   "execution_count": 102,
   "id": "94b93e45-4581-418c-b710-64f432486a25",
   "metadata": {},
   "outputs": [
    {
     "data": {
      "text/plain": [
       "97320"
      ]
     },
     "execution_count": 102,
     "metadata": {},
     "output_type": "execute_result"
    }
   ],
   "source": [
    "ac_par.count()"
   ]
  },
  {
   "cell_type": "code",
   "execution_count": 104,
   "id": "0c4a817f-1f92-4ee0-bfb4-f289fd802719",
   "metadata": {},
   "outputs": [],
   "source": [
    "cj = ppl.crossJoin(ac_par)"
   ]
  },
  {
   "cell_type": "code",
   "execution_count": 105,
   "id": "189a14a7-0061-429f-aeab-946eba3be28c",
   "metadata": {},
   "outputs": [
    {
     "data": {
      "text/plain": [
       "486600"
      ]
     },
     "execution_count": 105,
     "metadata": {},
     "output_type": "execute_result"
    }
   ],
   "source": [
    "cj.count()"
   ]
  },
  {
   "cell_type": "code",
   "execution_count": 106,
   "id": "f5e807c6-da1b-4e5d-b5df-002d5762b776",
   "metadata": {},
   "outputs": [],
   "source": [
    "ij = ppl.join(ac_par, ppl.pcode==ac_par.zipcode,\"inner\")"
   ]
  },
  {
   "cell_type": "code",
   "execution_count": 108,
   "id": "81aa058c-6b91-473b-90b8-39382ae4c039",
   "metadata": {},
   "outputs": [
    {
     "data": {
      "text/plain": [
       "33"
      ]
     },
     "execution_count": 108,
     "metadata": {},
     "output_type": "execute_result"
    }
   ],
   "source": [
    "ij.count()"
   ]
  },
  {
   "cell_type": "code",
   "execution_count": 110,
   "id": "9a4b546d-7836-406c-b37d-b4f9cf55fcf1",
   "metadata": {},
   "outputs": [],
   "source": [
    "loj = ppl.join(ac_par, ppl.pcode==ac_par.zipcode,\"left\")"
   ]
  },
  {
   "cell_type": "code",
   "execution_count": 111,
   "id": "d3080e74-fefd-4431-a065-813b7a0da815",
   "metadata": {},
   "outputs": [
    {
     "data": {
      "text/plain": [
       "35"
      ]
     },
     "execution_count": 111,
     "metadata": {},
     "output_type": "execute_result"
    }
   ],
   "source": [
    "loj.count()"
   ]
  },
  {
   "cell_type": "code",
   "execution_count": 112,
   "id": "36ca8a2d-e89a-4df9-b5ef-1e0638175069",
   "metadata": {},
   "outputs": [],
   "source": [
    "roj = ppl.join(ac_par, ppl.pcode==ac_par.zipcode,\"right\")"
   ]
  },
  {
   "cell_type": "code",
   "execution_count": 113,
   "id": "4e90c906-0124-4d8d-b6bc-1c67ca2ccfe9",
   "metadata": {},
   "outputs": [
    {
     "data": {
      "text/plain": [
       "97331"
      ]
     },
     "execution_count": 113,
     "metadata": {},
     "output_type": "execute_result"
    }
   ],
   "source": [
    "roj.count()"
   ]
  },
  {
   "cell_type": "code",
   "execution_count": 114,
   "id": "57e891c6-f7dd-40b2-9fb9-bdff854da925",
   "metadata": {},
   "outputs": [],
   "source": [
    "foj = ppl.join(ac_par, ppl.pcode==ac_par.zipcode,\"full\")"
   ]
  },
  {
   "cell_type": "code",
   "execution_count": 115,
   "id": "b46407f7-9fac-4ed1-8f0f-ede983b70b66",
   "metadata": {},
   "outputs": [
    {
     "name": "stderr",
     "output_type": "stream",
     "text": [
      "                                                                                \r"
     ]
    },
    {
     "data": {
      "text/plain": [
       "97333"
      ]
     },
     "execution_count": 115,
     "metadata": {},
     "output_type": "execute_result"
    }
   ],
   "source": [
    "foj.count()"
   ]
  },
  {
   "cell_type": "markdown",
   "id": "1b44110d-db62-4047-883d-fbfecfa2af3e",
   "metadata": {},
   "source": [
    "### anti-left join (rows which are not matching)"
   ]
  },
  {
   "cell_type": "code",
   "execution_count": 123,
   "id": "ba3c57c7-eb5b-4a0f-a6a3-3717def51ba8",
   "metadata": {},
   "outputs": [],
   "source": [
    "loJoin = ppl.join(ac_par, ppl.pcode==ac_par.zipcode,\"anti\")"
   ]
  },
  {
   "cell_type": "code",
   "execution_count": 124,
   "id": "999d35b6-1300-45de-a7f9-24f71a4a2f20",
   "metadata": {},
   "outputs": [
    {
     "data": {
      "text/plain": [
       "2"
      ]
     },
     "execution_count": 124,
     "metadata": {},
     "output_type": "execute_result"
    }
   ],
   "source": [
    "loJoin.count()"
   ]
  },
  {
   "cell_type": "code",
   "execution_count": 125,
   "id": "40cc07e5-2b49-4b8f-817a-b8563d507eb1",
   "metadata": {},
   "outputs": [
    {
     "name": "stdout",
     "output_type": "stream",
     "text": [
      "+---+-----+-----+\n",
      "|age| name|pcode|\n",
      "+---+-----+-----+\n",
      "| 19|Carla|10036|\n",
      "| 46|Diana| null|\n",
      "+---+-----+-----+\n",
      "\n"
     ]
    }
   ],
   "source": [
    "loJoin.show()"
   ]
  },
  {
   "cell_type": "markdown",
   "id": "3d1fc615-3ca1-429b-9635-8fc365b40ded",
   "metadata": {},
   "source": [
    "### semi-join (rows which are matching)"
   ]
  },
  {
   "cell_type": "code",
   "execution_count": 126,
   "id": "5c950f28-62a0-4e5c-ba92-b1fe29400aab",
   "metadata": {},
   "outputs": [],
   "source": [
    "se = ppl.join(ac_par, ppl.pcode==ac_par.zipcode,\"semi\")"
   ]
  },
  {
   "cell_type": "code",
   "execution_count": 127,
   "id": "71bb56b5-4f1d-410d-b31b-734dea77d314",
   "metadata": {},
   "outputs": [
    {
     "data": {
      "text/plain": [
       "3"
      ]
     },
     "execution_count": 127,
     "metadata": {},
     "output_type": "execute_result"
    }
   ],
   "source": [
    "se.count()"
   ]
  },
  {
   "cell_type": "code",
   "execution_count": 128,
   "id": "22182e6a-c49f-4d39-a989-5de6eb923e88",
   "metadata": {},
   "outputs": [
    {
     "name": "stdout",
     "output_type": "stream",
     "text": [
      "+----+-------+-----+\n",
      "| age|   name|pcode|\n",
      "+----+-------+-----+\n",
      "|null|  Alice|94304|\n",
      "|  30|Brayden|94304|\n",
      "|null|Etienne|94104|\n",
      "+----+-------+-----+\n",
      "\n"
     ]
    }
   ],
   "source": [
    "se.show()"
   ]
  },
  {
   "cell_type": "markdown",
   "id": "ce4e6396-ccc7-4459-81f7-d81b28cb4429",
   "metadata": {},
   "source": [
    "### broadcast join"
   ]
  },
  {
   "cell_type": "code",
   "execution_count": 9,
   "id": "6883c084-5293-48fb-803e-b23729db158f",
   "metadata": {},
   "outputs": [],
   "source": [
    "from pyspark.sql.functions import broadcast"
   ]
  },
  {
   "cell_type": "code",
   "execution_count": 15,
   "id": "b1abb872-9d75-4da9-a60e-0476a5da2f7d",
   "metadata": {},
   "outputs": [],
   "source": [
    "riJoin = ac_par.join(broadcast(ppl), ppl.pcode==ac_par.zipcode,\"right\")"
   ]
  },
  {
   "cell_type": "code",
   "execution_count": 16,
   "id": "5d6414af-4c9b-4cad-92b7-db723809e928",
   "metadata": {},
   "outputs": [
    {
     "name": "stderr",
     "output_type": "stream",
     "text": [
      "                                                                                \r"
     ]
    },
    {
     "name": "stdout",
     "output_type": "stream",
     "text": [
      "+--------+--------------+-------------+----------+---------+--------------------+---------+-----+-------+------------+-------------+-------------+----+-----+-----+\n",
      "|acct_num|acct_create_dt|acct_close_dt|first_name|last_name|             address|     city|state|zipcode|phone_number|      created|     modified| age| name|pcode|\n",
      "+--------+--------------+-------------+----------+---------+--------------------+---------+-----+-------+------------+-------------+-------------+----+-----+-----+\n",
      "|   79120| 1369302805000|         null|    George|   Jacoby|   2946 Front Street|Palo Alto|   CA|  94304|  6509255624|1395174738000|1395174738000|null|Alice|94304|\n",
      "|   71177| 1376909825000|1393826658000|     David|   Massey|   692 Franklee Lane|Palo Alto|   CA|  94304|  6508853210|1395174724000|1395174724000|null|Alice|94304|\n",
      "|   70979| 1357350587000|1392880322000|     Lucas|  Sweeney|4345 Rockford Mou...|Palo Alto|   CA|  94304|  6503789637|1395174723000|1395174723000|null|Alice|94304|\n",
      "|   67045| 1345796596000|         null|    George|   Thayer|  1008 Carson Street|Palo Alto|   CA|  94304|  6503808821|1395174716000|1395174716000|null|Alice|94304|\n",
      "|   66482| 1330220574000|1388446575000|   Pauline|   Marino|  4308 Ritter Avenue|Palo Alto|   CA|  94304|  6508269964|1395174715000|1395174715000|null|Alice|94304|\n",
      "+--------+--------------+-------------+----------+---------+--------------------+---------+-----+-------+------------+-------------+-------------+----+-----+-----+\n",
      "only showing top 5 rows\n",
      "\n"
     ]
    }
   ],
   "source": [
    "riJoin.show(5)"
   ]
  },
  {
   "cell_type": "code",
   "execution_count": null,
   "id": "d773f662-3528-40b6-adc2-ce48743a1d4c",
   "metadata": {},
   "outputs": [],
   "source": []
  }
 ],
 "metadata": {
  "kernelspec": {
   "display_name": "PySpark 3",
   "language": "python",
   "name": "pyspark3_env"
  },
  "language_info": {
   "codemirror_mode": {
    "name": "ipython",
    "version": 3
   },
   "file_extension": ".py",
   "mimetype": "text/x-python",
   "name": "python",
   "nbconvert_exporter": "python",
   "pygments_lexer": "ipython3",
   "version": "3.9.13"
  }
 },
 "nbformat": 4,
 "nbformat_minor": 5
}
