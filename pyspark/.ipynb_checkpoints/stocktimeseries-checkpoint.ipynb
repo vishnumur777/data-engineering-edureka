{
 "cells": [
  {
   "cell_type": "code",
   "execution_count": 1,
   "id": "3f4b9e82-4e9f-4784-93f9-c00994852b38",
   "metadata": {},
   "outputs": [],
   "source": [
    "from pyspark.sql import SparkSession"
   ]
  },
  {
   "cell_type": "code",
   "execution_count": 2,
   "id": "c34f6e65-581d-462d-84d5-cdd667ad82c0",
   "metadata": {},
   "outputs": [
    {
     "name": "stderr",
     "output_type": "stream",
     "text": [
      "25/06/11 12:16:50 WARN NativeCodeLoader: Unable to load native-hadoop library for your platform... using builtin-java classes where applicable\n",
      "Setting default log level to \"WARN\".\n",
      "To adjust logging level use sc.setLogLevel(newLevel). For SparkR, use setLogLevel(newLevel).\n",
      "25/06/11 12:16:51 WARN Utils: Service 'SparkUI' could not bind on port 4040. Attempting port 4041.\n",
      "25/06/11 12:16:51 WARN Utils: Service 'SparkUI' could not bind on port 4041. Attempting port 4042.\n",
      "25/06/11 12:16:51 WARN Utils: Service 'SparkUI' could not bind on port 4042. Attempting port 4043.\n",
      "25/06/11 12:16:51 WARN Utils: Service 'SparkUI' could not bind on port 4043. Attempting port 4044.\n",
      "25/06/11 12:16:51 WARN Utils: Service 'SparkUI' could not bind on port 4044. Attempting port 4045.\n",
      "25/06/11 12:16:51 WARN Utils: Service 'SparkUI' could not bind on port 4045. Attempting port 4046.\n",
      "25/06/11 12:16:51 WARN Utils: Service 'SparkUI' could not bind on port 4046. Attempting port 4047.\n",
      "25/06/11 12:16:51 WARN Utils: Service 'SparkUI' could not bind on port 4047. Attempting port 4048.\n",
      "25/06/11 12:16:51 WARN Utils: Service 'SparkUI' could not bind on port 4048. Attempting port 4049.\n",
      "25/06/11 12:16:51 WARN Utils: Service 'SparkUI' could not bind on port 4049. Attempting port 4050.\n",
      "25/06/11 12:16:51 WARN Utils: Service 'SparkUI' could not bind on port 4050. Attempting port 4051.\n",
      "25/06/11 12:16:51 WARN Utils: Service 'SparkUI' could not bind on port 4051. Attempting port 4052.\n",
      "25/06/11 12:16:51 WARN Utils: Service 'SparkUI' could not bind on port 4052. Attempting port 4053.\n",
      "25/06/11 12:16:51 WARN Utils: Service 'SparkUI' could not bind on port 4053. Attempting port 4054.\n",
      "25/06/11 12:16:51 WARN Utils: Service 'SparkUI' could not bind on port 4054. Attempting port 4055.\n",
      "25/06/11 12:16:51 WARN Utils: Service 'SparkUI' could not bind on port 4055. Attempting port 4056.\n",
      "25/06/11 12:16:51 WARN Utils: Service 'SparkUI' could not bind on port 4056. Attempting port 4057.\n",
      "25/06/11 12:16:51 WARN Utils: Service 'SparkUI' could not bind on port 4057. Attempting port 4058.\n",
      "25/06/11 12:16:51 WARN Utils: Service 'SparkUI' could not bind on port 4058. Attempting port 4059.\n",
      "25/06/11 12:16:51 WARN Utils: Service 'SparkUI' could not bind on port 4059. Attempting port 4060.\n",
      "25/06/11 12:16:51 WARN Utils: Service 'SparkUI' could not bind on port 4060. Attempting port 4061.\n",
      "25/06/11 12:16:51 WARN Utils: Service 'SparkUI' could not bind on port 4061. Attempting port 4062.\n",
      "25/06/11 12:16:51 WARN Utils: Service 'SparkUI' could not bind on port 4062. Attempting port 4063.\n",
      "25/06/11 12:16:51 WARN Utils: Service 'SparkUI' could not bind on port 4063. Attempting port 4064.\n",
      "25/06/11 12:16:51 WARN Utils: Service 'SparkUI' could not bind on port 4064. Attempting port 4065.\n",
      "25/06/11 12:16:51 WARN Utils: Service 'SparkUI' could not bind on port 4065. Attempting port 4066.\n",
      "25/06/11 12:16:51 WARN Utils: Service 'SparkUI' could not bind on port 4066. Attempting port 4067.\n",
      "25/06/11 12:16:51 WARN Utils: Service 'SparkUI' could not bind on port 4067. Attempting port 4068.\n",
      "25/06/11 12:16:51 WARN Utils: Service 'SparkUI' could not bind on port 4068. Attempting port 4069.\n",
      "25/06/11 12:16:51 WARN Utils: Service 'SparkUI' could not bind on port 4069. Attempting port 4070.\n",
      "25/06/11 12:16:51 WARN Utils: Service 'SparkUI' could not bind on port 4070. Attempting port 4071.\n",
      "25/06/11 12:16:51 WARN Utils: Service 'SparkUI' could not bind on port 4071. Attempting port 4072.\n",
      "25/06/11 12:16:51 WARN Utils: Service 'SparkUI' could not bind on port 4072. Attempting port 4073.\n",
      "25/06/11 12:16:51 WARN Utils: Service 'SparkUI' could not bind on port 4073. Attempting port 4074.\n",
      "25/06/11 12:16:51 WARN Utils: Service 'SparkUI' could not bind on port 4074. Attempting port 4075.\n",
      "25/06/11 12:16:51 WARN Utils: Service 'SparkUI' could not bind on port 4075. Attempting port 4076.\n",
      "25/06/11 12:16:51 WARN Utils: Service 'SparkUI' could not bind on port 4076. Attempting port 4077.\n",
      "25/06/11 12:16:51 WARN Utils: Service 'SparkUI' could not bind on port 4077. Attempting port 4078.\n",
      "25/06/11 12:16:51 WARN Utils: Service 'SparkUI' could not bind on port 4078. Attempting port 4079.\n",
      "25/06/11 12:16:51 WARN Utils: Service 'SparkUI' could not bind on port 4079. Attempting port 4080.\n",
      "25/06/11 12:16:51 WARN Utils: Service 'SparkUI' could not bind on port 4080. Attempting port 4081.\n",
      "25/06/11 12:16:51 WARN Utils: Service 'SparkUI' could not bind on port 4081. Attempting port 4082.\n",
      "25/06/11 12:16:51 WARN Utils: Service 'SparkUI' could not bind on port 4082. Attempting port 4083.\n",
      "25/06/11 12:16:51 WARN Utils: Service 'SparkUI' could not bind on port 4083. Attempting port 4084.\n",
      "25/06/11 12:16:51 WARN Utils: Service 'SparkUI' could not bind on port 4084. Attempting port 4085.\n",
      "25/06/11 12:16:51 WARN Utils: Service 'SparkUI' could not bind on port 4085. Attempting port 4086.\n",
      "25/06/11 12:16:51 WARN Utils: Service 'SparkUI' could not bind on port 4086. Attempting port 4087.\n",
      "25/06/11 12:16:51 WARN Utils: Service 'SparkUI' could not bind on port 4087. Attempting port 4088.\n",
      "25/06/11 12:16:51 WARN Utils: Service 'SparkUI' could not bind on port 4088. Attempting port 4089.\n",
      "25/06/11 12:16:51 WARN Utils: Service 'SparkUI' could not bind on port 4089. Attempting port 4090.\n",
      "25/06/11 12:16:51 WARN Utils: Service 'SparkUI' could not bind on port 4090. Attempting port 4091.\n",
      "25/06/11 12:16:51 WARN Utils: Service 'SparkUI' could not bind on port 4091. Attempting port 4092.\n",
      "25/06/11 12:16:51 WARN Utils: Service 'SparkUI' could not bind on port 4092. Attempting port 4093.\n",
      "25/06/11 12:16:51 WARN Utils: Service 'SparkUI' could not bind on port 4093. Attempting port 4094.\n",
      "25/06/11 12:16:51 WARN Utils: Service 'SparkUI' could not bind on port 4094. Attempting port 4095.\n",
      "25/06/11 12:16:51 WARN Utils: Service 'SparkUI' could not bind on port 4095. Attempting port 4096.\n",
      "25/06/11 12:16:51 WARN Utils: Service 'SparkUI' could not bind on port 4096. Attempting port 4097.\n",
      "25/06/11 12:16:51 WARN Utils: Service 'SparkUI' could not bind on port 4097. Attempting port 4098.\n",
      "25/06/11 12:16:51 WARN Utils: Service 'SparkUI' could not bind on port 4098. Attempting port 4099.\n",
      "25/06/11 12:16:51 WARN Utils: Service 'SparkUI' could not bind on port 4099. Attempting port 4100.\n",
      "25/06/11 12:16:51 WARN Utils: Service 'SparkUI' could not bind on port 4100. Attempting port 4101.\n",
      "25/06/11 12:16:51 WARN Utils: Service 'SparkUI' could not bind on port 4101. Attempting port 4102.\n",
      "25/06/11 12:16:51 WARN Utils: Service 'SparkUI' could not bind on port 4102. Attempting port 4103.\n",
      "25/06/11 12:16:51 WARN Utils: Service 'SparkUI' could not bind on port 4103. Attempting port 4104.\n",
      "25/06/11 12:16:51 WARN Utils: Service 'SparkUI' could not bind on port 4104. Attempting port 4105.\n",
      "25/06/11 12:16:51 WARN Utils: Service 'SparkUI' could not bind on port 4105. Attempting port 4106.\n",
      "25/06/11 12:16:51 WARN Utils: Service 'SparkUI' could not bind on port 4106. Attempting port 4107.\n",
      "25/06/11 12:16:51 WARN Utils: Service 'SparkUI' could not bind on port 4107. Attempting port 4108.\n",
      "25/06/11 12:16:51 WARN Utils: Service 'SparkUI' could not bind on port 4108. Attempting port 4109.\n",
      "25/06/11 12:16:51 WARN Utils: Service 'SparkUI' could not bind on port 4109. Attempting port 4110.\n",
      "25/06/11 12:16:51 WARN Utils: Service 'SparkUI' could not bind on port 4110. Attempting port 4111.\n",
      "25/06/11 12:16:51 WARN Utils: Service 'SparkUI' could not bind on port 4111. Attempting port 4112.\n",
      "25/06/11 12:16:51 WARN Utils: Service 'SparkUI' could not bind on port 4112. Attempting port 4113.\n",
      "25/06/11 12:16:51 WARN Utils: Service 'SparkUI' could not bind on port 4113. Attempting port 4114.\n",
      "25/06/11 12:16:51 WARN Utils: Service 'SparkUI' could not bind on port 4114. Attempting port 4115.\n",
      "25/06/11 12:16:51 WARN Utils: Service 'SparkUI' could not bind on port 4115. Attempting port 4116.\n",
      "25/06/11 12:16:51 WARN Utils: Service 'SparkUI' could not bind on port 4116. Attempting port 4117.\n",
      "25/06/11 12:16:51 WARN Utils: Service 'SparkUI' could not bind on port 4117. Attempting port 4118.\n"
     ]
    }
   ],
   "source": [
    "spark = SparkSession.builder.appName(\"VarunTimeSeries\").master(\"local[4]\").getOrCreate()"
   ]
  },
  {
   "cell_type": "code",
   "execution_count": 7,
   "id": "c935fbd2-f4fb-4e65-8abd-1ae06e18f60f",
   "metadata": {},
   "outputs": [],
   "source": [
    "df = spark.read.csv('stocktimeseries', sep=',', header=True, inferSchema=True)"
   ]
  },
  {
   "cell_type": "code",
   "execution_count": 8,
   "id": "61df0462-dd0e-4355-9661-9aefcb5720e0",
   "metadata": {},
   "outputs": [
    {
     "name": "stdout",
     "output_type": "stream",
     "text": [
      "+----------+-----+-----+-----+-----+-------+----+\n",
      "|      Date| Open| High|  Low|Close| Volume|Name|\n",
      "+----------+-----+-----+-----+-----+-------+----+\n",
      "|2006-01-03|47.47|47.85|46.25|47.58|7582127|AMZN|\n",
      "|2006-01-04|47.48|47.73|46.69|47.25|7440914|AMZN|\n",
      "|2006-01-05|47.16| 48.2|47.11|47.65|5417258|AMZN|\n",
      "|2006-01-06|47.97|48.58|47.32|47.87|6154285|AMZN|\n",
      "|2006-01-09|46.55| 47.1| 46.4|47.08|8945056|AMZN|\n",
      "+----------+-----+-----+-----+-----+-------+----+\n",
      "only showing top 5 rows\n",
      "\n"
     ]
    }
   ],
   "source": [
    "df.show(5)"
   ]
  },
  {
   "cell_type": "code",
   "execution_count": 9,
   "id": "04f4ad77-c8ff-4e2a-b5e1-6f5ffc19fee5",
   "metadata": {},
   "outputs": [],
   "source": [
    "comp_count = df.groupBy(df.Name).count()"
   ]
  },
  {
   "cell_type": "code",
   "execution_count": 10,
   "id": "cb8c6aec-8d6a-45bb-91e4-9cf29a4d22e4",
   "metadata": {},
   "outputs": [
    {
     "name": "stdout",
     "output_type": "stream",
     "text": [
      "+----+-----+\n",
      "|Name|count|\n",
      "+----+-----+\n",
      "| AXP| 3020|\n",
      "|AAPL| 3019|\n",
      "|AABA| 3019|\n",
      "| CVX| 3020|\n",
      "|  GE| 3020|\n",
      "|AMZN| 3019|\n",
      "+----+-----+\n",
      "\n"
     ]
    }
   ],
   "source": [
    "comp_count.show()"
   ]
  },
  {
   "cell_type": "code",
   "execution_count": 11,
   "id": "f595b2af-98c6-465a-aadc-451429acc059",
   "metadata": {},
   "outputs": [
    {
     "ename": "SyntaxError",
     "evalue": "unexpected EOF while parsing (1602969718.py, line 1)",
     "output_type": "error",
     "traceback": [
      "\u001b[0;36m  File \u001b[0;32m\"/tmp/ipykernel_4100976/1602969718.py\"\u001b[0;36m, line \u001b[0;32m1\u001b[0m\n\u001b[0;31m    high_price_year = df.groupBy(\u001b[0m\n\u001b[0m                                 ^\u001b[0m\n\u001b[0;31mSyntaxError\u001b[0m\u001b[0;31m:\u001b[0m unexpected EOF while parsing\n"
     ]
    }
   ],
   "source": [
    "high_price_year = df.groupBy("
   ]
  },
  {
   "cell_type": "code",
   "execution_count": 12,
   "id": "789fb1d1-d89e-44f1-9bb2-7cdbbb5e9d15",
   "metadata": {},
   "outputs": [
    {
     "name": "stdout",
     "output_type": "stream",
     "text": [
      "root\n",
      " |-- Date: string (nullable = true)\n",
      " |-- Open: double (nullable = true)\n",
      " |-- High: double (nullable = true)\n",
      " |-- Low: double (nullable = true)\n",
      " |-- Close: double (nullable = true)\n",
      " |-- Volume: integer (nullable = true)\n",
      " |-- Name: string (nullable = true)\n",
      "\n"
     ]
    }
   ],
   "source": [
    "df.printSchema()"
   ]
  },
  {
   "cell_type": "code",
   "execution_count": 13,
   "id": "a55d0230-9850-4da3-bf17-dd9facef0932",
   "metadata": {},
   "outputs": [],
   "source": [
    "from pyspark.sql.functions import *"
   ]
  },
  {
   "cell_type": "code",
   "execution_count": 19,
   "id": "680c0ce0-1276-47f2-9992-e83262e740d1",
   "metadata": {},
   "outputs": [
    {
     "name": "stdout",
     "output_type": "stream",
     "text": [
      "+----------+---------+---------+--------+----------+-----------+\n",
      "|year(Date)|max(Open)|max(High)|max(Low)|max(Close)|max(Volume)|\n",
      "+----------+---------+---------+--------+----------+-----------+\n",
      "|      2007|    96.59|   101.09|   94.75|    100.82|  838036682|\n",
      "|      2015|   691.89|   696.44|  686.38|    693.97|  430949788|\n",
      "|      2006|    75.99|     76.2|   74.98|     75.97|  666021972|\n",
      "|      2013|   404.65|   405.63|   399.2|    404.39|  365212953|\n",
      "|      2014|    408.0|   408.06|   402.0|    407.05|  266833581|\n",
      "|      2012|   261.74|   264.11|  259.77|    261.68|  376528040|\n",
      "|      2009|   143.62|   145.91|  140.77|    142.25|  752906054|\n",
      "|      2016|   845.79|   847.21|   840.6|    844.36|  132224500|\n",
      "|      2010|    185.0|   185.65|  184.11|    184.76|  466777486|\n",
      "|      2011|   244.29|   246.71|  240.67|    246.71|  470246700|\n",
      "|      2008|   103.25|   104.63|  102.69|    103.09|  843264044|\n",
      "|      2017|  1204.88|  1213.41| 1191.15|   1195.83|  312556809|\n",
      "+----------+---------+---------+--------+----------+-----------+\n",
      "\n"
     ]
    }
   ],
   "source": [
    "df.groupBy(year(df.Date)).max().select('year(Date)','max(High)').show()"
   ]
  },
  {
   "cell_type": "code",
   "execution_count": null,
   "id": "4f467741-2bc6-4736-8fc3-c4e0b69d9151",
   "metadata": {},
   "outputs": [],
   "source": []
  }
 ],
 "metadata": {
  "kernelspec": {
   "display_name": "PySpark 3",
   "language": "python",
   "name": "pyspark3_env"
  },
  "language_info": {
   "codemirror_mode": {
    "name": "ipython",
    "version": 3
   },
   "file_extension": ".py",
   "mimetype": "text/x-python",
   "name": "python",
   "nbconvert_exporter": "python",
   "pygments_lexer": "ipython3",
   "version": "3.9.13"
  }
 },
 "nbformat": 4,
 "nbformat_minor": 5
}
