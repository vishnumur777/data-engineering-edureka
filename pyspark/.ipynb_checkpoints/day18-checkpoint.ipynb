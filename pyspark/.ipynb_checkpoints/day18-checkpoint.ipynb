{
 "cells": [
  {
   "cell_type": "code",
   "execution_count": 1,
   "id": "14e10c8b-a30f-4829-a15c-fb5276e5de17",
   "metadata": {},
   "outputs": [],
   "source": [
    "from pyspark import SparkContext, SparkConf"
   ]
  },
  {
   "cell_type": "code",
   "execution_count": 3,
   "id": "3393c2df-8938-4f86-bb6c-fb9bb1527b8b",
   "metadata": {},
   "outputs": [],
   "source": [
    " sconf = SparkConf().setAppName(\"VarunSparkApp\").setMaster(\"local[1]\")"
   ]
  },
  {
   "cell_type": "code",
   "execution_count": 4,
   "id": "eb7cefca-fdfc-42f8-b635-c8f21880f5f2",
   "metadata": {},
   "outputs": [
    {
     "name": "stderr",
     "output_type": "stream",
     "text": [
      "25/06/10 03:53:45 WARN NativeCodeLoader: Unable to load native-hadoop library for your platform... using builtin-java classes where applicable\n",
      "Setting default log level to \"WARN\".\n",
      "To adjust logging level use sc.setLogLevel(newLevel). For SparkR, use setLogLevel(newLevel).\n",
      "25/06/10 03:53:47 WARN Utils: Service 'SparkUI' could not bind on port 4040. Attempting port 4041.\n",
      "25/06/10 03:53:47 WARN Utils: Service 'SparkUI' could not bind on port 4041. Attempting port 4042.\n",
      "25/06/10 03:53:47 WARN Utils: Service 'SparkUI' could not bind on port 4042. Attempting port 4043.\n",
      "25/06/10 03:53:47 WARN Utils: Service 'SparkUI' could not bind on port 4043. Attempting port 4044.\n",
      "25/06/10 03:53:47 WARN Utils: Service 'SparkUI' could not bind on port 4044. Attempting port 4045.\n",
      "25/06/10 03:53:47 WARN Utils: Service 'SparkUI' could not bind on port 4045. Attempting port 4046.\n",
      "25/06/10 03:53:47 WARN Utils: Service 'SparkUI' could not bind on port 4046. Attempting port 4047.\n",
      "25/06/10 03:53:47 WARN Utils: Service 'SparkUI' could not bind on port 4047. Attempting port 4048.\n",
      "25/06/10 03:53:47 WARN Utils: Service 'SparkUI' could not bind on port 4048. Attempting port 4049.\n",
      "25/06/10 03:53:47 WARN Utils: Service 'SparkUI' could not bind on port 4049. Attempting port 4050.\n",
      "25/06/10 03:53:47 WARN Utils: Service 'SparkUI' could not bind on port 4050. Attempting port 4051.\n",
      "25/06/10 03:53:47 WARN Utils: Service 'SparkUI' could not bind on port 4051. Attempting port 4052.\n",
      "25/06/10 03:53:47 WARN Utils: Service 'SparkUI' could not bind on port 4052. Attempting port 4053.\n",
      "25/06/10 03:53:47 WARN Utils: Service 'SparkUI' could not bind on port 4053. Attempting port 4054.\n",
      "25/06/10 03:53:47 WARN Utils: Service 'SparkUI' could not bind on port 4054. Attempting port 4055.\n",
      "25/06/10 03:53:47 WARN Utils: Service 'SparkUI' could not bind on port 4055. Attempting port 4056.\n",
      "25/06/10 03:53:47 WARN Utils: Service 'SparkUI' could not bind on port 4056. Attempting port 4057.\n",
      "25/06/10 03:53:47 WARN Utils: Service 'SparkUI' could not bind on port 4057. Attempting port 4058.\n",
      "25/06/10 03:53:47 WARN Utils: Service 'SparkUI' could not bind on port 4058. Attempting port 4059.\n",
      "25/06/10 03:53:47 WARN Utils: Service 'SparkUI' could not bind on port 4059. Attempting port 4060.\n"
     ]
    }
   ],
   "source": [
    "sc = SparkContext(conf=sconf)"
   ]
  },
  {
   "cell_type": "code",
   "execution_count": 7,
   "id": "cba109f6-fe7d-4fd8-8cfa-59982dbece2c",
   "metadata": {},
   "outputs": [
    {
     "data": {
      "text/html": [
       "\n",
       "        <div>\n",
       "            <p><b>SparkContext</b></p>\n",
       "\n",
       "            <p><a href=\"http://ip-172-31-32-182.ap-south-1.compute.internal:4060\">Spark UI</a></p>\n",
       "\n",
       "            <dl>\n",
       "              <dt>Version</dt>\n",
       "                <dd><code>v3.1.2</code></dd>\n",
       "              <dt>Master</dt>\n",
       "                <dd><code>local[1]</code></dd>\n",
       "              <dt>AppName</dt>\n",
       "                <dd><code>VarunSparkApp</code></dd>\n",
       "            </dl>\n",
       "        </div>\n",
       "        "
      ],
      "text/plain": [
       "<SparkContext master=local[1] appName=VarunSparkApp>"
      ]
     },
     "execution_count": 7,
     "metadata": {},
     "output_type": "execute_result"
    }
   ],
   "source": [
    "sc"
   ]
  },
  {
   "cell_type": "code",
   "execution_count": 9,
   "id": "b62c59d3-4859-404f-ad48-7735b51d1ebe",
   "metadata": {},
   "outputs": [],
   "source": [
    "sent = [\n",
    "    \"One of the deepest impulses in man is the impulse to record, to scratch a drawing on a tusk or keep a diary… The enduring value of the past is, one might say, the very basis of civilisation.\",\n",
    "    \"History is not the past but a map of the past, drawn from a particular point of view, to be useful to the modern traveller.\",\n",
    "    \"History is the story of events, with praise or blame.\",\n",
    "    \"History is the study of all the world’s crime.\",\n",
    "    \"History is a jangle of accidents, blunders, surprises and absurdities, and so is our knowledge of it, but if we are to report it at all we must impose some order upon it.\"\n",
    "]\n",
    "    "
   ]
  },
  {
   "cell_type": "code",
   "execution_count": 10,
   "id": "a41d61bd-6b5f-42d2-8904-e2e06bc85137",
   "metadata": {},
   "outputs": [],
   "source": [
    "rddsent=sc.parallelize(sent)"
   ]
  },
  {
   "cell_type": "code",
   "execution_count": 11,
   "id": "07d28847-b19d-45f0-ab6d-8669850d0cb5",
   "metadata": {},
   "outputs": [
    {
     "data": {
      "text/plain": [
       "['One of the deepest impulses in man is the impulse to record, to scratch a drawing on a tusk or keep a diary… The enduring value of the past is, one might say, the very basis of civilisation.',\n",
       " 'History is not the past but a map of the past, drawn from a particular point of view, to be useful to the modern traveller.',\n",
       " 'History is the story of events, with praise or blame.',\n",
       " 'History is the study of all the world’s crime.',\n",
       " 'History is a jangle of accidents, blunders, surprises and absurdities, and so is our knowledge of it, but if we are to report it at all we must impose some order upon it.']"
      ]
     },
     "execution_count": 11,
     "metadata": {},
     "output_type": "execute_result"
    }
   ],
   "source": [
    "rddsent.collect()"
   ]
  },
  {
   "cell_type": "code",
   "execution_count": 12,
   "id": "3746d297-02c2-42af-ac00-c105ee19f44d",
   "metadata": {},
   "outputs": [],
   "source": [
    "pairkb = rddsent.keyBy(lambda x: len(x))"
   ]
  },
  {
   "cell_type": "code",
   "execution_count": 13,
   "id": "6572726e-147b-4deb-b5a2-587d6b9ad5b4",
   "metadata": {},
   "outputs": [
    {
     "data": {
      "text/plain": [
       "[(190,\n",
       "  'One of the deepest impulses in man is the impulse to record, to scratch a drawing on a tusk or keep a diary… The enduring value of the past is, one might say, the very basis of civilisation.'),\n",
       " (123,\n",
       "  'History is not the past but a map of the past, drawn from a particular point of view, to be useful to the modern traveller.'),\n",
       " (53, 'History is the story of events, with praise or blame.'),\n",
       " (46, 'History is the study of all the world’s crime.'),\n",
       " (170,\n",
       "  'History is a jangle of accidents, blunders, surprises and absurdities, and so is our knowledge of it, but if we are to report it at all we must impose some order upon it.')]"
      ]
     },
     "execution_count": 13,
     "metadata": {},
     "output_type": "execute_result"
    }
   ],
   "source": [
    "pairkb.collect()"
   ]
  },
  {
   "cell_type": "code",
   "execution_count": 14,
   "id": "911c102a-e422-43aa-93b7-89357554a81f",
   "metadata": {},
   "outputs": [],
   "source": [
    "order = sc.textFile('pysparkasset/orderskus.txt')"
   ]
  },
  {
   "cell_type": "code",
   "execution_count": 15,
   "id": "f7fbc383-f491-47fe-8e8d-b7e8e7aebd30",
   "metadata": {},
   "outputs": [
    {
     "data": {
      "text/plain": [
       "['00001\\tsku010:sku933:sku022',\n",
       " '00002\\tsku912:sku331',\n",
       " '00003\\tsku888:sku022:sku010:sku594',\n",
       " '00004\\tsku411',\n",
       " '00005\\tsku331:sku010']"
      ]
     },
     "execution_count": 15,
     "metadata": {},
     "output_type": "execute_result"
    }
   ],
   "source": [
    "order.collect()"
   ]
  },
  {
   "cell_type": "code",
   "execution_count": 20,
   "id": "7a730e2f-da2b-4563-8ca3-4698a7b4ab27",
   "metadata": {},
   "outputs": [],
   "source": [
    "orderk = order.map(lambda x: x.split('\\t')).map(lambda x: (x[0], x[1]))"
   ]
  },
  {
   "cell_type": "code",
   "execution_count": 21,
   "id": "7b7bc941-64b3-4f4d-bba6-9b833327d6fc",
   "metadata": {},
   "outputs": [
    {
     "data": {
      "text/plain": [
       "[('00001', 'sku010:sku933:sku022'),\n",
       " ('00002', 'sku912:sku331'),\n",
       " ('00003', 'sku888:sku022:sku010:sku594'),\n",
       " ('00004', 'sku411'),\n",
       " ('00005', 'sku331:sku010')]"
      ]
     },
     "execution_count": 21,
     "metadata": {},
     "output_type": "execute_result"
    }
   ],
   "source": [
    "orderk.collect()"
   ]
  },
  {
   "cell_type": "code",
   "execution_count": 24,
   "id": "b7f55310-7bb2-4fe2-b9a9-a7f8e38f53da",
   "metadata": {},
   "outputs": [],
   "source": [
    "orderkf = orderk.flatMapValues(lambda x: x.split(\":\"))"
   ]
  },
  {
   "cell_type": "code",
   "execution_count": 28,
   "id": "8b53e3d1-c831-4b8b-9e9b-d4532755c0af",
   "metadata": {},
   "outputs": [
    {
     "data": {
      "text/plain": [
       "[('00001', 'sku010'),\n",
       " ('00001', 'sku933'),\n",
       " ('00001', 'sku022'),\n",
       " ('00002', 'sku912'),\n",
       " ('00002', 'sku331'),\n",
       " ('00003', 'sku888'),\n",
       " ('00003', 'sku022'),\n",
       " ('00003', 'sku010'),\n",
       " ('00003', 'sku594'),\n",
       " ('00004', 'sku411'),\n",
       " ('00005', 'sku331'),\n",
       " ('00005', 'sku010')]"
      ]
     },
     "execution_count": 28,
     "metadata": {},
     "output_type": "execute_result"
    }
   ],
   "source": [
    "orderkf.collect()"
   ]
  },
  {
   "cell_type": "code",
   "execution_count": 29,
   "id": "930e28cd-2149-43c2-b10f-63ca5f548480",
   "metadata": {},
   "outputs": [
    {
     "data": {
      "text/plain": [
       "[('00001', 'sku010'), ('00001', 'sku933'), ('00001', 'sku022')]"
      ]
     },
     "execution_count": 29,
     "metadata": {},
     "output_type": "execute_result"
    }
   ],
   "source": [
    "orderkf.filter(lambda x: x[0]=='00001').collect()"
   ]
  },
  {
   "cell_type": "code",
   "execution_count": 33,
   "id": "0f967273-8157-47b8-9efd-e3fb7439256c",
   "metadata": {},
   "outputs": [
    {
     "data": {
      "text/plain": [
       "['sku010', 'sku933', 'sku022']"
      ]
     },
     "execution_count": 33,
     "metadata": {},
     "output_type": "execute_result"
    }
   ],
   "source": [
    "orderkf.lookup('00001')"
   ]
  },
  {
   "cell_type": "markdown",
   "id": "9e66cb07-3558-4e37-94db-c96ea3310ed2",
   "metadata": {},
   "source": [
    "### 3 ways to creaete pair-wise RDD"
   ]
  },
  {
   "cell_type": "markdown",
   "id": "98b9228e-cc1e-4e72-9e54-b4bb3fa0bbbe",
   "metadata": {},
   "source": [
    "- `keyBy()`\n",
    "- `zip()`\n",
    "- `map()`\n",
    "- `flatMapValues()` - ip `Key-Value pair` out `key-value pair`"
   ]
  },
  {
   "cell_type": "code",
   "execution_count": 34,
   "id": "a401d67b-40c5-42be-9939-3c1e651a6d9c",
   "metadata": {},
   "outputs": [],
   "source": [
    "latlon = sc.textFile('latlonschema.txt')"
   ]
  },
  {
   "cell_type": "code",
   "execution_count": 32,
   "id": "6ed03865-c9fe-4f5f-b266-ec52668483b9",
   "metadata": {},
   "outputs": [
    {
     "data": {
      "text/plain": [
       "['0210\\t43.005895\\t-71.013202',\n",
       " '00211\\t43.005895\\t-71.013202',\n",
       " '00212\\t43.005895\\t-71.013202',\n",
       " '00213\\t43.005895\\t-71.013202',\n",
       " '00214\\t43.005895\\t-71.013202']"
      ]
     },
     "execution_count": 32,
     "metadata": {},
     "output_type": "execute_result"
    }
   ],
   "source": [
    "latlon.take(5)"
   ]
  },
  {
   "cell_type": "code",
   "execution_count": 37,
   "id": "b8d6af83-5d40-41e3-93f6-22f054b63836",
   "metadata": {},
   "outputs": [],
   "source": [
    "latlonsp = teflon.map(lambda x: x.split('\\t')).map(lambda x: (x[0], [x[1], x[2]]))"
   ]
  },
  {
   "cell_type": "code",
   "execution_count": 38,
   "id": "3782363f-b39c-4f20-8d15-fadf821ee2bd",
   "metadata": {},
   "outputs": [
    {
     "data": {
      "text/plain": [
       "[('0210', ['43.005895', '-71.013202']),\n",
       " ('00211', ['43.005895', '-71.013202']),\n",
       " ('00212', ['43.005895', '-71.013202']),\n",
       " ('00213', ['43.005895', '-71.013202']),\n",
       " ('00214', ['43.005895', '-71.013202'])]"
      ]
     },
     "execution_count": 38,
     "metadata": {},
     "output_type": "execute_result"
    }
   ],
   "source": [
    "latlonsp.take(5)"
   ]
  },
  {
   "cell_type": "code",
   "execution_count": 40,
   "id": "cfade352-26e9-4115-bf5e-b8a00a5e9787",
   "metadata": {},
   "outputs": [
    {
     "data": {
      "text/plain": [
       "['00001',\n",
       " '00001',\n",
       " '00001',\n",
       " '00002',\n",
       " '00002',\n",
       " '00003',\n",
       " '00003',\n",
       " '00003',\n",
       " '00003',\n",
       " '00004',\n",
       " '00005',\n",
       " '00005']"
      ]
     },
     "execution_count": 40,
     "metadata": {},
     "output_type": "execute_result"
    }
   ],
   "source": [
    "orderkf.keys().collect()"
   ]
  },
  {
   "cell_type": "code",
   "execution_count": 41,
   "id": "bd6f5b2c-d273-4337-92f5-74566f8d12aa",
   "metadata": {},
   "outputs": [
    {
     "data": {
      "text/plain": [
       "['sku010',\n",
       " 'sku933',\n",
       " 'sku022',\n",
       " 'sku912',\n",
       " 'sku331',\n",
       " 'sku888',\n",
       " 'sku022',\n",
       " 'sku010',\n",
       " 'sku594',\n",
       " 'sku411',\n",
       " 'sku331',\n",
       " 'sku010']"
      ]
     },
     "execution_count": 41,
     "metadata": {},
     "output_type": "execute_result"
    }
   ],
   "source": [
    "orderkf.values().collect()"
   ]
  },
  {
   "cell_type": "code",
   "execution_count": 42,
   "id": "6940f7f5-a070-4186-9512-75466d6a51a7",
   "metadata": {},
   "outputs": [
    {
     "data": {
      "text/plain": [
       "12"
      ]
     },
     "execution_count": 42,
     "metadata": {},
     "output_type": "execute_result"
    }
   ],
   "source": [
    "orderkf.count()"
   ]
  },
  {
   "cell_type": "code",
   "execution_count": 43,
   "id": "45c454ba-755d-4076-917f-6a6f024ef4e0",
   "metadata": {},
   "outputs": [
    {
     "data": {
      "text/plain": [
       "defaultdict(int, {'00001': 3, '00002': 2, '00003': 4, '00004': 1, '00005': 2})"
      ]
     },
     "execution_count": 43,
     "metadata": {},
     "output_type": "execute_result"
    }
   ],
   "source": [
    "orderkf.countByKey()"
   ]
  },
  {
   "cell_type": "code",
   "execution_count": 48,
   "id": "5cbcee3f-dcf6-479c-a892-03697a304886",
   "metadata": {},
   "outputs": [
    {
     "data": {
      "text/plain": [
       "[('00001', ['sku010', 'sku933', 'sku022']),\n",
       " ('00002', ['sku912', 'sku331']),\n",
       " ('00003', ['sku888', 'sku022', 'sku010', 'sku594']),\n",
       " ('00004', ['sku411']),\n",
       " ('00005', ['sku331', 'sku010'])]"
      ]
     },
     "execution_count": 48,
     "metadata": {},
     "output_type": "execute_result"
    }
   ],
   "source": [
    "orderkf.groupByKey().map(lambda x: (x[0], list(x[1]))).collect()"
   ]
  },
  {
   "cell_type": "code",
   "execution_count": 49,
   "id": "04a71a28-d65c-4447-9587-483c2d2e233b",
   "metadata": {},
   "outputs": [
    {
     "data": {
      "text/plain": [
       "[('00001', 'sku010'),\n",
       " ('00001', 'sku933'),\n",
       " ('00001', 'sku022'),\n",
       " ('00002', 'sku912'),\n",
       " ('00002', 'sku331'),\n",
       " ('00003', 'sku888'),\n",
       " ('00003', 'sku022'),\n",
       " ('00003', 'sku010'),\n",
       " ('00003', 'sku594'),\n",
       " ('00004', 'sku411'),\n",
       " ('00005', 'sku331'),\n",
       " ('00005', 'sku010')]"
      ]
     },
     "execution_count": 49,
     "metadata": {},
     "output_type": "execute_result"
    }
   ],
   "source": [
    "orderkf.collect()"
   ]
  },
  {
   "cell_type": "code",
   "execution_count": 50,
   "id": "b83ef863-e5d8-46e9-a8d6-6c4e51c349e2",
   "metadata": {},
   "outputs": [
    {
     "data": {
      "text/plain": [
       "[(46, 'History is the study of all the world’s crime.'),\n",
       " (53, 'History is the story of events, with praise or blame.'),\n",
       " (123,\n",
       "  'History is not the past but a map of the past, drawn from a particular point of view, to be useful to the modern traveller.'),\n",
       " (170,\n",
       "  'History is a jangle of accidents, blunders, surprises and absurdities, and so is our knowledge of it, but if we are to report it at all we must impose some order upon it.'),\n",
       " (190,\n",
       "  'One of the deepest impulses in man is the impulse to record, to scratch a drawing on a tusk or keep a diary… The enduring value of the past is, one might say, the very basis of civilisation.')]"
      ]
     },
     "execution_count": 50,
     "metadata": {},
     "output_type": "execute_result"
    }
   ],
   "source": [
    "pairkb.sortByKey().collect()"
   ]
  },
  {
   "cell_type": "code",
   "execution_count": 51,
   "id": "777670df-f2c7-43ce-adef-3aad69469e90",
   "metadata": {},
   "outputs": [
    {
     "data": {
      "text/plain": [
       "[(190,\n",
       "  'One of the deepest impulses in man is the impulse to record, to scratch a drawing on a tusk or keep a diary… The enduring value of the past is, one might say, the very basis of civilisation.'),\n",
       " (170,\n",
       "  'History is a jangle of accidents, blunders, surprises and absurdities, and so is our knowledge of it, but if we are to report it at all we must impose some order upon it.'),\n",
       " (123,\n",
       "  'History is not the past but a map of the past, drawn from a particular point of view, to be useful to the modern traveller.'),\n",
       " (53, 'History is the story of events, with praise or blame.'),\n",
       " (46, 'History is the study of all the world’s crime.')]"
      ]
     },
     "execution_count": 51,
     "metadata": {},
     "output_type": "execute_result"
    }
   ],
   "source": [
    "pairkb.sortByKey(ascending=False).collect()"
   ]
  },
  {
   "cell_type": "code",
   "execution_count": 52,
   "id": "e6edb312-24d0-4ec3-970f-3649bc3f2738",
   "metadata": {},
   "outputs": [],
   "source": [
    "l1 = [2,3,5,6,2]\n",
    "name = ['Amir', 'Anandu', 'Varun', 'Yadhu', 'prajwal']"
   ]
  },
  {
   "cell_type": "code",
   "execution_count": 53,
   "id": "2170c955-6468-49b3-b7ba-f25f7b058f33",
   "metadata": {},
   "outputs": [],
   "source": [
    "rdd1 = sc.parallelize(l1)\n",
    "rddnames = sc.parallelize(name)"
   ]
  },
  {
   "cell_type": "code",
   "execution_count": 58,
   "id": "01a90c7f-0eba-4321-84d8-f1587ef949e3",
   "metadata": {},
   "outputs": [],
   "source": [
    "pairrdd1 = rdd1.zip(rddnames)"
   ]
  },
  {
   "cell_type": "code",
   "execution_count": 59,
   "id": "ad1a9064-930f-4ab8-95cd-fbf0bd7a72f6",
   "metadata": {},
   "outputs": [
    {
     "data": {
      "text/plain": [
       "[(2, 'Amir'), (3, 'Anandu'), (5, 'Varun'), (6, 'Yadhu'), (2, 'prajwal')]"
      ]
     },
     "execution_count": 59,
     "metadata": {},
     "output_type": "execute_result"
    }
   ],
   "source": [
    "pairrdd1.collect()"
   ]
  },
  {
   "cell_type": "code",
   "execution_count": 60,
   "id": "a703b7c5-559f-4da7-b91b-fa70b0be98ee",
   "metadata": {},
   "outputs": [],
   "source": [
    "pairrdd2 = rddnames.map(lambda x: (len(x), x))"
   ]
  },
  {
   "cell_type": "code",
   "execution_count": 61,
   "id": "c4644e90-7de7-4be5-9936-c860ac140de0",
   "metadata": {},
   "outputs": [
    {
     "data": {
      "text/plain": [
       "[(4, 'Amir'), (6, 'Anandu'), (5, 'Varun'), (5, 'Yadhu'), (7, 'prajwal')]"
      ]
     },
     "execution_count": 61,
     "metadata": {},
     "output_type": "execute_result"
    }
   ],
   "source": [
    "pairrdd2.collect()"
   ]
  },
  {
   "cell_type": "markdown",
   "id": "11b810a3-7c89-4ed5-b769-bdc146dff333",
   "metadata": {},
   "source": [
    "### joins in RDD"
   ]
  },
  {
   "cell_type": "code",
   "execution_count": 63,
   "id": "cd04ef0c-917d-4175-9e80-7cb890971712",
   "metadata": {},
   "outputs": [],
   "source": [
    "ijoin = pairrdd1.join(pairrdd2)"
   ]
  },
  {
   "cell_type": "code",
   "execution_count": 64,
   "id": "8fd771e2-7321-4a85-9ad8-10aea602f536",
   "metadata": {},
   "outputs": [
    {
     "data": {
      "text/plain": [
       "[(6, ('Yadhu', 'Anandu')), (5, ('Varun', 'Varun')), (5, ('Varun', 'Yadhu'))]"
      ]
     },
     "execution_count": 64,
     "metadata": {},
     "output_type": "execute_result"
    }
   ],
   "source": [
    "ijoin.collect()"
   ]
  },
  {
   "cell_type": "code",
   "execution_count": 65,
   "id": "2e8c023b-2476-4a8c-b33b-f5d98e5ab39e",
   "metadata": {},
   "outputs": [],
   "source": [
    "leftjoin = pairrdd1.leftOuterJoin(pairrdd2)"
   ]
  },
  {
   "cell_type": "code",
   "execution_count": 66,
   "id": "810ddf9e-9f9e-4043-a1ed-66045f891f7c",
   "metadata": {},
   "outputs": [
    {
     "data": {
      "text/plain": [
       "[(2, ('Amir', None)),\n",
       " (2, ('prajwal', None)),\n",
       " (6, ('Yadhu', 'Anandu')),\n",
       " (3, ('Anandu', None)),\n",
       " (5, ('Varun', 'Varun')),\n",
       " (5, ('Varun', 'Yadhu'))]"
      ]
     },
     "execution_count": 66,
     "metadata": {},
     "output_type": "execute_result"
    }
   ],
   "source": [
    "leftjoin.collect()"
   ]
  },
  {
   "cell_type": "code",
   "execution_count": 67,
   "id": "11272251-d0b1-4cf8-9211-29cef3849792",
   "metadata": {},
   "outputs": [],
   "source": [
    "rightjoin = pairrdd1.rightOuterJoin(pairrdd2)"
   ]
  },
  {
   "cell_type": "code",
   "execution_count": 68,
   "id": "67c2db5f-ed48-46b6-a5e9-6a964d7b98d8",
   "metadata": {},
   "outputs": [
    {
     "data": {
      "text/plain": [
       "[(6, ('Yadhu', 'Anandu')),\n",
       " (4, (None, 'Amir')),\n",
       " (5, ('Varun', 'Varun')),\n",
       " (5, ('Varun', 'Yadhu')),\n",
       " (7, (None, 'prajwal'))]"
      ]
     },
     "execution_count": 68,
     "metadata": {},
     "output_type": "execute_result"
    }
   ],
   "source": [
    "rightjoin.collect()"
   ]
  },
  {
   "cell_type": "code",
   "execution_count": 69,
   "id": "29f3e8e4-44bb-4fdb-9601-33c4c020127a",
   "metadata": {},
   "outputs": [],
   "source": [
    "fulljoin = pairrdd1.fullOuterJoin(pairrdd2)"
   ]
  },
  {
   "cell_type": "code",
   "execution_count": 70,
   "id": "8c1a9128-41ac-4385-a81c-cf441297f094",
   "metadata": {},
   "outputs": [
    {
     "data": {
      "text/plain": [
       "[(2, ('Amir', None)),\n",
       " (2, ('prajwal', None)),\n",
       " (6, ('Yadhu', 'Anandu')),\n",
       " (4, (None, 'Amir')),\n",
       " (3, ('Anandu', None)),\n",
       " (5, ('Varun', 'Varun')),\n",
       " (5, ('Varun', 'Yadhu')),\n",
       " (7, (None, 'prajwal'))]"
      ]
     },
     "execution_count": 70,
     "metadata": {},
     "output_type": "execute_result"
    }
   ],
   "source": [
    "fulljoin.collect()"
   ]
  },
  {
   "cell_type": "code",
   "execution_count": null,
   "id": "33883776-49ce-4a99-82f3-9b83d52bcd67",
   "metadata": {},
   "outputs": [],
   "source": []
  },
  {
   "cell_type": "code",
   "execution_count": null,
   "id": "b0cd944a-70d2-417a-bc18-4d43566a802f",
   "metadata": {},
   "outputs": [],
   "source": []
  }
 ],
 "metadata": {
  "kernelspec": {
   "display_name": "PySpark 3",
   "language": "python",
   "name": "pyspark3_env"
  },
  "language_info": {
   "codemirror_mode": {
    "name": "ipython",
    "version": 3
   },
   "file_extension": ".py",
   "mimetype": "text/x-python",
   "name": "python",
   "nbconvert_exporter": "python",
   "pygments_lexer": "ipython3",
   "version": "3.9.13"
  }
 },
 "nbformat": 4,
 "nbformat_minor": 5
}
