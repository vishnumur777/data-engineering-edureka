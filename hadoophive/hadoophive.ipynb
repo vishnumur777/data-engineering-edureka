{
 "cells": [
  {
   "cell_type": "markdown",
   "id": "6e3445de-943c-46c4-b278-b4295b965ae8",
   "metadata": {},
   "source": [
    "# Reference material"
   ]
  },
  {
   "cell_type": "markdown",
   "id": "1e9c9197-e71c-4ffc-8ee0-703d715fbe5b",
   "metadata": {},
   "source": [
    "- Hadoop definitive guide: Thomas white\n",
    "- Learning Spark: Lightning-Fast Big Data Analysis"
   ]
  },
  {
   "cell_type": "code",
   "execution_count": null,
   "id": "3b25ae5d-a737-4753-b497-7846f40153b3",
   "metadata": {},
   "outputs": [],
   "source": []
  }
 ],
 "metadata": {
  "kernelspec": {
   "display_name": "Python 3 (ipykernel)",
   "language": "python",
   "name": "python3"
  },
  "language_info": {
   "codemirror_mode": {
    "name": "ipython",
    "version": 3
   },
   "file_extension": ".py",
   "mimetype": "text/x-python",
   "name": "python",
   "nbconvert_exporter": "python",
   "pygments_lexer": "ipython3",
   "version": "3.9.13"
  }
 },
 "nbformat": 4,
 "nbformat_minor": 5
}
