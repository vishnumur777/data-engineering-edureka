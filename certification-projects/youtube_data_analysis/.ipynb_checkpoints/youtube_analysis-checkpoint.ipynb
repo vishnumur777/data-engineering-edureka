{
 "cells": [
  {
   "cell_type": "code",
   "execution_count": 1,
   "id": "93baac75-39f3-4de8-a62a-67b2765d6ed0",
   "metadata": {},
   "outputs": [],
   "source": [
    "from pyspark.sql import SparkSession"
   ]
  },
  {
   "cell_type": "code",
   "execution_count": 2,
   "id": "97d25947-6dd8-437b-83fe-979fc0ea8f58",
   "metadata": {},
   "outputs": [
    {
     "name": "stderr",
     "output_type": "stream",
     "text": [
      "25/07/05 14:28:55 WARN NativeCodeLoader: Unable to load native-hadoop library for your platform... using builtin-java classes where applicable\n",
      "Setting default log level to \"WARN\".\n",
      "To adjust logging level use sc.setLogLevel(newLevel). For SparkR, use setLogLevel(newLevel).\n",
      "25/07/05 14:28:56 WARN Utils: Service 'SparkUI' could not bind on port 4040. Attempting port 4041.\n",
      "25/07/05 14:28:56 WARN Utils: Service 'SparkUI' could not bind on port 4041. Attempting port 4042.\n",
      "25/07/05 14:28:56 WARN Utils: Service 'SparkUI' could not bind on port 4042. Attempting port 4043.\n"
     ]
    }
   ],
   "source": [
    "spark = SparkSession.builder.appName(\"YoutubeAnalysis\").master(\"local[1]\").getOrCreate()"
   ]
  },
  {
   "cell_type": "code",
   "execution_count": 3,
   "id": "ac7956c2-ebc4-4b2c-bfb9-bbc1454f1029",
   "metadata": {},
   "outputs": [],
   "source": [
    "from pyspark.sql.functions import *\n",
    "from pyspark.sql.types import *"
   ]
  },
  {
   "cell_type": "code",
   "execution_count": 11,
   "id": "c7e61a36-7e6d-48fa-a786-e3025e75a7a8",
   "metadata": {},
   "outputs": [],
   "source": [
    "youtube_sch = StructType([\\\n",
    "                          StructField(\"Video id\", StringType(), True),\\\n",
    "                          StructField(\"uploader\", StringType(), True),\\\n",
    "                          StructField(\"Interval\", IntegerType(), True),\\\n",
    "                          StructField(\"Category\", StringType(), True),\\\n",
    "                          StructField(\"Length\", IntegerType(), True),\\\n",
    "                          StructField(\"no_of_views\", IntegerType(), True),\\\n",
    "                          StructField(\"Rating\", DecimalType(), True),\\\n",
    "                          StructField(\"no_of_ratings\", IntegerType(), True),\\\n",
    "                          StructField(\"no_of_comments\", IntegerType(), True),\\\n",
    "                          StructField(\"Related_video_id\", StringType(), True)])"
   ]
  },
  {
   "cell_type": "code",
   "execution_count": 14,
   "id": "793f5784-4d27-4371-973e-bbad0959d143",
   "metadata": {},
   "outputs": [],
   "source": [
    "youtube_txt = spark.read.text(\"certification/youtube/youtubedata.txt\")"
   ]
  },
  {
   "cell_type": "code",
   "execution_count": 41,
   "id": "16f12135-e21c-4a23-9156-3d0283fe2e90",
   "metadata": {},
   "outputs": [],
   "source": [
    "split_df = youtube_txt.select(split(col(\"value\"), \"\\t+\").alias(\"fields\"))"
   ]
  },
  {
   "cell_type": "code",
   "execution_count": 45,
   "id": "39801dcc-6284-4d13-a5b0-d348075ae3ab",
   "metadata": {},
   "outputs": [],
   "source": [
    "final_df = split_df.select(\n",
    "    col(\"fields\").getItem(0).alias(\"Video_id\"),\n",
    "    col(\"fields\").getItem(1).alias(\"uploader\"),\n",
    "    col(\"fields\").getItem(2).cast(\"int\").alias(\"Interval\"),\n",
    "    col(\"fields\").getItem(3).alias(\"Category\"),\n",
    "    col(\"fields\").getItem(4).cast(\"int\").alias(\"Length\"),\n",
    "    col(\"fields\").getItem(5).cast(\"int\").alias(\"no_of_views\"),\n",
    "    col(\"fields\").getItem(6).cast(\"decimal(3,2)\").alias(\"Rating\"),\n",
    "    col(\"fields\").getItem(7).cast(\"int\").alias(\"no_of_ratings\"),\n",
    "    col(\"fields\").getItem(8).cast(\"int\").alias(\"no_of_comments\"),\n",
    "\n",
    "    slice(col(\"fields\"), 10, 5000).alias(\"Related_video_id\")\n",
    ")"
   ]
  },
  {
   "cell_type": "code",
   "execution_count": 46,
   "id": "a0c15c0e-1f6c-4c59-8353-bb68d2eef7c4",
   "metadata": {},
   "outputs": [
    {
     "name": "stdout",
     "output_type": "stream",
     "text": [
      "+-----------+--------------------+--------+--------------+------+-----------+------+-------------+--------------+--------------------+\n",
      "|   Video_id|            uploader|Interval|      Category|Length|no_of_views|Rating|no_of_ratings|no_of_comments|    Related_video_id|\n",
      "+-----------+--------------------+--------+--------------+------+-----------+------+-------------+--------------+--------------------+\n",
      "|QuRYeRnAuXM|EvilSquirrelPictures|    1135|Pets & Animals|   252|       1075|  4.96|           46|            86|[gFa1YMEJFag, nRc...|\n",
      "|3TYqkBJ9YRk|              hggh22|    1135|        Comedy|   169|        228|  5.00|            5|             3|[QuRYeRnAuXM, gFa...|\n",
      "|rSJ8QZWBegU|             TimeGem|    1135| Entertainment|    95|        356|  4.31|           13|             1|[QuRYeRnAuXM, gFa...|\n",
      "|nRcovJn9xHg|          wooochacha|    1135| Entertainment|   118|       1115|  2.23|           57|            73|[QuRYeRnAuXM, gFa...|\n",
      "+-----------+--------------------+--------+--------------+------+-----------+------+-------------+--------------+--------------------+\n",
      "only showing top 4 rows\n",
      "\n"
     ]
    }
   ],
   "source": [
    "final_df.show(4)"
   ]
  },
  {
   "cell_type": "markdown",
   "id": "b1e8dac9-8ab0-4ad4-b7ef-a31ec4c03e7b",
   "metadata": {},
   "source": [
    "### A. Find out the top 5 categories with maximum number of videos uploaded."
   ]
  },
  {
   "cell_type": "code",
   "execution_count": 48,
   "id": "ca2718c6-528f-4098-8be8-0e3b28edda31",
   "metadata": {},
   "outputs": [
    {
     "name": "stderr",
     "output_type": "stream",
     "text": [
      "[Stage 19:==========================================>           (158 + 1) / 200]\r"
     ]
    },
    {
     "name": "stdout",
     "output_type": "stream",
     "text": [
      "+---------------+-----+\n",
      "|       Category|Count|\n",
      "+---------------+-----+\n",
      "|  Entertainment|  908|\n",
      "|          Music|  862|\n",
      "|         Comedy|  414|\n",
      "| People & Blogs|  398|\n",
      "|News & Politics|  333|\n",
      "+---------------+-----+\n",
      "only showing top 5 rows\n",
      "\n"
     ]
    },
    {
     "name": "stderr",
     "output_type": "stream",
     "text": [
      "                                                                                \r"
     ]
    }
   ],
   "source": [
    "final_df.select(\"Category\").groupBy(\"Category\").agg(count(\"Category\").alias(\"Count\")).orderBy(col(\"Count\").desc()).show(5)"
   ]
  },
  {
   "cell_type": "markdown",
   "id": "05e89889-6e03-4fb8-bf9d-1bde1725d743",
   "metadata": {},
   "source": [
    "### B. Find out the top 10 rated videos."
   ]
  },
  {
   "cell_type": "code",
   "execution_count": 63,
   "id": "3f0732ad-872a-4be9-bcb8-4d3acb6e2e97",
   "metadata": {},
   "outputs": [
    {
     "name": "stdout",
     "output_type": "stream",
     "text": [
      "+-----------+-----------------+--------+----------------+------+-----------+------+-------------+--------------+--------------------+\n",
      "|   Video_id|         uploader|Interval|        Category|Length|no_of_views|Rating|no_of_ratings|no_of_comments|    Related_video_id|\n",
      "+-----------+-----------------+--------+----------------+------+-----------+------+-------------+--------------+--------------------+\n",
      "|Dl4km0v-P60|     all4tubekids|    1126| Travel & Events|   321|       8811|  5.00|          129|            63|[lj0UGs-0y6I, nbW...|\n",
      "|nPEOr55j0Fs|         kat12923|    1010|           Music|   194|       5915|  5.00|           84|            24|[yx_Zs8CZPZQ, E86...|\n",
      "|KQweSiiviVQ|          somedia|    1127|           Music|   200|       5422|  5.00|           65|            47|[aoDBacpCX34, xoD...|\n",
      "|voGD_rriZPA|     janyanjanyan|    1030| News & Politics|   536|       1654|  5.00|           55|            17|                  []|\n",
      "|jIuCA4RRtXE|          somedia|    1126|           Music|   202|       3125|  5.00|           49|            19|[ytBX89Ibe8g, xe-...|\n",
      "|gw0R0w-WqyA|       byteme2008|    1135|           Music|   307|       1956|  5.00|           46|            69|[nVFS6mz6zQo, RSc...|\n",
      "|MgYM4dq79Q0|starryeyesxxvideo|    1038|   Entertainment|   269|       1908|  5.00|           45|            19|[u9K0FGbsvSs, t-Y...|\n",
      "|gjbG5N4EfDc|        ruitico34|     838|           Music|   261|      14752|  5.00|           43|            23|[BuNLvd77hBc, Nr_...|\n",
      "|MIQFTBsGccA|         HortonGB|    1116|Film & Animation|   174|      13103|  5.00|           42|            45|[TEJenuU1QKE, N12...|\n",
      "|hFCe9HSw2vc|   nvpatentlawyer|    1062| News & Politics|   368|       2908|  5.00|           40|            17|                  []|\n",
      "+-----------+-----------------+--------+----------------+------+-----------+------+-------------+--------------+--------------------+\n",
      "only showing top 10 rows\n",
      "\n"
     ]
    }
   ],
   "source": [
    "final_df.where(final_df.Rating==5.00).orderBy(final_df.no_of_ratings.desc()).show(10)"
   ]
  },
  {
   "cell_type": "markdown",
   "id": "674790a1-5c7c-4a1e-b23f-523ebace5f2c",
   "metadata": {},
   "source": [
    "### C. Find out the most viewed videos."
   ]
  },
  {
   "cell_type": "code",
   "execution_count": 64,
   "id": "989eb309-710a-48c2-9b65-06394d7cde5a",
   "metadata": {},
   "outputs": [
    {
     "name": "stdout",
     "output_type": "stream",
     "text": [
      "+-----------+---------------+--------+----------------+------+-----------+------+-------------+--------------+--------------------+\n",
      "|   Video_id|       uploader|Interval|        Category|Length|no_of_views|Rating|no_of_ratings|no_of_comments|    Related_video_id|\n",
      "+-----------+---------------+--------+----------------+------+-----------+------+-------------+--------------+--------------------+\n",
      "|12Z3J1uzd0Q|        kaejane|     404|Film & Animation|   615|   65341925|  3.03|         9189|          5508|[innfyQZHPpo, -_C...|\n",
      "|4DC4Rb9quKk|   ChrisBrownTV|     933|           Music|   265|   33754615|  4.84|        73257|         50036|[OqumjziPTzk, 1Hc...|\n",
      "|LU8DDYz68kM|       Jason275|     807|  Pets & Animals|   503|   27721690|  4.88|        58850|         24004|[VryQDsx5Ad8, _Bt...|\n",
      "|kHmvkRoEowc|itschriscrocker|     937|   Entertainment|   131|   18235463|  2.42|       122129|        259683|[h863nXDqCM0, hZA...|\n",
      "|Md6rURKhZmA|    TPainVideos|     857|           Music|   240|   18141492|  4.83|        34802|         17731|[Oy-nqyfR_w4, 4DC...|\n",
      "|EwTZ2xpQwpA|      TayZonday|     796|           Music|   292|   16841569|  4.23|        83514|        129200|[2x2W12A8Qow, P6d...|\n",
      "|A2f3cuUXXRs|       RKellyTV|     751|           Music|   326|   13038204|  4.80|        18910|         11315|[Md6rURKhZmA, nU8...|\n",
      "|rZBA0SKmQy8|    TownIdiot25|     848|          Comedy|   130|   11007201|  4.83|        75004|         30666|[YXZjh0Cejvc, wcA...|\n",
      "|irp8CNj9qBI|    Frozentoast|     215|           Music|   349|   10172172|  4.90|        43774|         29330|[cxbFLYa0_bw, iik...|\n",
      "|ZCYaw5tGYAs|       nozzle49|     529|          Comedy|    80|    8944331|  4.86|        16551|          6938|[58CZcCvwND4, 3ER...|\n",
      "+-----------+---------------+--------+----------------+------+-----------+------+-------------+--------------+--------------------+\n",
      "only showing top 10 rows\n",
      "\n"
     ]
    }
   ],
   "source": [
    "final_df.orderBy(final_df.no_of_views.desc()).show(10)"
   ]
  }
 ],
 "metadata": {
  "kernelspec": {
   "display_name": "PySpark 3",
   "language": "python",
   "name": "pyspark3_env"
  },
  "language_info": {
   "codemirror_mode": {
    "name": "ipython",
    "version": 3
   },
   "file_extension": ".py",
   "mimetype": "text/x-python",
   "name": "python",
   "nbconvert_exporter": "python",
   "pygments_lexer": "ipython3",
   "version": "3.9.13"
  }
 },
 "nbformat": 4,
 "nbformat_minor": 5
}
