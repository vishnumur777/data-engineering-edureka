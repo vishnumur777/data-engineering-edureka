{
 "cells": [
  {
   "cell_type": "code",
   "execution_count": 1,
   "id": "112945c8-b134-4e86-87b0-d6bb6aec38b3",
   "metadata": {},
   "outputs": [],
   "source": [
    "from pyspark.sql import SparkSession"
   ]
  },
  {
   "cell_type": "code",
   "execution_count": 29,
   "id": "4783f84c-df76-45d1-a5e4-e287a9487351",
   "metadata": {},
   "outputs": [],
   "source": [
    "from pyspark.sql.functions import *\n",
    "from pyspark.sql.types import *\n",
    "from pyspark.storagelevel import StorageLevel"
   ]
  },
  {
   "cell_type": "code",
   "execution_count": 3,
   "id": "192357a4-1ee1-4f7d-bb37-dc53ef64149f",
   "metadata": {},
   "outputs": [
    {
     "name": "stderr",
     "output_type": "stream",
     "text": [
      "25/07/06 07:47:00 WARN NativeCodeLoader: Unable to load native-hadoop library for your platform... using builtin-java classes where applicable\n",
      "Setting default log level to \"WARN\".\n",
      "To adjust logging level use sc.setLogLevel(newLevel). For SparkR, use setLogLevel(newLevel).\n",
      "25/07/06 07:47:01 WARN Utils: Service 'SparkUI' could not bind on port 4040. Attempting port 4041.\n",
      "25/07/06 07:47:01 WARN Utils: Service 'SparkUI' could not bind on port 4041. Attempting port 4042.\n",
      "25/07/06 07:47:01 WARN Utils: Service 'SparkUI' could not bind on port 4042. Attempting port 4043.\n",
      "25/07/06 07:47:01 WARN Utils: Service 'SparkUI' could not bind on port 4043. Attempting port 4044.\n"
     ]
    }
   ],
   "source": [
    "spark = SparkSession.builder.master(\"local[5]\").appName(\"BookSpark\").getOrCreate()"
   ]
  },
  {
   "cell_type": "code",
   "execution_count": 5,
   "id": "e617d5fc-f20a-42dc-8459-775a77c2e6c9",
   "metadata": {},
   "outputs": [
    {
     "name": "stderr",
     "output_type": "stream",
     "text": [
      "                                                                                \r"
     ]
    }
   ],
   "source": [
    "book_ratings = spark.read.csv(\"certification/books/BX-Book-Ratings.csv\", sep=\";\", header=True, inferSchema=True)"
   ]
  },
  {
   "cell_type": "code",
   "execution_count": 6,
   "id": "184653eb-b607-476e-88f6-94b773887187",
   "metadata": {},
   "outputs": [
    {
     "name": "stdout",
     "output_type": "stream",
     "text": [
      "+-------+----------+-----------+\n",
      "|User-ID|      ISBN|Book-Rating|\n",
      "+-------+----------+-----------+\n",
      "| 276725|034545104X|          0|\n",
      "| 276726|0155061224|          5|\n",
      "| 276727|0446520802|          0|\n",
      "| 276729|052165615X|          3|\n",
      "| 276729|0521795028|          6|\n",
      "+-------+----------+-----------+\n",
      "only showing top 5 rows\n",
      "\n"
     ]
    }
   ],
   "source": [
    "book_ratings.show(5)"
   ]
  },
  {
   "cell_type": "code",
   "execution_count": 7,
   "id": "ff02f995-88e5-4a10-907c-ef8b6b2805bd",
   "metadata": {},
   "outputs": [
    {
     "name": "stderr",
     "output_type": "stream",
     "text": [
      "                                                                                \r"
     ]
    }
   ],
   "source": [
    "books = spark.read.csv(\"certification/books/BX-Books.csv\", sep=\";\", header=True, inferSchema=True)"
   ]
  },
  {
   "cell_type": "code",
   "execution_count": 8,
   "id": "c00bfa47-e4a5-4299-a20a-aeed070b2666",
   "metadata": {},
   "outputs": [
    {
     "name": "stdout",
     "output_type": "stream",
     "text": [
      "+----------+--------------------+--------------------+-------------------+--------------------+--------------------+--------------------+--------------------+\n",
      "|      ISBN|          Book-Title|         Book-Author|Year-Of-Publication|           Publisher|         Image-URL-S|         Image-URL-M|         Image-URL-L|\n",
      "+----------+--------------------+--------------------+-------------------+--------------------+--------------------+--------------------+--------------------+\n",
      "|0195153448| Classical Mythology|  Mark P. O. Morford|               2002|Oxford University...|http://images.ama...|http://images.ama...|http://images.ama...|\n",
      "|0002005018|        Clara Callan|Richard Bruce Wright|               2001|HarperFlamingo Ca...|http://images.ama...|http://images.ama...|http://images.ama...|\n",
      "|0060973129|Decision in Normandy|        Carlo D'Este|               1991|     HarperPerennial|http://images.ama...|http://images.ama...|http://images.ama...|\n",
      "|0374157065|Flu: The Story of...|    Gina Bari Kolata|               1999|Farrar Straus Giroux|http://images.ama...|http://images.ama...|http://images.ama...|\n",
      "|0393045218|The Mummies of Ur...|     E. J. W. Barber|               1999|W. W. Norton &amp...|http://images.ama...|http://images.ama...|http://images.ama...|\n",
      "+----------+--------------------+--------------------+-------------------+--------------------+--------------------+--------------------+--------------------+\n",
      "only showing top 5 rows\n",
      "\n"
     ]
    }
   ],
   "source": [
    "books.show(5)"
   ]
  },
  {
   "cell_type": "code",
   "execution_count": 33,
   "id": "8986bbc8-77fe-4d7a-92c6-5e596c8ffb13",
   "metadata": {},
   "outputs": [
    {
     "name": "stderr",
     "output_type": "stream",
     "text": [
      "25/07/06 08:15:45 WARN CacheManager: Asked to cache already cached data.\n"
     ]
    }
   ],
   "source": [
    "books = books.persist(StorageLevel.MEMORY_ONLY)"
   ]
  },
  {
   "cell_type": "code",
   "execution_count": 42,
   "id": "7cfd0010-c390-41d3-9701-8471fd532466",
   "metadata": {},
   "outputs": [],
   "source": [
    "books = books.repartition(1000, \"Year-of-Publication\")"
   ]
  },
  {
   "cell_type": "code",
   "execution_count": 43,
   "id": "832b0ea7-89fc-4eb0-b04a-96cb62a7b351",
   "metadata": {},
   "outputs": [],
   "source": [
    "users = spark.read.csv(\"certification/books/BX-Users.csv\", sep=\";\", header=True, inferSchema=True)"
   ]
  },
  {
   "cell_type": "code",
   "execution_count": 44,
   "id": "e32f47ef-2aa6-4049-a30e-cc8907020d08",
   "metadata": {},
   "outputs": [
    {
     "name": "stdout",
     "output_type": "stream",
     "text": [
      "+-------+--------------------+----+\n",
      "|User-ID|            Location| Age|\n",
      "+-------+--------------------+----+\n",
      "|      1|  nyc, new york, usa|NULL|\n",
      "|      2|stockton, califor...|  18|\n",
      "|      3|moscow, yukon ter...|NULL|\n",
      "|      4|porto, v.n.gaia, ...|  17|\n",
      "|      5|farnborough, hant...|NULL|\n",
      "+-------+--------------------+----+\n",
      "only showing top 5 rows\n",
      "\n"
     ]
    }
   ],
   "source": [
    "users.show(5)"
   ]
  },
  {
   "cell_type": "markdown",
   "id": "93443c97-b67c-4b0a-b86e-416e8896c3bc",
   "metadata": {},
   "source": [
    "### A. Find out the frequency of books published each year. (Hint: Use Boooks.csv file for this)"
   ]
  },
  {
   "cell_type": "code",
   "execution_count": 45,
   "id": "4168d111-6846-42d8-9ac0-790294af190f",
   "metadata": {},
   "outputs": [
    {
     "name": "stderr",
     "output_type": "stream",
     "text": [
      "                                                                                \r"
     ]
    },
    {
     "name": "stdout",
     "output_type": "stream",
     "text": [
      "+-------------------+-----+\n",
      "|Year-of-Publication|count|\n",
      "+-------------------+-----+\n",
      "|               2003|14359|\n",
      "|               1955|   70|\n",
      "|               1978| 2131|\n",
      "|               1925|    2|\n",
      "|               1944|    4|\n",
      "|               2038|    1|\n",
      "|               1997|14892|\n",
      "|               1806|    1|\n",
      "|               1901|    7|\n",
      "|               1971|  540|\n",
      "|               1957|   76|\n",
      "|               1945|    8|\n",
      "|               1989| 7937|\n",
      "|               1910|    1|\n",
      "|               1965|  173|\n",
      "|               1985| 5343|\n",
      "|               1921|    2|\n",
      "|               1987| 6529|\n",
      "|               1941|   10|\n",
      "|               1897|    1|\n",
      "+-------------------+-----+\n",
      "only showing top 20 rows\n",
      "\n"
     ]
    }
   ],
   "source": [
    "books.groupBy(\"Year-of-Publication\").count().show()"
   ]
  },
  {
   "cell_type": "markdown",
   "id": "63108515-0a36-442e-b806-02dfecd5e155",
   "metadata": {},
   "source": [
    "### B.Find out in which year maximum number of books were published"
   ]
  },
  {
   "cell_type": "code",
   "execution_count": 46,
   "id": "bde30b32-3767-468c-95e4-a1071495db0d",
   "metadata": {},
   "outputs": [
    {
     "name": "stderr",
     "output_type": "stream",
     "text": [
      "[Stage 107:=================================================>  (951 + 7) / 1000]\r"
     ]
    },
    {
     "name": "stdout",
     "output_type": "stream",
     "text": [
      "+-------------------+----------+\n",
      "|Year-of-Publication|Book Count|\n",
      "+-------------------+----------+\n",
      "|               2002|     17628|\n",
      "+-------------------+----------+\n",
      "only showing top 1 row\n",
      "\n"
     ]
    },
    {
     "name": "stderr",
     "output_type": "stream",
     "text": [
      "                                                                                \r"
     ]
    }
   ],
   "source": [
    "books.groupBy(\"Year-of-Publication\").agg(count(\"Year-of-Publication\").alias(\"Book Count\")).orderBy(col(\"Book Count\").desc()).show(1)"
   ]
  },
  {
   "cell_type": "markdown",
   "id": "3efc9fda-02f5-4129-8fcb-7ee907baad06",
   "metadata": {},
   "source": [
    "### C. Find out how many book were published based on ranking in the year 2002. ( Hint: Use Book.csv and Book-Ratings.csv)"
   ]
  },
  {
   "cell_type": "code",
   "execution_count": 49,
   "id": "9632a563-4ca5-4ada-961f-1ec4c0f922b1",
   "metadata": {},
   "outputs": [],
   "source": [
    "book_book_rating = books.join(book_ratings, on=\"ISBN\", how=\"inner\").where(books[\"Year-of-Publication\"]==2002)"
   ]
  },
  {
   "cell_type": "code",
   "execution_count": 50,
   "id": "6a493c37-2663-42be-85a3-4409ca802bd7",
   "metadata": {},
   "outputs": [
    {
     "name": "stderr",
     "output_type": "stream",
     "text": [
      "[Stage 116:===================================================> (196 + 4) / 200]\r"
     ]
    },
    {
     "name": "stdout",
     "output_type": "stream",
     "text": [
      "+-----------+----------+\n",
      "|Book-Rating|Book Count|\n",
      "+-----------+----------+\n",
      "|          0|     53815|\n",
      "|          8|      9881|\n",
      "|          7|      6670|\n",
      "|          9|      6564|\n",
      "|         10|      6273|\n",
      "|          5|      3614|\n",
      "|          6|      3186|\n",
      "|          4|       861|\n",
      "|          3|       534|\n",
      "|          2|       260|\n",
      "|          1|       143|\n",
      "+-----------+----------+\n",
      "\n"
     ]
    },
    {
     "name": "stderr",
     "output_type": "stream",
     "text": [
      "                                                                                \r"
     ]
    }
   ],
   "source": [
    "book_book_rating.groupBy(col(\"Book-Rating\")).agg(count(\"Book-Rating\").alias(\"Book Count\")).orderBy(col(\"Book Count\").desc()).show()"
   ]
  }
 ],
 "metadata": {
  "kernelspec": {
   "display_name": "PySpark 3",
   "language": "python",
   "name": "pyspark3_env"
  },
  "language_info": {
   "codemirror_mode": {
    "name": "ipython",
    "version": 3
   },
   "file_extension": ".py",
   "mimetype": "text/x-python",
   "name": "python",
   "nbconvert_exporter": "python",
   "pygments_lexer": "ipython3",
   "version": "3.9.13"
  }
 },
 "nbformat": 4,
 "nbformat_minor": 5
}
