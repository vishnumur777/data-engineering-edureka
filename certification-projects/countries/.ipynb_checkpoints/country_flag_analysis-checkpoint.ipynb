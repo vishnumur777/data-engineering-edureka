{
 "cells": [
  {
   "cell_type": "code",
   "execution_count": 1,
   "id": "87c5e007-b524-4863-be95-7b4e33c69ba8",
   "metadata": {},
   "outputs": [],
   "source": [
    "from pyspark.sql import SparkSession"
   ]
  },
  {
   "cell_type": "code",
   "execution_count": 27,
   "id": "7b8ea3d9-34ea-47d3-a69d-8b8d449aaea3",
   "metadata": {},
   "outputs": [],
   "source": [
    "from pyspark.sql.functions import *\n",
    "from pyspark.sql.types import *\n",
    "from pyspark.sql import Column as cols"
   ]
  },
  {
   "cell_type": "code",
   "execution_count": 3,
   "id": "21c60797-a9d2-4da2-a585-571d5eabb482",
   "metadata": {},
   "outputs": [
    {
     "name": "stderr",
     "output_type": "stream",
     "text": [
      "25/07/06 04:31:02 WARN NativeCodeLoader: Unable to load native-hadoop library for your platform... using builtin-java classes where applicable\n",
      "Setting default log level to \"WARN\".\n",
      "To adjust logging level use sc.setLogLevel(newLevel). For SparkR, use setLogLevel(newLevel).\n",
      "25/07/06 04:31:03 WARN Utils: Service 'SparkUI' could not bind on port 4040. Attempting port 4041.\n",
      "25/07/06 04:31:03 WARN Utils: Service 'SparkUI' could not bind on port 4041. Attempting port 4042.\n"
     ]
    }
   ],
   "source": [
    "spark = SparkSession.builder.master(\"local[4]\").appName(\"FlagAnalysis\").getOrCreate()"
   ]
  },
  {
   "cell_type": "code",
   "execution_count": 14,
   "id": "2ccb857a-1777-460a-bae0-2beb3664f12b",
   "metadata": {},
   "outputs": [],
   "source": [
    "country_flag_sch = StructType([\\\n",
    "    StructField(\"name\", StringType(), True),\\\n",
    "    StructField(\"landmass\", IntegerType(), True),\\\n",
    "    StructField(\"zone\", IntegerType(), True),\\\n",
    "    StructField(\"area\", IntegerType(), True),\\\n",
    "    StructField(\"population\", IntegerType(), True),\\\n",
    "    StructField(\"language\", IntegerType(), True),\\\n",
    "    StructField(\"religion\", IntegerType(), True),\\\n",
    "    StructField(\"bars\", IntegerType(), True),\\\n",
    "    StructField(\"stripes\", IntegerType(), True),\\\n",
    "    StructField(\"colours\", IntegerType(), True),\\\n",
    "    StructField(\"red\", IntegerType(), True),\\\n",
    "    StructField(\"green\", IntegerType(), True),\\\n",
    "    StructField(\"blue\", IntegerType(), True),\\\n",
    "    StructField(\"gold\", IntegerType(), True),\\\n",
    "    StructField(\"white\", IntegerType(), True),\\\n",
    "    StructField(\"black\", IntegerType(), True),\\\n",
    "    StructField(\"orange\", IntegerType(), True),\\\n",
    "    StructField(\"mainhue\", StringType(), True),\\\n",
    "    StructField(\"circles\", IntegerType(), True),\\\n",
    "    StructField(\"crosses\", IntegerType(), True),\\\n",
    "    StructField(\"saltires\", IntegerType(), True),\\\n",
    "    StructField(\"quaters\", IntegerType(), True),\\\n",
    "    StructField(\"sunstars\", IntegerType(), True),\\\n",
    "    StructField(\"cresent\", IntegerType(), True),\\\n",
    "    StructField(\"triange\", IntegerType(), True),\\\n",
    "    StructField(\"icon\", IntegerType(), True),\\\n",
    "    StructField(\"animate\", IntegerType(), True),\\\n",
    "    StructField(\"text\", IntegerType(), True),\\\n",
    "    StructField(\"topleft\", StringType(), True),\\\n",
    "    StructField(\"botright\", StringType(), True)\\\n",
    "])"
   ]
  },
  {
   "cell_type": "code",
   "execution_count": 15,
   "id": "14de99b5-2a58-4492-b99a-8ab16d3b2035",
   "metadata": {},
   "outputs": [],
   "source": [
    "country = spark.read.csv(\"certification/country/country.csv\",sep=\",\",schema=country_flag_sch)"
   ]
  },
  {
   "cell_type": "code",
   "execution_count": 17,
   "id": "7a1fa95e-a98a-4c84-8367-2e30cba99f72",
   "metadata": {},
   "outputs": [
    {
     "name": "stdout",
     "output_type": "stream",
     "text": [
      "+--------------+--------+----+----+----------+--------+--------+----+-------+-------+---+-----+----+----+-----+-----+------+-------+-------+-------+--------+-------+--------+-------+-------+----+-------+----+-------+--------+\n",
      "|          name|landmass|zone|area|population|language|religion|bars|stripes|colours|red|green|blue|gold|white|black|orange|mainhue|circles|crosses|saltires|quaters|sunstars|cresent|triange|icon|animate|text|topleft|botright|\n",
      "+--------------+--------+----+----+----------+--------+--------+----+-------+-------+---+-----+----+----+-----+-----+------+-------+-------+-------+--------+-------+--------+-------+-------+----+-------+----+-------+--------+\n",
      "|   Afghanistan|       5|   1| 648|        16|      10|       2|   0|      3|      5|  1|    1|   0|   1|    1|    1|     0|  green|      0|      0|       0|      0|       1|      0|      0|   1|      0|   0|  black|   green|\n",
      "|       Albania|       3|   1|  29|         3|       6|       6|   0|      0|      3|  1|    0|   0|   1|    0|    1|     0|    red|      0|      0|       0|      0|       1|      0|      0|   0|      1|   0|    red|     red|\n",
      "|       Algeria|       4|   1|2388|        20|       8|       2|   2|      0|      3|  1|    1|   0|   0|    1|    0|     0|  green|      0|      0|       0|      0|       1|      1|      0|   0|      0|   0|  green|   white|\n",
      "|American-Samoa|       6|   3|   0|         0|       1|       1|   0|      0|      5|  1|    0|   1|   1|    1|    0|     1|   blue|      0|      0|       0|      0|       0|      0|      1|   1|      1|   0|   blue|     red|\n",
      "+--------------+--------+----+----+----------+--------+--------+----+-------+-------+---+-----+----+----+-----+-----+------+-------+-------+-------+--------+-------+--------+-------+-------+----+-------+----+-------+--------+\n",
      "only showing top 4 rows\n",
      "\n"
     ]
    }
   ],
   "source": [
    "country.show(4)"
   ]
  },
  {
   "cell_type": "markdown",
   "id": "9594e21e-9208-4987-84d3-3db238b379ef",
   "metadata": {},
   "source": [
    "### A. Count number of countries based on landmass"
   ]
  },
  {
   "cell_type": "code",
   "execution_count": 22,
   "id": "8301ba88-d281-431e-81c6-388489db6f15",
   "metadata": {},
   "outputs": [],
   "source": [
    "country_count_df = country.groupBy(\"landmass\").agg(count(\"landmass\").alias(\"Country_Count\")).orderBy(col(\"landmass\"))"
   ]
  },
  {
   "cell_type": "code",
   "execution_count": 34,
   "id": "14c66927-6858-4afa-a5df-9c91906ded0f",
   "metadata": {},
   "outputs": [],
   "source": [
    "continents = [\"N. America\", \"S. America\", \"Europe\", \"Africa\", \"Asia\", \"Oceania\"]"
   ]
  },
  {
   "cell_type": "code",
   "execution_count": 45,
   "id": "b9819f8e-e8e5-456b-a5aa-1cad36ffdc48",
   "metadata": {},
   "outputs": [],
   "source": [
    "continent_df = spark.createDataFrame([(x,y) for x,y in zip(range(1,7),continents)], [\"landmass\", \"continents\"])"
   ]
  },
  {
   "cell_type": "code",
   "execution_count": 46,
   "id": "4057d997-ab2f-422f-9b7e-a2f9511ec1aa",
   "metadata": {},
   "outputs": [
    {
     "name": "stdout",
     "output_type": "stream",
     "text": [
      "+--------+----------+\n",
      "|landmass|continents|\n",
      "+--------+----------+\n",
      "|       1|N. America|\n",
      "|       2|S. America|\n",
      "|       3|    Europe|\n",
      "|       4|    Africa|\n",
      "|       5|      Asia|\n",
      "|       6|   Oceania|\n",
      "+--------+----------+\n",
      "\n"
     ]
    },
    {
     "name": "stderr",
     "output_type": "stream",
     "text": [
      "                                                                                \r"
     ]
    }
   ],
   "source": [
    "continent_df.show()"
   ]
  },
  {
   "cell_type": "code",
   "execution_count": 48,
   "id": "f247971a-f8f0-4293-a9c0-4eedecba7e14",
   "metadata": {},
   "outputs": [
    {
     "name": "stderr",
     "output_type": "stream",
     "text": [
      "                                                                                \r"
     ]
    },
    {
     "name": "stdout",
     "output_type": "stream",
     "text": [
      "+----------+-------------+\n",
      "|continents|Country_Count|\n",
      "+----------+-------------+\n",
      "|N. America|           31|\n",
      "|S. America|           17|\n",
      "|    Europe|           35|\n",
      "|    Africa|           52|\n",
      "|      Asia|           39|\n",
      "|   Oceania|           20|\n",
      "+----------+-------------+\n",
      "\n"
     ]
    }
   ],
   "source": [
    "continent_df.join(country_count_df, on=\"landmass\", how=\"inner\").select([\"continents\", \"Country_Count\"]).show()"
   ]
  },
  {
   "cell_type": "markdown",
   "id": "69be5d01-a00c-4453-b4da-b1b9e095284a",
   "metadata": {},
   "source": [
    "### B. Find out top 5 country with Sum of bars and strips in a flag"
   ]
  },
  {
   "cell_type": "code",
   "execution_count": 53,
   "id": "efb7249e-ae8f-424f-84fa-76e22892cf6d",
   "metadata": {},
   "outputs": [
    {
     "name": "stdout",
     "output_type": "stream",
     "text": [
      "+--------+----+-------+------------+\n",
      "|    name|bars|stripes|bars+stripes|\n",
      "+--------+----+-------+------------+\n",
      "|Malaysia|   0|     14|          14|\n",
      "|     USA|   0|     13|          13|\n",
      "| Liberia|   0|     11|          11|\n",
      "| Uruguay|   0|      9|           9|\n",
      "|  Greece|   0|      9|           9|\n",
      "+--------+----+-------+------------+\n",
      "only showing top 5 rows\n",
      "\n"
     ]
    }
   ],
   "source": [
    "country.select([\"name\", \"bars\", \"stripes\"]).withColumn(\"bars+stripes\", country.bars+country.stripes).orderBy(col(\"bars+stripes\").desc()).show(5)"
   ]
  },
  {
   "cell_type": "markdown",
   "id": "738627ea-f7ec-4554-a394-928b9f965390",
   "metadata": {},
   "source": [
    "### C. Count of countries with icon."
   ]
  },
  {
   "cell_type": "code",
   "execution_count": 56,
   "id": "01d36859-e4d6-4e37-9ea9-9d2bea6587f7",
   "metadata": {},
   "outputs": [
    {
     "data": {
      "text/plain": [
       "49"
      ]
     },
     "execution_count": 56,
     "metadata": {},
     "output_type": "execute_result"
    }
   ],
   "source": [
    "country.select([\"name\", \"icon\"]).where(country.icon==1).count()"
   ]
  },
  {
   "cell_type": "markdown",
   "id": "3a627ae3-bc64-4640-9a01-c538926876f8",
   "metadata": {},
   "source": [
    "### D. Count of countries which have same top left and bottom right color in flag."
   ]
  },
  {
   "cell_type": "code",
   "execution_count": 60,
   "id": "16ea9f54-7dc7-4504-89f3-d6b7d5ab9c07",
   "metadata": {},
   "outputs": [
    {
     "data": {
      "text/plain": [
       "76"
      ]
     },
     "execution_count": 60,
     "metadata": {},
     "output_type": "execute_result"
    }
   ],
   "source": [
    "country.select([\"name\", \"topleft\", \"botright\"]).where(country.topleft==country.botright).count()"
   ]
  },
  {
   "cell_type": "markdown",
   "id": "773fc577-23a7-45b6-8104-c9c3da574dd2",
   "metadata": {},
   "source": [
    "### E. Count number of countries based on zone."
   ]
  },
  {
   "cell_type": "code",
   "execution_count": 79,
   "id": "4fd3ff57-9d2b-442f-aae3-652e73d840b4",
   "metadata": {},
   "outputs": [],
   "source": [
    "zone_count = country.groupBy(\"zone\").agg(count(\"zone\").alias(\"Country_Count\"))"
   ]
  },
  {
   "cell_type": "code",
   "execution_count": 80,
   "id": "03b9da3f-2b69-4060-9e5b-38158031c19a",
   "metadata": {},
   "outputs": [],
   "source": [
    "zones = [\"NE\", \"SE\", \"SW\", \"NW\"]"
   ]
  },
  {
   "cell_type": "code",
   "execution_count": 81,
   "id": "1f73af0c-113f-4524-a6bd-bcaeff10160e",
   "metadata": {},
   "outputs": [],
   "source": [
    "zone_name = spark.createDataFrame([(x,y) for x,y in zip(range(1,5),zones)],[\"zone\", \"zone_name\"])"
   ]
  },
  {
   "cell_type": "code",
   "execution_count": 84,
   "id": "44a083b7-070d-45e4-a720-be80c23b6112",
   "metadata": {},
   "outputs": [
    {
     "name": "stdout",
     "output_type": "stream",
     "text": [
      "+---------+-------------+\n",
      "|zone_name|Country_Count|\n",
      "+---------+-------------+\n",
      "|       NE|           91|\n",
      "|       NW|           58|\n",
      "|       SE|           29|\n",
      "|       SW|           16|\n",
      "+---------+-------------+\n",
      "\n"
     ]
    },
    {
     "name": "stderr",
     "output_type": "stream",
     "text": [
      "                                                                                \r"
     ]
    }
   ],
   "source": [
    "zone_count.join(zone_name, on=\"zone\", how=\"inner\").select([\"zone_name\", \"Country_Count\"]).orderBy(col(\"Country_Count\").desc()).show()"
   ]
  },
  {
   "cell_type": "markdown",
   "id": "0649baa4-ae17-4d54-80df-6fe50b4acbe3",
   "metadata": {},
   "source": [
    "### F. Find out largest county in terms of area in NE zone."
   ]
  },
  {
   "cell_type": "code",
   "execution_count": 92,
   "id": "a97fda4a-4da4-4e80-9178-959ec7b51470",
   "metadata": {},
   "outputs": [
    {
     "name": "stdout",
     "output_type": "stream",
     "text": [
      "+----+-----+\n",
      "|name| area|\n",
      "+----+-----+\n",
      "|USSR|22402|\n",
      "+----+-----+\n",
      "only showing top 1 row\n",
      "\n"
     ]
    }
   ],
   "source": [
    "country.where(country.zone==1).orderBy(col(\"area\").desc()).select([\"name\", \"area\"]).show(1)"
   ]
  },
  {
   "cell_type": "markdown",
   "id": "78a206d1-6be5-4dfc-aa40-ea0eceed490c",
   "metadata": {},
   "source": [
    "### G. Find out least populated country in S.America landmass"
   ]
  },
  {
   "cell_type": "code",
   "execution_count": 96,
   "id": "b341eac6-3c58-4258-bfda-573e95353a08",
   "metadata": {},
   "outputs": [
    {
     "name": "stdout",
     "output_type": "stream",
     "text": [
      "+-------------+----------+\n",
      "|         name|population|\n",
      "+-------------+----------+\n",
      "|French-Guiana|         0|\n",
      "+-------------+----------+\n",
      "only showing top 1 row\n",
      "\n"
     ]
    }
   ],
   "source": [
    "country.where(country.landmass==2).select([\"name\", \"population\"]).orderBy(\"population\").show(1)"
   ]
  },
  {
   "cell_type": "markdown",
   "id": "9a0c2a26-361f-4f6a-9835-4e0918d07808",
   "metadata": {},
   "source": [
    "French-Guiana has less than million populations"
   ]
  },
  {
   "cell_type": "markdown",
   "id": "349a855f-f34d-47a3-a910-b87866ce7f97",
   "metadata": {},
   "source": [
    "### H. Find out largest speaking language among all countries."
   ]
  },
  {
   "cell_type": "code",
   "execution_count": 102,
   "id": "4ee0869b-c23d-4167-bc56-5bb02e3d4a79",
   "metadata": {},
   "outputs": [],
   "source": [
    "language_count = country.groupBy(\"language\").agg(count(\"language\").alias(\"Country_Count\")).orderBy(col(\"Country_Count\").desc())"
   ]
  },
  {
   "cell_type": "code",
   "execution_count": 98,
   "id": "944418e1-7ab9-43ce-b8f0-4362b5b8f901",
   "metadata": {},
   "outputs": [],
   "source": [
    "languages = [\"English\", \"Spanish\", \"French\", \"German\", \"Slavic\", \"Other Indo-European\", \"Chinese\", \"Arabic\", \"Japanese/Turkish/Finnish/Magyar\", \"Others\"]"
   ]
  },
  {
   "cell_type": "code",
   "execution_count": 99,
   "id": "54f8382e-28ba-4a91-a5cc-e66171cee243",
   "metadata": {},
   "outputs": [],
   "source": [
    "language_df = spark.createDataFrame([(x, y) for x, y in zip(range(1,11), languages)],[\"language\", \"language_name\"])"
   ]
  },
  {
   "cell_type": "code",
   "execution_count": 103,
   "id": "440350da-947c-4e67-9a5f-cd31d6e415bc",
   "metadata": {},
   "outputs": [
    {
     "name": "stderr",
     "output_type": "stream",
     "text": [
      "                                                                                \r"
     ]
    },
    {
     "name": "stdout",
     "output_type": "stream",
     "text": [
      "+--------------------+-------------+\n",
      "|       language_name|Country_Count|\n",
      "+--------------------+-------------+\n",
      "|              Others|           46|\n",
      "|             English|           43|\n",
      "| Other Indo-European|           30|\n",
      "|             Spanish|           21|\n",
      "|              Arabic|           19|\n",
      "|              French|           17|\n",
      "|              German|            6|\n",
      "|             Chinese|            4|\n",
      "|              Slavic|            4|\n",
      "|Japanese/Turkish/...|            4|\n",
      "+--------------------+-------------+\n",
      "\n"
     ]
    }
   ],
   "source": [
    "language_df.join(language_count, on=\"language\", how=\"inner\").select([\"language_name\", \"Country_Count\"]).orderBy(col(\"Country_Count\").desc()).show()"
   ]
  },
  {
   "cell_type": "markdown",
   "id": "bbd73a07-818c-4443-b694-86e54901068a",
   "metadata": {},
   "source": [
    "### I. Find most common colour among flags from all countries"
   ]
  },
  {
   "cell_type": "code",
   "execution_count": 118,
   "id": "18bf8aad-8a36-498e-a489-93d81f18218f",
   "metadata": {},
   "outputs": [],
   "source": [
    "color_sum = country.select(sum(country.blue).alias(\"blue\"), sum(country.red).alias(\"red\"), sum(country.green).alias(\"green\"), sum(country.gold).alias(\"gold\"), sum(country.orange).alias(\"orange\"), sum(country.black).alias(\"black\"), sum(country.white).alias(\"white\"))"
   ]
  },
  {
   "cell_type": "code",
   "execution_count": 120,
   "id": "1021f09c-e328-4319-8048-e704a72cc5f9",
   "metadata": {},
   "outputs": [],
   "source": [
    "color_df = color_sum.toPandas().transpose()"
   ]
  },
  {
   "cell_type": "code",
   "execution_count": 130,
   "id": "1cc471e1-5ae8-4d5a-91bf-ec6e0d09ebd1",
   "metadata": {},
   "outputs": [],
   "source": [
    "color_df1 = color_df.reset_index()"
   ]
  },
  {
   "cell_type": "code",
   "execution_count": 131,
   "id": "640e36fd-473c-436e-94cf-6b2d23bdc0bf",
   "metadata": {},
   "outputs": [],
   "source": [
    "color_df1.columns = [\"Colour\", \"Count\"]"
   ]
  },
  {
   "cell_type": "code",
   "execution_count": 133,
   "id": "7851d29a-10d8-4995-8996-a1bf4f47f807",
   "metadata": {},
   "outputs": [
    {
     "data": {
      "text/html": [
       "<div>\n",
       "<style scoped>\n",
       "    .dataframe tbody tr th:only-of-type {\n",
       "        vertical-align: middle;\n",
       "    }\n",
       "\n",
       "    .dataframe tbody tr th {\n",
       "        vertical-align: top;\n",
       "    }\n",
       "\n",
       "    .dataframe thead th {\n",
       "        text-align: right;\n",
       "    }\n",
       "</style>\n",
       "<table border=\"1\" class=\"dataframe\">\n",
       "  <thead>\n",
       "    <tr style=\"text-align: right;\">\n",
       "      <th></th>\n",
       "      <th>Colour</th>\n",
       "      <th>Count</th>\n",
       "    </tr>\n",
       "  </thead>\n",
       "  <tbody>\n",
       "    <tr>\n",
       "      <th>1</th>\n",
       "      <td>red</td>\n",
       "      <td>153</td>\n",
       "    </tr>\n",
       "    <tr>\n",
       "      <th>6</th>\n",
       "      <td>white</td>\n",
       "      <td>146</td>\n",
       "    </tr>\n",
       "    <tr>\n",
       "      <th>0</th>\n",
       "      <td>blue</td>\n",
       "      <td>99</td>\n",
       "    </tr>\n",
       "    <tr>\n",
       "      <th>2</th>\n",
       "      <td>green</td>\n",
       "      <td>91</td>\n",
       "    </tr>\n",
       "    <tr>\n",
       "      <th>3</th>\n",
       "      <td>gold</td>\n",
       "      <td>91</td>\n",
       "    </tr>\n",
       "    <tr>\n",
       "      <th>5</th>\n",
       "      <td>black</td>\n",
       "      <td>52</td>\n",
       "    </tr>\n",
       "    <tr>\n",
       "      <th>4</th>\n",
       "      <td>orange</td>\n",
       "      <td>26</td>\n",
       "    </tr>\n",
       "  </tbody>\n",
       "</table>\n",
       "</div>"
      ],
      "text/plain": [
       "   Colour  Count\n",
       "1     red    153\n",
       "6   white    146\n",
       "0    blue     99\n",
       "2   green     91\n",
       "3    gold     91\n",
       "5   black     52\n",
       "4  orange     26"
      ]
     },
     "execution_count": 133,
     "metadata": {},
     "output_type": "execute_result"
    }
   ],
   "source": [
    "color_df1.sort_values(by=\"Count\", ascending=False)"
   ]
  },
  {
   "cell_type": "markdown",
   "id": "ba69e19c-e9dd-47a8-8380-0ef7e59e814f",
   "metadata": {},
   "source": [
    "### J. Sum of all circles present in all country flags"
   ]
  },
  {
   "cell_type": "code",
   "execution_count": 140,
   "id": "9545ec40-d1ad-4d22-b521-65de494938d7",
   "metadata": {},
   "outputs": [
    {
     "name": "stdout",
     "output_type": "stream",
     "text": [
      "+------------+\n",
      "|sum(circles)|\n",
      "+------------+\n",
      "|          33|\n",
      "+------------+\n",
      "\n"
     ]
    }
   ],
   "source": [
    "country.select(sum(country.circles)).show()"
   ]
  },
  {
   "cell_type": "markdown",
   "id": "f15c05c9-635d-4d1f-8a5d-a5382f79189b",
   "metadata": {},
   "source": [
    "### K. Count of countries which have both icon and text in flag."
   ]
  },
  {
   "cell_type": "code",
   "execution_count": 142,
   "id": "f3f16fe2-b893-4b74-adda-105d6b44dbe5",
   "metadata": {},
   "outputs": [
    {
     "data": {
      "text/plain": [
       "13"
      ]
     },
     "execution_count": 142,
     "metadata": {},
     "output_type": "execute_result"
    }
   ],
   "source": [
    "country.where((country.icon==1)&(country.text==1)).count()"
   ]
  }
 ],
 "metadata": {
  "kernelspec": {
   "display_name": "Python 3 (ipykernel)",
   "language": "python",
   "name": "python3"
  },
  "language_info": {
   "codemirror_mode": {
    "name": "ipython",
    "version": 3
   },
   "file_extension": ".py",
   "mimetype": "text/x-python",
   "name": "python",
   "nbconvert_exporter": "python",
   "pygments_lexer": "ipython3",
   "version": "3.9.13"
  }
 },
 "nbformat": 4,
 "nbformat_minor": 5
}
