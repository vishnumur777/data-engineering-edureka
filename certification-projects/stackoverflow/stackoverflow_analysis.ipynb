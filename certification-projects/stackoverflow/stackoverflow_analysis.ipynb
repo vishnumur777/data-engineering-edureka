{
 "cells": [
  {
   "cell_type": "code",
   "execution_count": 1,
   "id": "dadf9165-fe89-4f14-be4a-b6dda88a2575",
   "metadata": {},
   "outputs": [],
   "source": [
    "from pyspark.sql import SparkSession"
   ]
  },
  {
   "cell_type": "code",
   "execution_count": 2,
   "id": "15c27305-3fe5-4e96-847b-add7090c9a34",
   "metadata": {},
   "outputs": [],
   "source": [
    "from pyspark.sql.functions import *\n",
    "from pyspark.sql.types import *"
   ]
  },
  {
   "cell_type": "code",
   "execution_count": 3,
   "id": "9e845b73-9a9f-48fa-8037-bbad444f165c",
   "metadata": {},
   "outputs": [
    {
     "name": "stderr",
     "output_type": "stream",
     "text": [
      "25/07/06 13:46:36 WARN NativeCodeLoader: Unable to load native-hadoop library for your platform... using builtin-java classes where applicable\n",
      "Setting default log level to \"WARN\".\n",
      "To adjust logging level use sc.setLogLevel(newLevel). For SparkR, use setLogLevel(newLevel).\n",
      "25/07/06 13:46:37 WARN Utils: Service 'SparkUI' could not bind on port 4040. Attempting port 4041.\n",
      "25/07/06 13:46:37 WARN Utils: Service 'SparkUI' could not bind on port 4041. Attempting port 4042.\n",
      "25/07/06 13:46:37 WARN Utils: Service 'SparkUI' could not bind on port 4042. Attempting port 4043.\n",
      "25/07/06 13:46:37 WARN Utils: Service 'SparkUI' could not bind on port 4043. Attempting port 4044.\n",
      "25/07/06 13:46:37 WARN Utils: Service 'SparkUI' could not bind on port 4044. Attempting port 4045.\n",
      "25/07/06 13:46:37 WARN Utils: Service 'SparkUI' could not bind on port 4045. Attempting port 4046.\n",
      "25/07/06 13:46:37 WARN Utils: Service 'SparkUI' could not bind on port 4046. Attempting port 4047.\n",
      "25/07/06 13:46:37 WARN Utils: Service 'SparkUI' could not bind on port 4047. Attempting port 4048.\n"
     ]
    }
   ],
   "source": [
    "spark = SparkSession.builder.master(\"local[5]\").appName(\"VarunSpark\").getOrCreate()"
   ]
  },
  {
   "cell_type": "code",
   "execution_count": 4,
   "id": "cdad6c18-7c53-457e-8ec6-937fc2817cd4",
   "metadata": {},
   "outputs": [],
   "source": [
    "comment_sch = StructType([\\\n",
    "                          StructField(\"id\", IntegerType(), True),\\\n",
    "                          StructField(\"userid\", IntegerType(), True)])"
   ]
  },
  {
   "cell_type": "code",
   "execution_count": 5,
   "id": "837808ce-ef5e-44e3-8377-98c16ca41c13",
   "metadata": {},
   "outputs": [],
   "source": [
    "comments = spark.read.csv(\"certification/stackoverflow/comments.csv\", sep=\",\", schema=comment_sch)"
   ]
  },
  {
   "cell_type": "code",
   "execution_count": 6,
   "id": "a36df3d2-bf3b-4bbc-94f6-e69d15a54e5e",
   "metadata": {},
   "outputs": [
    {
     "name": "stderr",
     "output_type": "stream",
     "text": [
      "                                                                                \r"
     ]
    },
    {
     "name": "stdout",
     "output_type": "stream",
     "text": [
      "+--------+------+\n",
      "|      id|userid|\n",
      "+--------+------+\n",
      "|15494835|134554|\n",
      "|15494875| 11480|\n",
      "|15494879|104891|\n",
      "|15494920| 29407|\n",
      "|15494921| 64174|\n",
      "+--------+------+\n",
      "only showing top 5 rows\n",
      "\n"
     ]
    }
   ],
   "source": [
    "comments.show(5)"
   ]
  },
  {
   "cell_type": "code",
   "execution_count": 7,
   "id": "32c57f57-fd73-4c8e-9439-d5b678328adb",
   "metadata": {},
   "outputs": [],
   "source": [
    "post_sch = StructType([\\\n",
    "    StructField(\"id\", IntegerType() ,True),\\\n",
    "    StructField(\"post_type\", IntegerType() ,True),\\\n",
    "    StructField(\"creationdate\", TimestampType(),True),\\\n",
    "    StructField(\"score\", IntegerType() ,True),\\\n",
    "    StructField(\"viewcount\", IntegerType() ,True),\\\n",
    "    StructField(\"owneruserid\", IntegerType() ,True),\\\n",
    "    StructField(\"title\", StringType() ,True),\\\n",
    "    StructField(\"answercount\",IntegerType() ,True),\\\n",
    "    StructField(\"commentcount\",IntegerType() ,True)])"
   ]
  },
  {
   "cell_type": "code",
   "execution_count": 8,
   "id": "5b87e694-73d7-422d-bf7e-b3f20d7bd459",
   "metadata": {},
   "outputs": [],
   "source": [
    "posts = spark.read.csv(\"certification/stackoverflow/posts.csv\", sep=\",\", schema=post_sch)"
   ]
  },
  {
   "cell_type": "code",
   "execution_count": 9,
   "id": "0cfd2c87-5af0-4f13-8d82-eca0c4002530",
   "metadata": {},
   "outputs": [
    {
     "name": "stdout",
     "output_type": "stream",
     "text": [
      "+---+---------+-------------------+-----+---------+-----------+--------------------+-----------+------------+\n",
      "| id|post_type|       creationdate|score|viewcount|owneruserid|               title|answercount|commentcount|\n",
      "+---+---------+-------------------+-----+---------+-----------+--------------------+-----------+------------+\n",
      "|  4|        1|2008-07-31 21:42:52|  222|    13150|          8|When setting a fo...|         13|          34|\n",
      "|  6|        1|2008-07-31 22:08:08|   98|     6691|          9|Why doesn't the p...|          5|          12|\n",
      "|  7|        2|2008-07-31 22:17:57|  176|     null|          9|                null|       null|           0|\n",
      "|  8|        1|2008-07-31 23:33:19|   30|     2432|          9|Tool for Converti...|          3|           0|\n",
      "|  9|        1|2008-07-31 23:40:59|  582|   133946|          1|How do I calculat...|         37|           4|\n",
      "+---+---------+-------------------+-----+---------+-----------+--------------------+-----------+------------+\n",
      "only showing top 5 rows\n",
      "\n"
     ]
    }
   ],
   "source": [
    "posts.show(5)"
   ]
  },
  {
   "cell_type": "code",
   "execution_count": 10,
   "id": "3c392bd8-9418-4b61-8105-01ccaba50818",
   "metadata": {},
   "outputs": [],
   "source": [
    "posttypes_sch = StructType([\\\n",
    "                            StructField(\"id\", IntegerType(), True),\\\n",
    "                            StructField(\"name\", StringType(), True)])"
   ]
  },
  {
   "cell_type": "code",
   "execution_count": 11,
   "id": "4fd117d0-994d-4f13-9dee-134743a53f83",
   "metadata": {},
   "outputs": [],
   "source": [
    "posttypes = spark.read.csv(\"certification/stackoverflow/posttypes.csv\", sep=\",\", schema=posttypes_sch)"
   ]
  },
  {
   "cell_type": "code",
   "execution_count": 12,
   "id": "c21fa01b-b2c1-457e-a248-7e13e04d6ee1",
   "metadata": {},
   "outputs": [
    {
     "name": "stdout",
     "output_type": "stream",
     "text": [
      "+---+--------------+\n",
      "| id|          name|\n",
      "+---+--------------+\n",
      "|  1|      Question|\n",
      "|  2|        Answer|\n",
      "|  3|          Wiki|\n",
      "|  4|TagWikiExcerpt|\n",
      "|  5|       TagWiki|\n",
      "+---+--------------+\n",
      "only showing top 5 rows\n",
      "\n"
     ]
    }
   ],
   "source": [
    "posttypes.show(5)"
   ]
  },
  {
   "cell_type": "code",
   "execution_count": 13,
   "id": "6f57800e-8342-4a90-8de9-75653109fbde",
   "metadata": {},
   "outputs": [],
   "source": [
    "user_sch = StructType([\\\n",
    "    StructField(\"id\", IntegerType(),True),\\\n",
    "    StructField(\"reputation\", IntegerType(),True),\\\n",
    "    StructField(\"displayname\", StringType(),True),\\\n",
    "    StructField(\"loc\", StringType(),True),\\\n",
    "    StructField(\"age\", IntegerType(),True)])"
   ]
  },
  {
   "cell_type": "code",
   "execution_count": 14,
   "id": "6130958c-dfa3-45f3-bc76-a852cac6923c",
   "metadata": {},
   "outputs": [],
   "source": [
    "users = spark.read.csv(\"certification/stackoverflow/users.csv\", sep=\",\", schema=user_sch)"
   ]
  },
  {
   "cell_type": "code",
   "execution_count": 15,
   "id": "40ba67f7-20c9-4e6d-aaf5-82c04c74fd2b",
   "metadata": {},
   "outputs": [
    {
     "name": "stdout",
     "output_type": "stream",
     "text": [
      "+------+----------+-----------+-------------+----+\n",
      "|    id|reputation|displayname|          loc| age|\n",
      "+------+----------+-----------+-------------+----+\n",
      "|382275|      2792|      Steve| West Linn OR|  48|\n",
      "|382276|        21|      Yoshi|United States|null|\n",
      "|382277|        21|      Nancy|         null|null|\n",
      "|382278|        39| hanguofeng|         null|null|\n",
      "|382279|       612| jalagrange|         null|  28|\n",
      "+------+----------+-----------+-------------+----+\n",
      "only showing top 5 rows\n",
      "\n"
     ]
    }
   ],
   "source": [
    "users.show(5)"
   ]
  },
  {
   "cell_type": "markdown",
   "id": "49f4a11d-9f92-4abc-b5a0-21fb0fc7e723",
   "metadata": {},
   "source": [
    "### A. Find the display name and no. of posts created by the user who has got maximum reputation."
   ]
  },
  {
   "cell_type": "code",
   "execution_count": 24,
   "id": "e37b0b92-e8bb-4db0-8a89-b28d1730e016",
   "metadata": {},
   "outputs": [
    {
     "name": "stdout",
     "output_type": "stream",
     "text": [
      "+------+----------+----------------+\n",
      "|    id|reputation|     displayname|\n",
      "+------+----------+----------------+\n",
      "|382275|      2792|           Steve|\n",
      "|382276|        21|           Yoshi|\n",
      "|382277|        21|           Nancy|\n",
      "|382278|        39|      hanguofeng|\n",
      "|382279|       612|      jalagrange|\n",
      "|382280|         1|        sarlin13|\n",
      "|382281|         1|         bikeguy|\n",
      "|382282|         6|Brad Morton-Rhye|\n",
      "|382283|         6|           Lissa|\n",
      "|382284|         1|            M.M.|\n",
      "|382285|         1| Michel Demazure|\n",
      "|382289|         1|           Keith|\n",
      "|382290|       121|            lmxy|\n",
      "|382292|         1|            Amit|\n",
      "|382293|       355|           Roger|\n",
      "|382295|         6|      user382295|\n",
      "|382296|        21|          whitez|\n",
      "|382297|        16|tranquil.meadows|\n",
      "|382298|        11|            asdf|\n",
      "|382299|         1|            Sevi|\n",
      "+------+----------+----------------+\n",
      "only showing top 20 rows\n",
      "\n"
     ]
    }
   ],
   "source": [
    "users.join(posts, (users.id==posts.owneruserid), how=\"left\").select([users.id, users.reputation, users.displayname, posts. ]).show()"
   ]
  },
  {
   "cell_type": "code",
   "execution_count": null,
   "id": "d4f60fcb-a017-448d-af0f-b915a705848d",
   "metadata": {},
   "outputs": [],
   "source": []
  }
 ],
 "metadata": {
  "kernelspec": {
   "display_name": "PySpark 3",
   "language": "python",
   "name": "pyspark3_env"
  },
  "language_info": {
   "codemirror_mode": {
    "name": "ipython",
    "version": 3
   },
   "file_extension": ".py",
   "mimetype": "text/x-python",
   "name": "python",
   "nbconvert_exporter": "python",
   "pygments_lexer": "ipython3",
   "version": "3.9.13"
  }
 },
 "nbformat": 4,
 "nbformat_minor": 5
}
