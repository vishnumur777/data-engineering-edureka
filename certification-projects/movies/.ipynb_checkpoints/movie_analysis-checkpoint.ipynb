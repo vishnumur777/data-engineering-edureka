{
 "cells": [
  {
   "cell_type": "code",
   "execution_count": 1,
   "id": "a8ff8722-6197-4426-bb9b-981458a24b4b",
   "metadata": {},
   "outputs": [],
   "source": [
    "from pyspark.sql import SparkSession"
   ]
  },
  {
   "cell_type": "code",
   "execution_count": 2,
   "id": "474584ef-b780-48f6-8128-b650bd76bfb8",
   "metadata": {},
   "outputs": [],
   "source": [
    "from pyspark.sql.functions import *\n",
    "from pyspark.sql.types import *"
   ]
  },
  {
   "cell_type": "code",
   "execution_count": 3,
   "id": "02a20e35-ba37-4a59-b106-9b9b088a4c53",
   "metadata": {},
   "outputs": [
    {
     "name": "stderr",
     "output_type": "stream",
     "text": [
      "25/07/06 13:28:12 WARN NativeCodeLoader: Unable to load native-hadoop library for your platform... using builtin-java classes where applicable\n",
      "Setting default log level to \"WARN\".\n",
      "To adjust logging level use sc.setLogLevel(newLevel). For SparkR, use setLogLevel(newLevel).\n",
      "25/07/06 13:28:14 WARN Utils: Service 'SparkUI' could not bind on port 4040. Attempting port 4041.\n",
      "25/07/06 13:28:14 WARN Utils: Service 'SparkUI' could not bind on port 4041. Attempting port 4042.\n",
      "25/07/06 13:28:14 WARN Utils: Service 'SparkUI' could not bind on port 4042. Attempting port 4043.\n",
      "25/07/06 13:28:14 WARN Utils: Service 'SparkUI' could not bind on port 4043. Attempting port 4044.\n",
      "25/07/06 13:28:14 WARN Utils: Service 'SparkUI' could not bind on port 4044. Attempting port 4045.\n",
      "25/07/06 13:28:14 WARN Utils: Service 'SparkUI' could not bind on port 4045. Attempting port 4046.\n"
     ]
    }
   ],
   "source": [
    "spark = SparkSession.builder.master(\"local[4]\").appName(\"VarunSpark\").getOrCreate()"
   ]
  },
  {
   "cell_type": "code",
   "execution_count": 4,
   "id": "1addb6e7-3d8b-4800-9257-b9b8b22f4e01",
   "metadata": {},
   "outputs": [],
   "source": [
    "movies_sch = StructType([\\\n",
    "                         StructField(\"movie_ID\", IntegerType(),True),\\\n",
    "                         StructField(\"name\", StringType(),True),\\\n",
    "                         StructField(\"year\", IntegerType(),True),\\\n",
    "                         StructField(\"ratings\", DecimalType(),True),\\\n",
    "                         StructField(\"duration\", IntegerType(),True)])"
   ]
  },
  {
   "cell_type": "code",
   "execution_count": 5,
   "id": "3d3bb3ea-d801-46e1-8a5f-d16fb9b233c0",
   "metadata": {},
   "outputs": [],
   "source": [
    "movies = spark.read.csv(\"certification/movies/movies.csv\", sep=\",\", schema=movies_sch)"
   ]
  },
  {
   "cell_type": "code",
   "execution_count": 6,
   "id": "7629e8aa-7f59-4f52-92e7-d5e5e2c6983b",
   "metadata": {},
   "outputs": [
    {
     "name": "stderr",
     "output_type": "stream",
     "text": [
      "[Stage 0:>                                                          (0 + 1) / 1]\r"
     ]
    },
    {
     "name": "stdout",
     "output_type": "stream",
     "text": [
      "+--------+--------------------+----+-------+--------+\n",
      "|movie_ID|                name|year|ratings|duration|\n",
      "+--------+--------------------+----+-------+--------+\n",
      "|       1|The Nightmare Bef...|1993|      4|    4568|\n",
      "|       2|           The Mummy|1932|      4|    4388|\n",
      "|       3|Orphans of the Storm|1921|      3|    9062|\n",
      "|       4|The Object of Beauty|1991|      3|    6150|\n",
      "|       5|          Night Tide|1963|      3|    5126|\n",
      "+--------+--------------------+----+-------+--------+\n",
      "only showing top 5 rows\n",
      "\n"
     ]
    },
    {
     "name": "stderr",
     "output_type": "stream",
     "text": [
      "                                                                                \r"
     ]
    }
   ],
   "source": [
    "movies.show(5)"
   ]
  },
  {
   "cell_type": "markdown",
   "id": "8ad80fac-1f5f-43cf-8d6a-ca1a7dd75f95",
   "metadata": {},
   "source": [
    "### A. Find the number of movies released between 1950 and 1960"
   ]
  },
  {
   "cell_type": "code",
   "execution_count": 7,
   "id": "c57006cb-601a-4ea8-8c16-931be20940a0",
   "metadata": {},
   "outputs": [
    {
     "name": "stdout",
     "output_type": "stream",
     "text": [
      "+--------+--------------------+----+-------+--------+\n",
      "|movie_ID|                name|year|ratings|duration|\n",
      "+--------+--------------------+----+-------+--------+\n",
      "|      71|       All About Eve|1950|      4|    8300|\n",
      "|      94|House on Haunted ...|1959|      4|    4491|\n",
      "|      98|Godzilla: King of...|1956|      4|    4828|\n",
      "|     100|           High Noon|1952|      4|    5087|\n",
      "|     316|Beneath the 12-Mi...|1953|      3|    6036|\n",
      "|     371|        Black Sunday|1960|      3|    5209|\n",
      "|     402|Love Is a Many-Sp...|1955|      4|    6115|\n",
      "|     516|               Shane|1953|      4|    7081|\n",
      "|     591|     White Christmas|1954|      4|    7201|\n",
      "|     617|Attack of the Pup...|1958|      3|    4760|\n",
      "|     618|The Man from Plan...|1951|      3|    4242|\n",
      "|     633|        Carmen Jones|1954|      4|    6283|\n",
      "|     652|How to Marry a Mi...|1953|      4|    5744|\n",
      "|     653| The Seven Year Itch|1955|      4|    6264|\n",
      "|     654|There's No Busine...|1954|      4|    7033|\n",
      "|     673|       Roman Holiday|1953|      4|    7087|\n",
      "|     678|     Never on Sunday|1960|      3|    5571|\n",
      "|     690|   The African Queen|1951|      4|    6312|\n",
      "|     697|The Inn of the Si...|1958|      4|    9470|\n",
      "|     707|             The Men|1950|      3|    5207|\n",
      "+--------+--------------------+----+-------+--------+\n",
      "only showing top 20 rows\n",
      "\n"
     ]
    }
   ],
   "source": [
    "movies.where((movies.year>=1950)&(movies.year<=1960)).show()"
   ]
  },
  {
   "cell_type": "code",
   "execution_count": 8,
   "id": "22478824-b3b4-45ec-87a4-48a946f58973",
   "metadata": {},
   "outputs": [
    {
     "data": {
      "text/plain": [
       "547"
      ]
     },
     "execution_count": 8,
     "metadata": {},
     "output_type": "execute_result"
    }
   ],
   "source": [
    "movies.where((movies.year>=1950)&(movies.year<=1960)).count()"
   ]
  },
  {
   "cell_type": "markdown",
   "id": "da0cdc32-b8d8-40f3-9ac7-bc887e612f2d",
   "metadata": {},
   "source": [
    "### B. Find the number of movies having rating more than 4."
   ]
  },
  {
   "cell_type": "code",
   "execution_count": 9,
   "id": "e3db557c-3f89-4cae-81f5-e7f9d65b3bb6",
   "metadata": {},
   "outputs": [
    {
     "name": "stdout",
     "output_type": "stream",
     "text": [
      "+--------+--------------------+----+-------+--------+\n",
      "|movie_ID|                name|year|ratings|duration|\n",
      "+--------+--------------------+----+-------+--------+\n",
      "|    6997|Breaking Bad: Sea...|2008|      5|    null|\n",
      "|    8041|Breaking Bad: Sea...|2009|      5|    null|\n",
      "|   12079|Breaking Bad: Sea...|2010|      5|    null|\n",
      "|   13315|        Breaking Bad|2008|      5|    null|\n",
      "|   14721|The Walking Dead:...|2010|      5|    null|\n",
      "|   14955|Breaking Bad: Sea...|2011|      5|    null|\n",
      "|   14957|  Sherlock: Series 1|2010|      5|    null|\n",
      "|   19400|The Walking Dead:...|2011|      5|    null|\n",
      "|   21911|    The Walking Dead|2010|      5|    null|\n",
      "|   26484|            Sherlock|2010|      5|    null|\n",
      "|   30426|        The Avengers|2012|      5|    8575|\n",
      "|   33523|  Sherlock: Series 2|2012|      5|    null|\n",
      "|   36259|Breaking Bad: Sea...|2012|      5|    null|\n",
      "|   37138|Orange Is the New...|2013|      5|    null|\n",
      "|   37141|Orange Is the New...|2013|      5|    null|\n",
      "|   37897|The Walking Dead:...|2012|      5|    null|\n",
      "|   41846|Fairy Tail: Season 1|2009|      5|    null|\n",
      "|   43071|          Fairy Tail|2009|      5|    null|\n",
      "|   43444|           Blackfish|2013|      5|    4985|\n",
      "|   44098|Arrested Developm...|2013|      5|      97|\n",
      "+--------+--------------------+----+-------+--------+\n",
      "only showing top 20 rows\n",
      "\n"
     ]
    }
   ],
   "source": [
    "movies.where(movies.ratings>4).show()"
   ]
  },
  {
   "cell_type": "code",
   "execution_count": 10,
   "id": "58a7a299-5b14-415e-ad61-0e2b04b00ba5",
   "metadata": {},
   "outputs": [
    {
     "data": {
      "text/plain": [
       "23"
      ]
     },
     "execution_count": 10,
     "metadata": {},
     "output_type": "execute_result"
    }
   ],
   "source": [
    "movies.where(movies.ratings>4).count()"
   ]
  },
  {
   "cell_type": "markdown",
   "id": "8cb3e8ed-b794-4b26-a92b-00e074e6a19e",
   "metadata": {},
   "source": [
    "### C. Find the movies whose rating are between 3 and 4."
   ]
  },
  {
   "cell_type": "code",
   "execution_count": 11,
   "id": "9f86da2b-4430-484e-a5e0-9a80e50f700e",
   "metadata": {},
   "outputs": [
    {
     "name": "stdout",
     "output_type": "stream",
     "text": [
      "+--------+--------------------+----+-------+--------+\n",
      "|movie_ID|                name|year|ratings|duration|\n",
      "+--------+--------------------+----+-------+--------+\n",
      "|       1|The Nightmare Bef...|1993|      4|    4568|\n",
      "|       2|           The Mummy|1932|      4|    4388|\n",
      "|       3|Orphans of the Storm|1921|      3|    9062|\n",
      "|       4|The Object of Beauty|1991|      3|    6150|\n",
      "|       5|          Night Tide|1963|      3|    5126|\n",
      "|       6| One Magic Christmas|1985|      4|    5333|\n",
      "|       7|    Muriel's Wedding|1994|      4|    6323|\n",
      "|       8|       Mother's Boys|1994|      3|    5733|\n",
      "|       9|Nosferatu: Origin...|1929|      4|    5651|\n",
      "|      10|        Nick of Time|1995|      3|    5333|\n",
      "|      11|     Broken Blossoms|1919|      3|    5367|\n",
      "|      12|           Big Night|1996|      4|    6561|\n",
      "|      13|The Birth of a Na...|1915|      3|   12118|\n",
      "|      14|The Boys from Brazil|1978|      4|    7417|\n",
      "|      15|      Big Doll House|1971|      3|    5696|\n",
      "|      16|  The Breakfast Club|1985|      4|    5823|\n",
      "|      17|The Bride of Fran...|1935|      4|    4485|\n",
      "|      18|     Beautiful Girls|1996|      4|    6755|\n",
      "|      19|       Bustin' Loose|1981|      4|    5598|\n",
      "|      20|        The Beguiled|1971|      3|    6307|\n",
      "+--------+--------------------+----+-------+--------+\n",
      "only showing top 20 rows\n",
      "\n"
     ]
    }
   ],
   "source": [
    "movies.where((movies.ratings>=3)&(movies.ratings<=4)).show()"
   ]
  },
  {
   "cell_type": "markdown",
   "id": "3f1297e6-592a-4df1-9824-1d454de1ee99",
   "metadata": {},
   "source": [
    "### D. Find the number of movies with duration more than 2 hours (7200 second)."
   ]
  },
  {
   "cell_type": "code",
   "execution_count": 12,
   "id": "fb8822c3-8239-449f-a119-5ea80afe0981",
   "metadata": {},
   "outputs": [
    {
     "name": "stdout",
     "output_type": "stream",
     "text": [
      "+--------+--------------------+----+-------+--------+\n",
      "|movie_ID|                name|year|ratings|duration|\n",
      "+--------+--------------------+----+-------+--------+\n",
      "|       3|Orphans of the Storm|1921|      3|    9062|\n",
      "|      13|The Birth of a Na...|1915|      3|   12118|\n",
      "|      14|The Boys from Brazil|1978|      4|    7417|\n",
      "|      21|Born on the Fourt...|1989|      3|    8646|\n",
      "|      22|      Broadcast News|1987|      3|    7940|\n",
      "|      28| Last Tango in Paris|1972|      3|    7732|\n",
      "|      36|      Into the Woods|1990|      4|    9077|\n",
      "|      39|           King Kong|1976|      3|    8044|\n",
      "|      42|In the Name of th...|1993|      4|    7972|\n",
      "|      48|                Emma|1996|      4|    7260|\n",
      "|      50|  The Eiger Sanction|1975|      4|    7726|\n",
      "|      55|           The Doors|1991|      4|    8436|\n",
      "|      67|The Andromeda Strain|1971|      4|    7861|\n",
      "|      71|       All About Eve|1950|      4|    8300|\n",
      "|      75|      Apocalypse Now|1979|      4|    8825|\n",
      "|      80|       Little Buddha|1993|      3|    8455|\n",
      "|      85|The Hunt for Red ...|1990|      4|    8106|\n",
      "|      86|      The Hindenburg|1975|      3|    7546|\n",
      "|      93|       Heaven's Gate|1980|      3|   13143|\n",
      "|     114|        Far and Away|1992|      4|    8396|\n",
      "+--------+--------------------+----+-------+--------+\n",
      "only showing top 20 rows\n",
      "\n"
     ]
    }
   ],
   "source": [
    "movies.where(movies.duration>7200).show()"
   ]
  },
  {
   "cell_type": "code",
   "execution_count": 13,
   "id": "a431dd75-6ccb-4d6c-96ac-21bd79688282",
   "metadata": {},
   "outputs": [
    {
     "data": {
      "text/plain": [
       "641"
      ]
     },
     "execution_count": 13,
     "metadata": {},
     "output_type": "execute_result"
    }
   ],
   "source": [
    "movies.where(movies.duration>7200).count()"
   ]
  },
  {
   "cell_type": "markdown",
   "id": "d5c85277-3f5c-4f27-b671-04ebb66f1651",
   "metadata": {},
   "source": [
    "### E. Find the list of years and number of movies released each year."
   ]
  },
  {
   "cell_type": "code",
   "execution_count": 15,
   "id": "a6169ac1-e5f1-4bf0-a3dd-0591578b82f2",
   "metadata": {},
   "outputs": [
    {
     "name": "stderr",
     "output_type": "stream",
     "text": [
      "[Stage 20:===================================================>  (191 + 5) / 200]\r"
     ]
    },
    {
     "name": "stdout",
     "output_type": "stream",
     "text": [
      "+----+-----+\n",
      "|year|Count|\n",
      "+----+-----+\n",
      "|1913|    3|\n",
      "|1914|   20|\n",
      "|1915|    1|\n",
      "|1916|    1|\n",
      "|1918|    1|\n",
      "|1919|    3|\n",
      "|1920|    6|\n",
      "|1921|    2|\n",
      "|1922|    2|\n",
      "|1923|    4|\n",
      "|1924|    5|\n",
      "|1925|    5|\n",
      "|1926|    2|\n",
      "|1927|    4|\n",
      "|1928|    2|\n",
      "|1929|    5|\n",
      "|1930|    5|\n",
      "|1931|    3|\n",
      "|1932|    4|\n",
      "|1933|    7|\n",
      "+----+-----+\n",
      "only showing top 20 rows\n",
      "\n"
     ]
    },
    {
     "name": "stderr",
     "output_type": "stream",
     "text": [
      "                                                                                \r"
     ]
    }
   ],
   "source": [
    "movies.groupBy(\"year\").agg(count(\"year\").alias(\"Count\")).orderBy(col(\"year\")).show()"
   ]
  },
  {
   "cell_type": "markdown",
   "id": "355311e2-d453-45d1-8574-7c8b5038c582",
   "metadata": {},
   "source": [
    "### F. Find the total number of movies in the dataset."
   ]
  },
  {
   "cell_type": "code",
   "execution_count": 16,
   "id": "ece7ad21-816a-495d-a59d-ef02bcbc2bae",
   "metadata": {},
   "outputs": [
    {
     "data": {
      "text/plain": [
       "49590"
      ]
     },
     "execution_count": 16,
     "metadata": {},
     "output_type": "execute_result"
    }
   ],
   "source": [
    "movies.count()"
   ]
  }
 ],
 "metadata": {
  "kernelspec": {
   "display_name": "PySpark 3",
   "language": "python",
   "name": "pyspark3_env"
  },
  "language_info": {
   "codemirror_mode": {
    "name": "ipython",
    "version": 3
   },
   "file_extension": ".py",
   "mimetype": "text/x-python",
   "name": "python",
   "nbconvert_exporter": "python",
   "pygments_lexer": "ipython3",
   "version": "3.9.13"
  }
 },
 "nbformat": 4,
 "nbformat_minor": 5
}
