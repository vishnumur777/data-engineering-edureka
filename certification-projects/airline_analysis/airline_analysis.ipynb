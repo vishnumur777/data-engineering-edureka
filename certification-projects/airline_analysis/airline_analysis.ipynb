{
 "cells": [
  {
   "cell_type": "code",
   "execution_count": 1,
   "id": "b1d2c4f3-8076-4361-b3a3-9009126303f7",
   "metadata": {},
   "outputs": [],
   "source": [
    "from pyspark.sql import SparkSession"
   ]
  },
  {
   "cell_type": "code",
   "execution_count": 2,
   "id": "9712b573-efb5-45b1-a388-0c7fb142cb09",
   "metadata": {},
   "outputs": [
    {
     "name": "stderr",
     "output_type": "stream",
     "text": [
      "25/07/05 06:24:20 WARN NativeCodeLoader: Unable to load native-hadoop library for your platform... using builtin-java classes where applicable\n",
      "Setting default log level to \"WARN\".\n",
      "To adjust logging level use sc.setLogLevel(newLevel). For SparkR, use setLogLevel(newLevel).\n",
      "25/07/05 06:24:21 WARN Utils: Service 'SparkUI' could not bind on port 4040. Attempting port 4041.\n",
      "25/07/05 06:24:21 WARN Utils: Service 'SparkUI' could not bind on port 4041. Attempting port 4042.\n"
     ]
    }
   ],
   "source": [
    "spark = SparkSession.builder.appName(\"AirlineSpark\").master(\"local[5]\").getOrCreate()"
   ]
  },
  {
   "cell_type": "code",
   "execution_count": 3,
   "id": "2be08ec6-6366-441d-a7aa-86e76a4d9acf",
   "metadata": {},
   "outputs": [],
   "source": [
    "from pyspark.sql.functions import *\n",
    "from pyspark.sql.types import *"
   ]
  },
  {
   "cell_type": "code",
   "execution_count": 8,
   "id": "e0e84cab-c184-43ff-9a2d-81cf0a278258",
   "metadata": {},
   "outputs": [],
   "source": [
    "airport_sch = StructType([\\\n",
    "                          StructField(\"Airport ID\", IntegerType(), True),\\\n",
    "                          StructField(\"Name\", StringType(), True),\\\n",
    "                          StructField(\"City\", StringType(), True),\\\n",
    "                          StructField(\"Country\", StringType(), True),\\\n",
    "                          StructField(\"IATA/FAA\", StringType(), True),\\\n",
    "                          StructField(\"ICAO\", StringType(), True),\\\n",
    "                          StructField(\"Latitude\", DecimalType(), True),\\\n",
    "                          StructField(\"Longitude\", DecimalType(), True),\\\n",
    "                          StructField(\"Alititude\", IntegerType(), True),\\\n",
    "                          StructField(\"Timezone\", DecimalType(), True),\\\n",
    "                          StructField(\"DST\", StringType(), True),\\\n",
    "                          StructField(\"Tz(oslon)\", StringType(), True)])"
   ]
  },
  {
   "cell_type": "code",
   "execution_count": 9,
   "id": "f6d3b01b-8ded-44e6-9dc5-7602365f416d",
   "metadata": {},
   "outputs": [],
   "source": [
    "airports = spark.read.csv(\"certification/airline/airports_mod.dat\", sep=\",\", schema=airport_sch)"
   ]
  },
  {
   "cell_type": "code",
   "execution_count": 10,
   "id": "be7d3195-fd21-4ffe-9bb5-c67581dcdd7d",
   "metadata": {},
   "outputs": [
    {
     "name": "stdout",
     "output_type": "stream",
     "text": [
      "+----------+--------------------+------------+----------------+--------+----+--------+---------+---------+--------+---+--------------------+\n",
      "|Airport ID|                Name|        City|         Country|IATA/FAA|ICAO|Latitude|Longitude|Alititude|Timezone|DST|           Tz(oslon)|\n",
      "+----------+--------------------+------------+----------------+--------+----+--------+---------+---------+--------+---+--------------------+\n",
      "|         1|              Goroka|      Goroka|Papua New Guinea|     GKA|AYGA|      -6|      145|     5282|      10|  U|Pacific/Port_Moresby|\n",
      "|         2|              Madang|      Madang|Papua New Guinea|     MAG|AYMD|      -5|      146|       20|      10|  U|Pacific/Port_Moresby|\n",
      "|         3|         Mount Hagen| Mount Hagen|Papua New Guinea|     HGU|AYMH|      -6|      144|     5388|      10|  U|Pacific/Port_Moresby|\n",
      "|         4|              Nadzab|      Nadzab|Papua New Guinea|     LAE|AYNZ|      -7|      147|      239|      10|  U|Pacific/Port_Moresby|\n",
      "|         5|Port Moresby Jack...|Port Moresby|Papua New Guinea|     POM|AYPY|      -9|      147|      146|      10|  U|Pacific/Port_Moresby|\n",
      "+----------+--------------------+------------+----------------+--------+----+--------+---------+---------+--------+---+--------------------+\n",
      "only showing top 5 rows\n",
      "\n"
     ]
    }
   ],
   "source": [
    "airports.show(5)"
   ]
  },
  {
   "cell_type": "code",
   "execution_count": 11,
   "id": "1570b96f-9bcf-476f-8186-7d8d1e972464",
   "metadata": {},
   "outputs": [],
   "source": [
    "airlines_sch = StructType([\\\n",
    "                           StructField(\"Airline ID\", IntegerType(), True),\\\n",
    "                           StructField(\"Name\", StringType(), True),\\\n",
    "                           StructField(\"Alias\", StringType(), True),\\\n",
    "                           StructField(\"IATA\", StringType(), True),\\\n",
    "                           StructField(\"ICAO\", StringType(), True),\\\n",
    "                           StructField(\"Callsign\", StringType(), True),\\\n",
    "                           StructField(\"Country\", StringType(), True),\\\n",
    "                           StructField(\"Active\", StringType(), True)])"
   ]
  },
  {
   "cell_type": "code",
   "execution_count": 12,
   "id": "0dbf5ab5-23fa-480c-a66b-5ec5d511df66",
   "metadata": {},
   "outputs": [],
   "source": [
    "airlines = spark.read.csv(\"certification/airline/Final_airlines\", sep=\",\", schema=airlines_sch)"
   ]
  },
  {
   "cell_type": "code",
   "execution_count": 13,
   "id": "5a221d23-8cd6-4d17-b7e0-ca9ae3882d7c",
   "metadata": {},
   "outputs": [
    {
     "name": "stdout",
     "output_type": "stream",
     "text": [
      "+----------+--------------------+-----+----+----+--------+--------------+------+\n",
      "|Airline ID|                Name|Alias|IATA|ICAO|Callsign|       Country|Active|\n",
      "+----------+--------------------+-----+----+----+--------+--------------+------+\n",
      "|         1|      Private flight|   \\N|   -| N/A|    null|          null|     Y|\n",
      "|         2|         135 Airways|   \\N|null| GNL| GENERAL| United States|     N|\n",
      "|         3|       1Time Airline|   \\N|  1T| RNX| NEXTIME|  South Africa|     Y|\n",
      "|         4|2 Sqn No 1 Elemen...|   \\N|null| WYT|    null|United Kingdom|     N|\n",
      "|         5|     213 Flight Unit|   \\N|null| TFU|    null|        Russia|     N|\n",
      "+----------+--------------------+-----+----+----+--------+--------------+------+\n",
      "only showing top 5 rows\n",
      "\n"
     ]
    }
   ],
   "source": [
    "airlines.show(5)"
   ]
  },
  {
   "cell_type": "code",
   "execution_count": 14,
   "id": "9abf062c-8837-4264-9f30-4366196a0f94",
   "metadata": {},
   "outputs": [],
   "source": [
    "routes_sch = StructType([\\\n",
    "                         StructField(\"Airline\", StringType(), True),\\\n",
    "                         StructField(\"Airline ID\", IntegerType(), True),\\\n",
    "                         StructField(\"Source\", StringType(), True),\\\n",
    "                         StructField(\"Source ID\", IntegerType(), True),\\\n",
    "                         StructField(\"Destination\", StringType(), True),\\\n",
    "                         StructField(\"Destination ID\", IntegerType(), True),\\\n",
    "                         StructField(\"Codeshare\", StringType(), True),\\\n",
    "                         StructField(\"Stops\", IntegerType(), True),\\\n",
    "                         StructField(\"Equipment\", StringType(), True)])"
   ]
  },
  {
   "cell_type": "code",
   "execution_count": 15,
   "id": "d25de04a-55ac-4598-96d5-e40a2f6ce97f",
   "metadata": {},
   "outputs": [],
   "source": [
    "routes = spark.read.csv(\"certification/airline/routes.dat\", sep=\",\", schema=routes_sch)"
   ]
  },
  {
   "cell_type": "code",
   "execution_count": 16,
   "id": "c69c0277-54de-487d-a5fe-86ff3b3bb73b",
   "metadata": {},
   "outputs": [
    {
     "name": "stdout",
     "output_type": "stream",
     "text": [
      "+-------+----------+------+---------+-----------+--------------+---------+-----+---------+\n",
      "|Airline|Airline ID|Source|Source ID|Destination|Destination ID|Codeshare|Stops|Equipment|\n",
      "+-------+----------+------+---------+-----------+--------------+---------+-----+---------+\n",
      "|     2B|       410|   AER|     2965|        KZN|          2990|     null|    0|      CR2|\n",
      "|     2B|       410|   ASF|     2966|        KZN|          2990|     null|    0|      CR2|\n",
      "|     2B|       410|   ASF|     2966|        MRV|          2962|     null|    0|      CR2|\n",
      "|     2B|       410|   CEK|     2968|        KZN|          2990|     null|    0|      CR2|\n",
      "|     2B|       410|   CEK|     2968|        OVB|          4078|     null|    0|      CR2|\n",
      "+-------+----------+------+---------+-----------+--------------+---------+-----+---------+\n",
      "only showing top 5 rows\n",
      "\n"
     ]
    }
   ],
   "source": [
    "routes.show(5)"
   ]
  },
  {
   "cell_type": "markdown",
   "id": "fb0022d6-6288-49f5-8f5d-33edd8e04462",
   "metadata": {},
   "source": [
    "### A. Find list of Airports operating in the Country India"
   ]
  },
  {
   "cell_type": "code",
   "execution_count": 18,
   "id": "dc3582f9-2e60-48a2-96c1-94f0f8e1f430",
   "metadata": {},
   "outputs": [
    {
     "name": "stdout",
     "output_type": "stream",
     "text": [
      "+----------+--------------------+----------+-------+\n",
      "|Airport ID|                Name|      City|Country|\n",
      "+----------+--------------------+----------+-------+\n",
      "|      2994|           Ahmedabad| Ahmedabad|  India|\n",
      "|      2995|               Akola|     Akola|  India|\n",
      "|      2996|          Aurangabad|Aurangabad|  India|\n",
      "|      2997|Chhatrapati Shiva...|    Mumbai|  India|\n",
      "|      2998|            Bilaspur|  Bilaspur|  India|\n",
      "|      2999|                Bhuj|      Bhuj|  India|\n",
      "|      3000|             Belgaum|   Belgaum|  India|\n",
      "|      3001|            Vadodara|    Baroda|  India|\n",
      "|      3002|              Bhopal|    Bhopal|  India|\n",
      "|      3003|           Bhavnagar| Bhaunagar|  India|\n",
      "|      3004|               Daman|     Daman|  India|\n",
      "|      3005|               Deesa|     Deesa|  India|\n",
      "|      3006|                Guna|      Guna|  India|\n",
      "|      3007|                 Goa|       Goa|  India|\n",
      "|      3008|Devi Ahilyabai Ho...|    Indore|  India|\n",
      "|      3009|            Jabalpur|  Jabalpur|  India|\n",
      "|      3010|            Jamnagar|  Jamnagar|  India|\n",
      "|      3011|              Kandla|    Kandla|  India|\n",
      "|      3012|           Khajuraho| Khajuraho|  India|\n",
      "|      3013|            Kolhapur|  Kolhapur|  India|\n",
      "+----------+--------------------+----------+-------+\n",
      "only showing top 20 rows\n",
      "\n"
     ]
    }
   ],
   "source": [
    "airports.select([\"Airport ID\", \"Name\", \"City\", \"Country\"]).where(airports.Country==\"India\").show()"
   ]
  },
  {
   "cell_type": "markdown",
   "id": "40490b0d-7257-4bdb-a267-df29404d8752",
   "metadata": {},
   "source": [
    "### B. Find the list of Airlines having zero stops"
   ]
  },
  {
   "cell_type": "code",
   "execution_count": 21,
   "id": "8fae195f-21b4-4c1c-95a8-ebf6cfe26f85",
   "metadata": {},
   "outputs": [
    {
     "name": "stderr",
     "output_type": "stream",
     "text": [
      "                                                                                \r"
     ]
    },
    {
     "name": "stdout",
     "output_type": "stream",
     "text": [
      "+-------+\n",
      "|Airline|\n",
      "+-------+\n",
      "|     3P|\n",
      "|     DZ|\n",
      "|     LT|\n",
      "|     MM|\n",
      "|     XU|\n",
      "|     Z9|\n",
      "|     RG|\n",
      "|     3K|\n",
      "|     CI|\n",
      "|     PC|\n",
      "|     AZ|\n",
      "|     FI|\n",
      "|     JH|\n",
      "|     PM|\n",
      "|     SC|\n",
      "|     6Y|\n",
      "|     A9|\n",
      "|     Q7|\n",
      "|     UA|\n",
      "|     2Z|\n",
      "+-------+\n",
      "only showing top 20 rows\n",
      "\n"
     ]
    }
   ],
   "source": [
    "routes.select(\"Airline\").where(routes.Stops==0).distinct().show()"
   ]
  },
  {
   "cell_type": "markdown",
   "id": "f5e831b1-a5a1-4efd-b50f-779e71f68cc6",
   "metadata": {},
   "source": [
    "### C. List of Airlines operating with code share"
   ]
  },
  {
   "cell_type": "code",
   "execution_count": 25,
   "id": "edbf6855-5cd3-49f6-be8f-442b0391b25a",
   "metadata": {},
   "outputs": [
    {
     "name": "stdout",
     "output_type": "stream",
     "text": [
      "+-------+----------+------+---------+-----------+--------------+---------+-----+---------+\n",
      "|Airline|Airline ID|Source|Source ID|Destination|Destination ID|Codeshare|Stops|Equipment|\n",
      "+-------+----------+------+---------+-----------+--------------+---------+-----+---------+\n",
      "|     2P|       897|   GES|     6011|        MNL|          2397|        Y|    0|      320|\n",
      "|     2P|       897|   MNL|     2397|        GES|          6011|        Y|    0|      320|\n",
      "|     4M|      3201|   DFW|     3670|        EZE|          3988|        Y|    0|      777|\n",
      "|     4M|      3201|   EZE|     3988|        DFW|          3670|        Y|    0|      777|\n",
      "|     4M|      3201|   EZE|     3988|        JFK|          3797|        Y|    0|      777|\n",
      "|     4M|      3201|   JFK|     3797|        EZE|          3988|        Y|    0|      777|\n",
      "|     5N|       503|   ARH|     4362|        CSH|          6110|        Y|    0|      AN4|\n",
      "|     5N|       503|   ARH|     4362|        MMK|          2949|        Y|    0|      AN4|\n",
      "|     5N|       503|   ARH|     4362|        USK|          4369|        Y|    0|      AN4|\n",
      "|     5N|       503|   CSH|     6110|        ARH|          4362|        Y|    0|      AN4|\n",
      "|     5N|       503|   MMK|     2949|        ARH|          4362|        Y|    0|      AN4|\n",
      "|     5N|       503|   MMK|     2949|        TOS|           663|        Y|    0|      AN4|\n",
      "|     5N|       503|   TOS|      663|        MMK|          2949|        Y|    0|      AN4|\n",
      "|     5N|       503|   USK|     4369|        ARH|          4362|        Y|    0|      AN4|\n",
      "|     5T|      1623|   YBK|       29|        YCS|          5487|        Y|    0|      ATR|\n",
      "|     5T|      1623|   YBK|       29|        YXN|          5534|        Y|    0|      ATR|\n",
      "|     5T|      1623|   YCS|     5487|        YBK|            29|        Y|    0|      AT4|\n",
      "|     5T|      1623|   YCS|     5487|        YRT|           132|        Y|    0|  ATR AT4|\n",
      "|     5T|      1623|   YEK|       50|        YXN|          5534|        Y|    0|  ATR AT4|\n",
      "|     5T|      1623|   YEK|       50|        YYQ|           187|        Y|    0|  ATR AT4|\n",
      "+-------+----------+------+---------+-----------+--------------+---------+-----+---------+\n",
      "only showing top 20 rows\n",
      "\n"
     ]
    }
   ],
   "source": [
    "routes.na.drop(subset=\"Codeshare\").show()"
   ]
  },
  {
   "cell_type": "markdown",
   "id": "4695dba6-7a4d-4bb2-8ab7-26ec435cbc7a",
   "metadata": {},
   "source": [
    "### D. Which country (or) territory having highest Airports"
   ]
  },
  {
   "cell_type": "code",
   "execution_count": 38,
   "id": "1ddcd15f-7193-4af9-850e-e10ab9cc23d5",
   "metadata": {},
   "outputs": [],
   "source": [
    "count_airport = airports.groupBy(\"Country\").agg(count(\"Country\").alias(\"Count\"))"
   ]
  },
  {
   "cell_type": "code",
   "execution_count": 41,
   "id": "543764a2-2e42-4aa9-a2fe-8ce427d56eb8",
   "metadata": {},
   "outputs": [
    {
     "name": "stderr",
     "output_type": "stream",
     "text": [
      "[Stage 60:========================================>             (150 + 6) / 200]\r"
     ]
    },
    {
     "name": "stdout",
     "output_type": "stream",
     "text": [
      "+-------------+-----+\n",
      "|      Country|Count|\n",
      "+-------------+-----+\n",
      "|United States| 1697|\n",
      "+-------------+-----+\n",
      "only showing top 1 row\n",
      "\n"
     ]
    },
    {
     "name": "stderr",
     "output_type": "stream",
     "text": [
      "                                                                                \r"
     ]
    }
   ],
   "source": [
    "count_airport.orderBy(col(\"Count\").desc()).show(1)"
   ]
  },
  {
   "cell_type": "markdown",
   "id": "de5a1c24-0fb2-4b93-8193-d39449c574f2",
   "metadata": {},
   "source": [
    "### E. Find the list of Active Airlines in United state"
   ]
  },
  {
   "cell_type": "code",
   "execution_count": 43,
   "id": "8e085353-ac98-4e3d-97b7-c13e44779429",
   "metadata": {},
   "outputs": [
    {
     "name": "stdout",
     "output_type": "stream",
     "text": [
      "+----------+--------------------+-----+----+----+-------------+-------------+------+\n",
      "|Airline ID|                Name|Alias|IATA|ICAO|     Callsign|      Country|Active|\n",
      "+----------+--------------------+-----+----+----+-------------+-------------+------+\n",
      "|         2|         135 Airways|   \\N|null| GNL|      GENERAL|United States|     N|\n",
      "|         9|         3D Aviation|   \\N|null| SEC|      SECUREX|United States|     N|\n",
      "|        10|         40-Mile Air|   \\N|  Q5| MLA|     MILE-AIR|United States|     Y|\n",
      "|        22|      Aloha Airlines|   \\N|  AQ| AAH|        ALOHA|United States|     Y|\n",
      "|        23|   Alaska Island Air|   \\N|null| AAK|ALASKA ISLAND|United States|     N|\n",
      "|        24|   American Airlines|   \\N|  AA| AAL|     AMERICAN|United States|     Y|\n",
      "|        25|Aviation Manageme...|   \\N|null| AAM|      AM CORP|United States|     N|\n",
      "|        26|Atlantis Airlines...|   \\N|null| AAO| ATLANTIS AIR|United States|     N|\n",
      "|        31|Astro Air Interna...|   \\N|null| AAV|   ASTRO-PHIL|United States|     N|\n",
      "|        35|       Allegiant Air|   \\N|  G4| AAY|    ALLEGIANT|United States|     Y|\n",
      "|        49|    Airborne Express|   \\N|  GB| ABX|         ABEX|United States|     N|\n",
      "|        50|             ABX Air|   \\N|  GB| ABX|         ABEX|United States|     N|\n",
      "|        53|    Academy Airlines|   \\N|null| ACD|      ACADEMY|United States|     N|\n",
      "|        57|          Air Aurora|   \\N|null| AAI|     BOREALIS|United States|     N|\n",
      "|        66|Advance Leasing C...|   \\N|  4G|null|         null|United States|     N|\n",
      "|        67|Aztec Worldwide A...|   \\N|  7A|null|         null|United States|     N|\n",
      "|        81|            Aerodyne|   \\N|null| ADY|     AERODYNE|United States|     N|\n",
      "|        89|   Anderson Aviation|   \\N|null| ADX|        ANDAX|United States|     N|\n",
      "|       109|Alaska Central Ex...|   \\N|  KO| AER|      ACE AIR|United States|     Y|\n",
      "|       115|      Airway Express|   \\N|null| AEX|         AVCO|United States|     N|\n",
      "+----------+--------------------+-----+----+----+-------------+-------------+------+\n",
      "only showing top 20 rows\n",
      "\n"
     ]
    }
   ],
   "source": [
    "airlines.where(airlines.Country==\"United States\").show()"
   ]
  }
 ],
 "metadata": {
  "kernelspec": {
   "display_name": "PySpark 3",
   "language": "python",
   "name": "pyspark3_env"
  },
  "language_info": {
   "codemirror_mode": {
    "name": "ipython",
    "version": 3
   },
   "file_extension": ".py",
   "mimetype": "text/x-python",
   "name": "python",
   "nbconvert_exporter": "python",
   "pygments_lexer": "ipython3",
   "version": "3.9.13"
  }
 },
 "nbformat": 4,
 "nbformat_minor": 5
}
