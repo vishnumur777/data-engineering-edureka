{
 "cells": [
  {
   "cell_type": "code",
   "execution_count": 1,
   "id": "85581127-cb0f-42ca-bc0e-2f67eed31d95",
   "metadata": {},
   "outputs": [],
   "source": [
    "from pyspark.sql import SparkSession\n",
    "from pyspark.sql.types import *\n",
    "from pyspark.sql.functions import *"
   ]
  },
  {
   "cell_type": "code",
   "execution_count": 2,
   "id": "d6356eb2-6f24-4aed-a43c-d4fca179fdd0",
   "metadata": {},
   "outputs": [
    {
     "name": "stderr",
     "output_type": "stream",
     "text": [
      "25/06/24 06:11:17 WARN NativeCodeLoader: Unable to load native-hadoop library for your platform... using builtin-java classes where applicable\n",
      "Setting default log level to \"WARN\".\n",
      "To adjust logging level use sc.setLogLevel(newLevel). For SparkR, use setLogLevel(newLevel).\n",
      "25/06/24 06:11:18 WARN Utils: Service 'SparkUI' could not bind on port 4040. Attempting port 4041.\n",
      "25/06/24 06:11:18 WARN Utils: Service 'SparkUI' could not bind on port 4041. Attempting port 4042.\n",
      "25/06/24 06:11:18 WARN Utils: Service 'SparkUI' could not bind on port 4042. Attempting port 4043.\n",
      "25/06/24 06:11:18 WARN Utils: Service 'SparkUI' could not bind on port 4043. Attempting port 4044.\n",
      "25/06/24 06:11:18 WARN Utils: Service 'SparkUI' could not bind on port 4044. Attempting port 4045.\n",
      "25/06/24 06:11:18 WARN Utils: Service 'SparkUI' could not bind on port 4045. Attempting port 4046.\n",
      "25/06/24 06:11:18 WARN Utils: Service 'SparkUI' could not bind on port 4046. Attempting port 4047.\n",
      "25/06/24 06:11:18 WARN Utils: Service 'SparkUI' could not bind on port 4047. Attempting port 4048.\n",
      "25/06/24 06:11:18 WARN Utils: Service 'SparkUI' could not bind on port 4048. Attempting port 4049.\n",
      "25/06/24 06:11:18 WARN Utils: Service 'SparkUI' could not bind on port 4049. Attempting port 4050.\n",
      "25/06/24 06:11:18 WARN Utils: Service 'SparkUI' could not bind on port 4050. Attempting port 4051.\n",
      "25/06/24 06:11:18 WARN Utils: Service 'SparkUI' could not bind on port 4051. Attempting port 4052.\n",
      "25/06/24 06:11:18 WARN Utils: Service 'SparkUI' could not bind on port 4052. Attempting port 4053.\n",
      "25/06/24 06:11:18 WARN Utils: Service 'SparkUI' could not bind on port 4053. Attempting port 4054.\n",
      "25/06/24 06:11:18 WARN Utils: Service 'SparkUI' could not bind on port 4054. Attempting port 4055.\n",
      "25/06/24 06:11:18 WARN Utils: Service 'SparkUI' could not bind on port 4055. Attempting port 4056.\n",
      "25/06/24 06:11:18 WARN Utils: Service 'SparkUI' could not bind on port 4056. Attempting port 4057.\n",
      "25/06/24 06:11:18 WARN Utils: Service 'SparkUI' could not bind on port 4057. Attempting port 4058.\n",
      "25/06/24 06:11:18 WARN Utils: Service 'SparkUI' could not bind on port 4058. Attempting port 4059.\n",
      "25/06/24 06:11:18 WARN Utils: Service 'SparkUI' could not bind on port 4059. Attempting port 4060.\n",
      "25/06/24 06:11:18 WARN Utils: Service 'SparkUI' could not bind on port 4060. Attempting port 4061.\n",
      "25/06/24 06:11:18 WARN Utils: Service 'SparkUI' could not bind on port 4061. Attempting port 4062.\n",
      "25/06/24 06:11:18 WARN Utils: Service 'SparkUI' could not bind on port 4062. Attempting port 4063.\n",
      "25/06/24 06:11:18 WARN Utils: Service 'SparkUI' could not bind on port 4063. Attempting port 4064.\n",
      "25/06/24 06:11:18 WARN Utils: Service 'SparkUI' could not bind on port 4064. Attempting port 4065.\n",
      "25/06/24 06:11:18 WARN Utils: Service 'SparkUI' could not bind on port 4065. Attempting port 4066.\n",
      "25/06/24 06:11:18 WARN Utils: Service 'SparkUI' could not bind on port 4066. Attempting port 4067.\n",
      "25/06/24 06:11:18 WARN Utils: Service 'SparkUI' could not bind on port 4067. Attempting port 4068.\n",
      "25/06/24 06:11:18 WARN Utils: Service 'SparkUI' could not bind on port 4068. Attempting port 4069.\n"
     ]
    }
   ],
   "source": [
    "spark = SparkSession.builder.master(\"local[5]\").enableHiveSupport().getOrCreate()"
   ]
  },
  {
   "cell_type": "code",
   "execution_count": 30,
   "id": "3dad75c5-3681-45a0-98a7-c90bb30748e9",
   "metadata": {},
   "outputs": [],
   "source": [
    "ecommerce = spark.read.csv(\"ecommerce/ecommerce.csv\", header=True, sep=',', inferSchema=True)"
   ]
  },
  {
   "cell_type": "code",
   "execution_count": 31,
   "id": "50cf6352-b455-43a8-8ff7-43af4db2f5b6",
   "metadata": {},
   "outputs": [
    {
     "name": "stdout",
     "output_type": "stream",
     "text": [
      "root\n",
      " |-- InvoiceNo: integer (nullable = true)\n",
      " |-- StockCode: string (nullable = true)\n",
      " |-- Description: string (nullable = true)\n",
      " |-- Quantity: integer (nullable = true)\n",
      " |-- UnitPrice: double (nullable = true)\n",
      " |-- InvoiceDate: string (nullable = true)\n",
      " |-- CustomerID: integer (nullable = true)\n",
      " |-- Country: string (nullable = true)\n",
      "\n"
     ]
    }
   ],
   "source": [
    "ecommerce.printSchema()"
   ]
  },
  {
   "cell_type": "code",
   "execution_count": 64,
   "id": "07adbf52-0e0d-45f9-8ce8-d72746810b56",
   "metadata": {},
   "outputs": [],
   "source": [
    "ecommerce = ecommerce.withColumn(\"InvoiceDate\", ecommerce.InvoiceDate.cast(DateType()))"
   ]
  },
  {
   "cell_type": "code",
   "execution_count": 65,
   "id": "f8532493-33e0-429a-a154-3fa34fae5cfa",
   "metadata": {},
   "outputs": [],
   "source": [
    "ecommerce = ecommerce.withColumn(\"total_amount\", ecommerce.Quantity*ecommerce.UnitPrice)"
   ]
  },
  {
   "cell_type": "code",
   "execution_count": 66,
   "id": "6372afdf-09cb-4b60-a90f-175e319ad9c1",
   "metadata": {},
   "outputs": [
    {
     "name": "stdout",
     "output_type": "stream",
     "text": [
      "root\n",
      " |-- InvoiceNo: integer (nullable = true)\n",
      " |-- StockCode: string (nullable = true)\n",
      " |-- Description: string (nullable = true)\n",
      " |-- Quantity: integer (nullable = true)\n",
      " |-- UnitPrice: double (nullable = true)\n",
      " |-- InvoiceDate: date (nullable = true)\n",
      " |-- CustomerID: integer (nullable = true)\n",
      " |-- Country: string (nullable = true)\n",
      " |-- total_amount: double (nullable = true)\n",
      "\n"
     ]
    }
   ],
   "source": [
    "ecommerce.printSchema()"
   ]
  },
  {
   "cell_type": "code",
   "execution_count": 67,
   "id": "623c10ee-7c0e-4846-8093-b3e0e78154ab",
   "metadata": {},
   "outputs": [
    {
     "name": "stdout",
     "output_type": "stream",
     "text": [
      "+-------+------------------+-----------------+-------------+-----------------+-----------------+-----------------+--------------+------------------+\n",
      "|summary|         InvoiceNo|        StockCode|  Description|         Quantity|        UnitPrice|       CustomerID|       Country|      total_amount|\n",
      "+-------+------------------+-----------------+-------------+-----------------+-----------------+-----------------+--------------+------------------+\n",
      "|  count|              1000|             1000|         1000|             1000|             1000|             1000|          1000|              1000|\n",
      "|   mean|        551239.811|31507.35562805873|         null|            10.77|49.06149000000005|        54980.499|          null| 519.1824999999998|\n",
      "| stddev|262835.67138697667|19022.31611502283|         null|5.878746436074587|28.50614703004247|26513.18342163287|          null|441.41107975523306|\n",
      "|    min|            101024|            21730|    Able item|                1|             1.02|            10111|       Finland|              1.65|\n",
      "|    max|            999981|           85123A|Yourself item|               20|            100.0|            99927|United Kingdom|1996.3999999999999|\n",
      "+-------+------------------+-----------------+-------------+-----------------+-----------------+-----------------+--------------+------------------+\n",
      "\n"
     ]
    }
   ],
   "source": [
    "ecommerce.describe().show()"
   ]
  },
  {
   "cell_type": "code",
   "execution_count": 68,
   "id": "586f8120-72d9-4ce6-9973-86de4cd42347",
   "metadata": {},
   "outputs": [
    {
     "name": "stdout",
     "output_type": "stream",
     "text": [
      "+---------+---------+-----------+--------+---------+-----------+----------+-------+------------+\n",
      "|InvoiceNo|StockCode|Description|Quantity|UnitPrice|InvoiceDate|CustomerID|Country|total_amount|\n",
      "+---------+---------+-----------+--------+---------+-----------+----------+-------+------------+\n",
      "|        0|        0|          0|       0|        0|          0|         0|      0|           0|\n",
      "+---------+---------+-----------+--------+---------+-----------+----------+-------+------------+\n",
      "\n"
     ]
    }
   ],
   "source": [
    "null_counts = ecommerce.select([sum(col(c).isNull().cast('int')).alias(c) for c in ecommerce.columns])\n",
    "null_counts.show()"
   ]
  },
  {
   "cell_type": "code",
   "execution_count": 69,
   "id": "d46c0938-9a9b-45c3-8e69-7ea888754816",
   "metadata": {},
   "outputs": [],
   "source": [
    "ecommerce = ecommerce.dropna()"
   ]
  },
  {
   "cell_type": "code",
   "execution_count": 70,
   "id": "e5b08b82-9811-479b-86f0-422d3e408c58",
   "metadata": {},
   "outputs": [
    {
     "name": "stdout",
     "output_type": "stream",
     "text": [
      "root\n",
      " |-- InvoiceNo: integer (nullable = true)\n",
      " |-- StockCode: string (nullable = true)\n",
      " |-- Description: string (nullable = true)\n",
      " |-- Quantity: integer (nullable = true)\n",
      " |-- UnitPrice: double (nullable = true)\n",
      " |-- InvoiceDate: date (nullable = true)\n",
      " |-- CustomerID: integer (nullable = true)\n",
      " |-- Country: string (nullable = true)\n",
      " |-- total_amount: double (nullable = true)\n",
      "\n"
     ]
    }
   ],
   "source": [
    "ecommerce.printSchema()"
   ]
  },
  {
   "cell_type": "code",
   "execution_count": 71,
   "id": "907afda5-dffc-43dd-9d05-df0c50a9770a",
   "metadata": {},
   "outputs": [
    {
     "name": "stdout",
     "output_type": "stream",
     "text": [
      "+---------+---------+--------------+--------+---------+-----------+----------+--------------+------------------+\n",
      "|InvoiceNo|StockCode|   Description|Quantity|UnitPrice|InvoiceDate|CustomerID|       Country|      total_amount|\n",
      "+---------+---------+--------------+--------+---------+-----------+----------+--------------+------------------+\n",
      "|   620959|    71053|   Budget item|       1|    74.41| 2024-09-22|     99359|         Spain|             74.41|\n",
      "|   314861|   84029G|     Take item|       5|    73.91| 2024-09-13|     53393|       Germany|369.54999999999995|\n",
      "|   215905|    22632|     Race item|      14|     4.15| 2024-08-18|     35371|       Germany| 58.10000000000001|\n",
      "|   938037|   84029G|Beautiful item|       8|    51.03| 2025-01-28|     35508|United Kingdom|            408.24|\n",
      "|   984993|    22086|    Laugh item|       7|    71.89| 2025-05-31|     58208|         Italy|            503.23|\n",
      "|   196731|   84029G|   Course item|      15|    59.34| 2023-12-11|     51610|United Kingdom|             890.1|\n",
      "|   217567|   84406B|   Suffer item|      14|    34.68| 2025-04-06|     65058|        France|            485.52|\n",
      "|   251459|   84029G|      Job item|      11|    11.12| 2025-02-26|     56320|         Italy|            122.32|\n",
      "|   262194|    71053|   Modern item|      12|     84.9| 2023-12-27|     23205|   Netherlands|1018.8000000000001|\n",
      "|   142595|   85123A|  Teacher item|      15|    54.09| 2025-05-15|     15402|         Italy|            811.35|\n",
      "+---------+---------+--------------+--------+---------+-----------+----------+--------------+------------------+\n",
      "only showing top 10 rows\n",
      "\n"
     ]
    }
   ],
   "source": [
    "ecommerce.show(10)"
   ]
  },
  {
   "cell_type": "code",
   "execution_count": 72,
   "id": "bfdfb523-d903-4e06-af3d-7cd0ec283051",
   "metadata": {},
   "outputs": [
    {
     "name": "stderr",
     "output_type": "stream",
     "text": [
      "                                                                                \r"
     ]
    }
   ],
   "source": [
    "ecommerce.write.mode('overwrite').partitionBy('Country').parquet(\"hdfs:///user/varunm15t38hedu/ecommerce/parquet\")"
   ]
  },
  {
   "cell_type": "code",
   "execution_count": 73,
   "id": "d7ac5cc4-bd4e-404e-a35f-242d1a2a782c",
   "metadata": {},
   "outputs": [
    {
     "data": {
      "text/plain": [
       "DataFrame[]"
      ]
     },
     "execution_count": 73,
     "metadata": {},
     "output_type": "execute_result"
    }
   ],
   "source": [
    "spark.sql(\"msck repair table varunmdb.ecom_transactions\")"
   ]
  },
  {
   "cell_type": "code",
   "execution_count": 74,
   "id": "9b936917-98c0-4894-bc87-fb24b1dec7ec",
   "metadata": {},
   "outputs": [],
   "source": [
    "df = spark.read.table(\"varunmdb.ecom_transactions\")"
   ]
  },
  {
   "cell_type": "code",
   "execution_count": 79,
   "id": "aaca654b-5cbd-4bd9-bdac-eff0a920d458",
   "metadata": {},
   "outputs": [
    {
     "name": "stdout",
     "output_type": "stream",
     "text": [
      "+---------+---------+--------------+--------+---------+-----------+----------+------------------+-------+\n",
      "|invoiceno|stockcode|   description|quantity|unitprice|invoicedate|customerid|      total_amount|country|\n",
      "+---------+---------+--------------+--------+---------+-----------+----------+------------------+-------+\n",
      "|   984993|    22086|    Laugh item|       7|    71.89| 2025-05-31|     58208|            503.23|  Italy|\n",
      "|   251459|   84029G|      Job item|      11|    11.12| 2025-02-26|     56320|            122.32|  Italy|\n",
      "|   142595|   85123A|  Teacher item|      15|    54.09| 2025-05-15|     15402|            811.35|  Italy|\n",
      "|   591728|   84029G| Question item|      18|    54.36| 2024-01-11|     96682|            978.48|  Italy|\n",
      "|   954568|    71053|     Whom item|       5|    63.12| 2024-01-21|     79115|315.59999999999997|  Italy|\n",
      "|   900457|    22633|Executive item|      18|    17.35| 2025-06-21|     82908|             312.3|  Italy|\n",
      "|   765243|   84406B|    Still item|      15|    55.62| 2023-08-26|     69339|             834.3|  Italy|\n",
      "|   322850|    71053|     Read item|      12|    78.23| 2023-07-20|     13293|            938.76|  Italy|\n",
      "|   246237|   84406B|       Mr item|      11|    78.46| 2024-08-11|     58324|            863.06|  Italy|\n",
      "|   180978|   84029G|     Meet item|       1|    66.34| 2024-03-20|     58312|             66.34|  Italy|\n",
      "+---------+---------+--------------+--------+---------+-----------+----------+------------------+-------+\n",
      "\n"
     ]
    }
   ],
   "source": [
    "spark.sql(\"select * from varunmdb.ecom_transactions limit 10\").show()"
   ]
  },
  {
   "cell_type": "code",
   "execution_count": 86,
   "id": "eefdcbd8-d1cc-4ebb-a5e1-9d017f15a1c6",
   "metadata": {},
   "outputs": [],
   "source": [
    "import happybase"
   ]
  },
  {
   "cell_type": "code",
   "execution_count": 88,
   "id": "f87e3127-9e4b-4a1c-9788-7eb3deb100f5",
   "metadata": {},
   "outputs": [],
   "source": [
    "connection = happybase.Connection('master')\n",
    "table = connection.table('varuntcs:ecom_txn')"
   ]
  },
  {
   "cell_type": "code",
   "execution_count": 89,
   "id": "fcc43873-2207-40af-90d7-4a3cb7de128e",
   "metadata": {},
   "outputs": [],
   "source": [
    "for row in ecommerce.limit(10).collect():\n",
    "    row_key = f\"{row.InvoiceNo}_{row.StockCode}\"\n",
    "    table.put(row_key.encode(), {\n",
    "        b'info:InvoiceNo': str(row.InvoiceNo).encode(),\n",
    "        b'info:StockCode': str(row.StockCode).encode(),\n",
    "        b'info:Quantity': str(row.Quantity).encode(),\n",
    "        b'info:UnitPrice': str(row.UnitPrice).encode(),\n",
    "        b'info:CustomerID': str(row.CustomerID).encode(),\n",
    "        b'info:InvoiceDate': str(row.InvoiceDate).encode(),\n",
    "        b'info:total_amount': str(row.total_amount).encode(),\n",
    "        b'info:Country': str(row.Country).encode()\n",
    "    })"
   ]
  },
  {
   "cell_type": "code",
   "execution_count": 90,
   "id": "ca5f35de-7ca3-443a-8d55-7566c800d10e",
   "metadata": {},
   "outputs": [
    {
     "name": "stdout",
     "output_type": "stream",
     "text": [
      "{b'info:Country': b'Italy', b'info:CustomerID': b'15402', b'info:InvoiceDate': b'2025-05-15', b'info:InvoiceNo': b'142595', b'info:Quantity': b'15', b'info:StockCode': b'85123A', b'info:UnitPrice': b'54.09', b'info:total_amount': b'811.35'}\n"
     ]
    }
   ],
   "source": [
    "sample_key = f\"{row.InvoiceNo}_{row.StockCode}\".encode()\n",
    "print(table.row(sample_key))"
   ]
  },
  {
   "cell_type": "code",
   "execution_count": 91,
   "id": "b0f4c1a4-238a-4210-a177-d12ed70fb33e",
   "metadata": {},
   "outputs": [
    {
     "name": "stdout",
     "output_type": "stream",
     "text": [
      "root\n",
      " |-- InvoiceNo: integer (nullable = true)\n",
      " |-- StockCode: string (nullable = true)\n",
      " |-- Description: string (nullable = true)\n",
      " |-- Quantity: integer (nullable = true)\n",
      " |-- UnitPrice: double (nullable = true)\n",
      " |-- InvoiceDate: date (nullable = true)\n",
      " |-- CustomerID: integer (nullable = true)\n",
      " |-- Country: string (nullable = true)\n",
      " |-- total_amount: double (nullable = true)\n",
      "\n"
     ]
    }
   ],
   "source": [
    "ecommerce.printSchema()"
   ]
  },
  {
   "cell_type": "code",
   "execution_count": 96,
   "id": "932288dd-b814-4ee0-8055-54cc0dcd4e36",
   "metadata": {},
   "outputs": [
    {
     "name": "stderr",
     "output_type": "stream",
     "text": [
      "[Stage 51:=========================================>            (154 + 5) / 200]\r"
     ]
    },
    {
     "name": "stdout",
     "output_type": "stream",
     "text": [
      "+--------------+-----+\n",
      "|       Country|count|\n",
      "+--------------+-----+\n",
      "|         Spain|  137|\n",
      "|         Italy|  136|\n",
      "|       Finland|  134|\n",
      "|        Norway|  128|\n",
      "|       Germany|  122|\n",
      "|        France|  117|\n",
      "|   Netherlands|  115|\n",
      "|United Kingdom|  111|\n",
      "+--------------+-----+\n",
      "\n"
     ]
    },
    {
     "name": "stderr",
     "output_type": "stream",
     "text": [
      "                                                                                \r"
     ]
    }
   ],
   "source": [
    "ecommerce.groupBy(\"Country\").count().alias(\"count\").orderBy(col(\"count\").desc()).show()"
   ]
  },
  {
   "cell_type": "code",
   "execution_count": 122,
   "id": "f1fd9bcd-ed35-400e-bd4c-a9b19a9885fa",
   "metadata": {},
   "outputs": [
    {
     "name": "stderr",
     "output_type": "stream",
     "text": [
      "[Stage 72:===============================================>      (175 + 5) / 200]\r"
     ]
    },
    {
     "name": "stdout",
     "output_type": "stream",
     "text": [
      "+---------+------------+\n",
      "|    month|total_amount|\n",
      "+---------+------------+\n",
      "| 2025 / 6|    18298.27|\n",
      "| 2025 / 5|    27481.67|\n",
      "| 2025 / 4|    35579.92|\n",
      "| 2025 / 3|    14941.55|\n",
      "| 2025 / 2|    17796.71|\n",
      "| 2025 / 1|    19554.19|\n",
      "| 2024 / 9|    18419.35|\n",
      "| 2024 / 8|    19718.89|\n",
      "| 2024 / 7|    12879.05|\n",
      "| 2024 / 6|    19680.16|\n",
      "| 2024 / 5|    28597.72|\n",
      "| 2024 / 4|    21026.57|\n",
      "| 2024 / 3|    19575.76|\n",
      "| 2024 / 2|    15686.61|\n",
      "|2024 / 12|    17126.25|\n",
      "|2024 / 11|    19705.84|\n",
      "|2024 / 10|    24134.25|\n",
      "| 2024 / 1|    25522.79|\n",
      "| 2023 / 9|    17917.02|\n",
      "| 2023 / 8|    31184.57|\n",
      "+---------+------------+\n",
      "only showing top 20 rows\n",
      "\n"
     ]
    },
    {
     "name": "stderr",
     "output_type": "stream",
     "text": [
      "                                                                                \r"
     ]
    }
   ],
   "source": [
    "ecommerce.select(concat(year(col(\"InvoiceDate\")),lit(\" / \"),month(col(\"InvoiceDate\"))).alias(\"month\"),col(\"total_amount\")).groupBy(\"month\").agg(round(sum(col(\"total_amount\")),2).alias(\"total_amount\")).orderBy(col(\"month\").desc()).show()"
   ]
  },
  {
   "cell_type": "code",
   "execution_count": 132,
   "id": "c4ee8152-713d-48e1-a5db-a71751d93caf",
   "metadata": {},
   "outputs": [
    {
     "name": "stderr",
     "output_type": "stream",
     "text": [
      "[Stage 77:================================================>     (178 + 7) / 200]\r"
     ]
    },
    {
     "name": "stdout",
     "output_type": "stream",
     "text": [
      "+-------------+--------+\n",
      "|  Description|Quantity|\n",
      "+-------------+--------+\n",
      "|  Travel item|      63|\n",
      "|    Bill item|      62|\n",
      "|    Down item|      57|\n",
      "|    From item|      53|\n",
      "|   Could item|      53|\n",
      "|    Cell item|      52|\n",
      "|Democrat item|      51|\n",
      "|   Under item|      50|\n",
      "|   Tough item|      50|\n",
      "|  Simple item|      50|\n",
      "+-------------+--------+\n",
      "only showing top 10 rows\n",
      "\n"
     ]
    },
    {
     "name": "stderr",
     "output_type": "stream",
     "text": [
      "                                                                                \r"
     ]
    }
   ],
   "source": [
    "ecommerce.select([\"Description\",\"Quantity\"]).groupBy(\"Description\").agg(sum(col(\"Quantity\")).alias(\"Quantity\")).orderBy(col(\"Quantity\").desc()).show(10)"
   ]
  },
  {
   "cell_type": "code",
   "execution_count": 136,
   "id": "4ae82656-36d5-4178-a8b3-424b629cf383",
   "metadata": {},
   "outputs": [
    {
     "name": "stdout",
     "output_type": "stream",
     "text": [
      "+------------+\n",
      "|total_amount|\n",
      "+------------+\n",
      "|    519182.5|\n",
      "+------------+\n",
      "\n"
     ]
    }
   ],
   "source": [
    "ecommerce.select(round(sum(\"total_amount\"),2).alias(\"total_amount\")).show()"
   ]
  },
  {
   "cell_type": "code",
   "execution_count": 145,
   "id": "8f62a215-55d2-4042-84ad-0a5d1180b94d",
   "metadata": {},
   "outputs": [
    {
     "name": "stdout",
     "output_type": "stream",
     "text": [
      "+---------+--------+\n",
      "|InvoiceNo|Quantity|\n",
      "+---------+--------+\n",
      "|   862910|     5.0|\n",
      "|   638120|     9.0|\n",
      "|   820904|    20.0|\n",
      "|   774291|    17.0|\n",
      "|   767940|    19.0|\n",
      "|   989559|    11.0|\n",
      "|   425639|     4.0|\n",
      "|   574190|    13.0|\n",
      "|   811049|     4.0|\n",
      "|   903221|     2.0|\n",
      "|   581784|     2.0|\n",
      "|   943924|    20.0|\n",
      "|   267163|    15.0|\n",
      "|   847356|    14.0|\n",
      "|   114166|     1.0|\n",
      "|   395783|    17.0|\n",
      "|   838580|    20.0|\n",
      "|   274021|    15.0|\n",
      "|   368952|     1.0|\n",
      "|   514254|    20.0|\n",
      "+---------+--------+\n",
      "only showing top 20 rows\n",
      "\n"
     ]
    }
   ],
   "source": [
    "ecommerce.select(col(\"InvoiceNo\"),col(\"Quantity\")).groupBy(\"InvoiceNo\").agg(avg(col(\"Quantity\")).alias(\"Quantity\")).show()"
   ]
  },
  {
   "cell_type": "code",
   "execution_count": null,
   "id": "55b133e4-5473-4e71-b080-759f1bdbea70",
   "metadata": {},
   "outputs": [],
   "source": []
  }
 ],
 "metadata": {
  "kernelspec": {
   "display_name": "PySpark 3",
   "language": "python",
   "name": "pyspark3_env"
  },
  "language_info": {
   "codemirror_mode": {
    "name": "ipython",
    "version": 3
   },
   "file_extension": ".py",
   "mimetype": "text/x-python",
   "name": "python",
   "nbconvert_exporter": "python",
   "pygments_lexer": "ipython3",
   "version": "3.9.13"
  }
 },
 "nbformat": 4,
 "nbformat_minor": 5
}
