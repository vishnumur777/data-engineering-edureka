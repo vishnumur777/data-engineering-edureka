{
 "cells": [
  {
   "cell_type": "code",
   "execution_count": 46,
   "id": "39533710-6892-4095-9e05-978c3b2bd4d9",
   "metadata": {},
   "outputs": [],
   "source": [
    "from pyspark.sql import SparkSession\n",
    "from pyspark.sql.functions import *\n",
    "from pyspark.sql.types import *\n",
    "from pyspark.ml.stat import Correlation"
   ]
  },
  {
   "cell_type": "code",
   "execution_count": 2,
   "id": "ac0e55d5-8234-4bcf-8e56-ae8b59edab41",
   "metadata": {},
   "outputs": [
    {
     "name": "stderr",
     "output_type": "stream",
     "text": [
      "25/06/24 10:36:39 WARN NativeCodeLoader: Unable to load native-hadoop library for your platform... using builtin-java classes where applicable\n",
      "Setting default log level to \"WARN\".\n",
      "To adjust logging level use sc.setLogLevel(newLevel). For SparkR, use setLogLevel(newLevel).\n",
      "25/06/24 10:36:41 WARN Utils: Service 'SparkUI' could not bind on port 4040. Attempting port 4041.\n",
      "25/06/24 10:36:41 WARN Utils: Service 'SparkUI' could not bind on port 4041. Attempting port 4042.\n",
      "25/06/24 10:36:41 WARN Utils: Service 'SparkUI' could not bind on port 4042. Attempting port 4043.\n",
      "25/06/24 10:36:41 WARN Utils: Service 'SparkUI' could not bind on port 4043. Attempting port 4044.\n",
      "25/06/24 10:36:41 WARN Utils: Service 'SparkUI' could not bind on port 4044. Attempting port 4045.\n",
      "25/06/24 10:36:41 WARN Utils: Service 'SparkUI' could not bind on port 4045. Attempting port 4046.\n",
      "25/06/24 10:36:41 WARN Utils: Service 'SparkUI' could not bind on port 4046. Attempting port 4047.\n",
      "25/06/24 10:36:41 WARN Utils: Service 'SparkUI' could not bind on port 4047. Attempting port 4048.\n",
      "25/06/24 10:36:41 WARN Utils: Service 'SparkUI' could not bind on port 4048. Attempting port 4049.\n",
      "25/06/24 10:36:41 WARN Utils: Service 'SparkUI' could not bind on port 4049. Attempting port 4050.\n",
      "25/06/24 10:36:41 WARN Utils: Service 'SparkUI' could not bind on port 4050. Attempting port 4051.\n"
     ]
    }
   ],
   "source": [
    "spark = SparkSession.builder.appName(\"VarunInsClaim\").master(\"local[5]\").enableHiveSupport().getOrCreate()"
   ]
  },
  {
   "cell_type": "code",
   "execution_count": 3,
   "id": "7deb1579-7db6-4fd6-addf-0fc39ec3c7a1",
   "metadata": {},
   "outputs": [
    {
     "name": "stderr",
     "output_type": "stream",
     "text": [
      "                                                                                \r"
     ]
    }
   ],
   "source": [
    "insurance = spark.read.csv(\"insurancedata/insurance_claims.csv\",sep=',',header=True, inferSchema=True)"
   ]
  },
  {
   "cell_type": "code",
   "execution_count": 4,
   "id": "7bb55091-a716-4eaa-a7ed-cf91e08ca909",
   "metadata": {},
   "outputs": [
    {
     "name": "stderr",
     "output_type": "stream",
     "text": [
      "25/06/24 10:36:48 WARN package: Truncated the string representation of a plan since it was too large. This behavior can be adjusted by setting 'spark.sql.debug.maxToStringFields'.\n"
     ]
    },
    {
     "name": "stdout",
     "output_type": "stream",
     "text": [
      "+------------------+---+-------------+------------+----------+-----------------+---------------------+--------------+-----------+-----------+-----------------------+------------------+---------------+--------------------+-------------+------------+-------------+--------------------+--------------+-----------------+---------------------+--------------+-----------------+--------------------+------------------------+---------------------------+---------------+---------------+---------+-----------------------+------------------+------------+--------------+-------------+---------+----------+---------+--------------+\n",
      "|months_as_customer|age|policy_number|policy_state|policy_csl|policy_deductable|policy_annual_premium|umbrella_limit|insured_zip|insured_sex|insured_education_level|insured_occupation|insured_hobbies|insured_relationship|capital_gains|capital_loss|incident_date|       incident_type|collision_type|incident_severity|authorities_contacted|incident_state|    incident_city|   incident_location|incident_hour_of_the_day|number_of_vehicles_involved|property_damage|bodily_injuries|witnesses|police_report_available|total_claim_amount|injury_claim|property_claim|vehicle_claim|auto_make|auto_model|auto_year|fraud_reported|\n",
      "+------------------+---+-------------+------------+----------+-----------------+---------------------+--------------+-----------+-----------+-----------------------+------------------+---------------+--------------------+-------------+------------+-------------+--------------------+--------------+-----------------+---------------------+--------------+-----------------+--------------------+------------------------+---------------------------+---------------+---------------+---------+-----------------------+------------------+------------+--------------+-------------+---------+----------+---------+--------------+\n",
      "|                82| 25|       iV0433|          NY|   100/300|             1000|                820.4|             0|      13935|       MALE|                    PhD|          Engineer|         Sports|             Married|       317.83|      468.48|   2021-06-02|Multi-vehicle Col...|Rear Collision|     Major Damage|                Other|            CA|   New Roberttown|908 Jennifer Squa...|                      14|                          3|             NO|              0|        1|                   null|          21708.11|     4529.13|       3622.05|     11570.66|   Toyota|   Model A|     2012|             Y|\n",
      "|                46| 40|       Wv5423|          IL|  500/1000|              500|              1256.76|       2000000|      13897|       MALE|                 Master|          Engineer|         Sports|             Married|      8294.05|      3092.6|   2024-01-26|          Parked Car|Side Collision|     Minor Damage|               Police|            CA|  South Colinstad|781 Miller Hill, ...|                       9|                          1|            YES|              0|        3|                     NO|           23217.1|     12594.6|       2858.48|      5651.43|      BMW|   Model A|     2019|             Y|\n",
      "|                69| 64|       rD1316|          CA|   250/500|             1000|               941.51|       2000000|      83821|       MALE|               Bachelor|          Engineer|         Gaming|              Single|      8050.46|     2005.82|   2022-12-08|Single Vehicle Co...|Side Collision|       Total Loss|                 Fire|            FL|    Franciscostad|192 Frank Light S...|                      12|                          3|             NO|              0|        2|                    YES|          13084.75|     8639.84|       4309.75|       8976.5|Chevrolet|   Model D|     2011|             Y|\n",
      "|                18| 50|       zP9537|          FL|   250/500|              500|              1374.99|             0|      60643|       MALE|                 Master|             Clerk|        Reading|             Married|      3816.19|     4980.61|   2022-04-08|          Parked Car|Rear Collision|     Minor Damage|            Ambulance|            TX|      West Donald|969 Cox Dam Suite...|                       3|                          2|             NO|              0|        3|                    YES|          47736.98|    13199.87|       4319.14|       7758.5|     Ford|   Model A|     2020|             N|\n",
      "|               108| 58|       Hq6697|          IL|   100/300|              500|               737.56|             0|      73013|       MALE|                    PhD|            Lawyer|        Cooking|              Single|      1118.68|      1814.9|   2021-01-05|          Parked Car|Side Collision|     Minor Damage|                 Fire|            IL|Lake Jenniferside|46270 Stanton Tra...|                       2|                          1|           null|              1|        0|                   null|          38525.89|     2361.68|       7391.59|      8472.15|      BMW|   Model D|     2006|             Y|\n",
      "+------------------+---+-------------+------------+----------+-----------------+---------------------+--------------+-----------+-----------+-----------------------+------------------+---------------+--------------------+-------------+------------+-------------+--------------------+--------------+-----------------+---------------------+--------------+-----------------+--------------------+------------------------+---------------------------+---------------+---------------+---------+-----------------------+------------------+------------+--------------+-------------+---------+----------+---------+--------------+\n",
      "only showing top 5 rows\n",
      "\n"
     ]
    }
   ],
   "source": [
    "insurance.show(5)"
   ]
  },
  {
   "cell_type": "code",
   "execution_count": 5,
   "id": "869d5f0b-3de1-44b7-8b97-e6b3615396ad",
   "metadata": {},
   "outputs": [
    {
     "name": "stdout",
     "output_type": "stream",
     "text": [
      "root\n",
      " |-- months_as_customer: integer (nullable = true)\n",
      " |-- age: integer (nullable = true)\n",
      " |-- policy_number: string (nullable = true)\n",
      " |-- policy_state: string (nullable = true)\n",
      " |-- policy_csl: string (nullable = true)\n",
      " |-- policy_deductable: integer (nullable = true)\n",
      " |-- policy_annual_premium: double (nullable = true)\n",
      " |-- umbrella_limit: integer (nullable = true)\n",
      " |-- insured_zip: integer (nullable = true)\n",
      " |-- insured_sex: string (nullable = true)\n",
      " |-- insured_education_level: string (nullable = true)\n",
      " |-- insured_occupation: string (nullable = true)\n",
      " |-- insured_hobbies: string (nullable = true)\n",
      " |-- insured_relationship: string (nullable = true)\n",
      " |-- capital_gains: double (nullable = true)\n",
      " |-- capital_loss: double (nullable = true)\n",
      " |-- incident_date: string (nullable = true)\n",
      " |-- incident_type: string (nullable = true)\n",
      " |-- collision_type: string (nullable = true)\n",
      " |-- incident_severity: string (nullable = true)\n",
      " |-- authorities_contacted: string (nullable = true)\n",
      " |-- incident_state: string (nullable = true)\n",
      " |-- incident_city: string (nullable = true)\n",
      " |-- incident_location: string (nullable = true)\n",
      " |-- incident_hour_of_the_day: integer (nullable = true)\n",
      " |-- number_of_vehicles_involved: integer (nullable = true)\n",
      " |-- property_damage: string (nullable = true)\n",
      " |-- bodily_injuries: integer (nullable = true)\n",
      " |-- witnesses: integer (nullable = true)\n",
      " |-- police_report_available: string (nullable = true)\n",
      " |-- total_claim_amount: double (nullable = true)\n",
      " |-- injury_claim: double (nullable = true)\n",
      " |-- property_claim: double (nullable = true)\n",
      " |-- vehicle_claim: double (nullable = true)\n",
      " |-- auto_make: string (nullable = true)\n",
      " |-- auto_model: string (nullable = true)\n",
      " |-- auto_year: integer (nullable = true)\n",
      " |-- fraud_reported: string (nullable = true)\n",
      "\n"
     ]
    }
   ],
   "source": [
    "insurance.printSchema()"
   ]
  },
  {
   "cell_type": "code",
   "execution_count": 6,
   "id": "c0119619-8e31-4d4b-9fc8-27dc897ff8e1",
   "metadata": {},
   "outputs": [
    {
     "name": "stdout",
     "output_type": "stream",
     "text": [
      "+------------------+---+-------------+------------+----------+-----------------+---------------------+--------------+-----------+-----------+-----------------------+------------------+---------------+--------------------+-------------+------------+-------------+-------------+--------------+-----------------+---------------------+--------------+-------------+-----------------+------------------------+---------------------------+---------------+---------------+---------+-----------------------+------------------+------------+--------------+-------------+---------+----------+---------+--------------+\n",
      "|months_as_customer|age|policy_number|policy_state|policy_csl|policy_deductable|policy_annual_premium|umbrella_limit|insured_zip|insured_sex|insured_education_level|insured_occupation|insured_hobbies|insured_relationship|capital_gains|capital_loss|incident_date|incident_type|collision_type|incident_severity|authorities_contacted|incident_state|incident_city|incident_location|incident_hour_of_the_day|number_of_vehicles_involved|property_damage|bodily_injuries|witnesses|police_report_available|total_claim_amount|injury_claim|property_claim|vehicle_claim|auto_make|auto_model|auto_year|fraud_reported|\n",
      "+------------------+---+-------------+------------+----------+-----------------+---------------------+--------------+-----------+-----------+-----------------------+------------------+---------------+--------------------+-------------+------------+-------------+-------------+--------------+-----------------+---------------------+--------------+-------------+-----------------+------------------------+---------------------------+---------------+---------------+---------+-----------------------+------------------+------------+--------------+-------------+---------+----------+---------+--------------+\n",
      "|                 0|  0|            0|           0|         0|                0|                    0|             0|          0|          0|                      0|                 0|              0|                   0|            0|           0|            0|            0|             0|                0|                    0|             0|            0|                0|                       0|                          0|            779|              0|        0|                    784|                 0|           0|             0|            0|        0|         0|        0|             0|\n",
      "+------------------+---+-------------+------------+----------+-----------------+---------------------+--------------+-----------+-----------+-----------------------+------------------+---------------+--------------------+-------------+------------+-------------+-------------+--------------+-----------------+---------------------+--------------+-------------+-----------------+------------------------+---------------------------+---------------+---------------+---------+-----------------------+------------------+------------+--------------+-------------+---------+----------+---------+--------------+\n",
      "\n"
     ]
    }
   ],
   "source": [
    "null_counts = insurance.select([sum(col(c).isNull().cast('int')).alias(c) for c in insurance.columns])\n",
    "null_counts.show()"
   ]
  },
  {
   "cell_type": "code",
   "execution_count": 7,
   "id": "47c8b866-b46b-46c7-bbb6-68c0e2f4633e",
   "metadata": {},
   "outputs": [
    {
     "data": {
      "text/plain": [
       "2300"
      ]
     },
     "execution_count": 7,
     "metadata": {},
     "output_type": "execute_result"
    }
   ],
   "source": [
    "insurance.count()"
   ]
  },
  {
   "cell_type": "code",
   "execution_count": 8,
   "id": "3fb195a8-1909-4a07-a48e-d159a6f94d07",
   "metadata": {},
   "outputs": [],
   "source": [
    "insurance = insurance.na.drop()"
   ]
  },
  {
   "cell_type": "code",
   "execution_count": 9,
   "id": "b633041a-57ff-4869-a7c3-672f74fd72aa",
   "metadata": {},
   "outputs": [
    {
     "data": {
      "text/plain": [
       "1025"
      ]
     },
     "execution_count": 9,
     "metadata": {},
     "output_type": "execute_result"
    }
   ],
   "source": [
    "insurance.count()"
   ]
  },
  {
   "cell_type": "code",
   "execution_count": 10,
   "id": "6df70309-31bb-4ac6-baab-102f61e90528",
   "metadata": {},
   "outputs": [],
   "source": [
    "insurance = insurance.withColumn(\"incident_date\", to_date(insurance.incident_date))"
   ]
  },
  {
   "cell_type": "code",
   "execution_count": 11,
   "id": "7a7f60d6-f4d7-4627-b10b-904f51f4e75b",
   "metadata": {},
   "outputs": [],
   "source": [
    "insurance = insurance.withColumn(\"incident_year\",year(insurance.incident_date))"
   ]
  },
  {
   "cell_type": "code",
   "execution_count": 12,
   "id": "cfdd9065-0032-477a-a76a-37123e9ff773",
   "metadata": {},
   "outputs": [
    {
     "name": "stdout",
     "output_type": "stream",
     "text": [
      "+-------------+\n",
      "|incident_date|\n",
      "+-------------+\n",
      "|   2024-01-26|\n",
      "|   2022-12-08|\n",
      "|   2022-04-08|\n",
      "|   2021-02-11|\n",
      "|   2022-03-18|\n",
      "+-------------+\n",
      "only showing top 5 rows\n",
      "\n"
     ]
    }
   ],
   "source": [
    "insurance.select(insurance.incident_date).show(5)"
   ]
  },
  {
   "cell_type": "code",
   "execution_count": 13,
   "id": "3af8f056-9d2c-420c-b04e-a821e90e1cd2",
   "metadata": {},
   "outputs": [
    {
     "name": "stdout",
     "output_type": "stream",
     "text": [
      "+-------------+\n",
      "|incident_year|\n",
      "+-------------+\n",
      "|         2024|\n",
      "|         2022|\n",
      "|         2022|\n",
      "|         2021|\n",
      "|         2022|\n",
      "+-------------+\n",
      "only showing top 5 rows\n",
      "\n"
     ]
    }
   ],
   "source": [
    "insurance.select(insurance.incident_year).show(5)"
   ]
  },
  {
   "cell_type": "code",
   "execution_count": 14,
   "id": "f7473f1e-19d4-4d45-8814-f8bc73bf4077",
   "metadata": {},
   "outputs": [
    {
     "name": "stderr",
     "output_type": "stream",
     "text": [
      "                                                                                \r"
     ]
    }
   ],
   "source": [
    "insurance.write.mode(\"overwrite\").partitionBy(\"incident_year\").parquet(\"insurancedata/parquet\")"
   ]
  },
  {
   "cell_type": "code",
   "execution_count": 16,
   "id": "040916b2-9072-409e-b055-88bd767d4ea1",
   "metadata": {},
   "outputs": [
    {
     "name": "stderr",
     "output_type": "stream",
     "text": [
      "25/06/24 10:37:16 WARN SessionState: METASTORE_FILTER_HOOK will be ignored, since hive.security.authorization.manager is set to instance of HiveAuthorizerFactory.\n"
     ]
    },
    {
     "name": "stdout",
     "output_type": "stream",
     "text": [
      "+------------------+---+-------------+------------+----------+-----------------+---------------------+--------------+-----------+-----------+-----------------------+------------------+---------------+--------------------+-------------+------------+-------------+--------------------+---------------+-----------------+---------------------+--------------+------------------+--------------------+------------------------+---------------------------+---------------+---------------+---------+-----------------------+------------------+------------+--------------+-------------+---------+----------+---------+--------------+-------------+\n",
      "|months_as_customer|age|policy_number|policy_state|policy_csl|policy_deductable|policy_annual_premium|umbrella_limit|insured_zip|insured_sex|insured_education_level|insured_occupation|insured_hobbies|insured_relationship|capital_gains|capital_loss|incident_date|       incident_type| collision_type|incident_severity|authorities_contacted|incident_state|     incident_city|   incident_location|incident_hour_of_the_day|number_of_vehicles_involved|property_damage|bodily_injuries|witnesses|police_report_available|total_claim_amount|injury_claim|property_claim|vehicle_claim|auto_make|auto_model|auto_year|fraud_reported|incident_year|\n",
      "+------------------+---+-------------+------------+----------+-----------------+---------------------+--------------+-----------+-----------+-----------------------+------------------+---------------+--------------------+-------------+------------+-------------+--------------------+---------------+-----------------+---------------------+--------------+------------------+--------------------+------------------------+---------------------------+---------------+---------------+---------+-----------------------+------------------+------------+--------------+-------------+---------+----------+---------+--------------+-------------+\n",
      "|                69| 64|       rD1316|          CA|   250/500|             1000|               941.51|       2000000|      83821|       MALE|               Bachelor|          Engineer|         Gaming|              Single|      8050.46|     2005.82|   2022-12-08|Single Vehicle Co...| Side Collision|       Total Loss|                 Fire|            FL|     Franciscostad|192 Frank Light S...|                      12|                          3|             NO|              0|        2|                    YES|          13084.75|     8639.84|       4309.75|       8976.5|Chevrolet|   Model D|     2011|             Y|         2022|\n",
      "|                18| 50|       zP9537|          FL|   250/500|              500|              1374.99|             0|      60643|       MALE|                 Master|             Clerk|        Reading|             Married|      3816.19|     4980.61|   2022-04-08|          Parked Car| Rear Collision|     Minor Damage|            Ambulance|            TX|       West Donald|969 Cox Dam Suite...|                       3|                          2|             NO|              0|        3|                    YES|          47736.98|    13199.87|       4319.14|       7758.5|     Ford|   Model A|     2020|             N|         2022|\n",
      "|                12| 58|       iQ5346|          FL|  500/1000|              500|               603.19|             0|      85108|     FEMALE|              Associate|           Manager|         Sports|            Divorced|      4276.87|       48.35|   2022-03-18|Single Vehicle Co...| Side Collision|     Minor Damage|            Ambulance|            IL|       Stephenland|83842 Ibarra Gard...|                      17|                          1|             NO|              0|        0|                     NO|          18867.92|    14029.78|      14596.85|      1078.48|      BMW|   Model B|     2021|             Y|         2022|\n",
      "|                35| 45|       sG8721|          FL|   250/500|             1000|               902.52|       2000000|      87513|     FEMALE|              Associate|           Manager|         Gaming|            Divorced|      5341.24|     4534.64|   2022-04-16|Single Vehicle Co...| Rear Collision|   Trivial Damage|                 Fire|            FL|      Clarencebury|20037 Stanley Roa...|                       5|                          1|             NO|              1|        2|                    YES|          23280.27|     5393.76|      13254.78|      4534.72|    Honda|   Model C|     2002|             N|         2022|\n",
      "|                98| 21|       UL3374|          CA|  500/1000|             2000|               717.91|       1000000|      69266|     FEMALE|                 Master|          Engineer|        Reading|            Divorced|      6088.72|     1196.49|   2022-01-18|Multi-vehicle Col...|Front Collision|     Minor Damage|                Other|            NY|       Tinaborough|40824 Terri Plaza...|                       7|                          1|             NO|              0|        1|                     NO|           46700.0|     4731.99|      10728.47|      6524.61|    Honda|   Model D|     2007|             N|         2022|\n",
      "|               111| 58|       ar3529|          TX|   250/500|             1000|               661.46|       1000000|      19465|     FEMALE|               Bachelor|             Clerk|        Reading|             Married|      5073.37|     1552.04|   2022-04-23|       Vehicle Theft| Rear Collision|     Minor Damage|            Ambulance|            TX|          New John|05395 Grant Cente...|                       2|                          3|            YES|              2|        3|                     NO|          29436.14|    14336.36|      11214.36|      1094.83|Chevrolet|   Model B|     2010|             N|         2022|\n",
      "|                53| 59|       Hy1027|          FL|  500/1000|             2000|               779.51|       1000000|      74120|     FEMALE|               Bachelor|          Engineer|        Reading|            Divorced|      5741.33|     2675.76|   2022-08-06|Single Vehicle Co...| Side Collision|   Trivial Damage|                 Fire|            NY|West Kimberlymouth|731 Melissa Missi...|                      12|                          2|            YES|              2|        2|                    YES|           1454.09|     8735.45|       2055.86|     14753.41|      BMW|   Model D|     2020|             N|         2022|\n",
      "|                74| 25|       Xs6385|          TX|   100/300|             1000|              1087.84|             0|      50395|     FEMALE|                    PhD|            Doctor|        Cooking|              Single|      7359.89|     3268.36|   2022-03-19|Multi-vehicle Col...|Front Collision|     Minor Damage|                Other|            TX|      Fergusonstad|771 Gill Island A...|                      11|                          1|             NO|              0|        1|                    YES|          40724.43|      9024.9|       5584.15|     10805.93|    Honda|   Model B|     2019|             Y|         2022|\n",
      "|               113| 47|       RF7416|          TX|  500/1000|             1000|               677.75|       1000000|      18743|       MALE|               Bachelor|            Doctor|      Traveling|            Divorced|      7845.07|     3697.88|   2022-04-04|Multi-vehicle Col...|   No Collision|       Total Loss|                Other|            CA|          Johnberg|79796 Stephens Tu...|                      23|                          3|            YES|              0|        0|                     NO|            2171.6|     8352.41|       9721.16|     10555.18|   Toyota|   Model C|     2000|             N|         2022|\n",
      "|                12| 63|       zb6226|          CA|  500/1000|             1000|              1062.11|       2000000|      97151|     FEMALE|               Bachelor|            Doctor|        Reading|             Married|      8546.01|     2779.77|   2022-06-12|Multi-vehicle Col...| Rear Collision|   Trivial Damage|               Police|            CA|    South Brittany|41918 Michael Fla...|                       3|                          1|            YES|              0|        1|                    YES|           41360.0|     5897.48|       9639.31|      9847.93|Chevrolet|   Model C|     2002|             Y|         2022|\n",
      "+------------------+---+-------------+------------+----------+-----------------+---------------------+--------------+-----------+-----------+-----------------------+------------------+---------------+--------------------+-------------+------------+-------------+--------------------+---------------+-----------------+---------------------+--------------+------------------+--------------------+------------------------+---------------------------+---------------+---------------+---------+-----------------------+------------------+------------+--------------+-------------+---------+----------+---------+--------------+-------------+\n",
      "\n"
     ]
    }
   ],
   "source": [
    "spark.sql(\"select * from varunmdb.insurance_claim limit 10\").show()"
   ]
  },
  {
   "cell_type": "code",
   "execution_count": 21,
   "id": "0385fb3f-c2a7-452b-9b4e-865e1ed0401a",
   "metadata": {},
   "outputs": [
    {
     "name": "stderr",
     "output_type": "stream",
     "text": [
      "[Stage 25:==========================================>           (158 + 6) / 200]\r"
     ]
    },
    {
     "name": "stdout",
     "output_type": "stream",
     "text": [
      "+-------------+-----+\n",
      "|incident_year|count|\n",
      "+-------------+-----+\n",
      "|         2021|  104|\n",
      "|         2023|  100|\n",
      "|         2024|   98|\n",
      "|         2022|   86|\n",
      "|         2020|   57|\n",
      "|         2025|   52|\n",
      "+-------------+-----+\n",
      "\n"
     ]
    },
    {
     "name": "stderr",
     "output_type": "stream",
     "text": [
      "                                                                                \r"
     ]
    }
   ],
   "source": [
    "insurance.select([\"incident_year\", \"fraud_reported\"]).filter(insurance.fraud_reported==\"Y\").groupBy(col(\"incident_year\")).count().alias(\"count\").orderBy(col(\"count\").desc()).show()"
   ]
  },
  {
   "cell_type": "code",
   "execution_count": 25,
   "id": "7f3d8254-1356-412c-901a-2f82d42425b5",
   "metadata": {},
   "outputs": [
    {
     "name": "stderr",
     "output_type": "stream",
     "text": [
      "[Stage 39:======================================>               (141 + 5) / 200]\r"
     ]
    },
    {
     "name": "stdout",
     "output_type": "stream",
     "text": [
      "+-------------+-----------+\n",
      "|incident_year|fraud_count|\n",
      "+-------------+-----------+\n",
      "|         2021|        104|\n",
      "|         2023|        100|\n",
      "|         2024|         98|\n",
      "|         2022|         86|\n",
      "|         2020|         57|\n",
      "|         2025|         52|\n",
      "+-------------+-----------+\n",
      "\n"
     ]
    },
    {
     "name": "stderr",
     "output_type": "stream",
     "text": [
      "                                                                                \r"
     ]
    }
   ],
   "source": [
    "spark.sql(\"select incident_year, count(fraud_reported) as fraud_count from varunmdb.insurance_claim where fraud_reported='Y' group by incident_year order by fraud_count desc\").show()"
   ]
  },
  {
   "cell_type": "code",
   "execution_count": 42,
   "id": "fbde9a08-b3be-4a47-8224-c14b36e8691f",
   "metadata": {},
   "outputs": [
    {
     "name": "stdout",
     "output_type": "stream",
     "text": [
      "+-----------------+--------------+-----------------------+\n",
      "|incident_severity|fraud_reported|avg(total_claim_amount)|\n",
      "+-----------------+--------------+-----------------------+\n",
      "|       Total Loss|             Y|      28088.50311926605|\n",
      "|   Trivial Damage|             Y|      25490.95492307692|\n",
      "|     Major Damage|             Y|     25402.379743589736|\n",
      "|     Minor Damage|             Y|     25120.952907801424|\n",
      "|     Minor Damage|             N|      27713.14116788321|\n",
      "|     Major Damage|             N|      24807.60552845529|\n",
      "|   Trivial Damage|             N|     25434.518214285712|\n",
      "|       Total Loss|             N|     26098.876484375003|\n",
      "+-----------------+--------------+-----------------------+\n",
      "\n"
     ]
    }
   ],
   "source": [
    "insurance.select([\"incident_severity\",\"fraud_reported\",\"total_claim_amount\"]).groupBy(col(\"incident_severity\"),col(\"fraud_reported\")).avg(\"total_claim_amount\").show()"
   ]
  },
  {
   "cell_type": "code",
   "execution_count": 45,
   "id": "be2a2d69-bdd8-416e-b367-fc8ff985425e",
   "metadata": {},
   "outputs": [
    {
     "name": "stdout",
     "output_type": "stream",
     "text": [
      "+---------+------------------+\n",
      "|auto_make|total_claim_amount|\n",
      "+---------+------------------+\n",
      "|    Honda|          49968.57|\n",
      "|   Toyota|          49936.21|\n",
      "|Chevrolet|          49933.36|\n",
      "|     Ford|          49864.04|\n",
      "|     Ford|          49821.58|\n",
      "+---------+------------------+\n",
      "only showing top 5 rows\n",
      "\n"
     ]
    }
   ],
   "source": [
    "insurance.select([\"auto_make\", \"total_claim_amount\"]).orderBy(col(\"total_claim_amount\").desc()).show(5)"
   ]
  },
  {
   "cell_type": "code",
   "execution_count": 50,
   "id": "219c5967-f7c7-480a-9e65-3d45b4d7f9d5",
   "metadata": {},
   "outputs": [],
   "source": [
    "fr_cust = insurance.select(['months_as_customer','fraud_reported'])"
   ]
  },
  {
   "cell_type": "code",
   "execution_count": 52,
   "id": "ba228a2d-4b7e-4ec8-8fb4-2ce495f38411",
   "metadata": {},
   "outputs": [],
   "source": [
    "fr_cust = fr_cust.withColumn(\"fraud_reported\", when(col(\"fraud_reported\")==\"Y\",1).when(col(\"fraud_reported\")==\"N\",0))"
   ]
  },
  {
   "cell_type": "code",
   "execution_count": 60,
   "id": "daebad21-95a1-4d03-b112-da99f36917f1",
   "metadata": {},
   "outputs": [
    {
     "data": {
      "text/plain": [
       "0.010409867906131687"
      ]
     },
     "execution_count": 60,
     "metadata": {},
     "output_type": "execute_result"
    }
   ],
   "source": [
    "correlation=fr_cust.stat.corr('months_as_customer','fraud_reported')\n",
    "correlation"
   ]
  },
  {
   "cell_type": "code",
   "execution_count": 61,
   "id": "2bd9b55f-9378-4a71-9985-f8a8e8d0cb69",
   "metadata": {},
   "outputs": [
    {
     "name": "stdout",
     "output_type": "stream",
     "text": [
      "+-------------------+\n",
      "|count(injury_claim)|\n",
      "+-------------------+\n",
      "|               1025|\n",
      "+-------------------+\n",
      "\n"
     ]
    }
   ],
   "source": [
    "insurance.agg(count('injury_claim')).show()"
   ]
  },
  {
   "cell_type": "code",
   "execution_count": 62,
   "id": "ef1b9223-b2a9-4875-b7be-596ebbc16c7b",
   "metadata": {},
   "outputs": [
    {
     "name": "stdout",
     "output_type": "stream",
     "text": [
      "+--------------+------+--------+-------+\n",
      "|fraud_reported|injury|property|vehicle|\n",
      "+--------------+------+--------+-------+\n",
      "|             Y|   497|     497|    497|\n",
      "|             N|   528|     528|    528|\n",
      "+--------------+------+--------+-------+\n",
      "\n"
     ]
    }
   ],
   "source": [
    "insurance=insurance.withColumn('injury',when(col('injury_claim')>0,1).otherwise(0))\\\n",
    ".withColumn('property',when(col('property_claim')>0,1).otherwise(0))\\\n",
    ".withColumn('vehicle',when(col('vehicle_claim')>0,1).otherwise(0))\n",
    "claim_type=insurance.groupBy('fraud_reported').agg(sum('injury').alias('injury'),sum('property').alias('property'),sum('vehicle').alias('vehicle'))\n",
    "claim_type.show()"
   ]
  },
  {
   "cell_type": "code",
   "execution_count": null,
   "id": "e82734b9-db2d-4a76-8f8f-3dbd6fc5d8cd",
   "metadata": {},
   "outputs": [],
   "source": []
  }
 ],
 "metadata": {
  "kernelspec": {
   "display_name": "Python 3 (ipykernel)",
   "language": "python",
   "name": "python3"
  },
  "language_info": {
   "codemirror_mode": {
    "name": "ipython",
    "version": 3
   },
   "file_extension": ".py",
   "mimetype": "text/x-python",
   "name": "python",
   "nbconvert_exporter": "python",
   "pygments_lexer": "ipython3",
   "version": "3.9.13"
  }
 },
 "nbformat": 4,
 "nbformat_minor": 5
}
