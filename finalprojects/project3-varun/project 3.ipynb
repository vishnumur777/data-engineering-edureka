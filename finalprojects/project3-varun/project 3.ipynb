{
 "cells": [
  {
   "cell_type": "markdown",
   "id": "0e9c861e-f769-4096-ab27-51bac7cc1313",
   "metadata": {},
   "source": [
    "# Project: Bank Transaction Monitoring and Fraud Detection Pipeline "
   ]
  },
  {
   "cell_type": "code",
   "execution_count": null,
   "id": "a880f38f-4e15-4b97-91ce-95d20b7fce70",
   "metadata": {},
   "outputs": [],
   "source": []
  },
  {
   "cell_type": "markdown",
   "id": "3785b2ee-6d19-41cd-ac28-5795c838291e",
   "metadata": {},
   "source": [
    "# 2. Data Transformation with PySpark"
   ]
  },
  {
   "cell_type": "code",
   "execution_count": 2,
   "id": "eb35a6ee-74f5-4680-90f7-51a245ae6bb3",
   "metadata": {},
   "outputs": [],
   "source": [
    "from pyspark.sql import SparkSession\n",
    "from pyspark.sql.types import *\n",
    "from pyspark.sql.functions import *"
   ]
  },
  {
   "cell_type": "code",
   "execution_count": 3,
   "id": "1c12a39c-e46d-46ef-a9a5-cf6e3bfefb1a",
   "metadata": {},
   "outputs": [
    {
     "name": "stderr",
     "output_type": "stream",
     "text": [
      "25/06/26 05:40:06 WARN NativeCodeLoader: Unable to load native-hadoop library for your platform... using builtin-java classes where applicable\n",
      "Setting default log level to \"WARN\".\n",
      "To adjust logging level use sc.setLogLevel(newLevel). For SparkR, use setLogLevel(newLevel).\n",
      "25/06/26 05:40:07 WARN Utils: Service 'SparkUI' could not bind on port 4040. Attempting port 4041.\n",
      "25/06/26 05:40:07 WARN Utils: Service 'SparkUI' could not bind on port 4041. Attempting port 4042.\n",
      "25/06/26 05:40:07 WARN Utils: Service 'SparkUI' could not bind on port 4042. Attempting port 4043.\n",
      "25/06/26 05:40:07 WARN Utils: Service 'SparkUI' could not bind on port 4043. Attempting port 4044.\n",
      "25/06/26 05:40:07 WARN Utils: Service 'SparkUI' could not bind on port 4044. Attempting port 4045.\n",
      "25/06/26 05:40:07 WARN Utils: Service 'SparkUI' could not bind on port 4045. Attempting port 4046.\n",
      "25/06/26 05:40:07 WARN Utils: Service 'SparkUI' could not bind on port 4046. Attempting port 4047.\n",
      "25/06/26 05:40:07 WARN Utils: Service 'SparkUI' could not bind on port 4047. Attempting port 4048.\n",
      "25/06/26 05:40:07 WARN Utils: Service 'SparkUI' could not bind on port 4048. Attempting port 4049.\n",
      "25/06/26 05:40:07 WARN Utils: Service 'SparkUI' could not bind on port 4049. Attempting port 4050.\n",
      "25/06/26 05:40:07 WARN Utils: Service 'SparkUI' could not bind on port 4050. Attempting port 4051.\n",
      "25/06/26 05:40:07 WARN Utils: Service 'SparkUI' could not bind on port 4051. Attempting port 4052.\n",
      "25/06/26 05:40:07 WARN Utils: Service 'SparkUI' could not bind on port 4052. Attempting port 4053.\n",
      "25/06/26 05:40:07 WARN Utils: Service 'SparkUI' could not bind on port 4053. Attempting port 4054.\n",
      "25/06/26 05:40:07 WARN Utils: Service 'SparkUI' could not bind on port 4054. Attempting port 4055.\n",
      "25/06/26 05:40:07 WARN Utils: Service 'SparkUI' could not bind on port 4055. Attempting port 4056.\n",
      "25/06/26 05:40:07 WARN Utils: Service 'SparkUI' could not bind on port 4056. Attempting port 4057.\n",
      "25/06/26 05:40:07 WARN Utils: Service 'SparkUI' could not bind on port 4057. Attempting port 4058.\n",
      "25/06/26 05:40:09 WARN Client: Neither spark.yarn.jars nor spark.yarn.archive is set, falling back to uploading libraries under SPARK_HOME.\n"
     ]
    }
   ],
   "source": [
    "spark = SparkSession.builder.appName(\"BankingTransactionETL-kushi\").enableHiveSupport() \\\n",
    "    .getOrCreate()\n"
   ]
  },
  {
   "cell_type": "code",
   "execution_count": 4,
   "id": "a14cb745-df78-4890-ac35-c000f9358651",
   "metadata": {},
   "outputs": [
    {
     "data": {
      "text/html": [
       "\n",
       "            <div>\n",
       "                <p><b>SparkSession - hive</b></p>\n",
       "                \n",
       "        <div>\n",
       "            <p><b>SparkContext</b></p>\n",
       "\n",
       "            <p><a href=\"http://ip-172-31-16-206.ap-south-1.compute.internal:4058\">Spark UI</a></p>\n",
       "\n",
       "            <dl>\n",
       "              <dt>Version</dt>\n",
       "                <dd><code>v3.1.2</code></dd>\n",
       "              <dt>Master</dt>\n",
       "                <dd><code>yarn</code></dd>\n",
       "              <dt>AppName</dt>\n",
       "                <dd><code>BankingTransactionETL-kushi</code></dd>\n",
       "            </dl>\n",
       "        </div>\n",
       "        \n",
       "            </div>\n",
       "        "
      ],
      "text/plain": [
       "<pyspark.sql.session.SparkSession at 0x7f67302f9e20>"
      ]
     },
     "execution_count": 4,
     "metadata": {},
     "output_type": "execute_result"
    }
   ],
   "source": [
    "spark"
   ]
  },
  {
   "cell_type": "code",
   "execution_count": 6,
   "id": "0c494466-19ac-4f42-b52a-2a3fabf2f4ae",
   "metadata": {},
   "outputs": [],
   "source": [
    "# Load the HDFS data into a PySpark DataFrame.\n",
    "\n",
    "df_banking = spark.read.option(\"header\",True).option(\"inferSchema\",True).\\\n",
    "csv(\"/user/ravurisat11dedu/banking/banking_transaction.csv\")"
   ]
  },
  {
   "cell_type": "code",
   "execution_count": 17,
   "id": "e0e669d3-59c5-436c-b33a-4b3f97c5aac5",
   "metadata": {},
   "outputs": [
    {
     "name": "stdout",
     "output_type": "stream",
     "text": [
      "root\n",
      " |-- transaction_id: integer (nullable = true)\n",
      " |-- customer_id: integer (nullable = true)\n",
      " |-- timestamp: timestamp (nullable = true)\n",
      " |-- amount: double (nullable = true)\n",
      " |-- transaction_type: string (nullable = true)\n",
      " |-- channel: string (nullable = true)\n",
      " |-- status: string (nullable = true)\n",
      "\n"
     ]
    }
   ],
   "source": [
    "df_banking.printSchema()"
   ]
  },
  {
   "cell_type": "code",
   "execution_count": 18,
   "id": "4b183dac-760d-44c6-9567-6c0fb01d1ad6",
   "metadata": {},
   "outputs": [
    {
     "data": {
      "text/plain": [
       "2900"
      ]
     },
     "execution_count": 18,
     "metadata": {},
     "output_type": "execute_result"
    }
   ],
   "source": [
    "# Total Number of Records.\n",
    "\n",
    "df_banking.count()"
   ]
  },
  {
   "cell_type": "code",
   "execution_count": 19,
   "id": "eb51380c-15e7-4b15-a8a6-d0eaf0e1de5a",
   "metadata": {},
   "outputs": [],
   "source": [
    "# Dropping rows having null values.\n",
    "\n",
    "df_banking = df_banking.dropna()"
   ]
  },
  {
   "cell_type": "code",
   "execution_count": 20,
   "id": "fa9c0879-cea0-45a5-ba46-31e3b0dddfff",
   "metadata": {},
   "outputs": [
    {
     "data": {
      "text/plain": [
       "2900"
      ]
     },
     "execution_count": 20,
     "metadata": {},
     "output_type": "execute_result"
    }
   ],
   "source": [
    "df_banking.count() # No Null values"
   ]
  },
  {
   "cell_type": "code",
   "execution_count": 8,
   "id": "c4db4b8f-87d9-4a1e-b4d9-9406b558fb07",
   "metadata": {},
   "outputs": [
    {
     "name": "stdout",
     "output_type": "stream",
     "text": [
      "+--------------+-----------+-------------------+------+----------------+-------+-------+\n",
      "|transaction_id|customer_id|          timestamp|amount|transaction_type|channel| status|\n",
      "+--------------+-----------+-------------------+------+----------------+-------+-------+\n",
      "|             1|       1082|2025-05-30 22:50:12| 200.2|      withdrawal|    ATM|success|\n",
      "|             2|       1095|2025-05-26 18:15:58|192.25|         deposit| Branch|success|\n",
      "|             3|       1004|2025-06-07 21:33:32|184.33|         deposit| Branch|success|\n",
      "|             4|       1072|2025-06-06 10:26:46|278.95|      withdrawal|    ATM|success|\n",
      "|             5|       1036|2025-06-05 09:11:09|828.49|         deposit|    ATM|success|\n",
      "|             6|       1044|2025-06-01 07:42:00|350.08|         deposit| Online|success|\n",
      "|             7|       1049|2025-05-30 12:32:31|187.04|      withdrawal| Branch|success|\n",
      "|             8|       1006|2025-06-21 00:31:29|756.76|         deposit| Online|success|\n",
      "|             9|       1038|2025-05-29 18:25:03|846.46|      withdrawal| Branch|success|\n",
      "|            10|       1009|2025-06-23 05:06:01|141.24|         deposit| Online| failed|\n",
      "+--------------+-----------+-------------------+------+----------------+-------+-------+\n",
      "only showing top 10 rows\n",
      "\n"
     ]
    }
   ],
   "source": [
    "df_banking.show(10)"
   ]
  },
  {
   "cell_type": "code",
   "execution_count": 22,
   "id": "3d0aa417-cef0-4c9a-b247-f54e8765f1fc",
   "metadata": {},
   "outputs": [],
   "source": [
    "# Perform the following:\n",
    "# Normalize text fields (transaction_type, channel) to lowercase.\n",
    "# Filter out failed transactions.\n",
    "# Add derived columns: txn_day, txn_hour, high_value_flag (if amount > ₹500).\n"
   ]
  },
  {
   "cell_type": "code",
   "execution_count": 23,
   "id": "f493d397-3fd4-4b12-bd2e-580e2e4dda5f",
   "metadata": {},
   "outputs": [
    {
     "name": "stdout",
     "output_type": "stream",
     "text": [
      "+----------------+-------+\n",
      "|transaction_type|channel|\n",
      "+----------------+-------+\n",
      "|      withdrawal|    ATM|\n",
      "|         deposit| Branch|\n",
      "+----------------+-------+\n",
      "only showing top 2 rows\n",
      "\n"
     ]
    }
   ],
   "source": [
    "df_banking.select('transaction_type','channel').show(2)"
   ]
  },
  {
   "cell_type": "code",
   "execution_count": 24,
   "id": "98ca2361-7f39-4c47-9552-7d21e7cf98e3",
   "metadata": {},
   "outputs": [
    {
     "name": "stdout",
     "output_type": "stream",
     "text": [
      "+--------------+-----------+-------------------+------+----------------+-------+-------+\n",
      "|transaction_id|customer_id|          timestamp|amount|transaction_type|channel| status|\n",
      "+--------------+-----------+-------------------+------+----------------+-------+-------+\n",
      "|             1|       1082|2025-05-30 22:50:12| 200.2|      withdrawal|    ATM|success|\n",
      "|             2|       1095|2025-05-26 18:15:58|192.25|         deposit| Branch|success|\n",
      "|             3|       1004|2025-06-07 21:33:32|184.33|         deposit| Branch|success|\n",
      "|             4|       1072|2025-06-06 10:26:46|278.95|      withdrawal|    ATM|success|\n",
      "|             5|       1036|2025-06-05 09:11:09|828.49|         deposit|    ATM|success|\n",
      "+--------------+-----------+-------------------+------+----------------+-------+-------+\n",
      "only showing top 5 rows\n",
      "\n"
     ]
    }
   ],
   "source": [
    "df_banking.show(5)"
   ]
  },
  {
   "cell_type": "code",
   "execution_count": 9,
   "id": "c409560b-39db-4e79-88cf-62409cc665ad",
   "metadata": {},
   "outputs": [],
   "source": [
    "df_clean = df_banking \\\n",
    "    .withColumn(\"transaction_type\", lower(col(\"transaction_type\"))) \\\n",
    "    .withColumn(\"channel\", lower(col(\"channel\"))) \\\n",
    "    .filter(col(\"status\") == \"success\") \\\n",
    "    .withColumn(\"txn_day\", dayofmonth(\"timestamp\")) \\\n",
    "    .withColumn(\"txn_hour\", hour(\"timestamp\")) \\\n",
    "    .withColumn(\"high_value_flag\", when(col(\"amount\") > 500, 1).otherwise(0))"
   ]
  },
  {
   "cell_type": "code",
   "execution_count": 10,
   "id": "8cc0b1cf-0cee-4427-933c-ff26010472f6",
   "metadata": {},
   "outputs": [
    {
     "data": {
      "text/plain": [
       "2624"
      ]
     },
     "execution_count": 10,
     "metadata": {},
     "output_type": "execute_result"
    }
   ],
   "source": [
    "df_clean.count() # After removing Failed transactions."
   ]
  },
  {
   "cell_type": "code",
   "execution_count": 11,
   "id": "575b3edb-9480-440a-95bc-fa1c06301a1f",
   "metadata": {},
   "outputs": [
    {
     "name": "stdout",
     "output_type": "stream",
     "text": [
      "+--------------+-----------+-------------------+------+----------------+-------+-------+-------+--------+---------------+\n",
      "|transaction_id|customer_id|          timestamp|amount|transaction_type|channel| status|txn_day|txn_hour|high_value_flag|\n",
      "+--------------+-----------+-------------------+------+----------------+-------+-------+-------+--------+---------------+\n",
      "|             1|       1082|2025-05-30 22:50:12| 200.2|      withdrawal|    atm|success|     30|      22|              0|\n",
      "|             2|       1095|2025-05-26 18:15:58|192.25|         deposit| branch|success|     26|      18|              0|\n",
      "|             3|       1004|2025-06-07 21:33:32|184.33|         deposit| branch|success|      7|      21|              0|\n",
      "|             4|       1072|2025-06-06 10:26:46|278.95|      withdrawal|    atm|success|      6|      10|              0|\n",
      "|             5|       1036|2025-06-05 09:11:09|828.49|         deposit|    atm|success|      5|       9|              1|\n",
      "|             6|       1044|2025-06-01 07:42:00|350.08|         deposit| online|success|      1|       7|              0|\n",
      "|             7|       1049|2025-05-30 12:32:31|187.04|      withdrawal| branch|success|     30|      12|              0|\n",
      "|             8|       1006|2025-06-21 00:31:29|756.76|         deposit| online|success|     21|       0|              1|\n",
      "|             9|       1038|2025-05-29 18:25:03|846.46|      withdrawal| branch|success|     29|      18|              1|\n",
      "|            11|       1030|2025-06-15 00:42:04|879.84|      withdrawal| online|success|     15|       0|              1|\n",
      "+--------------+-----------+-------------------+------+----------------+-------+-------+-------+--------+---------------+\n",
      "only showing top 10 rows\n",
      "\n"
     ]
    }
   ],
   "source": [
    "df_clean.show(10)"
   ]
  },
  {
   "cell_type": "code",
   "execution_count": 34,
   "id": "e98b0893-07ca-47ab-af57-d9a1ed898ed4",
   "metadata": {},
   "outputs": [],
   "source": [
    "#df_clean.write.option(\"header\", True).csv(\"/user/ravurisat11dedu/banking/cleaned/\")"
   ]
  },
  {
   "cell_type": "markdown",
   "id": "ee3bd673-f05d-4194-a14f-2e4fb7814f48",
   "metadata": {},
   "source": [
    "# 3. Hive-Based Reporting (Batch Analytics)"
   ]
  },
  {
   "cell_type": "code",
   "execution_count": 35,
   "id": "672a11ab-cc20-4904-9e8e-2e171526bfff",
   "metadata": {},
   "outputs": [],
   "source": [
    "df_banking.write.mode(\"overwrite\").format(\"parquet\").saveAsTable(\"kushi.raw_transactions\")\n"
   ]
  },
  {
   "cell_type": "code",
   "execution_count": 36,
   "id": "71343700-34ce-4266-aae4-c7bf5f87a7d1",
   "metadata": {},
   "outputs": [],
   "source": [
    "df_clean.write.mode(\"overwrite\").format(\"parquet\").saveAsTable(\"kushi.clean_transactions\")\n"
   ]
  },
  {
   "cell_type": "code",
   "execution_count": 40,
   "id": "4af53e53-38c7-4c66-b94d-5cafe28b0325",
   "metadata": {},
   "outputs": [],
   "source": [
    "# View for raw transactions\n",
    "\n",
    "df_banking.createOrReplaceTempView(\"rawtransactionsview\")"
   ]
  },
  {
   "cell_type": "code",
   "execution_count": 41,
   "id": "0f70191d-9c00-46b1-8d54-0f804fbcf814",
   "metadata": {},
   "outputs": [],
   "source": [
    "# View for cleaned transactions\n",
    "\n",
    "df_clean.createOrReplaceTempView(\"cleantransactionsview\")"
   ]
  },
  {
   "cell_type": "code",
   "execution_count": 42,
   "id": "800102ca-a032-469f-8bd1-c3a00853ad1c",
   "metadata": {},
   "outputs": [
    {
     "name": "stdout",
     "output_type": "stream",
     "text": [
      "+--------------+-----------+-------------------+------+----------------+-------+-------+\n",
      "|transaction_id|customer_id|          timestamp|amount|transaction_type|channel| status|\n",
      "+--------------+-----------+-------------------+------+----------------+-------+-------+\n",
      "|             1|       1082|2025-05-30 22:50:12| 200.2|      withdrawal|    ATM|success|\n",
      "|             2|       1095|2025-05-26 18:15:58|192.25|         deposit| Branch|success|\n",
      "+--------------+-----------+-------------------+------+----------------+-------+-------+\n",
      "only showing top 2 rows\n",
      "\n"
     ]
    }
   ],
   "source": [
    "\n",
    "spark.sql(\"select * from rawtransactionsview\").show(2)"
   ]
  },
  {
   "cell_type": "code",
   "execution_count": 44,
   "id": "e7eb1e52-7d21-4433-ba85-2fb72df7d8c5",
   "metadata": {},
   "outputs": [
    {
     "name": "stdout",
     "output_type": "stream",
     "text": [
      "+--------------+-----------+-------------------+------+----------------+-------+-------+-------+--------+---------------+\n",
      "|transaction_id|customer_id|          timestamp|amount|transaction_type|channel| status|txn_day|txn_hour|high_value_flag|\n",
      "+--------------+-----------+-------------------+------+----------------+-------+-------+-------+--------+---------------+\n",
      "|             1|       1082|2025-05-30 22:50:12| 200.2|      withdrawal|    atm|success|     30|      22|              0|\n",
      "|             2|       1095|2025-05-26 18:15:58|192.25|         deposit| branch|success|     26|      18|              0|\n",
      "|             3|       1004|2025-06-07 21:33:32|184.33|         deposit| branch|success|      7|      21|              0|\n",
      "|             4|       1072|2025-06-06 10:26:46|278.95|      withdrawal|    atm|success|      6|      10|              0|\n",
      "|             5|       1036|2025-06-05 09:11:09|828.49|         deposit|    atm|success|      5|       9|              1|\n",
      "+--------------+-----------+-------------------+------+----------------+-------+-------+-------+--------+---------------+\n",
      "only showing top 5 rows\n",
      "\n"
     ]
    }
   ],
   "source": [
    "spark.sql(\"select * from cleantransactionsview\").show(5)"
   ]
  },
  {
   "cell_type": "markdown",
   "id": "dc90a5a0-f8eb-460b-8001-30e1fab7b86a",
   "metadata": {},
   "source": [
    "# Customer Behavior Insights"
   ]
  },
  {
   "cell_type": "code",
   "execution_count": 45,
   "id": "ef09f589-2ba7-41b5-8d5d-666e069cade2",
   "metadata": {},
   "outputs": [
    {
     "name": "stderr",
     "output_type": "stream",
     "text": [
      "[Stage 37:=====================================================>(199 + 1) / 200]\r"
     ]
    },
    {
     "name": "stdout",
     "output_type": "stream",
     "text": [
      "+-----------+---------+\n",
      "|customer_id|txn_count|\n",
      "+-----------+---------+\n",
      "|       1032|       42|\n",
      "|       1041|       38|\n",
      "|       1014|       38|\n",
      "|       1084|       37|\n",
      "|       1052|       37|\n",
      "+-----------+---------+\n",
      "\n"
     ]
    },
    {
     "name": "stderr",
     "output_type": "stream",
     "text": [
      "                                                                                \r"
     ]
    }
   ],
   "source": [
    "# 1. Top 5 customers by number of transactions\n",
    "\n",
    "spark.sql(\"SELECT customer_id, COUNT(*) as txn_count FROM cleantransactionsview GROUP BY customer_id  \\\n",
    "ORDER BY txn_count DESC LIMIT 5\").show()\n"
   ]
  },
  {
   "cell_type": "code",
   "execution_count": 51,
   "id": "e71734f7-32e7-43a5-8222-f667f94b08a8",
   "metadata": {},
   "outputs": [
    {
     "name": "stderr",
     "output_type": "stream",
     "text": [
      "[Stage 58:===============================================>      (176 + 1) / 200]\r"
     ]
    },
    {
     "name": "stdout",
     "output_type": "stream",
     "text": [
      "+-----------+-----------------------+\n",
      "|customer_id|total_withdrawal_amount|\n",
      "+-----------+-----------------------+\n",
      "|       1032|     13811.570000000002|\n",
      "|       1018|     13513.199999999997|\n",
      "+-----------+-----------------------+\n",
      "\n"
     ]
    },
    {
     "name": "stderr",
     "output_type": "stream",
     "text": [
      "                                                                                \r"
     ]
    }
   ],
   "source": [
    "# 2. Customer with the highest total withdrawal amount\n",
    "\n",
    "spark.sql(\"SELECT customer_id, SUM(amount) AS total_withdrawal_amount FROM cleantransactionsview WHERE transaction_type = 'withdrawal' \\\n",
    "GROUP BY customer_id ORDER BY total_withdrawal_amount DESC  LIMIT 2\").show()"
   ]
  },
  {
   "cell_type": "code",
   "execution_count": 52,
   "id": "6efbb62c-cf30-4864-96e1-7e1aefc3c959",
   "metadata": {},
   "outputs": [
    {
     "name": "stdout",
     "output_type": "stream",
     "text": [
      "+-----------+-----+---------+\n",
      "|customer_id|month|txn_count|\n",
      "+-----------+-----+---------+\n",
      "|       1001|    5|        4|\n",
      "|       1001|    6|       17|\n",
      "|       1002|    6|       18|\n",
      "|       1002|    5|        5|\n",
      "|       1003|    6|       20|\n",
      "|       1003|    5|        3|\n",
      "|       1004|    6|       29|\n",
      "|       1004|    5|        3|\n",
      "|       1005|    6|       18|\n",
      "|       1005|    5|        5|\n",
      "|       1006|    6|       21|\n",
      "|       1006|    5|       12|\n",
      "|       1007|    6|       14|\n",
      "|       1007|    5|        4|\n",
      "|       1008|    5|        6|\n",
      "|       1008|    6|       17|\n",
      "|       1009|    6|       17|\n",
      "|       1009|    5|        6|\n",
      "|       1010|    5|        7|\n",
      "|       1010|    6|       25|\n",
      "+-----------+-----+---------+\n",
      "only showing top 20 rows\n",
      "\n"
     ]
    },
    {
     "name": "stderr",
     "output_type": "stream",
     "text": [
      "                                                                                \r"
     ]
    }
   ],
   "source": [
    "#3. Monthly transaction volume per customer\n",
    "spark.sql(\"SELECT customer_id, month(timestamp) AS month, COUNT(*) AS txn_count FROM cleantransactionsview \\\n",
    "GROUP BY customer_id, month(timestamp) order by customer_id\").show()\n"
   ]
  },
  {
   "cell_type": "markdown",
   "id": "874986bb-2c73-4526-9316-eb07ce7a39fd",
   "metadata": {},
   "source": [
    "# Channel & Platform Analytics\n"
   ]
  },
  {
   "cell_type": "code",
   "execution_count": 53,
   "id": "cdb2c9c5-3626-4094-ba85-9a092140bd72",
   "metadata": {},
   "outputs": [
    {
     "name": "stdout",
     "output_type": "stream",
     "text": [
      "+-------+\n",
      "|channel|\n",
      "+-------+\n",
      "| online|\n",
      "|    atm|\n",
      "| branch|\n",
      "+-------+\n",
      "\n"
     ]
    }
   ],
   "source": [
    "spark.sql(\"select distinct channel from cleantransactionsview\").show()"
   ]
  },
  {
   "cell_type": "code",
   "execution_count": 54,
   "id": "ef90ec25-94a3-4dde-bb7b-60b0d04dd5c9",
   "metadata": {},
   "outputs": [
    {
     "name": "stdout",
     "output_type": "stream",
     "text": [
      "+-------+-----------------+\n",
      "|channel|       avg_amount|\n",
      "+-------+-----------------+\n",
      "| online|550.9932276995308|\n",
      "|    atm|543.2210638297872|\n",
      "| branch|563.8054493742886|\n",
      "+-------+-----------------+\n",
      "\n"
     ]
    }
   ],
   "source": [
    "# 1. Average transaction amount by channel\n",
    "\n",
    "spark.sql(\"SELECT channel, AVG(amount) AS avg_amount FROM cleantransactionsview \\\n",
    "GROUP BY channel\").show()\n"
   ]
  },
  {
   "cell_type": "code",
   "execution_count": 55,
   "id": "1496be47-477f-4051-b69a-49151046d792",
   "metadata": {},
   "outputs": [
    {
     "name": "stdout",
     "output_type": "stream",
     "text": [
      "+-------+-----+-----------------+\n",
      "|channel|total|     success_rate|\n",
      "+-------+-----+-----------------+\n",
      "|    ATM|  985|90.65989847715736|\n",
      "| Branch|  972| 90.4320987654321|\n",
      "| Online|  943|90.34994697773065|\n",
      "+-------+-----+-----------------+\n",
      "\n"
     ]
    }
   ],
   "source": [
    "# 2. Success rate of transactions by channel(raw transactions)\n",
    "\n",
    "spark.sql(\"select channel,COUNT(*) AS total, \\\n",
    "(SUM(CASE WHEN status = 'success' THEN 1 ELSE 0 END)*100)/count(*) AS success_rate \\\n",
    "from rawtransactionsview GROUP BY channel\").show()\n",
    "          \n",
    "         \n"
   ]
  },
  {
   "cell_type": "markdown",
   "id": "13c29824-2a3e-452e-a053-50ea68e5963f",
   "metadata": {},
   "source": [
    "# Time-Based Analytics"
   ]
  },
  {
   "cell_type": "code",
   "execution_count": 57,
   "id": "a6695b50-803d-4df6-99f9-cab9682dd112",
   "metadata": {},
   "outputs": [
    {
     "name": "stdout",
     "output_type": "stream",
     "text": [
      "+--------+---------+\n",
      "|txn_hour|txn_count|\n",
      "+--------+---------+\n",
      "|       0|      119|\n",
      "|       1|      118|\n",
      "|       2|      118|\n",
      "|       3|       95|\n",
      "|       4|       99|\n",
      "|       5|      108|\n",
      "|       6|      104|\n",
      "|       7|      123|\n",
      "|       8|      102|\n",
      "|       9|      108|\n",
      "|      10|      113|\n",
      "|      11|      121|\n",
      "|      12|      110|\n",
      "|      13|      115|\n",
      "|      14|      101|\n",
      "|      15|       98|\n",
      "|      16|       97|\n",
      "|      17|      109|\n",
      "|      18|      102|\n",
      "|      19|      123|\n",
      "+--------+---------+\n",
      "only showing top 20 rows\n",
      "\n"
     ]
    }
   ],
   "source": [
    "# 1. Hourly transaction trend (peak hours)\n",
    "\n",
    "spark.sql(\"SELECT txn_hour, COUNT(*) AS txn_count FROM cleantransactionsview \\\n",
    "GROUP BY txn_hour ORDER BY txn_hour\").show()\n"
   ]
  },
  {
   "cell_type": "code",
   "execution_count": 58,
   "id": "6d5975c1-16d2-4354-b65b-a6980f427a32",
   "metadata": {},
   "outputs": [
    {
     "name": "stderr",
     "output_type": "stream",
     "text": [
      "[Stage 97:===============================>                      (115 + 1) / 200]\r"
     ]
    },
    {
     "name": "stdout",
     "output_type": "stream",
     "text": [
      "+-------+----------+------------------+\n",
      "|txn_day|txn_volume|  total_txn_amount|\n",
      "+-------+----------+------------------+\n",
      "|      1|        88|48719.049999999996|\n",
      "|      2|        75|39444.049999999996|\n",
      "|      3|        78|43144.490000000005|\n",
      "|      4|        69|35842.829999999994|\n",
      "|      5|        87| 47592.81000000001|\n",
      "|      6|       102|59603.519999999975|\n",
      "|      7|        87| 45472.08000000001|\n",
      "|      8|        94|53767.769999999975|\n",
      "|      9|        97| 49049.62999999999|\n",
      "|     10|        92|47463.419999999984|\n",
      "|     11|        78| 44055.86000000001|\n",
      "|     12|        99|          56518.86|\n",
      "|     13|        83| 50373.60999999998|\n",
      "|     14|        94|          54303.43|\n",
      "|     15|        88|          51513.83|\n",
      "|     16|       101|55754.419999999984|\n",
      "|     17|        90| 47554.04000000001|\n",
      "|     18|        78| 44862.31000000001|\n",
      "|     19|        75| 42361.97000000001|\n",
      "|     20|        91|45290.139999999985|\n",
      "+-------+----------+------------------+\n",
      "only showing top 20 rows\n",
      "\n"
     ]
    },
    {
     "name": "stderr",
     "output_type": "stream",
     "text": [
      "                                                                                \r"
     ]
    }
   ],
   "source": [
    "# 2. Day-wise total transaction volume and amount\n",
    "\n",
    "spark.sql(\"SELECT txn_day, COUNT(*) AS txn_volume, SUM(amount) AS total_txn_amount \\\n",
    "FROM cleantransactionsview GROUP BY txn_day ORDER BY txn_day\").show()"
   ]
  },
  {
   "cell_type": "markdown",
   "id": "f941dddd-3b7e-4ca1-bb69-498d77715bbd",
   "metadata": {},
   "source": [
    "# Fraud Pattern Indicators\n"
   ]
  },
  {
   "cell_type": "code",
   "execution_count": 59,
   "id": "9b0672bd-f89a-47da-97c7-d609d090c960",
   "metadata": {},
   "outputs": [
    {
     "name": "stdout",
     "output_type": "stream",
     "text": [
      "+-----------+-------+----------------------------+\n",
      "|customer_id|txn_day|high_value_txns_per_customer|\n",
      "+-----------+-------+----------------------------+\n",
      "|       1037|     22|                           1|\n",
      "|       1063|      2|                           1|\n",
      "|       1088|     31|                           1|\n",
      "|       1062|     27|                           2|\n",
      "|       1048|     12|                           1|\n",
      "|       1070|      5|                           1|\n",
      "|       1065|      2|                           1|\n",
      "|       1027|      8|                           1|\n",
      "|       1049|     18|                           1|\n",
      "|       1064|      2|                           1|\n",
      "|       1033|      1|                           1|\n",
      "|       1019|     27|                           1|\n",
      "|       1038|      3|                           1|\n",
      "|       1039|      4|                           1|\n",
      "|       1060|     27|                           1|\n",
      "|       1072|     14|                           1|\n",
      "|       1099|      3|                           1|\n",
      "|       1085|     25|                           1|\n",
      "|       1090|     19|                           2|\n",
      "|       1079|     31|                           1|\n",
      "+-----------+-------+----------------------------+\n",
      "only showing top 20 rows\n",
      "\n"
     ]
    }
   ],
   "source": [
    "# 1. Number of high-value transactions (> ₹500) per customer per day\n",
    "\n",
    "spark.sql(\"SELECT customer_id, txn_day, COUNT(*) AS high_value_txns_per_customer FROM cleantransactionsview \\\n",
    "WHERE high_value_flag = 1 GROUP BY customer_id, txn_day \").show()\n"
   ]
  },
  {
   "cell_type": "code",
   "execution_count": null,
   "id": "4fb500c0-ff87-493a-950a-7b01908f9959",
   "metadata": {},
   "outputs": [],
   "source": [
    "#2. Customers with more than 3 failed transactions in a day\n",
    "\n",
    "spark.sql(\"select customer_id,day(timestamp) as txn_day,count(*) as failed_count from rawtransactionsview \\\n",
    "where status = 'failed' group by customer_id,day(timestamp) having count(*) > 3 \").show()\n",
    "\n",
    "\n"
   ]
  },
  {
   "cell_type": "code",
   "execution_count": 61,
   "id": "f91e0064-456c-4c95-8890-49ef52f04f8b",
   "metadata": {},
   "outputs": [],
   "source": [
    "#spark.sql(\"select * from cleantransactionsview\").show()"
   ]
  },
  {
   "cell_type": "code",
   "execution_count": 108,
   "id": "75d6af58-a8e2-495e-8eeb-208390ecc2f8",
   "metadata": {},
   "outputs": [
    {
     "name": "stdout",
     "output_type": "stream",
     "text": [
      "+-----------+-------+\n",
      "|customer_id|channel|\n",
      "+-----------+-------+\n",
      "|       1001|    atm|\n",
      "|       1001| online|\n",
      "|       1001| branch|\n",
      "|       1002| online|\n",
      "|       1002|    atm|\n",
      "|       1002| branch|\n",
      "|       1003| branch|\n",
      "|       1003| online|\n",
      "|       1004| online|\n",
      "|       1004| branch|\n",
      "|       1005|    atm|\n",
      "|       1006| online|\n",
      "|       1006| branch|\n",
      "|       1007| online|\n",
      "|       1007| branch|\n",
      "|       1008|    atm|\n",
      "|       1008| online|\n",
      "|       1008| branch|\n",
      "|       1009| branch|\n",
      "|       1009| online|\n",
      "+-----------+-------+\n",
      "only showing top 20 rows\n",
      "\n"
     ]
    }
   ],
   "source": [
    "spark.sql(\"SELECT customer_id,channel FROM cleantransactionsview \\\n",
    "WHERE (timestamp >= current_timestamp() - interval 7 days) group by customer_id,channel order by customer_id\").show()"
   ]
  },
  {
   "cell_type": "code",
   "execution_count": 62,
   "id": "367179cf-db7d-4d68-98ac-e5120fa9a9a8",
   "metadata": {},
   "outputs": [
    {
     "name": "stderr",
     "output_type": "stream",
     "text": [
      "                                                                                \r"
     ]
    },
    {
     "name": "stdout",
     "output_type": "stream",
     "text": [
      "+-----------+\n",
      "|customer_id|\n",
      "+-----------+\n",
      "|       1088|\n",
      "|       1025|\n",
      "|       1016|\n",
      "|       1064|\n",
      "|       1034|\n",
      "|       1056|\n",
      "|       1093|\n",
      "|       1046|\n",
      "|       1077|\n",
      "|       1065|\n",
      "|       1061|\n",
      "|       1055|\n",
      "|       1008|\n",
      "|       1047|\n",
      "|       1100|\n",
      "|       1062|\n",
      "|       1021|\n",
      "|       1026|\n",
      "|       1074|\n",
      "|       1029|\n",
      "+-----------+\n",
      "only showing top 20 rows\n",
      "\n"
     ]
    }
   ],
   "source": [
    "# 3. Customers who used all three channels (ATM, Online, Branch) in the last 7 days\n",
    "\n",
    "spark.sql(\" SELECT customer_id FROM (SELECT customer_id, channel FROM cleantransactionsview \\\n",
    "WHERE timestamp >= current_timestamp() - interval 7 days) GROUP BY customer_id HAVING COUNT(DISTINCT channel) = 3 \").show()          \n"
   ]
  },
  {
   "cell_type": "code",
   "execution_count": null,
   "id": "619149f7-ad99-4ecc-be4c-664c63c4f605",
   "metadata": {},
   "outputs": [],
   "source": []
  }
 ],
 "metadata": {
  "kernelspec": {
   "display_name": "Python 3 (ipykernel)",
   "language": "python",
   "name": "python3"
  },
  "language_info": {
   "codemirror_mode": {
    "name": "ipython",
    "version": 3
   },
   "file_extension": ".py",
   "mimetype": "text/x-python",
   "name": "python",
   "nbconvert_exporter": "python",
   "pygments_lexer": "ipython3",
   "version": "3.9.13"
  }
 },
 "nbformat": 4,
 "nbformat_minor": 5
}
