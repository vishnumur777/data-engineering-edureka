{
 "cells": [
  {
   "cell_type": "code",
   "execution_count": 1,
   "id": "566285e8-65bb-4a8f-9c6e-137f1b324f6d",
   "metadata": {},
   "outputs": [],
   "source": [
    "from pyspark.sql import SparkSession\n",
    "from pyspark.sql.functions import *"
   ]
  },
  {
   "cell_type": "code",
   "execution_count": 2,
   "id": "8c427551-ff64-451e-8b20-8d3408b22f4d",
   "metadata": {},
   "outputs": [
    {
     "name": "stderr",
     "output_type": "stream",
     "text": [
      "25/06/25 06:56:28 WARN NativeCodeLoader: Unable to load native-hadoop library for your platform... using builtin-java classes where applicable\n",
      "Setting default log level to \"WARN\".\n",
      "To adjust logging level use sc.setLogLevel(newLevel). For SparkR, use setLogLevel(newLevel).\n",
      "25/06/25 06:56:29 WARN Utils: Service 'SparkUI' could not bind on port 4040. Attempting port 4041.\n",
      "25/06/25 06:56:29 WARN Utils: Service 'SparkUI' could not bind on port 4041. Attempting port 4042.\n",
      "25/06/25 06:56:29 WARN Utils: Service 'SparkUI' could not bind on port 4042. Attempting port 4043.\n",
      "25/06/25 06:56:29 WARN Utils: Service 'SparkUI' could not bind on port 4043. Attempting port 4044.\n",
      "25/06/25 06:56:29 WARN Utils: Service 'SparkUI' could not bind on port 4044. Attempting port 4045.\n",
      "25/06/25 06:56:29 WARN Utils: Service 'SparkUI' could not bind on port 4045. Attempting port 4046.\n",
      "25/06/25 06:56:29 WARN Utils: Service 'SparkUI' could not bind on port 4046. Attempting port 4047.\n",
      "25/06/25 06:56:29 WARN Utils: Service 'SparkUI' could not bind on port 4047. Attempting port 4048.\n",
      "25/06/25 06:56:29 WARN Utils: Service 'SparkUI' could not bind on port 4048. Attempting port 4049.\n",
      "25/06/25 06:56:29 WARN Utils: Service 'SparkUI' could not bind on port 4049. Attempting port 4050.\n",
      "25/06/25 06:56:29 WARN Utils: Service 'SparkUI' could not bind on port 4050. Attempting port 4051.\n",
      "25/06/25 06:56:29 WARN Utils: Service 'SparkUI' could not bind on port 4051. Attempting port 4052.\n",
      "25/06/25 06:56:29 WARN Utils: Service 'SparkUI' could not bind on port 4052. Attempting port 4053.\n",
      "25/06/25 06:56:29 WARN Utils: Service 'SparkUI' could not bind on port 4053. Attempting port 4054.\n",
      "25/06/25 06:56:29 WARN Utils: Service 'SparkUI' could not bind on port 4054. Attempting port 4055.\n",
      "25/06/25 06:56:29 WARN Utils: Service 'SparkUI' could not bind on port 4055. Attempting port 4056.\n",
      "25/06/25 06:56:29 WARN Utils: Service 'SparkUI' could not bind on port 4056. Attempting port 4057.\n",
      "25/06/25 06:56:29 WARN Utils: Service 'SparkUI' could not bind on port 4057. Attempting port 4058.\n",
      "25/06/25 06:56:29 WARN Utils: Service 'SparkUI' could not bind on port 4058. Attempting port 4059.\n",
      "25/06/25 06:56:29 WARN Utils: Service 'SparkUI' could not bind on port 4059. Attempting port 4060.\n",
      "25/06/25 06:56:29 WARN Utils: Service 'SparkUI' could not bind on port 4060. Attempting port 4061.\n",
      "25/06/25 06:56:29 WARN Utils: Service 'SparkUI' could not bind on port 4061. Attempting port 4062.\n",
      "25/06/25 06:56:29 WARN Utils: Service 'SparkUI' could not bind on port 4062. Attempting port 4063.\n",
      "25/06/25 06:56:29 WARN Utils: Service 'SparkUI' could not bind on port 4063. Attempting port 4064.\n",
      "25/06/25 06:56:29 WARN Utils: Service 'SparkUI' could not bind on port 4064. Attempting port 4065.\n",
      "25/06/25 06:56:29 WARN Utils: Service 'SparkUI' could not bind on port 4065. Attempting port 4066.\n",
      "25/06/25 06:56:29 WARN Utils: Service 'SparkUI' could not bind on port 4066. Attempting port 4067.\n",
      "25/06/25 06:56:29 WARN Utils: Service 'SparkUI' could not bind on port 4067. Attempting port 4068.\n",
      "25/06/25 06:56:29 WARN Utils: Service 'SparkUI' could not bind on port 4068. Attempting port 4069.\n"
     ]
    }
   ],
   "source": [
    "spark = SparkSession.builder.master(\"local[2]\").appName(\"spark_app\").enableHiveSupport().getOrCreate()"
   ]
  },
  {
   "cell_type": "code",
   "execution_count": 4,
   "id": "f52dc521-464e-4b65-b4d4-55a8e372463e",
   "metadata": {},
   "outputs": [
    {
     "name": "stderr",
     "output_type": "stream",
     "text": [
      "                                                                                \r"
     ]
    }
   ],
   "source": [
    "df = spark.read.csv(\"bankingdata/banking_transaction.csv\",inferSchema = True,header = True)"
   ]
  },
  {
   "cell_type": "code",
   "execution_count": 27,
   "id": "4a0e2125-2092-495c-91b0-8120464b1a34",
   "metadata": {},
   "outputs": [
    {
     "name": "stdout",
     "output_type": "stream",
     "text": [
      "root\n",
      " |-- transaction_id: integer (nullable = true)\n",
      " |-- customer_id: integer (nullable = true)\n",
      " |-- timestamp: timestamp (nullable = true)\n",
      " |-- amount: double (nullable = true)\n",
      " |-- transaction_type: string (nullable = true)\n",
      " |-- channel: string (nullable = true)\n",
      " |-- status: string (nullable = true)\n",
      "\n",
      "+--------------+-----------+-------------------+------+----------------+-------+-------+\n",
      "|transaction_id|customer_id|          timestamp|amount|transaction_type|channel| status|\n",
      "+--------------+-----------+-------------------+------+----------------+-------+-------+\n",
      "|             1|       1082|2025-05-30 22:50:12| 200.2|      withdrawal|    ATM|success|\n",
      "|             2|       1095|2025-05-26 18:15:58|192.25|         deposit| Branch|success|\n",
      "|             3|       1004|2025-06-07 21:33:32|184.33|         deposit| Branch|success|\n",
      "|             4|       1072|2025-06-06 10:26:46|278.95|      withdrawal|    ATM|success|\n",
      "|             5|       1036|2025-06-05 09:11:09|828.49|         deposit|    ATM|success|\n",
      "|             6|       1044|2025-06-01 07:42:00|350.08|         deposit| Online|success|\n",
      "|             7|       1049|2025-05-30 12:32:31|187.04|      withdrawal| Branch|success|\n",
      "|             8|       1006|2025-06-21 00:31:29|756.76|         deposit| Online|success|\n",
      "|             9|       1038|2025-05-29 18:25:03|846.46|      withdrawal| Branch|success|\n",
      "|            10|       1009|2025-06-23 05:06:01|141.24|         deposit| Online| failed|\n",
      "|            11|       1030|2025-06-15 00:42:04|879.84|      withdrawal| Online|success|\n",
      "|            12|       1047|2025-05-27 02:09:22|246.39|      withdrawal|    ATM|success|\n",
      "|            13|       1090|2025-05-26 23:50:34|942.99|         deposit| Branch|success|\n",
      "|            14|       1069|2025-05-30 02:17:22|756.21|         deposit| Online|success|\n",
      "|            15|       1082|2025-06-05 03:51:30|719.35|         deposit| Branch|success|\n",
      "|            16|       1099|2025-06-05 20:11:46| 798.4|         deposit|    ATM|success|\n",
      "|            17|       1052|2025-06-19 01:54:29|340.97|         deposit| Branch|success|\n",
      "|            18|       1041|2025-06-23 18:31:45|291.36|      withdrawal| Online|success|\n",
      "|            19|       1083|2025-05-26 20:02:35|512.97|      withdrawal|    ATM|success|\n",
      "|            20|       1072|2025-06-21 19:01:28|585.08|      withdrawal| Branch|success|\n",
      "+--------------+-----------+-------------------+------+----------------+-------+-------+\n",
      "only showing top 20 rows\n",
      "\n",
      "+--------------+-----------+-------------------+------+----------------+-------+-------+-------+--------+---------------+\n",
      "|transaction_id|customer_id|          timestamp|amount|transaction_type|channel| status|txn_day|txn_hour|high_value_flag|\n",
      "+--------------+-----------+-------------------+------+----------------+-------+-------+-------+--------+---------------+\n",
      "|             1|       1082|2025-05-30 22:50:12| 200.2|      withdrawal|    atm|success|     30|      22|              0|\n",
      "|             2|       1095|2025-05-26 18:15:58|192.25|         deposit| branch|success|     26|      18|              0|\n",
      "|             3|       1004|2025-06-07 21:33:32|184.33|         deposit| branch|success|      7|      21|              0|\n",
      "|             4|       1072|2025-06-06 10:26:46|278.95|      withdrawal|    atm|success|      6|      10|              0|\n",
      "|             5|       1036|2025-06-05 09:11:09|828.49|         deposit|    atm|success|      5|       9|              1|\n",
      "|             6|       1044|2025-06-01 07:42:00|350.08|         deposit| online|success|      1|       7|              0|\n",
      "|             7|       1049|2025-05-30 12:32:31|187.04|      withdrawal| branch|success|     30|      12|              0|\n",
      "|             8|       1006|2025-06-21 00:31:29|756.76|         deposit| online|success|     21|       0|              1|\n",
      "|             9|       1038|2025-05-29 18:25:03|846.46|      withdrawal| branch|success|     29|      18|              1|\n",
      "|            11|       1030|2025-06-15 00:42:04|879.84|      withdrawal| online|success|     15|       0|              1|\n",
      "|            12|       1047|2025-05-27 02:09:22|246.39|      withdrawal|    atm|success|     27|       2|              0|\n",
      "|            13|       1090|2025-05-26 23:50:34|942.99|         deposit| branch|success|     26|      23|              1|\n",
      "|            14|       1069|2025-05-30 02:17:22|756.21|         deposit| online|success|     30|       2|              1|\n",
      "|            15|       1082|2025-06-05 03:51:30|719.35|         deposit| branch|success|      5|       3|              1|\n",
      "|            16|       1099|2025-06-05 20:11:46| 798.4|         deposit|    atm|success|      5|      20|              1|\n",
      "|            17|       1052|2025-06-19 01:54:29|340.97|         deposit| branch|success|     19|       1|              0|\n",
      "|            18|       1041|2025-06-23 18:31:45|291.36|      withdrawal| online|success|     23|      18|              0|\n",
      "|            19|       1083|2025-05-26 20:02:35|512.97|      withdrawal|    atm|success|     26|      20|              1|\n",
      "|            20|       1072|2025-06-21 19:01:28|585.08|      withdrawal| branch|success|     21|      19|              1|\n",
      "|            21|       1029|2025-06-04 04:47:21|997.59|         deposit| branch|success|      4|       4|              1|\n",
      "+--------------+-----------+-------------------+------+----------------+-------+-------+-------+--------+---------------+\n",
      "only showing top 20 rows\n",
      "\n"
     ]
    }
   ],
   "source": [
    "spark.catalog.setCurrentDatabase(\"varunmdb\")\n",
    "\n",
    "df.printSchema()\n",
    "df.show()\n",
    "\n",
    "# Normalize text fields (transaction_type, channel) to lowercase\n",
    "df_clean = df.withColumn(\"transaction_type\",lower(df[\"transaction_type\"]) ).withColumn(\"channel\",lower(df[\"channel\"]))\n",
    "\n",
    "# Filter Out Failed Transactions\n",
    "df_clean = df_clean.filter(df_clean[\"status\"] != \"failed\")\n",
    "#df_clean = df_clean.withColumn(\"txn_day\",to_date(df_clean.timestamp) ).withColumn(\"txn_hour\",hour(df_clean.timestamp) )\n",
    "\n",
    "    \n",
    "df_clean = df_clean.withColumn(\"txn_day\", dayofmonth(to_date(\"timestamp\"))).withColumn(\"txn_hour\", hour(\"timestamp\")).withColumn(\"high_value_flag\", when(col(\"amount\") > 500, 1).otherwise(0))\n",
    "\n",
    "\n",
    "df_clean.show()\n",
    "\n",
    "df.write.mode(\"append\").insertInto('raw_transactions')\n"
   ]
  },
  {
   "cell_type": "code",
   "execution_count": 28,
   "id": "869ca1bf-6e61-4eb7-80c7-3ebf18cd5bd4",
   "metadata": {},
   "outputs": [
    {
     "name": "stdout",
     "output_type": "stream",
     "text": [
      "+--------------+-----------+-------------------+------+----------------+-------+-------+\n",
      "|transaction_id|customer_id|         timestamps|amount|transaction_type|channel| status|\n",
      "+--------------+-----------+-------------------+------+----------------+-------+-------+\n",
      "|             1|       1082|2025-05-30 22:50:12| 200.2|      withdrawal|    ATM|success|\n",
      "|             2|       1095|2025-05-26 18:15:58|192.25|         deposit| Branch|success|\n",
      "+--------------+-----------+-------------------+------+----------------+-------+-------+\n",
      "\n"
     ]
    }
   ],
   "source": [
    "spark.sql(\"select * from raw_transactions limit 2\").show()"
   ]
  },
  {
   "cell_type": "code",
   "execution_count": 29,
   "id": "faff8dda-1cdf-4740-b046-b0cee22f2d36",
   "metadata": {
    "tags": []
   },
   "outputs": [],
   "source": [
    "df_clean.write.mode(\"append\").insertInto(\"clean_transactions\")"
   ]
  },
  {
   "cell_type": "code",
   "execution_count": 31,
   "id": "bb8e8a03-c7da-4724-8cb1-97a53e50d33e",
   "metadata": {},
   "outputs": [
    {
     "name": "stderr",
     "output_type": "stream",
     "text": [
      "                                                                                \r"
     ]
    },
    {
     "name": "stdout",
     "output_type": "stream",
     "text": [
      "+-----------+----------------+\n",
      "|customer_id|num_transactions|\n",
      "+-----------+----------------+\n",
      "|       1032|              42|\n",
      "|       1014|              38|\n",
      "|       1041|              38|\n",
      "|       1084|              37|\n",
      "|       1018|              37|\n",
      "+-----------+----------------+\n",
      "\n"
     ]
    },
    {
     "name": "stderr",
     "output_type": "stream",
     "text": [
      "                                                                                \r"
     ]
    },
    {
     "name": "stdout",
     "output_type": "stream",
     "text": [
      "+-----------+------------------+\n",
      "|customer_id|  total_withdrawal|\n",
      "+-----------+------------------+\n",
      "|       1032|13811.570000000002|\n",
      "+-----------+------------------+\n",
      "\n"
     ]
    },
    {
     "name": "stderr",
     "output_type": "stream",
     "text": [
      "                                                                                \r"
     ]
    },
    {
     "name": "stdout",
     "output_type": "stream",
     "text": [
      "+-----------+-------+---------+\n",
      "|customer_id|  month|txn_count|\n",
      "+-----------+-------+---------+\n",
      "|       1001|2025-05|        4|\n",
      "|       1001|2025-06|       17|\n",
      "|       1002|2025-05|        5|\n",
      "|       1002|2025-06|       18|\n",
      "|       1003|2025-05|        3|\n",
      "|       1003|2025-06|       20|\n",
      "|       1004|2025-05|        3|\n",
      "|       1004|2025-06|       29|\n",
      "|       1005|2025-05|        5|\n",
      "|       1005|2025-06|       18|\n",
      "|       1006|2025-05|       12|\n",
      "|       1006|2025-06|       21|\n",
      "|       1007|2025-05|        4|\n",
      "|       1007|2025-06|       14|\n",
      "|       1008|2025-05|        6|\n",
      "|       1008|2025-06|       17|\n",
      "|       1009|2025-05|        6|\n",
      "|       1009|2025-06|       17|\n",
      "|       1010|2025-05|        7|\n",
      "|       1010|2025-06|       25|\n",
      "+-----------+-------+---------+\n",
      "only showing top 20 rows\n",
      "\n",
      "+-------+-----------------+\n",
      "|channel|       avg_amount|\n",
      "+-------+-----------------+\n",
      "| online|550.9932276995308|\n",
      "|    atm|543.2210638297872|\n",
      "| branch|563.8054493742886|\n",
      "+-------+-----------------+\n",
      "\n",
      "+-------+------------+\n",
      "|channel|success_rate|\n",
      "+-------+------------+\n",
      "| online|         1.0|\n",
      "|    atm|         1.0|\n",
      "| branch|         1.0|\n",
      "+-------+------------+\n",
      "\n"
     ]
    },
    {
     "name": "stderr",
     "output_type": "stream",
     "text": [
      "                                                                                \r"
     ]
    },
    {
     "name": "stdout",
     "output_type": "stream",
     "text": [
      "+--------+---------+\n",
      "|txn_hour|txn_count|\n",
      "+--------+---------+\n",
      "|       7|      123|\n",
      "|      19|      123|\n",
      "|      11|      121|\n",
      "|       0|      119|\n",
      "|      22|      119|\n",
      "|       1|      118|\n",
      "|       2|      118|\n",
      "|      23|      116|\n",
      "|      13|      115|\n",
      "|      10|      113|\n",
      "|      12|      110|\n",
      "|      17|      109|\n",
      "|       9|      108|\n",
      "|       5|      108|\n",
      "|      21|      105|\n",
      "|       6|      104|\n",
      "|       8|      102|\n",
      "|      18|      102|\n",
      "|      20|      101|\n",
      "|      14|      101|\n",
      "+--------+---------+\n",
      "only showing top 20 rows\n",
      "\n"
     ]
    },
    {
     "name": "stderr",
     "output_type": "stream",
     "text": [
      "                                                                                \r"
     ]
    },
    {
     "name": "stdout",
     "output_type": "stream",
     "text": [
      "+-------+---------+------------------+\n",
      "|txn_day|txn_count|      total_amount|\n",
      "+-------+---------+------------------+\n",
      "|      1|       88|48719.049999999996|\n",
      "|      2|       75|39444.049999999996|\n",
      "|      3|       78|43144.490000000005|\n",
      "|      4|       69|35842.829999999994|\n",
      "|      5|       87| 47592.81000000001|\n",
      "|      6|      102|59603.519999999975|\n",
      "|      7|       87| 45472.08000000001|\n",
      "|      8|       94|53767.769999999975|\n",
      "|      9|       97| 49049.62999999999|\n",
      "|     10|       92|47463.419999999984|\n",
      "|     11|       78| 44055.86000000001|\n",
      "|     12|       99|          56518.86|\n",
      "|     13|       83| 50373.60999999998|\n",
      "|     14|       94|          54303.43|\n",
      "|     15|       88|          51513.83|\n",
      "|     16|      101|55754.419999999984|\n",
      "|     17|       90| 47554.04000000001|\n",
      "|     18|       78| 44862.31000000001|\n",
      "|     19|       75| 42361.97000000001|\n",
      "|     20|       91|45290.139999999985|\n",
      "+-------+---------+------------------+\n",
      "only showing top 20 rows\n",
      "\n"
     ]
    },
    {
     "name": "stderr",
     "output_type": "stream",
     "text": [
      "[Stage 66:===============================================>      (177 + 3) / 200]\r"
     ]
    },
    {
     "name": "stdout",
     "output_type": "stream",
     "text": [
      "+-----------+-------+--------------------+\n",
      "|customer_id|txn_day|high_value_txn_count|\n",
      "+-----------+-------+--------------------+\n",
      "|       1001|      3|                   1|\n",
      "|       1001|      6|                   1|\n",
      "|       1001|     10|                   1|\n",
      "|       1001|     11|                   1|\n",
      "|       1001|     12|                   1|\n",
      "|       1001|     15|                   2|\n",
      "|       1001|     16|                   2|\n",
      "|       1001|     19|                   1|\n",
      "|       1001|     21|                   1|\n",
      "|       1001|     22|                   1|\n",
      "|       1001|     29|                   2|\n",
      "|       1001|     30|                   1|\n",
      "|       1002|      1|                   2|\n",
      "|       1002|      3|                   1|\n",
      "|       1002|      5|                   1|\n",
      "|       1002|      6|                   1|\n",
      "|       1002|      7|                   1|\n",
      "|       1002|      8|                   1|\n",
      "|       1002|      9|                   1|\n",
      "|       1002|     13|                   1|\n",
      "+-----------+-------+--------------------+\n",
      "only showing top 20 rows\n",
      "\n"
     ]
    },
    {
     "name": "stderr",
     "output_type": "stream",
     "text": [
      "                                                                                \r"
     ]
    }
   ],
   "source": [
    "# Register the DataFrame as a temporary view\n",
    "# df_clean.createOrReplaceTempView(\"transactions\")\n",
    "# df.createOrReplaceTempView(\"raw_transactions\")\n",
    "\n",
    "# 1. Top 5 customers by number of transactions\n",
    "spark.sql(\"\"\"\n",
    "SELECT customer_id, COUNT(*) AS num_transactions\n",
    "FROM clean_transactions\n",
    "GROUP BY customer_id\n",
    "ORDER BY num_transactions DESC\n",
    "LIMIT 5\n",
    "\"\"\").show()\n",
    "\n",
    "# 2. Customer with the highest total withdrawal amount\n",
    "spark.sql(\"\"\"\n",
    "SELECT customer_id, SUM(amount) AS total_withdrawal\n",
    "FROM clean_transactions\n",
    "WHERE transaction_type = 'withdrawal'\n",
    "GROUP BY customer_id\n",
    "ORDER BY total_withdrawal DESC\n",
    "LIMIT 1\n",
    "\"\"\").show()\n",
    "\n",
    "# 3. Monthly transaction volume per customer\n",
    "spark.sql(\"\"\"\n",
    "SELECT customer_id, DATE_FORMAT(timestamps, 'yyyy-MM') AS month, COUNT(*) AS txn_count\n",
    "FROM clean_transactions\n",
    "GROUP BY customer_id, month\n",
    "ORDER BY customer_id, month\n",
    "\"\"\").show()\n",
    "\n",
    "# 4. Average transaction amount by channel\n",
    "spark.sql(\"\"\"\n",
    "SELECT channel, AVG(amount) AS avg_amount\n",
    "FROM clean_transactions\n",
    "GROUP BY channel\n",
    "\"\"\").show()\n",
    "\n",
    "# 5. Success rate of transactions by channel\n",
    "spark.sql(\"\"\"\n",
    "SELECT\n",
    "  channel,\n",
    "  ROUND(SUM(CASE WHEN status = 'success' THEN 1 ELSE 0 END) / COUNT(*), 2) AS success_rate\n",
    "FROM clean_transactions\n",
    "GROUP BY channel\n",
    "\"\"\").show()\n",
    "\n",
    "# 6. Hourly transaction trend (peak hours)\n",
    "spark.sql(\"\"\"\n",
    "SELECT txn_hour, COUNT(*) AS txn_count\n",
    "FROM clean_transactions\n",
    "GROUP BY txn_hour\n",
    "ORDER BY txn_count DESC\n",
    "\"\"\").show()\n",
    "\n",
    "# 7. Day-wise total transaction volume and amount\n",
    "spark.sql(\"\"\"\n",
    "SELECT txn_day, COUNT(*) AS txn_count, SUM(amount) AS total_amount\n",
    "FROM clean_transactions\n",
    "GROUP BY txn_day\n",
    "ORDER BY txn_day\n",
    "\"\"\").show()\n",
    "\n",
    "# 8. Number of high-value transactions (> ₹500) per customer per day\n",
    "spark.sql(\"\"\"\n",
    "SELECT customer_id, txn_day, COUNT(*) AS high_value_txn_count\n",
    "FROM clean_transactions\n",
    "WHERE high_value_flag = 1\n",
    "GROUP BY customer_id, txn_day\n",
    "ORDER BY customer_id, txn_day\n",
    "\"\"\").show()\n",
    "\n",
    "# 9. Customers with more than 3 failed transactions in a day\n"
   ]
  },
  {
   "cell_type": "code",
   "execution_count": 32,
   "id": "57ea8b9e-1a9e-4063-923a-8d87b405c480",
   "metadata": {},
   "outputs": [
    {
     "name": "stderr",
     "output_type": "stream",
     "text": [
      "                                                                                \r"
     ]
    }
   ],
   "source": [
    "channel_trans = spark.sql(\"\"\"\n",
    "SELECT channel, AVG(amount) AS avg_amount\n",
    "FROM clean_transactions\n",
    "GROUP BY channel\n",
    "\"\"\").toPandas()"
   ]
  },
  {
   "cell_type": "code",
   "execution_count": 34,
   "id": "5060b6e6-947e-4f92-b30f-1053e15543b0",
   "metadata": {},
   "outputs": [],
   "source": [
    "import matplotlib.pyplot as plt"
   ]
  },
  {
   "cell_type": "code",
   "execution_count": 37,
   "id": "f1f4e016-3346-497d-8891-f1278201a7da",
   "metadata": {},
   "outputs": [
    {
     "data": {
      "text/plain": [
       "<BarContainer object of 3 artists>"
      ]
     },
     "execution_count": 37,
     "metadata": {},
     "output_type": "execute_result"
    },
    {
     "data": {
      "image/png": "[encoded data removed]",
      "text/plain": [
       "<Figure size 640x480 with 1 Axes>"
      ]
     },
     "metadata": {},
     "output_type": "display_data"
    }
   ],
   "source": [
    "plt.barh(channel_trans.channel, channel_trans.avg_amount)"
   ]
  },
  {
   "cell_type": "code",
   "execution_count": 38,
   "id": "8b290f32-f06b-41a6-8298-0feadce92ca1",
   "metadata": {},
   "outputs": [
    {
     "name": "stderr",
     "output_type": "stream",
     "text": [
      "                                                                                \r"
     ]
    }
   ],
   "source": [
    "time_id_mon = spark.sql(\"\"\"\n",
    "SELECT customer_id, DATE_FORMAT(timestamps, 'yyyy-MM') AS month, COUNT(*) AS txn_count\n",
    "FROM clean_transactions\n",
    "GROUP BY customer_id, month\n",
    "ORDER BY customer_id, month\n",
    "\"\"\").toPandas()"
   ]
  },
  {
   "cell_type": "code",
   "execution_count": 40,
   "id": "c67d5fe0-15b5-4d62-92c5-45acf4f997d0",
   "metadata": {},
   "outputs": [
    {
     "data": {
      "text/html": [
       "<div>\n",
       "<style scoped>\n",
       "    .dataframe tbody tr th:only-of-type {\n",
       "        vertical-align: middle;\n",
       "    }\n",
       "\n",
       "    .dataframe tbody tr th {\n",
       "        vertical-align: top;\n",
       "    }\n",
       "\n",
       "    .dataframe thead th {\n",
       "        text-align: right;\n",
       "    }\n",
       "</style>\n",
       "<table border=\"1\" class=\"dataframe\">\n",
       "  <thead>\n",
       "    <tr style=\"text-align: right;\">\n",
       "      <th></th>\n",
       "      <th>customer_id</th>\n",
       "      <th>month</th>\n",
       "      <th>txn_count</th>\n",
       "    </tr>\n",
       "  </thead>\n",
       "  <tbody>\n",
       "    <tr>\n",
       "      <th>0</th>\n",
       "      <td>1001</td>\n",
       "      <td>2025-05</td>\n",
       "      <td>4</td>\n",
       "    </tr>\n",
       "    <tr>\n",
       "      <th>1</th>\n",
       "      <td>1001</td>\n",
       "      <td>2025-06</td>\n",
       "      <td>17</td>\n",
       "    </tr>\n",
       "    <tr>\n",
       "      <th>2</th>\n",
       "      <td>1002</td>\n",
       "      <td>2025-05</td>\n",
       "      <td>5</td>\n",
       "    </tr>\n",
       "    <tr>\n",
       "      <th>3</th>\n",
       "      <td>1002</td>\n",
       "      <td>2025-06</td>\n",
       "      <td>18</td>\n",
       "    </tr>\n",
       "    <tr>\n",
       "      <th>4</th>\n",
       "      <td>1003</td>\n",
       "      <td>2025-05</td>\n",
       "      <td>3</td>\n",
       "    </tr>\n",
       "    <tr>\n",
       "      <th>...</th>\n",
       "      <td>...</td>\n",
       "      <td>...</td>\n",
       "      <td>...</td>\n",
       "    </tr>\n",
       "    <tr>\n",
       "      <th>195</th>\n",
       "      <td>1098</td>\n",
       "      <td>2025-06</td>\n",
       "      <td>19</td>\n",
       "    </tr>\n",
       "    <tr>\n",
       "      <th>196</th>\n",
       "      <td>1099</td>\n",
       "      <td>2025-05</td>\n",
       "      <td>6</td>\n",
       "    </tr>\n",
       "    <tr>\n",
       "      <th>197</th>\n",
       "      <td>1099</td>\n",
       "      <td>2025-06</td>\n",
       "      <td>30</td>\n",
       "    </tr>\n",
       "    <tr>\n",
       "      <th>198</th>\n",
       "      <td>1100</td>\n",
       "      <td>2025-05</td>\n",
       "      <td>8</td>\n",
       "    </tr>\n",
       "    <tr>\n",
       "      <th>199</th>\n",
       "      <td>1100</td>\n",
       "      <td>2025-06</td>\n",
       "      <td>14</td>\n",
       "    </tr>\n",
       "  </tbody>\n",
       "</table>\n",
       "<p>200 rows × 3 columns</p>\n",
       "</div>"
      ],
      "text/plain": [
       "    customer_id    month  txn_count\n",
       "0          1001  2025-05          4\n",
       "1          1001  2025-06         17\n",
       "2          1002  2025-05          5\n",
       "3          1002  2025-06         18\n",
       "4          1003  2025-05          3\n",
       "..          ...      ...        ...\n",
       "195        1098  2025-06         19\n",
       "196        1099  2025-05          6\n",
       "197        1099  2025-06         30\n",
       "198        1100  2025-05          8\n",
       "199        1100  2025-06         14\n",
       "\n",
       "[200 rows x 3 columns]"
      ]
     },
     "execution_count": 40,
     "metadata": {},
     "output_type": "execute_result"
    }
   ],
   "source": [
    "time_id_mon"
   ]
  },
  {
   "cell_type": "code",
   "execution_count": 39,
   "id": "2669f025-6945-46f6-beee-86535863fc14",
   "metadata": {},
   "outputs": [
    {
     "data": {
      "text/plain": [
       "<BarContainer object of 200 artists>"
      ]
     },
     "execution_count": 39,
     "metadata": {},
     "output_type": "execute_result"
    },
    {
     "data": {
      "image/png": "[encoded data removed]",
      "text/plain": [
       "<Figure size 640x480 with 1 Axes>"
      ]
     },
     "metadata": {},
     "output_type": "display_data"
    }
   ],
   "source": [
    "plt.barh(time_id_mon.month, time_id_mon.txn_count)"
   ]
  },
  {
   "cell_type": "code",
   "execution_count": 42,
   "id": "8d7938cf-7c3f-4e8a-ab2b-708c04df5045",
   "metadata": {},
   "outputs": [
    {
     "name": "stderr",
     "output_type": "stream",
     "text": [
      "                                                                                \r"
     ]
    }
   ],
   "source": [
    "txn_hour_count = spark.sql(\"\"\"\n",
    "SELECT txn_hour, COUNT(*) AS txn_count\n",
    "FROM clean_transactions\n",
    "GROUP BY txn_hour\n",
    "\"\"\").toPandas()"
   ]
  },
  {
   "cell_type": "code",
   "execution_count": 43,
   "id": "c823b894-9639-482f-b7be-46edf9fdd2bd",
   "metadata": {},
   "outputs": [
    {
     "data": {
      "text/plain": [
       "(24, 2)"
      ]
     },
     "execution_count": 43,
     "metadata": {},
     "output_type": "execute_result"
    }
   ],
   "source": [
    "plt.bar()"
   ]
  },
  {
   "cell_type": "code",
   "execution_count": null,
   "id": "6172dc71-5116-4219-a755-e1cf42758606",
   "metadata": {},
   "outputs": [],
   "source": []
  }
 ],
 "metadata": {
  "kernelspec": {
   "display_name": "Python 3 (ipykernel)",
   "language": "python",
   "name": "python3"
  },
  "language_info": {
   "codemirror_mode": {
    "name": "ipython",
    "version": 3
   },
   "file_extension": ".py",
   "mimetype": "text/x-python",
   "name": "python",
   "nbconvert_exporter": "python",
   "pygments_lexer": "ipython3",
   "version": "3.9.13"
  }
 },
 "nbformat": 4,
 "nbformat_minor": 5
}
