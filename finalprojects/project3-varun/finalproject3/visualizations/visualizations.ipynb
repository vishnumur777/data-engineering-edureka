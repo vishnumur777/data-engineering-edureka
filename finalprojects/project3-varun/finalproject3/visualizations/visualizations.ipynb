{
 "cells": [
  {
   "cell_type": "markdown",
   "id": "b5c781d6-df27-4b90-a043-af841a4be8b5",
   "metadata": {},
   "source": [
    "<h1 align=\"center\">Transaction analysis in ABC bank</h1>"
   ]
  },
  {
   "cell_type": "markdown",
   "id": "a05a82ec-a41b-456c-97b6-321509684102",
   "metadata": {},
   "source": [
    "## 1. Top 5 customers with more transactions\n",
    "\n",
    "![1st.svg](images/1st.svg)"
   ]
  },
  {
   "cell_type": "markdown",
   "id": "239a4616-4205-49c4-be29-e703f7de1d65",
   "metadata": {},
   "source": [
    "## 2. Channels by average amount\n",
    "\n",
    "![1st.svg](images/2nd.svg)"
   ]
  },
  {
   "cell_type": "markdown",
   "id": "5ca339dc-6b00-4f57-9da6-bfd0d796dd94",
   "metadata": {},
   "source": [
    "## 3. Monthly transactions volume per customer\n",
    "\n",
    "![1st.svg](images/3rd.svg)"
   ]
  },
  {
   "cell_type": "markdown",
   "id": "9ec11608-93c9-4c9e-89fa-b08a68642f23",
   "metadata": {},
   "source": [
    "## 4. Daily transactions volume per customer\n",
    "\n",
    "![1st.svg](images/4th.svg)"
   ]
  },
  {
   "cell_type": "markdown",
   "id": "74b392d0-53f4-4537-a54b-235b3835307e",
   "metadata": {
    "tags": []
   },
   "source": [
    "## 5. Daily transaction trend ( peak days )\n",
    "\n",
    "![1st.svg](images/5th.svg)"
   ]
  },
  {
   "cell_type": "markdown",
   "id": "f995a741-feac-419e-b8e5-968382f29c55",
   "metadata": {},
   "source": [
    "## 6. Hourly transaction trends( per hour )\n",
    "\n",
    "![1st.svg](images/6th.svg)"
   ]
  }
 ],
 "metadata": {
  "kernelspec": {
   "display_name": "Python 3 (ipykernel)",
   "language": "python",
   "name": "python3"
  },
  "language_info": {
   "codemirror_mode": {
    "name": "ipython",
    "version": 3
   },
   "file_extension": ".py",
   "mimetype": "text/x-python",
   "name": "python",
   "nbconvert_exporter": "python",
   "pygments_lexer": "ipython3",
   "version": "3.9.13"
  }
 },
 "nbformat": 4,
 "nbformat_minor": 5
}
