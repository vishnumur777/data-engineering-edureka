{
 "cells": [
  {
   "cell_type": "markdown",
   "id": "84ee536d-994c-441c-abdf-bc992f91f4f1",
   "metadata": {},
   "source": [
    "<h1 align = 'center'>Real-Time Fraud Detection Pipeline</h1>"
   ]
  },
  {
   "cell_type": "markdown",
   "id": "65be4de6-3374-48ac-bd14-3ac014154f9a",
   "metadata": {},
   "source": [
    "![1st.svg](architecture.png)"
   ]
  },
  {
   "cell_type": "markdown",
   "id": "2937dee0-cecd-4e41-a5e1-72b0a3225c37",
   "metadata": {},
   "source": [
    "![1st.svg](suspicious_filter.png)"
   ]
  },
  {
   "cell_type": "markdown",
   "id": "54ddd335-100d-4ce1-b3fc-5676b78aac88",
   "metadata": {},
   "source": [
    "#### Results in Hbase"
   ]
  },
  {
   "cell_type": "markdown",
   "id": "a9afceb7-6dfa-4a2b-94de-ce01784c197c",
   "metadata": {},
   "source": [
    "![1st.svg](suspicious_records_Ss.png)"
   ]
  }
 ],
 "metadata": {
  "kernelspec": {
   "display_name": "PySpark 3",
   "language": "python",
   "name": "pyspark3_env"
  },
  "language_info": {
   "codemirror_mode": {
    "name": "ipython",
    "version": 3
   },
   "file_extension": ".py",
   "mimetype": "text/x-python",
   "name": "python",
   "nbconvert_exporter": "python",
   "pygments_lexer": "ipython3",
   "version": "3.9.13"
  }
 },
 "nbformat": 4,
 "nbformat_minor": 5
}
