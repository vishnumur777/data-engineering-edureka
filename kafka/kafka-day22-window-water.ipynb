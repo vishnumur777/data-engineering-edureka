{
 "cells": [
  {
   "cell_type": "code",
   "execution_count": 1,
   "id": "e65db572-f929-4d36-9a77-6361fbe414c8",
   "metadata": {},
   "outputs": [],
   "source": [
    "from pyspark.sql import SparkSession"
   ]
  },
  {
   "cell_type": "code",
   "execution_count": 2,
   "id": "e08d1e46-2e99-489c-824d-48ece5682ee2",
   "metadata": {},
   "outputs": [
    {
     "name": "stderr",
     "output_type": "stream",
     "text": [
      "25/06/18 05:31:11 WARN NativeCodeLoader: Unable to load native-hadoop library for your platform... using builtin-java classes where applicable\n",
      "Setting default log level to \"WARN\".\n",
      "To adjust logging level use sc.setLogLevel(newLevel). For SparkR, use setLogLevel(newLevel).\n",
      "25/06/18 05:31:12 WARN Utils: Service 'SparkUI' could not bind on port 4040. Attempting port 4041.\n",
      "25/06/18 05:31:12 WARN Utils: Service 'SparkUI' could not bind on port 4041. Attempting port 4042.\n",
      "25/06/18 05:31:12 WARN Utils: Service 'SparkUI' could not bind on port 4042. Attempting port 4043.\n",
      "25/06/18 05:31:12 WARN Utils: Service 'SparkUI' could not bind on port 4043. Attempting port 4044.\n",
      "25/06/18 05:31:12 WARN Utils: Service 'SparkUI' could not bind on port 4044. Attempting port 4045.\n",
      "25/06/18 05:31:12 WARN Utils: Service 'SparkUI' could not bind on port 4045. Attempting port 4046.\n",
      "25/06/18 05:31:12 WARN Utils: Service 'SparkUI' could not bind on port 4046. Attempting port 4047.\n",
      "25/06/18 05:31:12 WARN Utils: Service 'SparkUI' could not bind on port 4047. Attempting port 4048.\n",
      "25/06/18 05:31:12 WARN Utils: Service 'SparkUI' could not bind on port 4048. Attempting port 4049.\n",
      "25/06/18 05:31:12 WARN Utils: Service 'SparkUI' could not bind on port 4049. Attempting port 4050.\n",
      "25/06/18 05:31:12 WARN Utils: Service 'SparkUI' could not bind on port 4050. Attempting port 4051.\n",
      "25/06/18 05:31:12 WARN Utils: Service 'SparkUI' could not bind on port 4051. Attempting port 4052.\n",
      "25/06/18 05:31:12 WARN Utils: Service 'SparkUI' could not bind on port 4052. Attempting port 4053.\n",
      "25/06/18 05:31:12 WARN Utils: Service 'SparkUI' could not bind on port 4053. Attempting port 4054.\n",
      "25/06/18 05:31:12 WARN Utils: Service 'SparkUI' could not bind on port 4054. Attempting port 4055.\n",
      "25/06/18 05:31:12 WARN Utils: Service 'SparkUI' could not bind on port 4055. Attempting port 4056.\n"
     ]
    }
   ],
   "source": [
    "spark = SparkSession.builder.master(\"local[5]\").appName(\"VarunSpark\").getOrCreate()"
   ]
  },
  {
   "cell_type": "code",
   "execution_count": 3,
   "id": "bb98dccc-b4f2-41bb-b1a3-b9911dea06b5",
   "metadata": {},
   "outputs": [],
   "source": [
    "from pyspark.sql.types import *\n",
    "from pyspark.sql.functions import *"
   ]
  },
  {
   "cell_type": "code",
   "execution_count": 4,
   "id": "c9f07d17-b0e5-45c6-8bb8-5cd40df4c3f3",
   "metadata": {},
   "outputs": [],
   "source": [
    "impressionSchema = StructType([\\\n",
    "                                StructField('CreatedTime', TimestampType(),True),\\\n",
    "                                StructField('Type', StringType(), True),\\\n",
    "                                StructField('Amount', IntegerType(), True),\\\n",
    "                                StructField('BrokerCode', StringType(),True)])"
   ]
  },
  {
   "cell_type": "code",
   "execution_count": 5,
   "id": "bd36431d-b0bd-4488-a267-f64210cf1c6c",
   "metadata": {},
   "outputs": [
    {
     "name": "stderr",
     "output_type": "stream",
     "text": [
      "25/06/18 05:31:14 WARN TextSocketSourceProvider: The socket source should not be used for production applications! It does not support recovery.\n"
     ]
    }
   ],
   "source": [
    "df = spark.readStream.format('socket').option('host','localhost').option('port',7766).load()"
   ]
  },
  {
   "cell_type": "code",
   "execution_count": 6,
   "id": "d1b64c3e-52b2-459d-a03b-831a4fefb299",
   "metadata": {},
   "outputs": [
    {
     "name": "stdout",
     "output_type": "stream",
     "text": [
      "root\n",
      " |-- value: string (nullable = true)\n",
      "\n"
     ]
    }
   ],
   "source": [
    "df.printSchema()"
   ]
  },
  {
   "cell_type": "code",
   "execution_count": 7,
   "id": "6b5b2306-ccb5-41c2-b0a5-5a8e752c3bd4",
   "metadata": {},
   "outputs": [
    {
     "name": "stdout",
     "output_type": "stream",
     "text": [
      "root\n",
      " |-- CreatedTime: timestamp (nullable = true)\n",
      " |-- Type: string (nullable = true)\n",
      " |-- Amount: integer (nullable = true)\n",
      " |-- BrokerCode: string (nullable = true)\n",
      "\n"
     ]
    }
   ],
   "source": [
    "data=  df.select(from_json(col('value').cast('string'),impressionSchema).alias('value'))\n",
    "data=data.select('value.*')\n",
    "data.printSchema()"
   ]
  },
  {
   "cell_type": "code",
   "execution_count": 8,
   "id": "8dd45615-d515-4555-a2ab-810373bb4847",
   "metadata": {},
   "outputs": [],
   "source": [
    "res = data.groupby(window(data.CreatedTime,\"5 minutes\"), data.Type).sum(\"Amount\")"
   ]
  },
  {
   "cell_type": "code",
   "execution_count": 9,
   "id": "244d8fb9-f111-49eb-b784-a6fedd32bd15",
   "metadata": {},
   "outputs": [],
   "source": [
    "res1 = res.withColumnRenamed(\"sum(Amount)\", \"sumdata\")"
   ]
  },
  {
   "cell_type": "code",
   "execution_count": 10,
   "id": "3eac5d13-1ad2-4bcf-8ce7-a530f51c92b7",
   "metadata": {},
   "outputs": [],
   "source": [
    "res1 = res1.select('window.start', 'window.end', 'Type', 'sumdata')"
   ]
  },
  {
   "cell_type": "code",
   "execution_count": null,
   "id": "c3ad1b2c-7a4a-4088-8d76-70d16241054c",
   "metadata": {},
   "outputs": [
    {
     "name": "stderr",
     "output_type": "stream",
     "text": [
      "25/06/18 05:31:20 WARN StreamingQueryManager: Temporary checkpoint location created which is deleted normally when the query didn't fail: /tmp/temporary-66b453d8-3a8e-4891-bcf2-5d4b3449edfd. If it's required to delete it under any circumstances, please set spark.sql.streaming.forceDeleteTempCheckpointLocation to true. Important to know deleting temp checkpoint folder is best effort.\n",
      "25/06/18 05:32:46 WARN DataStreamer: Slow waitForAckedSeqno took 60174ms (threshold=30000ms). File being written: /tmp/temporary-66b453d8-3a8e-4891-bcf2-5d4b3449edfd/state/0/87/.1.delta.4fda800e-a06e-43c0-8884-45d3cd2b1d54.TID92.tmp, block: BP-1364978691-172.31.64.10-1677754292516:blk_1079491731_5754528, Write pipeline datanodes: [DatanodeInfoWithStorage[172.31.64.12:9866,DS-c7b06f49-e29e-4fd7-8923-882da8ea1f7c,DISK], DatanodeInfoWithStorage[172.31.64.10:9866,DS-c5d3f703-fc05-45d5-9749-75d35b7c1674,DISK], DatanodeInfoWithStorage[172.31.64.16:9866,DS-a14784d9-461c-4107-8dc3-0f461fee974b,DISK]].\n",
      "25/06/18 05:32:46 WARN DataStreamer: Slow waitForAckedSeqno took 30855ms (threshold=30000ms). File being written: /tmp/temporary-66b453d8-3a8e-4891-bcf2-5d4b3449edfd/state/0/96/.1.delta.35324e19-0588-4efb-9835-bdb68bf13d36.TID101.tmp, block: BP-1364978691-172.31.64.10-1677754292516:blk_1079491787_5754585, Write pipeline datanodes: [DatanodeInfoWithStorage[172.31.64.16:9866,DS-a14784d9-461c-4107-8dc3-0f461fee974b,DISK], DatanodeInfoWithStorage[172.31.64.13:9866,DS-e595a26d-2fb4-4683-b8bf-ad5a6b69a54b,DISK], DatanodeInfoWithStorage[172.31.64.12:9866,DS-c7b06f49-e29e-4fd7-8923-882da8ea1f7c,DISK]].\n",
      "25/06/18 05:32:53 WARN DataStreamer: Slow waitForAckedSeqno took 36961ms (threshold=30000ms). File being written: /tmp/temporary-66b453d8-3a8e-4891-bcf2-5d4b3449edfd/state/0/98/.1.delta.a35bc298-950b-48ac-9792-0ee4f9ca2336.TID103.tmp, block: BP-1364978691-172.31.64.10-1677754292516:blk_1079491796_5754594, Write pipeline datanodes: [DatanodeInfoWithStorage[172.31.64.13:9866,DS-e595a26d-2fb4-4683-b8bf-ad5a6b69a54b,DISK], DatanodeInfoWithStorage[172.31.73.191:9866,DS-e2b7285d-a9a5-47f8-bcee-e91f66a4d588,DISK], DatanodeInfoWithStorage[172.31.64.12:9866,DS-c7b06f49-e29e-4fd7-8923-882da8ea1f7c,DISK]].\n",
      "25/06/18 05:32:53 WARN DataStreamer: Slow waitForAckedSeqno took 36610ms (threshold=30000ms). File being written: /tmp/temporary-66b453d8-3a8e-4891-bcf2-5d4b3449edfd/state/0/99/.1.delta.53b5cdf9-ecc9-48ab-87c3-96d7941c2ca8.TID104.tmp, block: BP-1364978691-172.31.64.10-1677754292516:blk_1079491802_5754600, Write pipeline datanodes: [DatanodeInfoWithStorage[172.31.73.191:9866,DS-e2b7285d-a9a5-47f8-bcee-e91f66a4d588,DISK], DatanodeInfoWithStorage[172.31.64.14:9866,DS-f823cf84-06f8-4cdd-b6e9-29d13d0292ee,DISK], DatanodeInfoWithStorage[172.31.64.12:9866,DS-c7b06f49-e29e-4fd7-8923-882da8ea1f7c,DISK]].\n",
      "25/06/18 05:32:53 WARN DataStreamer: Slow waitForAckedSeqno took 36695ms (threshold=30000ms). File being written: /tmp/temporary-66b453d8-3a8e-4891-bcf2-5d4b3449edfd/state/0/100/.1.delta.981151f3-1c56-494d-ab85-2c3efaa86c40.TID105.tmp, block: BP-1364978691-172.31.64.10-1677754292516:blk_1079491809_5754607, Write pipeline datanodes: [DatanodeInfoWithStorage[172.31.64.11:9866,DS-8af7bd92-c7a4-44fb-b361-00496b8456c3,DISK], DatanodeInfoWithStorage[172.31.64.12:9866,DS-c7b06f49-e29e-4fd7-8923-882da8ea1f7c,DISK], DatanodeInfoWithStorage[172.31.73.191:9866,DS-e2b7285d-a9a5-47f8-bcee-e91f66a4d588,DISK]].\n",
      "25/06/18 05:33:37 WARN DataStreamer: Slow waitForAckedSeqno took 43336ms (threshold=30000ms). File being written: /tmp/temporary-66b453d8-3a8e-4891-bcf2-5d4b3449edfd/state/0/113/.1.delta.15e22432-14fa-4ce5-92d7-f13a04847197.TID118.tmp, block: BP-1364978691-172.31.64.10-1677754292516:blk_1079491932_5754730, Write pipeline datanodes: [DatanodeInfoWithStorage[172.31.64.16:9866,DS-a14784d9-461c-4107-8dc3-0f461fee974b,DISK], DatanodeInfoWithStorage[172.31.64.12:9866,DS-c7b06f49-e29e-4fd7-8923-882da8ea1f7c,DISK], DatanodeInfoWithStorage[172.31.64.11:9866,DS-8af7bd92-c7a4-44fb-b361-00496b8456c3,DISK]].\n",
      "25/06/18 05:33:37 WARN DataStreamer: Slow waitForAckedSeqno took 42801ms (threshold=30000ms). File being written: /tmp/temporary-66b453d8-3a8e-4891-bcf2-5d4b3449edfd/state/0/117/.1.delta.0de94a03-7d23-42e2-8c15-8f7a80390504.TID122.tmp, block: BP-1364978691-172.31.64.10-1677754292516:blk_1079491952_5754750, Write pipeline datanodes: [DatanodeInfoWithStorage[172.31.64.16:9866,DS-a14784d9-461c-4107-8dc3-0f461fee974b,DISK], DatanodeInfoWithStorage[172.31.64.12:9866,DS-c7b06f49-e29e-4fd7-8923-882da8ea1f7c,DISK], DatanodeInfoWithStorage[172.31.64.11:9866,DS-8af7bd92-c7a4-44fb-b361-00496b8456c3,DISK]].\n",
      "                                                                                \r"
     ]
    },
    {
     "name": "stdout",
     "output_type": "stream",
     "text": [
      "-------------------------------------------\n",
      "Batch: 0\n",
      "-------------------------------------------\n",
      "+-----+---+----+-------+\n",
      "|start|end|Type|sumdata|\n",
      "+-----+---+----+-------+\n",
      "+-----+---+----+-------+\n",
      "\n"
     ]
    },
    {
     "name": "stderr",
     "output_type": "stream",
     "text": [
      "                                                                                \r"
     ]
    },
    {
     "name": "stdout",
     "output_type": "stream",
     "text": [
      "-------------------------------------------\n",
      "Batch: 1\n",
      "-------------------------------------------\n",
      "+-----+---+----+-------+\n",
      "|start|end|Type|sumdata|\n",
      "+-----+---+----+-------+\n",
      "+-----+---+----+-------+\n",
      "\n"
     ]
    },
    {
     "name": "stderr",
     "output_type": "stream",
     "text": [
      "                                                                                \r"
     ]
    },
    {
     "name": "stdout",
     "output_type": "stream",
     "text": [
      "-------------------------------------------\n",
      "Batch: 2\n",
      "-------------------------------------------\n",
      "+-----+---+----+-------+\n",
      "|start|end|Type|sumdata|\n",
      "+-----+---+----+-------+\n",
      "+-----+---+----+-------+\n",
      "\n"
     ]
    },
    {
     "name": "stderr",
     "output_type": "stream",
     "text": [
      "                                                                                \r"
     ]
    },
    {
     "name": "stdout",
     "output_type": "stream",
     "text": [
      "-------------------------------------------\n",
      "Batch: 3\n",
      "-------------------------------------------\n",
      "+-----+---+----+-------+\n",
      "|start|end|Type|sumdata|\n",
      "+-----+---+----+-------+\n",
      "+-----+---+----+-------+\n",
      "\n"
     ]
    },
    {
     "name": "stderr",
     "output_type": "stream",
     "text": [
      "25/06/18 11:12:13 WARN TextSocketMicroBatchStream: Stream closed by localhost:7766\n"
     ]
    }
   ],
   "source": [
    "res1.writeStream.format('console').outputMode('update').start().awaitTermination()"
   ]
  },
  {
   "cell_type": "code",
   "execution_count": null,
   "id": "cea1c72a-7272-4ee7-bd41-8dff9bfe79b4",
   "metadata": {},
   "outputs": [],
   "source": []
  }
 ],
 "metadata": {
  "kernelspec": {
   "display_name": "Python 3 (ipykernel)",
   "language": "python",
   "name": "python3"
  },
  "language_info": {
   "codemirror_mode": {
    "name": "ipython",
    "version": 3
   },
   "file_extension": ".py",
   "mimetype": "text/x-python",
   "name": "python",
   "nbconvert_exporter": "python",
   "pygments_lexer": "ipython3",
   "version": "3.9.13"
  }
 },
 "nbformat": 4,
 "nbformat_minor": 5
}
