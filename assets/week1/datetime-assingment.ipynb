{
 "cells": [
  {
   "cell_type": "code",
   "execution_count": 20,
   "id": "5f547b87-5027-4306-a941-760e7038b8f0",
   "metadata": {},
   "outputs": [],
   "source": [
    "from datetime import datetime\n",
    "from datetime import time\n",
    "from datetime import date\n",
    "from datetime import timedelta\n",
    "import pandas as pd"
   ]
  },
  {
   "cell_type": "markdown",
   "id": "03d0227e-6802-43e7-84d1-08516abb9f20",
   "metadata": {},
   "source": [
    "### 1. Write a Python script to display the various Date Time formats"
   ]
  },
  {
   "cell_type": "markdown",
   "id": "4e9b3d84-c3ed-4d15-8dc5-c2ab155276a2",
   "metadata": {},
   "source": [
    "- a) Current date and time"
   ]
  },
  {
   "cell_type": "code",
   "execution_count": 3,
   "id": "9236d2d0-3f09-4fb2-8e17-1022a6a6c314",
   "metadata": {},
   "outputs": [
    {
     "data": {
      "text/plain": [
       "datetime.datetime(2025, 5, 23, 8, 56, 30, 344191)"
      ]
     },
     "execution_count": 3,
     "metadata": {},
     "output_type": "execute_result"
    }
   ],
   "source": [
    "datetime.now()"
   ]
  },
  {
   "cell_type": "markdown",
   "id": "e86c0a90-593c-4a6c-b4ed-60dfdfdc375d",
   "metadata": {},
   "source": [
    "- b) Current year"
   ]
  },
  {
   "cell_type": "code",
   "execution_count": 4,
   "id": "192ff41d-4d4e-402e-bd2a-debd60e8f7be",
   "metadata": {},
   "outputs": [],
   "source": [
    "dt = datetime.now()"
   ]
  },
  {
   "cell_type": "code",
   "execution_count": 5,
   "id": "96cec96c-5a48-4e6e-be8c-cc9f628eb112",
   "metadata": {},
   "outputs": [
    {
     "data": {
      "text/plain": [
       "2025"
      ]
     },
     "execution_count": 5,
     "metadata": {},
     "output_type": "execute_result"
    }
   ],
   "source": [
    "dt.year"
   ]
  },
  {
   "cell_type": "markdown",
   "id": "5ae5edbf-4db3-47b1-860c-81415a2a5402",
   "metadata": {},
   "source": [
    "- c) Month of year"
   ]
  },
  {
   "cell_type": "code",
   "execution_count": 6,
   "id": "b8d67c2a-b226-4630-97e9-8f64ebfebc51",
   "metadata": {},
   "outputs": [
    {
     "data": {
      "text/plain": [
       "5"
      ]
     },
     "execution_count": 6,
     "metadata": {},
     "output_type": "execute_result"
    }
   ],
   "source": [
    "dt.month"
   ]
  },
  {
   "cell_type": "markdown",
   "id": "01c0514c-438b-4801-8df0-2b0d26af23b2",
   "metadata": {},
   "source": [
    "- d) Week number of the year"
   ]
  },
  {
   "cell_type": "code",
   "execution_count": 9,
   "id": "2d223727-37c3-4061-b3e1-3b6c843c86d5",
   "metadata": {},
   "outputs": [
    {
     "data": {
      "text/plain": [
       "21"
      ]
     },
     "execution_count": 9,
     "metadata": {},
     "output_type": "execute_result"
    }
   ],
   "source": [
    "date.today().isocalendar()[1]"
   ]
  },
  {
   "cell_type": "markdown",
   "id": "a9cb8e04-14e4-4066-9abe-231a5efe0097",
   "metadata": {},
   "source": [
    "- e) Weekday of the week"
   ]
  },
  {
   "cell_type": "code",
   "execution_count": 10,
   "id": "5d12e16b-d822-4515-a6e5-65084788084e",
   "metadata": {},
   "outputs": [
    {
     "data": {
      "text/plain": [
       "4"
      ]
     },
     "execution_count": 10,
     "metadata": {},
     "output_type": "execute_result"
    }
   ],
   "source": [
    "dt.weekday()"
   ]
  },
  {
   "cell_type": "markdown",
   "id": "62692f1f-3d12-4549-bc40-1b0585ec64e1",
   "metadata": {},
   "source": [
    "- f) Day of year"
   ]
  },
  {
   "cell_type": "code",
   "execution_count": 11,
   "id": "e128ffd0-41ff-4abb-98b0-9eb14485db76",
   "metadata": {},
   "outputs": [
    {
     "data": {
      "text/plain": [
       "'143'"
      ]
     },
     "execution_count": 11,
     "metadata": {},
     "output_type": "execute_result"
    }
   ],
   "source": [
    "dt.strftime(\"%j\")"
   ]
  },
  {
   "cell_type": "markdown",
   "id": "0cd289db-0d8c-41ab-8bd3-05d139b99836",
   "metadata": {},
   "source": [
    "- g) Day of the month"
   ]
  },
  {
   "cell_type": "code",
   "execution_count": 12,
   "id": "f80b432c-262f-46d3-a4c0-5e2f8d0a1e86",
   "metadata": {},
   "outputs": [
    {
     "data": {
      "text/plain": [
       "23"
      ]
     },
     "execution_count": 12,
     "metadata": {},
     "output_type": "execute_result"
    }
   ],
   "source": [
    "dt.day"
   ]
  },
  {
   "cell_type": "markdown",
   "id": "80270385-baf1-4b35-abed-38b0a5f97086",
   "metadata": {},
   "source": [
    "- h) Day of week"
   ]
  },
  {
   "cell_type": "code",
   "execution_count": 19,
   "id": "90f60e7f-236d-4318-b415-5a219b37b225",
   "metadata": {},
   "outputs": [
    {
     "data": {
      "text/plain": [
       "5"
      ]
     },
     "execution_count": 19,
     "metadata": {},
     "output_type": "execute_result"
    }
   ],
   "source": [
    "dt.weekday()+1"
   ]
  },
  {
   "cell_type": "markdown",
   "id": "4c48aef3-5586-43f3-94fa-46ffa4911bec",
   "metadata": {},
   "source": [
    "**2. Write a Python program to determine whether a given year is a leap year**"
   ]
  },
  {
   "cell_type": "code",
   "execution_count": 24,
   "id": "911196d0-270c-41a1-8303-bfd50d434a02",
   "metadata": {},
   "outputs": [],
   "source": [
    "dfyear = pd.to_datetime(dt)"
   ]
  },
  {
   "cell_type": "code",
   "execution_count": 26,
   "id": "b33d833d-9cad-4cb1-a150-75dfd7595581",
   "metadata": {},
   "outputs": [
    {
     "data": {
      "text/plain": [
       "pandas._libs.tslibs.timestamps.Timestamp"
      ]
     },
     "execution_count": 26,
     "metadata": {},
     "output_type": "execute_result"
    }
   ],
   "source": [
    "type(dfyear)"
   ]
  },
  {
   "cell_type": "code",
   "execution_count": 28,
   "id": "470c50fa-d0fe-4af5-bcd8-37e1231b3fe3",
   "metadata": {},
   "outputs": [
    {
     "data": {
      "text/plain": [
       "False"
      ]
     },
     "execution_count": 28,
     "metadata": {},
     "output_type": "execute_result"
    }
   ],
   "source": [
    "dfyear.is_leap_year"
   ]
  },
  {
   "cell_type": "markdown",
   "id": "2e550a21-5bcc-46e4-b9aa-d6670bc966fc",
   "metadata": {},
   "source": [
    "3. Write a Python program to convert a string to datetime.\n",
    "\n",
    "Sample String : Jul 1 2014 2:43PM"
   ]
  },
  {
   "cell_type": "code",
   "execution_count": 40,
   "id": "10c5f602-bb6d-4c59-9563-fb2dce4c158d",
   "metadata": {},
   "outputs": [],
   "source": [
    "dtstr = \"Jul 1 2014 2:43PM\"\n",
    "dttime = datetime.strptime(dtstr, \"%b %d %Y %I:%M%p\")"
   ]
  },
  {
   "cell_type": "code",
   "execution_count": 43,
   "id": "137ff10c-e417-4f34-a33c-bc60d7460406",
   "metadata": {},
   "outputs": [
    {
     "data": {
      "text/plain": [
       "'01-07-2014 14:43:00'"
      ]
     },
     "execution_count": 43,
     "metadata": {},
     "output_type": "execute_result"
    }
   ],
   "source": [
    "dttime.strftime(format=\"%d-%m-%Y %H:%M:%S\")"
   ]
  },
  {
   "cell_type": "markdown",
   "id": "8eeac270-d4eb-46eb-80d6-1c862f469f2f",
   "metadata": {},
   "source": [
    "4. Write a Python program to get the current time in Python.\n",
    "\n",
    "Sample Format : 13:19:49.078205"
   ]
  },
  {
   "cell_type": "code",
   "execution_count": 44,
   "id": "4b563d7b-950f-443a-92ca-bc1eef4acb4c",
   "metadata": {},
   "outputs": [
    {
     "data": {
      "text/plain": [
       "'08:56:1747990607'"
      ]
     },
     "execution_count": 44,
     "metadata": {},
     "output_type": "execute_result"
    }
   ],
   "source": [
    "dt.strftime(format=\"%H:%M:%s\")"
   ]
  },
  {
   "cell_type": "markdown",
   "id": "df3d25ee-261a-4eaa-8daf-f560ce73df62",
   "metadata": {},
   "source": [
    "5. Write a Python program to subtract five days from the current date.\n",
    "\n",
    "Sample Date :\n",
    "\n",
    "Current Date : 2015-06-22\n",
    "\n",
    "5 days before Current Date : 2015-06-17"
   ]
  },
  {
   "cell_type": "code",
   "execution_count": 46,
   "id": "69a8bddd-e63b-4c76-9d4e-b34346003dc9",
   "metadata": {},
   "outputs": [],
   "source": [
    "sub5days = datetime.now() - timedelta(days=5)"
   ]
  },
  {
   "cell_type": "code",
   "execution_count": 49,
   "id": "80efbe09-2261-4caf-8b42-3497cb6c9269",
   "metadata": {},
   "outputs": [
    {
     "data": {
      "text/plain": [
       "'18-05-2025'"
      ]
     },
     "execution_count": 49,
     "metadata": {},
     "output_type": "execute_result"
    }
   ],
   "source": [
    "sub5days.strftime(\"%d-%m-%Y\")"
   ]
  },
  {
   "cell_type": "markdown",
   "id": "d5c7300b-0aa1-4375-858e-ec4690564dda",
   "metadata": {},
   "source": [
    "6. Write a Python program to convert a Unix timestamp string to a readable date.\n",
    "\n",
    "Sample Unix timestamp string : 1284105682\n",
    "\n",
    "Expected Output : 2010-09-10 13:31:22"
   ]
  },
  {
   "cell_type": "code",
   "execution_count": 52,
   "id": "1df97d43-a552-416e-9795-fa16533d34df",
   "metadata": {},
   "outputs": [
    {
     "data": {
      "text/plain": [
       "datetime.datetime(2010, 9, 10, 8, 1, 22)"
      ]
     },
     "execution_count": 52,
     "metadata": {},
     "output_type": "execute_result"
    }
   ],
   "source": [
    "datetime.fromtimestamp(1284105682)"
   ]
  },
  {
   "cell_type": "markdown",
   "id": "f124f80e-7a5d-436c-8c39-8d078bff6b06",
   "metadata": {},
   "source": [
    "7. Write a Python program to print yesterday, today, tomorrow."
   ]
  },
  {
   "cell_type": "code",
   "execution_count": 54,
   "id": "051c9a68-9e12-433c-ba91-b39c79e01e68",
   "metadata": {},
   "outputs": [
    {
     "name": "stdout",
     "output_type": "stream",
     "text": [
      "Yesterday: 2025-05-22 09:46:22.991887\n",
      "Today: 2025-05-23 09:46:22.991959\n",
      "Tommorrow: 2025-05-24 09:46:22.991996\n"
     ]
    }
   ],
   "source": [
    "print(f\"Yesterday: {datetime.now()-timedelta(days=1)}\")\n",
    "print(f\"Today: {datetime.now()}\")\n",
    "print(f\"Tommorrow: {datetime.now()+timedelta(days=1)}\")"
   ]
  },
  {
   "cell_type": "markdown",
   "id": "1f76a92b-625d-46c7-a548-f4c7c86ace9b",
   "metadata": {},
   "source": [
    "8. Write a Python program to convert the date to datetime (midnight of the date) in Python.\n",
    "\n",
    "Sample Output : 2015-06-22 00:00:00"
   ]
  },
  {
   "cell_type": "code",
   "execution_count": 55,
   "id": "0483abdb-294f-4f93-b2f5-81dc8f79379b",
   "metadata": {},
   "outputs": [],
   "source": [
    "dt = datetime.now()"
   ]
  },
  {
   "cell_type": "code",
   "execution_count": 58,
   "id": "989a7b73-0354-4286-8d70-8ea20766c9ac",
   "metadata": {},
   "outputs": [],
   "source": [
    "dt = dt.replace(hour=0, minute=0, second=0)"
   ]
  },
  {
   "cell_type": "code",
   "execution_count": 61,
   "id": "c7a5db8e-9d56-4b6c-85b8-7c5956e3f802",
   "metadata": {},
   "outputs": [
    {
     "data": {
      "text/plain": [
       "'2025-05-23 00:00:00'"
      ]
     },
     "execution_count": 61,
     "metadata": {},
     "output_type": "execute_result"
    }
   ],
   "source": [
    "dt.strftime(\"%Y-%m-%d %H:%M:%S\")"
   ]
  },
  {
   "cell_type": "markdown",
   "id": "1824938d-d03d-413f-b7f7-7c3361877c32",
   "metadata": {
    "tags": []
   },
   "source": [
    "9. Write a Python program to print the next 5 days starting today"
   ]
  },
  {
   "cell_type": "code",
   "execution_count": 62,
   "id": "e9e2353f-9daf-45f5-9454-564f9196e109",
   "metadata": {},
   "outputs": [
    {
     "data": {
      "text/plain": [
       "datetime.datetime(2025, 5, 28, 9, 52, 51, 106330)"
      ]
     },
     "execution_count": 62,
     "metadata": {},
     "output_type": "execute_result"
    }
   ],
   "source": [
    "datetime.now() + timedelta(days=5)"
   ]
  },
  {
   "cell_type": "markdown",
   "id": "d07b4cf4-993a-4382-b8f8-7cab9de91e42",
   "metadata": {},
   "source": [
    "10. Write a Python program to add 5 seconds to the current time.\n",
    "Sample Data :\n",
    "\n",
    "13:28:32.953088\n",
    "\n",
    "13:28:37.953088"
   ]
  },
  {
   "cell_type": "code",
   "execution_count": 73,
   "id": "ee70eef4-7970-4093-889d-b07ac226e169",
   "metadata": {},
   "outputs": [
    {
     "data": {
      "text/plain": [
       "datetime.datetime(2025, 5, 23, 10, 5, 18, 199633)"
      ]
     },
     "execution_count": 73,
     "metadata": {},
     "output_type": "execute_result"
    }
   ],
   "source": [
    "datetime.now()"
   ]
  },
  {
   "cell_type": "code",
   "execution_count": 75,
   "id": "8126e21a-1165-4964-98de-6aa51465ded3",
   "metadata": {},
   "outputs": [
    {
     "data": {
      "text/plain": [
       "datetime.datetime(2025, 5, 23, 10, 5, 42, 945889)"
      ]
     },
     "execution_count": 75,
     "metadata": {},
     "output_type": "execute_result"
    }
   ],
   "source": [
    "datetime.now()+timedelta(seconds=5)"
   ]
  },
  {
   "cell_type": "markdown",
   "id": "ebb517ab-80b1-4010-9e0e-7220a339486c",
   "metadata": {},
   "source": [
    "11. Write a Python program to convert Year/Month/Day to Day of Year in Python."
   ]
  },
  {
   "cell_type": "code",
   "execution_count": 76,
   "id": "7baf3177-1a78-496d-bd28-052542e03f1a",
   "metadata": {},
   "outputs": [
    {
     "data": {
      "text/plain": [
       "'143'"
      ]
     },
     "execution_count": 76,
     "metadata": {},
     "output_type": "execute_result"
    }
   ],
   "source": [
    "dt.strftime(\"%j\")"
   ]
  },
  {
   "cell_type": "markdown",
   "id": "fc3b4ec8-521a-4763-b648-1ae6e5694307",
   "metadata": {},
   "source": [
    "12. Write a Python program to get the current time in milliseconds in Python.\n"
   ]
  },
  {
   "cell_type": "code",
   "execution_count": 77,
   "id": "7a83dc46-7ec0-4579-9de2-0108c7b1b191",
   "metadata": {},
   "outputs": [
    {
     "name": "stdout",
     "output_type": "stream",
     "text": [
      "1747995904321\n"
     ]
    }
   ],
   "source": [
    "import time\n",
    "\n",
    "milli_sec = int(round(time.time() * 1000))\n",
    "\n",
    "print(milli_sec)"
   ]
  },
  {
   "cell_type": "markdown",
   "id": "0298be0d-5a6b-4951-9bd4-137760ca7772",
   "metadata": {},
   "source": [
    "13. Write a Python program to get the week number.\n",
    "\n",
    "Sample Date : 2015, 6, 16\n",
    "Expected Output : 25"
   ]
  },
  {
   "cell_type": "code",
   "execution_count": 79,
   "id": "f21efb38-0903-4d81-a3ef-8f563288a11e",
   "metadata": {},
   "outputs": [
    {
     "name": "stdout",
     "output_type": "stream",
     "text": [
      "25\n"
     ]
    }
   ],
   "source": [
    "print(date(2015, 6, 16).isocalendar()[1])"
   ]
  },
  {
   "cell_type": "markdown",
   "id": "1f02bdbf-5495-4380-b9fe-d4f7b069293c",
   "metadata": {},
   "source": [
    "14. Write a Python program to find the date of the first Monday of a given week.\n",
    "\n",
    "Sample Year and week : 2015, 50\n",
    "Expected Output : Mon Dec 14 00:00:00 2015"
   ]
  },
  {
   "cell_type": "code",
   "execution_count": 81,
   "id": "313e78bc-7575-40e6-b9ab-804362061575",
   "metadata": {},
   "outputs": [
    {
     "name": "stdout",
     "output_type": "stream",
     "text": [
      "Mon Dec 14 00:00:00 2015\n"
     ]
    }
   ],
   "source": [
    "print(time.asctime(time.strptime('2015 50 1', '%Y %W %w')))"
   ]
  },
  {
   "cell_type": "markdown",
   "id": "f54e5729-78aa-47dc-af68-beaa089cea6c",
   "metadata": {},
   "source": [
    "15. Write a Python program to select all the Sundays in a specified year."
   ]
  },
  {
   "cell_type": "code",
   "execution_count": 116,
   "id": "e20ade91-bbea-4d3a-aaf4-34f7d3b52ca4",
   "metadata": {},
   "outputs": [],
   "source": [
    "def all_sundays(year):\n",
    "    dates = date(year,1,1)\n",
    "    while dates.year==year:\n",
    "        if dates.weekday()==6:\n",
    "            yield dates\n",
    "        dates += timedelta(days=1)"
   ]
  },
  {
   "cell_type": "code",
   "execution_count": 117,
   "id": "d89f1a03-6e92-48b1-b201-d43f04f156eb",
   "metadata": {},
   "outputs": [],
   "source": [
    "sundays = all_sundays(2024)"
   ]
  },
  {
   "cell_type": "code",
   "execution_count": 119,
   "id": "e0a158bb-c8e5-4e67-b340-d09da081e093",
   "metadata": {},
   "outputs": [
    {
     "name": "stdout",
     "output_type": "stream",
     "text": [
      "2024-01-07\n",
      "2024-01-14\n",
      "2024-01-21\n",
      "2024-01-28\n",
      "2024-02-04\n",
      "2024-02-11\n",
      "2024-02-18\n",
      "2024-02-25\n",
      "2024-03-03\n",
      "2024-03-10\n",
      "2024-03-17\n",
      "2024-03-24\n",
      "2024-03-31\n",
      "2024-04-07\n",
      "2024-04-14\n",
      "2024-04-21\n",
      "2024-04-28\n",
      "2024-05-05\n",
      "2024-05-12\n",
      "2024-05-19\n",
      "2024-05-26\n",
      "2024-06-02\n",
      "2024-06-09\n",
      "2024-06-16\n",
      "2024-06-23\n",
      "2024-06-30\n",
      "2024-07-07\n",
      "2024-07-14\n",
      "2024-07-21\n",
      "2024-07-28\n",
      "2024-08-04\n",
      "2024-08-11\n",
      "2024-08-18\n",
      "2024-08-25\n",
      "2024-09-01\n",
      "2024-09-08\n",
      "2024-09-15\n",
      "2024-09-22\n",
      "2024-09-29\n",
      "2024-10-06\n",
      "2024-10-13\n",
      "2024-10-20\n",
      "2024-10-27\n",
      "2024-11-03\n",
      "2024-11-10\n",
      "2024-11-17\n",
      "2024-11-24\n",
      "2024-12-01\n",
      "2024-12-08\n",
      "2024-12-15\n",
      "2024-12-22\n",
      "2024-12-29\n"
     ]
    }
   ],
   "source": [
    "for x in sundays:\n",
    "    print(x)"
   ]
  },
  {
   "cell_type": "markdown",
   "id": "870e55ed-4717-4706-80f9-8603de688c4d",
   "metadata": {},
   "source": [
    "16. Write a Python program to add year(s) to a given date and display the updated date."
   ]
  },
  {
   "cell_type": "code",
   "execution_count": 133,
   "id": "0d5089bb-7eef-4379-9e84-68e1708dc4e2",
   "metadata": {},
   "outputs": [],
   "source": [
    "def addYears(dates, number):\n",
    "    try:\n",
    "        return dates.replace(year=dates.year + number)\n",
    "    except ValueError as v:\n",
    "        return dates + (date(dates.year + number, 1, 1) - date(dates.year, 1, 1))"
   ]
  },
  {
   "cell_type": "code",
   "execution_count": 134,
   "id": "968c695a-c1fa-4027-8e59-2a89191140db",
   "metadata": {},
   "outputs": [
    {
     "name": "stdout",
     "output_type": "stream",
     "text": [
      "2014-01-01\n",
      "2015-01-01\n",
      "2017-01-01\n",
      "2001-03-01\n"
     ]
    }
   ],
   "source": [
    "print(addYears(date(2015,1,1), -1))\n",
    "print(addYears(date(2015,1,1), 0))\n",
    "print(addYears(date(2015,1,1), 2))\n",
    "print(addYears(date(2000,2,29),1))"
   ]
  },
  {
   "cell_type": "code",
   "execution_count": 135,
   "id": "0688e7a9-01aa-4bf3-80da-a67070016945",
   "metadata": {},
   "outputs": [
    {
     "data": {
      "text/plain": [
       "datetime.datetime(2025, 5, 23, 11, 17, 42)"
      ]
     },
     "execution_count": 135,
     "metadata": {},
     "output_type": "execute_result"
    }
   ],
   "source": [
    "datetime.now().replace(microsecond=0)"
   ]
  },
  {
   "cell_type": "code",
   "execution_count": 137,
   "id": "0d3a84b2-45f8-41f7-beaf-9bbcd7999549",
   "metadata": {},
   "outputs": [
    {
     "name": "stdout",
     "output_type": "stream",
     "text": [
      "366 days, 0:00:00\n"
     ]
    }
   ],
   "source": [
    "print(date(2001, 2, 28) - date(2000, 2, 28))"
   ]
  },
  {
   "cell_type": "code",
   "execution_count": 138,
   "id": "8ac6939c-d764-4c2b-abed-1b9149aa1687",
   "metadata": {},
   "outputs": [
    {
     "name": "stdout",
     "output_type": "stream",
     "text": [
      "2025-05-20\n"
     ]
    }
   ],
   "source": [
    "today = date.today()\n",
    "offset = (today.weekday() - 1) % 7\n",
    "last_tuesday = today - timedelta(days=offset)\n",
    "print(last_tuesday) "
   ]
  },
  {
   "cell_type": "code",
   "execution_count": 139,
   "id": "853d55e1-eec8-4cab-bd04-89dc23f46fe5",
   "metadata": {},
   "outputs": [],
   "source": [
    "df = pd.read_csv(\"Cleaned_Retail_Data.csv\")"
   ]
  },
  {
   "cell_type": "code",
   "execution_count": 141,
   "id": "12364d56-c056-4da5-b09e-1a65c0e31cfd",
   "metadata": {},
   "outputs": [],
   "source": [
    "df.Date = pd.to_datetime(df.Date)"
   ]
  },
  {
   "cell_type": "code",
   "execution_count": 142,
   "id": "8cc7942a-cde1-4943-a5a3-b5b40a07d19a",
   "metadata": {},
   "outputs": [
    {
     "data": {
      "text/plain": [
       "0     2023-11-24\n",
       "1     2023-02-27\n",
       "2     2023-01-13\n",
       "3     2023-05-21\n",
       "4     2023-05-06\n",
       "         ...    \n",
       "995   2023-05-16\n",
       "996   2023-11-17\n",
       "997   2023-10-29\n",
       "998   2023-12-05\n",
       "999   2023-04-12\n",
       "Name: Date, Length: 1000, dtype: datetime64[ns]"
      ]
     },
     "execution_count": 142,
     "metadata": {},
     "output_type": "execute_result"
    }
   ],
   "source": [
    "df.Date"
   ]
  },
  {
   "cell_type": "code",
   "execution_count": 160,
   "id": "c651e86c-83c3-4595-93e4-e4da649d03fa",
   "metadata": {},
   "outputs": [],
   "source": [
    "month = []"
   ]
  },
  {
   "cell_type": "code",
   "execution_count": 161,
   "id": "6a590b17-5a85-4a9c-93b5-404add1ea1e7",
   "metadata": {},
   "outputs": [],
   "source": [
    "for x in range(len(df.Date)):\n",
    "    month.append(df.Date.loc[x].strftime(format=\"%B\"))"
   ]
  },
  {
   "cell_type": "code",
   "execution_count": 162,
   "id": "0867f373-5747-480c-be44-7c302fbcc34b",
   "metadata": {},
   "outputs": [],
   "source": [
    "df[\"Month\"] = pd.Series(month)"
   ]
  },
  {
   "cell_type": "code",
   "execution_count": 168,
   "id": "b6819a4b-f1a2-4526-9ede-3a854bd0e9b1",
   "metadata": {},
   "outputs": [],
   "source": [
    "df1 = df.groupby(\"Month\")[[\"Transaction ID\"]].count()"
   ]
  },
  {
   "cell_type": "code",
   "execution_count": 170,
   "id": "fd0fbccd-a576-4eaa-9097-8cd1a1299052",
   "metadata": {},
   "outputs": [
    {
     "data": {
      "text/html": [
       "<div>\n",
       "<style scoped>\n",
       "    .dataframe tbody tr th:only-of-type {\n",
       "        vertical-align: middle;\n",
       "    }\n",
       "\n",
       "    .dataframe tbody tr th {\n",
       "        vertical-align: top;\n",
       "    }\n",
       "\n",
       "    .dataframe thead th {\n",
       "        text-align: right;\n",
       "    }\n",
       "</style>\n",
       "<table border=\"1\" class=\"dataframe\">\n",
       "  <thead>\n",
       "    <tr style=\"text-align: right;\">\n",
       "      <th></th>\n",
       "      <th>Transaction ID</th>\n",
       "    </tr>\n",
       "    <tr>\n",
       "      <th>Month</th>\n",
       "      <th></th>\n",
       "    </tr>\n",
       "  </thead>\n",
       "  <tbody>\n",
       "    <tr>\n",
       "      <th>May</th>\n",
       "      <td>105</td>\n",
       "    </tr>\n",
       "    <tr>\n",
       "      <th>October</th>\n",
       "      <td>96</td>\n",
       "    </tr>\n",
       "    <tr>\n",
       "      <th>August</th>\n",
       "      <td>94</td>\n",
       "    </tr>\n",
       "    <tr>\n",
       "      <th>December</th>\n",
       "      <td>91</td>\n",
       "    </tr>\n",
       "    <tr>\n",
       "      <th>April</th>\n",
       "      <td>86</td>\n",
       "    </tr>\n",
       "    <tr>\n",
       "      <th>February</th>\n",
       "      <td>85</td>\n",
       "    </tr>\n",
       "    <tr>\n",
       "      <th>January</th>\n",
       "      <td>78</td>\n",
       "    </tr>\n",
       "    <tr>\n",
       "      <th>November</th>\n",
       "      <td>78</td>\n",
       "    </tr>\n",
       "    <tr>\n",
       "      <th>June</th>\n",
       "      <td>77</td>\n",
       "    </tr>\n",
       "    <tr>\n",
       "      <th>March</th>\n",
       "      <td>73</td>\n",
       "    </tr>\n",
       "    <tr>\n",
       "      <th>July</th>\n",
       "      <td>72</td>\n",
       "    </tr>\n",
       "    <tr>\n",
       "      <th>September</th>\n",
       "      <td>65</td>\n",
       "    </tr>\n",
       "  </tbody>\n",
       "</table>\n",
       "</div>"
      ],
      "text/plain": [
       "           Transaction ID\n",
       "Month                    \n",
       "May                   105\n",
       "October                96\n",
       "August                 94\n",
       "December               91\n",
       "April                  86\n",
       "February               85\n",
       "January                78\n",
       "November               78\n",
       "June                   77\n",
       "March                  73\n",
       "July                   72\n",
       "September              65"
      ]
     },
     "execution_count": 170,
     "metadata": {},
     "output_type": "execute_result"
    }
   ],
   "source": [
    "df1.sort_values(by=\"Transaction ID\", ascending=False)"
   ]
  },
  {
   "cell_type": "code",
   "execution_count": 178,
   "id": "085c76d7-2d78-445c-8245-d187e567ec60",
   "metadata": {},
   "outputs": [
    {
     "data": {
      "text/html": [
       "<div>\n",
       "<style scoped>\n",
       "    .dataframe tbody tr th:only-of-type {\n",
       "        vertical-align: middle;\n",
       "    }\n",
       "\n",
       "    .dataframe tbody tr th {\n",
       "        vertical-align: top;\n",
       "    }\n",
       "\n",
       "    .dataframe thead th {\n",
       "        text-align: right;\n",
       "    }\n",
       "</style>\n",
       "<table border=\"1\" class=\"dataframe\">\n",
       "  <thead>\n",
       "    <tr style=\"text-align: right;\">\n",
       "      <th></th>\n",
       "      <th>total_revenue</th>\n",
       "    </tr>\n",
       "    <tr>\n",
       "      <th>Month</th>\n",
       "      <th></th>\n",
       "    </tr>\n",
       "  </thead>\n",
       "  <tbody>\n",
       "    <tr>\n",
       "      <th>April</th>\n",
       "      <td>393.837209</td>\n",
       "    </tr>\n",
       "    <tr>\n",
       "      <th>August</th>\n",
       "      <td>393.191489</td>\n",
       "    </tr>\n",
       "    <tr>\n",
       "      <th>December</th>\n",
       "      <td>491.098901</td>\n",
       "    </tr>\n",
       "    <tr>\n",
       "      <th>February</th>\n",
       "      <td>518.352941</td>\n",
       "    </tr>\n",
       "    <tr>\n",
       "      <th>January</th>\n",
       "      <td>474.102564</td>\n",
       "    </tr>\n",
       "    <tr>\n",
       "      <th>July</th>\n",
       "      <td>492.569444</td>\n",
       "    </tr>\n",
       "    <tr>\n",
       "      <th>June</th>\n",
       "      <td>476.818182</td>\n",
       "    </tr>\n",
       "    <tr>\n",
       "      <th>March</th>\n",
       "      <td>397.123288</td>\n",
       "    </tr>\n",
       "    <tr>\n",
       "      <th>May</th>\n",
       "      <td>506.190476</td>\n",
       "    </tr>\n",
       "    <tr>\n",
       "      <th>November</th>\n",
       "      <td>447.692308</td>\n",
       "    </tr>\n",
       "    <tr>\n",
       "      <th>October</th>\n",
       "      <td>485.208333</td>\n",
       "    </tr>\n",
       "    <tr>\n",
       "      <th>September</th>\n",
       "      <td>363.384615</td>\n",
       "    </tr>\n",
       "  </tbody>\n",
       "</table>\n",
       "</div>"
      ],
      "text/plain": [
       "           total_revenue\n",
       "Month                   \n",
       "April         393.837209\n",
       "August        393.191489\n",
       "December      491.098901\n",
       "February      518.352941\n",
       "January       474.102564\n",
       "July          492.569444\n",
       "June          476.818182\n",
       "March         397.123288\n",
       "May           506.190476\n",
       "November      447.692308\n",
       "October       485.208333\n",
       "September     363.384615"
      ]
     },
     "execution_count": 178,
     "metadata": {},
     "output_type": "execute_result"
    }
   ],
   "source": [
    "df.pivot_table(values=\"total_revenue\",index=\"Month\" )"
   ]
  },
  {
   "cell_type": "code",
   "execution_count": 173,
   "id": "702927a5-6bfe-42b0-a1c3-935781648a53",
   "metadata": {},
   "outputs": [
    {
     "data": {
      "text/html": [
       "<div>\n",
       "<style scoped>\n",
       "    .dataframe tbody tr th:only-of-type {\n",
       "        vertical-align: middle;\n",
       "    }\n",
       "\n",
       "    .dataframe tbody tr th {\n",
       "        vertical-align: top;\n",
       "    }\n",
       "\n",
       "    .dataframe thead th {\n",
       "        text-align: right;\n",
       "    }\n",
       "</style>\n",
       "<table border=\"1\" class=\"dataframe\">\n",
       "  <thead>\n",
       "    <tr style=\"text-align: right;\">\n",
       "      <th></th>\n",
       "      <th>Unnamed: 0</th>\n",
       "      <th>Transaction ID</th>\n",
       "      <th>Date</th>\n",
       "      <th>Customer ID</th>\n",
       "      <th>Gender</th>\n",
       "      <th>Age</th>\n",
       "      <th>Product Category</th>\n",
       "      <th>Quantity</th>\n",
       "      <th>Price per Unit</th>\n",
       "      <th>Total Amount</th>\n",
       "      <th>total_revenue</th>\n",
       "      <th>Month</th>\n",
       "    </tr>\n",
       "  </thead>\n",
       "  <tbody>\n",
       "    <tr>\n",
       "      <th>0</th>\n",
       "      <td>0</td>\n",
       "      <td>1</td>\n",
       "      <td>2023-11-24</td>\n",
       "      <td>CUST001</td>\n",
       "      <td>Male</td>\n",
       "      <td>34</td>\n",
       "      <td>BEAUTY</td>\n",
       "      <td>3</td>\n",
       "      <td>50</td>\n",
       "      <td>150</td>\n",
       "      <td>150</td>\n",
       "      <td>November</td>\n",
       "    </tr>\n",
       "    <tr>\n",
       "      <th>1</th>\n",
       "      <td>1</td>\n",
       "      <td>2</td>\n",
       "      <td>2023-02-27</td>\n",
       "      <td>CUST002</td>\n",
       "      <td>Female</td>\n",
       "      <td>26</td>\n",
       "      <td>CLOTHING</td>\n",
       "      <td>2</td>\n",
       "      <td>500</td>\n",
       "      <td>1000</td>\n",
       "      <td>1000</td>\n",
       "      <td>February</td>\n",
       "    </tr>\n",
       "    <tr>\n",
       "      <th>2</th>\n",
       "      <td>2</td>\n",
       "      <td>3</td>\n",
       "      <td>2023-01-13</td>\n",
       "      <td>CUST003</td>\n",
       "      <td>Male</td>\n",
       "      <td>50</td>\n",
       "      <td>ELECTRONICS</td>\n",
       "      <td>1</td>\n",
       "      <td>30</td>\n",
       "      <td>30</td>\n",
       "      <td>30</td>\n",
       "      <td>January</td>\n",
       "    </tr>\n",
       "    <tr>\n",
       "      <th>3</th>\n",
       "      <td>3</td>\n",
       "      <td>4</td>\n",
       "      <td>2023-05-21</td>\n",
       "      <td>CUST004</td>\n",
       "      <td>Male</td>\n",
       "      <td>37</td>\n",
       "      <td>CLOTHING</td>\n",
       "      <td>1</td>\n",
       "      <td>500</td>\n",
       "      <td>500</td>\n",
       "      <td>500</td>\n",
       "      <td>May</td>\n",
       "    </tr>\n",
       "    <tr>\n",
       "      <th>4</th>\n",
       "      <td>4</td>\n",
       "      <td>5</td>\n",
       "      <td>2023-05-06</td>\n",
       "      <td>CUST005</td>\n",
       "      <td>Male</td>\n",
       "      <td>30</td>\n",
       "      <td>BEAUTY</td>\n",
       "      <td>2</td>\n",
       "      <td>50</td>\n",
       "      <td>100</td>\n",
       "      <td>100</td>\n",
       "      <td>May</td>\n",
       "    </tr>\n",
       "  </tbody>\n",
       "</table>\n",
       "</div>"
      ],
      "text/plain": [
       "   Unnamed: 0  Transaction ID       Date Customer ID  Gender  Age  \\\n",
       "0           0               1 2023-11-24     CUST001    Male   34   \n",
       "1           1               2 2023-02-27     CUST002  Female   26   \n",
       "2           2               3 2023-01-13     CUST003    Male   50   \n",
       "3           3               4 2023-05-21     CUST004    Male   37   \n",
       "4           4               5 2023-05-06     CUST005    Male   30   \n",
       "\n",
       "  Product Category  Quantity  Price per Unit  Total Amount  total_revenue  \\\n",
       "0           BEAUTY         3              50           150            150   \n",
       "1         CLOTHING         2             500          1000           1000   \n",
       "2      ELECTRONICS         1              30            30             30   \n",
       "3         CLOTHING         1             500           500            500   \n",
       "4           BEAUTY         2              50           100            100   \n",
       "\n",
       "      Month  \n",
       "0  November  \n",
       "1  February  \n",
       "2   January  \n",
       "3       May  \n",
       "4       May  "
      ]
     },
     "execution_count": 173,
     "metadata": {},
     "output_type": "execute_result"
    }
   ],
   "source": [
    "df.head()"
   ]
  },
  {
   "cell_type": "code",
   "execution_count": null,
   "id": "2affe09b-3b41-4447-80b5-e3d417a59913",
   "metadata": {},
   "outputs": [],
   "source": []
  }
 ],
 "metadata": {
  "kernelspec": {
   "display_name": "Python 3 (ipykernel)",
   "language": "python",
   "name": "python3"
  },
  "language_info": {
   "codemirror_mode": {
    "name": "ipython",
    "version": 3
   },
   "file_extension": ".py",
   "mimetype": "text/x-python",
   "name": "python",
   "nbconvert_exporter": "python",
   "pygments_lexer": "ipython3",
   "version": "3.9.13"
  }
 },
 "nbformat": 4,
 "nbformat_minor": 5
}
