{
 "cells": [
  {
   "cell_type": "markdown",
   "id": "dcf9ce29-eb8a-45c6-a49d-ae60b7b1e694",
   "metadata": {},
   "source": [
    "<h1 align=\"center\">Python Assessment - week1</h1>"
   ]
  },
  {
   "cell_type": "markdown",
   "id": "3fb0a4c4-8c2d-43d2-9dd4-79e74e5354f7",
   "metadata": {},
   "source": [
    "## Question 2: Online Retail System Analytics "
   ]
  },
  {
   "cell_type": "markdown",
   "id": "fab05888-8bab-4e6e-9aab-1545e52d4f5c",
   "metadata": {},
   "source": [
    "### 1. Environment Setup and Data Load:"
   ]
  },
  {
   "cell_type": "code",
   "execution_count": 1,
   "id": "474432da-a880-4401-a52f-586f73c71c8d",
   "metadata": {},
   "outputs": [],
   "source": [
    "import pandas as pd\n",
    "import numpy as np"
   ]
  },
  {
   "cell_type": "code",
   "execution_count": 2,
   "id": "fe5930f1-fb3b-49d6-9f1e-6d950bf5fe5f",
   "metadata": {},
   "outputs": [],
   "source": [
    "df = pd.read_excel(\"Online Retail.xlsx\")"
   ]
  },
  {
   "cell_type": "code",
   "execution_count": 3,
   "id": "b0344eab-ea0d-49d9-85f5-0f045ea2c225",
   "metadata": {},
   "outputs": [
    {
     "data": {
      "text/html": [
       "<div>\n",
       "<style scoped>\n",
       "    .dataframe tbody tr th:only-of-type {\n",
       "        vertical-align: middle;\n",
       "    }\n",
       "\n",
       "    .dataframe tbody tr th {\n",
       "        vertical-align: top;\n",
       "    }\n",
       "\n",
       "    .dataframe thead th {\n",
       "        text-align: right;\n",
       "    }\n",
       "</style>\n",
       "<table border=\"1\" class=\"dataframe\">\n",
       "  <thead>\n",
       "    <tr style=\"text-align: right;\">\n",
       "      <th></th>\n",
       "      <th>InvoiceNo</th>\n",
       "      <th>StockCode</th>\n",
       "      <th>Description</th>\n",
       "      <th>Quantity</th>\n",
       "      <th>InvoiceDate</th>\n",
       "      <th>UnitPrice</th>\n",
       "      <th>CustomerID</th>\n",
       "      <th>Country</th>\n",
       "    </tr>\n",
       "  </thead>\n",
       "  <tbody>\n",
       "    <tr>\n",
       "      <th>0</th>\n",
       "      <td>536365</td>\n",
       "      <td>85123A</td>\n",
       "      <td>WHITE HANGING HEART T-LIGHT HOLDER</td>\n",
       "      <td>6</td>\n",
       "      <td>2010-12-01 08:26:00</td>\n",
       "      <td>2.55</td>\n",
       "      <td>17850.0</td>\n",
       "      <td>United Kingdom</td>\n",
       "    </tr>\n",
       "    <tr>\n",
       "      <th>1</th>\n",
       "      <td>536365</td>\n",
       "      <td>71053</td>\n",
       "      <td>WHITE METAL LANTERN</td>\n",
       "      <td>6</td>\n",
       "      <td>2010-12-01 08:26:00</td>\n",
       "      <td>3.39</td>\n",
       "      <td>17850.0</td>\n",
       "      <td>United Kingdom</td>\n",
       "    </tr>\n",
       "    <tr>\n",
       "      <th>2</th>\n",
       "      <td>536365</td>\n",
       "      <td>84406B</td>\n",
       "      <td>CREAM CUPID HEARTS COAT HANGER</td>\n",
       "      <td>8</td>\n",
       "      <td>2010-12-01 08:26:00</td>\n",
       "      <td>2.75</td>\n",
       "      <td>17850.0</td>\n",
       "      <td>United Kingdom</td>\n",
       "    </tr>\n",
       "    <tr>\n",
       "      <th>3</th>\n",
       "      <td>536365</td>\n",
       "      <td>84029G</td>\n",
       "      <td>KNITTED UNION FLAG HOT WATER BOTTLE</td>\n",
       "      <td>6</td>\n",
       "      <td>2010-12-01 08:26:00</td>\n",
       "      <td>3.39</td>\n",
       "      <td>17850.0</td>\n",
       "      <td>United Kingdom</td>\n",
       "    </tr>\n",
       "    <tr>\n",
       "      <th>4</th>\n",
       "      <td>536365</td>\n",
       "      <td>84029E</td>\n",
       "      <td>RED WOOLLY HOTTIE WHITE HEART.</td>\n",
       "      <td>6</td>\n",
       "      <td>2010-12-01 08:26:00</td>\n",
       "      <td>3.39</td>\n",
       "      <td>17850.0</td>\n",
       "      <td>United Kingdom</td>\n",
       "    </tr>\n",
       "  </tbody>\n",
       "</table>\n",
       "</div>"
      ],
      "text/plain": [
       "  InvoiceNo StockCode                          Description  Quantity  \\\n",
       "0    536365    85123A   WHITE HANGING HEART T-LIGHT HOLDER         6   \n",
       "1    536365     71053                  WHITE METAL LANTERN         6   \n",
       "2    536365    84406B       CREAM CUPID HEARTS COAT HANGER         8   \n",
       "3    536365    84029G  KNITTED UNION FLAG HOT WATER BOTTLE         6   \n",
       "4    536365    84029E       RED WOOLLY HOTTIE WHITE HEART.         6   \n",
       "\n",
       "          InvoiceDate  UnitPrice  CustomerID         Country  \n",
       "0 2010-12-01 08:26:00       2.55     17850.0  United Kingdom  \n",
       "1 2010-12-01 08:26:00       3.39     17850.0  United Kingdom  \n",
       "2 2010-12-01 08:26:00       2.75     17850.0  United Kingdom  \n",
       "3 2010-12-01 08:26:00       3.39     17850.0  United Kingdom  \n",
       "4 2010-12-01 08:26:00       3.39     17850.0  United Kingdom  "
      ]
     },
     "execution_count": 3,
     "metadata": {},
     "output_type": "execute_result"
    }
   ],
   "source": [
    "df.head()"
   ]
  },
  {
   "cell_type": "code",
   "execution_count": 4,
   "id": "a21b8679-f521-48b4-b6e4-07a96d8a00fe",
   "metadata": {},
   "outputs": [
    {
     "data": {
      "text/plain": [
       "(541909, 8)"
      ]
     },
     "execution_count": 4,
     "metadata": {},
     "output_type": "execute_result"
    }
   ],
   "source": [
    "df.shape"
   ]
  },
  {
   "cell_type": "markdown",
   "id": "029a9edf-1121-49f5-bb51-8324088083ee",
   "metadata": {},
   "source": [
    "### 2. Basic Validation:"
   ]
  },
  {
   "cell_type": "code",
   "execution_count": 5,
   "id": "485f2398-bc2a-4930-9406-6b214f979138",
   "metadata": {},
   "outputs": [],
   "source": [
    "df = df[(df.Quantity>0)&(df.UnitPrice>0)]"
   ]
  },
  {
   "cell_type": "code",
   "execution_count": 6,
   "id": "232ce819-2252-4650-9add-d7b49295c750",
   "metadata": {},
   "outputs": [
    {
     "data": {
      "text/html": [
       "<div>\n",
       "<style scoped>\n",
       "    .dataframe tbody tr th:only-of-type {\n",
       "        vertical-align: middle;\n",
       "    }\n",
       "\n",
       "    .dataframe tbody tr th {\n",
       "        vertical-align: top;\n",
       "    }\n",
       "\n",
       "    .dataframe thead th {\n",
       "        text-align: right;\n",
       "    }\n",
       "</style>\n",
       "<table border=\"1\" class=\"dataframe\">\n",
       "  <thead>\n",
       "    <tr style=\"text-align: right;\">\n",
       "      <th></th>\n",
       "      <th>InvoiceNo</th>\n",
       "      <th>StockCode</th>\n",
       "      <th>Description</th>\n",
       "      <th>Quantity</th>\n",
       "      <th>InvoiceDate</th>\n",
       "      <th>UnitPrice</th>\n",
       "      <th>CustomerID</th>\n",
       "      <th>Country</th>\n",
       "    </tr>\n",
       "  </thead>\n",
       "  <tbody>\n",
       "    <tr>\n",
       "      <th>0</th>\n",
       "      <td>536365</td>\n",
       "      <td>85123A</td>\n",
       "      <td>WHITE HANGING HEART T-LIGHT HOLDER</td>\n",
       "      <td>6</td>\n",
       "      <td>2010-12-01 08:26:00</td>\n",
       "      <td>2.55</td>\n",
       "      <td>17850.0</td>\n",
       "      <td>United Kingdom</td>\n",
       "    </tr>\n",
       "    <tr>\n",
       "      <th>1</th>\n",
       "      <td>536365</td>\n",
       "      <td>71053</td>\n",
       "      <td>WHITE METAL LANTERN</td>\n",
       "      <td>6</td>\n",
       "      <td>2010-12-01 08:26:00</td>\n",
       "      <td>3.39</td>\n",
       "      <td>17850.0</td>\n",
       "      <td>United Kingdom</td>\n",
       "    </tr>\n",
       "    <tr>\n",
       "      <th>2</th>\n",
       "      <td>536365</td>\n",
       "      <td>84406B</td>\n",
       "      <td>CREAM CUPID HEARTS COAT HANGER</td>\n",
       "      <td>8</td>\n",
       "      <td>2010-12-01 08:26:00</td>\n",
       "      <td>2.75</td>\n",
       "      <td>17850.0</td>\n",
       "      <td>United Kingdom</td>\n",
       "    </tr>\n",
       "    <tr>\n",
       "      <th>3</th>\n",
       "      <td>536365</td>\n",
       "      <td>84029G</td>\n",
       "      <td>KNITTED UNION FLAG HOT WATER BOTTLE</td>\n",
       "      <td>6</td>\n",
       "      <td>2010-12-01 08:26:00</td>\n",
       "      <td>3.39</td>\n",
       "      <td>17850.0</td>\n",
       "      <td>United Kingdom</td>\n",
       "    </tr>\n",
       "    <tr>\n",
       "      <th>4</th>\n",
       "      <td>536365</td>\n",
       "      <td>84029E</td>\n",
       "      <td>RED WOOLLY HOTTIE WHITE HEART.</td>\n",
       "      <td>6</td>\n",
       "      <td>2010-12-01 08:26:00</td>\n",
       "      <td>3.39</td>\n",
       "      <td>17850.0</td>\n",
       "      <td>United Kingdom</td>\n",
       "    </tr>\n",
       "    <tr>\n",
       "      <th>...</th>\n",
       "      <td>...</td>\n",
       "      <td>...</td>\n",
       "      <td>...</td>\n",
       "      <td>...</td>\n",
       "      <td>...</td>\n",
       "      <td>...</td>\n",
       "      <td>...</td>\n",
       "      <td>...</td>\n",
       "    </tr>\n",
       "    <tr>\n",
       "      <th>541904</th>\n",
       "      <td>581587</td>\n",
       "      <td>22613</td>\n",
       "      <td>PACK OF 20 SPACEBOY NAPKINS</td>\n",
       "      <td>12</td>\n",
       "      <td>2011-12-09 12:50:00</td>\n",
       "      <td>0.85</td>\n",
       "      <td>12680.0</td>\n",
       "      <td>France</td>\n",
       "    </tr>\n",
       "    <tr>\n",
       "      <th>541905</th>\n",
       "      <td>581587</td>\n",
       "      <td>22899</td>\n",
       "      <td>CHILDREN'S APRON DOLLY GIRL</td>\n",
       "      <td>6</td>\n",
       "      <td>2011-12-09 12:50:00</td>\n",
       "      <td>2.10</td>\n",
       "      <td>12680.0</td>\n",
       "      <td>France</td>\n",
       "    </tr>\n",
       "    <tr>\n",
       "      <th>541906</th>\n",
       "      <td>581587</td>\n",
       "      <td>23254</td>\n",
       "      <td>CHILDRENS CUTLERY DOLLY GIRL</td>\n",
       "      <td>4</td>\n",
       "      <td>2011-12-09 12:50:00</td>\n",
       "      <td>4.15</td>\n",
       "      <td>12680.0</td>\n",
       "      <td>France</td>\n",
       "    </tr>\n",
       "    <tr>\n",
       "      <th>541907</th>\n",
       "      <td>581587</td>\n",
       "      <td>23255</td>\n",
       "      <td>CHILDRENS CUTLERY CIRCUS PARADE</td>\n",
       "      <td>4</td>\n",
       "      <td>2011-12-09 12:50:00</td>\n",
       "      <td>4.15</td>\n",
       "      <td>12680.0</td>\n",
       "      <td>France</td>\n",
       "    </tr>\n",
       "    <tr>\n",
       "      <th>541908</th>\n",
       "      <td>581587</td>\n",
       "      <td>22138</td>\n",
       "      <td>BAKING SET 9 PIECE RETROSPOT</td>\n",
       "      <td>3</td>\n",
       "      <td>2011-12-09 12:50:00</td>\n",
       "      <td>4.95</td>\n",
       "      <td>12680.0</td>\n",
       "      <td>France</td>\n",
       "    </tr>\n",
       "  </tbody>\n",
       "</table>\n",
       "<p>530104 rows × 8 columns</p>\n",
       "</div>"
      ],
      "text/plain": [
       "       InvoiceNo StockCode                          Description  Quantity  \\\n",
       "0         536365    85123A   WHITE HANGING HEART T-LIGHT HOLDER         6   \n",
       "1         536365     71053                  WHITE METAL LANTERN         6   \n",
       "2         536365    84406B       CREAM CUPID HEARTS COAT HANGER         8   \n",
       "3         536365    84029G  KNITTED UNION FLAG HOT WATER BOTTLE         6   \n",
       "4         536365    84029E       RED WOOLLY HOTTIE WHITE HEART.         6   \n",
       "...          ...       ...                                  ...       ...   \n",
       "541904    581587     22613          PACK OF 20 SPACEBOY NAPKINS        12   \n",
       "541905    581587     22899         CHILDREN'S APRON DOLLY GIRL          6   \n",
       "541906    581587     23254        CHILDRENS CUTLERY DOLLY GIRL          4   \n",
       "541907    581587     23255      CHILDRENS CUTLERY CIRCUS PARADE         4   \n",
       "541908    581587     22138        BAKING SET 9 PIECE RETROSPOT          3   \n",
       "\n",
       "               InvoiceDate  UnitPrice  CustomerID         Country  \n",
       "0      2010-12-01 08:26:00       2.55     17850.0  United Kingdom  \n",
       "1      2010-12-01 08:26:00       3.39     17850.0  United Kingdom  \n",
       "2      2010-12-01 08:26:00       2.75     17850.0  United Kingdom  \n",
       "3      2010-12-01 08:26:00       3.39     17850.0  United Kingdom  \n",
       "4      2010-12-01 08:26:00       3.39     17850.0  United Kingdom  \n",
       "...                    ...        ...         ...             ...  \n",
       "541904 2011-12-09 12:50:00       0.85     12680.0          France  \n",
       "541905 2011-12-09 12:50:00       2.10     12680.0          France  \n",
       "541906 2011-12-09 12:50:00       4.15     12680.0          France  \n",
       "541907 2011-12-09 12:50:00       4.15     12680.0          France  \n",
       "541908 2011-12-09 12:50:00       4.95     12680.0          France  \n",
       "\n",
       "[530104 rows x 8 columns]"
      ]
     },
     "execution_count": 6,
     "metadata": {},
     "output_type": "execute_result"
    }
   ],
   "source": [
    "df"
   ]
  },
  {
   "cell_type": "code",
   "execution_count": 7,
   "id": "ad8c5c24-da21-4239-b1fe-42d451990e68",
   "metadata": {},
   "outputs": [
    {
     "data": {
      "text/plain": [
       "(530104, 8)"
      ]
     },
     "execution_count": 7,
     "metadata": {},
     "output_type": "execute_result"
    }
   ],
   "source": [
    "df.shape"
   ]
  },
  {
   "cell_type": "markdown",
   "id": "3ade15fe-7374-4204-834d-59357abfbbc1",
   "metadata": {},
   "source": [
    "dropped rows from 541909 to 540104"
   ]
  },
  {
   "cell_type": "code",
   "execution_count": 80,
   "id": "c2ae31d1-09e3-440d-9a97-88a0062eb407",
   "metadata": {},
   "outputs": [],
   "source": [
    "df.CustomerID = df.CustomerID.astype(str)"
   ]
  },
  {
   "cell_type": "markdown",
   "id": "c1022eae-f5a3-467e-a3a6-16f5b4794241",
   "metadata": {},
   "source": [
    "### 3. String and Data Operations:"
   ]
  },
  {
   "cell_type": "code",
   "execution_count": 26,
   "id": "44bc7331-ace8-4f16-9b1b-5a9d7035ac36",
   "metadata": {},
   "outputs": [],
   "source": [
    "df1 = df.copy()"
   ]
  },
  {
   "cell_type": "code",
   "execution_count": 27,
   "id": "5fc01b27-5b08-47fc-a771-f2fa9d0a9dca",
   "metadata": {},
   "outputs": [],
   "source": [
    "df1.CustomerID = df.CustomerID.astype(str)"
   ]
  },
  {
   "cell_type": "code",
   "execution_count": 31,
   "id": "e53746eb-f1c9-430b-82de-909965683764",
   "metadata": {},
   "outputs": [],
   "source": [
    "df1.Description = df.Description.str.strip()"
   ]
  },
  {
   "cell_type": "markdown",
   "id": "481314b8-cb3e-4aea-8b3d-830f8a71a437",
   "metadata": {},
   "source": [
    "### 4. Reusable Function and File Handling:"
   ]
  },
  {
   "cell_type": "code",
   "execution_count": 28,
   "id": "a039eaa6-0484-473d-b530-4ebdeabc7a06",
   "metadata": {},
   "outputs": [],
   "source": [
    "def clean_row(row):\n",
    "    if row>0:\n",
    "        return True\n",
    "    return False"
   ]
  },
  {
   "cell_type": "code",
   "execution_count": 30,
   "id": "7cd16239-69b1-4daa-8b59-bfd4ee93b431",
   "metadata": {},
   "outputs": [],
   "source": [
    "df1 = df1[df1.UnitPrice.apply(clean_row)]\n",
    "df1 = df1[df1.Quantity.apply(clean_row)]"
   ]
  },
  {
   "cell_type": "markdown",
   "id": "109a2599-7fa3-4e08-aaec-3a4d1e2d0321",
   "metadata": {},
   "source": [
    "### 5. Modeling with Classes:"
   ]
  },
  {
   "cell_type": "code",
   "execution_count": 33,
   "id": "ab5d677d-e668-4fbf-986f-1a58c1d2d40d",
   "metadata": {},
   "outputs": [],
   "source": [
    "class Product:\n",
    "    def __init__(self,  stock_code, description):\n",
    "        self.stock_code = stock_code\n",
    "        self.description = description\n",
    "        self.total_units_sold = 0\n",
    "        self.products_sold = []\n",
    "        \n",
    "    def update_units(self, quantity):\n",
    "        self.products_sold.append((self.stock_code, quantity))\n",
    "        self.total_units_sold += quantity\n",
    "        "
   ]
  },
  {
   "cell_type": "code",
   "execution_count": 34,
   "id": "f2c591ef-5749-4dfe-8f09-a7f8ef41d7dc",
   "metadata": {},
   "outputs": [],
   "source": [
    "class Customer:\n",
    "    def __init__(self,  customer_id, country):\n",
    "        self.customer_id = customer_id\n",
    "        self.country = country\n",
    "        self.total_spent = 0\n",
    "        self.purchases = []\n",
    "        \n",
    "    def add_purchase(self, amount):\n",
    "        self.purchases.append((self.customer_id, amount))\n",
    "        self.total_spent += amount"
   ]
  },
  {
   "cell_type": "markdown",
   "id": "e6f71e63-ff9f-43ad-be07-8f41714b626f",
   "metadata": {},
   "source": [
    "### 6. Inheritance and Encapsulation:"
   ]
  },
  {
   "cell_type": "code",
   "execution_count": 57,
   "id": "60aee46a-948b-4392-9e4d-8fa16bb348e7",
   "metadata": {},
   "outputs": [],
   "source": [
    "class VIPCustomer(Customer):\n",
    "    def __init__(self, customer_id, country):\n",
    "        super().__init__(customer_id, country)\n",
    "        self.discount = 10\n",
    "        \n",
    "    def add_purchase(self, amount):\n",
    "        self.total_spent+=amount\n",
    "        self.discount=(self.discount/100)*self.total_spent\n",
    "        self.total_spent = self.total_spent - self.discount\n",
    "        print(f\"Total amount: {self.total_spent}\")"
   ]
  },
  {
   "cell_type": "code",
   "execution_count": 58,
   "id": "840461e7-80fc-449e-9cfc-03a860da0c4f",
   "metadata": {},
   "outputs": [],
   "source": [
    "vip = VIPCustomer(1234, \"India\")"
   ]
  },
  {
   "cell_type": "code",
   "execution_count": 59,
   "id": "3c5ff4d0-9b7b-4b1d-8ef0-5dc1ca37428b",
   "metadata": {},
   "outputs": [
    {
     "name": "stdout",
     "output_type": "stream",
     "text": [
      "Total amount: 1080.0\n"
     ]
    }
   ],
   "source": [
    "vip.add_purchase(1200)"
   ]
  },
  {
   "cell_type": "markdown",
   "id": "ff7baf78-1457-4eab-8cad-dd17fc923b5c",
   "metadata": {},
   "source": [
    "### 7. Error and Logging:"
   ]
  },
  {
   "cell_type": "code",
   "execution_count": 79,
   "id": "b3da52b6-6447-45a6-909c-0c10874417ad",
   "metadata": {},
   "outputs": [],
   "source": [
    "try:\n",
    "    df.CustomerID = \"\"\n",
    "    df.Quantity = 23\n",
    "    df.UnitPrice = 293\n",
    "except Exception as e:\n",
    "    print(e)\n",
    "    with open(\"erros.log\",\"w\") as f:\n",
    "        f.write(e)\n",
    "except ValueError as ve:\n",
    "    print(ve)\n",
    "    "
   ]
  },
  {
   "cell_type": "markdown",
   "id": "8c39610a-f5ef-4af4-a30e-0b10dc1252a4",
   "metadata": {},
   "source": [
    "### 8. Revenue Calculations with NumPy:"
   ]
  },
  {
   "cell_type": "code",
   "execution_count": 60,
   "id": "e922b880-ed1e-40a3-9c8f-9c4559b7de91",
   "metadata": {},
   "outputs": [],
   "source": [
    "quantity = np.array(df.Quantity)\n",
    "unit_price = np.array(df.UnitPrice)"
   ]
  },
  {
   "cell_type": "code",
   "execution_count": 67,
   "id": "a807ba98-f238-4f3b-aa22-240ee348a23d",
   "metadata": {},
   "outputs": [],
   "source": [
    "revenue = quantity*unit_price"
   ]
  },
  {
   "cell_type": "code",
   "execution_count": 68,
   "id": "6112fb3d-fc26-48c8-be9f-f2e081a03338",
   "metadata": {},
   "outputs": [
    {
     "data": {
      "text/plain": [
       "array([15.3 , 20.34, 22.  , ..., 16.6 , 16.6 , 14.85])"
      ]
     },
     "execution_count": 68,
     "metadata": {},
     "output_type": "execute_result"
    }
   ],
   "source": [
    "revenue"
   ]
  },
  {
   "cell_type": "code",
   "execution_count": 69,
   "id": "367edbee-966e-4a4d-9119-7318de150f1a",
   "metadata": {},
   "outputs": [],
   "source": [
    "df[\"Revenue\"] = revenue"
   ]
  },
  {
   "cell_type": "code",
   "execution_count": 61,
   "id": "51f2dc38-c2df-47a7-9cad-92151d74f6f1",
   "metadata": {},
   "outputs": [
    {
     "data": {
      "text/plain": [
       "10.542037034242338"
      ]
     },
     "execution_count": 61,
     "metadata": {},
     "output_type": "execute_result"
    }
   ],
   "source": [
    "np.mean(quantity)"
   ]
  },
  {
   "cell_type": "code",
   "execution_count": 62,
   "id": "570af9cf-ef25-46ff-9bbe-3e234ea3e599",
   "metadata": {},
   "outputs": [
    {
     "data": {
      "text/plain": [
       "80995"
      ]
     },
     "execution_count": 62,
     "metadata": {},
     "output_type": "execute_result"
    }
   ],
   "source": [
    "np.max(quantity)"
   ]
  },
  {
   "cell_type": "code",
   "execution_count": 63,
   "id": "45b98af4-8a69-400e-9f4b-bdf2e7debe4b",
   "metadata": {},
   "outputs": [
    {
     "data": {
      "text/plain": [
       "1"
      ]
     },
     "execution_count": 63,
     "metadata": {},
     "output_type": "execute_result"
    }
   ],
   "source": [
    "np.min(quantity)"
   ]
  },
  {
   "cell_type": "code",
   "execution_count": 64,
   "id": "f3eee6a4-ea32-412b-b3ab-ee46ca61e284",
   "metadata": {},
   "outputs": [
    {
     "data": {
      "text/plain": [
       "3.90762524712132"
      ]
     },
     "execution_count": 64,
     "metadata": {},
     "output_type": "execute_result"
    }
   ],
   "source": [
    "np.mean(unit_price)"
   ]
  },
  {
   "cell_type": "code",
   "execution_count": 65,
   "id": "b24bc5c1-f97d-420a-90e0-7fb725b9a386",
   "metadata": {},
   "outputs": [
    {
     "data": {
      "text/plain": [
       "13541.33"
      ]
     },
     "execution_count": 65,
     "metadata": {},
     "output_type": "execute_result"
    }
   ],
   "source": [
    "np.max(unit_price)"
   ]
  },
  {
   "cell_type": "code",
   "execution_count": 66,
   "id": "8e325f0f-ee55-4095-9b87-e35117702c14",
   "metadata": {},
   "outputs": [
    {
     "data": {
      "text/plain": [
       "0.001"
      ]
     },
     "execution_count": 66,
     "metadata": {},
     "output_type": "execute_result"
    }
   ],
   "source": [
    "np.min(unit_price)"
   ]
  },
  {
   "cell_type": "markdown",
   "id": "86be69db-846a-41a0-8f64-93c9640f2962",
   "metadata": {},
   "source": [
    "### 9. Data Aggregation with Pandas:"
   ]
  },
  {
   "cell_type": "code",
   "execution_count": 71,
   "id": "2cdf4c14-3715-4b67-8420-fe4bf8231f6b",
   "metadata": {},
   "outputs": [],
   "source": [
    "total_revenue = df.groupby([\"Country\",\"StockCode\"])[\"Revenue\"].sum()"
   ]
  },
  {
   "cell_type": "code",
   "execution_count": 75,
   "id": "966cfb63-379c-443e-aaff-4e87205d5bb6",
   "metadata": {},
   "outputs": [],
   "source": [
    "df_res=pd.DataFrame(total_revenue)"
   ]
  },
  {
   "cell_type": "markdown",
   "id": "b24f7466-a037-4569-92d7-0f4f223ffede",
   "metadata": {},
   "source": [
    "### 10. Export and Reporting:"
   ]
  },
  {
   "cell_type": "code",
   "execution_count": 76,
   "id": "5fb8ec8e-b1ef-4e60-9bc1-0c6d7bf469e7",
   "metadata": {},
   "outputs": [],
   "source": [
    "df_res.to_csv(\"Summarized_revenue.csv\")"
   ]
  },
  {
   "cell_type": "code",
   "execution_count": 88,
   "id": "7f13c409-9c47-472e-9e9e-a37102e961f6",
   "metadata": {},
   "outputs": [
    {
     "data": {
      "text/html": [
       "<div>\n",
       "<style scoped>\n",
       "    .dataframe tbody tr th:only-of-type {\n",
       "        vertical-align: middle;\n",
       "    }\n",
       "\n",
       "    .dataframe tbody tr th {\n",
       "        vertical-align: top;\n",
       "    }\n",
       "\n",
       "    .dataframe thead th {\n",
       "        text-align: right;\n",
       "    }\n",
       "</style>\n",
       "<table border=\"1\" class=\"dataframe\">\n",
       "  <thead>\n",
       "    <tr style=\"text-align: right;\">\n",
       "      <th></th>\n",
       "      <th></th>\n",
       "      <th>Revenue</th>\n",
       "    </tr>\n",
       "    <tr>\n",
       "      <th>Country</th>\n",
       "      <th>StockCode</th>\n",
       "      <th></th>\n",
       "    </tr>\n",
       "  </thead>\n",
       "  <tbody>\n",
       "    <tr>\n",
       "      <th rowspan=\"5\" valign=\"top\">Australia</th>\n",
       "      <th>15036</th>\n",
       "      <td>432.00</td>\n",
       "    </tr>\n",
       "    <tr>\n",
       "      <th>20665</th>\n",
       "      <td>17.70</td>\n",
       "    </tr>\n",
       "    <tr>\n",
       "      <th>20675</th>\n",
       "      <td>228.96</td>\n",
       "    </tr>\n",
       "    <tr>\n",
       "      <th>20676</th>\n",
       "      <td>228.96</td>\n",
       "    </tr>\n",
       "    <tr>\n",
       "      <th>20677</th>\n",
       "      <td>228.96</td>\n",
       "    </tr>\n",
       "    <tr>\n",
       "      <th>...</th>\n",
       "      <th>...</th>\n",
       "      <td>...</td>\n",
       "    </tr>\n",
       "    <tr>\n",
       "      <th rowspan=\"5\" valign=\"top\">Unspecified</th>\n",
       "      <th>85049A</th>\n",
       "      <td>1.25</td>\n",
       "    </tr>\n",
       "    <tr>\n",
       "      <th>85179A</th>\n",
       "      <td>4.65</td>\n",
       "    </tr>\n",
       "    <tr>\n",
       "      <th>85179C</th>\n",
       "      <td>4.65</td>\n",
       "    </tr>\n",
       "    <tr>\n",
       "      <th>85180A</th>\n",
       "      <td>9.30</td>\n",
       "    </tr>\n",
       "    <tr>\n",
       "      <th>85180B</th>\n",
       "      <td>4.65</td>\n",
       "    </tr>\n",
       "  </tbody>\n",
       "</table>\n",
       "<p>19658 rows × 1 columns</p>\n",
       "</div>"
      ],
      "text/plain": [
       "                       Revenue\n",
       "Country     StockCode         \n",
       "Australia   15036       432.00\n",
       "            20665        17.70\n",
       "            20675       228.96\n",
       "            20676       228.96\n",
       "            20677       228.96\n",
       "...                        ...\n",
       "Unspecified 85049A        1.25\n",
       "            85179A        4.65\n",
       "            85179C        4.65\n",
       "            85180A        9.30\n",
       "            85180B        4.65\n",
       "\n",
       "[19658 rows x 1 columns]"
      ]
     },
     "execution_count": 88,
     "metadata": {},
     "output_type": "execute_result"
    }
   ],
   "source": [
    "df_res"
   ]
  },
  {
   "cell_type": "markdown",
   "id": "fee901f8-3891-4d71-9992-e4912b0281e8",
   "metadata": {},
   "source": [
    "<h2 align=\"center\">🌻🌻🌻🌺🌻🌻🌻</h2>"
   ]
  }
 ],
 "metadata": {
  "kernelspec": {
   "display_name": "Python 3 (ipykernel)",
   "language": "python",
   "name": "python3"
  },
  "language_info": {
   "codemirror_mode": {
    "name": "ipython",
    "version": 3
   },
   "file_extension": ".py",
   "mimetype": "text/x-python",
   "name": "python",
   "nbconvert_exporter": "python",
   "pygments_lexer": "ipython3",
   "version": "3.9.13"
  }
 },
 "nbformat": 4,
 "nbformat_minor": 5
}
