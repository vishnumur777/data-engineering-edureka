{
 "cells": [
  {
   "cell_type": "markdown",
   "id": "993da57b-625a-4e20-a027-fb64933a7cc0",
   "metadata": {},
   "source": [
    "<h1 align=\"center\">Python Assessment - week1</h1>"
   ]
  },
  {
   "cell_type": "markdown",
   "id": "a6eb182a-0608-45e4-8f17-75105416ae82",
   "metadata": {},
   "source": [
    "# Question 1: Local Retail Transaction Analyzer"
   ]
  },
  {
   "cell_type": "code",
   "execution_count": 4,
   "id": "da9fb593-989d-4132-9617-7f2f07e7b2f7",
   "metadata": {},
   "outputs": [],
   "source": [
    "import pandas as pd\n",
    "import numpy as np"
   ]
  },
  {
   "cell_type": "markdown",
   "id": "df8b40af-2fa7-41a4-8f09-3f9607f19405",
   "metadata": {},
   "source": [
    "### 1. Load & Inspect Data:"
   ]
  },
  {
   "cell_type": "code",
   "execution_count": 5,
   "id": "cd67ac7d-a41d-410e-ad21-dae423abc623",
   "metadata": {},
   "outputs": [
    {
     "data": {
      "text/plain": [
       "['Retail_Data.csv',\n",
       " 'week1-Q1.ipynb',\n",
       " '.ipynb_checkpoints',\n",
       " 'week2-Q2.ipynb',\n",
       " 'Online Retail.xlsx',\n",
       " 'Cleaned_Retail_Data.csv']"
      ]
     },
     "execution_count": 5,
     "metadata": {},
     "output_type": "execute_result"
    }
   ],
   "source": [
    "import os\n",
    "present_working_directory = os.getcwd()\n",
    "os.listdir()"
   ]
  },
  {
   "cell_type": "code",
   "execution_count": 12,
   "id": "3d7ba72b-bbf9-4d06-ac32-4a0a2aec5f20",
   "metadata": {},
   "outputs": [
    {
     "data": {
      "text/plain": [
       "'/home/varunm15t38hedu/assets/week1'"
      ]
     },
     "execution_count": 12,
     "metadata": {},
     "output_type": "execute_result"
    }
   ],
   "source": [
    "present_working_directory"
   ]
  },
  {
   "cell_type": "code",
   "execution_count": 19,
   "id": "66bee3c4-602a-4550-b519-2047e16c1fc8",
   "metadata": {},
   "outputs": [],
   "source": [
    "try:\n",
    "    df = pd.read_csv(\"Retail_Data.csv\")\n",
    "    if os.getcwd() != present_working_directory:\n",
    "        raise FileNotFoundError\n",
    "\n",
    "except FileNotFoundError as e:\n",
    "    print(f\"File was not found the location: {present_working_directory}\")\n",
    "    print(e)"
   ]
  },
  {
   "cell_type": "markdown",
   "id": "895e8df4-2ac2-4a59-9985-5a2ce22ade39",
   "metadata": {},
   "source": [
    "### 2. Clean Invalid Records:"
   ]
  },
  {
   "cell_type": "code",
   "execution_count": 20,
   "id": "d33b6539-10f9-473e-8f17-1f5a5abe0f71",
   "metadata": {},
   "outputs": [
    {
     "data": {
      "text/html": [
       "<div>\n",
       "<style scoped>\n",
       "    .dataframe tbody tr th:only-of-type {\n",
       "        vertical-align: middle;\n",
       "    }\n",
       "\n",
       "    .dataframe tbody tr th {\n",
       "        vertical-align: top;\n",
       "    }\n",
       "\n",
       "    .dataframe thead th {\n",
       "        text-align: right;\n",
       "    }\n",
       "</style>\n",
       "<table border=\"1\" class=\"dataframe\">\n",
       "  <thead>\n",
       "    <tr style=\"text-align: right;\">\n",
       "      <th></th>\n",
       "      <th>Transaction ID</th>\n",
       "      <th>Age</th>\n",
       "      <th>Quantity</th>\n",
       "      <th>Price per Unit</th>\n",
       "      <th>Total Amount</th>\n",
       "    </tr>\n",
       "  </thead>\n",
       "  <tbody>\n",
       "    <tr>\n",
       "      <th>count</th>\n",
       "      <td>1000.000000</td>\n",
       "      <td>1000.00000</td>\n",
       "      <td>1000.000000</td>\n",
       "      <td>1000.000000</td>\n",
       "      <td>1000.000000</td>\n",
       "    </tr>\n",
       "    <tr>\n",
       "      <th>mean</th>\n",
       "      <td>500.500000</td>\n",
       "      <td>41.39200</td>\n",
       "      <td>2.514000</td>\n",
       "      <td>179.890000</td>\n",
       "      <td>456.000000</td>\n",
       "    </tr>\n",
       "    <tr>\n",
       "      <th>std</th>\n",
       "      <td>288.819436</td>\n",
       "      <td>13.68143</td>\n",
       "      <td>1.132734</td>\n",
       "      <td>189.681356</td>\n",
       "      <td>559.997632</td>\n",
       "    </tr>\n",
       "    <tr>\n",
       "      <th>min</th>\n",
       "      <td>1.000000</td>\n",
       "      <td>18.00000</td>\n",
       "      <td>1.000000</td>\n",
       "      <td>25.000000</td>\n",
       "      <td>25.000000</td>\n",
       "    </tr>\n",
       "    <tr>\n",
       "      <th>25%</th>\n",
       "      <td>250.750000</td>\n",
       "      <td>29.00000</td>\n",
       "      <td>1.000000</td>\n",
       "      <td>30.000000</td>\n",
       "      <td>60.000000</td>\n",
       "    </tr>\n",
       "    <tr>\n",
       "      <th>50%</th>\n",
       "      <td>500.500000</td>\n",
       "      <td>42.00000</td>\n",
       "      <td>3.000000</td>\n",
       "      <td>50.000000</td>\n",
       "      <td>135.000000</td>\n",
       "    </tr>\n",
       "    <tr>\n",
       "      <th>75%</th>\n",
       "      <td>750.250000</td>\n",
       "      <td>53.00000</td>\n",
       "      <td>4.000000</td>\n",
       "      <td>300.000000</td>\n",
       "      <td>900.000000</td>\n",
       "    </tr>\n",
       "    <tr>\n",
       "      <th>max</th>\n",
       "      <td>1000.000000</td>\n",
       "      <td>64.00000</td>\n",
       "      <td>4.000000</td>\n",
       "      <td>500.000000</td>\n",
       "      <td>2000.000000</td>\n",
       "    </tr>\n",
       "  </tbody>\n",
       "</table>\n",
       "</div>"
      ],
      "text/plain": [
       "       Transaction ID         Age     Quantity  Price per Unit  Total Amount\n",
       "count     1000.000000  1000.00000  1000.000000     1000.000000   1000.000000\n",
       "mean       500.500000    41.39200     2.514000      179.890000    456.000000\n",
       "std        288.819436    13.68143     1.132734      189.681356    559.997632\n",
       "min          1.000000    18.00000     1.000000       25.000000     25.000000\n",
       "25%        250.750000    29.00000     1.000000       30.000000     60.000000\n",
       "50%        500.500000    42.00000     3.000000       50.000000    135.000000\n",
       "75%        750.250000    53.00000     4.000000      300.000000    900.000000\n",
       "max       1000.000000    64.00000     4.000000      500.000000   2000.000000"
      ]
     },
     "execution_count": 20,
     "metadata": {},
     "output_type": "execute_result"
    }
   ],
   "source": [
    "df.describe()"
   ]
  },
  {
   "cell_type": "code",
   "execution_count": 21,
   "id": "9f50a68b-3734-4041-9748-7d23874fde40",
   "metadata": {},
   "outputs": [
    {
     "data": {
      "text/plain": [
       "Transaction ID      0\n",
       "Date                0\n",
       "Customer ID         0\n",
       "Gender              0\n",
       "Age                 0\n",
       "Product Category    0\n",
       "Quantity            0\n",
       "Price per Unit      0\n",
       "Total Amount        0\n",
       "dtype: int64"
      ]
     },
     "execution_count": 21,
     "metadata": {},
     "output_type": "execute_result"
    }
   ],
   "source": [
    "df.isnull().sum()"
   ]
  },
  {
   "cell_type": "markdown",
   "id": "eca6d9fb-a952-4ef7-aed2-3015869416df",
   "metadata": {},
   "source": [
    "#### Not needed to use dropna() method"
   ]
  },
  {
   "cell_type": "code",
   "execution_count": 120,
   "id": "f4f484dc-4d74-426c-b0bf-e82b968cb199",
   "metadata": {},
   "outputs": [],
   "source": [
    "df = df[(df.Quantity<=0) | (df[\"Price per Unit\"]<=0)]"
   ]
  },
  {
   "cell_type": "markdown",
   "id": "e96b2e8d-956d-480a-b5e1-85f103e8e838",
   "metadata": {},
   "source": [
    "### 3. Identify Unique Customers and Products:"
   ]
  },
  {
   "cell_type": "code",
   "execution_count": 34,
   "id": "2a348ec4-41ed-45d5-80d2-fdc0d29a04e3",
   "metadata": {},
   "outputs": [],
   "source": [
    "customer_id = set(df[\"Customer ID\"])\n",
    "product_category = set(df[\"Product Category\"])"
   ]
  },
  {
   "cell_type": "code",
   "execution_count": 121,
   "id": "1d9c9e91-3f16-44c3-8be2-f918b94cdcf2",
   "metadata": {},
   "outputs": [
    {
     "name": "stdout",
     "output_type": "stream",
     "text": [
      "{'CUST520', 'CUST102', 'CUST279', 'CUST668', 'CUST413', 'CUST129', 'CUST084', 'CUST351', 'CUST228', 'CUST367', 'CUST542', 'CUST750', 'CUST175', 'CUST502', 'CUST970', 'CUST995', 'CUST011', 'CUST814', 'CUST565', 'CUST494', 'CUST046', 'CUST325', 'CUST856', 'CUST913', 'CUST957', 'CUST576', 'CUST156', 'CUST163', 'CUST699', 'CUST935', 'CUST053', 'CUST918', 'CUST854', 'CUST017', 'CUST800', 'CUST866', 'CUST851', 'CUST306', 'CUST924', 'CUST080', 'CUST241', 'CUST538', 'CUST702', 'CUST730', 'CUST626', 'CUST206', 'CUST161', 'CUST149', 'CUST458', 'CUST211', 'CUST075', 'CUST536', 'CUST647', 'CUST107', 'CUST569', 'CUST588', 'CUST777', 'CUST887', 'CUST960', 'CUST240', 'CUST805', 'CUST877', 'CUST127', 'CUST657', 'CUST806', 'CUST182', 'CUST474', 'CUST572', 'CUST671', 'CUST761', 'CUST460', 'CUST679', 'CUST138', 'CUST962', 'CUST534', 'CUST888', 'CUST781', 'CUST899', 'CUST469', 'CUST442', 'CUST562', 'CUST152', 'CUST809', 'CUST931', 'CUST968', 'CUST748', 'CUST574', 'CUST807', 'CUST200', 'CUST043', 'CUST083', 'CUST071', 'CUST098', 'CUST607', 'CUST636', 'CUST832', 'CUST772', 'CUST048', 'CUST438', 'CUST531', 'CUST659', 'CUST810', 'CUST983', 'CUST026', 'CUST602', 'CUST371', 'CUST268', 'CUST078', 'CUST466', 'CUST879', 'CUST025', 'CUST773', 'CUST134', 'CUST262', 'CUST296', 'CUST336', 'CUST523', 'CUST697', 'CUST327', 'CUST568', 'CUST016', 'CUST943', 'CUST823', 'CUST115', 'CUST873', 'CUST015', 'CUST563', 'CUST473', 'CUST082', 'CUST223', 'CUST124', 'CUST678', 'CUST170', 'CUST654', 'CUST519', 'CUST847', 'CUST147', 'CUST583', 'CUST500', 'CUST627', 'CUST706', 'CUST038', 'CUST595', 'CUST837', 'CUST491', 'CUST421', 'CUST047', 'CUST669', 'CUST246', 'CUST287', 'CUST350', 'CUST470', 'CUST771', 'CUST824', 'CUST614', 'CUST532', 'CUST641', 'CUST145', 'CUST798', 'CUST243', 'CUST432', 'CUST622', 'CUST628', 'CUST864', 'CUST159', 'CUST664', 'CUST938', 'CUST989', 'CUST341', 'CUST095', 'CUST215', 'CUST610', 'CUST195', 'CUST398', 'CUST479', 'CUST545', 'CUST966', 'CUST692', 'CUST308', 'CUST403', 'CUST858', 'CUST972', 'CUST244', 'CUST557', 'CUST366', 'CUST247', 'CUST359', 'CUST732', 'CUST876', 'CUST903', 'CUST600', 'CUST482', 'CUST524', 'CUST283', 'CUST423', 'CUST213', 'CUST237', 'CUST409', 'CUST339', 'CUST302', 'CUST278', 'CUST389', 'CUST604', 'CUST889', 'CUST258', 'CUST379', 'CUST294', 'CUST596', 'CUST907', 'CUST293', 'CUST621', 'CUST694', 'CUST063', 'CUST378', 'CUST324', 'CUST591', 'CUST852', 'CUST277', 'CUST942', 'CUST050', 'CUST629', 'CUST785', 'CUST493', 'CUST594', 'CUST753', 'CUST603', 'CUST928', 'CUST340', 'CUST799', 'CUST710', 'CUST151', 'CUST355', 'CUST174', 'CUST905', 'CUST029', 'CUST357', 'CUST120', 'CUST332', 'CUST485', 'CUST722', 'CUST375', 'CUST734', 'CUST515', 'CUST751', 'CUST509', 'CUST212', 'CUST503', 'CUST230', 'CUST222', 'CUST646', 'CUST897', 'CUST797', 'CUST132', 'CUST045', 'CUST291', 'CUST346', 'CUST630', 'CUST181', 'CUST225', 'CUST890', 'CUST662', 'CUST039', 'CUST242', 'CUST979', 'CUST682', 'CUST964', 'CUST158', 'CUST763', 'CUST791', 'CUST434', 'CUST318', 'CUST475', 'CUST831', 'CUST904', 'CUST650', 'CUST061', 'CUST696', 'CUST812', 'CUST901', 'CUST590', 'CUST311', 'CUST496', 'CUST818', 'CUST787', 'CUST018', 'CUST795', 'CUST720', 'CUST920', 'CUST198', 'CUST457', 'CUST714', 'CUST549', 'CUST177', 'CUST133', 'CUST625', 'CUST691', 'CUST756', 'CUST373', 'CUST891', 'CUST747', 'CUST305', 'CUST347', 'CUST259', 'CUST701', 'CUST729', 'CUST780', 'CUST383', 'CUST040', 'CUST528', 'CUST384', 'CUST774', 'CUST410', 'CUST235', 'CUST399', 'CUST506', 'CUST508', 'CUST863', 'CUST589', 'CUST878', 'CUST055', 'CUST653', 'CUST072', 'CUST698', 'CUST739', 'CUST323', 'CUST733', 'CUST850', 'CUST776', 'CUST032', 'CUST770', 'CUST642', 'CUST022', 'CUST209', 'CUST052', 'CUST326', 'CUST427', 'CUST334', 'CUST008', 'CUST550', 'CUST535', 'CUST201', 'CUST021', 'CUST281', 'CUST510', 'CUST319', 'CUST526', 'CUST265', 'CUST872', 'CUST204', 'CUST916', 'CUST868', 'CUST417', 'CUST975', 'CUST992', 'CUST839', 'CUST369', 'CUST183', 'CUST705', 'CUST844', 'CUST338', 'CUST786', 'CUST649', 'CUST086', 'CUST229', 'CUST652', 'CUST765', 'CUST990', 'CUST993', 'CUST131', 'CUST672', 'CUST335', 'CUST236', 'CUST869', 'CUST062', 'CUST255', 'CUST712', 'CUST700', 'CUST749', 'CUST234', 'CUST365', 'CUST977', 'CUST906', 'CUST406', 'CUST044', 'CUST010', 'CUST522', 'CUST559', 'CUST835', 'CUST217', 'CUST909', 'CUST867', 'CUST633', 'CUST499', 'CUST514', 'CUST816', 'CUST142', 'CUST456', 'CUST638', 'CUST782', 'CUST759', 'CUST769', 'CUST349', 'CUST408', 'CUST648', 'CUST871', 'CUST033', 'CUST446', 'CUST051', 'CUST450', 'CUST160', 'CUST489', 'CUST833', 'CUST914', 'CUST709', 'CUST930', 'CUST374', 'CUST558', 'CUST495', 'CUST394', 'CUST947', 'CUST464', 'CUST109', 'CUST073', 'CUST105', 'CUST415', 'CUST313', 'CUST862', 'CUST069', 'CUST140', 'CUST504', 'CUST939', 'CUST955', 'CUST116', 'CUST081', 'CUST009', 'CUST037', 'CUST094', 'CUST808', 'CUST112', 'CUST054', 'CUST344', 'CUST280', 'CUST537', 'CUST121', 'CUST216', 'CUST796', 'CUST167', 'CUST946', 'CUST285', 'CUST288', 'CUST377', 'CUST950', 'CUST135', 'CUST150', 'CUST267', 'CUST113', 'CUST760', 'CUST348', 'CUST137', 'CUST352', 'CUST497', 'CUST758', 'CUST874', 'CUST755', 'CUST486', 'CUST020', 'CUST172', 'CUST391', 'CUST424', 'CUST735', 'CUST484', 'CUST407', 'CUST601', 'CUST980', 'CUST865', 'CUST548', 'CUST598', 'CUST578', 'CUST405', 'CUST829', 'CUST853', 'CUST581', 'CUST908', 'CUST361', 'CUST146', 'CUST333', 'CUST317', 'CUST179', 'CUST058', 'CUST254', 'CUST632', 'CUST274', 'CUST123', 'CUST030', 'CUST448', 'CUST271', 'CUST593', 'CUST488', 'CUST103', 'CUST715', 'CUST961', 'CUST453', 'CUST178', 'CUST067', 'CUST762', 'CUST316', 'CUST251', 'CUST673', 'CUST064', 'CUST582', 'CUST683', 'CUST248', 'CUST007', 'CUST162', 'CUST264', 'CUST295', 'CUST643', 'CUST110', 'CUST210', 'CUST376', 'CUST675', 'CUST689', 'CUST226', 'CUST059', 'CUST462', 'CUST529', 'CUST981', 'CUST185', 'CUST525', 'CUST263', 'CUST164', 'CUST483', 'CUST723', 'CUST727', 'CUST057', 'CUST778', 'CUST049', 'CUST056', 'CUST331', 'CUST400', 'CUST1000', 'CUST203', 'CUST686', 'CUST708', 'CUST006', 'CUST830', 'CUST637', 'CUST307', 'CUST926', 'CUST452', 'CUST459', 'CUST571', 'CUST290', 'CUST726', 'CUST013', 'CUST451', 'CUST388', 'CUST567', 'CUST613', 'CUST663', 'CUST999', 'CUST002', 'CUST070', 'CUST564', 'CUST721', 'CUST944', 'CUST165', 'CUST695', 'CUST843', 'CUST911', 'CUST988', 'CUST012', 'CUST783', 'CUST923', 'CUST097', 'CUST555', 'CUST436', 'CUST788', 'CUST937', 'CUST768', 'CUST358', 'CUST300', 'CUST666', 'CUST208', 'CUST197', 'CUST099', 'CUST541', 'CUST425', 'CUST893', 'CUST719', 'CUST087', 'CUST624', 'CUST802', 'CUST615', 'CUST299', 'CUST752', 'CUST187', 'CUST505', 'CUST965', 'CUST925', 'CUST467', 'CUST631', 'CUST076', 'CUST790', 'CUST917', 'CUST320', 'CUST304', 'CUST741', 'CUST840', 'CUST953', 'CUST616', 'CUST665', 'CUST820', 'CUST166', 'CUST551', 'CUST353', 'CUST527', 'CUST155', 'CUST401', 'CUST949', 'CUST168', 'CUST478', 'CUST490', 'CUST670', 'CUST404', 'CUST861', 'CUST227', 'CUST544', 'CUST570', 'CUST921', 'CUST312', 'CUST342', 'CUST826', 'CUST024', 'CUST065', 'CUST539', 'CUST266', 'CUST713', 'CUST249', 'CUST444', 'CUST454', 'CUST849', 'CUST640', 'CUST922', 'CUST951', 'CUST573', 'CUST301', 'CUST431', 'CUST608', 'CUST516', 'CUST114', 'CUST402', 'CUST169', 'CUST956', 'CUST101', 'CUST003', 'CUST998', 'CUST192', 'CUST126', 'CUST433', 'CUST449', 'CUST554', 'CUST724', 'CUST841', 'CUST902', 'CUST915', 'CUST089', 'CUST952', 'CUST191', 'CUST985', 'CUST136', 'CUST412', 'CUST834', 'CUST845', 'CUST677', 'CUST370', 'CUST974', 'CUST521', 'CUST767', 'CUST337', 'CUST828', 'CUST982', 'CUST184', 'CUST969', 'CUST815', 'CUST587', 'CUST487', 'CUST635', 'CUST718', 'CUST725', 'CUST125', 'CUST716', 'CUST728', 'CUST476', 'CUST194', 'CUST886', 'CUST368', 'CUST929', 'CUST468', 'CUST533', 'CUST764', 'CUST118', 'CUST117', 'CUST685', 'CUST060', 'CUST518', 'CUST310', 'CUST984', 'CUST382', 'CUST842', 'CUST286', 'CUST910', 'CUST945', 'CUST684', 'CUST978', 'CUST273', 'CUST481', 'CUST507', 'CUST239', 'CUST445', 'CUST345', 'CUST553', 'CUST704', 'CUST838', 'CUST971', 'CUST139', 'CUST585', 'CUST605', 'CUST420', 'CUST825', 'CUST934', 'CUST343', 'CUST997', 'CUST745', 'CUST232', 'CUST440', 'CUST079', 'CUST435', 'CUST119', 'CUST681', 'CUST088', 'CUST736', 'CUST512', 'CUST775', 'CUST779', 'CUST743', 'CUST354', 'CUST511', 'CUST586', 'CUST429', 'CUST811', 'CUST253', 'CUST233', 'CUST819', 'CUST322', 'CUST329', 'CUST680', 'CUST757', 'CUST220', 'CUST472', 'CUST068', 'CUST292', 'CUST250', 'CUST660', 'CUST620', 'CUST940', 'CUST676', 'CUST034', 'CUST218', 'CUST252', 'CUST214', 'CUST498', 'CUST927', 'CUST395', 'CUST186', 'CUST477', 'CUST560', 'CUST986', 'CUST153', 'CUST618', 'CUST813', 'CUST066', 'CUST190', 'CUST737', 'CUST859', 'CUST380', 'CUST882', 'CUST822', 'CUST885', 'CUST936', 'CUST599', 'CUST606', 'CUST900', 'CUST193', 'CUST219', 'CUST430', 'CUST884', 'CUST443', 'CUST566', 'CUST144', 'CUST987', 'CUST711', 'CUST422', 'CUST674', 'CUST933', 'CUST976', 'CUST245', 'CUST386', 'CUST540', 'CUST546', 'CUST074', 'CUST180', 'CUST577', 'CUST189', 'CUST014', 'CUST199', 'CUST396', 'CUST471', 'CUST561', 'CUST256', 'CUST644', 'CUST801', 'CUST804', 'CUST821', 'CUST392', 'CUST556', 'CUST912', 'CUST148', 'CUST552', 'CUST896', 'CUST717', 'CUST363', 'CUST001', 'CUST111', 'CUST693', 'CUST794', 'CUST740', 'CUST994', 'CUST035', 'CUST461', 'CUST381', 'CUST855', 'CUST597', 'CUST880', 'CUST231', 'CUST270', 'CUST315', 'CUST848', 'CUST196', 'CUST289', 'CUST667', 'CUST108', 'CUST372', 'CUST414', 'CUST658', 'CUST027', 'CUST793', 'CUST580', 'CUST418', 'CUST004', 'CUST687', 'CUST419', 'CUST439', 'CUST224', 'CUST257', 'CUST298', 'CUST330', 'CUST883', 'CUST954', 'CUST356', 'CUST651', 'CUST919', 'CUST393', 'CUST085', 'CUST870', 'CUST309', 'CUST390', 'CUST028', 'CUST042', 'CUST141', 'CUST441', 'CUST967', 'CUST284', 'CUST941', 'CUST282', 'CUST428', 'CUST707', 'CUST892', 'CUST881', 'CUST744', 'CUST463', 'CUST275', 'CUST612', 'CUST036', 'CUST948', 'CUST492', 'CUST857', 'CUST634', 'CUST860', 'CUST130', 'CUST895', 'CUST261', 'CUST656', 'CUST688', 'CUST617', 'CUST894', 'CUST513', 'CUST426', 'CUST592', 'CUST792', 'CUST639', 'CUST031', 'CUST584', 'CUST898', 'CUST205', 'CUST766', 'CUST297', 'CUST547', 'CUST122', 'CUST100', 'CUST703', 'CUST397', 'CUST746', 'CUST973', 'CUST827', 'CUST303', 'CUST480', 'CUST188', 'CUST754', 'CUST963', 'CUST543', 'CUST202', 'CUST260', 'CUST416', 'CUST106', 'CUST362', 'CUST517', 'CUST784', 'CUST272', 'CUST321', 'CUST360', 'CUST437', 'CUST501', 'CUST269', 'CUST645', 'CUST996', 'CUST731', 'CUST091', 'CUST173', 'CUST579', 'CUST655', 'CUST276', 'CUST128', 'CUST096', 'CUST005', 'CUST364', 'CUST575', 'CUST991', 'CUST077', 'CUST465', 'CUST875', 'CUST611', 'CUST023', 'CUST093', 'CUST104', 'CUST959', 'CUST238', 'CUST221', 'CUST176', 'CUST817', 'CUST803', 'CUST171', 'CUST090', 'CUST530', 'CUST157', 'CUST690', 'CUST154', 'CUST619', 'CUST738', 'CUST041', 'CUST742', 'CUST836', 'CUST623', 'CUST846', 'CUST932', 'CUST447', 'CUST609', 'CUST314', 'CUST387', 'CUST411', 'CUST789', 'CUST092', 'CUST661', 'CUST958', 'CUST385', 'CUST328', 'CUST455', 'CUST019', 'CUST207', 'CUST143'}\n",
      "{'Beauty', 'Clothing', 'Electronics'}\n"
     ]
    }
   ],
   "source": [
    "print(customer_id)\n",
    "print(product_category)"
   ]
  },
  {
   "cell_type": "markdown",
   "id": "e0eb10b9-c306-4a44-a4cf-55c16a2ba4a4",
   "metadata": {},
   "source": [
    "### 4. Text Cleaning:"
   ]
  },
  {
   "cell_type": "code",
   "execution_count": 43,
   "id": "94dc16ab-77d9-4fb7-96db-97c37100c9e3",
   "metadata": {},
   "outputs": [],
   "source": [
    "df[\"Product Category\"]= df[\"Product Category\"].str.upper()"
   ]
  },
  {
   "cell_type": "markdown",
   "id": "8a40b1be-edcc-4cda-acc3-fa5e4976f5f6",
   "metadata": {},
   "source": [
    "(or)"
   ]
  },
  {
   "cell_type": "code",
   "execution_count": 44,
   "id": "23c2f9c4-e96b-4ac4-837a-8ce306114f50",
   "metadata": {},
   "outputs": [],
   "source": [
    "df[\"Product Category\"] = pd.Series(list(map(lambda x: x.upper(),list(df[\"Product Category\"]))))"
   ]
  },
  {
   "cell_type": "markdown",
   "id": "d44aedf1-484c-4b7b-a1c7-d5968b0cb4b3",
   "metadata": {},
   "source": [
    "### 5. Reusable Validation Function:"
   ]
  },
  {
   "cell_type": "code",
   "execution_count": 50,
   "id": "30f1e270-dd23-4af1-8c29-6c7cbaee076f",
   "metadata": {},
   "outputs": [],
   "source": [
    "def is_valid(row):\n",
    "    if row>0:\n",
    "        return True\n",
    "    return False"
   ]
  },
  {
   "cell_type": "code",
   "execution_count": 53,
   "id": "091cf032-e584-4c8e-84eb-f94b5fd88830",
   "metadata": {},
   "outputs": [],
   "source": [
    "quantity_bool = df[\"Quantity\"].apply(is_valid)\n",
    "price_bool = df[\"Price per Unit\"].apply(is_valid)"
   ]
  },
  {
   "cell_type": "code",
   "execution_count": 106,
   "id": "5d5c5281-cd6a-4e8e-ac5f-2c9e97233501",
   "metadata": {},
   "outputs": [],
   "source": [
    "df = df[ quantity_bool & price_bool ]"
   ]
  },
  {
   "cell_type": "markdown",
   "id": "5dcde87d-c675-4812-8073-69bba3f349b0",
   "metadata": {},
   "source": [
    "### 6. Model with Classes:"
   ]
  },
  {
   "cell_type": "code",
   "execution_count": 107,
   "id": "52521f38-f267-422a-adf2-fa36884238b4",
   "metadata": {},
   "outputs": [],
   "source": [
    "class Customer:\n",
    "    def __init__(self, customer_id):\n",
    "        self.customer_id = customer_id\n",
    "        self.total_spent = 0\n",
    "        self.purchases = []\n",
    "        \n",
    "    def add_purchase(self, amount):\n",
    "        self.purchases.append((self.customer_id, amount))\n",
    "        self.total_spent += amount\n",
    "        \n",
    "    def print_purchases(self):\n",
    "        print(\"List of Customer Purchases\")\n",
    "        print(\"<\"+\"=\"*30+\">\")\n",
    "        for x in self.purchases:\n",
    "            print(f\"customer ID: {x[0]}\")\n",
    "            print(f\"amount: {x[1]}\")\n",
    "            print(\"-\"*20)\n",
    "        print(f\"Total Amount Spent by customer {self.customer_id} is: {self.total_spent}\")"
   ]
  },
  {
   "cell_type": "code",
   "execution_count": 108,
   "id": "61518f8e-3766-4038-8ef4-057e7567e43c",
   "metadata": {},
   "outputs": [],
   "source": [
    "customer = Customer(1234)"
   ]
  },
  {
   "cell_type": "code",
   "execution_count": 109,
   "id": "9006263a-9e00-49df-9365-d095c28a04bb",
   "metadata": {},
   "outputs": [],
   "source": [
    "customer.add_purchase(43)\n",
    "customer.add_purchase(34)\n",
    "customer.add_purchase(34)\n",
    "customer.add_purchase(100)"
   ]
  },
  {
   "cell_type": "code",
   "execution_count": 110,
   "id": "7a7a0498-978e-4223-97ff-86cd7dad351d",
   "metadata": {},
   "outputs": [
    {
     "name": "stdout",
     "output_type": "stream",
     "text": [
      "List of Customer Purchases\n",
      "<==============================>\n",
      "customer ID: 1234\n",
      "amount: 43\n",
      "--------------------\n",
      "customer ID: 1234\n",
      "amount: 34\n",
      "--------------------\n",
      "customer ID: 1234\n",
      "amount: 34\n",
      "--------------------\n",
      "customer ID: 1234\n",
      "amount: 100\n",
      "--------------------\n",
      "Total Amount Spent by customer 1234 is: 211\n"
     ]
    }
   ],
   "source": [
    "customer.print_purchases()"
   ]
  },
  {
   "cell_type": "markdown",
   "id": "4bf24abc-3928-4c89-aac2-566b8bf44bfd",
   "metadata": {},
   "source": [
    "### 7. Exception Handling:\n",
    "o Already covered in Step 1.\n"
   ]
  },
  {
   "cell_type": "markdown",
   "id": "b2e23395-e531-4496-8b2a-a61287b7f0fc",
   "metadata": {},
   "source": [
    "### 8. Calculate Total Revenue:"
   ]
  },
  {
   "cell_type": "code",
   "execution_count": 123,
   "id": "ce5da61e-964c-4e6a-a765-58f975ab6f82",
   "metadata": {},
   "outputs": [],
   "source": [
    "df[\"total_revenue\"] = df.Quantity * df[\"Price per Unit\"]"
   ]
  },
  {
   "cell_type": "code",
   "execution_count": 124,
   "id": "0e32ee14-676f-489d-87ea-2ce7005e4719",
   "metadata": {},
   "outputs": [
    {
     "data": {
      "text/plain": [
       "Series([], Name: total_revenue, dtype: int64)"
      ]
     },
     "execution_count": 124,
     "metadata": {},
     "output_type": "execute_result"
    }
   ],
   "source": [
    "df[\"total_revenue\"]"
   ]
  },
  {
   "cell_type": "markdown",
   "id": "f7f95aba-f687-4d38-bb7d-6a98f9bdd2cf",
   "metadata": {},
   "source": [
    "### 9. Summarize Revenue by Category:"
   ]
  },
  {
   "cell_type": "code",
   "execution_count": 112,
   "id": "39d78ad8-c09d-4e1e-a5da-10b476c6d167",
   "metadata": {},
   "outputs": [
    {
     "data": {
      "text/plain": [
       "array(['BEAUTY', 'CLOTHING', 'ELECTRONICS'], dtype=object)"
      ]
     },
     "execution_count": 112,
     "metadata": {},
     "output_type": "execute_result"
    }
   ],
   "source": [
    "df[\"Product Category\"].unique()"
   ]
  },
  {
   "cell_type": "code",
   "execution_count": 113,
   "id": "3d5cf706-93e4-4d85-8955-7db5e09a82f0",
   "metadata": {},
   "outputs": [],
   "source": [
    "category_revenue = df.groupby(\"Product Category\")[\"total_revenue\"].sum()"
   ]
  },
  {
   "cell_type": "code",
   "execution_count": 114,
   "id": "a7a13d6d-a9a5-4f16-9484-cad2e8392557",
   "metadata": {},
   "outputs": [],
   "source": [
    "category_revenue = category_revenue.to_dict()"
   ]
  },
  {
   "cell_type": "code",
   "execution_count": 115,
   "id": "c9bcb33c-4532-4fa0-8a6e-20fd906353da",
   "metadata": {},
   "outputs": [],
   "source": [
    "sorted_category_revenue = sorted(category_revenue.items(), key=lambda x: x[1], reverse=True)"
   ]
  },
  {
   "cell_type": "code",
   "execution_count": 116,
   "id": "f8c79515-6745-4c81-b673-2511d72b7c37",
   "metadata": {},
   "outputs": [],
   "source": [
    "sorted_category_revenue = dict(sorted_category_revenue)"
   ]
  },
  {
   "cell_type": "code",
   "execution_count": 117,
   "id": "90320252-07f2-435b-b115-1489d15eed47",
   "metadata": {},
   "outputs": [
    {
     "name": "stdout",
     "output_type": "stream",
     "text": [
      "Category: ELECTRONICS\n",
      "Total_Price: 156905\n",
      "********************\n",
      "Category: CLOTHING\n",
      "Total_Price: 155580\n",
      "********************\n",
      "Category: BEAUTY\n",
      "Total_Price: 143515\n",
      "********************\n"
     ]
    }
   ],
   "source": [
    "for x in sorted_category_revenue:\n",
    "    print(f\"Category: {x}\\nTotal_Price: {sorted_category_revenue[x]}\")\n",
    "    print(\"*\"*20)"
   ]
  },
  {
   "cell_type": "markdown",
   "id": "c85aff59-cac5-4cc4-a1b1-8795bad1a699",
   "metadata": {},
   "source": [
    "### 10. Export Cleaned Data:"
   ]
  },
  {
   "cell_type": "code",
   "execution_count": 119,
   "id": "41038bb0-a218-4a83-ae1d-c61069b0db90",
   "metadata": {},
   "outputs": [],
   "source": [
    "df.to_csv(\"assets/week1/Cleaned_Retail_Data.csv\")"
   ]
  },
  {
   "cell_type": "markdown",
   "id": "5be6c751-82c3-48f5-bb90-45d1b5209822",
   "metadata": {},
   "source": [
    "<h2 align=\"center\">🌻🌻🌻🌺🌻🌻🌻</h2>"
   ]
  }
 ],
 "metadata": {
  "kernelspec": {
   "display_name": "Python 3 (ipykernel)",
   "language": "python",
   "name": "python3"
  },
  "language_info": {
   "codemirror_mode": {
    "name": "ipython",
    "version": 3
   },
   "file_extension": ".py",
   "mimetype": "text/x-python",
   "name": "python",
   "nbconvert_exporter": "python",
   "pygments_lexer": "ipython3",
   "version": "3.9.13"
  }
 },
 "nbformat": 4,
 "nbformat_minor": 5
}
