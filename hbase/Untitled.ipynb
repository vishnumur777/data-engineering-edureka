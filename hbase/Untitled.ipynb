{
 "cells": [
  {
   "cell_type": "markdown",
   "id": "110b04df-4f96-4e98-94aa-432073028ca4",
   "metadata": {},
   "source": [
    "| RDBMS | HBASE |\n",
    "|----------|-----------|\n",
    "| Database | NameSpace |\n",
    "| table    | table     |\n",
    "| define columns at time of creation | define column at time of insertion |\n",
    "| row | row |\n",
    "| col | col |\n",
    "| -   | column family |"
   ]
  },
  {
   "cell_type": "markdown",
   "id": "5053fa58-644d-447f-87ce-afddf5f565b9",
   "metadata": {},
   "source": [
    "### data in HBase"
   ]
  },
  {
   "cell_type": "markdown",
   "id": "7957711e-c465-4c45-8080-4dc647dd2701",
   "metadata": {},
   "source": [
    "- dept10 - 10:00 - details : dname = sp\n",
    "- dept10 - 11:15 - details : dname = fr"
   ]
  },
  {
   "cell_type": "code",
   "execution_count": null,
   "id": "674b03b6-e2cd-4fdc-90b3-f4785feec89c",
   "metadata": {},
   "outputs": [],
   "source": []
  }
 ],
 "metadata": {
  "kernelspec": {
   "display_name": "Python 3 (ipykernel)",
   "language": "python",
   "name": "python3"
  },
  "language_info": {
   "codemirror_mode": {
    "name": "ipython",
    "version": 3
   },
   "file_extension": ".py",
   "mimetype": "text/x-python",
   "name": "python",
   "nbconvert_exporter": "python",
   "pygments_lexer": "ipython3",
   "version": "3.9.13"
  }
 },
 "nbformat": 4,
 "nbformat_minor": 5
}
