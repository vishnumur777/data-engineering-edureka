{
 "cells": [
  {
   "cell_type": "markdown",
   "id": "73dd166e-30b1-4e97-89eb-97a8126f2123",
   "metadata": {},
   "source": [
    "## Pyspark - RDD"
   ]
  },
  {
   "cell_type": "code",
   "execution_count": 1,
   "id": "38e35c05-6437-4862-82ee-334cba27e741",
   "metadata": {},
   "outputs": [],
   "source": [
    "from pyspark import SparkConf, SparkContext\n",
    "import warnings"
   ]
  },
  {
   "cell_type": "code",
   "execution_count": 2,
   "id": "b3519ec7-f079-4d59-8447-c6e41226c151",
   "metadata": {},
   "outputs": [],
   "source": [
    "  warnings.filterwarnings('ignore')"
   ]
  },
  {
   "cell_type": "code",
   "execution_count": 3,
   "id": "7b9e83f9-db4a-4ad0-96e3-246e3c3f7e84",
   "metadata": {},
   "outputs": [],
   "source": [
    "sconf = SparkConf().setAppName(\"VarunCode\").setMaster(\"local[2]\")"
   ]
  },
  {
   "cell_type": "code",
   "execution_count": 4,
   "id": "445598d1-0cfc-40ae-a02b-50b029bfcd7c",
   "metadata": {},
   "outputs": [
    {
     "name": "stderr",
     "output_type": "stream",
     "text": [
      "25/06/09 10:39:15 WARN NativeCodeLoader: Unable to load native-hadoop library for your platform... using builtin-java classes where applicable\n",
      "Setting default log level to \"WARN\".\n",
      "To adjust logging level use sc.setLogLevel(newLevel). For SparkR, use setLogLevel(newLevel).\n",
      "25/06/09 10:39:17 WARN Utils: Service 'SparkUI' could not bind on port 4040. Attempting port 4041.\n",
      "25/06/09 10:39:17 WARN Utils: Service 'SparkUI' could not bind on port 4041. Attempting port 4042.\n",
      "25/06/09 10:39:17 WARN Utils: Service 'SparkUI' could not bind on port 4042. Attempting port 4043.\n",
      "25/06/09 10:39:17 WARN Utils: Service 'SparkUI' could not bind on port 4043. Attempting port 4044.\n",
      "25/06/09 10:39:17 WARN Utils: Service 'SparkUI' could not bind on port 4044. Attempting port 4045.\n",
      "25/06/09 10:39:17 WARN Utils: Service 'SparkUI' could not bind on port 4045. Attempting port 4046.\n",
      "25/06/09 10:39:17 WARN Utils: Service 'SparkUI' could not bind on port 4046. Attempting port 4047.\n",
      "25/06/09 10:39:17 WARN Utils: Service 'SparkUI' could not bind on port 4047. Attempting port 4048.\n",
      "25/06/09 10:39:17 WARN Utils: Service 'SparkUI' could not bind on port 4048. Attempting port 4049.\n",
      "25/06/09 10:39:17 WARN Utils: Service 'SparkUI' could not bind on port 4049. Attempting port 4050.\n",
      "25/06/09 10:39:17 WARN Utils: Service 'SparkUI' could not bind on port 4050. Attempting port 4051.\n",
      "25/06/09 10:39:17 WARN Utils: Service 'SparkUI' could not bind on port 4051. Attempting port 4052.\n",
      "25/06/09 10:39:17 WARN Utils: Service 'SparkUI' could not bind on port 4052. Attempting port 4053.\n",
      "25/06/09 10:39:17 WARN Utils: Service 'SparkUI' could not bind on port 4053. Attempting port 4054.\n",
      "25/06/09 10:39:17 WARN Utils: Service 'SparkUI' could not bind on port 4054. Attempting port 4055.\n",
      "25/06/09 10:39:17 WARN Utils: Service 'SparkUI' could not bind on port 4055. Attempting port 4056.\n",
      "25/06/09 10:39:17 WARN Utils: Service 'SparkUI' could not bind on port 4056. Attempting port 4057.\n",
      "25/06/09 10:39:17 WARN Utils: Service 'SparkUI' could not bind on port 4057. Attempting port 4058.\n",
      "25/06/09 10:39:17 WARN Utils: Service 'SparkUI' could not bind on port 4058. Attempting port 4059.\n",
      "25/06/09 10:39:17 WARN Utils: Service 'SparkUI' could not bind on port 4059. Attempting port 4060.\n",
      "25/06/09 10:39:17 WARN Utils: Service 'SparkUI' could not bind on port 4060. Attempting port 4061.\n",
      "25/06/09 10:39:17 WARN Utils: Service 'SparkUI' could not bind on port 4061. Attempting port 4062.\n",
      "25/06/09 10:39:17 WARN Utils: Service 'SparkUI' could not bind on port 4062. Attempting port 4063.\n",
      "25/06/09 10:39:17 WARN Utils: Service 'SparkUI' could not bind on port 4063. Attempting port 4064.\n",
      "25/06/09 10:39:17 WARN Utils: Service 'SparkUI' could not bind on port 4064. Attempting port 4065.\n",
      "25/06/09 10:39:17 WARN Utils: Service 'SparkUI' could not bind on port 4065. Attempting port 4066.\n",
      "25/06/09 10:39:17 WARN Utils: Service 'SparkUI' could not bind on port 4066. Attempting port 4067.\n",
      "25/06/09 10:39:17 WARN Utils: Service 'SparkUI' could not bind on port 4067. Attempting port 4068.\n",
      "25/06/09 10:39:17 WARN Utils: Service 'SparkUI' could not bind on port 4068. Attempting port 4069.\n",
      "25/06/09 10:39:17 WARN Utils: Service 'SparkUI' could not bind on port 4069. Attempting port 4070.\n",
      "25/06/09 10:39:17 WARN Utils: Service 'SparkUI' could not bind on port 4070. Attempting port 4071.\n",
      "25/06/09 10:39:17 WARN Utils: Service 'SparkUI' could not bind on port 4071. Attempting port 4072.\n",
      "25/06/09 10:39:17 WARN Utils: Service 'SparkUI' could not bind on port 4072. Attempting port 4073.\n",
      "25/06/09 10:39:17 WARN Utils: Service 'SparkUI' could not bind on port 4073. Attempting port 4074.\n"
     ]
    }
   ],
   "source": [
    "sc = SparkContext(conf=sconf)"
   ]
  },
  {
   "cell_type": "code",
   "execution_count": 6,
   "id": "ad6cefbb-d926-4edf-9424-e9605e2f4a5f",
   "metadata": {},
   "outputs": [
    {
     "data": {
      "text/plain": [
       "pyspark.context.SparkContext"
      ]
     },
     "execution_count": 6,
     "metadata": {},
     "output_type": "execute_result"
    }
   ],
   "source": [
    "type(sc)"
   ]
  },
  {
   "cell_type": "code",
   "execution_count": 7,
   "id": "66ae5268-c0ea-4147-b57f-3ecd8c8791a6",
   "metadata": {},
   "outputs": [],
   "source": [
    "a1 = [23,45,76,34,23,56,76]"
   ]
  },
  {
   "cell_type": "code",
   "execution_count": 8,
   "id": "5c6d5299-aff2-48ce-a1d2-06faf091366a",
   "metadata": {},
   "outputs": [
    {
     "data": {
      "text/plain": [
       "[23, 45, 76, 34, 23, 56, 76]"
      ]
     },
     "execution_count": 8,
     "metadata": {},
     "output_type": "execute_result"
    }
   ],
   "source": [
    "a1"
   ]
  },
  {
   "cell_type": "code",
   "execution_count": 9,
   "id": "4999f215-166e-46b7-b099-2fdbf958c459",
   "metadata": {},
   "outputs": [
    {
     "data": {
      "text/plain": [
       "list"
      ]
     },
     "execution_count": 9,
     "metadata": {},
     "output_type": "execute_result"
    }
   ],
   "source": [
    "type(a1)"
   ]
  },
  {
   "cell_type": "code",
   "execution_count": 10,
   "id": "46cb6004-f039-433b-85df-4659f68fb7ac",
   "metadata": {},
   "outputs": [],
   "source": [
    "rdd1 = sc.parallelize(a1)"
   ]
  },
  {
   "cell_type": "code",
   "execution_count": 12,
   "id": "05bd99c2-5709-4cce-8bbe-adc23553c096",
   "metadata": {},
   "outputs": [
    {
     "data": {
      "text/plain": [
       "ParallelCollectionRDD[0] at readRDDFromFile at PythonRDD.scala:274"
      ]
     },
     "execution_count": 12,
     "metadata": {},
     "output_type": "execute_result"
    }
   ],
   "source": [
    "rdd1"
   ]
  },
  {
   "cell_type": "code",
   "execution_count": 13,
   "id": "6a383427-ebd9-4fa4-95d2-b789c9ddabd4",
   "metadata": {},
   "outputs": [
    {
     "name": "stderr",
     "output_type": "stream",
     "text": [
      "                                                                                \r"
     ]
    },
    {
     "data": {
      "text/plain": [
       "[23, 45, 76, 34, 23, 56, 76]"
      ]
     },
     "execution_count": 13,
     "metadata": {},
     "output_type": "execute_result"
    }
   ],
   "source": [
    "rdd1.collect()"
   ]
  },
  {
   "cell_type": "code",
   "execution_count": 14,
   "id": "1f2911a5-52be-4fe1-bcdf-9bf500a97451",
   "metadata": {},
   "outputs": [
    {
     "data": {
      "text/plain": [
       "pyspark.rdd.RDD"
      ]
     },
     "execution_count": 14,
     "metadata": {},
     "output_type": "execute_result"
    }
   ],
   "source": [
    "type(rdd1)"
   ]
  },
  {
   "cell_type": "code",
   "execution_count": 15,
   "id": "e72f6a24-0239-4781-96ad-f10940b75478",
   "metadata": {},
   "outputs": [
    {
     "data": {
      "text/plain": [
       "list"
      ]
     },
     "execution_count": 15,
     "metadata": {},
     "output_type": "execute_result"
    }
   ],
   "source": [
    "type(rdd1.collect())"
   ]
  },
  {
   "cell_type": "code",
   "execution_count": 16,
   "id": "b372da80-fa28-4683-ab82-14a93e3704c1",
   "metadata": {},
   "outputs": [],
   "source": [
    "l2 = ['amir', 'anandu', 'varun', 'yadhu', 'prajwal']"
   ]
  },
  {
   "cell_type": "code",
   "execution_count": 17,
   "id": "ec0532e3-2caf-495c-8cae-b68c65575f4d",
   "metadata": {},
   "outputs": [
    {
     "data": {
      "text/plain": [
       "['amir', 'anandu', 'varun', 'yadhu', 'prajwal']"
      ]
     },
     "execution_count": 17,
     "metadata": {},
     "output_type": "execute_result"
    }
   ],
   "source": [
    "l2"
   ]
  },
  {
   "cell_type": "code",
   "execution_count": 18,
   "id": "65aaa840-f57c-4300-b54c-2c46dc5cdae5",
   "metadata": {},
   "outputs": [],
   "source": [
    "rdd_l2 = sc.parallelize(l2)"
   ]
  },
  {
   "cell_type": "markdown",
   "id": "1c86db61-81ff-41e1-a4e9-01499800a12c",
   "metadata": {},
   "source": [
    "### `functions` present in RDD"
   ]
  },
  {
   "cell_type": "code",
   "execution_count": 19,
   "id": "faa064e8-9f94-4d80-b197-3319016b91b6",
   "metadata": {},
   "outputs": [
    {
     "data": {
      "text/plain": [
       "['amir', 'anandu', 'varun', 'yadhu', 'prajwal']"
      ]
     },
     "execution_count": 19,
     "metadata": {},
     "output_type": "execute_result"
    }
   ],
   "source": [
    "rdd_l2.collect()"
   ]
  },
  {
   "cell_type": "code",
   "execution_count": 20,
   "id": "3ef2e19e-91d9-4337-a148-992a8f0f3d6d",
   "metadata": {},
   "outputs": [
    {
     "data": {
      "text/plain": [
       "5"
      ]
     },
     "execution_count": 20,
     "metadata": {},
     "output_type": "execute_result"
    }
   ],
   "source": [
    "rdd_l2.count()"
   ]
  },
  {
   "cell_type": "code",
   "execution_count": 21,
   "id": "728dd8ac-e181-48b8-ac15-59ecd3b40df5",
   "metadata": {},
   "outputs": [
    {
     "data": {
      "text/plain": [
       "int"
      ]
     },
     "execution_count": 21,
     "metadata": {},
     "output_type": "execute_result"
    }
   ],
   "source": [
    "type(rdd_l2.count())"
   ]
  },
  {
   "cell_type": "code",
   "execution_count": 22,
   "id": "497e8c68-3787-496e-bdfb-5407245c6107",
   "metadata": {},
   "outputs": [
    {
     "data": {
      "text/plain": [
       "'amir'"
      ]
     },
     "execution_count": 22,
     "metadata": {},
     "output_type": "execute_result"
    }
   ],
   "source": [
    "rdd_l2.first()"
   ]
  },
  {
   "cell_type": "markdown",
   "id": "388fd22c-938a-4fba-a22a-a73782b34d19",
   "metadata": {},
   "source": [
    "`.take(n)` returns how many members to return"
   ]
  },
  {
   "cell_type": "code",
   "execution_count": 24,
   "id": "602903ee-01b3-4a7d-beb7-887dfaa24eb6",
   "metadata": {},
   "outputs": [
    {
     "data": {
      "text/plain": [
       "['amir', 'anandu']"
      ]
     },
     "execution_count": 24,
     "metadata": {},
     "output_type": "execute_result"
    }
   ],
   "source": [
    "rdd_l2.take(2)"
   ]
  },
  {
   "cell_type": "code",
   "execution_count": 27,
   "id": "7fe64516-6c3e-4f31-93f1-1e1768e8174c",
   "metadata": {},
   "outputs": [
    {
     "name": "stderr",
     "output_type": "stream",
     "text": [
      "                                                                                \r"
     ]
    },
    {
     "data": {
      "text/plain": [
       "[76, 34, 56, 23, 45]"
      ]
     },
     "execution_count": 27,
     "metadata": {},
     "output_type": "execute_result"
    }
   ],
   "source": [
    "rdd1.distinct().collect()"
   ]
  },
  {
   "cell_type": "code",
   "execution_count": 32,
   "id": "6c6963c0-9e11-4bab-bec7-9be1a36320ab",
   "metadata": {},
   "outputs": [],
   "source": [
    "rdd_map1 = rdd_l2.map(lambda x: x.capitalize())"
   ]
  },
  {
   "cell_type": "code",
   "execution_count": 33,
   "id": "60d6c8a6-1966-4aaa-9889-f9209dfe1a91",
   "metadata": {},
   "outputs": [
    {
     "data": {
      "text/plain": [
       "['Amir', 'Anandu', 'Varun', 'Yadhu', 'Prajwal']"
      ]
     },
     "execution_count": 33,
     "metadata": {},
     "output_type": "execute_result"
    }
   ],
   "source": [
    "rdd_map1.collect()"
   ]
  },
  {
   "cell_type": "code",
   "execution_count": 34,
   "id": "c8c73760-207a-44d7-80a8-99467ada98b7",
   "metadata": {},
   "outputs": [
    {
     "data": {
      "text/plain": [
       "['amir', 'anandu', 'varun', 'yadhu', 'prajwal']"
      ]
     },
     "execution_count": 34,
     "metadata": {},
     "output_type": "execute_result"
    }
   ],
   "source": [
    "rdd_l2.collect()"
   ]
  },
  {
   "cell_type": "code",
   "execution_count": 35,
   "id": "2e67cbaf-9c5e-4360-a233-2440b9e87e9a",
   "metadata": {},
   "outputs": [],
   "source": [
    "rdd_map2 = rdd_l2.map(lambda x: len(x))"
   ]
  },
  {
   "cell_type": "code",
   "execution_count": 36,
   "id": "66ab181b-2cb5-413c-956e-95e536f6b13d",
   "metadata": {},
   "outputs": [
    {
     "data": {
      "text/plain": [
       "[4, 6, 5, 5, 7]"
      ]
     },
     "execution_count": 36,
     "metadata": {},
     "output_type": "execute_result"
    }
   ],
   "source": [
    "rdd_map2.collect()"
   ]
  },
  {
   "cell_type": "code",
   "execution_count": 47,
   "id": "6c3230d0-8522-4c55-af1c-b80c7aeae516",
   "metadata": {},
   "outputs": [],
   "source": [
    "rdd_filter1 = rdd_l2.filter(lambda x: len(x)>5)"
   ]
  },
  {
   "cell_type": "code",
   "execution_count": 46,
   "id": "fbe703a5-0995-4684-9bee-25ca280e6443",
   "metadata": {},
   "outputs": [
    {
     "data": {
      "text/plain": [
       "['anandu', 'varun', 'yadhu', 'prajwal']"
      ]
     },
     "execution_count": 46,
     "metadata": {},
     "output_type": "execute_result"
    }
   ],
   "source": [
    "rdd_filter1.collect()"
   ]
  },
  {
   "cell_type": "code",
   "execution_count": 48,
   "id": "84458e1c-23b9-4f83-a61b-4e89444e6c61",
   "metadata": {},
   "outputs": [],
   "source": [
    "def myfunc(n):\n",
    "    return [n-1,n,n+1]"
   ]
  },
  {
   "cell_type": "code",
   "execution_count": 50,
   "id": "6608587b-4878-4813-8a0e-611d3cc5c912",
   "metadata": {},
   "outputs": [
    {
     "data": {
      "text/plain": [
       "[2, 3, 4]"
      ]
     },
     "execution_count": 50,
     "metadata": {},
     "output_type": "execute_result"
    }
   ],
   "source": [
    "myfunc(3)"
   ]
  },
  {
   "cell_type": "code",
   "execution_count": null,
   "id": "5ad01400-ad88-4761-9fcf-cd19c0a44dad",
   "metadata": {},
   "outputs": [],
   "source": []
  }
 ],
 "metadata": {
  "kernelspec": {
   "display_name": "PySpark 3",
   "language": "python",
   "name": "pyspark3_env"
  },
  "language_info": {
   "codemirror_mode": {
    "name": "ipython",
    "version": 3
   },
   "file_extension": ".py",
   "mimetype": "text/x-python",
   "name": "python",
   "nbconvert_exporter": "python",
   "pygments_lexer": "ipython3",
   "version": "3.9.13"
  }
 },
 "nbformat": 4,
 "nbformat_minor": 5
}
