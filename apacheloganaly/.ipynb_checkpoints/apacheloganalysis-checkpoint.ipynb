{
 "cells": [
  {
   "cell_type": "markdown",
   "id": "5f643001-5509-41b3-a066-269df2d4d6b2",
   "metadata": {},
   "source": [
    "# **To-Do Tasks**\n",
    "\n",
    "- [ ] Create data frames for both datasets.\n",
    "\n",
    "- [ ] Clean the data.\n",
    "\n",
    "- [ ] Find the heaviest response sent to the client.\n",
    "\n",
    "- [ ] Find the number of requests sent from various host machines.\n",
    "\n",
    "- [ ] Find the host that sent the minimum and maximum number of requests.\n",
    "\n",
    "- [ ] Find the rush hour per day.\n",
    "\n",
    "- [ ] Find the user-requested KBDOC with its description.\n",
    "\n",
    "- [ ] Find the most popular web page.\n",
    "\n",
    "- [ ] Find the different types of web pages requested by users.\n",
    "\n",
    "- [ ] Store the last output in Hive.\n",
    "\n"
   ]
  },
  {
   "cell_type": "code",
   "execution_count": 1,
   "id": "ff77eb56-205e-460a-bbc3-93cb691fba58",
   "metadata": {},
   "outputs": [],
   "source": [
    "from pyspark.sql import SparkSession"
   ]
  },
  {
   "cell_type": "code",
   "execution_count": 2,
   "id": "849bedbb-284d-4f90-8974-530f35ae4e22",
   "metadata": {},
   "outputs": [
    {
     "name": "stderr",
     "output_type": "stream",
     "text": [
      "25/06/23 04:46:11 WARN NativeCodeLoader: Unable to load native-hadoop library for your platform... using builtin-java classes where applicable\n",
      "Setting default log level to \"WARN\".\n",
      "To adjust logging level use sc.setLogLevel(newLevel). For SparkR, use setLogLevel(newLevel).\n",
      "25/06/23 04:46:12 WARN Utils: Service 'SparkUI' could not bind on port 4040. Attempting port 4041.\n",
      "25/06/23 04:46:12 WARN Utils: Service 'SparkUI' could not bind on port 4041. Attempting port 4042.\n",
      "25/06/23 04:46:12 WARN Utils: Service 'SparkUI' could not bind on port 4042. Attempting port 4043.\n",
      "25/06/23 04:46:12 WARN Utils: Service 'SparkUI' could not bind on port 4043. Attempting port 4044.\n",
      "25/06/23 04:46:12 WARN Utils: Service 'SparkUI' could not bind on port 4044. Attempting port 4045.\n",
      "25/06/23 04:46:12 WARN Utils: Service 'SparkUI' could not bind on port 4045. Attempting port 4046.\n",
      "25/06/23 04:46:12 WARN Utils: Service 'SparkUI' could not bind on port 4046. Attempting port 4047.\n",
      "25/06/23 04:46:12 WARN Utils: Service 'SparkUI' could not bind on port 4047. Attempting port 4048.\n",
      "25/06/23 04:46:12 WARN Utils: Service 'SparkUI' could not bind on port 4048. Attempting port 4049.\n",
      "25/06/23 04:46:12 WARN Utils: Service 'SparkUI' could not bind on port 4049. Attempting port 4050.\n",
      "25/06/23 04:46:12 WARN Utils: Service 'SparkUI' could not bind on port 4050. Attempting port 4051.\n",
      "25/06/23 04:46:12 WARN Utils: Service 'SparkUI' could not bind on port 4051. Attempting port 4052.\n",
      "25/06/23 04:46:12 WARN Utils: Service 'SparkUI' could not bind on port 4052. Attempting port 4053.\n",
      "25/06/23 04:46:12 WARN Utils: Service 'SparkUI' could not bind on port 4053. Attempting port 4054.\n",
      "25/06/23 04:46:12 WARN Utils: Service 'SparkUI' could not bind on port 4054. Attempting port 4055.\n",
      "25/06/23 04:46:12 WARN Utils: Service 'SparkUI' could not bind on port 4055. Attempting port 4056.\n"
     ]
    }
   ],
   "source": [
    "spark = SparkSession.builder.master(\"local[4]\").enableHiveSupport().getOrCreate()"
   ]
  },
  {
   "cell_type": "code",
   "execution_count": 3,
   "id": "1bdef5bb-4797-4e54-8aa4-bf048edd6237",
   "metadata": {},
   "outputs": [
    {
     "data": {
      "text/html": [
       "\n",
       "            <div>\n",
       "                <p><b>SparkSession - hive</b></p>\n",
       "                \n",
       "        <div>\n",
       "            <p><b>SparkContext</b></p>\n",
       "\n",
       "            <p><a href=\"http://ip-172-31-15-128.ap-south-1.compute.internal:4056\">Spark UI</a></p>\n",
       "\n",
       "            <dl>\n",
       "              <dt>Version</dt>\n",
       "                <dd><code>v3.1.2</code></dd>\n",
       "              <dt>Master</dt>\n",
       "                <dd><code>local[4]</code></dd>\n",
       "              <dt>AppName</dt>\n",
       "                <dd><code>pyspark-shell</code></dd>\n",
       "            </dl>\n",
       "        </div>\n",
       "        \n",
       "            </div>\n",
       "        "
      ],
      "text/plain": [
       "<pyspark.sql.session.SparkSession at 0x7f8cac277730>"
      ]
     },
     "execution_count": 3,
     "metadata": {},
     "output_type": "execute_result"
    }
   ],
   "source": [
    "spark"
   ]
  },
  {
   "cell_type": "code",
   "execution_count": 4,
   "id": "ebd4409b-c6f6-44bb-ace4-985e33c4f325",
   "metadata": {},
   "outputs": [],
   "source": [
    "from pyspark.sql.functions import *\n",
    "from pyspark.sql.types import *"
   ]
  },
  {
   "cell_type": "code",
   "execution_count": 5,
   "id": "85593d03-8cbf-4084-921d-36e9ccf048b1",
   "metadata": {},
   "outputs": [],
   "source": [
    "sch = StructType([\\\n",
    "                 StructField(\"Document_id\",StringType(),True),\\\n",
    "                 StructField(\"Description\",StringType(),True)])"
   ]
  },
  {
   "cell_type": "code",
   "execution_count": 6,
   "id": "46e80f80-0ba2-42b3-8040-202693a390b7",
   "metadata": {},
   "outputs": [],
   "source": [
    "kblists = spark.read.csv(\"kblist.txt\",sep=\":\",schema=sch, header=False)"
   ]
  },
  {
   "cell_type": "code",
   "execution_count": 7,
   "id": "23a3f113-0796-4fe9-b50f-ce110570e595",
   "metadata": {},
   "outputs": [
    {
     "name": "stderr",
     "output_type": "stream",
     "text": [
      "                                                                                \r"
     ]
    },
    {
     "name": "stdout",
     "output_type": "stream",
     "text": [
      "+-------+-----------+--------------------+\n",
      "|summary|Document_id|         Description|\n",
      "+-------+-----------+--------------------+\n",
      "|  count|        300|                 300|\n",
      "|   mean|       null|                null|\n",
      "| stddev|       null|                null|\n",
      "|    min|KBDOC-00001|MeeToo 1.0 - Back...|\n",
      "|    max|KBDOC-00300|  iFruit 5A - reboot|\n",
      "+-------+-----------+--------------------+\n",
      "\n"
     ]
    }
   ],
   "source": [
    "kblists.describe().show()"
   ]
  },
  {
   "cell_type": "code",
   "execution_count": 8,
   "id": "4494d37b-87e1-4b08-8879-3c791cc6931c",
   "metadata": {},
   "outputs": [
    {
     "name": "stdout",
     "output_type": "stream",
     "text": [
      "+-----------+--------------------+\n",
      "|Document_id|         Description|\n",
      "+-----------+--------------------+\n",
      "|KBDOC-00087|Ronin Novelty Not...|\n",
      "|KBDOC-00293|Ronin S2 - Batter...|\n",
      "|KBDOC-00199|Titanic 2000 - Ch...|\n",
      "|KBDOC-00211|MeeToo 5.1 - Chan...|\n",
      "|KBDOC-00037|iFruit 2 - Change...|\n",
      "+-----------+--------------------+\n",
      "only showing top 5 rows\n",
      "\n"
     ]
    }
   ],
   "source": [
    "kblists.show(5)"
   ]
  },
  {
   "cell_type": "code",
   "execution_count": 9,
   "id": "1f96601e-8b64-46f5-93e8-a3a4c29eb51d",
   "metadata": {},
   "outputs": [],
   "source": [
    "kblists = kblists.withColumn(\"mobiles\", split(kblists[\"Description\"], \"-\")[0]).withColumn(\"Issues\", split(kblists[\"Description\"], \"-\")[1])"
   ]
  },
  {
   "cell_type": "code",
   "execution_count": 10,
   "id": "38d86d7d-cb93-4bb4-a9ed-56b5f39fca05",
   "metadata": {},
   "outputs": [],
   "source": [
    "kblists = kblists.drop(\"Description\")"
   ]
  },
  {
   "cell_type": "code",
   "execution_count": 11,
   "id": "82cdfeba-49d9-4da7-9302-c59165013ab1",
   "metadata": {},
   "outputs": [
    {
     "name": "stdout",
     "output_type": "stream",
     "text": [
      "+-----------+--------------------+--------------------+\n",
      "|Document_id|             mobiles|              Issues|\n",
      "+-----------+--------------------+--------------------+\n",
      "|KBDOC-00087|Ronin Novelty Not...|       Back up files|\n",
      "|KBDOC-00293|           Ronin S2 |        Battery Life|\n",
      "|KBDOC-00199|       Titanic 2000 | Change the phone...|\n",
      "|KBDOC-00211|         MeeToo 5.1 | Change the phone...|\n",
      "|KBDOC-00037|           iFruit 2 | Change the phone...|\n",
      "|KBDOC-00245|      Sorrento F31L |        Battery Life|\n",
      "|KBDOC-00058|         MeeToo 1.0 |              reboot|\n",
      "|KBDOC-00067|           iFruit 4 | Change the phone...|\n",
      "|KBDOC-00116|          iFruit 3A |   Transfer Contacts|\n",
      "|KBDOC-00164|       Titanic 4000 |   Transfer Contacts|\n",
      "|KBDOC-00039|           iFruit 2 |       Back up files|\n",
      "|KBDOC-00109|Ronin Novelty Not...| Change the phone...|\n",
      "|KBDOC-00273|           Ronin S4 |       Back up files|\n",
      "|KBDOC-00051|       Titanic 1000 |       Back up files|\n",
      "|KBDOC-00156|      Sorrento F30L |            overheat|\n",
      "|KBDOC-00049|       Titanic 1000 | Change the phone...|\n",
      "|KBDOC-00038|           iFruit 2 |   Transfer Contacts|\n",
      "|KBDOC-00069|           iFruit 4 |       Back up files|\n",
      "|KBDOC-00099|Ronin Novelty Not...|       Back up files|\n",
      "|KBDOC-00230|      Sorrento F33L |   Transfer Contacts|\n",
      "+-----------+--------------------+--------------------+\n",
      "only showing top 20 rows\n",
      "\n"
     ]
    }
   ],
   "source": [
    "kblists.show()"
   ]
  },
  {
   "cell_type": "code",
   "execution_count": 12,
   "id": "6d9f100e-085e-4f6b-8f1e-68b57610ef75",
   "metadata": {},
   "outputs": [],
   "source": [
    "sch_logs = StructType([\\\n",
    "                     StructField(\"IP_Address\", StringType(), True),\n",
    "                     StructField(\"placeholder\", StringType(), True),\n",
    "                     StructField(\"Timestamps\", TimestampType(), True),\n",
    "                     StructField(\"Request_method\", StringType(), True),\n",
    "                     StructField(\"URL\", StringType(), True),\n",
    "                     StructField(\"Method_type\", StringType(), True),\n",
    "                     StructField(\"Status_code\", IntegerType(), True),\n",
    "                     StructField(\"Response_size\", IntegerType(), True),\n",
    "                     StructField(\"refferrer\", StringType(), True),\n",
    "                     StructField(\"user_agent\", StringType(), True)])"
   ]
  },
  {
   "cell_type": "code",
   "execution_count": 13,
   "id": "03054158-44bf-4e1c-9daa-352082c4d7fa",
   "metadata": {},
   "outputs": [],
   "source": [
    "logs_str = spark.read.text(\"weblogs/2013-09-15.log\")"
   ]
  },
  {
   "cell_type": "code",
   "execution_count": 14,
   "id": "c6eb21e1-061e-422d-b5a3-8711b66873e0",
   "metadata": {},
   "outputs": [],
   "source": [
    "import re"
   ]
  },
  {
   "cell_type": "code",
   "execution_count": 15,
   "id": "aedd3823-702e-4957-a7c7-159e346551b0",
   "metadata": {},
   "outputs": [],
   "source": [
    "log_rdd = logs_str.rdd"
   ]
  },
  {
   "cell_type": "code",
   "execution_count": 57,
   "id": "096fa224-194f-4ca1-aa80-2f5e09622ec1",
   "metadata": {},
   "outputs": [
    {
     "name": "stderr",
     "output_type": "stream",
     "text": [
      "                                                                                \r"
     ]
    }
   ],
   "source": [
    "logs_df = spark.createDataFrame(log_rdd,[\"value\"])"
   ]
  },
  {
   "cell_type": "code",
   "execution_count": 62,
   "id": "904c2532-bc15-4c7a-adf0-c58e696bd07e",
   "metadata": {},
   "outputs": [],
   "source": [
    "df_with_columns = logs_df \\\n",
    "    .withColumn(\"ip_addr\", regexp_extract(col(\"value\"), r'\\d+\\.\\d+\\.\\d+\\.\\d+', 0).cast(StringType())) \\\n",
    "    .withColumn(\"placeholder\", regexp_extract(col(\"value\")\n",
    "    .withColumn(\"timestamp\", regexp_extract(col(\"value\"), r\"\\[(\\w+\\/\\w+\\/\\w+\\:\\d+\\:\\d+\\:\\d+\\s\\+\\d+)]\", 1)) \\\n",
    "    .withColumn(\"request_method\", regexp_extract(col(\"value\"), r'\\\"([A-Z]+)\\s\\/([^\\.]+.\\w+)\\s(\\w+\\/\\w+\\.\\w+)', 1)) \\\n",
    "    .withColumn(\"url\", regexp_extract(col(\"value\"), r'\\\"([A-Z]+)\\s\\/([^\\.]+.\\w+)\\s(\\w+\\/\\w+\\.\\w+)', 2)) \\\n",
    "    .withColumn(\"method_type\", regexp_extract(col(\"value\"), r'\\\"([A-Z]+)\\s\\/([^\\.]+.\\w+)\\s(\\w+\\/\\w+\\.\\w+)', 3)) \\\n",
    "    .withColumn(\"refferer\", regexp_extract(col(\"value\"), r'\\\"(htt\\w+\\:\\/\\/w+\\.\\w+\\.\\w+)\\\"', 1)) \\\n",
    "    .withColumn(\"user_agent\", regexp_extract(col(\"value\"), r'\\\"(L[^\\\"]+)', 1))"
   ]
  },
  {
   "cell_type": "code",
   "execution_count": null,
   "id": "efebf669-fed9-44b8-ad63-116460252989",
   "metadata": {},
   "outputs": [],
   "source": []
  }
 ],
 "metadata": {
  "kernelspec": {
   "display_name": "Python 3 (ipykernel)",
   "language": "python",
   "name": "python3"
  },
  "language_info": {
   "codemirror_mode": {
    "name": "ipython",
    "version": 3
   },
   "file_extension": ".py",
   "mimetype": "text/x-python",
   "name": "python",
   "nbconvert_exporter": "python",
   "pygments_lexer": "ipython3",
   "version": "3.9.13"
  }
 },
 "nbformat": 4,
 "nbformat_minor": 5
}
