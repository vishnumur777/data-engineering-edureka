{
 "cells": [
  {
   "cell_type": "code",
   "execution_count": 1,
   "id": "c11f835c-7607-430d-8cf7-fc841b664df7",
   "metadata": {},
   "outputs": [],
   "source": []
  },
  {
   "cell_type": "code",
   "execution_count": 13,
   "id": "0d9a0735-8554-4966-99f6-19b07a0560ce",
   "metadata": {},
   "outputs": [],
   "source": [
    "from pyspark.sql import SparkSession\n",
    "spark=SparkSession\\\n",
    "    .builder\\\n",
    "    .master('local[5]')\\\n",
    "    .appName('accumulator_sample')\\\n",
    "    .getOrCreate()"
   ]
  },
  {
   "cell_type": "code",
   "execution_count": 3,
   "id": "631d836d-2ead-4fb7-a229-61807c033986",
   "metadata": {},
   "outputs": [
    {
     "data": {
      "text/html": [
       "\n",
       "            <div>\n",
       "                <p><b>SparkSession - in-memory</b></p>\n",
       "                \n",
       "        <div>\n",
       "            <p><b>SparkContext</b></p>\n",
       "\n",
       "            <p><a href=\"http://ip-172-31-32-182.ap-south-1.compute.internal:4051\">Spark UI</a></p>\n",
       "\n",
       "            <dl>\n",
       "              <dt>Version</dt>\n",
       "                <dd><code>v3.1.2</code></dd>\n",
       "              <dt>Master</dt>\n",
       "                <dd><code>local[5]</code></dd>\n",
       "              <dt>AppName</dt>\n",
       "                <dd><code>accumulator_sample</code></dd>\n",
       "            </dl>\n",
       "        </div>\n",
       "        \n",
       "            </div>\n",
       "        "
      ],
      "text/plain": [
       "<pyspark.sql.session.SparkSession at 0x7fa1e7404370>"
      ]
     },
     "execution_count": 3,
     "metadata": {},
     "output_type": "execute_result"
    }
   ],
   "source": [
    "spark"
   ]
  },
  {
   "cell_type": "code",
   "execution_count": 4,
   "id": "5d6ea0f5-1ed0-4e5a-a5ee-0bcbc270b9e6",
   "metadata": {},
   "outputs": [],
   "source": [
    "l1=[1,2,3,54,-14,43,54]\n",
    "rdd1=spark.sparkContext.parallelize(l1)"
   ]
  },
  {
   "cell_type": "code",
   "execution_count": 5,
   "id": "fa7dc82b-dce6-4a3d-9f2a-17aa65940755",
   "metadata": {},
   "outputs": [
    {
     "name": "stderr",
     "output_type": "stream",
     "text": [
      "                                                                                \r"
     ]
    },
    {
     "data": {
      "text/plain": [
       "[1, 2, 3, 54, -14, 43, 54]"
      ]
     },
     "execution_count": 5,
     "metadata": {},
     "output_type": "execute_result"
    }
   ],
   "source": [
    "rdd1.collect()"
   ]
  },
  {
   "cell_type": "code",
   "execution_count": 6,
   "id": "273cd91b-04c1-4400-b1ad-e7777893010b",
   "metadata": {},
   "outputs": [
    {
     "data": {
      "text/plain": [
       "5"
      ]
     },
     "execution_count": 6,
     "metadata": {},
     "output_type": "execute_result"
    }
   ],
   "source": [
    "rdd1.getNumPartitions()  #depends on threads on master"
   ]
  },
  {
   "cell_type": "code",
   "execution_count": 7,
   "id": "9c8c8177-0da1-4d8e-bba0-7e4b19119b8a",
   "metadata": {},
   "outputs": [
    {
     "data": {
      "text/plain": [
       "[[1], [2], [3, 54], [-14], [43, 54]]"
      ]
     },
     "execution_count": 7,
     "metadata": {},
     "output_type": "execute_result"
    }
   ],
   "source": [
    "rdd1.glom().collect() #show how it is partitioned"
   ]
  },
  {
   "cell_type": "code",
   "execution_count": 8,
   "id": "46943b77-9269-4519-9388-45cca91d2a8c",
   "metadata": {},
   "outputs": [
    {
     "data": {
      "text/plain": [
       "143"
      ]
     },
     "execution_count": 8,
     "metadata": {},
     "output_type": "execute_result"
    }
   ],
   "source": [
    "rdd1.sum()   #internally using accumulator"
   ]
  },
  {
   "cell_type": "code",
   "execution_count": 9,
   "id": "bca2e417-c360-471a-b66e-0037eec86499",
   "metadata": {},
   "outputs": [],
   "source": [
    "cnt=spark.sparkContext.accumulator(0)"
   ]
  },
  {
   "cell_type": "code",
   "execution_count": 10,
   "id": "0de1ea6c-1b2a-4623-bc5e-4c3d43f06f01",
   "metadata": {},
   "outputs": [],
   "source": [
    "rdd1.foreach(lambda x:cnt.add(x)) #foreach is an action"
   ]
  },
  {
   "cell_type": "code",
   "execution_count": 12,
   "id": "29fb576d-823b-41bb-812e-1d2135791b55",
   "metadata": {},
   "outputs": [
    {
     "data": {
      "text/plain": [
       "143"
      ]
     },
     "execution_count": 12,
     "metadata": {},
     "output_type": "execute_result"
    }
   ],
   "source": [
    "cnt.value"
   ]
  },
  {
   "cell_type": "code",
   "execution_count": null,
   "id": "212d9b04-0d13-4ba7-bca7-77857117d6e7",
   "metadata": {},
   "outputs": [],
   "source": []
  }
 ],
 "metadata": {
  "kernelspec": {
   "display_name": "PySpark 3",
   "language": "python",
   "name": "pyspark3_env"
  },
  "language_info": {
   "codemirror_mode": {
    "name": "ipython",
    "version": 3
   },
   "file_extension": ".py",
   "mimetype": "text/x-python",
   "name": "python",
   "nbconvert_exporter": "python",
   "pygments_lexer": "ipython3",
   "version": "3.9.13"
  }
 },
 "nbformat": 4,
 "nbformat_minor": 5
}
